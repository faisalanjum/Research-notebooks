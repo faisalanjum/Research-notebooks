{
 "cells": [
  {
   "cell_type": "code",
   "execution_count": 1,
   "metadata": {},
   "outputs": [],
   "source": [
    "import pandas as pd"
   ]
  },
  {
   "cell_type": "code",
   "execution_count": 2,
   "metadata": {},
   "outputs": [],
   "source": [
    "from _fred import FRED_Client, FRED_SYMBOLS\n",
    "from _yahoo import YAHOO_Client, YAHOO_SYMBOLS"
   ]
  },
  {
   "cell_type": "code",
   "execution_count": null,
   "metadata": {},
   "outputs": [],
   "source": [
    "# , get_symbol_description, get_data"
   ]
  },
  {
   "cell_type": "code",
   "execution_count": 3,
   "metadata": {},
   "outputs": [],
   "source": [
    "fred = FRED_Client(FRED_SYMBOLS)\n",
    "yahoo = YAHOO_Client(YAHOO_SYMBOLS)"
   ]
  },
  {
   "cell_type": "code",
   "execution_count": 4,
   "metadata": {},
   "outputs": [
    {
     "name": "stderr",
     "output_type": "stream",
     "text": [
      "Downloading data from FRED:: 100%|██████████| 62/62 [00:09<00:00,  6.32it/s]"
     ]
    },
    {
     "name": "stdout",
     "output_type": "stream",
     "text": [
      "Time Taken 00:09\n"
     ]
    },
    {
     "name": "stderr",
     "output_type": "stream",
     "text": [
      "\n"
     ]
    }
   ],
   "source": [
    "economy_fred = fred.get_data(100)"
   ]
  },
  {
   "cell_type": "code",
   "execution_count": 5,
   "metadata": {},
   "outputs": [
    {
     "name": "stderr",
     "output_type": "stream",
     "text": [
      "Downloading data from YAHOO:: 100%|██████████| 14/14 [00:12<00:00,  1.15it/s]\n"
     ]
    },
    {
     "name": "stdout",
     "output_type": "stream",
     "text": [
      "Time Taken 00:12\n"
     ]
    },
    {
     "name": "stderr",
     "output_type": "stream",
     "text": [
      "Downloading descriptions for each symbol from YAHOO:: 100%|██████████| 14/14 [01:54<00:00,  8.17s/it]"
     ]
    },
    {
     "name": "stdout",
     "output_type": "stream",
     "text": [
      "Time Taken: 01:54\n"
     ]
    },
    {
     "name": "stderr",
     "output_type": "stream",
     "text": [
      "\n"
     ]
    }
   ],
   "source": [
    "data_yahoo = yahoo.get_combined_yahoo()"
   ]
  },
  {
   "cell_type": "code",
   "execution_count": 6,
   "metadata": {},
   "outputs": [
    {
     "name": "stderr",
     "output_type": "stream",
     "text": [
      "Downloading desciprions for each symbol from FRED:: 100%|██████████| 62/62 [00:09<00:00,  6.56it/s]"
     ]
    },
    {
     "name": "stdout",
     "output_type": "stream",
     "text": [
      "Time Taken: 00:09\n"
     ]
    },
    {
     "name": "stderr",
     "output_type": "stream",
     "text": [
      "\n"
     ]
    }
   ],
   "source": [
    "economy_desc = fred.get_symbol_description()"
   ]
  },
  {
   "cell_type": "code",
   "execution_count": 7,
   "metadata": {},
   "outputs": [
    {
     "data": {
      "text/plain": [
       "dict_keys(['GDP', 'GDPC1', 'GDPPOT', 'NYGDPMKTPCDWLD', 'CPIAUCSL', 'CPILFESL', 'GDPDEF', 'T10YIE', 'M1SL', 'WM1NS', 'WM2NS', 'M1V', 'M2V', 'WALCL', 'DFF', 'DTB3', 'DTB4WK', 'DGS5', 'DGS10', 'DGS30', 'FEDFUNDS', 'T5YIE', 'T5YIFR', 'TEDRATE', 'DPRIME', 'T10Y2Y', 'UNRATE', 'NROU', 'CIVPART', 'EMRATIO', 'UNEMPLOY', 'PAYEMS', 'MANEMP', 'ICSA', 'IC4WSA', 'CDSP', 'MDSP', 'FODSP', 'DSPIC96', 'PCE', 'PCEDG', 'PSAVERT', 'DSPI', 'RSXFS', 'INDPRO', 'TCU', 'HOUST', 'GPDI', 'CP', 'STLFSI2', 'DCOILWTICO', 'DTWEXAFEGS', 'DTWEXBGS', 'GFDEBTN', 'GFDEGDQ188S', 'DEXUSEU', 'GVZCLS', 'VIXCLS', 'DIVIDEND', 'MORTGAGE30US', 'SPCS20RSA'])"
      ]
     },
     "execution_count": 7,
     "metadata": {},
     "output_type": "execute_result"
    }
   ],
   "source": [
    "economy_fred.keys()"
   ]
  },
  {
   "cell_type": "code",
   "execution_count": 8,
   "metadata": {},
   "outputs": [
    {
     "data": {
      "text/plain": [
       "Index(['id', 'realtime_start', 'realtime_end', 'title', 'observation_start',\n",
       "       'observation_end', 'frequency', 'frequency_short', 'units',\n",
       "       'units_short', 'seasonal_adjustment', 'seasonal_adjustment_short',\n",
       "       'last_updated', 'popularity', 'notes'],\n",
       "      dtype='object')"
      ]
     },
     "execution_count": 8,
     "metadata": {},
     "output_type": "execute_result"
    }
   ],
   "source": [
    "economy_desc.index"
   ]
  },
  {
   "cell_type": "code",
   "execution_count": 9,
   "metadata": {},
   "outputs": [
    {
     "data": {
      "text/html": [
       "<div>\n",
       "<style scoped>\n",
       "    .dataframe tbody tr th:only-of-type {\n",
       "        vertical-align: middle;\n",
       "    }\n",
       "\n",
       "    .dataframe tbody tr th {\n",
       "        vertical-align: top;\n",
       "    }\n",
       "\n",
       "    .dataframe thead th {\n",
       "        text-align: right;\n",
       "    }\n",
       "</style>\n",
       "<table border=\"1\" class=\"dataframe\">\n",
       "  <thead>\n",
       "    <tr style=\"text-align: right;\">\n",
       "      <th></th>\n",
       "      <th>id</th>\n",
       "      <th>title</th>\n",
       "    </tr>\n",
       "  </thead>\n",
       "  <tbody>\n",
       "    <tr>\n",
       "      <th>GDP</th>\n",
       "      <td>GDP</td>\n",
       "      <td>Gross Domestic Product</td>\n",
       "    </tr>\n",
       "    <tr>\n",
       "      <th>GDPC1</th>\n",
       "      <td>GDPC1</td>\n",
       "      <td>Real Gross Domestic Product</td>\n",
       "    </tr>\n",
       "    <tr>\n",
       "      <th>GDPPOT</th>\n",
       "      <td>GDPPOT</td>\n",
       "      <td>Real Potential Gross Domestic Product</td>\n",
       "    </tr>\n",
       "    <tr>\n",
       "      <th>NYGDPMKTPCDWLD</th>\n",
       "      <td>NYGDPMKTPCDWLD</td>\n",
       "      <td>Gross Domestic Product for World</td>\n",
       "    </tr>\n",
       "    <tr>\n",
       "      <th>CPIAUCSL</th>\n",
       "      <td>CPIAUCSL</td>\n",
       "      <td>Consumer Price Index for All Urban Consumers: All Items in U.S. City Average</td>\n",
       "    </tr>\n",
       "    <tr>\n",
       "      <th>...</th>\n",
       "      <td>...</td>\n",
       "      <td>...</td>\n",
       "    </tr>\n",
       "    <tr>\n",
       "      <th>GVZCLS</th>\n",
       "      <td>GVZCLS</td>\n",
       "      <td>CBOE Gold ETF Volatility Index</td>\n",
       "    </tr>\n",
       "    <tr>\n",
       "      <th>VIXCLS</th>\n",
       "      <td>VIXCLS</td>\n",
       "      <td>CBOE Volatility Index: VIX</td>\n",
       "    </tr>\n",
       "    <tr>\n",
       "      <th>DIVIDEND</th>\n",
       "      <td>DIVIDEND</td>\n",
       "      <td>Corporate Profits after tax with IVA and CCAdj: Net Dividends</td>\n",
       "    </tr>\n",
       "    <tr>\n",
       "      <th>MORTGAGE30US</th>\n",
       "      <td>MORTGAGE30US</td>\n",
       "      <td>30-Year Fixed Rate Mortgage Average in the United States</td>\n",
       "    </tr>\n",
       "    <tr>\n",
       "      <th>SPCS20RSA</th>\n",
       "      <td>SPCS20RSA</td>\n",
       "      <td>S&amp;P/Case-Shiller 20-City Composite Home Price Index</td>\n",
       "    </tr>\n",
       "  </tbody>\n",
       "</table>\n",
       "<p>62 rows × 2 columns</p>\n",
       "</div>"
      ],
      "text/plain": [
       "                            id  \\\n",
       "GDP                        GDP   \n",
       "GDPC1                    GDPC1   \n",
       "GDPPOT                  GDPPOT   \n",
       "NYGDPMKTPCDWLD  NYGDPMKTPCDWLD   \n",
       "CPIAUCSL              CPIAUCSL   \n",
       "...                        ...   \n",
       "GVZCLS                  GVZCLS   \n",
       "VIXCLS                  VIXCLS   \n",
       "DIVIDEND              DIVIDEND   \n",
       "MORTGAGE30US      MORTGAGE30US   \n",
       "SPCS20RSA            SPCS20RSA   \n",
       "\n",
       "                                                                                       title  \n",
       "GDP                                                                   Gross Domestic Product  \n",
       "GDPC1                                                            Real Gross Domestic Product  \n",
       "GDPPOT                                                 Real Potential Gross Domestic Product  \n",
       "NYGDPMKTPCDWLD                                              Gross Domestic Product for World  \n",
       "CPIAUCSL        Consumer Price Index for All Urban Consumers: All Items in U.S. City Average  \n",
       "...                                                                                      ...  \n",
       "GVZCLS                                                        CBOE Gold ETF Volatility Index  \n",
       "VIXCLS                                                            CBOE Volatility Index: VIX  \n",
       "DIVIDEND                       Corporate Profits after tax with IVA and CCAdj: Net Dividends  \n",
       "MORTGAGE30US                        30-Year Fixed Rate Mortgage Average in the United States  \n",
       "SPCS20RSA                                S&P/Case-Shiller 20-City Composite Home Price Index  \n",
       "\n",
       "[62 rows x 2 columns]"
      ]
     },
     "execution_count": 9,
     "metadata": {},
     "output_type": "execute_result"
    }
   ],
   "source": [
    "pd.set_option('display.max_colwidth', None)\n",
    "economy_desc.loc[['id','title']].T"
   ]
  },
  {
   "cell_type": "code",
   "execution_count": 12,
   "metadata": {},
   "outputs": [
    {
     "data": {
      "text/plain": [
       "'Daily'"
      ]
     },
     "execution_count": 12,
     "metadata": {},
     "output_type": "execute_result"
    }
   ],
   "source": [
    "economy_desc['DTB3']['frequency']"
   ]
  },
  {
   "cell_type": "code",
   "execution_count": null,
   "metadata": {},
   "outputs": [],
   "source": [
    "economy_fred['DTB3'][15500:].plot()"
   ]
  },
  {
   "cell_type": "code",
   "execution_count": null,
   "metadata": {},
   "outputs": [],
   "source": [
    "economy_fred['DTB3'].plot(figsize=(20,5))"
   ]
  },
  {
   "cell_type": "code",
   "execution_count": 18,
   "metadata": {},
   "outputs": [],
   "source": [
    "# path ='\\\\VSYS-P-GW01.cloud.vsys.ca/RDFolderRedirect$/fanjum_cwp/Desktop/Economy.xlsx'\n",
    "# file  = 'Economy.xlsx'\n",
    "# economy_fred['GDP'].to_excel('GDP.xlsx')\n",
    "# economy_fred['WALCL'].to_excel('WALCL.xlsx')\n",
    "# economy_fred['CPIAUCSL'].to_excel('CPIAUCSL.xlsx')\n",
    "# economy_fred['TCU'].to_excel('TCU.xlsx')\n",
    "# economy_fred['DGS10'].to_excel('DGS10.xlsx')\n",
    "# data_yahoo['CL=F'].to_excel('CL=F.xlsx')\n",
    "economy_fred['FEDFUNDS'].to_excel('FEDFUNDS.xlsx')"
   ]
  },
  {
   "cell_type": "code",
   "execution_count": null,
   "metadata": {},
   "outputs": [],
   "source": [
    "# economy_desc['WALCL']\n",
    "# economy_fred['CPIAUCSL'][800:].plot(figsize=(20,5));\n",
    "# economy_fred['DTB4WK'][4930:].plot(figsize=(20,5))\n",
    "# economy_fred['DGS10'][15030:].plot(figsize=(20,5))\n"
   ]
  },
  {
   "cell_type": "code",
   "execution_count": 17,
   "metadata": {},
   "outputs": [
    {
     "data": {
      "image/png": "[encoded data removed]",
      "text/plain": [
       "<Figure size 1440x360 with 1 Axes>"
      ]
     },
     "metadata": {
      "needs_background": "light"
     },
     "output_type": "display_data"
    }
   ],
   "source": [
    "economy_fred['FEDFUNDS'][770:].plot(figsize=(20,5));"
   ]
  },
  {
   "cell_type": "code",
   "execution_count": 11,
   "metadata": {},
   "outputs": [
    {
     "data": {
      "text/plain": [
       "date\n",
       "2022-05-25    110.739998\n",
       "2022-05-24    109.769997\n",
       "2022-05-23    110.290001\n",
       "2022-05-22           NaN\n",
       "2022-05-20    113.230003\n",
       "                 ...    \n",
       "1987-05-29           NaN\n",
       "1987-05-28           NaN\n",
       "1987-05-27           NaN\n",
       "1987-05-26           NaN\n",
       "1987-05-25           NaN\n",
       "Name: CL=F, Length: 9667, dtype: float64"
      ]
     },
     "execution_count": 11,
     "metadata": {},
     "output_type": "execute_result"
    }
   ],
   "source": [
    "data_yahoo['CL=F']"
   ]
  },
  {
   "cell_type": "code",
   "execution_count": null,
   "metadata": {},
   "outputs": [],
   "source": []
  }
 ],
 "metadata": {
  "interpreter": {
   "hash": "76ed5d48e058170b27340c105dd5e7527dd13aa6b3ab779e1e670a0e63feffe0"
  },
  "kernelspec": {
   "display_name": "Python 3.10.2 ('venv': venv)",
   "language": "python",
   "name": "python3"
  },
  "language_info": {
   "codemirror_mode": {
    "name": "ipython",
    "version": 3
   },
   "file_extension": ".py",
   "mimetype": "text/x-python",
   "name": "python",
   "nbconvert_exporter": "python",
   "pygments_lexer": "ipython3",
   "version": "3.10.2"
  },
  "orig_nbformat": 4
 },
 "nbformat": 4,
 "nbformat_minor": 2
}
