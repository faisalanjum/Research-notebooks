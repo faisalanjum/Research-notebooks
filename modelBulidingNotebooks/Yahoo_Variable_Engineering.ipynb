{
 "cells": [
  {
   "cell_type": "code",
   "execution_count": 1,
   "metadata": {},
   "outputs": [
    {
     "name": "stderr",
     "output_type": "stream",
     "text": [
      "Getting data from CWP database & excel files::  33%|███▎      | 1/3 [00:04<00:08,  4.32s/it]"
     ]
    },
    {
     "name": "stdout",
     "output_type": "stream",
     "text": [
      "Time Taken for Contract:1 00:04\n"
     ]
    },
    {
     "name": "stderr",
     "output_type": "stream",
     "text": [
      "Getting data from CWP database & excel files::  67%|██████▋   | 2/3 [00:07<00:03,  3.58s/it]"
     ]
    },
    {
     "name": "stdout",
     "output_type": "stream",
     "text": [
      "Time Taken for Contract:2 00:07\n"
     ]
    },
    {
     "name": "stderr",
     "output_type": "stream",
     "text": [
      "Getting data from CWP database & excel files:: 100%|██████████| 3/3 [00:10<00:00,  3.43s/it]"
     ]
    },
    {
     "name": "stdout",
     "output_type": "stream",
     "text": [
      "Time Taken for Contract:3 00:10\n"
     ]
    },
    {
     "name": "stderr",
     "output_type": "stream",
     "text": [
      "\n"
     ]
    }
   ],
   "source": [
    "# Takes 3 minutes to run\n",
    "import warnings\n",
    "warnings.filterwarnings('ignore')\n",
    "from support._model_build_func import *"
   ]
  },
  {
   "cell_type": "code",
   "execution_count": 3,
   "metadata": {},
   "outputs": [
    {
     "data": {
      "text/plain": [
       "(2660, 2660, (2660, 763), (2660, 7))"
      ]
     },
     "execution_count": 3,
     "metadata": {},
     "output_type": "execute_result"
    }
   ],
   "source": [
    "Variables =  Variables_.copy(deep=True)\n",
    "# Response = Response_.copy(deep=True)\n",
    "Variables_midx = Variables_midx_.copy(deep=True)\n",
    "last_valid_loc = last_valid_loc_.copy(deep=True)\n",
    "Variables_with_nans = Variables_with_nans_\n",
    "\n",
    "len(Variables), Variables.shape\n",
    "# len(Response),  Response.shape"
   ]
  },
  {
   "cell_type": "code",
   "execution_count": 4,
   "metadata": {},
   "outputs": [],
   "source": [
    "from statsmodels.graphics.tsaplots import plot_acf\n",
    "import statsmodels.api as sm\n",
    "\n",
    "yahoo_list = ['Yahoo GSPC','Yahoo XHB','Yahoo XTN','Yahoo USDCADX','Yahoo GCF','Yahoo HGF','Yahoo CLF','Yahoo GCCIX','Yahoo LBSF','Yahoo RFP','Yahoo WFG','Yahoo IFPTO','Yahoo WY','Yahoo CFPTO']\n",
    "var2 = \"LumberOHLCV LBAdjClose\"\n",
    "\n",
    "def get_rolling_corr(df1,var1,window):\n",
    "    df = df1.copy(deep=True)\n",
    "    df.sort_index(ascending=True,inplace=True)\n",
    "    df =  df[var1].rolling(window=window).corr(Variables['LumberOHLCV LBAdjClose'])\n",
    "    return df.sort_index(ascending=False)\n",
    "\n",
    "def add_yahoo_index(yahoo_list,var2):\n",
    "    Variables.sort_index(ascending=False, inplace=True)\n",
    "    # Response.sort_index(ascending=False, inplace=True)\n",
    "    final_df = Variables[yahoo_list].copy(deep=True)\n",
    "    price_corr = {}\n",
    "    for var1 in yahoo_list:\n",
    "        price_corr[var1] = Variables[var1].corr(Variables[var2])\n",
    "        # print(var1,\":\",Variables[var1].corr(Response[var2]))\n",
    "    CorrwithLumber_df = pd.DataFrame.from_dict(price_corr, orient='index', columns=['CorrwithLumberPrice']).sort_values(by='CorrwithLumberPrice',ascending=False)\n",
    "\n",
    "    final_variable_list = CorrwithLumber_df[CorrwithLumber_df.CorrwithLumberPrice > 0.70].CorrwithLumberPrice.index.tolist()\n",
    "    final_df = Variables[final_variable_list].copy(deep=True)\n",
    "\n",
    "    rolling_df = pd.DataFrame(index = Variables.index)\n",
    "    for var in final_variable_list:\n",
    "        feat_name = var+\"_ret\"\n",
    "        rolling_df = pd.concat([rolling_df,pd.DataFrame(get_rolling_corr(final_df,var,5), columns=[var])],axis=1)\n",
    "        \n",
    "    # Need to add both identical lines - else doesn't work?\n",
    "    rolling_df = rolling_df.replace([np.inf, -np.inf], np.nan).fillna(rolling_df.median())\n",
    "    rolling_df = rolling_df.replace([np.inf, -np.inf], np.nan).fillna(rolling_df.median())\n",
    "\n",
    "\n",
    "    pacf_dict = {}\n",
    "    for var in final_variable_list:\n",
    "        data = rolling_df[var].dropna().values\n",
    "        acf, ci = sm.tsa.acf(data, alpha=0.05)\n",
    "        pacf, ci = sm.tsa.pacf(data, alpha=0.05)\n",
    "        pacf_dict[var] = pacf[1]   \n",
    "        # pacf_dict[var] = acf[1]\n",
    "\n",
    "    pacf_df = pd.DataFrame.from_dict(pacf_dict, orient='index', columns=['PACF'])\n",
    "\n",
    "    rolling_df_auto = rolling_df.copy(deep=True)\n",
    "    for var in final_variable_list:\n",
    "        rolling_df[var] = rolling_df[var] * pacf_df.loc[var].values[0]\n",
    "\n",
    "    # Dropping Yahoo LBSF from both\n",
    "    rolling_df_auto.drop(rolling_df_auto.columns[0],axis=1, inplace=True)\n",
    "    returns_df.drop(returns_df.columns[0],axis=1, inplace=True)\n",
    "\n",
    "    YahooIndex = pd.DataFrame(data= np.diag(returns_df.dot(rolling_df_auto.T)), index = returns_df.index,columns = ['YahooIndex'])\n",
    "    \n",
    "    return YahooIndex\n",
    "    "
   ]
  },
  {
   "cell_type": "code",
   "execution_count": null,
   "metadata": {},
   "outputs": [],
   "source": [
    "Variables.sort_index(ascending=False, inplace=True)\n",
    "# Response.sort_index(ascending=False, inplace=True)"
   ]
  },
  {
   "cell_type": "code",
   "execution_count": null,
   "metadata": {},
   "outputs": [],
   "source": [
    "# Response[\"LB_Adj_Close\"].head(5)\n",
    "# Variables[\"LumberOHLCV LBAdjClose\"].sort_index(ascending=False).head(5)\n",
    "yahoo_list = ['Yahoo GSPC','Yahoo XHB','Yahoo XTN','Yahoo USDCADX','Yahoo GCF','Yahoo HGF','Yahoo CLF','Yahoo GCCIX','Yahoo LBSF','Yahoo RFP','Yahoo WFG','Yahoo IFPTO','Yahoo WY','Yahoo CFPTO']"
   ]
  },
  {
   "cell_type": "code",
   "execution_count": null,
   "metadata": {},
   "outputs": [],
   "source": [
    "final_df = Variables[yahoo_list]\n",
    "final_df.head(2)"
   ]
  },
  {
   "cell_type": "markdown",
   "metadata": {},
   "source": [
    "Price Correlations (Lagged series with Lumber Adj close price)"
   ]
  },
  {
   "cell_type": "code",
   "execution_count": null,
   "metadata": {},
   "outputs": [],
   "source": [
    "var2 = \"LumberOHLCV LBAdjClose\"\n",
    "price_corr = {}\n",
    "for var1 in yahoo_list:\n",
    "    price_corr[var1] = Variables[var1].corr(Variables[var2])\n",
    "    # print(var1,\":\",Variables[var1].corr(Response[var2]))\n",
    "CorrwithLumber_df = pd.DataFrame.from_dict(price_corr, orient='index', columns=['CorrwithLumberPrice']).sort_values(by='CorrwithLumberPrice',ascending=False)\n",
    "CorrwithLumber_df"
   ]
  },
  {
   "cell_type": "markdown",
   "metadata": {},
   "source": [
    "### Only selection Variables with correlatio above 70%"
   ]
  },
  {
   "cell_type": "code",
   "execution_count": null,
   "metadata": {},
   "outputs": [],
   "source": [
    "\n",
    "final_variable_list = CorrwithLumber_df[CorrwithLumber_df.CorrwithLumberPrice > 0.70].CorrwithLumberPrice.index.tolist()\n",
    "final_df = Variables[final_variable_list]\n",
    "final_df.head(2)"
   ]
  },
  {
   "cell_type": "markdown",
   "metadata": {},
   "source": [
    "What percentage of times both the lagged variable (eg. S&P) and Lumber were up or down together?"
   ]
  },
  {
   "cell_type": "code",
   "execution_count": null,
   "metadata": {},
   "outputs": [],
   "source": [
    "var2 =\"Adj_Close_ret\"\n",
    "returns_df = pd.DataFrame(index = Variables.index)\n",
    "for var in final_variable_list:\n",
    "    \n",
    "    feat_name = var+\"_ret\"\n",
    "    returns_df = pd.concat([returns_df,pd.DataFrame((np.log(Variables) - np.log(Variables.shift(-1)))[var])],axis=1)\n",
    "    returns_df = Variables[var].copy(deep=True)\n",
    "    # returns_df = pd.concat([returns_df,pd.DataFrame(Variables[var].pct_change())],axis=1)\n",
    "    print(var,\"\",round((np.where([returns_df[var]>0],1,0) == np.where(Response['Adj_Close_ret']>0,1,0)).astype(int).sum()/len(Variables),4)*100)"
   ]
  },
  {
   "cell_type": "code",
   "execution_count": null,
   "metadata": {},
   "outputs": [],
   "source": [
    "returns_df.shape"
   ]
  },
  {
   "cell_type": "code",
   "execution_count": null,
   "metadata": {},
   "outputs": [],
   "source": [
    "# pd.concat([returns_df['Yahoo XTN'],Response.Adj_Close_ret],axis=1).iloc[:10]\n",
    "# l = (np.where([returns_df[var]>0],1,0) == np.where(Response['Adj_Close_ret']>0,1,0)).tolist()"
   ]
  },
  {
   "cell_type": "code",
   "execution_count": null,
   "metadata": {},
   "outputs": [],
   "source": [
    "corr =  returns_df.corr()\n",
    "corr.style.background_gradient(cmap='coolwarm')\n"
   ]
  },
  {
   "cell_type": "code",
   "execution_count": null,
   "metadata": {},
   "outputs": [],
   "source": [
    "def get_rolling_corr(df1,var1,window):\n",
    "    df = df1.copy(deep=True)\n",
    "    df.sort_index(ascending=True,inplace=True)\n",
    "    df =  df[var1].rolling(window=window).corr(Variables['LumberOHLCV LBAdjClose'])\n",
    "    return df.sort_index(ascending=False)"
   ]
  },
  {
   "cell_type": "code",
   "execution_count": null,
   "metadata": {},
   "outputs": [],
   "source": [
    "final_df.shape"
   ]
  },
  {
   "cell_type": "code",
   "execution_count": null,
   "metadata": {},
   "outputs": [],
   "source": [
    "rolling_df = pd.DataFrame(index = Variables.index)\n",
    "for var in final_variable_list:\n",
    "    feat_name = var+\"_ret\"\n",
    "    rolling_df = pd.concat([rolling_df,pd.DataFrame(get_rolling_corr(final_df,var,5), columns=[var])],axis=1)\n",
    "    \n",
    "# Need to add both identical lines - else doesn't work?\n",
    "rolling_df = rolling_df.replace([np.inf, -np.inf], np.nan).fillna(rolling_df.median())\n",
    "rolling_df = rolling_df.replace([np.inf, -np.inf], np.nan).fillna(rolling_df.median())\n",
    "print(rolling_df.shape)\n",
    "rolling_df"
   ]
  },
  {
   "cell_type": "markdown",
   "metadata": {},
   "source": [
    "### Calculating Partial Autocorrelation of Rolling df"
   ]
  },
  {
   "cell_type": "code",
   "execution_count": null,
   "metadata": {},
   "outputs": [],
   "source": [
    "from statsmodels.graphics.tsaplots import plot_acf\n",
    "import statsmodels.api as sm\n",
    "pacf_dict = {}\n",
    "for var in final_variable_list:\n",
    "    data = rolling_df[var].dropna().values\n",
    "    acf, ci = sm.tsa.acf(data, alpha=0.05)\n",
    "    pacf, ci = sm.tsa.pacf(data, alpha=0.05)\n",
    "    pacf_dict[var] = pacf[1]   \n",
    "    # pacf_dict[var] = acf[1]\n",
    "\n",
    "pacf_df = pd.DataFrame.from_dict(pacf_dict, orient='index', columns=['PACF'])\n",
    "pacf_df.T"
   ]
  },
  {
   "cell_type": "markdown",
   "metadata": {},
   "source": [
    ". Yahoo XHB - SPDR S&P Homebuilders ETF   \n",
    ". Yahoo GSPC - S&P 500          \n",
    ". Yahoo WFG - West Fraser Timber Co. Ltd.           \n",
    ". Yahoo XTN - SPDR S&P Transportation ETF           \n",
    ". Yahoo IFPTO - Interfor Corporation\n"
   ]
  },
  {
   "cell_type": "markdown",
   "metadata": {},
   "source": [
    "### Multiplying all rolling correlations with respective partial autocorrelations"
   ]
  },
  {
   "cell_type": "code",
   "execution_count": null,
   "metadata": {},
   "outputs": [],
   "source": [
    "rolling_df_auto = rolling_df.copy(deep=True)\n",
    "for var in final_variable_list:\n",
    "    rolling_df[var] = rolling_df[var] * pacf_df.loc[var].values[0]\n",
    "rolling_df_auto.head(2)"
   ]
  },
  {
   "cell_type": "code",
   "execution_count": null,
   "metadata": {},
   "outputs": [],
   "source": [
    "# Dropping Yahoo LBSF from both\n",
    "rolling_df_auto.drop(rolling_df_auto.columns[0],axis=1, inplace=True)\n",
    "returns_df.drop(returns_df.columns[0],axis=1, inplace=True)\n",
    "\n",
    "YahooIndex = pd.DataFrame(data= np.diag(returns_df.dot(rolling_df_auto.T)), index = returns_df.index,columns = ['YahooIndex'])\n",
    "YahooIndex.head(2).append(YahooIndex.tail(2))"
   ]
  },
  {
   "cell_type": "code",
   "execution_count": null,
   "metadata": {},
   "outputs": [],
   "source": [
    "Variables['YahooIndex'] = YahooIndex['YahooIndex']"
   ]
  },
  {
   "cell_type": "code",
   "execution_count": null,
   "metadata": {},
   "outputs": [],
   "source": [
    "Variables.head(2)"
   ]
  },
  {
   "cell_type": "code",
   "execution_count": null,
   "metadata": {},
   "outputs": [],
   "source": [
    "import pandas as pd \n",
    "import numpy as np\n",
    "import matplotlib.pyplot as plt\n",
    "from sklearn.decomposition import PCA\n",
    "from sklearn.preprocessing import StandardScaler\n",
    "%matplotlib inline"
   ]
  },
  {
   "cell_type": "code",
   "execution_count": null,
   "metadata": {},
   "outputs": [],
   "source": [
    "Variables"
   ]
  },
  {
   "cell_type": "code",
   "execution_count": null,
   "metadata": {},
   "outputs": [],
   "source": [
    "w = 3\n",
    "s=Variables\n",
    "[[*s.index[i : i + w]] for i in range(len(s) - w + 1)]"
   ]
  },
  {
   "cell_type": "code",
   "execution_count": null,
   "metadata": {},
   "outputs": [],
   "source": [
    "returns_df.replace(np.nan, 0, inplace=True)\n",
    "Yahoo_matrix = returns_df.dot(rolling_df_auto.T).replace(np.nan,0)\n",
    "x = StandardScaler().fit_transform(Yahoo_matrix)\n",
    "# x = rolling_df\n",
    "# y = StandardScaler().fit_transform(lumber_df_ln)\n",
    "Target = pd.DataFrame(['+ve' if i > 0 else '-ve' if i < 0 else '0' for i in Response.Adj_Close_ret.values])"
   ]
  },
  {
   "cell_type": "code",
   "execution_count": null,
   "metadata": {},
   "outputs": [],
   "source": [
    "pca = PCA(n_components=3)\n",
    "principalComponents = pca.fit_transform(x)\n",
    "\n",
    "principalDf = pd.DataFrame(data = principalComponents\n",
    "             , columns = ['principal component 1', 'principal component 2','principal component 3'])"
   ]
  },
  {
   "cell_type": "code",
   "execution_count": null,
   "metadata": {},
   "outputs": [],
   "source": [
    "finalDf = pd.concat([principalDf, Target], axis = 1)\n",
    "finalDf.columns = ['principal component 1', 'principal component 2','principal component 3', 'Target']\n",
    "finalDf.head(5)"
   ]
  },
  {
   "cell_type": "code",
   "execution_count": null,
   "metadata": {},
   "outputs": [],
   "source": [
    "fig = plt.figure(figsize = (8,8))\n",
    "ax = fig.add_subplot(1,1,1) \n",
    "ax.set_xlabel('Principal Component 1', fontsize = 15)\n",
    "ax.set_ylabel('Principal Component 2', fontsize = 15)\n",
    "ax.set_title('2 Component PCA', fontsize = 20)\n",
    "\n",
    "targets = ['+ve', '-ve', '0']\n",
    "colors = ['r', 'g', 'b']\n",
    "for target, color in zip(targets,colors):\n",
    "    indicesToKeep = finalDf['Target'] == target\n",
    "    ax.scatter(finalDf.loc[indicesToKeep, 'principal component 1'], finalDf.loc[indicesToKeep, 'principal component 2'], c = color, s = 50)\n",
    "ax.legend(targets)\n",
    "ax.grid()"
   ]
  },
  {
   "cell_type": "code",
   "execution_count": null,
   "metadata": {},
   "outputs": [],
   "source": [
    "from mpl_toolkits import mplot3d\n",
    "%matplotlib inline\n",
    "import numpy as np\n",
    "import matplotlib.pyplot as plt\n",
    "fig = plt.figure(figsize = (8,8))\n",
    "ax = plt.axes(projection='3d')\n",
    "\n",
    "ax.set_xlabel('Principal Component 1', fontsize = 15)\n",
    "ax.set_ylabel('Principal Component 2', fontsize = 15)\n",
    "ax.set_zlabel('Principal Component 3', fontsize = 15)\n",
    "ax.set_title('3 Component PCA', fontsize = 20)\n",
    "\n",
    "targets = ['+ve', '-ve', '0']\n",
    "colors = ['r', 'g', 'b']\n",
    "for target, color in zip(targets,colors):\n",
    "    indicesToKeep = finalDf['Target'] == target\n",
    "    ax.scatter3D(finalDf.loc[indicesToKeep, 'principal component 1'], finalDf.loc[indicesToKeep, 'principal component 2'], finalDf.loc[indicesToKeep, 'principal component 3'], c = color, s = 50)\n",
    "ax.legend(targets)\n",
    "ax.grid()\n"
   ]
  },
  {
   "cell_type": "code",
   "execution_count": null,
   "metadata": {},
   "outputs": [],
   "source": [
    "np.corrcoef(finalDf['principal component 1'].values, Response.Adj_Close_ret.values)"
   ]
  },
  {
   "cell_type": "code",
   "execution_count": null,
   "metadata": {},
   "outputs": [],
   "source": [
    "final_df"
   ]
  },
  {
   "cell_type": "code",
   "execution_count": null,
   "metadata": {},
   "outputs": [],
   "source": [
    "finalDf['principal component 1'].dropna()"
   ]
  },
  {
   "cell_type": "code",
   "execution_count": null,
   "metadata": {},
   "outputs": [],
   "source": [
    "lumber_df.pct_change(-1).reset_index().drop('dt',axis=1)"
   ]
  },
  {
   "cell_type": "code",
   "execution_count": null,
   "metadata": {},
   "outputs": [],
   "source": [
    "pd.concat([lumber_df.pct_change(-1).reset_index().drop('dt',axis=1),finalDf['principal component 1'].dropna()],axis=1).dropna().corr()"
   ]
  },
  {
   "cell_type": "code",
   "execution_count": null,
   "metadata": {},
   "outputs": [],
   "source": [
    "pd.concat([lumber_df.pct_change(-1).reset_index().drop('dt',axis=1),finalDf['principal component 2'].dropna()],axis=1).dropna().corr()"
   ]
  },
  {
   "cell_type": "code",
   "execution_count": null,
   "metadata": {},
   "outputs": [],
   "source": [
    "pd.concat([lumber_df.pct_change(-1).reset_index().drop('dt',axis=1),finalDf['principal component 3'].dropna()],axis=1).dropna().corr()"
   ]
  },
  {
   "cell_type": "code",
   "execution_count": null,
   "metadata": {},
   "outputs": [],
   "source": [
    "0.044997*100"
   ]
  },
  {
   "cell_type": "code",
   "execution_count": null,
   "metadata": {},
   "outputs": [],
   "source": []
  }
 ],
 "metadata": {
  "kernelspec": {
   "display_name": "Python 3.10.2 ('venv': venv)",
   "language": "python",
   "name": "python3"
  },
  "language_info": {
   "codemirror_mode": {
    "name": "ipython",
    "version": 3
   },
   "file_extension": ".py",
   "mimetype": "text/x-python",
   "name": "python",
   "nbconvert_exporter": "python",
   "pygments_lexer": "ipython3",
   "version": "3.10.2"
  },
  "orig_nbformat": 4,
  "vscode": {
   "interpreter": {
    "hash": "9eb9c96fed710fe9dada78272350486042af0b6656758f44a31a73971bfdb127"
   }
  }
 },
 "nbformat": 4,
 "nbformat_minor": 2
}
