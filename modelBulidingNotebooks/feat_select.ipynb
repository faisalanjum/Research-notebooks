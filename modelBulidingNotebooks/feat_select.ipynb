{
 "cells": [
  {
   "cell_type": "markdown",
   "metadata": {},
   "source": [
    "### TODO\n",
    "0. For Feature Selection, we fit only on X and it fits only on Train Data - The scoring functions are however based on Time Series CV splits (which first fits the data on Train indices and then scores on Test Indices)\n",
    "1. sample_weights - If we want to use strategy P&L as score, we can't assign maximum weights to \"0\" values in sample_weights\n",
    "2. Outlier Detection & removal\n",
    "3. Imputation\n",
    "4. Create Score function - P&L - Based on Long Short position, position size and % return\n",
    "5. Rectify Class Imbalance \n",
    "6. F1_score weighted looks odd - even when both precision_weighted and recall_weighted is lower, f1_weighed is higher?\n",
    "7. Check each number in features_df!\n",
    "8. If we put returns as Sample weights, he model will ignore all rows where returns equals 0 and that class will be under represented - Look at class_weight and sample_weight - However, if we do # 1, then sample_weights no longer reflect P&L and we want our score function to represent that\n",
    "\n",
    "\n",
    "** Not able to pass sample_weight to transformation fit function"
   ]
  },
  {
   "cell_type": "markdown",
   "metadata": {},
   "source": [
    "**autoreload script**"
   ]
  },
  {
   "cell_type": "code",
   "execution_count": 64,
   "metadata": {},
   "outputs": [
    {
     "name": "stderr",
     "output_type": "stream",
     "text": [
      "Getting data from CWP database & excel files::  33%|███▎      | 1/3 [00:04<00:08,  4.02s/it]"
     ]
    },
    {
     "name": "stdout",
     "output_type": "stream",
     "text": [
      "Time Taken for Contract:1 00:04\n"
     ]
    },
    {
     "name": "stderr",
     "output_type": "stream",
     "text": [
      "Getting data from CWP database & excel files::  67%|██████▋   | 2/3 [00:07<00:03,  3.41s/it]"
     ]
    },
    {
     "name": "stdout",
     "output_type": "stream",
     "text": [
      "Time Taken for Contract:2 00:07\n"
     ]
    },
    {
     "name": "stderr",
     "output_type": "stream",
     "text": [
      "Getting data from CWP database & excel files:: 100%|██████████| 3/3 [00:09<00:00,  3.27s/it]"
     ]
    },
    {
     "name": "stdout",
     "output_type": "stream",
     "text": [
      "Time Taken for Contract:3 00:09\n"
     ]
    },
    {
     "name": "stderr",
     "output_type": "stream",
     "text": [
      "\n"
     ]
    },
    {
     "name": "stdout",
     "output_type": "stream",
     "text": [
      "Labels\n",
      " 0        1161\n",
      " 1         782\n",
      "-1         739\n",
      "dtype: int64\n"
     ]
    },
    {
     "name": "stderr",
     "output_type": "stream",
     "text": [
      "Getting data from CWP database & excel files::  33%|███▎      | 1/3 [00:03<00:06,  3.43s/it]"
     ]
    },
    {
     "name": "stdout",
     "output_type": "stream",
     "text": [
      "Time Taken for Contract:1 00:03\n"
     ]
    },
    {
     "name": "stderr",
     "output_type": "stream",
     "text": [
      "Getting data from CWP database & excel files::  67%|██████▋   | 2/3 [00:06<00:03,  3.24s/it]"
     ]
    },
    {
     "name": "stdout",
     "output_type": "stream",
     "text": [
      "Time Taken for Contract:2 00:06\n"
     ]
    },
    {
     "name": "stderr",
     "output_type": "stream",
     "text": [
      "Getting data from CWP database & excel files:: 100%|██████████| 3/3 [00:09<00:00,  3.18s/it]"
     ]
    },
    {
     "name": "stdout",
     "output_type": "stream",
     "text": [
      "Time Taken for Contract:3 00:09\n"
     ]
    },
    {
     "name": "stderr",
     "output_type": "stream",
     "text": [
      "\n"
     ]
    },
    {
     "name": "stdout",
     "output_type": "stream",
     "text": [
      "Labels\n",
      " 0        1161\n",
      " 1         782\n",
      "-1         739\n",
      "dtype: int64\n"
     ]
    },
    {
     "data": {
      "image/png": "[encoded data removed]",
      "text/plain": [
       "<Figure size 432x288 with 1 Axes>"
      ]
     },
     "metadata": {
      "needs_background": "light"
     },
     "output_type": "display_data"
    }
   ],
   "source": [
    "# %reload_ext autoreload\n",
    "# %autoreload 2\n",
    "\n",
    "# import _model_build_func\n",
    "# import importlib\n",
    "# importlib.reload(_model_build_func)\n",
    "# from _model_build_func import *"
   ]
  },
  {
   "cell_type": "markdown",
   "metadata": {},
   "source": [
    "**Functions List**\n",
    "1. metrics_from_cm(cm, lab = sorted(Response['Labels'].unique()))  - return df          \n",
    "2. predictions_from_custom_cross_val(model,X, y, custom_cv = BlockingTimeSeriesSplit(n_splits=5), sampled_weights=False) - returns original, predicted\n",
    "3. probabilities_from_custom_cross_val(model,X, y, custom_cv = BlockingTimeSeriesSplit(n_splits=5), sampled_weights=False) - returns original, predicted_proba\n"
   ]
  },
  {
   "cell_type": "code",
   "execution_count": 65,
   "metadata": {},
   "outputs": [],
   "source": [
    "# Takes 3.30 minutes to run\n",
    "import warnings\n",
    "warnings.filterwarnings('ignore')\n",
    "from support._model_build_func import *\n"
   ]
  },
  {
   "cell_type": "markdown",
   "metadata": {},
   "source": [
    "### Steps in Getting Processed Data"
   ]
  },
  {
   "cell_type": "markdown",
   "metadata": {},
   "source": [
    "1. Get Raw data from Excel\n",
    "2. Imputing Values for missing values - Backfilling and then frontfilling Variables DataFrame, and filling zeros with Median? - Check if it makes sense\n",
    "3. Adding Date Features\n",
    "4. Adding Technical Indicator Features\n",
    "5. Replacing punctuation strings in column names\n",
    "6. Finding Last Available Date for each column\n",
    "7. For now using custom based method - but change it eventually with KNN (or Multivariate) Imputation etc.- # Takes 35 secounds to run\n",
    "8. Remove Variables with all NaNs\n",
    "9. Change Bool cols (mostly date columns such as Is_year_end etc.) to int columns\n",
    "10. Winsorzing/Capping ['Adj_ret_2', 'Close_ret'] - **Instead of capping Adj_ret_2/Close_ret - try to figure out why we see abnormal returns such as -40% and +27%** - We don't now since using different adjustment methods"
   ]
  },
  {
   "cell_type": "code",
   "execution_count": 292,
   "metadata": {},
   "outputs": [
    {
     "data": {
      "text/plain": [
       "(2682, 2682, (2682, 725), (2682, 8))"
      ]
     },
     "execution_count": 292,
     "metadata": {},
     "output_type": "execute_result"
    }
   ],
   "source": [
    "Variables = Variables_.copy(deep=True)\n",
    "Response = Response_.copy(deep=True)\n",
    "Variables_midx = Variables_midx_.copy(deep=True)\n",
    "last_valid_loc = last_valid_loc_.copy(deep=True)\n",
    "Variables_with_nans = Variables_with_nans_\n",
    "\n",
    "len(Variables), len(Response), Variables.shape, Response.shape"
   ]
  },
  {
   "cell_type": "markdown",
   "metadata": {},
   "source": [
    "### MultiClassification Targets - Choose between 3 or 5 classes"
   ]
  },
  {
   "cell_type": "code",
   "execution_count": 67,
   "metadata": {},
   "outputs": [
    {
     "data": {
      "text/plain": [
       "(0.1037625697130806, -0.09252264990408168, 1670.5, 216.2)"
      ]
     },
     "execution_count": 67,
     "metadata": {},
     "output_type": "execute_result"
    }
   ],
   "source": [
    "Response.Adj_ret_3.max(), Response.Adj_ret_3.min(), Response.Close_3.max(), Response.Close_3.min()\n",
    "# Response.iloc[Response.Close_3.argmax()], Response.iloc[Response.Close_3.argmin()]"
   ]
  },
  {
   "cell_type": "markdown",
   "metadata": {},
   "source": [
    "### Change Sample weights\n",
    "###### If you pull it from model_build_func.py, it runs everything so takes long time"
   ]
  },
  {
   "cell_type": "code",
   "execution_count": null,
   "metadata": {},
   "outputs": [],
   "source": [
    "\n",
    "# choices 0,1,2 or\n",
    "def assign_weights(Response,col = 'Adj_ret_3',choice=0):\n",
    "\n",
    "    # Weights based on returns\n",
    "    sample_weights = 1 + np.abs(Response[col].values)\n",
    "    Response['sample_weights'] = sample_weights   \n",
    "\n",
    "    if choice == 0:\n",
    "        return Response\n",
    "    elif choice == 1:\n",
    "        # Assign max weights when returns are equal to 0. \n",
    "        Response.loc[Response[col] == 0, 'sample_weights'] = Response.sample_weights.max()\n",
    "        return Response\n",
    "\n",
    "    elif choice == 2:\n",
    "        # This redistributes weights for Labels == 0  to max at 1 and then declining both sides till it reaches pv_2 on right/left side.\n",
    "        Response.loc[Response.Labels == 0, 'sample_weights'] = Response.sample_weights.max()/(1 + np.abs(Response[Response.Labels == 0][col].values))\n",
    "        return Response\n",
    "\n",
    "    elif choice == 3:\n",
    "        #Combines choice 2 and another weighing based on class weights\n",
    "        # This redistributes weights for Labels == 0  to max at 1 and then declining both sides till it reaches pv_2 on right/left side.\n",
    "        Response.loc[Response.Labels == 0, 'sample_weights'] = Response.sample_weights.max()/(1 + np.abs(Response[Response.Labels == 0][col].values))\n",
    "        \n",
    "        num_labels = len(Response.Labels.unique())-1\n",
    "        # Inorder to make sure each class has equal weights in aggregate we multiply each class by (sum of counts of other two classes/2 times all 3 classes counts)\n",
    "        for l in Response.Labels.unique():\n",
    "            Response.loc[Response.Labels == l, 'sample_weights'] = Response.loc[Response.Labels == l, 'sample_weights'] * (len(Response[Response.Labels != l])/(num_labels*len(Response)))\n",
    "        return Response\n",
    "    \n",
    "    else:\n",
    "        print(\"Wrong option entered for assign_weights\")"
   ]
  },
  {
   "cell_type": "code",
   "execution_count": 85,
   "metadata": {},
   "outputs": [
    {
     "data": {
      "image/png": "[encoded data removed]",
      "text/plain": [
       "<Figure size 432x288 with 1 Axes>"
      ]
     },
     "metadata": {
      "needs_background": "light"
     },
     "output_type": "display_data"
    }
   ],
   "source": [
    "Response_0 = Response_.copy(deep=True)\n",
    "Response_0 = assign_weights(Response_0,col = 'Adj_ret_3',choice=0)\n",
    "Response_0.sample_weights.hist(bins=100);"
   ]
  },
  {
   "cell_type": "code",
   "execution_count": 86,
   "metadata": {},
   "outputs": [
    {
     "data": {
      "image/png": "[encoded data removed]",
      "text/plain": [
       "<Figure size 432x288 with 1 Axes>"
      ]
     },
     "metadata": {
      "needs_background": "light"
     },
     "output_type": "display_data"
    }
   ],
   "source": [
    "Response_1 = Response_.copy(deep=True)\n",
    "Response_1 = assign_weights(Response_1,col = 'Adj_ret_3',choice=1)\n",
    "Response_1.sample_weights.hist(bins=100);"
   ]
  },
  {
   "cell_type": "code",
   "execution_count": 87,
   "metadata": {},
   "outputs": [
    {
     "data": {
      "image/png": "[encoded data removed]",
      "text/plain": [
       "<Figure size 432x288 with 1 Axes>"
      ]
     },
     "metadata": {
      "needs_background": "light"
     },
     "output_type": "display_data"
    }
   ],
   "source": [
    "Response_2 = Response_.copy(deep=True)\n",
    "Response_2 = assign_weights(Response_2,col = 'Adj_ret_3',choice=2)\n",
    "Response_2.sample_weights.hist(bins=100);"
   ]
  },
  {
   "cell_type": "code",
   "execution_count": 88,
   "metadata": {},
   "outputs": [
    {
     "data": {
      "image/png": "[encoded data removed]",
      "text/plain": [
       "<Figure size 432x288 with 1 Axes>"
      ]
     },
     "metadata": {
      "needs_background": "light"
     },
     "output_type": "display_data"
    }
   ],
   "source": [
    "Response_3 = Response_.copy(deep=True)\n",
    "Response_3 = assign_weights(Response_3,col = 'Adj_ret_3',choice=3)\n",
    "Response_3.sample_weights.hist(bins=100);"
   ]
  },
  {
   "cell_type": "code",
   "execution_count": 89,
   "metadata": {},
   "outputs": [
    {
     "data": {
      "image/png": "[encoded data removed]",
      "text/plain": [
       "<Figure size 432x288 with 1 Axes>"
      ]
     },
     "metadata": {
      "needs_background": "light"
     },
     "output_type": "display_data"
    }
   ],
   "source": [
    "Response_0.plot(x='Adj_ret_3', y = 'sample_weights');"
   ]
  },
  {
   "cell_type": "code",
   "execution_count": 90,
   "metadata": {},
   "outputs": [
    {
     "data": {
      "image/png": "[encoded data removed]",
      "text/plain": [
       "<Figure size 432x288 with 1 Axes>"
      ]
     },
     "metadata": {
      "needs_background": "light"
     },
     "output_type": "display_data"
    }
   ],
   "source": [
    "Response_1.plot(x='Adj_ret_3', y = 'sample_weights');"
   ]
  },
  {
   "cell_type": "code",
   "execution_count": 91,
   "metadata": {},
   "outputs": [
    {
     "data": {
      "image/png": "[encoded data removed]",
      "text/plain": [
       "<Figure size 432x288 with 1 Axes>"
      ]
     },
     "metadata": {
      "needs_background": "light"
     },
     "output_type": "display_data"
    }
   ],
   "source": [
    "Response_2.plot(x='Adj_ret_3', y = 'sample_weights');"
   ]
  },
  {
   "cell_type": "code",
   "execution_count": 92,
   "metadata": {},
   "outputs": [
    {
     "data": {
      "image/png": "[encoded data removed]",
      "text/plain": [
       "<Figure size 432x288 with 1 Axes>"
      ]
     },
     "metadata": {
      "needs_background": "light"
     },
     "output_type": "display_data"
    }
   ],
   "source": [
    "Response_3.plot(x='Adj_ret_3', y = 'sample_weights');"
   ]
  },
  {
   "cell_type": "code",
   "execution_count": 96,
   "metadata": {},
   "outputs": [
    {
     "data": {
      "image/png": "[encoded data removed]",
      "text/plain": [
       "<Figure size 432x288 with 1 Axes>"
      ]
     },
     "metadata": {
      "needs_background": "light"
     },
     "output_type": "display_data"
    }
   ],
   "source": [
    "# For Class 0/Neutral, what are sample weights?\n",
    "Response_2[Response_2.Labels == 0].sample_weights.hist(bins=100);"
   ]
  },
  {
   "cell_type": "code",
   "execution_count": 97,
   "metadata": {},
   "outputs": [
    {
     "data": {
      "image/png": "[encoded data removed]",
      "text/plain": [
       "<Figure size 432x288 with 1 Axes>"
      ]
     },
     "metadata": {
      "needs_background": "light"
     },
     "output_type": "display_data"
    }
   ],
   "source": [
    "Response_2[Response_2.Labels == 1].sample_weights.hist(bins=100);"
   ]
  },
  {
   "cell_type": "code",
   "execution_count": 98,
   "metadata": {},
   "outputs": [
    {
     "data": {
      "image/png": "[encoded data removed]",
      "text/plain": [
       "<Figure size 432x288 with 1 Axes>"
      ]
     },
     "metadata": {
      "needs_background": "light"
     },
     "output_type": "display_data"
    }
   ],
   "source": [
    "Response_2[Response_2.Labels == -1].sample_weights.hist(bins=100);"
   ]
  },
  {
   "cell_type": "markdown",
   "metadata": {},
   "source": [
    "### Adding Engineered Variables"
   ]
  },
  {
   "cell_type": "code",
   "execution_count": null,
   "metadata": {},
   "outputs": [],
   "source": [
    "# Add engineered variables to this list\n",
    "\n",
    "emginereed_list = ['NetSpecLength','InvByOrder', 'lumbermovingaverages MA200', 'lumbermovingaverages MA30','LumberAdjusteddfs BasisByDte2',\n",
    "                'LumberContractSpreads FirstSecond', 'Investingdotcom USMBAPurchaseIndex', 'OverNightRates EFFR',]\n",
    "\n",
    "def add_engineered_variables(df1,var1,var2,func,new_name):\n",
    "    df = df1.copy(deep=True)\n",
    "    df[new_name] = func(df[var1],df[var2])\n",
    "    return df\n",
    "\n",
    "# 1. NET SPEC LENGTH, difference(1), no lags or roll\n",
    "var1 = \"CFTCdisaggregated PctofOIMMoneyLongAll\"\n",
    "var2 = \"CFTCdisaggregated PctofOIMMoneyShortAll\"\n",
    "feat_name_ = 'NetSpecLength'\n",
    "#inplace operation\n",
    "Variables = add_engineered_variables(Variables,var1,var2,func=np.subtract,new_name=feat_name_)\n",
    "\n",
    "# This is for calculating the change in the variable rather than absolute value\n",
    "Variables[feat_name_] = Variables[feat_name_].sort_index(ascending=True).diff().replace(np.nan,0)\n",
    "\n",
    "\n",
    "# 2. Inventory By Order, difference(1), 5 day lags\n",
    "var1 = \"WesternLumberinventorywestern WesternTotal\"\n",
    "var2 = \"WesternLumberorderswestern WesternTotal\"\n",
    "feat_name_ = 'InvByOrder'\n",
    "#inplace operation\n",
    "Variables = add_engineered_variables(Variables,var1,var2,func=np.divide,new_name=feat_name_)\n",
    "# Variables[feat_name_] = Variables[feat_name_].sort_index(ascending=True).pct_change().replace(np.nan,0)\n",
    "# Variables[feat_name_] = Variables[feat_name_][:30].sort_index(ascending=True).rolling(5).mean().fillna(0)"
   ]
  },
  {
   "cell_type": "code",
   "execution_count": null,
   "metadata": {},
   "outputs": [],
   "source": [
    "Variables[emginereed_list][:10]"
   ]
  },
  {
   "cell_type": "markdown",
   "metadata": {},
   "source": [
    "### Splitting the Dataset in 3 Dictionaries of Training, Testing & Validation & Initiating features_df"
   ]
  },
  {
   "cell_type": "markdown",
   "metadata": {},
   "source": [
    "###### Note: If metric calculations in add_metric function is calculated on Data which has even one class missing from y_predictions, it will throw an error (when error='raise' used), or it will be NaN for (roc_auc_ovr_weighted & roc_auc_ovo_weighted) if this option is not used in cross_val_score..\n"
   ]
  },
  {
   "cell_type": "code",
   "execution_count": 279,
   "metadata": {},
   "outputs": [],
   "source": [
    "X_train_dict, X_test_dict, X_val_dict, y_train, y_test, y_val, sample_weights_train, sample_weights_test, sample_weights_val \\\n",
    "    = ttv_split(Variables, Response, test_size=0.50, Validation_date_start = '2022-01-01')"
   ]
  },
  {
   "cell_type": "code",
   "execution_count": 100,
   "metadata": {},
   "outputs": [
    {
     "data": {
      "text/plain": [
       "(2682, 6)"
      ]
     },
     "execution_count": 100,
     "metadata": {},
     "output_type": "execute_result"
    }
   ],
   "source": [
    "len(Variables), len(Variables_with_nans)"
   ]
  },
  {
   "cell_type": "markdown",
   "metadata": {},
   "source": [
    "<div style=\"color: Green; font-size:22px;\" class=\"alert alert-block alert-warning\"> \n",
    "<b>To Do:</b> Check why these variables have NaNs\n",
    "</div>\n"
   ]
  },
  {
   "cell_type": "code",
   "execution_count": 101,
   "metadata": {},
   "outputs": [
    {
     "data": {
      "text/html": [
       "<div>\n",
       "<style scoped>\n",
       "    .dataframe tbody tr th:only-of-type {\n",
       "        vertical-align: middle;\n",
       "    }\n",
       "\n",
       "    .dataframe tbody tr th {\n",
       "        vertical-align: top;\n",
       "    }\n",
       "\n",
       "    .dataframe thead th {\n",
       "        text-align: right;\n",
       "    }\n",
       "</style>\n",
       "<table border=\"1\" class=\"dataframe\">\n",
       "  <thead>\n",
       "    <tr style=\"text-align: right;\">\n",
       "      <th></th>\n",
       "      <th></th>\n",
       "      <th>End_Dt</th>\n",
       "    </tr>\n",
       "  </thead>\n",
       "  <tbody>\n",
       "    <tr>\n",
       "      <th rowspan=\"2\" valign=\"top\">Lumber_Track_north_american_production</th>\n",
       "      <th>Prairies_And_Eastern_Canada</th>\n",
       "      <td>NaT</td>\n",
       "    </tr>\n",
       "    <tr>\n",
       "      <th>Total_North_America</th>\n",
       "      <td>NaT</td>\n",
       "    </tr>\n",
       "    <tr>\n",
       "      <th rowspan=\"2\" valign=\"top\">Lumber_Track_north_american_shipment</th>\n",
       "      <th>Prairies_And_Eastern_Canada</th>\n",
       "      <td>NaT</td>\n",
       "    </tr>\n",
       "    <tr>\n",
       "      <th>Total_North_America</th>\n",
       "      <td>NaT</td>\n",
       "    </tr>\n",
       "    <tr>\n",
       "      <th rowspan=\"2\" valign=\"top\">CFTC_legacy</th>\n",
       "      <th>Total_Reportable_Positions_Long_All</th>\n",
       "      <td>NaT</td>\n",
       "    </tr>\n",
       "    <tr>\n",
       "      <th>Concentration_Gross_LT_4_TDR_Short_Ol</th>\n",
       "      <td>NaT</td>\n",
       "    </tr>\n",
       "  </tbody>\n",
       "</table>\n",
       "</div>"
      ],
      "text/plain": [
       "                                                                             End_Dt\n",
       "Lumber_Track_north_american_production Prairies_And_Eastern_Canada              NaT\n",
       "                                       Total_North_America                      NaT\n",
       "Lumber_Track_north_american_shipment   Prairies_And_Eastern_Canada              NaT\n",
       "                                       Total_North_America                      NaT\n",
       "CFTC_legacy                            Total_Reportable_Positions_Long_All      NaT\n",
       "                                       Concentration_Gross_LT_4_TDR_Short_Ol    NaT"
      ]
     },
     "execution_count": 101,
     "metadata": {},
     "output_type": "execute_result"
    }
   ],
   "source": [
    "last_valid_loc[last_valid_loc.isna().any(axis=1)] # same as Variables_with_nans"
   ]
  },
  {
   "cell_type": "code",
   "execution_count": 102,
   "metadata": {},
   "outputs": [
    {
     "name": "stdout",
     "output_type": "stream",
     "text": [
      "Variable Types\n",
      "float64    708\n",
      "int64       10\n",
      "int32        7\n",
      "dtype: int64\n",
      "Total Variables: 725\n",
      "\n",
      "\n",
      "Response Types\n",
      "float64    7\n",
      "int32      1\n",
      "dtype: int64\n"
     ]
    }
   ],
   "source": [
    "print(\"Variable Types\")\n",
    "print(pd.Series(Variables.dtypes.values).value_counts())\n",
    "print(\"Total Variables:\",pd.Series(Variables.dtypes.values).value_counts().sum())\n",
    "\n",
    "print('\\n')\n",
    "print(\"Response Types\")\n",
    "print(pd.Series(Response.dtypes.values).value_counts())\n"
   ]
  },
  {
   "cell_type": "markdown",
   "metadata": {},
   "source": [
    "### Sample weights - Removed Outliers from Response by replacing with IQR*1.5 upper and lower limits"
   ]
  },
  {
   "cell_type": "code",
   "execution_count": 103,
   "metadata": {},
   "outputs": [
    {
     "name": "stdout",
     "output_type": "stream",
     "text": [
      "Max: 0.1037625697130806\n",
      "Min: -0.09252264990408168\n"
     ]
    },
    {
     "data": {
      "text/plain": [
       "(-0.0935, -0.0707]      0.26\n",
       "(-0.0707, -0.0489]      1.53\n",
       "(-0.0489, -0.0271]      7.01\n",
       "(-0.0271, -0.00528]    27.67\n",
       "(-0.00528, 0.0165]     42.54\n",
       "(0.0165, 0.0383]       16.67\n",
       "(0.0383, 0.0601]        3.65\n",
       "(0.0601, 0.082]         0.52\n",
       "(0.082, 0.104]          0.15\n",
       "Name: Adj_ret_3, dtype: float64"
      ]
     },
     "execution_count": 103,
     "metadata": {},
     "output_type": "execute_result"
    }
   ],
   "source": [
    "col = 'Adj_ret_3'\n",
    "create_bins_data(Response, col, 10)"
   ]
  },
  {
   "cell_type": "code",
   "execution_count": 104,
   "metadata": {},
   "outputs": [
    {
     "data": {
      "image/png": "[encoded data removed]",
      "text/plain": [
       "<Figure size 1152x288 with 3 Axes>"
      ]
     },
     "metadata": {
      "needs_background": "light"
     },
     "output_type": "display_data"
    }
   ],
   "source": [
    "diagnostic_plots(Response, col)"
   ]
  },
  {
   "cell_type": "code",
   "execution_count": 105,
   "metadata": {},
   "outputs": [],
   "source": [
    "# Response['sample_weights'] = Response.sample_weights.values * (Response.Labels.value_counts().sum()/2)"
   ]
  },
  {
   "cell_type": "code",
   "execution_count": 106,
   "metadata": {},
   "outputs": [
    {
     "data": {
      "text/plain": [
       " 0    1161\n",
       " 1     782\n",
       "-1     739\n",
       "Name: Labels, dtype: int64"
      ]
     },
     "execution_count": 106,
     "metadata": {},
     "output_type": "execute_result"
    }
   ],
   "source": [
    "Response.Labels.value_counts()"
   ]
  },
  {
   "cell_type": "code",
   "execution_count": 107,
   "metadata": {},
   "outputs": [
    {
     "name": "stdout",
     "output_type": "stream",
     "text": [
      "        sample_weights\n",
      "Labels                \n",
      "-1          757.169760\n",
      " 0         1281.468343\n",
      " 1          802.007873\n",
      "        sample_weights\n",
      "Labels                \n",
      "-1            1.024587\n",
      " 0            1.103763\n",
      " 1            1.025586\n"
     ]
    }
   ],
   "source": [
    "# print(winsoriser.left_tail_caps_)\n",
    "# print(winsoriser.right_tail_caps_)\n",
    "\n",
    "print(Response[['Labels','sample_weights']].groupby('Labels').sum())\n",
    "print(Response[['Labels','sample_weights']].groupby('Labels').mean())"
   ]
  },
  {
   "cell_type": "code",
   "execution_count": 108,
   "metadata": {},
   "outputs": [
    {
     "data": {
      "text/plain": [
       "Labels\n",
       " 0        0.432886\n",
       " 1        0.291573\n",
       "-1        0.275541\n",
       "dtype: float64"
      ]
     },
     "execution_count": 108,
     "metadata": {},
     "output_type": "execute_result"
    }
   ],
   "source": [
    "Response[['Labels']].value_counts()/len(Response)"
   ]
  },
  {
   "cell_type": "code",
   "execution_count": 109,
   "metadata": {},
   "outputs": [
    {
     "name": "stdout",
     "output_type": "stream",
     "text": [
      "Max: 1.1037625697130806\n",
      "Min: 1.0100000833345835\n"
     ]
    },
    {
     "data": {
      "text/plain": [
       "(1.0090000000000001, 1.02]    26.81\n",
       "(1.02, 1.031]                 14.99\n",
       "(1.031, 1.041]                 8.31\n",
       "(1.041, 1.052]                 3.88\n",
       "(1.052, 1.062]                 1.42\n",
       "(1.062, 1.073]                 0.86\n",
       "(1.073, 1.083]                 0.22\n",
       "(1.083, 1.093]                 0.15\n",
       "(1.093, 1.104]                43.36\n",
       "Name: sample_weights, dtype: float64"
      ]
     },
     "execution_count": 109,
     "metadata": {},
     "output_type": "execute_result"
    }
   ],
   "source": [
    "create_bins_data(Response, 'sample_weights', 10)"
   ]
  },
  {
   "cell_type": "markdown",
   "metadata": {},
   "source": [
    "### EVALUATION METRICS & generate_sample_confusion_matrix\n",
    "    1. Recall/Sensitivity/TPR: tp / (tp + fn) - **%age of a TRUE/Positives class correctly identified/ ability to find all the positive samples**. This decides how many times we trade since its the propotion of actual positives we are able to detect.\n",
    "    2. Specificity (TNR) is tn / (tn + fp) - %age of a FALSE/Negatives class correctly identified\n",
    "    3. False Positive Rate (FPR) = 1 - Specificity or fp / (tn + fp). \n",
    "    4. Accuracy is TP+ TN/ entire matrix sum - only for Binary classification\n",
    "    5. Precision is tp / (tp + fp) - the ability not to label a negative sample as positive. This decides our PROFITABILITY since we don't want FALSE Positives\n",
    "    6. Support is the number of occurrences of each class  - sum of respective row\n",
    "    7. Macro - unweighted mean. This does not take label imbalance into account.\n",
    "    8. Wt_Avg - average weighted by support\n",
    "    9. Micro - same as accuracy - sum of diagnols/ sum of all matrix\n",
    "\n",
    "**True/False (Positives/Negatives) means if a sample belongs/doesn't belong to a class**\n"
   ]
  },
  {
   "cell_type": "code",
   "execution_count": 110,
   "metadata": {},
   "outputs": [
    {
     "data": {
      "text/html": [
       "<style type=\"text/css\">\n",
       "#T_4be7a_row0_col0 {\n",
       "  color: green;\n",
       "}\n",
       "#T_4be7a_row0_col1, #T_4be7a_row0_col2 {\n",
       "  color: blue;\n",
       "}\n",
       "#T_4be7a_row1_col0, #T_4be7a_row2_col0 {\n",
       "  color: orange;\n",
       "}\n",
       "#T_4be7a_row1_col1, #T_4be7a_row1_col2, #T_4be7a_row2_col1, #T_4be7a_row2_col2 {\n",
       "  color: red;\n",
       "}\n",
       "</style>\n",
       "<table id=\"T_4be7a\">\n",
       "  <thead>\n",
       "    <tr>\n",
       "      <th class=\"blank\" >&nbsp;</th>\n",
       "      <th class=\"blank level0\" >&nbsp;</th>\n",
       "      <th id=\"T_4be7a_level0_col0\" class=\"col_heading level0 col0\" colspan=\"3\">Prediction</th>\n",
       "    </tr>\n",
       "    <tr>\n",
       "      <th class=\"blank\" >&nbsp;</th>\n",
       "      <th class=\"blank level1\" >&nbsp;</th>\n",
       "      <th id=\"T_4be7a_level1_col0\" class=\"col_heading level1 col0\" >-1</th>\n",
       "      <th id=\"T_4be7a_level1_col1\" class=\"col_heading level1 col1\" >0</th>\n",
       "      <th id=\"T_4be7a_level1_col2\" class=\"col_heading level1 col2\" >1</th>\n",
       "    </tr>\n",
       "  </thead>\n",
       "  <tbody>\n",
       "    <tr>\n",
       "      <th id=\"T_4be7a_level0_row0\" class=\"row_heading level0 row0\" rowspan=\"3\">Actual</th>\n",
       "      <th id=\"T_4be7a_level1_row0\" class=\"row_heading level1 row0\" >-1</th>\n",
       "      <td id=\"T_4be7a_row0_col0\" class=\"data row0 col0\" >True Positive</td>\n",
       "      <td id=\"T_4be7a_row0_col1\" class=\"data row0 col1\" >False Negative</td>\n",
       "      <td id=\"T_4be7a_row0_col2\" class=\"data row0 col2\" >False Negative</td>\n",
       "    </tr>\n",
       "    <tr>\n",
       "      <th id=\"T_4be7a_level1_row1\" class=\"row_heading level1 row1\" >0</th>\n",
       "      <td id=\"T_4be7a_row1_col0\" class=\"data row1 col0\" >False Positive</td>\n",
       "      <td id=\"T_4be7a_row1_col1\" class=\"data row1 col1\" >True Negative</td>\n",
       "      <td id=\"T_4be7a_row1_col2\" class=\"data row1 col2\" >True Negative</td>\n",
       "    </tr>\n",
       "    <tr>\n",
       "      <th id=\"T_4be7a_level1_row2\" class=\"row_heading level1 row2\" >1</th>\n",
       "      <td id=\"T_4be7a_row2_col0\" class=\"data row2 col0\" >False Positive</td>\n",
       "      <td id=\"T_4be7a_row2_col1\" class=\"data row2 col1\" >True Negative</td>\n",
       "      <td id=\"T_4be7a_row2_col2\" class=\"data row2 col2\" >True Negative</td>\n",
       "    </tr>\n",
       "  </tbody>\n",
       "</table>\n"
      ],
      "text/plain": [
       "<pandas.io.formats.style.Styler at 0x1bf3422ee60>"
      ]
     },
     "execution_count": 110,
     "metadata": {},
     "output_type": "execute_result"
    }
   ],
   "source": [
    "lab = Response.Labels.unique()\n",
    "lab.sort()\n",
    "\n",
    "generate_sample_confusion_matrix(-1,lab)"
   ]
  },
  {
   "cell_type": "code",
   "execution_count": 111,
   "metadata": {},
   "outputs": [
    {
     "data": {
      "text/plain": [
       "array([-1,  0,  1])"
      ]
     },
     "execution_count": 111,
     "metadata": {},
     "output_type": "execute_result"
    }
   ],
   "source": [
    "lab"
   ]
  },
  {
   "cell_type": "markdown",
   "metadata": {},
   "source": [
    "### Blocked Time Series cross-validation\n",
    "https://goldinlocks.github.io/Time-Series-Cross-Validation/"
   ]
  },
  {
   "cell_type": "code",
   "execution_count": 112,
   "metadata": {},
   "outputs": [],
   "source": [
    "btscv = BlockingTimeSeriesSplit(n_splits=5)"
   ]
  },
  {
   "cell_type": "markdown",
   "metadata": {},
   "source": [
    "**Metrics from Confusion Matrix Custom Func - These metrics (weighted & average) do NOT exactly match the output of features_df metrics** \n",
    "** Also note that the weighted average results are not based on sample_weights for now"
   ]
  },
  {
   "cell_type": "code",
   "execution_count": 113,
   "metadata": {},
   "outputs": [],
   "source": [
    "# RAJA \n",
    "\n",
    "# X = pd.concat([X_train_dict['Original'], X_test_dict['Original']], axis=0)\n",
    "# y = pd.concat([y_train, y_test], axis=0)\n",
    "# X.shape, y.shape\n",
    "# model = models[0]\n",
    "# train_idx  = get_cv_indices(BlockingTimeSeriesSplit, X, y, n_splits= 5, flatten = False)['train']\n",
    "# test_idx = get_cv_indices(BlockingTimeSeriesSplit, X, y, n_splits= 5, flatten = False)['test']\n",
    "\n",
    "# # Issue with shape - need to correct \n",
    "# predicted_proba1 = []\n",
    "# for i in range(len(train_idx)):\n",
    "#     model.fit(X.iloc[train_idx[i]], y.Labels.iloc[train_idx[i]])\n",
    "#     predicted_proba1.append(model.predict_proba(X.iloc[test_idx[i]]))"
   ]
  },
  {
   "cell_type": "markdown",
   "metadata": {},
   "source": [
    "### Helper Functions"
   ]
  },
  {
   "cell_type": "code",
   "execution_count": 114,
   "metadata": {},
   "outputs": [],
   "source": [
    "# This func is only to initialize the X variables with some features set - typically, we use 'Original' if not passed in\n",
    "def fill_with_dataset(dataset,manual_list, original_dataset = 'Original'):\n",
    "    if manual_list:\n",
    "        X_train_dict[dataset] = X_train_dict[original_dataset][manual_list]\n",
    "        X_test_dict[dataset] = X_test_dict[original_dataset][manual_list]\n",
    "        X_val_dict[dataset] = X_val_dict[original_dataset][manual_list]\n",
    "        \n",
    "    else:\n",
    "        X_train_dict[dataset] = X_train_dict[original_dataset]\n",
    "        X_test_dict[dataset] = X_test_dict[original_dataset]\n",
    "        X_val_dict[dataset] = X_val_dict[original_dataset]"
   ]
  },
  {
   "cell_type": "code",
   "execution_count": 115,
   "metadata": {},
   "outputs": [],
   "source": [
    "# this func first fits the transformation to all indices of X_train from cv (btscv), then transforms the features from X_train, X_test and X_val\n",
    "# For each pipeline trasnformation, we are using same sample_weights_train - Not working\n",
    "def transform_features_space(dataset,pipe,sampled_weights=False):\n",
    "    print(\"\\nRemoving Features for dataset:\",dataset)\n",
    "    print(\"# Features before:\",len(X_train_dict[dataset].columns.to_list()))\n",
    "    \n",
    "    X, y = get_x_y_sets(dataset,X_train_dict,X_test_dict,y_train,y_test,set='combined')\n",
    "    train_idx = get_cv_indices(BlockingTimeSeriesSplit, X, y, n_splits= 5, flatten = True)['train']\n",
    "    \n",
    "    # Since this is not working sampled_weights True is same as False\n",
    "    if sampled_weights:\n",
    "\n",
    "        # NOT WORKING\n",
    "        # parameters = {pipe.steps[i][0] + \"__sample_weight\": y.iloc[train_idx].sample_weights.values for i in range(len(pipe.steps))}\n",
    "        # pipe.fit(X.iloc[train_idx], **parameters)\n",
    "        pipe.fit(X.iloc[train_idx])\n",
    "    else:\n",
    "        pipe.fit(X.iloc[train_idx])\n",
    "        \n",
    "    X_train_dict[dataset] = pipe.transform(X_train_dict[dataset])\n",
    "    X_test_dict[dataset] = pipe.transform(X_test_dict[dataset])\n",
    "    X_val_dict[dataset] = pipe.transform(X_val_dict[dataset])"
   ]
  },
  {
   "cell_type": "code",
   "execution_count": 116,
   "metadata": {},
   "outputs": [],
   "source": [
    "def add_to_features_df(model,dataset):\n",
    "    model_name = type(model).__name__\n",
    "    features_df.loc[(model_name, dataset),'Num_Features'] = len(X_train_dict[dataset].columns) # so can store list of features\n",
    "    features_df.loc[(model_name, dataset),'Features_List'] = X_train_dict[dataset].columns.to_list()\n",
    "\n",
    "    original_list = set(features_df.loc[(model_name, 'Original'),'Features_List'])\n",
    "    dataset_list = set(features_df.loc[(model_name, dataset),'Features_List'])\n",
    "    removed_list = list(sorted(original_list - dataset_list))\n",
    "    \n",
    "    features_df.loc[(model_name, dataset),'Removed_Features'] = removed_list\n",
    "    features_df.loc[(model_name, dataset),'Model_Details'] = model\n",
    "\n",
    "def get_shapes(dataset):\n",
    "    # print(\"\\nShapes for dataset:\",dataset)\n",
    "    print(\"X_train Shape\",X_train_dict[dataset].shape)\n",
    "    print(\"X_test Shape\",X_test_dict[dataset].shape)\n",
    "    print(\"X_val Shape\",X_val_dict[dataset].shape)\n",
    "    # print(\"y_train Shape\",y_train.shape)\n",
    "    # print(\"y_test Shape\",y_test.shape)\n",
    "    # print(\"y_val Shape\",y_val.shape)\n",
    "\n",
    "def print_pipe_removed(pipe):\n",
    "    total_removed = 0\n",
    "    # print(\"\\nRemoved Features for Pipeline:\",pipe)\n",
    "    for i in range(len(pipe.steps)):\n",
    "        step_name = pipe.steps[i][0]\n",
    "        total_removed += len(pipe.named_steps[step_name].features_to_drop_)\n",
    "        print(step_name, \":\",len(pipe.named_steps[step_name].features_to_drop_))\n",
    "    print(\"Total removed:\",total_removed)\n",
    "\n",
    "# Calls all the above 3 functions\n",
    "def insert_and_print(model,dataset,pipe, manual_list):\n",
    "    print(\"\\nInserting Pipeline for dataset:\",dataset)\n",
    "\n",
    "    # This code INSERTS model's basic data into features_df\n",
    "    add_to_features_df(model,dataset)\n",
    "\n",
    "    # This code PRINTS X variables Shape\n",
    "    get_shapes(dataset)\n",
    "\n",
    "    # This code prints the features removed for each pipe step\n",
    "    if not manual_list: print_pipe_removed(pipe)\n",
    "  \n"
   ]
  },
  {
   "cell_type": "code",
   "execution_count": 117,
   "metadata": {},
   "outputs": [],
   "source": [
    "# # https://stackoverflow.com/questions/42562146/classification-report-with-nested-cross-validation-in-sklearn-average-individua\n",
    "# def predictions_from_custom_cross_val(model,X, y, custom_cv = BlockingTimeSeriesSplit(n_splits=5), sampled_weights=False):    \n",
    "#     # Variables to store original and predicted values\n",
    "#     original = []\n",
    "#     predicted = []\n",
    "\n",
    "#     def score_func(y_true, y_pred):\n",
    "#         original.extend(y_true)\n",
    "#         predicted.extend(y_pred)\n",
    "\n",
    "#     if sampled_weights:\n",
    "#     # Cross Val Score with SAMPLE WeIGHTS        \n",
    "#         scores = cross_val_score(model, X, y.Labels, cv=custom_cv, scoring=make_scorer(score_func),fit_params={'sample_weight':y.sample_weights.values} ) #,error_score=\"raise\"\n",
    "#     else:\n",
    "#         scores = cross_val_score(model, X, y.Labels, cv=custom_cv, scoring=make_scorer(score_func) ) #,error_score=\"raise\"\n",
    "#     return original, predicted\n"
   ]
  },
  {
   "cell_type": "markdown",
   "metadata": {},
   "source": [
    "\n",
    "*****Change between Labels & Close_Up_Down columns for y_combined to make it either a Multiclass (5) or (3)***"
   ]
  },
  {
   "cell_type": "markdown",
   "metadata": {},
   "source": [
    "### NEW WORK"
   ]
  },
  {
   "cell_type": "markdown",
   "metadata": {},
   "source": [
    "#### Change Sample weights\n",
    "###### If you pull it from model_build_func.py, it runs everything so takes long time"
   ]
  },
  {
   "cell_type": "code",
   "execution_count": null,
   "metadata": {},
   "outputs": [],
   "source": [
    "\n",
    "# choices 0,1,2 or\n",
    "def assign_weights(Response,col = 'Adj_ret_3',choice=0):\n",
    "\n",
    "    # Weights based on returns\n",
    "    sample_weights = 1 + np.abs(Response[col].values)\n",
    "    Response['sample_weights'] = sample_weights   \n",
    "\n",
    "    if choice == 0:\n",
    "        return Response\n",
    "    elif choice == 1:\n",
    "        # Assign max weights when returns are equal to 0. \n",
    "        Response.loc[Response[col] == 0, 'sample_weights'] = Response.sample_weights.max()\n",
    "        return Response\n",
    "\n",
    "    elif choice == 2:\n",
    "        # This redistributes weights for Labels == 0  to max at 1 and then declining both sides till it reaches pv_2 on right/left side.\n",
    "        Response.loc[Response.Labels == 0, 'sample_weights'] = Response.sample_weights.max()/(1 + np.abs(Response[Response.Labels == 0][col].values))\n",
    "\n",
    "    elif choice == 3:\n",
    "        #Combines choice 2 and another weighing based on class weights\n",
    "        # This redistributes weights for Labels == 0  to max at 1 and then declining both sides till it reaches pv_2 on right/left side.\n",
    "        Response.loc[Response.Labels == 0, 'sample_weights'] = Response.sample_weights.max()/(1 + np.abs(Response[Response.Labels == 0][col].values))\n",
    "        \n",
    "        num_labels = len(Response.Labels.unique())-1\n",
    "        # Inorder to make sure each class has equal weights in aggregate we multiply each class by (sum of counts of other two classes/2 times all 3 classes counts)\n",
    "        for l in Response.Labels.unique():\n",
    "            Response.loc[Response.Labels == l, 'sample_weights'] = Response.loc[Response.Labels == l, 'sample_weights'] * (len(Response[Response.Labels != l])/(num_labels*len(Response)))\n",
    "        return Response\n",
    "    \n",
    "    else:\n",
    "        print(\"Wrong option entered for assign_weights\")"
   ]
  },
  {
   "cell_type": "code",
   "execution_count": 468,
   "metadata": {},
   "outputs": [
    {
     "data": {
      "text/html": [
       "<div>\n",
       "<style scoped>\n",
       "    .dataframe tbody tr th:only-of-type {\n",
       "        vertical-align: middle;\n",
       "    }\n",
       "\n",
       "    .dataframe tbody tr th {\n",
       "        vertical-align: top;\n",
       "    }\n",
       "\n",
       "    .dataframe thead th {\n",
       "        text-align: right;\n",
       "    }\n",
       "</style>\n",
       "<table border=\"1\" class=\"dataframe\">\n",
       "  <thead>\n",
       "    <tr style=\"text-align: right;\">\n",
       "      <th></th>\n",
       "      <th>-1</th>\n",
       "      <th>0</th>\n",
       "      <th>1</th>\n",
       "    </tr>\n",
       "  </thead>\n",
       "  <tbody>\n",
       "    <tr>\n",
       "      <th>-1</th>\n",
       "      <td>60</td>\n",
       "      <td>64</td>\n",
       "      <td>7</td>\n",
       "    </tr>\n",
       "    <tr>\n",
       "      <th>0</th>\n",
       "      <td>49</td>\n",
       "      <td>160</td>\n",
       "      <td>9</td>\n",
       "    </tr>\n",
       "    <tr>\n",
       "      <th>1</th>\n",
       "      <td>70</td>\n",
       "      <td>77</td>\n",
       "      <td>9</td>\n",
       "    </tr>\n",
       "  </tbody>\n",
       "</table>\n",
       "</div>"
      ],
      "text/plain": [
       "    -1    0   1\n",
       "-1  60   64   7\n",
       " 0  49  160   9\n",
       " 1  70   77   9"
      ]
     },
     "execution_count": 468,
     "metadata": {},
     "output_type": "execute_result"
    }
   ],
   "source": [
    "\n",
    "from sklearn.metrics import confusion_matrix\n",
    "\n",
    "Variables = Variables_.copy(deep=True)\n",
    "Response = Response_.copy(deep=True)\n",
    "\n",
    "X_train_dict, X_test_dict, X_val_dict, y_train, y_test, y_val, sample_weights_train, sample_weights_test, sample_weights_val \\\n",
    "    = ttv_split(Variables, Response, test_size=0.50, Validation_date_start = '2022-01-01')\n",
    "\n",
    "dataset = 'Original'\n",
    "X, y = get_x_y_sets(dataset,X_train_dict,X_test_dict,y_train,y_test, set='combined')\n",
    "model = RandomForestClassifier(n_estimators=20, max_depth=3, n_jobs=-1, random_state=1)\n",
    "\n",
    "sampled_weights = True\n",
    "original, predicted = predictions_from_custom_cross_val(model,X, y, custom_cv = btscv, sampled_weights=sampled_weights)\n",
    "cm = pd.DataFrame(confusion_matrix(original, predicted,normalize=None,labels =lab), index=lab, columns=lab)\n",
    "cm_metric = metrics_from_cm(cm, lab = sorted(Response['Labels'].unique()))\n",
    "cm"
   ]
  },
  {
   "cell_type": "code",
   "execution_count": 476,
   "metadata": {},
   "outputs": [
    {
     "name": "stdout",
     "output_type": "stream",
     "text": [
      "-1 : 131 131\n",
      "0 : 218 218\n",
      "1 : 156 156\n"
     ]
    }
   ],
   "source": [
    "for n in lab:\n",
    " print(n,\":\",cm.loc[n].sum(), original.count(n))"
   ]
  },
  {
   "cell_type": "code",
   "execution_count": 479,
   "metadata": {},
   "outputs": [
    {
     "data": {
      "text/html": [
       "<div>\n",
       "<style scoped>\n",
       "    .dataframe tbody tr th:only-of-type {\n",
       "        vertical-align: middle;\n",
       "    }\n",
       "\n",
       "    .dataframe tbody tr th {\n",
       "        vertical-align: top;\n",
       "    }\n",
       "\n",
       "    .dataframe thead th {\n",
       "        text-align: right;\n",
       "    }\n",
       "</style>\n",
       "<table border=\"1\" class=\"dataframe\">\n",
       "  <thead>\n",
       "    <tr style=\"text-align: right;\">\n",
       "      <th></th>\n",
       "      <th>-1</th>\n",
       "      <th>0</th>\n",
       "      <th>1</th>\n",
       "    </tr>\n",
       "  </thead>\n",
       "  <tbody>\n",
       "    <tr>\n",
       "      <th>-1</th>\n",
       "      <td>60</td>\n",
       "      <td>64</td>\n",
       "      <td>7</td>\n",
       "    </tr>\n",
       "    <tr>\n",
       "      <th>0</th>\n",
       "      <td>49</td>\n",
       "      <td>160</td>\n",
       "      <td>9</td>\n",
       "    </tr>\n",
       "    <tr>\n",
       "      <th>1</th>\n",
       "      <td>70</td>\n",
       "      <td>77</td>\n",
       "      <td>9</td>\n",
       "    </tr>\n",
       "  </tbody>\n",
       "</table>\n",
       "</div>"
      ],
      "text/plain": [
       "    -1    0   1\n",
       "-1  60   64   7\n",
       " 0  49  160   9\n",
       " 1  70   77   9"
      ]
     },
     "execution_count": 479,
     "metadata": {},
     "output_type": "execute_result"
    },
    {
     "data": {
      "text/plain": [
       "<Figure size 576x396 with 0 Axes>"
      ]
     },
     "metadata": {},
     "output_type": "display_data"
    }
   ],
   "source": [
    "from yellowbrick.classifier import ConfusionMatrix\n",
    "\n",
    "Variables = Variables_.copy(deep=True)\n",
    "Response = Response_.copy(deep=True)\n",
    "\n",
    "X_train_dict, X_test_dict, X_val_dict, y_train, y_test, y_val, sample_weights_train, sample_weights_test, sample_weights_val \\\n",
    "    = ttv_split(Variables, Response, test_size=0.50, Validation_date_start = '2022-01-01')\n",
    "\n",
    "dataset = 'Original'\n",
    "X, y = get_x_y_sets(dataset,X_train_dict,X_test_dict,y_train,y_test, set='combined')\n",
    "train_idx = [get_cv_indices(BlockingTimeSeriesSplit, X, y, n_splits= 5,flatten=False)['train']][0]\n",
    "test_idx = [get_cv_indices(BlockingTimeSeriesSplit, X, y, n_splits= 5,flatten=False)['test']][0]\n",
    "cm_matrix = pd.DataFrame(0, columns=lab,index=lab)\n",
    "cm_yellow = None\n",
    "for tr_idx,te_idx in zip(train_idx,test_idx):\n",
    "    X_train = X.iloc[tr_idx].values.reshape(len(tr_idx),-1)\n",
    "    X_test = X.iloc[te_idx].values.reshape(len(te_idx),-1)\n",
    "    y_train = y.iloc[tr_idx]['Labels'].values.reshape(-1,1)\n",
    "    y_test = y.iloc[te_idx]['Labels'].values.reshape(-1,1)\n",
    "\n",
    "    y_test = [x for xs in y_test for x in xs]\n",
    "    y_train = [x for xs in y_train for x in xs]\n",
    "    model = RandomForestClassifier(n_estimators=20, max_depth=3, n_jobs=-1, random_state=1)\n",
    "    cm_yellow = ConfusionMatrix(model)\n",
    "    cm_yellow.fit(X_train,y_train,sample_weight = y.sample_weights.iloc[tr_idx].values.tolist())\n",
    "    cm_yellow.score(X_test,y_test)\n",
    "    cm_matrix = cm_matrix + pd.DataFrame(cm_yellow.confusion_matrix_,columns=cm_matrix.columns,index=cm_matrix.index)\n",
    "\n",
    "plt.clf();\n",
    "cm_metric_yellow = metrics_from_cm(cm_matrix, lab = lab)\n",
    "cm_matrix\n"
   ]
  },
  {
   "cell_type": "code",
   "execution_count": 480,
   "metadata": {},
   "outputs": [],
   "source": [
    "test_idx = [get_cv_indices(BlockingTimeSeriesSplit, X, y, n_splits= 5,flatten=True)['test']][0]\n",
    "y_test = y.iloc[test_idx]\n",
    "# y_test = [x for xs in y_test for x in xs]\n"
   ]
  },
  {
   "cell_type": "code",
   "execution_count": 481,
   "metadata": {},
   "outputs": [
    {
     "data": {
      "text/plain": [
       " 0    218\n",
       " 1    156\n",
       "-1    131\n",
       "Name: Labels, dtype: int64"
      ]
     },
     "execution_count": 481,
     "metadata": {},
     "output_type": "execute_result"
    }
   ],
   "source": [
    "y_test.Labels.value_counts()"
   ]
  },
  {
   "cell_type": "code",
   "execution_count": 327,
   "metadata": {},
   "outputs": [
    {
     "data": {
      "text/html": [
       "<div>\n",
       "<style scoped>\n",
       "    .dataframe tbody tr th:only-of-type {\n",
       "        vertical-align: middle;\n",
       "    }\n",
       "\n",
       "    .dataframe tbody tr th {\n",
       "        vertical-align: top;\n",
       "    }\n",
       "\n",
       "    .dataframe thead th {\n",
       "        text-align: right;\n",
       "    }\n",
       "</style>\n",
       "<table border=\"1\" class=\"dataframe\">\n",
       "  <thead>\n",
       "    <tr style=\"text-align: right;\">\n",
       "      <th></th>\n",
       "      <th>precision</th>\n",
       "      <th>recall</th>\n",
       "      <th>fscore</th>\n",
       "      <th>specificity</th>\n",
       "      <th>fpr</th>\n",
       "      <th>accuracy</th>\n",
       "      <th>tp</th>\n",
       "      <th>tn</th>\n",
       "      <th>fp</th>\n",
       "      <th>fn</th>\n",
       "      <th>support</th>\n",
       "    </tr>\n",
       "  </thead>\n",
       "  <tbody>\n",
       "    <tr>\n",
       "      <th>-1</th>\n",
       "      <td>34%</td>\n",
       "      <td>46%</td>\n",
       "      <td>39%</td>\n",
       "      <td>68%</td>\n",
       "      <td>32%</td>\n",
       "      <td>62%</td>\n",
       "      <td>60.0</td>\n",
       "      <td>255.0</td>\n",
       "      <td>119.0</td>\n",
       "      <td>71.0</td>\n",
       "      <td>131.0</td>\n",
       "    </tr>\n",
       "    <tr>\n",
       "      <th>0</th>\n",
       "      <td>53%</td>\n",
       "      <td>73%</td>\n",
       "      <td>62%</td>\n",
       "      <td>51%</td>\n",
       "      <td>49%</td>\n",
       "      <td>61%</td>\n",
       "      <td>160.0</td>\n",
       "      <td>146.0</td>\n",
       "      <td>141.0</td>\n",
       "      <td>58.0</td>\n",
       "      <td>218.0</td>\n",
       "    </tr>\n",
       "    <tr>\n",
       "      <th>1</th>\n",
       "      <td>36%</td>\n",
       "      <td>6%</td>\n",
       "      <td>10%</td>\n",
       "      <td>95%</td>\n",
       "      <td>5%</td>\n",
       "      <td>68%</td>\n",
       "      <td>9.0</td>\n",
       "      <td>333.0</td>\n",
       "      <td>16.0</td>\n",
       "      <td>147.0</td>\n",
       "      <td>156.0</td>\n",
       "    </tr>\n",
       "    <tr>\n",
       "      <th>macro</th>\n",
       "      <td>41%</td>\n",
       "      <td>42%</td>\n",
       "      <td>37%</td>\n",
       "      <td>71%</td>\n",
       "      <td>29%</td>\n",
       "      <td>64%</td>\n",
       "      <td>229.0</td>\n",
       "      <td>734.0</td>\n",
       "      <td>276.0</td>\n",
       "      <td>276.0</td>\n",
       "      <td>505.0</td>\n",
       "    </tr>\n",
       "    <tr>\n",
       "      <th>Wt_Avg</th>\n",
       "      <td>43%</td>\n",
       "      <td>45%</td>\n",
       "      <td>40%</td>\n",
       "      <td>69%</td>\n",
       "      <td>31%</td>\n",
       "      <td>63%</td>\n",
       "      <td>229.0</td>\n",
       "      <td>734.0</td>\n",
       "      <td>276.0</td>\n",
       "      <td>276.0</td>\n",
       "      <td>505.0</td>\n",
       "    </tr>\n",
       "  </tbody>\n",
       "</table>\n",
       "</div>"
      ],
      "text/plain": [
       "       precision recall fscore specificity  fpr accuracy     tp     tn     fp  \\\n",
       "-1           34%    46%    39%         68%  32%      62%   60.0  255.0  119.0   \n",
       "0            53%    73%    62%         51%  49%      61%  160.0  146.0  141.0   \n",
       "1            36%     6%    10%         95%   5%      68%    9.0  333.0   16.0   \n",
       "macro        41%    42%    37%         71%  29%      64%  229.0  734.0  276.0   \n",
       "Wt_Avg       43%    45%    40%         69%  31%      63%  229.0  734.0  276.0   \n",
       "\n",
       "           fn  support  \n",
       "-1       71.0    131.0  \n",
       "0        58.0    218.0  \n",
       "1       147.0    156.0  \n",
       "macro   276.0    505.0  \n",
       "Wt_Avg  276.0    505.0  "
      ]
     },
     "execution_count": 327,
     "metadata": {},
     "output_type": "execute_result"
    }
   ],
   "source": [
    "cm_metric_yellow"
   ]
  },
  {
   "cell_type": "code",
   "execution_count": 357,
   "metadata": {},
   "outputs": [
    {
     "data": {
      "text/plain": [
       "array([ 0, -1,  1])"
      ]
     },
     "execution_count": 357,
     "metadata": {},
     "output_type": "execute_result"
    }
   ],
   "source": [
    "Response['Labels'].unique()"
   ]
  },
  {
   "cell_type": "code",
   "execution_count": 487,
   "metadata": {},
   "outputs": [
    {
     "data": {
      "text/html": [
       "<div>\n",
       "<style scoped>\n",
       "    .dataframe tbody tr th:only-of-type {\n",
       "        vertical-align: middle;\n",
       "    }\n",
       "\n",
       "    .dataframe tbody tr th {\n",
       "        vertical-align: top;\n",
       "    }\n",
       "\n",
       "    .dataframe thead th {\n",
       "        text-align: right;\n",
       "    }\n",
       "</style>\n",
       "<table border=\"1\" class=\"dataframe\">\n",
       "  <thead>\n",
       "    <tr style=\"text-align: right;\">\n",
       "      <th></th>\n",
       "      <th>-1</th>\n",
       "      <th>0</th>\n",
       "      <th>1</th>\n",
       "    </tr>\n",
       "  </thead>\n",
       "  <tbody>\n",
       "    <tr>\n",
       "      <th>-1</th>\n",
       "      <td>60</td>\n",
       "      <td>64</td>\n",
       "      <td>7</td>\n",
       "    </tr>\n",
       "    <tr>\n",
       "      <th>0</th>\n",
       "      <td>49</td>\n",
       "      <td>160</td>\n",
       "      <td>9</td>\n",
       "    </tr>\n",
       "    <tr>\n",
       "      <th>1</th>\n",
       "      <td>70</td>\n",
       "      <td>77</td>\n",
       "      <td>9</td>\n",
       "    </tr>\n",
       "  </tbody>\n",
       "</table>\n",
       "</div>"
      ],
      "text/plain": [
       "    -1    0   1\n",
       "-1  60   64   7\n",
       " 0  49  160   9\n",
       " 1  70   77   9"
      ]
     },
     "execution_count": 487,
     "metadata": {},
     "output_type": "execute_result"
    }
   ],
   "source": [
    "cm_matrix"
   ]
  },
  {
   "cell_type": "code",
   "execution_count": 486,
   "metadata": {},
   "outputs": [
    {
     "data": {
      "text/plain": [
       "-1    179\n",
       " 0    301\n",
       " 1     25\n",
       "dtype: int64"
      ]
     },
     "execution_count": 486,
     "metadata": {},
     "output_type": "execute_result"
    }
   ],
   "source": [
    "cm_matrix.sum(axis=0)"
   ]
  },
  {
   "cell_type": "code",
   "execution_count": 489,
   "metadata": {},
   "outputs": [
    {
     "data": {
      "text/plain": [
       "-1    131\n",
       " 0    218\n",
       " 1    156\n",
       "dtype: int64"
      ]
     },
     "execution_count": 489,
     "metadata": {},
     "output_type": "execute_result"
    }
   ],
   "source": [
    "cm_matrix.sum(axis=1)"
   ]
  },
  {
   "cell_type": "code",
   "execution_count": 490,
   "metadata": {},
   "outputs": [
    {
     "data": {
      "text/html": [
       "<div>\n",
       "<style scoped>\n",
       "    .dataframe tbody tr th:only-of-type {\n",
       "        vertical-align: middle;\n",
       "    }\n",
       "\n",
       "    .dataframe tbody tr th {\n",
       "        vertical-align: top;\n",
       "    }\n",
       "\n",
       "    .dataframe thead th {\n",
       "        text-align: right;\n",
       "    }\n",
       "</style>\n",
       "<table border=\"1\" class=\"dataframe\">\n",
       "  <thead>\n",
       "    <tr style=\"text-align: right;\">\n",
       "      <th></th>\n",
       "      <th>-1</th>\n",
       "      <th>0</th>\n",
       "      <th>1</th>\n",
       "    </tr>\n",
       "  </thead>\n",
       "  <tbody>\n",
       "    <tr>\n",
       "      <th>-1</th>\n",
       "      <td>60</td>\n",
       "      <td>64</td>\n",
       "      <td>7</td>\n",
       "    </tr>\n",
       "    <tr>\n",
       "      <th>0</th>\n",
       "      <td>49</td>\n",
       "      <td>160</td>\n",
       "      <td>9</td>\n",
       "    </tr>\n",
       "    <tr>\n",
       "      <th>1</th>\n",
       "      <td>70</td>\n",
       "      <td>77</td>\n",
       "      <td>9</td>\n",
       "    </tr>\n",
       "  </tbody>\n",
       "</table>\n",
       "</div>"
      ],
      "text/plain": [
       "    -1    0   1\n",
       "-1  60   64   7\n",
       " 0  49  160   9\n",
       " 1  70   77   9"
      ]
     },
     "execution_count": 490,
     "metadata": {},
     "output_type": "execute_result"
    }
   ],
   "source": [
    "cm_matrix"
   ]
  },
  {
   "cell_type": "code",
   "execution_count": 492,
   "metadata": {},
   "outputs": [
    {
     "data": {
      "text/plain": [
       "119"
      ]
     },
     "execution_count": 492,
     "metadata": {},
     "output_type": "execute_result"
    }
   ],
   "source": [
    "49+70"
   ]
  },
  {
   "cell_type": "code",
   "execution_count": 452,
   "metadata": {},
   "outputs": [
    {
     "data": {
      "text/html": [
       "<div>\n",
       "<style scoped>\n",
       "    .dataframe tbody tr th:only-of-type {\n",
       "        vertical-align: middle;\n",
       "    }\n",
       "\n",
       "    .dataframe tbody tr th {\n",
       "        vertical-align: top;\n",
       "    }\n",
       "\n",
       "    .dataframe thead th {\n",
       "        text-align: right;\n",
       "    }\n",
       "</style>\n",
       "<table border=\"1\" class=\"dataframe\">\n",
       "  <thead>\n",
       "    <tr style=\"text-align: right;\">\n",
       "      <th></th>\n",
       "      <th>precision</th>\n",
       "      <th>recall</th>\n",
       "      <th>fscore</th>\n",
       "      <th>specificity</th>\n",
       "      <th>fpr</th>\n",
       "      <th>accuracy</th>\n",
       "      <th>tp</th>\n",
       "      <th>tn</th>\n",
       "      <th>fp</th>\n",
       "      <th>fn</th>\n",
       "      <th>support</th>\n",
       "    </tr>\n",
       "  </thead>\n",
       "  <tbody>\n",
       "    <tr>\n",
       "      <th>-1</th>\n",
       "      <td>34%</td>\n",
       "      <td>46%</td>\n",
       "      <td>39%</td>\n",
       "      <td>68%</td>\n",
       "      <td>32%</td>\n",
       "      <td>62%</td>\n",
       "      <td>60.0</td>\n",
       "      <td>255.0</td>\n",
       "      <td>119.0</td>\n",
       "      <td>71.0</td>\n",
       "      <td>131.0</td>\n",
       "    </tr>\n",
       "    <tr>\n",
       "      <th>0</th>\n",
       "      <td>53%</td>\n",
       "      <td>73%</td>\n",
       "      <td>62%</td>\n",
       "      <td>51%</td>\n",
       "      <td>49%</td>\n",
       "      <td>61%</td>\n",
       "      <td>160.0</td>\n",
       "      <td>146.0</td>\n",
       "      <td>141.0</td>\n",
       "      <td>58.0</td>\n",
       "      <td>218.0</td>\n",
       "    </tr>\n",
       "    <tr>\n",
       "      <th>1</th>\n",
       "      <td>36%</td>\n",
       "      <td>6%</td>\n",
       "      <td>10%</td>\n",
       "      <td>95%</td>\n",
       "      <td>5%</td>\n",
       "      <td>68%</td>\n",
       "      <td>9.0</td>\n",
       "      <td>333.0</td>\n",
       "      <td>16.0</td>\n",
       "      <td>147.0</td>\n",
       "      <td>156.0</td>\n",
       "    </tr>\n",
       "    <tr>\n",
       "      <th>macro</th>\n",
       "      <td>41%</td>\n",
       "      <td>42%</td>\n",
       "      <td>37%</td>\n",
       "      <td>71%</td>\n",
       "      <td>29%</td>\n",
       "      <td>64%</td>\n",
       "      <td>229.0</td>\n",
       "      <td>734.0</td>\n",
       "      <td>276.0</td>\n",
       "      <td>276.0</td>\n",
       "      <td>505.0</td>\n",
       "    </tr>\n",
       "    <tr>\n",
       "      <th>Wt_Avg</th>\n",
       "      <td>43%</td>\n",
       "      <td>45%</td>\n",
       "      <td>40%</td>\n",
       "      <td>69%</td>\n",
       "      <td>31%</td>\n",
       "      <td>63%</td>\n",
       "      <td>229.0</td>\n",
       "      <td>734.0</td>\n",
       "      <td>276.0</td>\n",
       "      <td>276.0</td>\n",
       "      <td>505.0</td>\n",
       "    </tr>\n",
       "  </tbody>\n",
       "</table>\n",
       "</div>"
      ],
      "text/plain": [
       "       precision recall fscore specificity  fpr accuracy     tp     tn     fp  \\\n",
       "-1           34%    46%    39%         68%  32%      62%   60.0  255.0  119.0   \n",
       "0            53%    73%    62%         51%  49%      61%  160.0  146.0  141.0   \n",
       "1            36%     6%    10%         95%   5%      68%    9.0  333.0   16.0   \n",
       "macro        41%    42%    37%         71%  29%      64%  229.0  734.0  276.0   \n",
       "Wt_Avg       43%    45%    40%         69%  31%      63%  229.0  734.0  276.0   \n",
       "\n",
       "           fn  support  \n",
       "-1       71.0    131.0  \n",
       "0        58.0    218.0  \n",
       "1       147.0    156.0  \n",
       "macro   276.0    505.0  \n",
       "Wt_Avg  276.0    505.0  "
      ]
     },
     "execution_count": 452,
     "metadata": {},
     "output_type": "execute_result"
    }
   ],
   "source": [
    "# This is wrongly labeled - instead of showing -1,0,1 - its actually showing 0,-1,1 - change it appropriately - down looks ok???\n",
    "cm_metric_yellow"
   ]
  },
  {
   "cell_type": "markdown",
   "metadata": {},
   "source": [
    "### It calculates scores for each set(5) of btscv index for test - check if we need to compare to manual method - otherwise skip\n",
    "#### Also can use different scoring by using make_scorer - but first check if we require this"
   ]
  },
  {
   "cell_type": "code",
   "execution_count": 365,
   "metadata": {},
   "outputs": [
    {
     "data": {
      "image/png": "[encoded data removed]",
      "text/plain": [
       "<Figure size 576x396 with 1 Axes>"
      ]
     },
     "metadata": {},
     "output_type": "display_data"
    }
   ],
   "source": [
    "# For scoring - https://scikit-learn.org/stable/modules/model_evaluation.html#scoring-parameter\n",
    "from sklearn.metrics import make_scorer\n",
    "\n",
    "from yellowbrick.model_selection import CVScores\n",
    "# btscv = BlockingTimeSeriesSplit(n_splits=5)\n",
    "scoring = 'f1_macro'\n",
    "visualizer = CVScores(model, cv=btscv, scoring= scoring)\n",
    "visualizer.fit(X,y.Labels)\n",
    "# visualizer.score(X_test1,y_test1)\n",
    "visualizer.show();"
   ]
  },
  {
   "cell_type": "code",
   "execution_count": 497,
   "metadata": {},
   "outputs": [],
   "source": [
    "dataset = 'Original'\n",
    "model = RandomForestClassifier(n_estimators=20, max_depth=3, n_jobs=-1, random_state=1)\n",
    "\n",
    "Variables = Variables_.copy(deep=True)\n",
    "Response = Response_.copy(deep=True)\n",
    "\n",
    "X_train_dict, X_test_dict, X_val_dict, y_train, y_test, y_val, sample_weights_train, sample_weights_test, sample_weights_val \\\n",
    "    = ttv_split(Variables, Response, test_size=0.50, Validation_date_start = '2022-01-01')\n",
    "\n",
    "dataset = 'Original'\n",
    "X, y = get_x_y_sets(dataset,X_train_dict,X_test_dict,y_train,y_test, set='combined')\n",
    "sampled_weights = False\n",
    "original_ns, predicted_ns = predictions_from_custom_cross_val(model,X, y, custom_cv = btscv, sampled_weights=sampled_weights)"
   ]
  },
  {
   "cell_type": "code",
   "execution_count": 498,
   "metadata": {},
   "outputs": [
    {
     "data": {
      "text/plain": [
       "(505, 2519)"
      ]
     },
     "execution_count": 498,
     "metadata": {},
     "output_type": "execute_result"
    }
   ],
   "source": [
    "len(predicted_ns), len(X)"
   ]
  },
  {
   "cell_type": "code",
   "execution_count": 499,
   "metadata": {},
   "outputs": [
    {
     "name": "stdout",
     "output_type": "stream",
     "text": [
      "505\n"
     ]
    },
    {
     "data": {
      "text/html": [
       "<div>\n",
       "<style scoped>\n",
       "    .dataframe tbody tr th:only-of-type {\n",
       "        vertical-align: middle;\n",
       "    }\n",
       "\n",
       "    .dataframe tbody tr th {\n",
       "        vertical-align: top;\n",
       "    }\n",
       "\n",
       "    .dataframe thead th {\n",
       "        text-align: right;\n",
       "    }\n",
       "</style>\n",
       "<table border=\"1\" class=\"dataframe\">\n",
       "  <thead>\n",
       "    <tr style=\"text-align: right;\">\n",
       "      <th></th>\n",
       "      <th>-1</th>\n",
       "      <th>0</th>\n",
       "      <th>1</th>\n",
       "    </tr>\n",
       "  </thead>\n",
       "  <tbody>\n",
       "    <tr>\n",
       "      <th>-1</th>\n",
       "      <td>59</td>\n",
       "      <td>62</td>\n",
       "      <td>10</td>\n",
       "    </tr>\n",
       "    <tr>\n",
       "      <th>0</th>\n",
       "      <td>55</td>\n",
       "      <td>157</td>\n",
       "      <td>6</td>\n",
       "    </tr>\n",
       "    <tr>\n",
       "      <th>1</th>\n",
       "      <td>71</td>\n",
       "      <td>78</td>\n",
       "      <td>7</td>\n",
       "    </tr>\n",
       "  </tbody>\n",
       "</table>\n",
       "</div>"
      ],
      "text/plain": [
       "    -1    0   1\n",
       "-1  59   62  10\n",
       " 0  55  157   6\n",
       " 1  71   78   7"
      ]
     },
     "execution_count": 499,
     "metadata": {},
     "output_type": "execute_result"
    }
   ],
   "source": [
    "cm_noweight= pd.DataFrame(confusion_matrix(original_ns, predicted_ns,normalize=None), index=lab, columns=lab)\n",
    "print(cm_noweight.sum().sum())\n",
    "cm_noweight"
   ]
  },
  {
   "cell_type": "code",
   "execution_count": 500,
   "metadata": {},
   "outputs": [
    {
     "data": {
      "text/plain": [
       "(505, 534.6232914234721)"
      ]
     },
     "execution_count": 500,
     "metadata": {},
     "output_type": "execute_result"
    }
   ],
   "source": [
    "y_test_weights = y.iloc[get_cv_indices(BlockingTimeSeriesSplit, X, y, n_splits= 5,flatten=True)['test']]['sample_weights']\n",
    "len(y_test_weights), sum(y_test_weights)"
   ]
  },
  {
   "cell_type": "code",
   "execution_count": 501,
   "metadata": {},
   "outputs": [
    {
     "name": "stdout",
     "output_type": "stream",
     "text": [
      "534.623291423473\n",
      "534.6232914234721\n"
     ]
    },
    {
     "data": {
      "text/html": [
       "<div>\n",
       "<style scoped>\n",
       "    .dataframe tbody tr th:only-of-type {\n",
       "        vertical-align: middle;\n",
       "    }\n",
       "\n",
       "    .dataframe tbody tr th {\n",
       "        vertical-align: top;\n",
       "    }\n",
       "\n",
       "    .dataframe thead th {\n",
       "        text-align: right;\n",
       "    }\n",
       "</style>\n",
       "<table border=\"1\" class=\"dataframe\">\n",
       "  <thead>\n",
       "    <tr style=\"text-align: right;\">\n",
       "      <th></th>\n",
       "      <th>-1</th>\n",
       "      <th>0</th>\n",
       "      <th>1</th>\n",
       "    </tr>\n",
       "  </thead>\n",
       "  <tbody>\n",
       "    <tr>\n",
       "      <th>-1</th>\n",
       "      <td>60.641306</td>\n",
       "      <td>63.116414</td>\n",
       "      <td>10.259168</td>\n",
       "    </tr>\n",
       "    <tr>\n",
       "      <th>0</th>\n",
       "      <td>60.706941</td>\n",
       "      <td>173.290723</td>\n",
       "      <td>6.622575</td>\n",
       "    </tr>\n",
       "    <tr>\n",
       "      <th>1</th>\n",
       "      <td>73.274701</td>\n",
       "      <td>79.517296</td>\n",
       "      <td>7.194165</td>\n",
       "    </tr>\n",
       "  </tbody>\n",
       "</table>\n",
       "</div>"
      ],
      "text/plain": [
       "           -1           0          1\n",
       "-1  60.641306   63.116414  10.259168\n",
       " 0  60.706941  173.290723   6.622575\n",
       " 1  73.274701   79.517296   7.194165"
      ]
     },
     "execution_count": 501,
     "metadata": {},
     "output_type": "execute_result"
    }
   ],
   "source": [
    "cm_weight = pd.DataFrame(confusion_matrix(original_ns, predicted_ns,normalize=None,sample_weight=y_test_weights.values), index=lab, columns=lab)\n",
    "print(cm_weight.sum().sum())\n",
    "print(sum(y_test_weights))\n",
    "cm_weight"
   ]
  },
  {
   "cell_type": "code",
   "execution_count": 502,
   "metadata": {},
   "outputs": [
    {
     "data": {
      "text/html": [
       "<div>\n",
       "<style scoped>\n",
       "    .dataframe tbody tr th:only-of-type {\n",
       "        vertical-align: middle;\n",
       "    }\n",
       "\n",
       "    .dataframe tbody tr th {\n",
       "        vertical-align: top;\n",
       "    }\n",
       "\n",
       "    .dataframe thead th {\n",
       "        text-align: right;\n",
       "    }\n",
       "</style>\n",
       "<table border=\"1\" class=\"dataframe\">\n",
       "  <thead>\n",
       "    <tr style=\"text-align: right;\">\n",
       "      <th></th>\n",
       "      <th>precision</th>\n",
       "      <th>recall</th>\n",
       "      <th>fscore</th>\n",
       "      <th>specificity</th>\n",
       "      <th>fpr</th>\n",
       "      <th>accuracy</th>\n",
       "      <th>tp</th>\n",
       "      <th>tn</th>\n",
       "      <th>fp</th>\n",
       "      <th>fn</th>\n",
       "      <th>support</th>\n",
       "    </tr>\n",
       "  </thead>\n",
       "  <tbody>\n",
       "    <tr>\n",
       "      <th>-1</th>\n",
       "      <td>32%</td>\n",
       "      <td>45%</td>\n",
       "      <td>37%</td>\n",
       "      <td>66%</td>\n",
       "      <td>34%</td>\n",
       "      <td>61%</td>\n",
       "      <td>59.0</td>\n",
       "      <td>248.0</td>\n",
       "      <td>126.0</td>\n",
       "      <td>72.0</td>\n",
       "      <td>131.0</td>\n",
       "    </tr>\n",
       "    <tr>\n",
       "      <th>0</th>\n",
       "      <td>53%</td>\n",
       "      <td>72%</td>\n",
       "      <td>61%</td>\n",
       "      <td>51%</td>\n",
       "      <td>49%</td>\n",
       "      <td>60%</td>\n",
       "      <td>157.0</td>\n",
       "      <td>147.0</td>\n",
       "      <td>140.0</td>\n",
       "      <td>61.0</td>\n",
       "      <td>218.0</td>\n",
       "    </tr>\n",
       "    <tr>\n",
       "      <th>1</th>\n",
       "      <td>30%</td>\n",
       "      <td>4%</td>\n",
       "      <td>8%</td>\n",
       "      <td>95%</td>\n",
       "      <td>5%</td>\n",
       "      <td>67%</td>\n",
       "      <td>7.0</td>\n",
       "      <td>333.0</td>\n",
       "      <td>16.0</td>\n",
       "      <td>149.0</td>\n",
       "      <td>156.0</td>\n",
       "    </tr>\n",
       "    <tr>\n",
       "      <th>macro</th>\n",
       "      <td>38%</td>\n",
       "      <td>41%</td>\n",
       "      <td>35%</td>\n",
       "      <td>71%</td>\n",
       "      <td>29%</td>\n",
       "      <td>63%</td>\n",
       "      <td>223.0</td>\n",
       "      <td>728.0</td>\n",
       "      <td>282.0</td>\n",
       "      <td>282.0</td>\n",
       "      <td>505.0</td>\n",
       "    </tr>\n",
       "    <tr>\n",
       "      <th>Wt_Avg</th>\n",
       "      <td>40%</td>\n",
       "      <td>44%</td>\n",
       "      <td>38%</td>\n",
       "      <td>69%</td>\n",
       "      <td>31%</td>\n",
       "      <td>63%</td>\n",
       "      <td>223.0</td>\n",
       "      <td>728.0</td>\n",
       "      <td>282.0</td>\n",
       "      <td>282.0</td>\n",
       "      <td>505.0</td>\n",
       "    </tr>\n",
       "  </tbody>\n",
       "</table>\n",
       "</div>"
      ],
      "text/plain": [
       "       precision recall fscore specificity  fpr accuracy     tp     tn     fp  \\\n",
       "-1           32%    45%    37%         66%  34%      61%   59.0  248.0  126.0   \n",
       "0            53%    72%    61%         51%  49%      60%  157.0  147.0  140.0   \n",
       "1            30%     4%     8%         95%   5%      67%    7.0  333.0   16.0   \n",
       "macro        38%    41%    35%         71%  29%      63%  223.0  728.0  282.0   \n",
       "Wt_Avg       40%    44%    38%         69%  31%      63%  223.0  728.0  282.0   \n",
       "\n",
       "           fn  support  \n",
       "-1       72.0    131.0  \n",
       "0        61.0    218.0  \n",
       "1       149.0    156.0  \n",
       "macro   282.0    505.0  \n",
       "Wt_Avg  282.0    505.0  "
      ]
     },
     "execution_count": 502,
     "metadata": {},
     "output_type": "execute_result"
    }
   ],
   "source": [
    "metrics_from_cm(cm_noweight, lab = sorted(Response['Labels'].unique()))"
   ]
  },
  {
   "cell_type": "code",
   "execution_count": 503,
   "metadata": {},
   "outputs": [
    {
     "data": {
      "text/html": [
       "<div>\n",
       "<style scoped>\n",
       "    .dataframe tbody tr th:only-of-type {\n",
       "        vertical-align: middle;\n",
       "    }\n",
       "\n",
       "    .dataframe tbody tr th {\n",
       "        vertical-align: top;\n",
       "    }\n",
       "\n",
       "    .dataframe thead th {\n",
       "        text-align: right;\n",
       "    }\n",
       "</style>\n",
       "<table border=\"1\" class=\"dataframe\">\n",
       "  <thead>\n",
       "    <tr style=\"text-align: right;\">\n",
       "      <th></th>\n",
       "      <th>precision</th>\n",
       "      <th>recall</th>\n",
       "      <th>fscore</th>\n",
       "      <th>specificity</th>\n",
       "      <th>fpr</th>\n",
       "      <th>accuracy</th>\n",
       "      <th>tp</th>\n",
       "      <th>tn</th>\n",
       "      <th>fp</th>\n",
       "      <th>fn</th>\n",
       "      <th>support</th>\n",
       "    </tr>\n",
       "  </thead>\n",
       "  <tbody>\n",
       "    <tr>\n",
       "      <th>-1</th>\n",
       "      <td>31%</td>\n",
       "      <td>45%</td>\n",
       "      <td>37%</td>\n",
       "      <td>67%</td>\n",
       "      <td>33%</td>\n",
       "      <td>61%</td>\n",
       "      <td>60.641306</td>\n",
       "      <td>266.624760</td>\n",
       "      <td>133.981643</td>\n",
       "      <td>73.375582</td>\n",
       "      <td>134.016888</td>\n",
       "    </tr>\n",
       "    <tr>\n",
       "      <th>0</th>\n",
       "      <td>55%</td>\n",
       "      <td>72%</td>\n",
       "      <td>62%</td>\n",
       "      <td>51%</td>\n",
       "      <td>49%</td>\n",
       "      <td>61%</td>\n",
       "      <td>173.290723</td>\n",
       "      <td>151.369341</td>\n",
       "      <td>142.633711</td>\n",
       "      <td>67.329517</td>\n",
       "      <td>240.620240</td>\n",
       "    </tr>\n",
       "    <tr>\n",
       "      <th>1</th>\n",
       "      <td>30%</td>\n",
       "      <td>4%</td>\n",
       "      <td>8%</td>\n",
       "      <td>95%</td>\n",
       "      <td>5%</td>\n",
       "      <td>68%</td>\n",
       "      <td>7.194165</td>\n",
       "      <td>357.755385</td>\n",
       "      <td>16.881743</td>\n",
       "      <td>152.791998</td>\n",
       "      <td>159.986163</td>\n",
       "    </tr>\n",
       "    <tr>\n",
       "      <th>macro</th>\n",
       "      <td>39%</td>\n",
       "      <td>41%</td>\n",
       "      <td>36%</td>\n",
       "      <td>71%</td>\n",
       "      <td>29%</td>\n",
       "      <td>63%</td>\n",
       "      <td>241.126195</td>\n",
       "      <td>775.749486</td>\n",
       "      <td>293.497097</td>\n",
       "      <td>293.497097</td>\n",
       "      <td>534.623291</td>\n",
       "    </tr>\n",
       "    <tr>\n",
       "      <th>Wt_Avg</th>\n",
       "      <td>41%</td>\n",
       "      <td>45%</td>\n",
       "      <td>40%</td>\n",
       "      <td>68%</td>\n",
       "      <td>32%</td>\n",
       "      <td>63%</td>\n",
       "      <td>241.126195</td>\n",
       "      <td>775.749486</td>\n",
       "      <td>293.497097</td>\n",
       "      <td>293.497097</td>\n",
       "      <td>534.623291</td>\n",
       "    </tr>\n",
       "  </tbody>\n",
       "</table>\n",
       "</div>"
      ],
      "text/plain": [
       "       precision recall fscore specificity  fpr accuracy          tp  \\\n",
       "-1           31%    45%    37%         67%  33%      61%   60.641306   \n",
       "0            55%    72%    62%         51%  49%      61%  173.290723   \n",
       "1            30%     4%     8%         95%   5%      68%    7.194165   \n",
       "macro        39%    41%    36%         71%  29%      63%  241.126195   \n",
       "Wt_Avg       41%    45%    40%         68%  32%      63%  241.126195   \n",
       "\n",
       "                tn          fp          fn     support  \n",
       "-1      266.624760  133.981643   73.375582  134.016888  \n",
       "0       151.369341  142.633711   67.329517  240.620240  \n",
       "1       357.755385   16.881743  152.791998  159.986163  \n",
       "macro   775.749486  293.497097  293.497097  534.623291  \n",
       "Wt_Avg  775.749486  293.497097  293.497097  534.623291  "
      ]
     },
     "execution_count": 503,
     "metadata": {},
     "output_type": "execute_result"
    }
   ],
   "source": [
    "metrics_from_cm(cm_weight, lab = sorted(Response['Labels'].unique()))"
   ]
  },
  {
   "cell_type": "code",
   "execution_count": 124,
   "metadata": {},
   "outputs": [
    {
     "name": "stdout",
     "output_type": "stream",
     "text": [
      "        sample_weights\n",
      "Labels                \n",
      "-1          757.169760\n",
      " 0         1281.468343\n",
      " 1          802.007873\n"
     ]
    }
   ],
   "source": [
    "print(Response[['Labels','sample_weights']].groupby('Labels').sum())"
   ]
  },
  {
   "cell_type": "code",
   "execution_count": 505,
   "metadata": {},
   "outputs": [
    {
     "name": "stdout",
     "output_type": "stream",
     "text": [
      "[0.31158353 0.54851953 0.29881178]\n"
     ]
    },
    {
     "data": {
      "text/html": [
       "<div>\n",
       "<style scoped>\n",
       "    .dataframe tbody tr th:only-of-type {\n",
       "        vertical-align: middle;\n",
       "    }\n",
       "\n",
       "    .dataframe tbody tr th {\n",
       "        vertical-align: top;\n",
       "    }\n",
       "\n",
       "    .dataframe thead th {\n",
       "        text-align: right;\n",
       "    }\n",
       "</style>\n",
       "<table border=\"1\" class=\"dataframe\">\n",
       "  <thead>\n",
       "    <tr style=\"text-align: right;\">\n",
       "      <th></th>\n",
       "      <th>-1</th>\n",
       "      <th>0</th>\n",
       "      <th>1</th>\n",
       "    </tr>\n",
       "  </thead>\n",
       "  <tbody>\n",
       "    <tr>\n",
       "      <th>-1</th>\n",
       "      <td>0.311584</td>\n",
       "      <td>0.199783</td>\n",
       "      <td>0.426118</td>\n",
       "    </tr>\n",
       "    <tr>\n",
       "      <th>0</th>\n",
       "      <td>0.311921</td>\n",
       "      <td>0.548520</td>\n",
       "      <td>0.275071</td>\n",
       "    </tr>\n",
       "    <tr>\n",
       "      <th>1</th>\n",
       "      <td>0.376496</td>\n",
       "      <td>0.251697</td>\n",
       "      <td>0.298812</td>\n",
       "    </tr>\n",
       "  </tbody>\n",
       "</table>\n",
       "</div>"
      ],
      "text/plain": [
       "          -1         0         1\n",
       "-1  0.311584  0.199783  0.426118\n",
       " 0  0.311921  0.548520  0.275071\n",
       " 1  0.376496  0.251697  0.298812"
      ]
     },
     "execution_count": 505,
     "metadata": {},
     "output_type": "execute_result"
    }
   ],
   "source": [
    "# Precision on the diagnal\n",
    "cm_p = pd.DataFrame(confusion_matrix(original_ns, predicted_ns,normalize='pred',sample_weight=y_test_weights.values), index=lab, columns=lab)\n",
    "print(np.diagonal(cm_p))\n",
    "cm_p"
   ]
  },
  {
   "cell_type": "code",
   "execution_count": 378,
   "metadata": {},
   "outputs": [
    {
     "data": {
      "text/html": [
       "<div>\n",
       "<style scoped>\n",
       "    .dataframe tbody tr th:only-of-type {\n",
       "        vertical-align: middle;\n",
       "    }\n",
       "\n",
       "    .dataframe tbody tr th {\n",
       "        vertical-align: top;\n",
       "    }\n",
       "\n",
       "    .dataframe thead th {\n",
       "        text-align: right;\n",
       "    }\n",
       "</style>\n",
       "<table border=\"1\" class=\"dataframe\">\n",
       "  <thead>\n",
       "    <tr style=\"text-align: right;\">\n",
       "      <th></th>\n",
       "      <th>precision</th>\n",
       "      <th>recall</th>\n",
       "      <th>fscore</th>\n",
       "      <th>specificity</th>\n",
       "      <th>fpr</th>\n",
       "      <th>accuracy</th>\n",
       "      <th>tp</th>\n",
       "      <th>tn</th>\n",
       "      <th>fp</th>\n",
       "      <th>fn</th>\n",
       "      <th>support</th>\n",
       "    </tr>\n",
       "  </thead>\n",
       "  <tbody>\n",
       "    <tr>\n",
       "      <th>-1</th>\n",
       "      <td>31%</td>\n",
       "      <td>33%</td>\n",
       "      <td>32%</td>\n",
       "      <td>67%</td>\n",
       "      <td>33%</td>\n",
       "      <td>56%</td>\n",
       "      <td>0.311584</td>\n",
       "      <td>1.374099</td>\n",
       "      <td>0.688416</td>\n",
       "      <td>0.625901</td>\n",
       "      <td>0.937484</td>\n",
       "    </tr>\n",
       "    <tr>\n",
       "      <th>0</th>\n",
       "      <td>55%</td>\n",
       "      <td>48%</td>\n",
       "      <td>51%</td>\n",
       "      <td>76%</td>\n",
       "      <td>24%</td>\n",
       "      <td>65%</td>\n",
       "      <td>0.548520</td>\n",
       "      <td>1.413009</td>\n",
       "      <td>0.451480</td>\n",
       "      <td>0.586991</td>\n",
       "      <td>1.135511</td>\n",
       "    </tr>\n",
       "    <tr>\n",
       "      <th>1</th>\n",
       "      <td>30%</td>\n",
       "      <td>32%</td>\n",
       "      <td>31%</td>\n",
       "      <td>66%</td>\n",
       "      <td>34%</td>\n",
       "      <td>56%</td>\n",
       "      <td>0.298812</td>\n",
       "      <td>1.371807</td>\n",
       "      <td>0.701188</td>\n",
       "      <td>0.628193</td>\n",
       "      <td>0.927005</td>\n",
       "    </tr>\n",
       "    <tr>\n",
       "      <th>macro</th>\n",
       "      <td>39%</td>\n",
       "      <td>38%</td>\n",
       "      <td>38%</td>\n",
       "      <td>70%</td>\n",
       "      <td>30%</td>\n",
       "      <td>59%</td>\n",
       "      <td>1.158915</td>\n",
       "      <td>4.158915</td>\n",
       "      <td>1.841085</td>\n",
       "      <td>1.841085</td>\n",
       "      <td>3.000000</td>\n",
       "    </tr>\n",
       "    <tr>\n",
       "      <th>Wt_Avg</th>\n",
       "      <td>40%</td>\n",
       "      <td>39%</td>\n",
       "      <td>39%</td>\n",
       "      <td>70%</td>\n",
       "      <td>30%</td>\n",
       "      <td>60%</td>\n",
       "      <td>1.158915</td>\n",
       "      <td>4.158915</td>\n",
       "      <td>1.841085</td>\n",
       "      <td>1.841085</td>\n",
       "      <td>3.000000</td>\n",
       "    </tr>\n",
       "  </tbody>\n",
       "</table>\n",
       "</div>"
      ],
      "text/plain": [
       "       precision recall fscore specificity  fpr accuracy        tp        tn  \\\n",
       "-1           31%    33%    32%         67%  33%      56%  0.311584  1.374099   \n",
       "0            55%    48%    51%         76%  24%      65%  0.548520  1.413009   \n",
       "1            30%    32%    31%         66%  34%      56%  0.298812  1.371807   \n",
       "macro        39%    38%    38%         70%  30%      59%  1.158915  4.158915   \n",
       "Wt_Avg       40%    39%    39%         70%  30%      60%  1.158915  4.158915   \n",
       "\n",
       "              fp        fn   support  \n",
       "-1      0.688416  0.625901  0.937484  \n",
       "0       0.451480  0.586991  1.135511  \n",
       "1       0.701188  0.628193  0.927005  \n",
       "macro   1.841085  1.841085  3.000000  \n",
       "Wt_Avg  1.841085  1.841085  3.000000  "
      ]
     },
     "execution_count": 378,
     "metadata": {},
     "output_type": "execute_result"
    }
   ],
   "source": [
    "metrics_from_cm(cm_p, lab = sorted(Response['Labels'].unique()))"
   ]
  },
  {
   "cell_type": "code",
   "execution_count": 506,
   "metadata": {},
   "outputs": [
    {
     "name": "stdout",
     "output_type": "stream",
     "text": [
      "[0.45038168 0.72018349 0.04487179]\n"
     ]
    },
    {
     "data": {
      "text/html": [
       "<div>\n",
       "<style scoped>\n",
       "    .dataframe tbody tr th:only-of-type {\n",
       "        vertical-align: middle;\n",
       "    }\n",
       "\n",
       "    .dataframe tbody tr th {\n",
       "        vertical-align: top;\n",
       "    }\n",
       "\n",
       "    .dataframe thead th {\n",
       "        text-align: right;\n",
       "    }\n",
       "</style>\n",
       "<table border=\"1\" class=\"dataframe\">\n",
       "  <thead>\n",
       "    <tr style=\"text-align: right;\">\n",
       "      <th></th>\n",
       "      <th>-1</th>\n",
       "      <th>0</th>\n",
       "      <th>1</th>\n",
       "    </tr>\n",
       "  </thead>\n",
       "  <tbody>\n",
       "    <tr>\n",
       "      <th>-1</th>\n",
       "      <td>0.450382</td>\n",
       "      <td>0.473282</td>\n",
       "      <td>0.076336</td>\n",
       "    </tr>\n",
       "    <tr>\n",
       "      <th>0</th>\n",
       "      <td>0.252294</td>\n",
       "      <td>0.720183</td>\n",
       "      <td>0.027523</td>\n",
       "    </tr>\n",
       "    <tr>\n",
       "      <th>1</th>\n",
       "      <td>0.455128</td>\n",
       "      <td>0.500000</td>\n",
       "      <td>0.044872</td>\n",
       "    </tr>\n",
       "  </tbody>\n",
       "</table>\n",
       "</div>"
      ],
      "text/plain": [
       "          -1         0         1\n",
       "-1  0.450382  0.473282  0.076336\n",
       " 0  0.252294  0.720183  0.027523\n",
       " 1  0.455128  0.500000  0.044872"
      ]
     },
     "execution_count": 506,
     "metadata": {},
     "output_type": "execute_result"
    }
   ],
   "source": [
    "# Recall on the diagnal\n",
    "cm_r = pd.DataFrame(confusion_matrix(original_ns, predicted_ns,normalize='true',sample_weight=y_test_weights.values), index=lab, columns=lab)\n",
    "print(np.diagonal(cm_r))\n",
    "cm_r"
   ]
  },
  {
   "cell_type": "code",
   "execution_count": 507,
   "metadata": {},
   "outputs": [
    {
     "data": {
      "text/html": [
       "<div>\n",
       "<style scoped>\n",
       "    .dataframe tbody tr th:only-of-type {\n",
       "        vertical-align: middle;\n",
       "    }\n",
       "\n",
       "    .dataframe tbody tr th {\n",
       "        vertical-align: top;\n",
       "    }\n",
       "\n",
       "    .dataframe thead th {\n",
       "        text-align: right;\n",
       "    }\n",
       "</style>\n",
       "<table border=\"1\" class=\"dataframe\">\n",
       "  <thead>\n",
       "    <tr style=\"text-align: right;\">\n",
       "      <th></th>\n",
       "      <th>precision</th>\n",
       "      <th>recall</th>\n",
       "      <th>fscore</th>\n",
       "      <th>specificity</th>\n",
       "      <th>fpr</th>\n",
       "      <th>accuracy</th>\n",
       "      <th>tp</th>\n",
       "      <th>tn</th>\n",
       "      <th>fp</th>\n",
       "      <th>fn</th>\n",
       "      <th>support</th>\n",
       "    </tr>\n",
       "  </thead>\n",
       "  <tbody>\n",
       "    <tr>\n",
       "      <th>-1</th>\n",
       "      <td>39%</td>\n",
       "      <td>45%</td>\n",
       "      <td>42%</td>\n",
       "      <td>65%</td>\n",
       "      <td>35%</td>\n",
       "      <td>58%</td>\n",
       "      <td>0.450382</td>\n",
       "      <td>1.292578</td>\n",
       "      <td>0.707422</td>\n",
       "      <td>0.549618</td>\n",
       "      <td>1.0</td>\n",
       "    </tr>\n",
       "    <tr>\n",
       "      <th>0</th>\n",
       "      <td>43%</td>\n",
       "      <td>72%</td>\n",
       "      <td>53%</td>\n",
       "      <td>51%</td>\n",
       "      <td>49%</td>\n",
       "      <td>58%</td>\n",
       "      <td>0.720183</td>\n",
       "      <td>1.026718</td>\n",
       "      <td>0.973282</td>\n",
       "      <td>0.279817</td>\n",
       "      <td>1.0</td>\n",
       "    </tr>\n",
       "    <tr>\n",
       "      <th>1</th>\n",
       "      <td>30%</td>\n",
       "      <td>4%</td>\n",
       "      <td>8%</td>\n",
       "      <td>95%</td>\n",
       "      <td>5%</td>\n",
       "      <td>65%</td>\n",
       "      <td>0.044872</td>\n",
       "      <td>1.896141</td>\n",
       "      <td>0.103859</td>\n",
       "      <td>0.955128</td>\n",
       "      <td>1.0</td>\n",
       "    </tr>\n",
       "    <tr>\n",
       "      <th>macro</th>\n",
       "      <td>37%</td>\n",
       "      <td>41%</td>\n",
       "      <td>34%</td>\n",
       "      <td>70%</td>\n",
       "      <td>30%</td>\n",
       "      <td>60%</td>\n",
       "      <td>1.215437</td>\n",
       "      <td>4.215437</td>\n",
       "      <td>1.784563</td>\n",
       "      <td>1.784563</td>\n",
       "      <td>3.0</td>\n",
       "    </tr>\n",
       "    <tr>\n",
       "      <th>Wt_Avg</th>\n",
       "      <td>37%</td>\n",
       "      <td>41%</td>\n",
       "      <td>34%</td>\n",
       "      <td>70%</td>\n",
       "      <td>30%</td>\n",
       "      <td>60%</td>\n",
       "      <td>1.215437</td>\n",
       "      <td>4.215437</td>\n",
       "      <td>1.784563</td>\n",
       "      <td>1.784563</td>\n",
       "      <td>3.0</td>\n",
       "    </tr>\n",
       "  </tbody>\n",
       "</table>\n",
       "</div>"
      ],
      "text/plain": [
       "       precision recall fscore specificity  fpr accuracy        tp        tn  \\\n",
       "-1           39%    45%    42%         65%  35%      58%  0.450382  1.292578   \n",
       "0            43%    72%    53%         51%  49%      58%  0.720183  1.026718   \n",
       "1            30%     4%     8%         95%   5%      65%  0.044872  1.896141   \n",
       "macro        37%    41%    34%         70%  30%      60%  1.215437  4.215437   \n",
       "Wt_Avg       37%    41%    34%         70%  30%      60%  1.215437  4.215437   \n",
       "\n",
       "              fp        fn  support  \n",
       "-1      0.707422  0.549618      1.0  \n",
       "0       0.973282  0.279817      1.0  \n",
       "1       0.103859  0.955128      1.0  \n",
       "macro   1.784563  1.784563      3.0  \n",
       "Wt_Avg  1.784563  1.784563      3.0  "
      ]
     },
     "execution_count": 507,
     "metadata": {},
     "output_type": "execute_result"
    }
   ],
   "source": [
    "metrics_from_cm(cm_r, lab = sorted(Response['Labels'].unique()))"
   ]
  },
  {
   "cell_type": "code",
   "execution_count": 380,
   "metadata": {},
   "outputs": [
    {
     "data": {
      "text/html": [
       "<div>\n",
       "<style scoped>\n",
       "    .dataframe tbody tr th:only-of-type {\n",
       "        vertical-align: middle;\n",
       "    }\n",
       "\n",
       "    .dataframe tbody tr th {\n",
       "        vertical-align: top;\n",
       "    }\n",
       "\n",
       "    .dataframe thead th {\n",
       "        text-align: right;\n",
       "    }\n",
       "</style>\n",
       "<table border=\"1\" class=\"dataframe\">\n",
       "  <thead>\n",
       "    <tr style=\"text-align: right;\">\n",
       "      <th></th>\n",
       "      <th>-1</th>\n",
       "      <th>0</th>\n",
       "      <th>1</th>\n",
       "    </tr>\n",
       "  </thead>\n",
       "  <tbody>\n",
       "    <tr>\n",
       "      <th>Support</th>\n",
       "      <td>131</td>\n",
       "      <td>218</td>\n",
       "      <td>156</td>\n",
       "    </tr>\n",
       "    <tr>\n",
       "      <th>Recall</th>\n",
       "      <td>45.801527</td>\n",
       "      <td>73.394495</td>\n",
       "      <td>5.769231</td>\n",
       "    </tr>\n",
       "    <tr>\n",
       "      <th>Precision</th>\n",
       "      <td>33.519553</td>\n",
       "      <td>53.156146</td>\n",
       "      <td>36.0</td>\n",
       "    </tr>\n",
       "  </tbody>\n",
       "</table>\n",
       "</div>"
      ],
      "text/plain": [
       "                  -1          0         1\n",
       "Support          131        218       156\n",
       "Recall     45.801527  73.394495  5.769231\n",
       "Precision  33.519553  53.156146      36.0"
      ]
     },
     "execution_count": 380,
     "metadata": {},
     "output_type": "execute_result"
    }
   ],
   "source": [
    "def get_cm_metrics(cm):\n",
    "    cm_metric = pd.DataFrame(index=['Support','Recall','Precision'], columns=lab)\n",
    "    for l in lab:\n",
    "        lab_value = cm.loc[l,l]\n",
    "        row_sum = cm.loc[[l],:].sum().sum()\n",
    "        col_sum = cm.loc[:,[l]].sum().sum()\n",
    "        cm_metric.loc['Support',l] = row_sum\n",
    "        cm_metric.loc['Precision',l] = lab_value/col_sum*100\n",
    "        cm_metric.loc['Recall',l] = lab_value/row_sum*100\n",
    "        # print(\"Support {}:\".format(l),row_sum)\n",
    "        # print(\"Recall {}:\".format(l),lab_value/row_sum*100)\n",
    "        # print(\"Precision {}:\".format(l),lab_value/col_sum*100)\n",
    "    return cm_metric\n",
    "\n",
    "get_cm_metrics(cm_matrix)"
   ]
  },
  {
   "cell_type": "code",
   "execution_count": 383,
   "metadata": {},
   "outputs": [],
   "source": [
    "# tn, fp, fn, tp = confusion_matrix(original_ns, predicted_ns, ).ravel()"
   ]
  },
  {
   "cell_type": "code",
   "execution_count": 384,
   "metadata": {},
   "outputs": [
    {
     "name": "stdout",
     "output_type": "stream",
     "text": [
      "1.0\n"
     ]
    },
    {
     "data": {
      "text/html": [
       "<div>\n",
       "<style scoped>\n",
       "    .dataframe tbody tr th:only-of-type {\n",
       "        vertical-align: middle;\n",
       "    }\n",
       "\n",
       "    .dataframe tbody tr th {\n",
       "        vertical-align: top;\n",
       "    }\n",
       "\n",
       "    .dataframe thead th {\n",
       "        text-align: right;\n",
       "    }\n",
       "</style>\n",
       "<table border=\"1\" class=\"dataframe\">\n",
       "  <thead>\n",
       "    <tr style=\"text-align: right;\">\n",
       "      <th></th>\n",
       "      <th>-1</th>\n",
       "      <th>0</th>\n",
       "      <th>1</th>\n",
       "    </tr>\n",
       "  </thead>\n",
       "  <tbody>\n",
       "    <tr>\n",
       "      <th>-1</th>\n",
       "      <td>0.116832</td>\n",
       "      <td>0.122772</td>\n",
       "      <td>0.019802</td>\n",
       "    </tr>\n",
       "    <tr>\n",
       "      <th>0</th>\n",
       "      <td>0.108911</td>\n",
       "      <td>0.310891</td>\n",
       "      <td>0.011881</td>\n",
       "    </tr>\n",
       "    <tr>\n",
       "      <th>1</th>\n",
       "      <td>0.140594</td>\n",
       "      <td>0.154455</td>\n",
       "      <td>0.013861</td>\n",
       "    </tr>\n",
       "  </tbody>\n",
       "</table>\n",
       "</div>"
      ],
      "text/plain": [
       "          -1         0         1\n",
       "-1  0.116832  0.122772  0.019802\n",
       " 0  0.108911  0.310891  0.011881\n",
       " 1  0.140594  0.154455  0.013861"
      ]
     },
     "execution_count": 384,
     "metadata": {},
     "output_type": "execute_result"
    }
   ],
   "source": [
    "cm = pd.DataFrame(confusion_matrix(original_ns, predicted_ns,normalize='all'), index=lab, columns=lab)\n",
    "print(cm.sum().sum())\n",
    "cm"
   ]
  },
  {
   "cell_type": "code",
   "execution_count": 511,
   "metadata": {},
   "outputs": [
    {
     "data": {
      "text/plain": [
       "(0.2594059405940594, 0.4316831683168317, 0.3089108910891089)"
      ]
     },
     "execution_count": 511,
     "metadata": {},
     "output_type": "execute_result"
    }
   ],
   "source": [
    "original.count(-1)/len(original), original.count(0)/len(original), original.count(1)/len(original)"
   ]
  },
  {
   "cell_type": "code",
   "execution_count": 391,
   "metadata": {},
   "outputs": [
    {
     "name": "stdout",
     "output_type": "stream",
     "text": [
      "Number of rows where predicted is not equal to original 282\n"
     ]
    },
    {
     "data": {
      "text/html": [
       "<div>\n",
       "<style scoped>\n",
       "    .dataframe tbody tr th:only-of-type {\n",
       "        vertical-align: middle;\n",
       "    }\n",
       "\n",
       "    .dataframe tbody tr th {\n",
       "        vertical-align: top;\n",
       "    }\n",
       "\n",
       "    .dataframe thead th {\n",
       "        text-align: right;\n",
       "    }\n",
       "</style>\n",
       "<table border=\"1\" class=\"dataframe\">\n",
       "  <thead>\n",
       "    <tr style=\"text-align: right;\">\n",
       "      <th></th>\n",
       "      <th>Labels</th>\n",
       "      <th>original</th>\n",
       "      <th>predicted</th>\n",
       "    </tr>\n",
       "  </thead>\n",
       "  <tbody>\n",
       "    <tr>\n",
       "      <th>2013-08-07</th>\n",
       "      <td>1</td>\n",
       "      <td>1</td>\n",
       "      <td>0</td>\n",
       "    </tr>\n",
       "    <tr>\n",
       "      <th>2013-08-08</th>\n",
       "      <td>0</td>\n",
       "      <td>0</td>\n",
       "      <td>0</td>\n",
       "    </tr>\n",
       "    <tr>\n",
       "      <th>2013-08-09</th>\n",
       "      <td>0</td>\n",
       "      <td>0</td>\n",
       "      <td>0</td>\n",
       "    </tr>\n",
       "    <tr>\n",
       "      <th>2013-08-12</th>\n",
       "      <td>0</td>\n",
       "      <td>0</td>\n",
       "      <td>0</td>\n",
       "    </tr>\n",
       "    <tr>\n",
       "      <th>2013-08-13</th>\n",
       "      <td>1</td>\n",
       "      <td>1</td>\n",
       "      <td>0</td>\n",
       "    </tr>\n",
       "  </tbody>\n",
       "</table>\n",
       "</div>"
      ],
      "text/plain": [
       "            Labels  original  predicted\n",
       "2013-08-07       1         1          0\n",
       "2013-08-08       0         0          0\n",
       "2013-08-09       0         0          0\n",
       "2013-08-12       0         0          0\n",
       "2013-08-13       1         1          0"
      ]
     },
     "execution_count": 391,
     "metadata": {},
     "output_type": "execute_result"
    }
   ],
   "source": [
    "y_test_raw = y.iloc[get_cv_indices(BlockingTimeSeriesSplit, X, y, n_splits= 5,flatten=True)['test']]['Labels']\n",
    "compare_df_ns = pd.concat([y_test_raw,pd.DataFrame(data=original_ns,index=y_test_raw.index,columns=['original']),pd.DataFrame(data=predicted_ns,index=y_test_raw.index,columns=['predicted'])],axis=1)\n",
    "print(\"Number of rows where predicted is not equal to original:\",len(compare_df_ns[compare_df_ns['predicted'] != compare_df_ns['original']]))\n",
    "compare_df_ns.head()"
   ]
  },
  {
   "cell_type": "code",
   "execution_count": 513,
   "metadata": {},
   "outputs": [
    {
     "data": {
      "text/html": [
       "<div>\n",
       "<style scoped>\n",
       "    .dataframe tbody tr th:only-of-type {\n",
       "        vertical-align: middle;\n",
       "    }\n",
       "\n",
       "    .dataframe tbody tr th {\n",
       "        vertical-align: top;\n",
       "    }\n",
       "\n",
       "    .dataframe thead th {\n",
       "        text-align: right;\n",
       "    }\n",
       "</style>\n",
       "<table border=\"1\" class=\"dataframe\">\n",
       "  <thead>\n",
       "    <tr style=\"text-align: right;\">\n",
       "      <th></th>\n",
       "      <th></th>\n",
       "      <th>Model_Details</th>\n",
       "      <th>Num_Features</th>\n",
       "      <th>Features_List</th>\n",
       "      <th>Removed_Features</th>\n",
       "      <th>balanced_accuracy</th>\n",
       "      <th>precision_weighted</th>\n",
       "      <th>recall_weighted</th>\n",
       "      <th>f1_weighted</th>\n",
       "      <th>roc_auc_ovr_weighted</th>\n",
       "      <th>roc_auc_ovo_weighted</th>\n",
       "      <th>neg_log_loss</th>\n",
       "      <th>Kappa</th>\n",
       "      <th>pnl</th>\n",
       "      <th>sharpe</th>\n",
       "      <th>ClassDf</th>\n",
       "    </tr>\n",
       "    <tr>\n",
       "      <th>Model</th>\n",
       "      <th>Dataset</th>\n",
       "      <th></th>\n",
       "      <th></th>\n",
       "      <th></th>\n",
       "      <th></th>\n",
       "      <th></th>\n",
       "      <th></th>\n",
       "      <th></th>\n",
       "      <th></th>\n",
       "      <th></th>\n",
       "      <th></th>\n",
       "      <th></th>\n",
       "      <th></th>\n",
       "      <th></th>\n",
       "      <th></th>\n",
       "      <th></th>\n",
       "    </tr>\n",
       "  </thead>\n",
       "  <tbody>\n",
       "    <tr>\n",
       "      <th>RandomForestClassifier</th>\n",
       "      <th>Original</th>\n",
       "      <td>RandomForestClassifier(random_state=1)</td>\n",
       "      <td>725</td>\n",
       "      <td>[LumberOHLCV LBHigh, LumberOHLCV LBLow, Lumber...</td>\n",
       "      <td>[]</td>\n",
       "      <td>NaN</td>\n",
       "      <td>NaN</td>\n",
       "      <td>NaN</td>\n",
       "      <td>NaN</td>\n",
       "      <td>NaN</td>\n",
       "      <td>NaN</td>\n",
       "      <td>NaN</td>\n",
       "      <td>NaN</td>\n",
       "      <td>NaN</td>\n",
       "      <td>NaN</td>\n",
       "      <td>NaN</td>\n",
       "    </tr>\n",
       "  </tbody>\n",
       "</table>\n",
       "</div>"
      ],
      "text/plain": [
       "                                                          Model_Details  \\\n",
       "Model                  Dataset                                            \n",
       "RandomForestClassifier Original  RandomForestClassifier(random_state=1)   \n",
       "\n",
       "                                Num_Features  \\\n",
       "Model                  Dataset                 \n",
       "RandomForestClassifier Original          725   \n",
       "\n",
       "                                                                     Features_List  \\\n",
       "Model                  Dataset                                                       \n",
       "RandomForestClassifier Original  [LumberOHLCV LBHigh, LumberOHLCV LBLow, Lumber...   \n",
       "\n",
       "                                Removed_Features balanced_accuracy  \\\n",
       "Model                  Dataset                                       \n",
       "RandomForestClassifier Original               []               NaN   \n",
       "\n",
       "                                precision_weighted recall_weighted  \\\n",
       "Model                  Dataset                                       \n",
       "RandomForestClassifier Original                NaN             NaN   \n",
       "\n",
       "                                f1_weighted roc_auc_ovr_weighted  \\\n",
       "Model                  Dataset                                     \n",
       "RandomForestClassifier Original         NaN                  NaN   \n",
       "\n",
       "                                roc_auc_ovo_weighted neg_log_loss Kappa  pnl  \\\n",
       "Model                  Dataset                                                 \n",
       "RandomForestClassifier Original                  NaN          NaN   NaN  NaN   \n",
       "\n",
       "                                sharpe ClassDf  \n",
       "Model                  Dataset                  \n",
       "RandomForestClassifier Original    NaN     NaN  "
      ]
     },
     "execution_count": 513,
     "metadata": {},
     "output_type": "execute_result"
    }
   ],
   "source": [
    "rf = RandomForestClassifier(random_state=1)\n",
    "models =[rf]\n",
    "model_names = [type(m).__name__ for m in models]\n",
    "dataset = 'Original'\n",
    "multilevel_index = pd.MultiIndex.from_product([model_names,[dataset]],names=['Model', 'Dataset'])\n",
    "cols_names = ['Model_Details','Num_Features','Features_List','Removed_Features'] + ['balanced_accuracy', 'precision_weighted', 'recall_weighted', 'f1_weighted', 'roc_auc_ovr_weighted', 'roc_auc_ovo_weighted','neg_log_loss','Kappa','pnl','sharpe','ClassDf']\n",
    "features_df = pd.DataFrame(columns=cols_names, index=multilevel_index)\n",
    "\n",
    "for m in models:\n",
    "    add_to_features_df(m,dataset='Original')\n",
    "    # add_metrics(model=m,dataset='Original',X_train_dict=X_train_dict,X_test_dict=X_test_dict,y_train=y_train,y_test=y_test,set='combined')\n",
    "\n",
    "features_df"
   ]
  },
  {
   "cell_type": "code",
   "execution_count": 516,
   "metadata": {},
   "outputs": [],
   "source": [
    "from yellowbrick.classifier import(ClassificationReport, DiscriminationThreshold)\n",
    "\n",
    "from sklearn.metrics import (precision_score, recall_score, f1_score)"
   ]
  },
  {
   "cell_type": "code",
   "execution_count": 517,
   "metadata": {},
   "outputs": [
    {
     "data": {
      "text/plain": [
       "(2010, 505, 2519, (2010, 725), (505, 725), (2010, 1), (505, 1))"
      ]
     },
     "execution_count": 517,
     "metadata": {},
     "output_type": "execute_result"
    }
   ],
   "source": [
    "train_idx = [get_cv_indices(BlockingTimeSeriesSplit, X, y, n_splits= 5,flatten=True)['train']][0]\n",
    "test_idx = [get_cv_indices(BlockingTimeSeriesSplit, X, y, n_splits= 5,flatten=True)['test']][0]\n",
    "\n",
    "X_train1 = X.iloc[train_idx].values.reshape(len(train_idx),-1)\n",
    "X_test1 = X.iloc[test_idx].values.reshape(len(test_idx),-1)\n",
    "y_train1 = y.iloc[train_idx]['Labels'].values.reshape(-1,1)\n",
    "y_test1 = y.iloc[test_idx]['Labels'].values.reshape(-1,1)\n",
    "\n",
    "len(train_idx), len(test_idx),len(X), X_train1.shape, X_test1.shape, y_train1.shape, y_test1.shape"
   ]
  },
  {
   "cell_type": "code",
   "execution_count": 518,
   "metadata": {},
   "outputs": [],
   "source": [
    "# y.iloc[train_idx]['Labels'].values.tolist()"
   ]
  },
  {
   "cell_type": "code",
   "execution_count": 519,
   "metadata": {},
   "outputs": [
    {
     "data": {
      "text/plain": [
       " 0    218\n",
       " 1    156\n",
       "-1    131\n",
       "dtype: int64"
      ]
     },
     "execution_count": 519,
     "metadata": {},
     "output_type": "execute_result"
    }
   ],
   "source": [
    "y_test1 = [x for xs in y_test1 for x in xs]\n",
    "y_train1 = [x for xs in y_train1 for x in xs]\n",
    "pd.DataFrame(y_test1).value_counts()"
   ]
  },
  {
   "cell_type": "code",
   "execution_count": 520,
   "metadata": {},
   "outputs": [
    {
     "data": {
      "image/png": "[encoded data removed]",
      "text/plain": [
       "<Figure size 576x396 with 1 Axes>"
      ]
     },
     "metadata": {},
     "output_type": "display_data"
    }
   ],
   "source": [
    "cm_y = ConfusionMatrix(model)\n",
    "cm_y.fit(X_train1,y_train1)\n",
    "cm_y.score(X_test1,y_test1)\n",
    "cm_y.show();"
   ]
  },
  {
   "cell_type": "code",
   "execution_count": 521,
   "metadata": {},
   "outputs": [
    {
     "data": {
      "image/png": "[encoded data removed]",
      "text/plain": [
       "<Figure size 576x396 with 1 Axes>"
      ]
     },
     "metadata": {},
     "output_type": "display_data"
    },
    {
     "data": {
      "text/plain": [
       "array([[ 67,  64,   0],\n",
       "       [ 53, 165,   0],\n",
       "       [ 72,  80,   4]], dtype=int64)"
      ]
     },
     "execution_count": 521,
     "metadata": {},
     "output_type": "execute_result"
    }
   ],
   "source": [
    "\n",
    "from yellowbrick.classifier import confusion_matrix\n",
    "cm_y = confusion_matrix(model,X_train1, y_train1, X_test1, y_test1)\n",
    "cm_y.confusion_matrix_"
   ]
  },
  {
   "cell_type": "code",
   "execution_count": 522,
   "metadata": {},
   "outputs": [
    {
     "data": {
      "image/png": "[encoded data removed]",
      "text/plain": [
       "<Figure size 576x396 with 2 Axes>"
      ]
     },
     "metadata": {},
     "output_type": "display_data"
    }
   ],
   "source": [
    "# visualizer = ClassificationReport(model,support=True)\n",
    "visualizer = ClassificationReport(model,support=True,cv=btscv)\n",
    "\n",
    "visualizer.fit(X_train1,y_train1)\n",
    "visualizer.score(X_test1,y_test1)\n",
    "\n",
    "\n",
    "# visualizer.fit(X,y.Labels)\n",
    "# visualizer.score(X,y.Labels)\n",
    "visualizer.show();"
   ]
  },
  {
   "cell_type": "code",
   "execution_count": 523,
   "metadata": {},
   "outputs": [
    {
     "data": {
      "text/plain": [
       "{'precision': {-1: 0.3489583333333333, 0: 0.5339805825242718, 1: 1.0},\n",
       " 'recall': {-1: 0.5114503816793893,\n",
       "  0: 0.7568807339449541,\n",
       "  1: 0.02564102564102564},\n",
       " 'f1': {-1: 0.41486068111455104, 0: 0.6261859582542694, 1: 0.05},\n",
       " 'support': {-1: 0.2594059405940594,\n",
       "  0: 0.4316831683168317,\n",
       "  1: 0.3089108910891089}}"
      ]
     },
     "execution_count": 523,
     "metadata": {},
     "output_type": "execute_result"
    }
   ],
   "source": [
    "visualizer.scores_"
   ]
  },
  {
   "cell_type": "code",
   "execution_count": 524,
   "metadata": {},
   "outputs": [
    {
     "data": {
      "text/plain": [
       "1.0"
      ]
     },
     "execution_count": 524,
     "metadata": {},
     "output_type": "execute_result"
    }
   ],
   "source": [
    "visualizer.scores_['precision'][1]"
   ]
  },
  {
   "cell_type": "code",
   "execution_count": 525,
   "metadata": {},
   "outputs": [
    {
     "data": {
      "text/plain": [
       "['precision', 'recall', 'f1', 'support']"
      ]
     },
     "execution_count": 525,
     "metadata": {},
     "output_type": "execute_result"
    }
   ],
   "source": [
    "visualizer._displayed_scores"
   ]
  },
  {
   "cell_type": "code",
   "execution_count": 526,
   "metadata": {},
   "outputs": [],
   "source": [
    "# help(visualizer)"
   ]
  },
  {
   "cell_type": "code",
   "execution_count": 527,
   "metadata": {},
   "outputs": [
    {
     "data": {
      "image/png": "[encoded data removed]",
      "text/plain": [
       "<Figure size 576x396 with 1 Axes>"
      ]
     },
     "metadata": {},
     "output_type": "display_data"
    },
    {
     "data": {
      "text/plain": [
       "<AxesSubplot:title={'center':'Threshold Plot for RandomForestClassifier'}, xlabel='discrimination threshold', ylabel='score'>"
      ]
     },
     "execution_count": 527,
     "metadata": {},
     "output_type": "execute_result"
    }
   ],
   "source": [
    "visualizer =  DiscriminationThreshold(model,argmax='fscore',\n",
    "                                    n_trials=5,\n",
    "                                    # cv=btscv,\n",
    "                                    is_fitted='auto',\n",
    "                                    exclude=\"queue_rate\")\n",
    "\n",
    "# Converting Multiclass into 2 classes 1 and 0\n",
    "y_test2 = [1 if i==-1 else i for i in y_test1]\n",
    "y_train2 = [1 if i==-1 else i for i in y_train1]\n",
    "\n",
    "visualizer.fit(X_train1,y_train2)\n",
    "visualizer.score(X_test1,y_test2)\n",
    "visualizer.show()\n"
   ]
  },
  {
   "cell_type": "markdown",
   "metadata": {},
   "source": [
    "FPR and FNR"
   ]
  },
  {
   "cell_type": "code",
   "execution_count": 412,
   "metadata": {},
   "outputs": [
    {
     "data": {
      "text/plain": [
       "array([[ 625.        ,  601.59997559,  606.5       , ...,    0.        ,\n",
       "           0.        ,    0.        ],\n",
       "       [ 592.        ,  564.5       ,  564.5       , ...,    0.        ,\n",
       "           0.        ,    0.        ],\n",
       "       [ 552.        ,  522.20001221,  522.90002441, ...,    0.        ,\n",
       "           0.        ,    0.        ],\n",
       "       ...,\n",
       "       [1043.69995117,  999.09997559, 1004.79998779, ...,    0.        ,\n",
       "           0.        ,    0.        ],\n",
       "       [1025.09997559,  990.20001221, 1022.40002441, ...,    0.        ,\n",
       "           0.        ,    0.        ],\n",
       "       [1052.40002441, 1026.19995117, 1052.40002441, ...,    0.        ,\n",
       "           0.        ,    0.        ]])"
      ]
     },
     "execution_count": 412,
     "metadata": {},
     "output_type": "execute_result"
    }
   ],
   "source": [
    "X_test\n",
    "# y_test2"
   ]
  },
  {
   "cell_type": "code",
   "execution_count": 413,
   "metadata": {},
   "outputs": [
    {
     "data": {
      "image/png": "[encoded data removed]",
      "text/plain": [
       "<Figure size 576x396 with 1 Axes>"
      ]
     },
     "metadata": {},
     "output_type": "display_data"
    },
    {
     "data": {
      "text/html": [
       "<style>#sk-container-id-4 {color: black;background-color: white;}#sk-container-id-4 pre{padding: 0;}#sk-container-id-4 div.sk-toggleable {background-color: white;}#sk-container-id-4 label.sk-toggleable__label {cursor: pointer;display: block;width: 100%;margin-bottom: 0;padding: 0.3em;box-sizing: border-box;text-align: center;}#sk-container-id-4 label.sk-toggleable__label-arrow:before {content: \"▸\";float: left;margin-right: 0.25em;color: #696969;}#sk-container-id-4 label.sk-toggleable__label-arrow:hover:before {color: black;}#sk-container-id-4 div.sk-estimator:hover label.sk-toggleable__label-arrow:before {color: black;}#sk-container-id-4 div.sk-toggleable__content {max-height: 0;max-width: 0;overflow: hidden;text-align: left;background-color: #f0f8ff;}#sk-container-id-4 div.sk-toggleable__content pre {margin: 0.2em;color: black;border-radius: 0.25em;background-color: #f0f8ff;}#sk-container-id-4 input.sk-toggleable__control:checked~div.sk-toggleable__content {max-height: 200px;max-width: 100%;overflow: auto;}#sk-container-id-4 input.sk-toggleable__control:checked~label.sk-toggleable__label-arrow:before {content: \"▾\";}#sk-container-id-4 div.sk-estimator input.sk-toggleable__control:checked~label.sk-toggleable__label {background-color: #d4ebff;}#sk-container-id-4 div.sk-label input.sk-toggleable__control:checked~label.sk-toggleable__label {background-color: #d4ebff;}#sk-container-id-4 input.sk-hidden--visually {border: 0;clip: rect(1px 1px 1px 1px);clip: rect(1px, 1px, 1px, 1px);height: 1px;margin: -1px;overflow: hidden;padding: 0;position: absolute;width: 1px;}#sk-container-id-4 div.sk-estimator {font-family: monospace;background-color: #f0f8ff;border: 1px dotted black;border-radius: 0.25em;box-sizing: border-box;margin-bottom: 0.5em;}#sk-container-id-4 div.sk-estimator:hover {background-color: #d4ebff;}#sk-container-id-4 div.sk-parallel-item::after {content: \"\";width: 100%;border-bottom: 1px solid gray;flex-grow: 1;}#sk-container-id-4 div.sk-label:hover label.sk-toggleable__label {background-color: #d4ebff;}#sk-container-id-4 div.sk-serial::before {content: \"\";position: absolute;border-left: 1px solid gray;box-sizing: border-box;top: 0;bottom: 0;left: 50%;z-index: 0;}#sk-container-id-4 div.sk-serial {display: flex;flex-direction: column;align-items: center;background-color: white;padding-right: 0.2em;padding-left: 0.2em;position: relative;}#sk-container-id-4 div.sk-item {position: relative;z-index: 1;}#sk-container-id-4 div.sk-parallel {display: flex;align-items: stretch;justify-content: center;background-color: white;position: relative;}#sk-container-id-4 div.sk-item::before, #sk-container-id-4 div.sk-parallel-item::before {content: \"\";position: absolute;border-left: 1px solid gray;box-sizing: border-box;top: 0;bottom: 0;left: 50%;z-index: -1;}#sk-container-id-4 div.sk-parallel-item {display: flex;flex-direction: column;z-index: 1;position: relative;background-color: white;}#sk-container-id-4 div.sk-parallel-item:first-child::after {align-self: flex-end;width: 50%;}#sk-container-id-4 div.sk-parallel-item:last-child::after {align-self: flex-start;width: 50%;}#sk-container-id-4 div.sk-parallel-item:only-child::after {width: 0;}#sk-container-id-4 div.sk-dashed-wrapped {border: 1px dashed gray;margin: 0 0.4em 0.5em 0.4em;box-sizing: border-box;padding-bottom: 0.4em;background-color: white;}#sk-container-id-4 div.sk-label label {font-family: monospace;font-weight: bold;display: inline-block;line-height: 1.2em;}#sk-container-id-4 div.sk-label-container {text-align: center;}#sk-container-id-4 div.sk-container {/* jupyter's `normalize.less` sets `[hidden] { display: none; }` but bootstrap.min.css set `[hidden] { display: none !important; }` so we also need the `!important` here to be able to override the default hidden behavior on the sphinx rendered scikit-learn.org. See: https://github.com/scikit-learn/scikit-learn/issues/21755 */display: inline-block !important;position: relative;}#sk-container-id-4 div.sk-text-repr-fallback {display: none;}</style><div id=\"sk-container-id-4\" class=\"sk-top-container\"><div class=\"sk-text-repr-fallback\"><pre>ClassBalance(ax=&lt;AxesSubplot:title={&#x27;center&#x27;:&#x27;Class Balance for 2,519 Instances&#x27;}, ylabel=&#x27;support&#x27;&gt;)</pre><b>In a Jupyter environment, please rerun this cell to show the HTML representation or trust the notebook. <br />On GitHub, the HTML representation is unable to render, please try loading this page with nbviewer.org.</b></div><div class=\"sk-container\" hidden><div class=\"sk-item\"><div class=\"sk-estimator sk-toggleable\"><input class=\"sk-toggleable__control sk-hidden--visually\" id=\"sk-estimator-id-10\" type=\"checkbox\" checked><label for=\"sk-estimator-id-10\" class=\"sk-toggleable__label sk-toggleable__label-arrow\">ClassBalance</label><div class=\"sk-toggleable__content\"><pre>ClassBalance(ax=&lt;AxesSubplot:title={&#x27;center&#x27;:&#x27;Class Balance for 2,519 Instances&#x27;}, ylabel=&#x27;support&#x27;&gt;)</pre></div></div></div></div></div>"
      ],
      "text/plain": [
       "ClassBalance(ax=<AxesSubplot:title={'center':'Class Balance for 2,519 Instances'}, ylabel='support'>)"
      ]
     },
     "execution_count": 413,
     "metadata": {},
     "output_type": "execute_result"
    }
   ],
   "source": [
    "from yellowbrick.target import class_balance\n",
    "class_balance(y.Labels)\n"
   ]
  },
  {
   "cell_type": "code",
   "execution_count": 414,
   "metadata": {},
   "outputs": [
    {
     "data": {
      "text/plain": [
       "(array([ 40, 130, 221, 311, 402]),\n",
       " array([[0.92428977, 0.91962264, 0.81173077, 0.87273936, 0.84173669],\n",
       "        [0.68626374, 0.62685039, 0.7110517 , 0.75255118, 0.68627346],\n",
       "        [0.55702388, 0.634367  , 0.56962602, 0.65971199, 0.64251866],\n",
       "        [0.5401466 , 0.60010094, 0.47492918, 0.56625337, 0.57655018],\n",
       "        [0.52915483, 0.5073646 , 0.47941768, 0.58078055, 0.58584659]]),\n",
       " array([[0.2660587 , 0.19628263, 0.41228738, 0.22470332, 0.25174446],\n",
       "        [0.45644001, 0.3573732 , 0.22623581, 0.22470332, 0.12311215],\n",
       "        [0.3323989 , 0.25426293, 0.30003   , 0.24549151, 0.42476883],\n",
       "        [0.4427772 , 0.35670281, 0.2691248 , 0.31285211, 0.28041266],\n",
       "        [0.4427772 , 0.25426293, 0.40535818, 0.16703457, 0.26552074]]))"
      ]
     },
     "execution_count": 414,
     "metadata": {},
     "output_type": "execute_result"
    }
   ],
   "source": [
    "from sklearn.model_selection import learning_curve\n",
    "learning_curve(model,X,y.Labels,cv=btscv, scoring='f1_weighted')"
   ]
  },
  {
   "cell_type": "code",
   "execution_count": 415,
   "metadata": {},
   "outputs": [
    {
     "data": {
      "image/png": "[encoded data removed]",
      "text/plain": [
       "<Figure size 576x396 with 1 Axes>"
      ]
     },
     "metadata": {},
     "output_type": "display_data"
    }
   ],
   "source": [
    "from yellowbrick.model_selection import LearningCurve\n",
    "sizes = np.linspace(0.3, 1.0)\n",
    "# , train_sizes=sizes\n",
    "visualizer = LearningCurve(model,cv=btscv, scoring='f1_weighted', n_jobs=-1)\n",
    "visualizer.fit(X,y.Labels)\n",
    "visualizer.show();"
   ]
  },
  {
   "cell_type": "markdown",
   "metadata": {},
   "source": [
    "### Converting both -1 and 1 into a single class"
   ]
  },
  {
   "cell_type": "code",
   "execution_count": 416,
   "metadata": {},
   "outputs": [
    {
     "data": {
      "text/html": [
       "<div>\n",
       "<style scoped>\n",
       "    .dataframe tbody tr th:only-of-type {\n",
       "        vertical-align: middle;\n",
       "    }\n",
       "\n",
       "    .dataframe tbody tr th {\n",
       "        vertical-align: top;\n",
       "    }\n",
       "\n",
       "    .dataframe thead th {\n",
       "        text-align: right;\n",
       "    }\n",
       "</style>\n",
       "<table border=\"1\" class=\"dataframe\">\n",
       "  <thead>\n",
       "    <tr style=\"text-align: right;\">\n",
       "      <th></th>\n",
       "      <th>Labels</th>\n",
       "      <th>Close_2</th>\n",
       "      <th>Close_3</th>\n",
       "      <th>Adj_ret_2</th>\n",
       "      <th>Adj_ret_3</th>\n",
       "      <th>Adj_close_Up_Down_2</th>\n",
       "      <th>Adj_close_Up_Down_3</th>\n",
       "      <th>sample_weights</th>\n",
       "    </tr>\n",
       "  </thead>\n",
       "  <tbody>\n",
       "    <tr>\n",
       "      <th>2012-01-03</th>\n",
       "      <td>0</td>\n",
       "      <td>251.0</td>\n",
       "      <td>263.3</td>\n",
       "      <td>0.01566</td>\n",
       "      <td>0.008391</td>\n",
       "      <td>1.0</td>\n",
       "      <td>1.0</td>\n",
       "      <td>1.103763</td>\n",
       "    </tr>\n",
       "  </tbody>\n",
       "</table>\n",
       "</div>"
      ],
      "text/plain": [
       "            Labels  Close_2  Close_3  Adj_ret_2  Adj_ret_3  \\\n",
       "2012-01-03       0    251.0    263.3    0.01566   0.008391   \n",
       "\n",
       "            Adj_close_Up_Down_2  Adj_close_Up_Down_3  sample_weights  \n",
       "2012-01-03                  1.0                  1.0        1.103763  "
      ]
     },
     "execution_count": 416,
     "metadata": {},
     "output_type": "execute_result"
    }
   ],
   "source": [
    "y_2class = pd.DataFrame(data=y.Labels.replace(to_replace=-1,value=1).values,columns=['Labels'], index= y.index)\n",
    "y_2class.index = y.index\n",
    "y_2class =pd.concat([y_2class,y.drop('Labels',axis=1)],axis=1).reindex(y.index)\n",
    "y_2class.head(1)"
   ]
  },
  {
   "cell_type": "code",
   "execution_count": 424,
   "metadata": {},
   "outputs": [
    {
     "data": {
      "text/plain": [
       "(0.2889908256880734, 0.445993031358885)"
      ]
     },
     "execution_count": 424,
     "metadata": {},
     "output_type": "execute_result"
    }
   ],
   "source": [
    "original, predicted = predictions_from_custom_cross_val(model,X, y_2class, custom_cv = btscv, sampled_weights=True)\n",
    "from sklearn.metrics import confusion_matrix\n",
    "tn, fp, fn, tp = confusion_matrix(original,predicted,labels=[0,1]).ravel()\n",
    "FPR = fp/ (tn+fp)\n",
    "FNR = fn/(tp+fn)\n",
    "FPR, FNR"
   ]
  },
  {
   "cell_type": "markdown",
   "metadata": {},
   "source": [
    "### FPR & FNR vs Threshold"
   ]
  },
  {
   "cell_type": "code",
   "execution_count": 425,
   "metadata": {},
   "outputs": [
    {
     "data": {
      "text/html": [
       "<div>\n",
       "<style scoped>\n",
       "    .dataframe tbody tr th:only-of-type {\n",
       "        vertical-align: middle;\n",
       "    }\n",
       "\n",
       "    .dataframe tbody tr th {\n",
       "        vertical-align: top;\n",
       "    }\n",
       "\n",
       "    .dataframe thead th {\n",
       "        text-align: right;\n",
       "    }\n",
       "</style>\n",
       "<table border=\"1\" class=\"dataframe\">\n",
       "  <thead>\n",
       "    <tr style=\"text-align: right;\">\n",
       "      <th></th>\n",
       "      <th>fpr</th>\n",
       "      <th>fnr</th>\n",
       "    </tr>\n",
       "  </thead>\n",
       "  <tbody>\n",
       "    <tr>\n",
       "      <th>0.000000</th>\n",
       "      <td>1.0</td>\n",
       "      <td>0.0</td>\n",
       "    </tr>\n",
       "    <tr>\n",
       "      <th>0.010101</th>\n",
       "      <td>1.0</td>\n",
       "      <td>0.0</td>\n",
       "    </tr>\n",
       "    <tr>\n",
       "      <th>0.020202</th>\n",
       "      <td>1.0</td>\n",
       "      <td>0.0</td>\n",
       "    </tr>\n",
       "    <tr>\n",
       "      <th>0.030303</th>\n",
       "      <td>1.0</td>\n",
       "      <td>0.0</td>\n",
       "    </tr>\n",
       "    <tr>\n",
       "      <th>0.040404</th>\n",
       "      <td>1.0</td>\n",
       "      <td>0.0</td>\n",
       "    </tr>\n",
       "    <tr>\n",
       "      <th>...</th>\n",
       "      <td>...</td>\n",
       "      <td>...</td>\n",
       "    </tr>\n",
       "    <tr>\n",
       "      <th>0.959596</th>\n",
       "      <td>0.0</td>\n",
       "      <td>1.0</td>\n",
       "    </tr>\n",
       "    <tr>\n",
       "      <th>0.969697</th>\n",
       "      <td>0.0</td>\n",
       "      <td>1.0</td>\n",
       "    </tr>\n",
       "    <tr>\n",
       "      <th>0.979798</th>\n",
       "      <td>0.0</td>\n",
       "      <td>1.0</td>\n",
       "    </tr>\n",
       "    <tr>\n",
       "      <th>0.989899</th>\n",
       "      <td>0.0</td>\n",
       "      <td>1.0</td>\n",
       "    </tr>\n",
       "    <tr>\n",
       "      <th>1.000000</th>\n",
       "      <td>0.0</td>\n",
       "      <td>1.0</td>\n",
       "    </tr>\n",
       "  </tbody>\n",
       "</table>\n",
       "<p>100 rows × 2 columns</p>\n",
       "</div>"
      ],
      "text/plain": [
       "          fpr  fnr\n",
       "0.000000  1.0  0.0\n",
       "0.010101  1.0  0.0\n",
       "0.020202  1.0  0.0\n",
       "0.030303  1.0  0.0\n",
       "0.040404  1.0  0.0\n",
       "...       ...  ...\n",
       "0.959596  0.0  1.0\n",
       "0.969697  0.0  1.0\n",
       "0.979798  0.0  1.0\n",
       "0.989899  0.0  1.0\n",
       "1.000000  0.0  1.0\n",
       "\n",
       "[100 rows x 2 columns]"
      ]
     },
     "execution_count": 425,
     "metadata": {},
     "output_type": "execute_result"
    }
   ],
   "source": [
    "thresholds = np.linspace(0,1,100)\n",
    "\n",
    "fpr_ls = []\n",
    "fnr_ls = []\n",
    "\n",
    "#obtain probabilities\n",
    "probs = model.predict_proba(X_test1)[:,1]\n",
    "original,predicted_proba = probabilities_from_custom_cross_val(model,X, y_2class, custom_cv = btscv, sampled_weights=True)\n",
    "\n",
    "for threshold in thresholds:\n",
    "\n",
    "    #obtain class prediction based on threshold\n",
    "    # preds = np.where(probs >= threshold,1,0)\n",
    "    preds = np.where(predicted_proba >= threshold,1,0)\n",
    "    \n",
    "    #check if these are lined correctly\n",
    "    tn, fp, fn, tp = confusion_matrix(original,preds,labels=[0,1]).ravel()\n",
    "    FPR = fp/ (tn+fp)\n",
    "    FNR = fn/(tp+fn)\n",
    "\n",
    "    # Can even calculate recall and precision here\n",
    "\n",
    "    fpr_ls.append(FPR)\n",
    "    fnr_ls.append(FNR)\n",
    "\n",
    "metrics = pd.concat([pd.Series(fpr_ls),pd.Series(fnr_ls)],axis=1)\n",
    "metrics.columns = ['fpr','fnr']\n",
    "metrics.index = thresholds\n",
    "\n",
    "metrics"
   ]
  },
  {
   "cell_type": "code",
   "execution_count": 426,
   "metadata": {},
   "outputs": [
    {
     "data": {
      "image/png": "[encoded data removed]",
      "text/plain": [
       "<Figure size 576x396 with 1 Axes>"
      ]
     },
     "metadata": {},
     "output_type": "display_data"
    }
   ],
   "source": [
    "metrics.plot();\n",
    "plt.xlabel('Probability Threshold')\n",
    "plt.ylabel('FPR /FNR')\n",
    "plt.title('FPR and FNR vs Discriminant Threshold');"
   ]
  },
  {
   "cell_type": "code",
   "execution_count": 431,
   "metadata": {},
   "outputs": [
    {
     "name": "stdout",
     "output_type": "stream",
     "text": [
      "TPR 0.554006968641115\n",
      "TNR 0.7110091743119266\n",
      "geometric score 0.6276177477864792\n"
     ]
    }
   ],
   "source": [
    "#GEOMETRIC MEAN\n",
    "from imblearn.metrics import (geometric_mean_score, make_index_balanced_accuracy, )\n",
    "from sklearn.metrics import ( recall_score, accuracy_score, balanced_accuracy_score)\n",
    "\n",
    "#True Positive Rate - Recall\n",
    "print(\"TPR\",recall_score(original, predicted,pos_label=1))\n",
    "\n",
    "#True Negative Rate - Specificity?\n",
    "print(\"TNR\",recall_score(original, predicted,pos_label=0))\n",
    "\n",
    "#geometric score - sqrt(TPR*TNR)\n",
    "print(\"geometric score\",geometric_mean_score(original,predicted))"
   ]
  },
  {
   "cell_type": "code",
   "execution_count": 432,
   "metadata": {},
   "outputs": [
    {
     "data": {
      "text/plain": [
       "-0.15700220567081158"
      ]
     },
     "execution_count": 432,
     "metadata": {},
     "output_type": "execute_result"
    }
   ],
   "source": [
    "# Dominance - TPR - TNR\n",
    "from xml import dom\n",
    "def dominance(original,predicted):\n",
    "    TPR = recall_score(original, predicted,pos_label=1)\n",
    "    TNR = recall_score(original, predicted,pos_label=0)\n",
    "    dominance = TPR - TNR\n",
    "    return dominance\n",
    "\n",
    "dominance(original,predicted)\n"
   ]
  },
  {
   "cell_type": "code",
   "execution_count": 433,
   "metadata": {},
   "outputs": [
    {
     "data": {
      "text/plain": [
       "0.3939040373365726"
      ]
     },
     "execution_count": 433,
     "metadata": {},
     "output_type": "execute_result"
    }
   ],
   "source": [
    "# Index of Imbalanced Accuracy - didn't understand\n",
    "\n",
    "gmean = make_index_balanced_accuracy(alpha=0.5, squared = True)(geometric_mean_score)\n",
    "gmean(original,predicted)\n"
   ]
  },
  {
   "cell_type": "code",
   "execution_count": 434,
   "metadata": {},
   "outputs": [
    {
     "data": {
      "text/plain": [
       "(0.6217821782178218, 0.6325080714765208)"
      ]
     },
     "execution_count": 434,
     "metadata": {},
     "output_type": "execute_result"
    }
   ],
   "source": [
    "# Accuracy\n",
    "accuracy_score(original,predicted), balanced_accuracy_score(original,predicted)"
   ]
  },
  {
   "cell_type": "code",
   "execution_count": 435,
   "metadata": {},
   "outputs": [
    {
     "name": "stdout",
     "output_type": "stream",
     "text": [
      "0.0  :  0.3866130771492991\n",
      "0.125  :  0.37902568891759664\n",
      "0.25  :  0.37143830068589423\n",
      "0.375  :  0.36385091245419177\n",
      "0.5  :  0.3562635242224893\n",
      "0.625  :  0.34867613599078684\n",
      "0.75  :  0.3410887477590844\n",
      "0.875  :  0.3335013595273819\n",
      "1.0  :  0.3259139712956795\n"
     ]
    }
   ],
   "source": [
    "# alpha is the desired balancing ratio you would like to reach, \n",
    "# so 0.5 means same number of observations on each class. \n",
    "# So if you want to understand the metric value on a balanced dataset you would use 0.5, \n",
    "# alternatively, you would use another value.\n",
    "\n",
    "for i in np.linspace(0.0, 1.0, num=9).tolist():\n",
    "    acc = make_index_balanced_accuracy(alpha=i, squared = True)(accuracy_score)\n",
    "    print(i,\" : \",acc(original,predicted))"
   ]
  },
  {
   "cell_type": "code",
   "execution_count": 436,
   "metadata": {},
   "outputs": [
    {
     "data": {
      "text/plain": [
       "0.6621967202634018"
      ]
     },
     "execution_count": 436,
     "metadata": {},
     "output_type": "execute_result"
    }
   ],
   "source": [
    "# ROC Curve\n",
    "from sklearn.metrics import (roc_auc_score, plot_roc_curve )\n",
    "from yellowbrick.classifier import ROCAUC\n",
    "\n",
    "roc_auc_score(original,predicted_proba)\n"
   ]
  },
  {
   "cell_type": "code",
   "execution_count": 437,
   "metadata": {},
   "outputs": [
    {
     "data": {
      "text/plain": [
       "<sklearn.metrics._plot.roc_curve.RocCurveDisplay at 0x1bf3384bfd0>"
      ]
     },
     "execution_count": 437,
     "metadata": {},
     "output_type": "execute_result"
    },
    {
     "data": {
      "image/png": "[encoded data removed]",
      "text/plain": [
       "<Figure size 576x396 with 1 Axes>"
      ]
     },
     "metadata": {},
     "output_type": "display_data"
    },
    {
     "data": {
      "image/png": "[encoded data removed]",
      "text/plain": [
       "<Figure size 576x396 with 1 Axes>"
      ]
     },
     "metadata": {},
     "output_type": "display_data"
    }
   ],
   "source": [
    "rf_mod = RandomForestClassifier()\n",
    "logit_mod = LogisticRegression()\n",
    "\n",
    "rf_mod.fit(X_train1,y_train2)\n",
    "logit_mod.fit(X_train1,y_train2)\n",
    "\n",
    "rf_disc = plot_roc_curve(rf_mod,X_test1, y_test2)\n",
    "logit_disc = plot_roc_curve(logit_mod,X_test1, y_test2)\n",
    "\n",
    "ax = plt.gca()\n",
    "rf_disc.plot(ax=ax, alpha=0.8)\n",
    "logit_disc.plot(ax=ax, alpha=0.8)\n"
   ]
  },
  {
   "cell_type": "code",
   "execution_count": null,
   "metadata": {},
   "outputs": [],
   "source": [
    "# ROC-AUC with Yellowbrick\n",
    "\n",
    "X,y = get_x_y_sets(dataset,X_train_dict,X_test_dict,y_train,y_test, set='combined')\n",
    "train_idx =  get_cv_indices(BlockingTimeSeriesSplit, X, y, n_splits=5, flatten=True)['train']\n",
    "test_idx = get_cv_indices(BlockingTimeSeriesSplit, X, y, n_splits=5, flatten=True)['test']\n",
    "X_train  = X.iloc[train_idx]\n",
    "X_test = X.iloc[test_idx]\n",
    "y_train = y.iloc[train_idx]\n",
    "y_test = y.iloc[test_idx]\n",
    "\n",
    "rf_mod = RandomForestClassifier()\n",
    "visualizer = ROCAUC(rf_mod)\n",
    "visualizer.fit(X_train,y_train.Labels)\n",
    "visualizer.score(X_test,y_test.Labels)\n",
    "visualizer.show()\n"
   ]
  },
  {
   "cell_type": "code",
   "execution_count": 439,
   "metadata": {},
   "outputs": [
    {
     "ename": "ValueError",
     "evalue": "Found input variables with inconsistent numbers of samples: [2010, 1259]",
     "output_type": "error",
     "traceback": [
      "\u001b[1;31m---------------------------------------------------------------------------\u001b[0m",
      "\u001b[1;31mValueError\u001b[0m                                Traceback (most recent call last)",
      "\u001b[1;32mc:\\source\\2x4-data\\app\\model_building\\feat_select.ipynb Cell 116\u001b[0m in \u001b[0;36m<module>\u001b[1;34m\u001b[0m\n\u001b[0;32m      <a href='vscode-notebook-cell:/c%3A/source/2x4-data/app/model_building/feat_select.ipynb#Z1264sZmlsZQ%3D%3D?line=0'>1</a>\u001b[0m rf_mod \u001b[39m=\u001b[39m LogisticRegression()\n\u001b[0;32m      <a href='vscode-notebook-cell:/c%3A/source/2x4-data/app/model_building/feat_select.ipynb#Z1264sZmlsZQ%3D%3D?line=1'>2</a>\u001b[0m visualizer \u001b[39m=\u001b[39m ROCAUC(rf_mod)\n\u001b[1;32m----> <a href='vscode-notebook-cell:/c%3A/source/2x4-data/app/model_building/feat_select.ipynb#Z1264sZmlsZQ%3D%3D?line=2'>3</a>\u001b[0m visualizer\u001b[39m.\u001b[39;49mfit(X_train,y_train\u001b[39m.\u001b[39;49mLabels)\n\u001b[0;32m      <a href='vscode-notebook-cell:/c%3A/source/2x4-data/app/model_building/feat_select.ipynb#Z1264sZmlsZQ%3D%3D?line=3'>4</a>\u001b[0m visualizer\u001b[39m.\u001b[39mscore(X_test,y_test\u001b[39m.\u001b[39mLabels)\n\u001b[0;32m      <a href='vscode-notebook-cell:/c%3A/source/2x4-data/app/model_building/feat_select.ipynb#Z1264sZmlsZQ%3D%3D?line=4'>5</a>\u001b[0m visualizer\u001b[39m.\u001b[39mshow()\n",
      "File \u001b[1;32mc:\\Users\\Fanjum_cwp\\AppData\\Local\\Programs\\Python\\Python310\\lib\\site-packages\\yellowbrick\\classifier\\rocauc.py:242\u001b[0m, in \u001b[0;36mROCAUC.fit\u001b[1;34m(self, X, y)\u001b[0m\n\u001b[0;32m    234\u001b[0m     \u001b[39mraise\u001b[39;00m YellowbrickValueError(\n\u001b[0;32m    235\u001b[0m         (\n\u001b[0;32m    236\u001b[0m             \u001b[39m\"\u001b[39m\u001b[39m{}\u001b[39;00m\u001b[39m does not support target type \u001b[39m\u001b[39m'\u001b[39m\u001b[39m{}\u001b[39;00m\u001b[39m'\u001b[39m\u001b[39m, \u001b[39m\u001b[39m\"\u001b[39m\n\u001b[0;32m    237\u001b[0m             \u001b[39m\"\u001b[39m\u001b[39mplease provide a binary or multiclass single-output target\u001b[39m\u001b[39m\"\u001b[39m\n\u001b[0;32m    238\u001b[0m         )\u001b[39m.\u001b[39mformat(\u001b[39mself\u001b[39m\u001b[39m.\u001b[39m\u001b[39m__class__\u001b[39m\u001b[39m.\u001b[39m\u001b[39m__name__\u001b[39m, ttype)\n\u001b[0;32m    239\u001b[0m     )\n\u001b[0;32m    241\u001b[0m \u001b[39m# Fit the model and return self\u001b[39;00m\n\u001b[1;32m--> 242\u001b[0m \u001b[39mreturn\u001b[39;00m \u001b[39msuper\u001b[39;49m(ROCAUC, \u001b[39mself\u001b[39;49m)\u001b[39m.\u001b[39;49mfit(X, y)\n",
      "File \u001b[1;32mc:\\Users\\Fanjum_cwp\\AppData\\Local\\Programs\\Python\\Python310\\lib\\site-packages\\yellowbrick\\classifier\\base.py:176\u001b[0m, in \u001b[0;36mClassificationScoreVisualizer.fit\u001b[1;34m(self, X, y, **kwargs)\u001b[0m\n\u001b[0;32m    159\u001b[0m \u001b[39m\"\"\"\u001b[39;00m\n\u001b[0;32m    160\u001b[0m \u001b[39mFit the visualizer to the specified data.\u001b[39;00m\n\u001b[0;32m    161\u001b[0m \n\u001b[1;32m   (...)\u001b[0m\n\u001b[0;32m    173\u001b[0m \u001b[39m    Returns the instance of the classification score visualizer\u001b[39;00m\n\u001b[0;32m    174\u001b[0m \u001b[39m\"\"\"\u001b[39;00m\n\u001b[0;32m    175\u001b[0m \u001b[39m# Super fits the wrapped estimator\u001b[39;00m\n\u001b[1;32m--> 176\u001b[0m \u001b[39msuper\u001b[39m(ClassificationScoreVisualizer, \u001b[39mself\u001b[39m)\u001b[39m.\u001b[39mfit(X, y, \u001b[39m*\u001b[39m\u001b[39m*\u001b[39mkwargs)\n\u001b[0;32m    178\u001b[0m \u001b[39m# Extract the classes and the class counts from the target\u001b[39;00m\n\u001b[0;32m    179\u001b[0m \u001b[39mself\u001b[39m\u001b[39m.\u001b[39mclasses_, \u001b[39mself\u001b[39m\u001b[39m.\u001b[39mclass_counts_ \u001b[39m=\u001b[39m np\u001b[39m.\u001b[39munique(y, return_counts\u001b[39m=\u001b[39m\u001b[39mTrue\u001b[39;00m)\n",
      "File \u001b[1;32mc:\\Users\\Fanjum_cwp\\AppData\\Local\\Programs\\Python\\Python310\\lib\\site-packages\\yellowbrick\\base.py:390\u001b[0m, in \u001b[0;36mModelVisualizer.fit\u001b[1;34m(self, X, y, **kwargs)\u001b[0m\n\u001b[0;32m    366\u001b[0m \u001b[39m\"\"\"\u001b[39;00m\n\u001b[0;32m    367\u001b[0m \u001b[39mFits the wrapped estimator so that subclasses that override fit can\u001b[39;00m\n\u001b[0;32m    368\u001b[0m \u001b[39mensure that the estimator is fit using super rather than a direct call\u001b[39;00m\n\u001b[1;32m   (...)\u001b[0m\n\u001b[0;32m    387\u001b[0m \u001b[39m    The fit method must always return self to support pipelines.\u001b[39;00m\n\u001b[0;32m    388\u001b[0m \u001b[39m\"\"\"\u001b[39;00m\n\u001b[0;32m    389\u001b[0m \u001b[39mif\u001b[39;00m \u001b[39mnot\u001b[39;00m check_fitted(\u001b[39mself\u001b[39m\u001b[39m.\u001b[39mestimator, is_fitted_by\u001b[39m=\u001b[39m\u001b[39mself\u001b[39m\u001b[39m.\u001b[39mis_fitted):\n\u001b[1;32m--> 390\u001b[0m     \u001b[39mself\u001b[39m\u001b[39m.\u001b[39mestimator\u001b[39m.\u001b[39mfit(X, y, \u001b[39m*\u001b[39m\u001b[39m*\u001b[39mkwargs)\n\u001b[0;32m    391\u001b[0m \u001b[39mreturn\u001b[39;00m \u001b[39mself\u001b[39m\n",
      "File \u001b[1;32mC:\\source\\2x4-data\\venv\\Lib\\site-packages\\sklearn\\linear_model\\_logistic.py:1138\u001b[0m, in \u001b[0;36mLogisticRegression.fit\u001b[1;34m(self, X, y, sample_weight)\u001b[0m\n\u001b[0;32m   1135\u001b[0m \u001b[39melse\u001b[39;00m:\n\u001b[0;32m   1136\u001b[0m     _dtype \u001b[39m=\u001b[39m [np\u001b[39m.\u001b[39mfloat64, np\u001b[39m.\u001b[39mfloat32]\n\u001b[1;32m-> 1138\u001b[0m X, y \u001b[39m=\u001b[39m \u001b[39mself\u001b[39;49m\u001b[39m.\u001b[39;49m_validate_data(\n\u001b[0;32m   1139\u001b[0m     X,\n\u001b[0;32m   1140\u001b[0m     y,\n\u001b[0;32m   1141\u001b[0m     accept_sparse\u001b[39m=\u001b[39;49m\u001b[39m\"\u001b[39;49m\u001b[39mcsr\u001b[39;49m\u001b[39m\"\u001b[39;49m,\n\u001b[0;32m   1142\u001b[0m     dtype\u001b[39m=\u001b[39;49m_dtype,\n\u001b[0;32m   1143\u001b[0m     order\u001b[39m=\u001b[39;49m\u001b[39m\"\u001b[39;49m\u001b[39mC\u001b[39;49m\u001b[39m\"\u001b[39;49m,\n\u001b[0;32m   1144\u001b[0m     accept_large_sparse\u001b[39m=\u001b[39;49msolver \u001b[39mnot\u001b[39;49;00m \u001b[39min\u001b[39;49;00m [\u001b[39m\"\u001b[39;49m\u001b[39mliblinear\u001b[39;49m\u001b[39m\"\u001b[39;49m, \u001b[39m\"\u001b[39;49m\u001b[39msag\u001b[39;49m\u001b[39m\"\u001b[39;49m, \u001b[39m\"\u001b[39;49m\u001b[39msaga\u001b[39;49m\u001b[39m\"\u001b[39;49m],\n\u001b[0;32m   1145\u001b[0m )\n\u001b[0;32m   1146\u001b[0m check_classification_targets(y)\n\u001b[0;32m   1147\u001b[0m \u001b[39mself\u001b[39m\u001b[39m.\u001b[39mclasses_ \u001b[39m=\u001b[39m np\u001b[39m.\u001b[39munique(y)\n",
      "File \u001b[1;32mC:\\source\\2x4-data\\venv\\Lib\\site-packages\\sklearn\\base.py:596\u001b[0m, in \u001b[0;36mBaseEstimator._validate_data\u001b[1;34m(self, X, y, reset, validate_separately, **check_params)\u001b[0m\n\u001b[0;32m    594\u001b[0m         y \u001b[39m=\u001b[39m check_array(y, input_name\u001b[39m=\u001b[39m\u001b[39m\"\u001b[39m\u001b[39my\u001b[39m\u001b[39m\"\u001b[39m, \u001b[39m*\u001b[39m\u001b[39m*\u001b[39mcheck_y_params)\n\u001b[0;32m    595\u001b[0m     \u001b[39melse\u001b[39;00m:\n\u001b[1;32m--> 596\u001b[0m         X, y \u001b[39m=\u001b[39m check_X_y(X, y, \u001b[39m*\u001b[39m\u001b[39m*\u001b[39mcheck_params)\n\u001b[0;32m    597\u001b[0m     out \u001b[39m=\u001b[39m X, y\n\u001b[0;32m    599\u001b[0m \u001b[39mif\u001b[39;00m \u001b[39mnot\u001b[39;00m no_val_X \u001b[39mand\u001b[39;00m check_params\u001b[39m.\u001b[39mget(\u001b[39m\"\u001b[39m\u001b[39mensure_2d\u001b[39m\u001b[39m\"\u001b[39m, \u001b[39mTrue\u001b[39;00m):\n",
      "File \u001b[1;32mC:\\source\\2x4-data\\venv\\Lib\\site-packages\\sklearn\\utils\\validation.py:1092\u001b[0m, in \u001b[0;36mcheck_X_y\u001b[1;34m(X, y, accept_sparse, accept_large_sparse, dtype, order, copy, force_all_finite, ensure_2d, allow_nd, multi_output, ensure_min_samples, ensure_min_features, y_numeric, estimator)\u001b[0m\n\u001b[0;32m   1074\u001b[0m X \u001b[39m=\u001b[39m check_array(\n\u001b[0;32m   1075\u001b[0m     X,\n\u001b[0;32m   1076\u001b[0m     accept_sparse\u001b[39m=\u001b[39maccept_sparse,\n\u001b[1;32m   (...)\u001b[0m\n\u001b[0;32m   1087\u001b[0m     input_name\u001b[39m=\u001b[39m\u001b[39m\"\u001b[39m\u001b[39mX\u001b[39m\u001b[39m\"\u001b[39m,\n\u001b[0;32m   1088\u001b[0m )\n\u001b[0;32m   1090\u001b[0m y \u001b[39m=\u001b[39m _check_y(y, multi_output\u001b[39m=\u001b[39mmulti_output, y_numeric\u001b[39m=\u001b[39my_numeric, estimator\u001b[39m=\u001b[39mestimator)\n\u001b[1;32m-> 1092\u001b[0m check_consistent_length(X, y)\n\u001b[0;32m   1094\u001b[0m \u001b[39mreturn\u001b[39;00m X, y\n",
      "File \u001b[1;32mC:\\source\\2x4-data\\venv\\Lib\\site-packages\\sklearn\\utils\\validation.py:387\u001b[0m, in \u001b[0;36mcheck_consistent_length\u001b[1;34m(*arrays)\u001b[0m\n\u001b[0;32m    385\u001b[0m uniques \u001b[39m=\u001b[39m np\u001b[39m.\u001b[39munique(lengths)\n\u001b[0;32m    386\u001b[0m \u001b[39mif\u001b[39;00m \u001b[39mlen\u001b[39m(uniques) \u001b[39m>\u001b[39m \u001b[39m1\u001b[39m:\n\u001b[1;32m--> 387\u001b[0m     \u001b[39mraise\u001b[39;00m \u001b[39mValueError\u001b[39;00m(\n\u001b[0;32m    388\u001b[0m         \u001b[39m\"\u001b[39m\u001b[39mFound input variables with inconsistent numbers of samples: \u001b[39m\u001b[39m%r\u001b[39;00m\u001b[39m\"\u001b[39m\n\u001b[0;32m    389\u001b[0m         \u001b[39m%\u001b[39m [\u001b[39mint\u001b[39m(l) \u001b[39mfor\u001b[39;00m l \u001b[39min\u001b[39;00m lengths]\n\u001b[0;32m    390\u001b[0m     )\n",
      "\u001b[1;31mValueError\u001b[0m: Found input variables with inconsistent numbers of samples: [2010, 1259]"
     ]
    }
   ],
   "source": [
    "rf_mod = LogisticRegression()\n",
    "visualizer = ROCAUC(rf_mod)\n",
    "visualizer.fit(X_train,y_train.Labels)\n",
    "visualizer.score(X_test,y_test.Labels)\n",
    "visualizer.show()"
   ]
  },
  {
   "cell_type": "code",
   "execution_count": 440,
   "metadata": {},
   "outputs": [],
   "source": [
    "from sklearn.metrics import plot_precision_recall_curve\n",
    "from yellowbrick.classifier import PrecisionRecallCurve"
   ]
  },
  {
   "cell_type": "code",
   "execution_count": 441,
   "metadata": {},
   "outputs": [
    {
     "data": {
      "image/png": "[encoded data removed]",
      "text/plain": [
       "<Figure size 576x396 with 1 Axes>"
      ]
     },
     "metadata": {},
     "output_type": "display_data"
    },
    {
     "data": {
      "image/png": "[encoded data removed]",
      "text/plain": [
       "<Figure size 576x396 with 1 Axes>"
      ]
     },
     "metadata": {},
     "output_type": "display_data"
    }
   ],
   "source": [
    "rf = RandomForestClassifier()\n",
    "lr = LogisticRegression()\n",
    "\n",
    "rf.fit(X_train1,y_train2)\n",
    "lr.fit(X_train1,y_train2)\n",
    "\n",
    "rf_disp = plot_precision_recall_curve(rf, X_test1, y_test2)\n",
    "lr_disp = plot_precision_recall_curve(lr, X_test1, y_test2)\n"
   ]
  },
  {
   "cell_type": "code",
   "execution_count": 442,
   "metadata": {},
   "outputs": [
    {
     "data": {
      "text/plain": [
       "<sklearn.metrics._plot.precision_recall_curve.PrecisionRecallDisplay at 0x1bf1b2f22c0>"
      ]
     },
     "execution_count": 442,
     "metadata": {},
     "output_type": "execute_result"
    },
    {
     "data": {
      "image/png": "[encoded data removed]",
      "text/plain": [
       "<Figure size 576x396 with 1 Axes>"
      ]
     },
     "metadata": {},
     "output_type": "display_data"
    }
   ],
   "source": [
    "ax = plt.gca()\n",
    "rf_disp.plot(ax=ax,alpha=0.8)\n",
    "lr_disp.plot(ax=ax,alpha=0.8)"
   ]
  },
  {
   "cell_type": "code",
   "execution_count": 443,
   "metadata": {},
   "outputs": [
    {
     "ename": "ValueError",
     "evalue": "Found input variables with inconsistent numbers of samples: [2010, 1259]",
     "output_type": "error",
     "traceback": [
      "\u001b[1;31m---------------------------------------------------------------------------\u001b[0m",
      "\u001b[1;31mValueError\u001b[0m                                Traceback (most recent call last)",
      "\u001b[1;32mc:\\source\\2x4-data\\app\\model_building\\feat_select.ipynb Cell 120\u001b[0m in \u001b[0;36m<module>\u001b[1;34m\u001b[0m\n\u001b[0;32m      <a href='vscode-notebook-cell:/c%3A/source/2x4-data/app/model_building/feat_select.ipynb#Z1260sZmlsZQ%3D%3D?line=0'>1</a>\u001b[0m rf_mod \u001b[39m=\u001b[39m RandomForestClassifier()\n\u001b[0;32m      <a href='vscode-notebook-cell:/c%3A/source/2x4-data/app/model_building/feat_select.ipynb#Z1260sZmlsZQ%3D%3D?line=1'>2</a>\u001b[0m visualizer \u001b[39m=\u001b[39m PrecisionRecallCurve(rf_mod)\n\u001b[1;32m----> <a href='vscode-notebook-cell:/c%3A/source/2x4-data/app/model_building/feat_select.ipynb#Z1260sZmlsZQ%3D%3D?line=2'>3</a>\u001b[0m visualizer\u001b[39m.\u001b[39;49mfit(X_train,y_train\u001b[39m.\u001b[39;49mLabels)\n\u001b[0;32m      <a href='vscode-notebook-cell:/c%3A/source/2x4-data/app/model_building/feat_select.ipynb#Z1260sZmlsZQ%3D%3D?line=3'>4</a>\u001b[0m visualizer\u001b[39m.\u001b[39mscore(X_test,y_test\u001b[39m.\u001b[39mLabels)\n\u001b[0;32m      <a href='vscode-notebook-cell:/c%3A/source/2x4-data/app/model_building/feat_select.ipynb#Z1260sZmlsZQ%3D%3D?line=4'>5</a>\u001b[0m visualizer\u001b[39m.\u001b[39mshow()\n",
      "File \u001b[1;32mc:\\Users\\Fanjum_cwp\\AppData\\Local\\Programs\\Python\\Python310\\lib\\site-packages\\yellowbrick\\classifier\\prcurve.py:288\u001b[0m, in \u001b[0;36mPrecisionRecallCurve.fit\u001b[1;34m(self, X, y)\u001b[0m\n\u001b[0;32m    280\u001b[0m     \u001b[39mraise\u001b[39;00m YellowbrickValueError(\n\u001b[0;32m    281\u001b[0m         (\n\u001b[0;32m    282\u001b[0m             \u001b[39m\"\u001b[39m\u001b[39m{}\u001b[39;00m\u001b[39m does not support target type \u001b[39m\u001b[39m'\u001b[39m\u001b[39m{}\u001b[39;00m\u001b[39m'\u001b[39m\u001b[39m, \u001b[39m\u001b[39m\"\u001b[39m\n\u001b[0;32m    283\u001b[0m             \u001b[39m\"\u001b[39m\u001b[39mplease provide a binary or multiclass single-output target\u001b[39m\u001b[39m\"\u001b[39m\n\u001b[0;32m    284\u001b[0m         )\u001b[39m.\u001b[39mformat(\u001b[39mself\u001b[39m\u001b[39m.\u001b[39m\u001b[39m__class__\u001b[39m\u001b[39m.\u001b[39m\u001b[39m__name__\u001b[39m, ttype)\n\u001b[0;32m    285\u001b[0m     )\n\u001b[0;32m    287\u001b[0m \u001b[39m# Fit the model and return self\u001b[39;00m\n\u001b[1;32m--> 288\u001b[0m \u001b[39mreturn\u001b[39;00m \u001b[39msuper\u001b[39;49m(PrecisionRecallCurve, \u001b[39mself\u001b[39;49m)\u001b[39m.\u001b[39;49mfit(X, Y)\n",
      "File \u001b[1;32mc:\\Users\\Fanjum_cwp\\AppData\\Local\\Programs\\Python\\Python310\\lib\\site-packages\\yellowbrick\\classifier\\base.py:176\u001b[0m, in \u001b[0;36mClassificationScoreVisualizer.fit\u001b[1;34m(self, X, y, **kwargs)\u001b[0m\n\u001b[0;32m    159\u001b[0m \u001b[39m\"\"\"\u001b[39;00m\n\u001b[0;32m    160\u001b[0m \u001b[39mFit the visualizer to the specified data.\u001b[39;00m\n\u001b[0;32m    161\u001b[0m \n\u001b[1;32m   (...)\u001b[0m\n\u001b[0;32m    173\u001b[0m \u001b[39m    Returns the instance of the classification score visualizer\u001b[39;00m\n\u001b[0;32m    174\u001b[0m \u001b[39m\"\"\"\u001b[39;00m\n\u001b[0;32m    175\u001b[0m \u001b[39m# Super fits the wrapped estimator\u001b[39;00m\n\u001b[1;32m--> 176\u001b[0m \u001b[39msuper\u001b[39m(ClassificationScoreVisualizer, \u001b[39mself\u001b[39m)\u001b[39m.\u001b[39mfit(X, y, \u001b[39m*\u001b[39m\u001b[39m*\u001b[39mkwargs)\n\u001b[0;32m    178\u001b[0m \u001b[39m# Extract the classes and the class counts from the target\u001b[39;00m\n\u001b[0;32m    179\u001b[0m \u001b[39mself\u001b[39m\u001b[39m.\u001b[39mclasses_, \u001b[39mself\u001b[39m\u001b[39m.\u001b[39mclass_counts_ \u001b[39m=\u001b[39m np\u001b[39m.\u001b[39munique(y, return_counts\u001b[39m=\u001b[39m\u001b[39mTrue\u001b[39;00m)\n",
      "File \u001b[1;32mc:\\Users\\Fanjum_cwp\\AppData\\Local\\Programs\\Python\\Python310\\lib\\site-packages\\yellowbrick\\base.py:390\u001b[0m, in \u001b[0;36mModelVisualizer.fit\u001b[1;34m(self, X, y, **kwargs)\u001b[0m\n\u001b[0;32m    366\u001b[0m \u001b[39m\"\"\"\u001b[39;00m\n\u001b[0;32m    367\u001b[0m \u001b[39mFits the wrapped estimator so that subclasses that override fit can\u001b[39;00m\n\u001b[0;32m    368\u001b[0m \u001b[39mensure that the estimator is fit using super rather than a direct call\u001b[39;00m\n\u001b[1;32m   (...)\u001b[0m\n\u001b[0;32m    387\u001b[0m \u001b[39m    The fit method must always return self to support pipelines.\u001b[39;00m\n\u001b[0;32m    388\u001b[0m \u001b[39m\"\"\"\u001b[39;00m\n\u001b[0;32m    389\u001b[0m \u001b[39mif\u001b[39;00m \u001b[39mnot\u001b[39;00m check_fitted(\u001b[39mself\u001b[39m\u001b[39m.\u001b[39mestimator, is_fitted_by\u001b[39m=\u001b[39m\u001b[39mself\u001b[39m\u001b[39m.\u001b[39mis_fitted):\n\u001b[1;32m--> 390\u001b[0m     \u001b[39mself\u001b[39m\u001b[39m.\u001b[39mestimator\u001b[39m.\u001b[39mfit(X, y, \u001b[39m*\u001b[39m\u001b[39m*\u001b[39mkwargs)\n\u001b[0;32m    391\u001b[0m \u001b[39mreturn\u001b[39;00m \u001b[39mself\u001b[39m\n",
      "File \u001b[1;32mC:\\source\\2x4-data\\venv\\Lib\\site-packages\\sklearn\\multiclass.py:327\u001b[0m, in \u001b[0;36mOneVsRestClassifier.fit\u001b[1;34m(self, X, y)\u001b[0m\n\u001b[0;32m    323\u001b[0m columns \u001b[39m=\u001b[39m (col\u001b[39m.\u001b[39mtoarray()\u001b[39m.\u001b[39mravel() \u001b[39mfor\u001b[39;00m col \u001b[39min\u001b[39;00m Y\u001b[39m.\u001b[39mT)\n\u001b[0;32m    324\u001b[0m \u001b[39m# In cases where individual estimators are very fast to train setting\u001b[39;00m\n\u001b[0;32m    325\u001b[0m \u001b[39m# n_jobs > 1 in can results in slower performance due to the overhead\u001b[39;00m\n\u001b[0;32m    326\u001b[0m \u001b[39m# of spawning threads.  See joblib issue #112.\u001b[39;00m\n\u001b[1;32m--> 327\u001b[0m \u001b[39mself\u001b[39m\u001b[39m.\u001b[39mestimators_ \u001b[39m=\u001b[39m Parallel(n_jobs\u001b[39m=\u001b[39;49m\u001b[39mself\u001b[39;49m\u001b[39m.\u001b[39;49mn_jobs, verbose\u001b[39m=\u001b[39;49m\u001b[39mself\u001b[39;49m\u001b[39m.\u001b[39;49mverbose)(\n\u001b[0;32m    328\u001b[0m     delayed(_fit_binary)(\n\u001b[0;32m    329\u001b[0m         \u001b[39mself\u001b[39;49m\u001b[39m.\u001b[39;49mestimator,\n\u001b[0;32m    330\u001b[0m         X,\n\u001b[0;32m    331\u001b[0m         column,\n\u001b[0;32m    332\u001b[0m         classes\u001b[39m=\u001b[39;49m[\n\u001b[0;32m    333\u001b[0m             \u001b[39m\"\u001b[39;49m\u001b[39mnot \u001b[39;49m\u001b[39m%s\u001b[39;49;00m\u001b[39m\"\u001b[39;49m \u001b[39m%\u001b[39;49m \u001b[39mself\u001b[39;49m\u001b[39m.\u001b[39;49mlabel_binarizer_\u001b[39m.\u001b[39;49mclasses_[i],\n\u001b[0;32m    334\u001b[0m             \u001b[39mself\u001b[39;49m\u001b[39m.\u001b[39;49mlabel_binarizer_\u001b[39m.\u001b[39;49mclasses_[i],\n\u001b[0;32m    335\u001b[0m         ],\n\u001b[0;32m    336\u001b[0m     )\n\u001b[0;32m    337\u001b[0m     \u001b[39mfor\u001b[39;49;00m i, column \u001b[39min\u001b[39;49;00m \u001b[39menumerate\u001b[39;49m(columns)\n\u001b[0;32m    338\u001b[0m )\n\u001b[0;32m    340\u001b[0m \u001b[39mif\u001b[39;00m \u001b[39mhasattr\u001b[39m(\u001b[39mself\u001b[39m\u001b[39m.\u001b[39mestimators_[\u001b[39m0\u001b[39m], \u001b[39m\"\u001b[39m\u001b[39mn_features_in_\u001b[39m\u001b[39m\"\u001b[39m):\n\u001b[0;32m    341\u001b[0m     \u001b[39mself\u001b[39m\u001b[39m.\u001b[39mn_features_in_ \u001b[39m=\u001b[39m \u001b[39mself\u001b[39m\u001b[39m.\u001b[39mestimators_[\u001b[39m0\u001b[39m]\u001b[39m.\u001b[39mn_features_in_\n",
      "File \u001b[1;32m\\\\VSYS-P-GW01.cloud.vsys.ca\\RDFolderRedirect$\\fanjum_cwp\\Desktop\\Python\\2x4\\venv\\Lib\\site-packages\\joblib\\parallel.py:1043\u001b[0m, in \u001b[0;36mParallel.__call__\u001b[1;34m(self, iterable)\u001b[0m\n\u001b[0;32m   1034\u001b[0m \u001b[39mtry\u001b[39;00m:\n\u001b[0;32m   1035\u001b[0m     \u001b[39m# Only set self._iterating to True if at least a batch\u001b[39;00m\n\u001b[0;32m   1036\u001b[0m     \u001b[39m# was dispatched. In particular this covers the edge\u001b[39;00m\n\u001b[1;32m   (...)\u001b[0m\n\u001b[0;32m   1040\u001b[0m     \u001b[39m# was very quick and its callback already dispatched all the\u001b[39;00m\n\u001b[0;32m   1041\u001b[0m     \u001b[39m# remaining jobs.\u001b[39;00m\n\u001b[0;32m   1042\u001b[0m     \u001b[39mself\u001b[39m\u001b[39m.\u001b[39m_iterating \u001b[39m=\u001b[39m \u001b[39mFalse\u001b[39;00m\n\u001b[1;32m-> 1043\u001b[0m     \u001b[39mif\u001b[39;00m \u001b[39mself\u001b[39;49m\u001b[39m.\u001b[39;49mdispatch_one_batch(iterator):\n\u001b[0;32m   1044\u001b[0m         \u001b[39mself\u001b[39m\u001b[39m.\u001b[39m_iterating \u001b[39m=\u001b[39m \u001b[39mself\u001b[39m\u001b[39m.\u001b[39m_original_iterator \u001b[39mis\u001b[39;00m \u001b[39mnot\u001b[39;00m \u001b[39mNone\u001b[39;00m\n\u001b[0;32m   1046\u001b[0m     \u001b[39mwhile\u001b[39;00m \u001b[39mself\u001b[39m\u001b[39m.\u001b[39mdispatch_one_batch(iterator):\n",
      "File \u001b[1;32m\\\\VSYS-P-GW01.cloud.vsys.ca\\RDFolderRedirect$\\fanjum_cwp\\Desktop\\Python\\2x4\\venv\\Lib\\site-packages\\joblib\\parallel.py:861\u001b[0m, in \u001b[0;36mParallel.dispatch_one_batch\u001b[1;34m(self, iterator)\u001b[0m\n\u001b[0;32m    859\u001b[0m     \u001b[39mreturn\u001b[39;00m \u001b[39mFalse\u001b[39;00m\n\u001b[0;32m    860\u001b[0m \u001b[39melse\u001b[39;00m:\n\u001b[1;32m--> 861\u001b[0m     \u001b[39mself\u001b[39;49m\u001b[39m.\u001b[39;49m_dispatch(tasks)\n\u001b[0;32m    862\u001b[0m     \u001b[39mreturn\u001b[39;00m \u001b[39mTrue\u001b[39;00m\n",
      "File \u001b[1;32m\\\\VSYS-P-GW01.cloud.vsys.ca\\RDFolderRedirect$\\fanjum_cwp\\Desktop\\Python\\2x4\\venv\\Lib\\site-packages\\joblib\\parallel.py:779\u001b[0m, in \u001b[0;36mParallel._dispatch\u001b[1;34m(self, batch)\u001b[0m\n\u001b[0;32m    777\u001b[0m \u001b[39mwith\u001b[39;00m \u001b[39mself\u001b[39m\u001b[39m.\u001b[39m_lock:\n\u001b[0;32m    778\u001b[0m     job_idx \u001b[39m=\u001b[39m \u001b[39mlen\u001b[39m(\u001b[39mself\u001b[39m\u001b[39m.\u001b[39m_jobs)\n\u001b[1;32m--> 779\u001b[0m     job \u001b[39m=\u001b[39m \u001b[39mself\u001b[39;49m\u001b[39m.\u001b[39;49m_backend\u001b[39m.\u001b[39;49mapply_async(batch, callback\u001b[39m=\u001b[39;49mcb)\n\u001b[0;32m    780\u001b[0m     \u001b[39m# A job can complete so quickly than its callback is\u001b[39;00m\n\u001b[0;32m    781\u001b[0m     \u001b[39m# called before we get here, causing self._jobs to\u001b[39;00m\n\u001b[0;32m    782\u001b[0m     \u001b[39m# grow. To ensure correct results ordering, .insert is\u001b[39;00m\n\u001b[0;32m    783\u001b[0m     \u001b[39m# used (rather than .append) in the following line\u001b[39;00m\n\u001b[0;32m    784\u001b[0m     \u001b[39mself\u001b[39m\u001b[39m.\u001b[39m_jobs\u001b[39m.\u001b[39minsert(job_idx, job)\n",
      "File \u001b[1;32m\\\\VSYS-P-GW01.cloud.vsys.ca\\RDFolderRedirect$\\fanjum_cwp\\Desktop\\Python\\2x4\\venv\\Lib\\site-packages\\joblib\\_parallel_backends.py:208\u001b[0m, in \u001b[0;36mSequentialBackend.apply_async\u001b[1;34m(self, func, callback)\u001b[0m\n\u001b[0;32m    206\u001b[0m \u001b[39mdef\u001b[39;00m \u001b[39mapply_async\u001b[39m(\u001b[39mself\u001b[39m, func, callback\u001b[39m=\u001b[39m\u001b[39mNone\u001b[39;00m):\n\u001b[0;32m    207\u001b[0m     \u001b[39m\"\"\"Schedule a func to be run\"\"\"\u001b[39;00m\n\u001b[1;32m--> 208\u001b[0m     result \u001b[39m=\u001b[39m ImmediateResult(func)\n\u001b[0;32m    209\u001b[0m     \u001b[39mif\u001b[39;00m callback:\n\u001b[0;32m    210\u001b[0m         callback(result)\n",
      "File \u001b[1;32m\\\\VSYS-P-GW01.cloud.vsys.ca\\RDFolderRedirect$\\fanjum_cwp\\Desktop\\Python\\2x4\\venv\\Lib\\site-packages\\joblib\\_parallel_backends.py:572\u001b[0m, in \u001b[0;36mImmediateResult.__init__\u001b[1;34m(self, batch)\u001b[0m\n\u001b[0;32m    569\u001b[0m \u001b[39mdef\u001b[39;00m \u001b[39m__init__\u001b[39m(\u001b[39mself\u001b[39m, batch):\n\u001b[0;32m    570\u001b[0m     \u001b[39m# Don't delay the application, to avoid keeping the input\u001b[39;00m\n\u001b[0;32m    571\u001b[0m     \u001b[39m# arguments in memory\u001b[39;00m\n\u001b[1;32m--> 572\u001b[0m     \u001b[39mself\u001b[39m\u001b[39m.\u001b[39mresults \u001b[39m=\u001b[39m batch()\n",
      "File \u001b[1;32m\\\\VSYS-P-GW01.cloud.vsys.ca\\RDFolderRedirect$\\fanjum_cwp\\Desktop\\Python\\2x4\\venv\\Lib\\site-packages\\joblib\\parallel.py:262\u001b[0m, in \u001b[0;36mBatchedCalls.__call__\u001b[1;34m(self)\u001b[0m\n\u001b[0;32m    258\u001b[0m \u001b[39mdef\u001b[39;00m \u001b[39m__call__\u001b[39m(\u001b[39mself\u001b[39m):\n\u001b[0;32m    259\u001b[0m     \u001b[39m# Set the default nested backend to self._backend but do not set the\u001b[39;00m\n\u001b[0;32m    260\u001b[0m     \u001b[39m# change the default number of processes to -1\u001b[39;00m\n\u001b[0;32m    261\u001b[0m     \u001b[39mwith\u001b[39;00m parallel_backend(\u001b[39mself\u001b[39m\u001b[39m.\u001b[39m_backend, n_jobs\u001b[39m=\u001b[39m\u001b[39mself\u001b[39m\u001b[39m.\u001b[39m_n_jobs):\n\u001b[1;32m--> 262\u001b[0m         \u001b[39mreturn\u001b[39;00m [func(\u001b[39m*\u001b[39margs, \u001b[39m*\u001b[39m\u001b[39m*\u001b[39mkwargs)\n\u001b[0;32m    263\u001b[0m                 \u001b[39mfor\u001b[39;00m func, args, kwargs \u001b[39min\u001b[39;00m \u001b[39mself\u001b[39m\u001b[39m.\u001b[39mitems]\n",
      "File \u001b[1;32m\\\\VSYS-P-GW01.cloud.vsys.ca\\RDFolderRedirect$\\fanjum_cwp\\Desktop\\Python\\2x4\\venv\\Lib\\site-packages\\joblib\\parallel.py:262\u001b[0m, in \u001b[0;36m<listcomp>\u001b[1;34m(.0)\u001b[0m\n\u001b[0;32m    258\u001b[0m \u001b[39mdef\u001b[39;00m \u001b[39m__call__\u001b[39m(\u001b[39mself\u001b[39m):\n\u001b[0;32m    259\u001b[0m     \u001b[39m# Set the default nested backend to self._backend but do not set the\u001b[39;00m\n\u001b[0;32m    260\u001b[0m     \u001b[39m# change the default number of processes to -1\u001b[39;00m\n\u001b[0;32m    261\u001b[0m     \u001b[39mwith\u001b[39;00m parallel_backend(\u001b[39mself\u001b[39m\u001b[39m.\u001b[39m_backend, n_jobs\u001b[39m=\u001b[39m\u001b[39mself\u001b[39m\u001b[39m.\u001b[39m_n_jobs):\n\u001b[1;32m--> 262\u001b[0m         \u001b[39mreturn\u001b[39;00m [func(\u001b[39m*\u001b[39margs, \u001b[39m*\u001b[39m\u001b[39m*\u001b[39mkwargs)\n\u001b[0;32m    263\u001b[0m                 \u001b[39mfor\u001b[39;00m func, args, kwargs \u001b[39min\u001b[39;00m \u001b[39mself\u001b[39m\u001b[39m.\u001b[39mitems]\n",
      "File \u001b[1;32mC:\\source\\2x4-data\\venv\\Lib\\site-packages\\sklearn\\utils\\fixes.py:117\u001b[0m, in \u001b[0;36m_FuncWrapper.__call__\u001b[1;34m(self, *args, **kwargs)\u001b[0m\n\u001b[0;32m    115\u001b[0m \u001b[39mdef\u001b[39;00m \u001b[39m__call__\u001b[39m(\u001b[39mself\u001b[39m, \u001b[39m*\u001b[39margs, \u001b[39m*\u001b[39m\u001b[39m*\u001b[39mkwargs):\n\u001b[0;32m    116\u001b[0m     \u001b[39mwith\u001b[39;00m config_context(\u001b[39m*\u001b[39m\u001b[39m*\u001b[39m\u001b[39mself\u001b[39m\u001b[39m.\u001b[39mconfig):\n\u001b[1;32m--> 117\u001b[0m         \u001b[39mreturn\u001b[39;00m \u001b[39mself\u001b[39m\u001b[39m.\u001b[39mfunction(\u001b[39m*\u001b[39margs, \u001b[39m*\u001b[39m\u001b[39m*\u001b[39mkwargs)\n",
      "File \u001b[1;32mC:\\source\\2x4-data\\venv\\Lib\\site-packages\\sklearn\\multiclass.py:83\u001b[0m, in \u001b[0;36m_fit_binary\u001b[1;34m(estimator, X, y, classes)\u001b[0m\n\u001b[0;32m     81\u001b[0m \u001b[39melse\u001b[39;00m:\n\u001b[0;32m     82\u001b[0m     estimator \u001b[39m=\u001b[39m clone(estimator)\n\u001b[1;32m---> 83\u001b[0m     estimator\u001b[39m.\u001b[39;49mfit(X, y)\n\u001b[0;32m     84\u001b[0m \u001b[39mreturn\u001b[39;00m estimator\n",
      "File \u001b[1;32mC:\\source\\2x4-data\\venv\\Lib\\site-packages\\sklearn\\ensemble\\_forest.py:331\u001b[0m, in \u001b[0;36mBaseForest.fit\u001b[1;34m(self, X, y, sample_weight)\u001b[0m\n\u001b[0;32m    329\u001b[0m \u001b[39mif\u001b[39;00m issparse(y):\n\u001b[0;32m    330\u001b[0m     \u001b[39mraise\u001b[39;00m \u001b[39mValueError\u001b[39;00m(\u001b[39m\"\u001b[39m\u001b[39msparse multilabel-indicator for y is not supported.\u001b[39m\u001b[39m\"\u001b[39m)\n\u001b[1;32m--> 331\u001b[0m X, y \u001b[39m=\u001b[39m \u001b[39mself\u001b[39;49m\u001b[39m.\u001b[39;49m_validate_data(\n\u001b[0;32m    332\u001b[0m     X, y, multi_output\u001b[39m=\u001b[39;49m\u001b[39mTrue\u001b[39;49;00m, accept_sparse\u001b[39m=\u001b[39;49m\u001b[39m\"\u001b[39;49m\u001b[39mcsc\u001b[39;49m\u001b[39m\"\u001b[39;49m, dtype\u001b[39m=\u001b[39;49mDTYPE\n\u001b[0;32m    333\u001b[0m )\n\u001b[0;32m    334\u001b[0m \u001b[39mif\u001b[39;00m sample_weight \u001b[39mis\u001b[39;00m \u001b[39mnot\u001b[39;00m \u001b[39mNone\u001b[39;00m:\n\u001b[0;32m    335\u001b[0m     sample_weight \u001b[39m=\u001b[39m _check_sample_weight(sample_weight, X)\n",
      "File \u001b[1;32mC:\\source\\2x4-data\\venv\\Lib\\site-packages\\sklearn\\base.py:596\u001b[0m, in \u001b[0;36mBaseEstimator._validate_data\u001b[1;34m(self, X, y, reset, validate_separately, **check_params)\u001b[0m\n\u001b[0;32m    594\u001b[0m         y \u001b[39m=\u001b[39m check_array(y, input_name\u001b[39m=\u001b[39m\u001b[39m\"\u001b[39m\u001b[39my\u001b[39m\u001b[39m\"\u001b[39m, \u001b[39m*\u001b[39m\u001b[39m*\u001b[39mcheck_y_params)\n\u001b[0;32m    595\u001b[0m     \u001b[39melse\u001b[39;00m:\n\u001b[1;32m--> 596\u001b[0m         X, y \u001b[39m=\u001b[39m check_X_y(X, y, \u001b[39m*\u001b[39m\u001b[39m*\u001b[39mcheck_params)\n\u001b[0;32m    597\u001b[0m     out \u001b[39m=\u001b[39m X, y\n\u001b[0;32m    599\u001b[0m \u001b[39mif\u001b[39;00m \u001b[39mnot\u001b[39;00m no_val_X \u001b[39mand\u001b[39;00m check_params\u001b[39m.\u001b[39mget(\u001b[39m\"\u001b[39m\u001b[39mensure_2d\u001b[39m\u001b[39m\"\u001b[39m, \u001b[39mTrue\u001b[39;00m):\n",
      "File \u001b[1;32mC:\\source\\2x4-data\\venv\\Lib\\site-packages\\sklearn\\utils\\validation.py:1092\u001b[0m, in \u001b[0;36mcheck_X_y\u001b[1;34m(X, y, accept_sparse, accept_large_sparse, dtype, order, copy, force_all_finite, ensure_2d, allow_nd, multi_output, ensure_min_samples, ensure_min_features, y_numeric, estimator)\u001b[0m\n\u001b[0;32m   1074\u001b[0m X \u001b[39m=\u001b[39m check_array(\n\u001b[0;32m   1075\u001b[0m     X,\n\u001b[0;32m   1076\u001b[0m     accept_sparse\u001b[39m=\u001b[39maccept_sparse,\n\u001b[1;32m   (...)\u001b[0m\n\u001b[0;32m   1087\u001b[0m     input_name\u001b[39m=\u001b[39m\u001b[39m\"\u001b[39m\u001b[39mX\u001b[39m\u001b[39m\"\u001b[39m,\n\u001b[0;32m   1088\u001b[0m )\n\u001b[0;32m   1090\u001b[0m y \u001b[39m=\u001b[39m _check_y(y, multi_output\u001b[39m=\u001b[39mmulti_output, y_numeric\u001b[39m=\u001b[39my_numeric, estimator\u001b[39m=\u001b[39mestimator)\n\u001b[1;32m-> 1092\u001b[0m check_consistent_length(X, y)\n\u001b[0;32m   1094\u001b[0m \u001b[39mreturn\u001b[39;00m X, y\n",
      "File \u001b[1;32mC:\\source\\2x4-data\\venv\\Lib\\site-packages\\sklearn\\utils\\validation.py:387\u001b[0m, in \u001b[0;36mcheck_consistent_length\u001b[1;34m(*arrays)\u001b[0m\n\u001b[0;32m    385\u001b[0m uniques \u001b[39m=\u001b[39m np\u001b[39m.\u001b[39munique(lengths)\n\u001b[0;32m    386\u001b[0m \u001b[39mif\u001b[39;00m \u001b[39mlen\u001b[39m(uniques) \u001b[39m>\u001b[39m \u001b[39m1\u001b[39m:\n\u001b[1;32m--> 387\u001b[0m     \u001b[39mraise\u001b[39;00m \u001b[39mValueError\u001b[39;00m(\n\u001b[0;32m    388\u001b[0m         \u001b[39m\"\u001b[39m\u001b[39mFound input variables with inconsistent numbers of samples: \u001b[39m\u001b[39m%r\u001b[39;00m\u001b[39m\"\u001b[39m\n\u001b[0;32m    389\u001b[0m         \u001b[39m%\u001b[39m [\u001b[39mint\u001b[39m(l) \u001b[39mfor\u001b[39;00m l \u001b[39min\u001b[39;00m lengths]\n\u001b[0;32m    390\u001b[0m     )\n",
      "\u001b[1;31mValueError\u001b[0m: Found input variables with inconsistent numbers of samples: [2010, 1259]"
     ]
    }
   ],
   "source": [
    "\n",
    "rf_mod = RandomForestClassifier()\n",
    "visualizer = PrecisionRecallCurve(rf_mod)\n",
    "visualizer.fit(X_train,y_train.Labels)\n",
    "visualizer.score(X_test,y_test.Labels)\n",
    "visualizer.show();"
   ]
  },
  {
   "cell_type": "code",
   "execution_count": 444,
   "metadata": {},
   "outputs": [
    {
     "data": {
      "text/plain": [
       "((2519, 725), (1764, 8))"
      ]
     },
     "execution_count": 444,
     "metadata": {},
     "output_type": "execute_result"
    }
   ],
   "source": [
    "X.shape, y.shape"
   ]
  },
  {
   "cell_type": "code",
   "execution_count": 445,
   "metadata": {},
   "outputs": [],
   "source": [
    "# MULTICLASS\n",
    "\n",
    "from locale import normalize\n",
    "rf = RandomForestClassifier(random_state=1)\n",
    "\n",
    "y.Labels.value_counts(normalize=True)\n",
    "\n",
    "X_train_dict, X_test_dict, X_val_dict, y_train, y_test, y_val, sample_weights_train, sample_weights_test, sample_weights_val \\\n",
    "    = ttv_split(Variables, Response, test_size=0.50, Validation_date_start = '2022-01-01')\n",
    "\n",
    "X, y = get_x_y_sets(dataset,X_train_dict,X_test_dict,y_train,y_test, set='combined')\n",
    "original_p, predicted_p = probabilities_from_custom_cross_val(rf,X,y,custom_cv=btscv,sampled_weights=False)\n",
    "original, predicted = predictions_from_custom_cross_val(rf,X,y,custom_cv=btscv,sampled_weights=False)"
   ]
  },
  {
   "cell_type": "code",
   "execution_count": 446,
   "metadata": {},
   "outputs": [
    {
     "data": {
      "text/plain": [
       "((222, 179, 104), (222, 179, 104))"
      ]
     },
     "execution_count": 446,
     "metadata": {},
     "output_type": "execute_result"
    }
   ],
   "source": [
    "predictions_from_prob = [row.argmax() for row in np.array(predicted_p)]\n",
    "predictions_from_prob = [-1 if x==0 else 0 if x ==1 else 1 for x in predictions_from_prob]\n",
    "(predictions_from_prob.count(-1), predictions_from_prob.count(0), predictions_from_prob.count(1)),(predicted.count(-1),predicted.count(0),predicted.count(1))\n"
   ]
  },
  {
   "cell_type": "code",
   "execution_count": 448,
   "metadata": {},
   "outputs": [
    {
     "data": {
      "text/plain": [
       "(array([0.26576577, 0.59217877, 0.42307692]),\n",
       " array([0.45038168, 0.48623853, 0.28205128]),\n",
       " array([0.33427762, 0.53400504, 0.33846154]),\n",
       " array([131, 218, 156], dtype=int64))"
      ]
     },
     "execution_count": 448,
     "metadata": {},
     "output_type": "execute_result"
    }
   ],
   "source": [
    "p,r,f,s = precision_recall_fscore_support(original,predicted,labels=[-1,0,1],average=None) \n",
    "# when average None returns a metric per label, \n",
    "# use \"macro\" - (simple means of precision and recall values and then calculate fscore based on that)\n",
    "# \"weighted\" - weighted by the support\n",
    "# 'micro' - precision and recall when we take micro values are identical?\n",
    "# Balanced_accuracy_score to identical to the recall calculated by the weighted average method above\n",
    "\n",
    "p,r,f,s"
   ]
  },
  {
   "cell_type": "code",
   "execution_count": 449,
   "metadata": {},
   "outputs": [
    {
     "data": {
      "text/html": [
       "<div>\n",
       "<style scoped>\n",
       "    .dataframe tbody tr th:only-of-type {\n",
       "        vertical-align: middle;\n",
       "    }\n",
       "\n",
       "    .dataframe tbody tr th {\n",
       "        vertical-align: top;\n",
       "    }\n",
       "\n",
       "    .dataframe thead th {\n",
       "        text-align: right;\n",
       "    }\n",
       "</style>\n",
       "<table border=\"1\" class=\"dataframe\">\n",
       "  <thead>\n",
       "    <tr style=\"text-align: right;\">\n",
       "      <th></th>\n",
       "      <th>precision</th>\n",
       "      <th>recall</th>\n",
       "      <th>fscore</th>\n",
       "      <th>specificity</th>\n",
       "      <th>fpr</th>\n",
       "      <th>accuracy</th>\n",
       "      <th>tp</th>\n",
       "      <th>tn</th>\n",
       "      <th>fp</th>\n",
       "      <th>fn</th>\n",
       "      <th>support</th>\n",
       "    </tr>\n",
       "  </thead>\n",
       "  <tbody>\n",
       "    <tr>\n",
       "      <th>-1</th>\n",
       "      <td>59%</td>\n",
       "      <td>49%</td>\n",
       "      <td>53%</td>\n",
       "      <td>75%</td>\n",
       "      <td>25%</td>\n",
       "      <td>63%</td>\n",
       "      <td>106.0</td>\n",
       "      <td>214.0</td>\n",
       "      <td>73.0</td>\n",
       "      <td>112.0</td>\n",
       "      <td>218.0</td>\n",
       "    </tr>\n",
       "    <tr>\n",
       "      <th>0</th>\n",
       "      <td>27%</td>\n",
       "      <td>45%</td>\n",
       "      <td>33%</td>\n",
       "      <td>56%</td>\n",
       "      <td>44%</td>\n",
       "      <td>53%</td>\n",
       "      <td>59.0</td>\n",
       "      <td>211.0</td>\n",
       "      <td>163.0</td>\n",
       "      <td>72.0</td>\n",
       "      <td>131.0</td>\n",
       "    </tr>\n",
       "    <tr>\n",
       "      <th>1</th>\n",
       "      <td>42%</td>\n",
       "      <td>28%</td>\n",
       "      <td>34%</td>\n",
       "      <td>83%</td>\n",
       "      <td>17%</td>\n",
       "      <td>66%</td>\n",
       "      <td>44.0</td>\n",
       "      <td>289.0</td>\n",
       "      <td>60.0</td>\n",
       "      <td>112.0</td>\n",
       "      <td>156.0</td>\n",
       "    </tr>\n",
       "    <tr>\n",
       "      <th>macro</th>\n",
       "      <td>43%</td>\n",
       "      <td>41%</td>\n",
       "      <td>40%</td>\n",
       "      <td>71%</td>\n",
       "      <td>29%</td>\n",
       "      <td>61%</td>\n",
       "      <td>209.0</td>\n",
       "      <td>714.0</td>\n",
       "      <td>296.0</td>\n",
       "      <td>296.0</td>\n",
       "      <td>505.0</td>\n",
       "    </tr>\n",
       "    <tr>\n",
       "      <th>Wt_Avg</th>\n",
       "      <td>46%</td>\n",
       "      <td>41%</td>\n",
       "      <td>42%</td>\n",
       "      <td>72%</td>\n",
       "      <td>28%</td>\n",
       "      <td>62%</td>\n",
       "      <td>209.0</td>\n",
       "      <td>714.0</td>\n",
       "      <td>296.0</td>\n",
       "      <td>296.0</td>\n",
       "      <td>505.0</td>\n",
       "    </tr>\n",
       "  </tbody>\n",
       "</table>\n",
       "</div>"
      ],
      "text/plain": [
       "       precision recall fscore specificity  fpr accuracy     tp     tn     fp  \\\n",
       "-1           59%    49%    53%         75%  25%      63%  106.0  214.0   73.0   \n",
       "0            27%    45%    33%         56%  44%      53%   59.0  211.0  163.0   \n",
       "1            42%    28%    34%         83%  17%      66%   44.0  289.0   60.0   \n",
       "macro        43%    41%    40%         71%  29%      61%  209.0  714.0  296.0   \n",
       "Wt_Avg       46%    41%    42%         72%  28%      62%  209.0  714.0  296.0   \n",
       "\n",
       "           fn  support  \n",
       "-1      112.0    218.0  \n",
       "0        72.0    131.0  \n",
       "1       112.0    156.0  \n",
       "macro   296.0    505.0  \n",
       "Wt_Avg  296.0    505.0  "
      ]
     },
     "execution_count": 449,
     "metadata": {},
     "output_type": "execute_result"
    }
   ],
   "source": [
    "cm = pd.DataFrame(confusion_matrix(original, predicted), index=Response['Labels'].unique(), columns=Response['Labels'].unique())\n",
    "all_class_metric = metrics_from_cm(cm, lab = sorted(Response['Labels'].unique()))\n",
    "all_class_metric"
   ]
  },
  {
   "cell_type": "code",
   "execution_count": 450,
   "metadata": {},
   "outputs": [
    {
     "data": {
      "text/plain": [
       "(218, 131, 156)"
      ]
     },
     "execution_count": 450,
     "metadata": {},
     "output_type": "execute_result"
    }
   ],
   "source": [
    "original.count(0), original.count(-1), original.count(1)"
   ]
  },
  {
   "cell_type": "code",
   "execution_count": null,
   "metadata": {},
   "outputs": [],
   "source": [
    "from sklearn.multiclass import OneVsRestClassifier\n",
    "from sklearn.preprocessing import binarize, label_binarize\n"
   ]
  },
  {
   "cell_type": "code",
   "execution_count": null,
   "metadata": {},
   "outputs": [],
   "source": [
    "rf = OneVsRestClassifier(\n",
    "    RandomForestClassifier(n_estimators=10, random_state=1, max_depth=1,n_jobs=-1))\n",
    "\n",
    "original_p, predicted_p = probabilities_from_custom_cross_val(rf,X,y,custom_cv=btscv,sampled_weights=False)\n",
    "original, predicted = predictions_from_custom_cross_val(rf,X,y,custom_cv=btscv,sampled_weights=False)"
   ]
  },
  {
   "cell_type": "code",
   "execution_count": null,
   "metadata": {},
   "outputs": [],
   "source": [
    "# np.array(predicted)"
   ]
  },
  {
   "cell_type": "code",
   "execution_count": null,
   "metadata": {},
   "outputs": [],
   "source": [
    "logit = LogisticRegression(random_state=1, multi_class='ovr') # for ove versus rest"
   ]
  },
  {
   "cell_type": "code",
   "execution_count": null,
   "metadata": {},
   "outputs": [],
   "source": [
    "y_binarize = label_binarize(original_p,classes=[-1,0,1]) # check if classes like this are correct - the order\n",
    "y_binarize[:9]"
   ]
  },
  {
   "cell_type": "code",
   "execution_count": null,
   "metadata": {},
   "outputs": [],
   "source": [
    "original_p[:9]"
   ]
  },
  {
   "cell_type": "code",
   "execution_count": null,
   "metadata": {},
   "outputs": [],
   "source": [
    "predicted_p[:9]"
   ]
  },
  {
   "cell_type": "code",
   "execution_count": null,
   "metadata": {},
   "outputs": [],
   "source": [
    "predicted[:9]"
   ]
  },
  {
   "cell_type": "code",
   "execution_count": null,
   "metadata": {},
   "outputs": [],
   "source": [
    "from sklearn.metrics import precision_recall_curve\n",
    "\n",
    "# checking metrics for say class -1,0,1\n",
    "p_m1,r_m1, thresholds_m1 = precision_recall_curve(y_binarize[:,0], np.array(predicted_p)[:,0])\n",
    "p_0,r_0, thresholds_0 = precision_recall_curve(y_binarize[:,1], np.array(predicted_p)[:,1])\n",
    "p_1,r_1, thresholds_1 = precision_recall_curve(y_binarize[:,2], np.array(predicted_p)[:,2])"
   ]
  },
  {
   "cell_type": "code",
   "execution_count": null,
   "metadata": {},
   "outputs": [],
   "source": [
    "(len(thresholds_m1), len(p_m1), len(r_m1)),(len(thresholds_0), len(p_0), len(r_0)),(len(thresholds_1), len(p_1), len(r_1))"
   ]
  },
  {
   "cell_type": "code",
   "execution_count": null,
   "metadata": {},
   "outputs": [],
   "source": [
    "precision_rf = dict()\n",
    "recall_rf = dict()\n",
    "\n",
    "for i in range(3):\n",
    "    precision_rf[i], recall_rf[i], _ = precision_recall_curve(y_binarize[:,i], np.array(predicted_p)[:,i])\n",
    "\n",
    "# plot the curves for each class\n",
    "\n",
    "lab = -1\n",
    "for i in range(3):\n",
    "    plt.plot(recall_rf[i], precision_rf[i], label='class {}'.format(lab))\n",
    "    lab = lab+1\n",
    "\n",
    "plt.xlabel(\"recall\")\n",
    "plt.ylabel(\"precision\")\n",
    "plt.legend(loc=\"best\")\n",
    "plt.title(\"precision vs. recall curve\")\n",
    "plt.show()"
   ]
  },
  {
   "cell_type": "code",
   "execution_count": null,
   "metadata": {},
   "outputs": [],
   "source": [
    "# A \"micro-average\": quantifying score on all classes jointly\n",
    "# for random forests\n",
    "precision_rf[\"micro\"], recall_rf[\"micro\"], _ = precision_recall_curve(\n",
    "    y_binarize.ravel(), np.array(predicted_p).ravel(),\n",
    ")"
   ]
  },
  {
   "cell_type": "code",
   "execution_count": null,
   "metadata": {},
   "outputs": [],
   "source": [
    "i = \"micro\"\n",
    "\n",
    "plt.plot(recall_rf[i], precision_rf[i], label='rf micro {}')\n",
    "\n",
    "plt.xlabel(\"recall\")\n",
    "plt.ylabel(\"precision\")\n",
    "plt.legend(loc=\"best\")\n",
    "plt.title(\"precision vs. recall curve for class{}\".format(i))\n",
    "plt.show()"
   ]
  },
  {
   "cell_type": "code",
   "execution_count": null,
   "metadata": {},
   "outputs": [],
   "source": [
    "# Using Yellowbrick\n",
    "\n",
    "X_train_dict, X_test_dict, X_val_dict, y_train, y_test, y_val, sample_weights_train, sample_weights_test, sample_weights_val \\\n",
    "    = ttv_split(Variables, Response, test_size=0.50, Validation_date_start = '2022-01-01')\n",
    "\n",
    "X,y = get_x_y_sets(dataset,X_train_dict,X_test_dict,y_train,y_test, set='combined')\n",
    "train_idx =  get_cv_indices(BlockingTimeSeriesSplit, X, y, n_splits=5, flatten=True)['train']\n",
    "test_idx = get_cv_indices(BlockingTimeSeriesSplit, X, y, n_splits=5, flatten=True)['test']\n",
    "X_train  = X.iloc[train_idx]\n",
    "X_test = X.iloc[test_idx]\n",
    "y_train = y.iloc[train_idx]\n",
    "y_test = y.iloc[test_idx]\n",
    "\n",
    "\n",
    "visualizer = PrecisionRecallCurve(\n",
    "    rf, per_class=True, cmap=\"cool\", micro=False,\n",
    ")\n",
    "\n",
    "visualizer.fit(X_train,y_train.Labels)\n",
    "visualizer.score(X_test,y_test.Labels)\n",
    "visualizer.show()"
   ]
  },
  {
   "cell_type": "markdown",
   "metadata": {},
   "source": [
    "#Micro Yellowbrick"
   ]
  },
  {
   "cell_type": "code",
   "execution_count": null,
   "metadata": {},
   "outputs": [],
   "source": [
    "visualizer = PrecisionRecallCurve(\n",
    "    rf, cmap=\"cool\", micro=True,)\n",
    "\n",
    "visualizer.fit(X_train,y_train.Labels)\n",
    "visualizer.score(X_test,y_test.Labels)\n",
    "visualizer.show()                       # Finalize and show the figure"
   ]
  },
  {
   "cell_type": "markdown",
   "metadata": {},
   "source": [
    "#ROCAUC Curve"
   ]
  },
  {
   "cell_type": "code",
   "execution_count": null,
   "metadata": {},
   "outputs": [],
   "source": [
    "rf = OneVsRestClassifier(\n",
    "    RandomForestClassifier(n_estimators=10, random_state=1, max_depth=1,n_jobs=-1))\n",
    "\n",
    "original_p, predicted_p = probabilities_from_custom_cross_val(rf,X,y,custom_cv=btscv,sampled_weights=False)\n",
    "original, predicted = predictions_from_custom_cross_val(rf,X,y,custom_cv=btscv,sampled_weights=False)\n",
    "np.array(predicted_p)[:10]"
   ]
  },
  {
   "cell_type": "code",
   "execution_count": null,
   "metadata": {},
   "outputs": [],
   "source": [
    "predicted[:10]"
   ]
  },
  {
   "cell_type": "code",
   "execution_count": null,
   "metadata": {},
   "outputs": [],
   "source": [
    "pd.DataFrame(np.array(predicted_p)).sum(axis=1)[:10]"
   ]
  },
  {
   "cell_type": "markdown",
   "metadata": {},
   "source": [
    "ROC Curve\n",
    "Per class with Sklearn"
   ]
  },
  {
   "cell_type": "code",
   "execution_count": null,
   "metadata": {},
   "outputs": [],
   "source": [
    "y_binarize = label_binarize(original_p,classes=[-1,0,1]) # check if classes like this are correct - the order\n",
    "y_binarize[:9]"
   ]
  },
  {
   "cell_type": "code",
   "execution_count": null,
   "metadata": {},
   "outputs": [],
   "source": [
    "\n",
    "# checking metrics for say class -1,0,1\n",
    "fpr_m1, tpr_m1, thresholds_m1 = roc_curve(y_binarize[:,0], np.array(predicted_p)[:,0])\n",
    "fpr_0, tpr_0, thresholds_0 = roc_curve(y_binarize[:,1], np.array(predicted_p)[:,1])\n",
    "fpr_1, tpr_1, thresholds_1 = roc_curve(y_binarize[:,2], np.array(predicted_p)[:,2])\n",
    "# false positive rate\n",
    "# fpr_m1"
   ]
  },
  {
   "cell_type": "code",
   "execution_count": null,
   "metadata": {},
   "outputs": [],
   "source": [
    "# now let's do these for all classes and capture the results in\n",
    "# dictionaries, so we can plot the values afterwards\n",
    "\n",
    "# determine the tpr and fpr\n",
    "# at various thresholds of probability\n",
    "# in a 1 vs all fashion, for each class\n",
    "\n",
    "fpr_rf = dict()\n",
    "tpr_rf = dict()\n",
    "\n",
    "# for each class\n",
    "for i in range(3):\n",
    "    \n",
    "    # determine tpr and fpr at various thresholds\n",
    "    # in a 1 vs all fashion\n",
    "    fpr_rf[i], tpr_rf[i], _ = roc_curve(y_binarize[:,i], np.array(predicted_p)[:,i])\n",
    "    \n",
    "# plot the curves for each class\n",
    "\n",
    "\n",
    "for i in range(3):\n",
    "    \n",
    "    plt.plot(fpr_rf[i], tpr_rf[i], label='class {}'.format(i))\n",
    "\n",
    "    \n",
    "plt.xlabel('False Positive Rate')\n",
    "plt.ylabel('True Positive Rate')\n",
    "plt.title('Receiver operating characteristic example')\n",
    "plt.legend(loc=\"lower right\")\n",
    "plt.show()"
   ]
  },
  {
   "cell_type": "code",
   "execution_count": null,
   "metadata": {},
   "outputs": [],
   "source": [
    "# probability vectors for all classes in 1-d vector\n",
    "np.array(predicted_p).ravel()"
   ]
  },
  {
   "cell_type": "code",
   "execution_count": null,
   "metadata": {},
   "outputs": [],
   "source": [
    "# see that the unravelled prediction vector has 3 times the size\n",
    "# of the origina target\n",
    "\n",
    "len(y_binarize), len(np.array(predicted_p).ravel())"
   ]
  },
  {
   "cell_type": "code",
   "execution_count": null,
   "metadata": {},
   "outputs": [],
   "source": [
    "# A \"micro-average\": quantifying score on all classes jointly\n",
    "\n",
    "# for random forests\n",
    "# Compute micro-average ROC curve and ROC area\n",
    "fpr_rf[\"micro\"], tpr_rf[\"micro\"], _ = roc_curve(\n",
    "    y_binarize.ravel(), np.array(predicted_p).ravel(),\n",
    ")\n",
    "# now we plot them next to each other\n",
    "\n",
    "i = \"micro\"\n",
    "\n",
    "plt.plot(fpr_rf[i], tpr_rf[i], label='rf micro {}')\n",
    "\n",
    "plt.xlabel('False Positive Rate')\n",
    "plt.ylabel('True Positive Rate')\n",
    "plt.title('Receiver operating characteristic example')\n",
    "plt.legend(loc=\"lower right\")\n",
    "plt.show()"
   ]
  },
  {
   "cell_type": "markdown",
   "metadata": {},
   "source": [
    "ROC-AUC with sklearn"
   ]
  },
  {
   "cell_type": "code",
   "execution_count": null,
   "metadata": {},
   "outputs": [],
   "source": [
    "# y_binarize, np.array(predicted_p)\n",
    "macro_roc_auc_ovo = roc_auc_score(\n",
    "    y_binarize, np.array(predicted_p), multi_class=\"ovo\", average=\"macro\")\n",
    "\n",
    "weighted_roc_auc_ovo = roc_auc_score(\n",
    "    y_binarize, np.array(predicted_p), multi_class=\"ovo\", average=\"weighted\")\n",
    "\n",
    "macro_roc_auc_ovr = roc_auc_score(\n",
    "    y_binarize, np.array(predicted_p), multi_class=\"ovr\", average=\"macro\")\n",
    "\n",
    "weighted_roc_auc_ovr = roc_auc_score(\n",
    "    y_binarize, np.array(predicted_p), multi_class=\"ovr\", average=\"weighted\")\n",
    "\n",
    "print(\"One-vs-One ROC AUC scores:\\n{:.6f} (macro),\\n{:.6f} \"\n",
    "      \"(weighted)\"\n",
    "      .format(macro_roc_auc_ovo, weighted_roc_auc_ovo))\n",
    "\n",
    "print(\"One-vs-Rest ROC AUC scores:\\n{:.6f} (macro),\\n{:.6f} \"\n",
    "      \"(weighted)\"\n",
    "      .format(macro_roc_auc_ovr, weighted_roc_auc_ovr))"
   ]
  },
  {
   "cell_type": "markdown",
   "metadata": {},
   "source": [
    "ROC curve and ROC-AUC\n",
    "Per class with Yellobrick\n",
    "Note:\n",
    "\n",
    "In the cells below, we are passing to Yellobrick classes a model that is already fit. When we fit() the Yellobrick class, it will check if the model is fit, in which case it will do nothing.\n",
    "\n",
    "If we pass a model that is not fit, and a multiclass target, Yellowbrick will wrap the model automatically with a 1 vs Rest classifier."
   ]
  },
  {
   "cell_type": "code",
   "execution_count": null,
   "metadata": {},
   "outputs": [],
   "source": [
    "rf =  RandomForestClassifier(\n",
    "        n_estimators=10, random_state=39, max_depth=1, n_jobs=4,\n",
    ")\n",
    "\n",
    "# let's reconstitute the original format of\n",
    "# the target for this calculations\n",
    "\n",
    "y_test = np.argmax(y_test, axis=1)\n",
    "\n",
    "y_test"
   ]
  },
  {
   "cell_type": "code",
   "execution_count": null,
   "metadata": {},
   "outputs": [],
   "source": [
    "# Using Yellowbrick\n",
    "\n",
    "X_train_dict, X_test_dict, X_val_dict, y_train, y_test, y_val, sample_weights_train, sample_weights_test, sample_weights_val \\\n",
    "    = ttv_split(Variables, Response, test_size=0.50, Validation_date_start = '2022-01-01')\n",
    "\n",
    "X,y = get_x_y_sets(dataset,X_train_dict,X_test_dict,y_train,y_test, set='combined')\n",
    "train_idx =  get_cv_indices(BlockingTimeSeriesSplit, X, y, n_splits=5, flatten=True)['train']\n",
    "test_idx = get_cv_indices(BlockingTimeSeriesSplit, X, y, n_splits=5, flatten=True)['test']\n",
    "X_train  = X.iloc[train_idx]\n",
    "X_test = X.iloc[test_idx]\n",
    "y_train = y.iloc[train_idx]\n",
    "y_test = y.iloc[test_idx]\n",
    "\n",
    "\n",
    "visualizer = ROCAUC(\n",
    "    rf, per_class=True, cmap=\"cool\", micro=False,\n",
    ")\n",
    "\n",
    "visualizer.fit(X_train,y_train.Labels)\n",
    "visualizer.score(X_test,y_test.Labels)\n",
    "visualizer.show()"
   ]
  },
  {
   "cell_type": "code",
   "execution_count": null,
   "metadata": {},
   "outputs": [],
   "source": [
    "# mICRO yELLOWBRICK\n",
    "\n",
    "visualizer = ROCAUC(\n",
    "    rf, per_class = False, cmap=\"cool\", micro=True,\n",
    ")\n",
    "\n",
    "visualizer.fit(X_train,y_train.Labels)\n",
    "visualizer.score(X_test,y_test.Labels)\n",
    "visualizer.show()"
   ]
  },
  {
   "cell_type": "code",
   "execution_count": null,
   "metadata": {},
   "outputs": [],
   "source": []
  },
  {
   "cell_type": "code",
   "execution_count": null,
   "metadata": {},
   "outputs": [],
   "source": []
  },
  {
   "cell_type": "code",
   "execution_count": null,
   "metadata": {},
   "outputs": [],
   "source": []
  },
  {
   "cell_type": "markdown",
   "metadata": {},
   "source": [
    "### NEW WORK ENDS"
   ]
  },
  {
   "cell_type": "code",
   "execution_count": null,
   "metadata": {},
   "outputs": [],
   "source": [
    "# **cross_val_score - accuracy_score**                                                      \n",
    "# scoring https://scikit-learn.org/stable/modules/model_evaluation.html#the-scoring-parameter-defining-model-evaluation-rules\n",
    "\n",
    "# balanced_accuracy - sklearn.metrics.balanced_accuracy_score(y_true, y_pred, *, sample_weight=None, adjusted=False)\n",
    "# The best value is 1 and the worst value is 0 when adjusted=False\n",
    "\n",
    "\n",
    "def add_metrics(model,dataset,X_train_dict,X_test_dict,y_train,y_test,set='combined', sampled_weights=False):\n",
    "\n",
    "    model_name = type(model).__name__\n",
    "    metrics_list = ['balanced_accuracy', 'precision_weighted', 'recall_weighted', 'f1_weighted', 'roc_auc_ovr_weighted', 'roc_auc_ovo_weighted','neg_log_loss']\n",
    "\n",
    "    # Using BlockedTimeSeriesSplit cross val to calculate metrics\n",
    "    X, y = get_x_y_sets(dataset,X_train_dict,X_test_dict,y_train,y_test, set='combined')\n",
    "\n",
    "    for metric in metrics_list:\n",
    "\n",
    "        if sampled_weights:\n",
    "        # cross_val_score with SAMPLE_WEIGHTS\n",
    "            score = cross_val_score(model, X, y.Labels, cv=btscv, scoring = str(metric),fit_params={'sample_weight':y.sample_weights.values}) #,error_score=\"raise\"\n",
    "        else:\n",
    "            score = cross_val_score(model, X, y.Labels, cv=btscv, scoring = str(metric)) #,error_score=\"raise\"\n",
    "            \n",
    "        features_df.loc[(model_name, dataset),metric]= round(np.mean(score),2)\n",
    "\n",
    "    # Calculating Class Wise Metrics - although predictions_from_custom_cross_val uses sample_weights to fit & predict but the metrics_from_cm doesn't use sample_weights\n",
    "    original, predicted = predictions_from_custom_cross_val(model,X, y, custom_cv = btscv, sampled_weights=sampled_weights)\n",
    "    cm = pd.DataFrame(confusion_matrix(original, predicted), index=Response['Labels'].unique(), columns=Response['Labels'].unique())\n",
    "    \n",
    "    # This is wrongly labeled - instead of showing -1,0,1 - its actually showing 0,-1,1 - change it appropriately\n",
    "    all_class_metric = metrics_from_cm(cm, lab = sorted(Response['Labels'].unique()))\n",
    "    \n",
    "    # This is wrong LOOK AT sma.ipynb\n",
    "    # Calculating pnl_score & sharpe - Adj_ret_3 is Log Returns so can simply add them after multiplying with predictions\n",
    "    Test_adj_returns = y.Adj_ret_3.iloc[get_cv_indices(BlockingTimeSeriesSplit, X, y, n_splits= 5)['test']].values.tolist()\n",
    "    return_list = [a*b for a,b in zip(Test_adj_returns,predicted)]\n",
    "    return_std = np.std(return_list) * np.sqrt(250) # Annualized\n",
    "    pnl_score = np.exp(np.average(return_list)*250) - 1 # https://investmentcache.com/magic-of-log-returns-practical-part-2/\n",
    "    sharpe_ratio = (pnl_score - 0.0)/return_std\n",
    "    features_df.loc[(model_name, dataset),'pnl'] = pnl_score\n",
    "    features_df.loc[(model_name, dataset),'sharpe'] = sharpe_ratio \n",
    "\n",
    "     \n",
    "    # Calculating Kappa Score \n",
    "    if sampled_weights:\n",
    "    # Kappa with SAMPLE_WEIGHTS\n",
    "        sample_weights = y.sample_weights.iloc[get_cv_indices(BlockingTimeSeriesSplit, X, y, n_splits= 5)['test']].values.tolist()\n",
    "        kappa_score = cohen_kappa_score(original, predicted, sample_weight=sample_weights)\n",
    "    else:\n",
    "        kappa_score = cohen_kappa_score(original, predicted)\n",
    "    \n",
    "    \n",
    "    features_df.loc[(model_name, dataset),'Kappa']= kappa_score\n",
    "    \n",
    "    # Insert the dataframe in a cell in features_df\n",
    "    features_df.loc[(model_name, dataset),'ClassDf'] = np.array([])\n",
    "    features_df.loc[(model_name, dataset),'ClassDf'].astype(object)\n",
    "    features_df.loc[(model_name, dataset),'ClassDf'] =  [all_class_metric]\n",
    "        "
   ]
  },
  {
   "cell_type": "markdown",
   "metadata": {},
   "source": [
    "### To Check!!"
   ]
  },
  {
   "cell_type": "code",
   "execution_count": null,
   "metadata": {},
   "outputs": [],
   "source": [
    "\n",
    "### Metrics from Confusion Matrix Custom Func\n",
    "def metrics_from_cm(cm, lab):\n",
    "\n",
    "    df = pd.DataFrame()\n",
    "    pre = {}\n",
    "    rec = {}\n",
    "    tp = {}\n",
    "    tn = {}\n",
    "    fp = {}\n",
    "    fn = {}\n",
    "    weighted_average = {}\n",
    "    for cat in lab:\n",
    "        pre[cat] = np.nan_to_num(cm.loc[cat,cat]/cm.sum(axis=0).loc[cat], nan=0.0, posinf=0.0, neginf=0.0)\n",
    "        rec[cat] = np.nan_to_num(cm.loc[cat,cat]/cm.sum(axis=1).loc[cat], nan=0.0, posinf=0.0, neginf=0.0)\n",
    "        tp[cat] = cm.loc[cat, cat]\n",
    "        tn[cat] = cm.drop(cat,axis=1).drop(cat,axis=0).sum().sum()\n",
    "        fp[cat] = cm[cat].drop(cat).sum()\n",
    "        fn[cat] = cm.loc[cat].drop(cat).sum()\n",
    "\n",
    "    df = pd.concat([pd.DataFrame.from_dict(pre,orient='index', columns=['precision']),pd.DataFrame.from_dict(rec,orient='index', columns=['recall'])], axis=1)\n",
    "    df['fscore'] = (2 * ((df.precision * df.recall) / (df.precision + df.recall))).fillna(0)\n",
    "    df['tp'] = pd.Series(tp)\n",
    "    df['tn'] = pd.Series(tn)\n",
    "    df['fp'] = pd.Series(fp)\n",
    "    df['fn'] = pd.Series(fn)\n",
    "\n",
    "    df['specificity'] =  pd.Series(df.tn / (df.tn + df.fp))\n",
    "    df['fpr'] = pd.Series(df.fp / (df.tn + df.fp))\n",
    "    df['accuracy'] = (df.tp + df.tn) / (df.tp + df.tn + df.fp + df.fn)\n",
    "    df['support'] = cm.sum(axis=1)\n",
    "\n",
    "    main_metrics_list = ['precision', 'recall', 'fscore', 'specificity','fpr', 'accuracy']\n",
    "    df_perc = df[main_metrics_list]\n",
    "    df = pd.concat([df_perc,df.tp,df.tn,df.fp,df.fn,df.support], axis=1)\n",
    "\n",
    "    # Weighted average\n",
    "    for cols in df.columns:\n",
    "        if cols in main_metrics_list:\n",
    "            weighted_average[cols] = df[cols].dot(df.support)/df.support.sum()\n",
    "        else:\n",
    "            weighted_average[cols] = None\n",
    "\n",
    "    df.loc['macro',main_metrics_list] = df[main_metrics_list].mean()\n",
    "\n",
    "    weight_df = pd.DataFrame.from_dict(weighted_average,orient='index', columns=['Wt_Avg']).T\n",
    "    df = pd.concat([df, weight_df], axis=0)\n",
    "\n",
    "    # % Formatting\n",
    "    for col in main_metrics_list:\n",
    "        try:\n",
    "            df[col] = df[col].mul(100).round(0).astype(int).astype(str).add('%')\n",
    "        except:\n",
    "            pass\n",
    "    other_list = ['tp', 'tn', 'fp', 'fn', 'support']\n",
    "\n",
    "    df.loc['macro', other_list] = df.loc[lab, other_list] .sum()\n",
    "    df.loc['Wt_Avg', other_list] = df.loc[lab, other_list] .sum()\n",
    "\n",
    "    return df"
   ]
  },
  {
   "cell_type": "code",
   "execution_count": null,
   "metadata": {},
   "outputs": [],
   "source": []
  },
  {
   "cell_type": "code",
   "execution_count": null,
   "metadata": {},
   "outputs": [],
   "source": []
  },
  {
   "cell_type": "code",
   "execution_count": null,
   "metadata": {},
   "outputs": [],
   "source": []
  },
  {
   "cell_type": "code",
   "execution_count": null,
   "metadata": {},
   "outputs": [],
   "source": []
  },
  {
   "cell_type": "code",
   "execution_count": null,
   "metadata": {},
   "outputs": [],
   "source": []
  },
  {
   "cell_type": "code",
   "execution_count": null,
   "metadata": {},
   "outputs": [],
   "source": [
    "# original, predicted = predictions_from_custom_cross_val(models[0],X, y, custom_cv = btscv, sampled_weights=True)\n",
    "# predicted.count(1)/len(predicted), predicted.count(-1)/len(predicted), predicted.count(0)/len(predicted)"
   ]
  },
  {
   "cell_type": "markdown",
   "metadata": {},
   "source": [
    "### Model Transformation Func"
   ]
  },
  {
   "cell_type": "markdown",
   "metadata": {},
   "source": [
    "###### NOTE THE MODEL PIPELINES ARE BEING CHECKED/FITTED TO TRAINING DATA WHILE THE METRICS ARE calculated ON Set option in func argument"
   ]
  },
  {
   "cell_type": "code",
   "execution_count": null,
   "metadata": {},
   "outputs": [],
   "source": [
    "# This function does the following steps:\n",
    "# 1. Fill the dataset with passed X Variables\n",
    "# 2. If transform = True is passed, it fits and transforms the X variable. If sampled_weights equals True, it provides test sample weights to the fitting transformation\n",
    "# 3. Inserts model's basic data (length of features etc) into features_df, PRINTS X variables Shape & the features removed for each pipe step\n",
    "# 4. Add metrics to features_df using Blocked Time Series Cross Validation with TEST set\n",
    "\n",
    "def apply_model_transform(dataset,original_dataset, pipe, model,X_train_dict,X_test_dict,y_train,y_test, set='combined',manual_list = None, sampled_weights=False, transform = False):\n",
    "    fill_with_dataset(dataset,manual_list,original_dataset)\n",
    "    if transform: transform_features_space(dataset,pipe,sampled_weights)\n",
    "    insert_and_print(model,dataset,pipe, manual_list)    \n",
    "    add_metrics(model,dataset,X_train_dict,X_test_dict,y_train,y_test,set, sampled_weights)\n",
    "    "
   ]
  },
  {
   "cell_type": "markdown",
   "metadata": {},
   "source": [
    "### Create List of Models for both Classifiers & Regressors"
   ]
  },
  {
   "cell_type": "code",
   "execution_count": null,
   "metadata": {},
   "outputs": [],
   "source": [
    "# Not using xgb_clf for now because it is too slow\n",
    "\n",
    "rf_clf = RandomForestClassifier(n_estimators=200, max_depth=3, n_jobs=-1)\n",
    "xgb_clf = XGBClassifier(n_estimators=100, max_depth=3, n_jobs=-1,eval_metric='mlogloss')\n",
    "\n",
    "# models = [rf_clf,xgb_clf]\n",
    "models = [rf_clf]"
   ]
  },
  {
   "cell_type": "markdown",
   "metadata": {},
   "source": [
    "### Dataframe to Store Model Features & Metrics"
   ]
  },
  {
   "cell_type": "code",
   "execution_count": null,
   "metadata": {},
   "outputs": [],
   "source": [
    "model_names = [type(m).__name__ for m in models]\n",
    "dataset = 'Original'\n",
    "multilevel_index = pd.MultiIndex.from_product([model_names,[dataset]],names=['Model', 'Dataset'])\n",
    "cols_names = ['Model_Details','Num_Features','Features_List','Removed_Features'] + ['balanced_accuracy', 'precision_weighted', 'recall_weighted', 'f1_weighted', 'roc_auc_ovr_weighted', 'roc_auc_ovo_weighted','neg_log_loss','Kappa','pnl','sharpe','ClassDf']\n",
    "features_df = pd.DataFrame(columns=cols_names, index=multilevel_index)"
   ]
  },
  {
   "cell_type": "markdown",
   "metadata": {},
   "source": [
    "### Initaiaze Dataset 'Original' as well as features_df"
   ]
  },
  {
   "cell_type": "code",
   "execution_count": null,
   "metadata": {},
   "outputs": [],
   "source": [
    "# Takes 8.30 mins to run\n",
    "for m in models:\n",
    "    add_to_features_df(m,dataset='Original')\n",
    "    add_metrics(model=m,dataset='Original',X_train_dict=X_train_dict,X_test_dict=X_test_dict,y_train=y_train,y_test=y_test,set='combined')\n",
    "    \n",
    "# Shapes\n",
    "get_shapes(dataset = 'Original')"
   ]
  },
  {
   "cell_type": "code",
   "execution_count": null,
   "metadata": {},
   "outputs": [],
   "source": [
    "features_df"
   ]
  },
  {
   "cell_type": "markdown",
   "metadata": {},
   "source": [
    "### ***Functions to plot Blocked TimeSeries Split****"
   ]
  },
  {
   "cell_type": "code",
   "execution_count": null,
   "metadata": {},
   "outputs": [],
   "source": [
    "n_splits = 5\n",
    "cv = BlockingTimeSeriesSplit\n",
    "cmap_data = plt.cm.Paired\n",
    "cmap_cv = plt.cm.coolwarm\n",
    "\n",
    "print(\"The horizontal axis is the training set size while the vertical axis represents the cross-validation iterations. The folds used for training are depicted in blue and the folds used for validation are depicted in orange. The final horizontal bar are the FIVE [-2,-1,0,1,2] class labels for the response variable\")\n",
    "plot_timeseries_split(np.array(X_train_dict['Original']),np.array(y_train.Labels),n_splits,cmap_cv,cmap_data,cv)\n"
   ]
  },
  {
   "cell_type": "markdown",
   "metadata": {},
   "source": [
    "### Remove all constant Variables\n",
    "<div style=\"color: Green; font-size:22px;\" class=\"alert alert-block alert-warning\"> \n",
    "<b>To Do:</b> Check why the following features have only one value\n",
    "</div>"
   ]
  },
  {
   "cell_type": "code",
   "execution_count": null,
   "metadata": {},
   "outputs": [],
   "source": [
    "# Issue with using XGBOOST - takes long time and gives warnigs Starting in XGBoost 1.3.0, the default evaluation metric used with the objective 'multi:softprob' was changed from 'merror' to 'mlogloss'. Explicitly set eval_metric if you'd like to restore the old behavior.\n",
    "# Takes 4 minutes to run\n",
    "\n",
    "warnings.filterwarnings(\"ignore\")\n",
    "\n",
    "dataset = 'Constant_weighted'\n",
    "pipe = Pipeline([(dataset, DropConstantFeatures(tol=1, variables=None, missing_values='raise'))])\n",
    "\n",
    "                     \n",
    "apply_model_transform(dataset,'Original', pipe, models[0],X_train_dict=X_train_dict,X_test_dict=X_test_dict,y_train=y_train,y_test=y_test, set='combined',manual_list = None,sampled_weights=True, transform = True)\n",
    "# apply_model_transform(dataset,'Original', pipe, models[1],X_train_dict=X_train_dict,X_test_dict=X_test_dict,y_train=y_train,y_test=y_test, set='combined',manual_list = None,sampled_weights=True, transform = True)\n",
    "\n",
    "dataset = 'Constant'\n",
    "pipe = Pipeline([(dataset, DropConstantFeatures(tol=1, variables=None, missing_values='raise'))])\n",
    "\n",
    "apply_model_transform(dataset,'Original', pipe, models[0],X_train_dict=X_train_dict,X_test_dict=X_test_dict,y_train=y_train,y_test=y_test, set='combined',manual_list = None, sampled_weights=False, transform = True)\n",
    "# apply_model_transform(dataset,'Original', pipe, models[1],X_train_dict=X_train_dict,X_test_dict=X_test_dict,y_train=y_train,y_test=y_test, set='combined',manual_list = None, sampled_weights=False, transform = True)\n"
   ]
  },
  {
   "cell_type": "code",
   "execution_count": null,
   "metadata": {},
   "outputs": [],
   "source": [
    "features_df.loc[('RandomForestClassifier','Constant_weighted'),'ClassDf'][0]"
   ]
  },
  {
   "cell_type": "markdown",
   "metadata": {},
   "source": [
    "### Build 1 Model with 1 Feature only"
   ]
  },
  {
   "cell_type": "markdown",
   "metadata": {},
   "source": [
    "**Check Kappa Score for both these models - one with sampled weights and other without**"
   ]
  },
  {
   "cell_type": "code",
   "execution_count": null,
   "metadata": {},
   "outputs": [],
   "source": [
    "# original_dataset = 'Original'\n",
    "# dataset = 'Enginered'\n",
    "# model = models[0]\n",
    "# feats_to_keep_list = ['BasisbyExpiry','YahooIndex']\n",
    "# # insert_model_stats(dataset,original_dataset, feats_to_keep_list, model, set='combined')\n",
    "# apply_model_transform(dataset,'Original', pipe, models[0],X_train_dict=X_train_dict,X_test_dict=X_test_dict,y_train=y_train,y_test=y_test, set='combined',manual_list = feats_to_keep_list, sampled_weights=True, transform = False)\n"
   ]
  },
  {
   "cell_type": "code",
   "execution_count": null,
   "metadata": {},
   "outputs": [],
   "source": [
    "# original_dataset = 'Original'\n",
    "# dataset = 'Enginered_No_weights'\n",
    "# model = models[0]\n",
    "# feats_to_keep_list = ['BasisbyExpiry','YahooIndex']\n",
    "# apply_model_transform(dataset,'Original', pipe, models[0],X_train_dict=X_train_dict,X_test_dict=X_test_dict,y_train=y_train,y_test=y_test, set='combined',manual_list = feats_to_keep_list, sampled_weights=False, transform = False)"
   ]
  },
  {
   "cell_type": "code",
   "execution_count": null,
   "metadata": {},
   "outputs": [],
   "source": [
    "# features_df.loc[('RandomForestClassifier','Enginered')]"
   ]
  },
  {
   "cell_type": "code",
   "execution_count": null,
   "metadata": {},
   "outputs": [],
   "source": [
    "# features_df.loc[('RandomForestClassifier','Enginered')].loc['ClassDf'][0]"
   ]
  },
  {
   "cell_type": "markdown",
   "metadata": {},
   "source": [
    "### Remove Quasi-constant features"
   ]
  },
  {
   "cell_type": "code",
   "execution_count": null,
   "metadata": {},
   "outputs": [],
   "source": [
    "dataset = 'QuasiConstant'\n",
    "pipe = Pipeline([(dataset, DropConstantFeatures(tol=0.95, variables=None, missing_values='raise'))])\n",
    "apply_model_transform(dataset,'Original', pipe, models[0],X_train_dict=X_train_dict,X_test_dict=X_test_dict,y_train=y_train,y_test=y_test, set='combined',manual_list = None, sampled_weights=True, transform = True)"
   ]
  },
  {
   "cell_type": "markdown",
   "metadata": {},
   "source": [
    "### Remove Duplicated Features"
   ]
  },
  {
   "cell_type": "code",
   "execution_count": null,
   "metadata": {},
   "outputs": [],
   "source": [
    "dataset = 'Duplicated'\n",
    "pipe = Pipeline([(dataset, DropDuplicateFeatures(variables=None, missing_values='raise')),])\n",
    "apply_model_transform(dataset,'Original', pipe, models[0],X_train_dict=X_train_dict,X_test_dict=X_test_dict,y_train=y_train,y_test=y_test, set='combined', sampled_weights=True, transform = True)"
   ]
  },
  {
   "cell_type": "markdown",
   "metadata": {},
   "source": [
    "### Remove Duplicated & Quasi Constant Features"
   ]
  },
  {
   "cell_type": "code",
   "execution_count": null,
   "metadata": {},
   "outputs": [],
   "source": [
    "dataset = 'Dupl&QConstant'\n",
    "pipe = Pipeline([(dataset, DropDuplicateFeatures(variables=None, missing_values='raise')),])\n",
    "apply_model_transform(dataset,'QuasiConstant', pipe, models[0],X_train_dict=X_train_dict,X_test_dict=X_test_dict,y_train=y_train,y_test=y_test, set='combined',manual_list = None, sampled_weights=True, transform = True)\n"
   ]
  },
  {
   "cell_type": "markdown",
   "metadata": {},
   "source": [
    "### Remove Correlated Features"
   ]
  },
  {
   "cell_type": "code",
   "execution_count": null,
   "metadata": {},
   "outputs": [],
   "source": [
    "warnings.filterwarnings(\"ignore\")\n",
    "\n",
    "smart_correlation_estimator = models[0]\n",
    "dataset = 'Correlated'\n",
    "pipe = Pipeline([(dataset, SmartCorrelatedSelection(variables=None, method=\"spearman\",threshold=0.95,missing_values=\"raise\",selection_method=\"variance\",estimator=smart_correlation_estimator,scoring=\"roc_auc\",cv=btscv,)),])\n",
    "apply_model_transform(dataset,'Original', pipe, models[0],X_train_dict=X_train_dict,X_test_dict=X_test_dict,y_train=y_train,y_test=y_test,set='combined', sampled_weights=True, transform = True)"
   ]
  },
  {
   "cell_type": "markdown",
   "metadata": {},
   "source": [
    "### Remove Duplicated, Quasi Constant & Correlated Features"
   ]
  },
  {
   "cell_type": "code",
   "execution_count": null,
   "metadata": {},
   "outputs": [],
   "source": [
    "warnings.filterwarnings(\"ignore\")\n",
    "smart_correlation_estimator = models[0]\n",
    "dataset = 'Clean'\n",
    "pipe = Pipeline([(dataset, SmartCorrelatedSelection(variables=None, method=\"spearman\",threshold=0.95,missing_values=\"raise\",selection_method=\"variance\",estimator=smart_correlation_estimator,scoring=\"roc_auc\",cv=btscv,)),])\n",
    "apply_model_transform(dataset,'Dupl&QConstant', pipe, models[0],X_train_dict=X_train_dict,X_test_dict=X_test_dict,y_train=y_train,y_test=y_test, set='combined',manual_list=None, sampled_weights=True, transform = True)\n"
   ]
  },
  {
   "cell_type": "markdown",
   "metadata": {},
   "source": [
    "### Clean1 - Drop constant, quasi Constant, duplicated and correlated features"
   ]
  },
  {
   "cell_type": "code",
   "execution_count": null,
   "metadata": {},
   "outputs": [],
   "source": [
    "# Takes 9 minutes to run\n",
    "warnings.filterwarnings(\"ignore\")\n",
    "\n",
    "smart_correlation_estimator = models[0]\n",
    "dataset = 'Clean1'\n",
    "pipe = Pipeline([\n",
    "    ('constant', DropConstantFeatures(tol=1, variables=None, missing_values='raise')),\n",
    "    ('quasiConstant', DropConstantFeatures(tol=0.95, variables=None, missing_values='raise')),\n",
    "    ('duplicated', DropDuplicateFeatures(variables=None, missing_values='raise')),\n",
    "    ('correlation', SmartCorrelatedSelection(variables=None, method=\"spearman\",threshold=0.95,missing_values=\"raise\",selection_method=\"variance\",estimator=smart_correlation_estimator,scoring=\"roc_auc\",cv=btscv,)),])\n",
    "apply_model_transform(dataset,'Original', pipe, models[0],X_train_dict,X_test_dict,y_train,y_test, set='combined',manual_list=None, sampled_weights=True, transform = True)\n",
    "\n",
    "# apply_model_transform(dataset,'Original', pipe, models[1],X_train_dict=X_train_dict,X_test_dict=X_test_dict,y_train=y_train,y_test=y_test, set='combined',manual_list=None, sampled_weights=False, transform = True)\n"
   ]
  },
  {
   "cell_type": "code",
   "execution_count": null,
   "metadata": {},
   "outputs": [],
   "source": [
    "features_df.drop(['Model_Details','Features_List','Removed_Features','ClassDf'],axis=1)"
   ]
  },
  {
   "cell_type": "code",
   "execution_count": null,
   "metadata": {},
   "outputs": [],
   "source": [
    "# features_df.drop(['Model_Details','Features_List','Removed_Features','ClassDf'],axis=1).loc[[('RandomForestClassifier','emginereed_list_noweights'),('RandomForestClassifier','emginereed_list_weights'),('RandomForestClassifier','Clean'),('RandomForestClassifier','Original')]].T"
   ]
  },
  {
   "cell_type": "markdown",
   "metadata": {},
   "source": [
    "### SELECTED ENGINEERED Feature List"
   ]
  },
  {
   "cell_type": "markdown",
   "metadata": {},
   "source": [
    "##### NET SPEC Length"
   ]
  },
  {
   "cell_type": "code",
   "execution_count": null,
   "metadata": {},
   "outputs": [],
   "source": [
    "dataset = 'emginereed_list_noweights'\n",
    "manual_list = emginereed_list\n",
    "pipe =  None\n",
    "apply_model_transform(dataset,'Original', pipe, models[0],X_train_dict=X_train_dict,X_test_dict=X_test_dict,y_train=y_train,y_test=y_test, set='combined',manual_list = manual_list, sampled_weights=False, transform = False)"
   ]
  },
  {
   "cell_type": "code",
   "execution_count": null,
   "metadata": {},
   "outputs": [],
   "source": [
    "\n",
    "dataset = 'emginereed_list_weights'\n",
    "apply_model_transform(dataset,'Original', pipe, models[0],X_train_dict=X_train_dict,X_test_dict=X_test_dict,y_train=y_train,y_test=y_test, set='combined',manual_list = manual_list, sampled_weights=True, transform = True)\n"
   ]
  },
  {
   "cell_type": "code",
   "execution_count": null,
   "metadata": {},
   "outputs": [],
   "source": [
    "features_df.drop(['Model_Details','Features_List','Removed_Features','ClassDf'],axis=1).loc[[('RandomForestClassifier','emginereed_list_noweights'),('RandomForestClassifier','emginereed_list_weights'),('RandomForestClassifier','Clean'),('RandomForestClassifier','Original')]].T\n",
    "# .loc[('RandomForestClassifier','Clean1')]"
   ]
  },
  {
   "cell_type": "code",
   "execution_count": null,
   "metadata": {},
   "outputs": [],
   "source": [
    "import pandas as pd\n",
    "%matplotlib inline\n",
    "#do code to support model\n",
    "#\"data\" is the X dataframe and model is the SKlearn object\n",
    "\n",
    "dataset = 'emginereed_list_noweights'\n",
    "\n",
    "model = RandomForestClassifier()\n",
    "model.fit(X_train_dict[dataset], y_train.Labels)\n",
    "\n",
    "data = X_train_dict[dataset]\n",
    "\n",
    "feats = {} # a dict to hold feature_name: feature_importance\n",
    "for feature, importance in zip(data.columns, model.feature_importances_):\n",
    "    feats[feature] = importance #add the name/value pair \n",
    "\n",
    "importances = pd.DataFrame.from_dict(feats, orient='index').rename(columns={0: 'Gini-importance'})\n",
    "importances= importances.sort_values(by='Gini-importance')[-15:]\n",
    "importances.plot(figsize=(18,6) ,kind='bar', rot=90);"
   ]
  },
  {
   "cell_type": "markdown",
   "metadata": {},
   "source": [
    "**"
   ]
  },
  {
   "cell_type": "code",
   "execution_count": null,
   "metadata": {},
   "outputs": [],
   "source": [
    "# var1 = \"LumberBasis basis\"\n",
    "# var2 = \"LumberExpiry Daystoexpiry\"\n",
    "# feat_name = 'BasisbyExpiry'\n",
    "\n",
    "# #inplace operation  \n",
    "# Variables = add_engineered_variables(Variables,var1,var2,func=np.divide,new_name=feat_name)\n",
    "\n",
    "# # When Daystoexpiry equals 0, the value of BasisbyExpiry will be inf. so made it nan\n",
    "# Variables.replace([np.inf, -np.inf], np.nan, inplace=True)\n"
   ]
  },
  {
   "cell_type": "code",
   "execution_count": null,
   "metadata": {},
   "outputs": [],
   "source": [
    "# import statsmodels.api as sm\n",
    "\n",
    "# def get_rolling_corr(df1,var1,window):\n",
    "#     df = df1.copy(deep=True)\n",
    "#     df.sort_index(ascending=True,inplace=True)\n",
    "#     df =  df[var1].rolling(window=window).corr(Response['Close_2'])\n",
    "#     return df.sort_index(ascending=False)"
   ]
  },
  {
   "cell_type": "code",
   "execution_count": null,
   "metadata": {},
   "outputs": [],
   "source": [
    "\n",
    "# def add_yahoo_index(df1,yahoo_list,var2):\n",
    "#     Variables.sort_index(ascending=False, inplace=True)\n",
    "#     Response.sort_index(ascending=False, inplace=True)\n",
    "#     final_df = Variables[yahoo_list].copy(deep=True)\n",
    "#     price_corr = {}\n",
    "#     for var1 in yahoo_list:\n",
    "#         price_corr[var1] = Variables[var1].corr(Response[var2])\n",
    "#         # print(var1,\":\",Variables[var1].corr(Response[var2]))\n",
    "#     CorrwithLumber_df = pd.DataFrame.from_dict(price_corr, orient='index', columns=['CorrwithLumberPrice']).sort_values(by='CorrwithLumberPrice',ascending=False)\n",
    "\n",
    "#     final_variable_list = CorrwithLumber_df[CorrwithLumber_df.CorrwithLumberPrice > 0.70].CorrwithLumberPrice.index.tolist()\n",
    "#     final_df = Variables[final_variable_list].copy(deep=True)\n",
    "\n",
    "#     rolling_df = pd.DataFrame(index = Variables.index)\n",
    "#     for var in final_variable_list:\n",
    "#         feat_name = var+\"_ret\"\n",
    "#         rolling_df = pd.concat([rolling_df,pd.DataFrame(get_rolling_corr(final_df,var,5), columns=[var])],axis=1)\n",
    "        \n",
    "#     # Need to add both identical lines - else doesn't work?\n",
    "#     rolling_df = rolling_df.replace([np.inf, -np.inf], np.nan).fillna(rolling_df.median())\n",
    "#     rolling_df = rolling_df.replace([np.inf, -np.inf], np.nan).fillna(rolling_df.median())\n",
    "\n",
    "\n",
    "#     pacf_dict = {}\n",
    "#     for var in final_variable_list:\n",
    "#         data = rolling_df[var].dropna().values\n",
    "#         acf, ci = sm.tsa.acf(data, alpha=0.05)\n",
    "#         pacf, ci = sm.tsa.pacf(data, alpha=0.05)\n",
    "#         pacf_dict[var] = pacf[1]   \n",
    "#         # pacf_dict[var] = acf[1]\n",
    "\n",
    "#     pacf_df = pd.DataFrame.from_dict(pacf_dict, orient='index', columns=['PACF'])\n",
    "\n",
    "#     rolling_df_auto = rolling_df.copy(deep=True)\n",
    "#     for var in final_variable_list:\n",
    "#         rolling_df[var] = rolling_df[var] * pacf_df.loc[var].values[0]\n",
    "\n",
    "#     returns_df = pd.DataFrame(index = Variables.index)\n",
    "#     for var in final_variable_list:\n",
    "        \n",
    "#         feat_name = var+\"_ret\"\n",
    "#         returns_df = pd.concat([returns_df,pd.DataFrame((np.log(Variables) - np.log(Variables.shift(-1)))[var])],axis=1)\n",
    "\n",
    "#     # Dropping Yahoo LBSF from both\n",
    "#     rolling_df_auto.drop(rolling_df_auto.columns[0],axis=1, inplace=True)\n",
    "#     returns_df.drop(returns_df.columns[0],axis=1, inplace=True)\n",
    "\n",
    "#     YahooIndex = pd.DataFrame(data= np.diag(returns_df.dot(rolling_df_auto.T)), index = returns_df.index,columns = ['YahooIndex'])\n",
    "#     df = df1.copy(deep=True)\n",
    "#     df['YahooIndex'] = YahooIndex['YahooIndex']\n",
    "\n",
    "#     return df\n",
    "    "
   ]
  },
  {
   "cell_type": "code",
   "execution_count": null,
   "metadata": {},
   "outputs": [],
   "source": [
    "# yahoo_list = ['Yahoo GSPC','Yahoo XHB','Yahoo XTN','Yahoo USDCADX','Yahoo GCF','Yahoo HGF','Yahoo CLF','Yahoo GCCIX','Yahoo LBSF','Yahoo RFP','Yahoo WFG','Yahoo IFPTO','Yahoo WY','Yahoo CFPTO']\n",
    "# var2 = \"Close_2\"\n",
    "\n",
    "# # Variables = add_yahoo_index(Variables,yahoo_list,'Close_2')\n",
    "# Variables.replace(np.nan, 0, inplace=True)"
   ]
  },
  {
   "cell_type": "code",
   "execution_count": null,
   "metadata": {},
   "outputs": [],
   "source": [
    "# Variables.replace(np.nan, 0, inplace=True)"
   ]
  },
  {
   "cell_type": "code",
   "execution_count": null,
   "metadata": {},
   "outputs": [],
   "source": []
  },
  {
   "cell_type": "code",
   "execution_count": null,
   "metadata": {},
   "outputs": [],
   "source": []
  },
  {
   "cell_type": "code",
   "execution_count": null,
   "metadata": {},
   "outputs": [],
   "source": []
  },
  {
   "cell_type": "code",
   "execution_count": null,
   "metadata": {},
   "outputs": [],
   "source": []
  },
  {
   "cell_type": "code",
   "execution_count": null,
   "metadata": {},
   "outputs": [],
   "source": [
    "features_df.index"
   ]
  },
  {
   "cell_type": "code",
   "execution_count": null,
   "metadata": {},
   "outputs": [],
   "source": [
    "'f1_weighted', 'neg_log_loss', 'cohen_kappa_score', 'precision_weighted','roc_auc_ovr_weighted'"
   ]
  },
  {
   "cell_type": "code",
   "execution_count": null,
   "metadata": {},
   "outputs": [],
   "source": [
    "features_df.sort_values(by=['pnl','f1_weighted','recall_weighted','precision_weighted'],ascending=False, inplace=True)"
   ]
  },
  {
   "cell_type": "code",
   "execution_count": null,
   "metadata": {},
   "outputs": [],
   "source": [
    "features_df.drop(['Model_Details','Features_List','Removed_Features','ClassDf'],axis=1)"
   ]
  },
  {
   "cell_type": "markdown",
   "metadata": {},
   "source": [
    "## Manual Feature Selection"
   ]
  },
  {
   "cell_type": "markdown",
   "metadata": {},
   "source": [
    "To Do\n",
    "\n",
    "**Engineered**\n",
    "1. LB_High - LB_Low\n",
    "2. Get Other Basis\n",
    "3. Use some techincal Indicators\n",
    "\n",
    "**Raw**\n",
    "1. LB_Volume\t\n",
    "2. LB_openInterest\n",
    "\n"
   ]
  },
  {
   "cell_type": "markdown",
   "metadata": {},
   "source": [
    "### Read List"
   ]
  },
  {
   "cell_type": "code",
   "execution_count": null,
   "metadata": {},
   "outputs": [],
   "source": [
    "# pd.Series(Variables.columns.tolist()).to_csv('Variable_columns_names.csv',index=False)\n",
    "\n",
    "manual_list = pd.read_excel('C:/source/2x4-data/app/model_building/ManualSelectList.xlsx',sheet_name='Variables', index_col=0)\n",
    "manual_list = manual_list[manual_list.index == 1]\n",
    "manual_list = manual_list.values.tolist()\n",
    "manual_list = [x for xs in manual_list for x in xs]"
   ]
  },
  {
   "cell_type": "code",
   "execution_count": null,
   "metadata": {},
   "outputs": [],
   "source": [
    "warnings.filterwarnings(\"ignore\")\n",
    "\n",
    "original_dataset='Original'\n",
    "\n",
    "pipe = Pipeline([\n",
    "    ('constant', DropConstantFeatures(tol=1, variables=None, missing_values='raise')),\n",
    "    ('quasiConstant', DropConstantFeatures(tol=0.90, variables=None, missing_values='raise')),\n",
    "    ('duplicated', DropDuplicateFeatures(variables=None, missing_values='raise')),\n",
    "    ('correlation', SmartCorrelatedSelection(variables=None, method=\"spearman\",threshold=0.95,missing_values=\"raise\",selection_method=\"variance\",estimator=model,scoring=\"precision_weighted\",cv=btscv,)),])\n",
    "\n",
    "dataset='ManualSelection_Weighted_Transformed'\n",
    "apply_model_transform(dataset,'Original', pipe, models[0],X_train_dict=X_train_dict,X_test_dict=X_test_dict,y_train=y_train,y_test=y_test, set='combined',manual_list = manual_list, sampled_weights=True, transform = True)\n",
    "\n",
    "dataset='ManualSelection'\n",
    "apply_model_transform(dataset,'Original', pipe, models[0],X_train_dict=X_train_dict,X_test_dict=X_test_dict,y_train=y_train,y_test=y_test, set='combined',manual_list = manual_list, sampled_weights=False, transform = False)\n",
    "\n",
    "dataset='ManualSelection_Transformed'\n",
    "apply_model_transform(dataset,'Original', pipe, models[0],X_train_dict=X_train_dict,X_test_dict=X_test_dict,y_train=y_train,y_test=y_test, set='combined',manual_list = manual_list, transform = True)\n"
   ]
  },
  {
   "cell_type": "code",
   "execution_count": null,
   "metadata": {},
   "outputs": [],
   "source": [
    "dataset='ManualSelection_Try_1'\n",
    "apply_model_transform(dataset,'Original', pipe, models[0],X_train_dict,X_test_dict,y_train,y_test, set='combined',manual_list = manual_list, sampled_weights=False, transform = True)\n"
   ]
  },
  {
   "cell_type": "code",
   "execution_count": null,
   "metadata": {},
   "outputs": [],
   "source": [
    "features_df.drop(['Model_Details','Features_List','Removed_Features','ClassDf'],axis=1)"
   ]
  },
  {
   "cell_type": "code",
   "execution_count": null,
   "metadata": {},
   "outputs": [],
   "source": [
    "features_df.drop(['Model_Details','Features_List','Removed_Features'],axis=1).loc[('RandomForestClassifier','ManualSelection_Weighted_Transformed')]['ClassDf'][0]"
   ]
  },
  {
   "cell_type": "markdown",
   "metadata": {},
   "source": [
    "### Mutual Information BY COHORT & Total"
   ]
  },
  {
   "cell_type": "code",
   "execution_count": null,
   "metadata": {},
   "outputs": [],
   "source": [
    "dataset = 'Original'\n",
    "X, y = get_x_y_sets(dataset,X_train_dict,X_test_dict,y_train,y_test, set='combined')\n",
    "X.columns = Variables_midx.columns\n",
    "train_idx  = get_cv_indices(BlockingTimeSeriesSplit, X, y, n_splits= 5, flatten = True)['train']\n",
    "test_idx = get_cv_indices(BlockingTimeSeriesSplit, X, y, n_splits= 5, flatten = True)['test']\n",
    "X_train = X.iloc[train_idx]\n",
    "y_train1 = y.iloc[train_idx]\n",
    "\n",
    "\n",
    "top_cohort_variable = pd.DataFrame(index = Variables_midx.columns.get_level_values(0).unique(), columns=['Variable','Score','Col_name'])\n",
    "for outer_col in Variables_midx.columns.get_level_values(0).unique():\n",
    "    \n",
    "    sel_  = SelectKBest(mutual_info_classif, k=1).fit(X_train.loc[:,(outer_col,)], y_train1.Labels)\n",
    "    \n",
    "    selected_col = [x for x,y in zip(pd.DataFrame(X_train.loc[:,(outer_col,)]).columns,sel_.get_support()) if y]\n",
    "    # col_name = tuple(outer_col+','+selected_col[0])\n",
    "\n",
    "    selected_col_score = [x for x,y in zip(sel_.scores_,sel_.get_support()) if y]\n",
    "    # top_cohort_variable[outer_col] = [selected_col[0],selected_col_score[0]]\n",
    "    # cols = pd.MultiIndex.from_product([[outer_col], (selected_col[0])])\n",
    "    top_cohort_variable.loc[outer_col,'Variable'] = selected_col[0]\n",
    "    top_cohort_variable.loc[outer_col,'Score'] = selected_col_score[0]\n",
    "\n",
    "    try:\n",
    "        top_cohort_variable.loc[outer_col,'Col_name'] = outer_col+\" \"+selected_col[0]\n",
    "    except:\n",
    "        print(outer_col, selected_col[0])\n",
    "\n",
    "    # inner_cols = [x for x in pd.DataFrame(X_train.loc[:,(outer_col,)]).columns]    \n",
    "    # print(sel_.scores_)\n",
    "    # print(sel_.get_support())\n",
    "    # print(outer_col,selected_col[0])\n",
    "    # print(selected_col_score)\n",
    "    # print(top_cohort_variable[outer_col])\n",
    "    # print('\\n')\n",
    "\n",
    "    # TA_df.columns = [('TA_',x) for x in TA_df.columns]\n",
    "    \n",
    "# Make column names same as Variables\n",
    "for col in top_cohort_variable.Col_name:\n",
    "    top_cohort_variable.loc[top_cohort_variable['Col_name'] == col, 'Col_name'] = str(col).translate(str.maketrans('', '', string.punctuation)).lstrip().rstrip()\n",
    "\n",
    "\n",
    "# Keeping only top 95% percentile of variables in terms of mutual info score - Enter 1- percentile value in the below line\n",
    "top_cohort_variable = top_cohort_variable[top_cohort_variable.Score > top_cohort_variable.Score.quantile(.05)]\n",
    "\n",
    "top_cohort_variable.sort_values(by=['Score'],ascending=False, inplace=True)\n",
    "\n",
    "top_cohort_variable.plot(x='Variable',y='Score',kind='bar', figsize=(20,10));\n"
   ]
  },
  {
   "cell_type": "code",
   "execution_count": null,
   "metadata": {},
   "outputs": [],
   "source": [
    "\n",
    "\n",
    "warnings.filterwarnings(\"ignore\")\n",
    "base_estimator = RandomForestClassifier(n_estimators=1, criterion='entropy', bootstrap=False)\n",
    "model = BaggingClassifier(base_estimator=base_estimator, n_estimators=100, max_features=1.0)\n",
    "dataset='Top_K_Cohort_MI_Weighted_Transformed_50%PERCENTILE'\n",
    "\n",
    "pipe = Pipeline([\n",
    "    ('constant', DropConstantFeatures(tol=1, variables=None, missing_values='raise')),\n",
    "    ('quasiConstant', DropConstantFeatures(tol=0.90, variables=None, missing_values='raise')),\n",
    "    ('duplicated', DropDuplicateFeatures(variables=None, missing_values='raise')),\n",
    "    ('correlation', SmartCorrelatedSelection(variables=None, method=\"spearman\",threshold=0.95,missing_values=\"raise\",selection_method=\"variance\",estimator=model,scoring=\"precision_weighted\",cv=btscv,)),])\n",
    "\n",
    "apply_model_transform(dataset,'Original', pipe, models[0],X_train_dict=X_train_dict,X_test_dict=X_test_dict,y_train=y_train,y_test=y_test, set='combined',manual_list = top_cohort_variable.Col_name.values.tolist(), sampled_weights=True, transform = True)\n"
   ]
  },
  {
   "cell_type": "markdown",
   "metadata": {},
   "source": [
    "### FEATURE IMPORTANCE BY COHORT"
   ]
  },
  {
   "cell_type": "code",
   "execution_count": null,
   "metadata": {},
   "outputs": [],
   "source": [
    "dataset = 'Original'\n",
    "X, y = get_x_y_sets(dataset,X_train_dict,X_test_dict,y_train,y_test, set='combined')\n",
    "X.columns = Variables_midx.columns\n",
    "train_idx  = get_cv_indices(BlockingTimeSeriesSplit, X, y, n_splits= 5, flatten = True)['train']\n",
    "test_idx = get_cv_indices(BlockingTimeSeriesSplit, X, y, n_splits= 5, flatten = True)['test']\n",
    "X_train = X.iloc[train_idx]\n",
    "y_train1 = y.iloc[train_idx]\n",
    "\n",
    "\n",
    "top_cohort_variable = pd.DataFrame(index = Variables_midx.columns.get_level_values(0).unique(), columns=['Variable','Score','Col_name'])\n",
    "for outer_col in Variables_midx.columns.get_level_values(0).unique():\n",
    "    \n",
    "\n",
    "    sel_ = SelectFromModel(RandomForestClassifier(n_estimators=10, random_state=10))\n",
    "\n",
    "    sel_.fit(X_train.loc[:,(outer_col,)], y_train1.Labels)\n",
    "\n",
    "    \n",
    "    sel_  = SelectKBest(mutual_info_classif, k=1).fit(X_train.loc[:,(outer_col,)], y_train1.Labels)\n",
    "    \n",
    "    selected_col = [x for x,y in zip(pd.DataFrame(X_train.loc[:,(outer_col,)]).columns,sel_.get_support()) if y]\n",
    "    # col_name = tuple(outer_col+','+selected_col[0])\n",
    "\n",
    "    selected_col_score = [x for x,y in zip(sel_.scores_,sel_.get_support()) if y]\n",
    "    # top_cohort_variable[outer_col] = [selected_col[0],selected_col_score[0]]\n",
    "    # cols = pd.MultiIndex.from_product([[outer_col], (selected_col[0])])\n",
    "    top_cohort_variable.loc[outer_col,'Variable'] = selected_col[0]\n",
    "    top_cohort_variable.loc[outer_col,'Score'] = selected_col_score[0]\n",
    "\n",
    "    try:\n",
    "        top_cohort_variable.loc[outer_col,'Col_name'] = outer_col+\" \"+selected_col[0]\n",
    "    except:\n",
    "        print(outer_col, selected_col[0])\n",
    "\n",
    "    # inner_cols = [x for x in pd.DataFrame(X_train.loc[:,(outer_col,)]).columns]    \n",
    "    # print(sel_.scores_)\n",
    "    # print(sel_.get_support())\n",
    "    # print(outer_col,selected_col[0])\n",
    "    # print(selected_col_score)\n",
    "    # print(top_cohort_variable[outer_col])\n",
    "    # print('\\n')\n",
    "\n",
    "    # TA_df.columns = [('TA_',x) for x in TA_df.columns]\n",
    "    \n",
    "# Make column names same as Variables\n",
    "for col in top_cohort_variable.Col_name:\n",
    "    top_cohort_variable.loc[top_cohort_variable['Col_name'] == col, 'Col_name'] = str(col).translate(str.maketrans('', '', string.punctuation)).lstrip().rstrip()\n",
    "\n",
    "\n",
    "# Keeping only top 95% percentile of variables in terms of mutual info score - Enter 1- percentile value in the below line\n",
    "top_cohort_variable = top_cohort_variable[top_cohort_variable.Score > top_cohort_variable.Score.quantile(.5)] #0.05\n",
    "\n",
    "top_cohort_variable.sort_values(by=['Score'],ascending=False, inplace=True)\n",
    "\n",
    "top_cohort_variable.plot(x='Variable',y='Score',kind='bar', figsize=(20,10));\n"
   ]
  },
  {
   "cell_type": "code",
   "execution_count": null,
   "metadata": {},
   "outputs": [],
   "source": [
    "models[0]"
   ]
  },
  {
   "cell_type": "code",
   "execution_count": null,
   "metadata": {},
   "outputs": [],
   "source": [
    "warnings.filterwarnings(\"ignore\")\n",
    "\n",
    "model = models[1]\n",
    "dataset='Top_K_Cohort_FeatImp_Weighted_Transformed_50%PERCENTILE'\n",
    "\n",
    "pipe = Pipeline([\n",
    "    ('constant', DropConstantFeatures(tol=1, variables=None, missing_values='raise')),\n",
    "    ('duplicated', DropDuplicateFeatures(variables=None, missing_values='raise')),\n",
    "    ('correlation', SmartCorrelatedSelection(variables=None, method=\"spearman\",threshold=0.95,missing_values=\"raise\",selection_method=\"variance\",estimator=model,scoring=\"f1_weighted\",cv=btscv,)),])\n",
    "\n",
    "apply_model_transform(dataset,'Original', pipe, models[0],X_train_dict=X_train_dict,X_test_dict=X_test_dict,y_train=y_train,y_test=y_test, set='combined',manual_list = top_cohort_variable.Col_name.values.tolist(), sampled_weights=True, transform = True)\n"
   ]
  },
  {
   "cell_type": "code",
   "execution_count": null,
   "metadata": {},
   "outputs": [],
   "source": [
    "features_df.drop(['Model_Details','Features_List','Removed_Features','ClassDf'],axis=1)"
   ]
  },
  {
   "cell_type": "code",
   "execution_count": null,
   "metadata": {},
   "outputs": [],
   "source": []
  },
  {
   "cell_type": "code",
   "execution_count": null,
   "metadata": {},
   "outputs": [],
   "source": [
    "STOP HERE\n"
   ]
  },
  {
   "cell_type": "code",
   "execution_count": null,
   "metadata": {},
   "outputs": [],
   "source": []
  },
  {
   "cell_type": "code",
   "execution_count": null,
   "metadata": {},
   "outputs": [],
   "source": [
    "sel_  = SelectKBest(mutual_info_classif, k=20).fit(X_train, y_train1.Labels)\n",
    "X_train.columns[sel_.get_support()]"
   ]
  },
  {
   "cell_type": "code",
   "execution_count": null,
   "metadata": {},
   "outputs": [],
   "source": [
    "# determine the mutual information\n",
    "\n",
    "# mi = mutual_info_classif(X_train, y_train1.Labels)\n",
    "# mi = pd.Series(mi)\n",
    "# mi.index = X_train.columns\n",
    "# mi.sort_values(ascending=False).plot.bar(figsize=(20, 6))\n",
    "# plt.ylabel('Mutual Information')\n",
    "\n",
    "t = SelectKBest(mutual_info_classif).fit(X_train, y_train1.Labels)\n",
    "t"
   ]
  },
  {
   "cell_type": "code",
   "execution_count": null,
   "metadata": {},
   "outputs": [],
   "source": [
    "t.scores_.tolist()"
   ]
  },
  {
   "cell_type": "code",
   "execution_count": null,
   "metadata": {},
   "outputs": [],
   "source": [
    "# pd.DataFrame(data = [t.scores_.tolist(),X_train.columns], columns = ['Score','Selected']).sort_values(by=['Score'],ascending=False)"
   ]
  },
  {
   "cell_type": "markdown",
   "metadata": {},
   "source": [
    "**yellowbricks**"
   ]
  },
  {
   "cell_type": "code",
   "execution_count": null,
   "metadata": {},
   "outputs": [],
   "source": [
    "dataset = 'ManualSelection'\n",
    "X,y = get_x_y_sets(dataset,X_train_dict,X_test_dict,y_train,y_test, set='combined')\n",
    "train_idx =  get_cv_indices(BlockingTimeSeriesSplit, X, y, n_splits, flatten=True)['train']\n",
    "test_idx = get_cv_indices(BlockingTimeSeriesSplit, X, y, n_splits, flatten=True)['test']\n",
    "X_train  = X.iloc[train_idx]\n",
    "X_test = X.iloc[test_idx]\n",
    "y_train = y.iloc[train_idx]\n",
    "y_test = y.iloc[test_idx]\n",
    "\n",
    "from yellowbrick.classifier import (ClassificationReport,  DiscriminationThreshold,)\n",
    "rf = RandomForestClassifier(max_depth=4, n_estimators=20, n_jobs=-1)\n",
    "visualizer = ClassificationReport(rf, support=True)\n",
    "\n",
    "visualizer.fit(X_train, y_train.Labels)        # Fit the visualizer and the model\n",
    "visualizer.score(X_test , y_test.Labels)        # Evaluate the model on the test data\n",
    "visualizer.show()                       # Finalize and show the figure"
   ]
  },
  {
   "cell_type": "code",
   "execution_count": null,
   "metadata": {},
   "outputs": [],
   "source": [
    "dataset = 'ManualSelection'\n",
    "X,y = get_x_y_sets(dataset,X_train_dict,X_test_dict,y_train,y_test, set='combined')\n",
    "rf = RandomForestClassifier(max_depth=4, n_estimators=20, n_jobs=-1)\n",
    "original, predicted = predictions_from_custom_cross_val(rf,X, y, custom_cv = BlockingTimeSeriesSplit(n_splits=5), sampled_weights=True)\n",
    "# cm = pd.DataFrame(confusion_matrix(original, predicted), index=Response['Labels'].unique(), columns=Response['Labels'].unique())"
   ]
  },
  {
   "cell_type": "code",
   "execution_count": null,
   "metadata": {},
   "outputs": [],
   "source": [
    "len(X), len(y)"
   ]
  },
  {
   "cell_type": "code",
   "execution_count": null,
   "metadata": {},
   "outputs": [],
   "source": [
    "len(X_train_dict['ManualSelection']), len(y_train)"
   ]
  },
  {
   "cell_type": "code",
   "execution_count": null,
   "metadata": {},
   "outputs": [],
   "source": [
    "\n",
    "model = LogisticRegression(multi_class=\"auto\", solver=\"liblinear\")\n",
    "\n",
    "# The ConfusionMatrix visualizer taxes a model\n",
    "cm = ConfusionMatrix(model, classes=[-1,-0,1])\n",
    "\n",
    "# Fit fits the passed model. This is unnecessary if you pass the visualizer a pre-fitted model\n",
    "cm.fit(X_train, y_train)\n",
    "\n",
    "# To create the ConfusionMatrix, we need some test data. Score runs predict() on the data\n",
    "# and then creates the confusion_matrix from scikit-learn.\n",
    "cm.score(X_test, y_test)\n",
    "\n",
    "# How did we do?\n",
    "cm.show()"
   ]
  },
  {
   "cell_type": "code",
   "execution_count": null,
   "metadata": {},
   "outputs": [],
   "source": [
    "features_df.drop(['Model_Details','Features_List','Removed_Features'],axis=1).loc[('RandomForestClassifier','ManualSelection')]['ClassDf'][0]"
   ]
  },
  {
   "cell_type": "markdown",
   "metadata": {},
   "source": [
    "### Save Below"
   ]
  },
  {
   "cell_type": "code",
   "execution_count": null,
   "metadata": {},
   "outputs": [],
   "source": [
    "X = pd.concat([X_train_dict['Original'],X_test_dict['Original']],axis=0)\n",
    "y = pd.concat([y_train,y_test],axis=0)\n",
    "model = models[0]"
   ]
  },
  {
   "cell_type": "code",
   "execution_count": null,
   "metadata": {},
   "outputs": [],
   "source": [
    "com1_original, com1_predicted = predictions_from_custom_cross_val(model,X, y, custom_cv = btscv, sampled_weights=False)\n",
    "com2_original, com2_predicted = predictions_from_custom_cross_val(model,X, y, custom_cv = btscv, sampled_weights=True)\n",
    "com1_original == com2_original, com1_predicted == com2_predicted\n"
   ]
  },
  {
   "cell_type": "code",
   "execution_count": null,
   "metadata": {},
   "outputs": [],
   "source": [
    "\n",
    "pd.DataFrame(data = [pd.Series(com1_predicted).value_counts().sort_index(), pd.Series(com1_original).value_counts().sort_index()], index = ['predicted','original']).T\n",
    "\n"
   ]
  },
  {
   "cell_type": "code",
   "execution_count": null,
   "metadata": {},
   "outputs": [],
   "source": [
    "pd.DataFrame(data = [pd.Series(com2_predicted).value_counts().sort_index(), pd.Series(com2_original).value_counts().sort_index()], index = ['predicted','original']).T\n"
   ]
  },
  {
   "cell_type": "code",
   "execution_count": null,
   "metadata": {},
   "outputs": [],
   "source": [
    "# class_weight='balanced'\n",
    "\n"
   ]
  },
  {
   "cell_type": "code",
   "execution_count": null,
   "metadata": {},
   "outputs": [],
   "source": [
    "from sklearn.utils.class_weight import compute_class_weight, compute_sample_weight\n",
    "class_weights = compute_class_weight(class_weight = \"balanced\",classes= lab, y = y.Labels)\n",
    "computed_sample_weights = compute_sample_weight('balanced', y.Labels)\n",
    "class_weights"
   ]
  },
  {
   "cell_type": "code",
   "execution_count": null,
   "metadata": {},
   "outputs": [],
   "source": [
    "computed_sample_weights"
   ]
  },
  {
   "cell_type": "code",
   "execution_count": null,
   "metadata": {},
   "outputs": [],
   "source": [
    "group_df = pd.DataFrame(data = [computed_sample_weights, y.Labels], index = ['computed_sample_weights','Labels']).T\n",
    "group_df\n",
    "group_df.groupby('Labels').mean()"
   ]
  },
  {
   "cell_type": "code",
   "execution_count": null,
   "metadata": {},
   "outputs": [],
   "source": [
    "Response[['Labels','sample_weights']].groupby('Labels').sum()\n",
    "# Response[['Labels','sample_weights']].groupby('Labels').mean()\n"
   ]
  },
  {
   "cell_type": "code",
   "execution_count": null,
   "metadata": {},
   "outputs": [],
   "source": [
    "\n",
    "create_bins_data(Response,'sample_weights',10)"
   ]
  },
  {
   "cell_type": "code",
   "execution_count": null,
   "metadata": {},
   "outputs": [],
   "source": [
    "features_df.drop(['Model_Details','Features_List','Removed_Features','ClassDf'],axis=1)"
   ]
  },
  {
   "cell_type": "code",
   "execution_count": null,
   "metadata": {},
   "outputs": [],
   "source": [
    "features_df.loc[('RandomForestClassifier','ManualSelection')]['ClassDf'][0]"
   ]
  },
  {
   "cell_type": "code",
   "execution_count": null,
   "metadata": {},
   "outputs": [],
   "source": [
    "features_df.loc[('RandomForestClassifier','Clean1')]['ClassDf'][0]"
   ]
  },
  {
   "cell_type": "code",
   "execution_count": null,
   "metadata": {},
   "outputs": [],
   "source": [
    "feats_to_keep_list = ['LumberContractSpreads FirstSecond','lumbermovingaverages MA200']"
   ]
  },
  {
   "cell_type": "code",
   "execution_count": null,
   "metadata": {},
   "outputs": [],
   "source": [
    "original_dataset = 'Original'\n",
    "dataset = 'Spread_1-2_wts'\n",
    "model = models[0]\n",
    "feats_to_keep_list = ['LumberContractSpreads FirstSecond','lumbermovingaverages MA200']\n",
    "# insert_model_stats(dataset,original_dataset, feats_to_keep_list, model, set='combined', sampled_weights= True)\n"
   ]
  },
  {
   "cell_type": "code",
   "execution_count": null,
   "metadata": {},
   "outputs": [],
   "source": [
    "X = pd.concat([X_train_dict[dataset],X_test_dict[dataset]]).sort_index()\n",
    "y = pd.concat([y_train,y_test]).sort_index() \n",
    "\n",
    "\n",
    "original, predicted = predictions_from_custom_cross_val(model,X, y, custom_cv = btscv)\n",
    "cm = pd.DataFrame(confusion_matrix(original, predicted), index=lab, columns=lab)\n",
    "all_class_metric = metrics_from_cm(cm, lab = sorted(Response['Labels'].unique()))"
   ]
  },
  {
   "cell_type": "code",
   "execution_count": null,
   "metadata": {},
   "outputs": [],
   "source": [
    "features_df.drop(['Model_Details','Features_List','Removed_Features','ClassDf'],axis=1)"
   ]
  },
  {
   "cell_type": "code",
   "execution_count": null,
   "metadata": {},
   "outputs": [],
   "source": [
    "cm"
   ]
  },
  {
   "cell_type": "code",
   "execution_count": null,
   "metadata": {},
   "outputs": [],
   "source": [
    "features_df.loc[('RandomForestClassifier','Spread_1-2_wts')]['ClassDf'][0]"
   ]
  },
  {
   "cell_type": "code",
   "execution_count": null,
   "metadata": {},
   "outputs": [],
   "source": [
    "features_df.loc[('RandomForestClassifier','Spread_1-2')]['ClassDf'][0]"
   ]
  },
  {
   "cell_type": "code",
   "execution_count": null,
   "metadata": {},
   "outputs": [],
   "source": [
    "features_df.loc[('RandomForestClassifier','Spread_1-2_MA200')]['ClassDf'][0]\n"
   ]
  },
  {
   "cell_type": "code",
   "execution_count": null,
   "metadata": {},
   "outputs": [],
   "source": [
    "features_df.loc[('RandomForestClassifier','Spread_1-2')]"
   ]
  },
  {
   "cell_type": "code",
   "execution_count": null,
   "metadata": {},
   "outputs": [],
   "source": [
    "features_df.loc[('RandomForestClassifier','Spread_1-2_MA200')]\n"
   ]
  },
  {
   "cell_type": "code",
   "execution_count": null,
   "metadata": {},
   "outputs": [],
   "source": [
    "X_train_dict[dataset].iloc[:, : 8]"
   ]
  },
  {
   "cell_type": "code",
   "execution_count": null,
   "metadata": {},
   "outputs": [],
   "source": []
  },
  {
   "cell_type": "code",
   "execution_count": null,
   "metadata": {},
   "outputs": [],
   "source": [
    "# 'log_loss'\n",
    "\n",
    "\n",
    "from mlxtend.feature_selection import SequentialFeatureSelector as SFS\n",
    "sfs = SFS(model, \n",
    "           k_features=6, # the more features we want, the longer it will take to run\n",
    "           forward=True, \n",
    "           floating=True, # see the docs for more details in this parameter\n",
    "           verbose=2, # this indicates how much to print out intermediate steps\n",
    "           scoring='f1_weighted', \n",
    "           cv=btscv,\n",
    "           n_jobs=-1,\n",
    "            \n",
    "         )\n",
    "\n",
    "weights = np.abs(y.Adj_ret_3.values)\n",
    "\n",
    "sfs = sfs.fit(X, y.Labels,sample_weight=weights)"
   ]
  },
  {
   "cell_type": "code",
   "execution_count": null,
   "metadata": {},
   "outputs": [],
   "source": [
    "df = pd.DataFrame.from_dict(sfs.get_metric_dict()).T\n",
    "df.sort_values('avg_score', inplace=True, ascending=False)\n",
    "df"
   ]
  },
  {
   "cell_type": "code",
   "execution_count": null,
   "metadata": {},
   "outputs": [],
   "source": [
    "#### TEST \n",
    "dataset = 'Original'\n",
    "X = X_train_dict[dataset].sort_index()\n",
    "y = y_train.sort_index() \n",
    "\n",
    "model = RandomForestClassifier(n_estimators=1, max_depth=1, n_jobs=-1)\n",
    "  \n",
    "\n",
    "efs1 = EFS(model, \n",
    "           min_features=1,\n",
    "           max_features=1,\n",
    "           scoring='f1',\n",
    "           print_progress=True,\n",
    "           cv=btscv)\n",
    "\n",
    "efs1 = efs1.fit(X, y.Labels)\n",
    "\n"
   ]
  },
  {
   "cell_type": "code",
   "execution_count": null,
   "metadata": {},
   "outputs": [],
   "source": [
    "print('Best accuracy score: %.2f' % efs1.best_score_)\n",
    "print('Best subset (indices):', efs1.best_idx_)\n",
    "print('Best subset (corresponding names):', efs1.best_feature_names_)"
   ]
  },
  {
   "cell_type": "code",
   "execution_count": null,
   "metadata": {},
   "outputs": [],
   "source": [
    "dataset = 'Clean1'\n",
    "model = RandomForestClassifier(n_estimators=5, max_depth=2, n_jobs=-1)\n",
    "X = pd.concat([X_train_dict[dataset],X_test_dict[dataset]]).sort_index()\n",
    "y = pd.concat([y_train,y_test]).sort_index()    \n",
    "\n",
    "efs1 = EFS(model, \n",
    "           min_features=1,\n",
    "           max_features=2,\n",
    "           scoring='f1',\n",
    "           print_progress=True,\n",
    "           cv=btscv)\n",
    "\n",
    "efs1 = efs1.fit(X, y.Labels)\n",
    "\n",
    "print('Best accuracy score: %.2f' % efs1.best_score_)\n",
    "print('Best subset (indices):', efs1.best_idx_)\n",
    "print('Best subset (corresponding names):', efs1.best_feature_names_)\n",
    "\n"
   ]
  },
  {
   "cell_type": "code",
   "execution_count": null,
   "metadata": {},
   "outputs": [],
   "source": [
    "efs1.subsets_"
   ]
  },
  {
   "cell_type": "code",
   "execution_count": null,
   "metadata": {},
   "outputs": [],
   "source": [
    "df = pd.DataFrame.from_dict(efs1.get_metric_dict()).T\n",
    "df.sort_values('avg_score', inplace=True, ascending=False)\n",
    "df"
   ]
  },
  {
   "cell_type": "code",
   "execution_count": null,
   "metadata": {},
   "outputs": [],
   "source": []
  },
  {
   "cell_type": "code",
   "execution_count": null,
   "metadata": {},
   "outputs": [],
   "source": []
  },
  {
   "cell_type": "code",
   "execution_count": null,
   "metadata": {},
   "outputs": [],
   "source": [
    "features_df"
   ]
  },
  {
   "cell_type": "code",
   "execution_count": null,
   "metadata": {},
   "outputs": [],
   "source": []
  },
  {
   "cell_type": "code",
   "execution_count": null,
   "metadata": {},
   "outputs": [],
   "source": [
    "STOP HERE "
   ]
  },
  {
   "cell_type": "code",
   "execution_count": null,
   "metadata": {},
   "outputs": [],
   "source": [
    "model = models[0]\n",
    "model.fit(X_train_dict['Clean1'], y_train.Labels)\n",
    "plot_confusion_matrix(model, X_test_dict['Clean1'], y_test.Labels)"
   ]
  },
  {
   "cell_type": "code",
   "execution_count": null,
   "metadata": {},
   "outputs": [],
   "source": [
    "# Fitting the model here since it takes > 1 min\n",
    "xgb = XGBClassifier(n_estimators=200, max_depth=3, n_jobs=-1,eval_metric='mlogloss')\n",
    "xgb.fit(X_train_dict['Clean1'], y_train.Labels)"
   ]
  },
  {
   "cell_type": "code",
   "execution_count": null,
   "metadata": {},
   "outputs": [],
   "source": [
    "\n",
    "y_pred = xgb.predict(X_test_dict['Clean1'])\n",
    "df1 = pd.DataFrame(np.transpose(precision_recall_fscore_support(y_test.Labels, y_pred, average=None)),columns=['precision', 'recall', 'fscore', 'support'], index=lab)\n",
    "df1\n",
    "\n",
    "\n"
   ]
  },
  {
   "cell_type": "code",
   "execution_count": null,
   "metadata": {},
   "outputs": [],
   "source": [
    "\n",
    "from sklearn.model_selection import cross_val_predict\n",
    "\n",
    "model = models[0]\n",
    "model.fit(X_train_dict['Clean1'], y_train.Labels)\n",
    "y_pred = model.predict(X_test_dict['Clean1'])\n",
    "\n",
    "# y_pred = cross_val_score(model, X_train_dict['Clean1'], y_train.Labels, cv=5)\n",
    "# y_pred\n"
   ]
  },
  {
   "cell_type": "code",
   "execution_count": null,
   "metadata": {},
   "outputs": [],
   "source": [
    "y_pred.shape"
   ]
  },
  {
   "cell_type": "code",
   "execution_count": null,
   "metadata": {},
   "outputs": [],
   "source": [
    "y_train.Labels.shape"
   ]
  },
  {
   "cell_type": "code",
   "execution_count": null,
   "metadata": {},
   "outputs": [],
   "source": [
    "# Fitting the model here since takes ~ 1.30 minute\n",
    "# model = models[1]\n",
    "# model.fit(X_train_dict['Clean1'], y_train.Labels)\n",
    "# y_pred = model.predict(X_test_dict['Clean1'])"
   ]
  },
  {
   "cell_type": "code",
   "execution_count": null,
   "metadata": {},
   "outputs": [],
   "source": [
    "\n",
    "\n",
    "model = models[0]\n",
    "\n",
    "X = X_test_dict['Clean1'].sort_index()\n",
    "y = y_test.sort_index()  \n",
    "\n",
    "original, predicted = predictions_from_custom_cross_val(model,X, y, custom_cv = btscv)\n",
    "\n",
    "cm = pd.DataFrame(confusion_matrix(original, predicted), index=lab, columns=lab)\n",
    "cm\n"
   ]
  },
  {
   "cell_type": "code",
   "execution_count": null,
   "metadata": {},
   "outputs": [],
   "source": [
    "280/1386"
   ]
  },
  {
   "cell_type": "code",
   "execution_count": null,
   "metadata": {},
   "outputs": [],
   "source": [
    "len(original), y_test.Labels.shape, len(predicted)"
   ]
  },
  {
   "cell_type": "code",
   "execution_count": null,
   "metadata": {},
   "outputs": [],
   "source": [
    "all_class_metric = metrics_from_cm(cm, lab = sorted(Response['Labels'].unique()))\n",
    "all_class_metric\n"
   ]
  },
  {
   "cell_type": "code",
   "execution_count": null,
   "metadata": {},
   "outputs": [],
   "source": [
    "print(classification_report(original, predicted)) "
   ]
  },
  {
   "cell_type": "code",
   "execution_count": null,
   "metadata": {},
   "outputs": [],
   "source": [
    "# features_df.drop(['Model_Details','Features_List','Removed_Features'],axis=1)"
   ]
  },
  {
   "cell_type": "code",
   "execution_count": null,
   "metadata": {},
   "outputs": [],
   "source": [
    "precision_recall_fscore_support(original, predicted, average='weighted')"
   ]
  },
  {
   "cell_type": "code",
   "execution_count": null,
   "metadata": {},
   "outputs": [],
   "source": [
    "print(classification_report(y_test.Labels, y_pred))"
   ]
  },
  {
   "cell_type": "code",
   "execution_count": null,
   "metadata": {},
   "outputs": [],
   "source": [
    "# Insert the dataframe in a cell in features_df\n",
    "# features_df['to_delete'] = None\n",
    "# features_df['to_delete'].astype(object)\n",
    "# features_df.loc[('RandomForestClassifier','Original'),'to_delete'] =  [all_class_metric]"
   ]
  },
  {
   "cell_type": "code",
   "execution_count": null,
   "metadata": {},
   "outputs": [],
   "source": [
    "# features_df.loc[('RandomForestClassifier','Original'),'to_delete'][0]"
   ]
  },
  {
   "cell_type": "markdown",
   "metadata": {},
   "source": [
    "### Cross Entropy - Negative Log Liklehood or Log Loss - Custom Function Implementation"
   ]
  },
  {
   "cell_type": "code",
   "execution_count": null,
   "metadata": {},
   "outputs": [],
   "source": [
    "# Lower The Better\n",
    "\n",
    "model = models[0]\n",
    "model.fit(X_train_dict['Original'], y_train.Labels)\n",
    "y_prob = model.predict_proba(X_test_dict['Original'])\n",
    "\n",
    "# This line required to convert for custom implementation from normal labels to indexed labels\n",
    "y_actuals = y_test.Labels.replace(to_replace=sorted(y_test.Labels.unique()), value=list(range(len(y_test.Labels.unique())))).values\n",
    "\n",
    "# Custom function to compute negative log loss\n",
    "nll = np.mean([-np.log(y_prob[i,j]) for i,j in zip(range(y_prob.shape[0]),y_actuals)])\n",
    "print(nll) "
   ]
  },
  {
   "cell_type": "code",
   "execution_count": null,
   "metadata": {},
   "outputs": [],
   "source": [
    "features_df.drop(['Model_Details','Features_List','Removed_Features','ClassDf'],axis=1).loc[('RandomForestClassifier',)]"
   ]
  },
  {
   "cell_type": "code",
   "execution_count": null,
   "metadata": {},
   "outputs": [],
   "source": []
  },
  {
   "cell_type": "code",
   "execution_count": null,
   "metadata": {},
   "outputs": [],
   "source": [
    "print(log_loss(y_actuals, y_prob))\n",
    "print(log_loss(y_test.Labels, y_prob))"
   ]
  },
  {
   "cell_type": "code",
   "execution_count": null,
   "metadata": {},
   "outputs": [],
   "source": [
    "from sklearn.metrics import log_loss\n",
    "\n",
    "model = models[0]\n",
    "dataset = 'Clean'\n",
    "X = pd.concat([X_train_dict[dataset],X_test_dict[dataset]]).sort_index()\n",
    "y = pd.concat([y_train,y_test]).sort_index() \n",
    "\n",
    "LogLoss = make_scorer(log_loss, greater_is_better=False, needs_proba=True)\n",
    "scores = cross_val_score(model, X, y.Labels, cv=btscv, scoring=LogLoss)\n",
    "scores.mean()"
   ]
  },
  {
   "cell_type": "code",
   "execution_count": null,
   "metadata": {},
   "outputs": [],
   "source": [
    "LogLoss._select_proba_binary(predicted,y_test.Labels.values) "
   ]
  },
  {
   "cell_type": "code",
   "execution_count": null,
   "metadata": {},
   "outputs": [],
   "source": [
    "\n",
    "probabilities_from_custom_cross_val(model,X, y, custom_cv = btscv)"
   ]
  },
  {
   "cell_type": "code",
   "execution_count": null,
   "metadata": {},
   "outputs": [],
   "source": [
    "from sklearn.model_selection import cross_val_predict\n",
    "\n",
    "# proba = cross_val_predict(model, X, y, cv=btscv, method='predict_proba')"
   ]
  },
  {
   "cell_type": "code",
   "execution_count": null,
   "metadata": {},
   "outputs": [],
   "source": [
    "STOP HERE"
   ]
  },
  {
   "cell_type": "markdown",
   "metadata": {},
   "source": [
    "****TO USE***"
   ]
  },
  {
   "cell_type": "code",
   "execution_count": null,
   "metadata": {},
   "outputs": [],
   "source": [
    "fpr_, fnr_, thresholds_ = det_curve(y_test.Close_Up_Down, y_pred)\n",
    "model.fit(X_train_dict['Original'], y_train.Close_Up_Down)\n",
    "y_prob = model.predict_proba(X_test_dict['Original'])\n",
    "y_pred = model.predict(X_test_dict['Original'])\n",
    "\n",
    "y_pred = (clf.predict_proba(X_test_dict['Original'])[:,1] >= p).astype(bool) # set threshold as 0.3\n",
    "fpr, tpr, threshold = roc_curve(y_test.Close_Up_Down, y_pred,)\n",
    "\n",
    "\n",
    "model = RandomForestClassifier(n_estimators=100, max_depth=2, n_jobs=-1)\n",
    "model.fit(X_train_dict['Clean'], y_train.Close_Up_Down)\n",
    "y_pred = model.predict(X_test_dict['Clean'])\n",
    "confusion_matrix(y_test.Close_Up_Down, y_pred)\n",
    "plot_confusion_matrix(clf, X_test_dict['Clean'], y_test.Close_Up_Down,);\n",
    "clsf_report = classification_report(y_test.Close_Up_Down, y_pred, output_dict=True)\n",
    "pd.DataFrame(clsf_report)"
   ]
  },
  {
   "cell_type": "code",
   "execution_count": null,
   "metadata": {},
   "outputs": [],
   "source": []
  },
  {
   "cell_type": "code",
   "execution_count": null,
   "metadata": {},
   "outputs": [],
   "source": []
  },
  {
   "cell_type": "code",
   "execution_count": null,
   "metadata": {},
   "outputs": [],
   "source": []
  },
  {
   "cell_type": "markdown",
   "metadata": {},
   "source": [
    "### Univariate Selection Methods - Mostly just examine linear relationships"
   ]
  },
  {
   "cell_type": "markdown",
   "metadata": {},
   "source": [
    "#### Mutual Information"
   ]
  },
  {
   "cell_type": "code",
   "execution_count": null,
   "metadata": {},
   "outputs": [],
   "source": [
    "mi = mutual_info_classif(X_train, y_train)\n",
    "mi = pd.Series(mi)\n",
    "mi.index = X_train.columns\n",
    "mi.sort_values(ascending=False, inplace = True)\n",
    "\n",
    "# Plot\n",
    "# mi.plot.bar(figsize=(20, 6))\n",
    "# plt.ylabel('Mutual Information')\n",
    "\n",
    "# select features\n",
    "sel_ = SelectKBest(mutual_info_classif, k=15).fit(X_train, y_train)\n",
    "\n",
    "# display features\n",
    "X_train.columns[sel_.get_support()]"
   ]
  },
  {
   "cell_type": "markdown",
   "metadata": {},
   "source": [
    "#### Chi-square Statistic - only suited for classification!                                         \n",
    "https://www.udemy.com/course/feature-selection-for-machine-learning/learn/lecture/22495182#questions\n",
    "https://github.com/solegalli/feature-selection-for-machine-learning/blob/main/05-Filter-Statistical-Tests/05.2-Fisher-score.ipynb"
   ]
  },
  {
   "cell_type": "code",
   "execution_count": null,
   "metadata": {},
   "outputs": [],
   "source": [
    "# calculate the chi2 p_value between each of the variables and the target\n",
    "# chi2 returns 2 arrays, one contains the F-Scores which are then evaluated against the chi2 distribution to obtain the pvalue. The pvalues are in the second array\n",
    "\n",
    "# Input X must be non-negative\n",
    "X_train_non_negative = X_train[X_train.columns[((X_train < 0).sum(axis=0) == 0).values]]\n",
    "f_score = chi2(X_train_non_negative.fillna(0), y_train)\n",
    "pvalues = pd.Series(f_score[1])\n",
    "pvalues.index = X_train_non_negative.columns\n",
    "pvalues.sort_values(ascending=True, inplace = True)\n",
    "extremely_low_p_values = len(pvalues[pvalues < 1e-100])\n",
    "sel_ = SelectKBest(chi2, k= extremely_low_p_values).fit(X_train_non_negative, y_train)\n",
    "X_train_non_negative.columns[sel_.get_support()] # display features\n",
    "\n",
    "# X_train = sel_.transform(X_train)\n",
    "# X_test = sel_.transform(X_test)"
   ]
  },
  {
   "cell_type": "markdown",
   "metadata": {},
   "source": [
    "#### Anova - tests 2 samples have same mean\n",
    "\n",
    "Assumptions:\n",
    "Sample are independant & normally distributed, homegeneity of variance"
   ]
  },
  {
   "cell_type": "code",
   "execution_count": null,
   "metadata": {},
   "outputs": [],
   "source": [
    "# calculate the univariate statistical measure between each of the variables and the target\n",
    "# similarly to chi2, the output is one array with f-scores and one array with the pvalues\n",
    "\n",
    "univariate = f_classif(X_train, y_train)\n",
    "univariate = pd.Series(univariate[1])\n",
    "univariate.index = X_train.columns\n",
    "univariate.sort_values(ascending=True, inplace = True) # The smaller the p_value the more predictive the feature is\n",
    "\n",
    "pvalue_above_5_percent = len(univariate[univariate < 0.05])\n",
    "sel_ = SelectKBest(f_classif, k=pvalue_above_5_percent).fit(X_train, y_train)\n",
    "features_to_keep = sel_.get_feature_names_out()\n",
    "features_to_keep\n",
    "\n",
    "# select features\n",
    "# X_train_anova = sel_.transform(X_train)\n",
    "# X_test_anova = sel_.transform(X_test)\n",
    "\n",
    "# # numpy array to dataframe\n",
    "# X_train_anova = pd.DataFrame(X_train_anova)\n",
    "# X_train_anova.columns = features_to_keep\n",
    "\n",
    "# X_test_anova = pd.DataFrame(X_test_anova)\n",
    "# X_test_anova.columns = features_to_keep\n",
    "\n",
    "# X_train_anova.shape, X_test_anova.shape\n",
    "\n"
   ]
  },
  {
   "cell_type": "markdown",
   "metadata": {},
   "source": [
    "### Wrapper Methods"
   ]
  },
  {
   "cell_type": "code",
   "execution_count": null,
   "metadata": {},
   "outputs": [],
   "source": []
  },
  {
   "cell_type": "markdown",
   "metadata": {},
   "source": [
    "### Embedded Methods | Tree Importance"
   ]
  },
  {
   "cell_type": "code",
   "execution_count": null,
   "metadata": {},
   "outputs": [],
   "source": [
    "# Selects features whose importance is greater than the threshold. - Thershold is the mean importance of all features\n",
    "sel_ = SelectFromModel(RandomForestClassifier(n_estimators=300,  max_depth=3, n_jobs=-1)).fit(X_train, y_train)\n",
    "selected_features = X_train.columns[sel_.get_support()]\n",
    "print(len(selected_features))\n",
    "TopNFeatures = pd.DataFrame(index = sel_.estimator_.feature_names_in_.tolist(),data = sel_.estimator_.feature_importances_, columns = ['Imp']).sort_values(by='Imp',ascending=False).head(20).index.tolist()\n",
    "pd.Series(sel_.estimator_.feature_importances_.ravel()).hist(bins=20);"
   ]
  },
  {
   "cell_type": "code",
   "execution_count": null,
   "metadata": {},
   "outputs": [],
   "source": [
    "TopNFeatures"
   ]
  },
  {
   "cell_type": "markdown",
   "metadata": {},
   "source": [
    "### Embedded Methods | Tree Importance Recursively"
   ]
  },
  {
   "cell_type": "code",
   "execution_count": null,
   "metadata": {},
   "outputs": [],
   "source": [
    "# Takes 1:44 mins to run\n",
    "sel_ = RFE(RandomForestClassifier(n_estimators=100,  max_depth=3, n_jobs=-1), n_features_to_select=30).fit(X_train, y_train)\n",
    "selected_features = X_train.columns[sel_.get_support()]\n",
    "print(len(selected_features))\n",
    "selected_features\n"
   ]
  },
  {
   "cell_type": "code",
   "execution_count": null,
   "metadata": {},
   "outputs": [],
   "source": [
    "rf = RandomForestClassifier(n_estimators=200, max_depth=3, n_jobs=-1)\n",
    "rf.fit(X_train[selected_features].fillna(0), y_train)\n",
    "y_pred = rf.predict(X_test[selected_features].fillna(0))\n",
    "y_valid_pred = rf.predict(X_val[selected_features].fillna(0))\n",
    "print(\"Test Accuracy:\", accuracy_score(y_test.fillna(0), y_pred))\n",
    "print(\"Validation Accuracy:\", accuracy_score(y_val.fillna(0), y_valid_pred))\n"
   ]
  },
  {
   "cell_type": "code",
   "execution_count": null,
   "metadata": {},
   "outputs": [],
   "source": [
    "print('Train set')\n",
    "pred = rf.predict_proba(X_train[selected_features])\n",
    "print('Random Forests roc-auc: {}'.format(roc_auc_score(y_train, pred[:, 1])))\n",
    "\n",
    "print('Test set')\n",
    "pred = rf.predict_proba(X_test[selected_features])\n",
    "print('Random Forests roc-auc: {}'.format(roc_auc_score(y_test, pred[:, 1])))\n",
    "\n",
    "print('Validation set')\n",
    "pred = rf.predict_proba(X_val[selected_features])\n",
    "print('Random Forests roc-auc: {}'.format(roc_auc_score(y_val, pred[:, 1])))"
   ]
  },
  {
   "cell_type": "markdown",
   "metadata": {},
   "source": [
    "### Feature Selection by Random Shuffling"
   ]
  },
  {
   "cell_type": "code",
   "execution_count": null,
   "metadata": {},
   "outputs": [],
   "source": [
    "# Takes 1 min to run - You can use this procedure with any machine learning algorithm\n",
    "\n",
    "rf = RandomForestClassifier(n_estimators=50, max_depth=2, n_jobs=-1)\n",
    "\n",
    "sel = SelectByShuffling(\n",
    "    variables=None, # automatically examine all numerical variables\n",
    "    estimator=rf, # the ML model\n",
    "    scoring='roc_auc', # the metric to evaluate\n",
    "    threshold=0,# the maximum performance drop allowed to select the feature\n",
    "    cv=btscv, # cross validation\n",
    ")\n",
    "\n",
    "sel.fit(X_train, y_train)\n"
   ]
  },
  {
   "cell_type": "code",
   "execution_count": null,
   "metadata": {},
   "outputs": [],
   "source": [
    "sel.initial_model_performance_ # performance of model trained with all features"
   ]
  },
  {
   "cell_type": "code",
   "execution_count": null,
   "metadata": {},
   "outputs": [],
   "source": [
    "# pd.Series(sel.performance_drifts_).sort_values(ascending=False).plot.bar(figsize=(16,6));"
   ]
  },
  {
   "cell_type": "code",
   "execution_count": null,
   "metadata": {},
   "outputs": [],
   "source": [
    "# features that will be removed\n",
    "\n",
    "print(len(sel.features_to_drop_))\n",
    "# remove features\n",
    "\n",
    "X_train = sel.transform(X_train)\n",
    "X_test = sel.transform(X_test)\n",
    "X_val = sel.transform(X_val)\n",
    "\n",
    "X_train.shape, X_test.shape"
   ]
  },
  {
   "cell_type": "code",
   "execution_count": null,
   "metadata": {},
   "outputs": [],
   "source": [
    "rf.fit(X_train, y_train)\n",
    "print( 'train auc score: ',roc_auc_score(y_train, (rf.predict_proba(X_train))[:,1]))\n",
    "print('test auc score: ', roc_auc_score(y_test, (rf.predict_proba(X_test))[:, 1]))\n",
    "print('Validation auc score: ', roc_auc_score(y_val, (rf.predict_proba(X_val))[:, 1]))"
   ]
  },
  {
   "cell_type": "code",
   "execution_count": null,
   "metadata": {},
   "outputs": [],
   "source": [
    "X_train.columns"
   ]
  },
  {
   "cell_type": "markdown",
   "metadata": {},
   "source": [
    "### Recursive Feature Elimination"
   ]
  },
  {
   "cell_type": "code",
   "execution_count": null,
   "metadata": {},
   "outputs": [],
   "source": [
    "model = GradientBoostingClassifier(\n",
    "    n_estimators=10,\n",
    "    max_depth=2,\n",
    "    random_state=10,\n",
    ")"
   ]
  },
  {
   "cell_type": "code",
   "execution_count": null,
   "metadata": {},
   "outputs": [],
   "source": [
    "# NOT WORKING\n",
    "\n",
    "sel = RecursiveFeatureElimination(\n",
    "    variables=None, # automatically evaluate all numerical variables\n",
    "    estimator = model, # the ML model\n",
    "    scoring = 'roc_auc', # the metric we want to evalute\n",
    "    threshold = 0.0005, # the maximum performance drop allowed to remove a feature\n",
    "    cv=btscv, # cross-validation\n",
    ")\n",
    "\n",
    "# this may take quite a while, because\n",
    "# we are building a lot of models with cross-validation\n",
    "# sel.fit(X_train, y_train)"
   ]
  },
  {
   "cell_type": "code",
   "execution_count": null,
   "metadata": {},
   "outputs": [],
   "source": [
    "sel.initial_model_performance_"
   ]
  },
  {
   "cell_type": "code",
   "execution_count": null,
   "metadata": {},
   "outputs": [],
   "source": [
    "# performance of model trained using all features\n",
    "sel.initial_model_performance_"
   ]
  },
  {
   "cell_type": "code",
   "execution_count": null,
   "metadata": {},
   "outputs": [],
   "source": [
    "# importance of all features based of initial model\n",
    "sel.feature_importances_.plot.bar(figsize=(20,6))\n",
    "plt.xlabel('Features')\n",
    "plt.ylabel('Importance')\n",
    "plt.show()"
   ]
  },
  {
   "cell_type": "code",
   "execution_count": null,
   "metadata": {},
   "outputs": [],
   "source": [
    "pd.Series(sel.performance_drifts_).plot.bar(figsize=(20,6))\n",
    "plt.xlabel('Features')\n",
    "plt.ylabel('Performance change when feature was added')\n",
    "plt.show()"
   ]
  },
  {
   "cell_type": "code",
   "execution_count": null,
   "metadata": {},
   "outputs": [],
   "source": [
    "# Number of features that will be removed\n",
    "\n",
    "len(sel.features_to_drop_)"
   ]
  },
  {
   "cell_type": "code",
   "execution_count": null,
   "metadata": {},
   "outputs": [],
   "source": []
  },
  {
   "cell_type": "code",
   "execution_count": null,
   "metadata": {},
   "outputs": [],
   "source": []
  },
  {
   "cell_type": "markdown",
   "metadata": {},
   "source": [
    "### Random Forest"
   ]
  },
  {
   "cell_type": "code",
   "execution_count": null,
   "metadata": {},
   "outputs": [],
   "source": [
    "features = list(X_train.columns)\n",
    "rf = RandomForestClassifier(n_estimators=200, max_depth=3)\n",
    "rf.fit(X_train[features].fillna(0), y_train)\n",
    "\n",
    "importance = pd.concat([pd.Series(features),pd.Series(rf.feature_importances_)], axis=1)\n",
    "importance.columns = ['feature', 'importance']\n",
    "importance.sort_values(by=['importance'], ascending=False, inplace=True)\n",
    "y_pred = rf.predict(X_test[features].fillna(0))\n",
    "y_valid_pred = rf.predict(X_val[features].fillna(0))\n",
    "\n",
    "print(\"Test Accuracy:\", accuracy_score(y_test.fillna(0), y_pred))\n",
    "print(\"Validation Accuracy:\", accuracy_score(y_val .fillna(0), y_valid_pred))"
   ]
  },
  {
   "cell_type": "markdown",
   "metadata": {},
   "source": [
    "### Compare the performance in machine learning algorithms"
   ]
  },
  {
   "cell_type": "code",
   "execution_count": null,
   "metadata": {},
   "outputs": [],
   "source": [
    "X_train_basic_filter.shape, X_test_basic_filter.shape, X_train.shape, X_test.shape"
   ]
  },
  {
   "cell_type": "code",
   "execution_count": null,
   "metadata": {},
   "outputs": [],
   "source": [
    "\n",
    "def run_randomForests(X_train, X_test, y_train, y_test):\n",
    "\n",
    "    rf = RandomForestClassifier(n_estimators=300,  max_depth=3, n_jobs=-1)\n",
    "    rf.fit(X_train, y_train)\n",
    "\n",
    "    print('Train set')\n",
    "    pred = rf.predict_proba(X_train)\n",
    "    print('Random Forests roc-auc: {}'.format(roc_auc_score(y_train, pred[:, 1])))\n",
    "\n",
    "    print('Test set')\n",
    "    pred = rf.predict_proba(X_test)\n",
    "    print('Random Forests roc-auc: {}'.format(roc_auc_score(y_test, pred[:, 1])))"
   ]
  },
  {
   "cell_type": "code",
   "execution_count": null,
   "metadata": {},
   "outputs": [],
   "source": [
    "# filter methods - basic\n",
    "run_randomForests(X_train_basic_filter,X_test_basic_filter,y_train, y_test)"
   ]
  },
  {
   "cell_type": "code",
   "execution_count": null,
   "metadata": {},
   "outputs": [],
   "source": [
    "# Final model\n",
    "run_randomForests(X_train, X_test, y_train, y_test)"
   ]
  },
  {
   "cell_type": "markdown",
   "metadata": {},
   "source": [
    "### Logistic Regression"
   ]
  },
  {
   "cell_type": "code",
   "execution_count": null,
   "metadata": {},
   "outputs": [],
   "source": [
    "# create a function to build logistic regression and compare performance in train and test set\n",
    "\n",
    "from sklearn.metrics import confusion_matrix\n",
    "\n",
    "def run_logistic(X_train, X_test, y_train, y_test):\n",
    "    \n",
    "    # function to train and test the performance of logistic regression\n",
    "    logit = LogisticRegression(penalty='l1', random_state=44, max_iter=1000, solver='liblinear')\n",
    "    logit.fit(X_train, y_train)\n",
    "    print('Train set')\n",
    "    pred = logit.predict_proba(X_train)\n",
    "    print('Logistic Regression roc-auc: {}'.format(roc_auc_score(y_train, pred[:,1])))\n",
    "    print('Test set')\n",
    "    pred = logit.predict_proba(X_test)\n",
    "    print('Logistic Regression roc-auc: {}'.format(roc_auc_score(y_test, pred[:,1])))\n",
    "\n",
    "scaler = StandardScaler().fit(X_train)\n",
    "\n",
    "run_logistic(scaler.transform(X_train),\n",
    "             scaler.transform(X_test),\n",
    "                  y_train, y_test)"
   ]
  },
  {
   "cell_type": "code",
   "execution_count": null,
   "metadata": {},
   "outputs": [],
   "source": []
  },
  {
   "cell_type": "code",
   "execution_count": null,
   "metadata": {},
   "outputs": [],
   "source": []
  },
  {
   "cell_type": "code",
   "execution_count": null,
   "metadata": {},
   "outputs": [],
   "source": []
  },
  {
   "cell_type": "markdown",
   "metadata": {},
   "source": [
    "### \n",
    "<div style=\"color: DarkBlue; font-size:22px;\" class=\"alert alert-block alert-warning\"> \n",
    "<b>Pipelines:</b> Final Code will look like this but for now work through issues above \n",
    "</div>"
   ]
  },
  {
   "cell_type": "code",
   "execution_count": null,
   "metadata": {},
   "outputs": [],
   "source": [
    "pipe = Pipeline([\n",
    "    ('constant', DropConstantFeatures(tol=1, variables=None, missing_values='raise')),\n",
    "    ('quasiConstant', DropConstantFeatures(tol=0.9, variables=None, missing_values='raise')),\n",
    "    ('duplicated', DropDuplicateFeatures(variables=None, missing_values='raise')),\n",
    "    ('correlation', SmartCorrelatedSelection(variables=None, method=\"spearman\",threshold=0.9,missing_values=\"raise\",selection_method=\"variance\",estimator=rf,scoring=\"roc_auc\",cv=btscv,)),])\n",
    "\n",
    "\n",
    "pipe.fit(X_train)\n",
    "\n",
    "# remove features\n",
    "X_train = pipe.transform(X_train)\n",
    "X_test = pipe.transform(X_test)\n",
    "X_val = pipe.transform(X_val)\n",
    "\n",
    "X_train.shape, X_test.shape, X_val.shape\n"
   ]
  },
  {
   "cell_type": "code",
   "execution_count": null,
   "metadata": {},
   "outputs": [],
   "source": [
    "print(len(pipe.named_steps['constant'].features_to_drop_))\n",
    "pipe.named_steps['duplicated'].features_to_drop_"
   ]
  },
  {
   "cell_type": "code",
   "execution_count": null,
   "metadata": {},
   "outputs": [],
   "source": []
  },
  {
   "cell_type": "code",
   "execution_count": null,
   "metadata": {},
   "outputs": [],
   "source": []
  },
  {
   "cell_type": "markdown",
   "metadata": {},
   "source": [
    "# NOT USING - for reference"
   ]
  },
  {
   "cell_type": "markdown",
   "metadata": {},
   "source": [
    "### Correlated Features - Brute Force approach"
   ]
  },
  {
   "cell_type": "code",
   "execution_count": null,
   "metadata": {},
   "outputs": [],
   "source": [
    "def correlation(dataset, threshold):\n",
    "    \n",
    "    col_corr = set()\n",
    "    corr_matrix = dataset.corr()\n",
    "    \n",
    "    for i in range(len(corr_matrix.columns)):\n",
    "        \n",
    "        for j in range(i):\n",
    "            \n",
    "            if abs(corr_matrix.iloc[i, j]) > threshold: # we are interested in absolute coeff value\n",
    "             \n",
    "                print(abs(corr_matrix.iloc[i, j]),\":\", corr_matrix.columns[i], \"<< - >>\", corr_matrix.columns[j])\n",
    "                colname = corr_matrix.columns[j]\n",
    "                \n",
    "                # and add it to our correlated set\n",
    "                col_corr.add(colname)\n",
    "                \n",
    "    return col_corr\n",
    "\n",
    "# corr_features = correlation(X_train, 0.9)\n",
    "# len(set(corr_features))\n"
   ]
  },
  {
   "cell_type": "code",
   "execution_count": null,
   "metadata": {},
   "outputs": [],
   "source": [
    "# corr_features = correlation(X_train, 0.9)"
   ]
  },
  {
   "cell_type": "markdown",
   "metadata": {},
   "source": [
    "### Correlated Features - Second Approach"
   ]
  },
  {
   "cell_type": "code",
   "execution_count": null,
   "metadata": {},
   "outputs": [],
   "source": [
    "corrmat = X_train.corr()\n",
    "corrmat = corrmat.abs().unstack() # absolute value of corr coef\n",
    "corrmat = corrmat.sort_values(ascending=False)\n",
    "corrmat = corrmat[corrmat >= 0.9]\n",
    "corrmat = corrmat[corrmat < 1] # Not Interested in the correlation with 1 since will be with the same variable\n",
    "corrmat = pd.DataFrame(corrmat).reset_index()\n",
    "corrmat.columns = ['feature1', 'feature2', 'corr']\n",
    "corrmat.head()"
   ]
  },
  {
   "cell_type": "code",
   "execution_count": null,
   "metadata": {},
   "outputs": [],
   "source": [
    "grouped_feature_ls = []\n",
    "correlated_groups = []\n",
    "\n",
    "for feature in corrmat.feature1.unique():\n",
    "    \n",
    "    if feature not in grouped_feature_ls:\n",
    "\n",
    "        # find all features correlated to a single feature\n",
    "        correlated_block = corrmat[corrmat.feature1 == feature]\n",
    "        grouped_feature_ls = grouped_feature_ls + list(\n",
    "            correlated_block.feature2.unique()) + [feature]\n",
    "\n",
    "        # append the block of features to the list\n",
    "        correlated_groups.append(correlated_block)\n",
    "\n",
    "print('found {} correlated groups'.format(len(correlated_groups)))\n",
    "print('out of {} total features'.format(X_train.shape[1]))\n",
    "\n"
   ]
  },
  {
   "cell_type": "code",
   "execution_count": null,
   "metadata": {},
   "outputs": [],
   "source": [
    "# for group in correlated_groups:\n",
    "#     print(group)\n",
    "#     print()"
   ]
  },
  {
   "cell_type": "code",
   "execution_count": null,
   "metadata": {},
   "outputs": [],
   "source": [
    "#Choose Group Index\n",
    "group_index = 1\n",
    "\n",
    "group = correlated_groups[group_index]\n",
    "var = group.feature1.unique()[0]\n",
    "\n",
    "# add all features of the group to a list\n",
    "features = list(group['feature2'].unique())+[var]\n",
    "\n",
    "rf = RandomForestClassifier(n_estimators=200, random_state=39, max_depth=4)\n",
    "rf.fit(X_train[features].fillna(0), y_train)\n",
    "\n",
    "importance = pd.concat([pd.Series(features),pd.Series(rf.feature_importances_)], axis=1)\n",
    "importance.columns = ['feature', 'importance']\n",
    "\n",
    "print(var)\n",
    "importance.sort_values(by='importance', ascending=False)\n"
   ]
  },
  {
   "cell_type": "code",
   "execution_count": null,
   "metadata": {},
   "outputs": [],
   "source": [
    "# for feature in group['feature2']:\n",
    "#     plt.scatter(X_train[var], X_train[feature])\n",
    "#     plt.xlabel(feature)\n",
    "#     plt.ylabel(var)\n",
    "#     plt.show()"
   ]
  },
  {
   "cell_type": "markdown",
   "metadata": {},
   "source": [
    "### Just an example to show one group of how smart correlation works"
   ]
  },
  {
   "cell_type": "code",
   "execution_count": null,
   "metadata": {},
   "outputs": [],
   "source": [
    "# import warnings\n",
    "# warnings.filterwarnings(\"ignore\")\n",
    "\n",
    "group = sel.correlated_feature_sets_[0]\n",
    "\n",
    "# build random forest with cross validation for each feature\n",
    "for f in group:\n",
    "    \n",
    "    model = cross_validate(\n",
    "        rf,\n",
    "        X_train[f].to_frame(),\n",
    "        y_train,\n",
    "        cv=btscv,\n",
    "        return_estimator=False,\n",
    "        scoring='accuracy',\n",
    "    )\n",
    "\n",
    "#  scoring='roc_auc' does not support categorical data.\n",
    "\n",
    "    print(f, model[\"test_score\"].mean())"
   ]
  },
  {
   "cell_type": "markdown",
   "metadata": {},
   "source": [
    "****TO USE***"
   ]
  },
  {
   "cell_type": "code",
   "execution_count": null,
   "metadata": {},
   "outputs": [],
   "source": [
    "fpr_, fnr_, thresholds_ = det_curve(y_test.Close_Up_Down, y_pred)\n",
    "model.fit(X_train_dict['Original'], y_train.Close_Up_Down)\n",
    "y_prob = model.predict_proba(X_test_dict['Original'])\n",
    "y_pred = model.predict(X_test_dict['Original'])\n",
    "\n",
    "y_pred = (clf.predict_proba(X_test_dict['Original'])[:,1] >= p).astype(bool) # set threshold as 0.3\n",
    "fpr, tpr, threshold = roc_curve(y_test.Close_Up_Down, y_pred,)\n",
    "\n",
    "\n",
    "model = RandomForestClassifier(n_estimators=100, max_depth=2, n_jobs=-1)\n",
    "model.fit(X_train_dict['Clean'], y_train.Close_Up_Down)\n",
    "y_pred = model.predict(X_test_dict['Clean'])\n",
    "confusion_matrix(y_test.Close_Up_Down, y_pred)\n",
    "plot_confusion_matrix(clf, X_test_dict['Clean'], y_test.Close_Up_Down,);\n",
    "clsf_report = classification_report(y_test.Close_Up_Down, y_pred, output_dict=True)\n",
    "pd.DataFrame(clsf_report)"
   ]
  },
  {
   "cell_type": "markdown",
   "metadata": {},
   "source": [
    "### Classification Model Evaluation metrics\n",
    "1. cross_val_score\n",
    "2. Area under the ROC Curve\n",
    "3. Confusion Matrix\n",
    "4. Confusion Report\n",
    "\n",
    "https://scikit-learn.org/stable/modules/model_evaluation.html#classification-metrics\n"
   ]
  },
  {
   "cell_type": "code",
   "execution_count": null,
   "metadata": {},
   "outputs": [],
   "source": [
    "model = RandomForestClassifier(n_estimators=100, max_depth=2, n_jobs=-1)\n",
    "cross_val_score(model, Variables, Response.Close_Up_Down, cv = 2, scoring = 'accuracy')"
   ]
  },
  {
   "cell_type": "code",
   "execution_count": null,
   "metadata": {},
   "outputs": [],
   "source": [
    "model = RandomForestClassifier(n_estimators=300, max_depth=10, n_jobs=-1)\n",
    "cross_val_score(model, X_train_dict['Original'], y_train.Labels, cv = 5,scoring='roc_auc_ovo_weighted')"
   ]
  },
  {
   "cell_type": "code",
   "execution_count": null,
   "metadata": {},
   "outputs": [],
   "source": [
    "model = RandomForestClassifier(n_estimators=300, max_depth=10, n_jobs=-1)\n",
    "cross_val_score(model, X_train_dict['Clean1'], y_train.Labels, cv = 5,scoring='roc_auc_ovo')"
   ]
  },
  {
   "cell_type": "code",
   "execution_count": null,
   "metadata": {},
   "outputs": [],
   "source": [
    "model.fit(X_train_dict['Original'], y_train.Close_Up_Down)\n",
    "y_prob = model.predict_proba(X_test_dict['Original'])\n",
    "y_pred = model.predict(X_test_dict['Original'])\n"
   ]
  },
  {
   "cell_type": "code",
   "execution_count": null,
   "metadata": {},
   "outputs": [],
   "source": [
    "clf = RandomForestClassifier(n_estimators=100, max_depth=2, n_jobs=-1)\n",
    "clf.fit(X_train_dict['Original'], y_train.Close_Up_Down)\n",
    "\n",
    "for p in [0.475,0.5,0.525]:\n",
    "    \n",
    "    y_pred = (clf.predict_proba(X_test_dict['Original'])[:,1] >= p).astype(bool) # set threshold as 0.3\n",
    "    fpr, tpr, threshold = roc_curve(y_test.Close_Up_Down, y_pred,)\n",
    "    print(\"tpr:\",tpr)\n",
    "    print(\"fpr:\",fpr)\n",
    "    print(\"threshold:\",threshold)\n",
    "    print(p,\": \",roc_auc_score(y_test.Close_Up_Down, y_pred))\n",
    "    print(\"\\n\")"
   ]
  },
  {
   "cell_type": "markdown",
   "metadata": {},
   "source": [
    "https://stackoverflow.com/questions/45715018/scikit-learn-how-to-plot-probabilities"
   ]
  },
  {
   "cell_type": "code",
   "execution_count": null,
   "metadata": {},
   "outputs": [],
   "source": [
    "clf = RandomForestClassifier(n_estimators=100, max_depth=2, n_jobs=-1)\n",
    "clf.fit(X_train_dict['Clean'], y_train.Close_Up_Down)\n",
    "plt.figure(figsize=(12,5))\n",
    "prediction = clf.predict_proba(X_test_dict['Clean'])[:,1]\n",
    "plt.hist(prediction[y_test.Close_Up_Down==-1], bins=100, label='Negatives')\n",
    "plt.hist(prediction[y_test.Close_Up_Down==1], bins=100, label='Positives', alpha=0.7, color='r')\n",
    "plt.xlabel('Probability of being Positive Class', fontsize=10)\n",
    "plt.ylabel('Number of records in each bucket', fontsize=10)\n",
    "# plt.xlim(0,1)\n",
    "plt.legend(fontsize=10)\n",
    "plt.tick_params(axis='both', labelsize=25, pad=5)\n",
    "plt.show()"
   ]
  },
  {
   "cell_type": "code",
   "execution_count": null,
   "metadata": {},
   "outputs": [],
   "source": [
    "def plot_roc_auc_curve(y_test, model_set, model):\n",
    "    model.fit(X_train_dict[model_set], y_train.Close_Up_Down)\n",
    "    y_prob_positive = model.predict_proba(X_test_dict[model_set])[:,1]\n",
    "    print(f\"ROC_AUC_SCORE: {roc_auc_score(y_test.Close_Up_Down, y_prob_positive):.2f}%\")\n",
    "    fpr, tpr, threshold = roc_curve(y_test.Close_Up_Down, y_prob_positive,)\n",
    "    plt.plot(fpr, tpr, color='orange', label='ROC')\n",
    "    plt.plot([0, 1], [0, 1], color='darkblue', linestyle='--', label='Random Guess')\n",
    "    plt.xlabel('False Positive Rate')\n",
    "    plt.ylabel('True Positive Rate')\n",
    "    plt.title('Receiver Operating Characteristic (ROC) Curve')\n",
    "    plt.legend()\n",
    "    plt.show()\n",
    "\n",
    "model = RandomForestClassifier(n_estimators=100, max_depth=2, n_jobs=-1)\n",
    "\n",
    "plot_roc_auc_curve(y_test, 'Original', model)\n",
    "# plot_roc_auc_curve(y_test, 'Original', y_test)"
   ]
  },
  {
   "cell_type": "code",
   "execution_count": null,
   "metadata": {},
   "outputs": [],
   "source": [
    "(y_pred == [-1 if x[0] > 0.5 else 1 for x in y_prob]).all()"
   ]
  },
  {
   "cell_type": "code",
   "execution_count": null,
   "metadata": {},
   "outputs": [],
   "source": [
    "# Took 5:20 mins\n",
    "# from sklearn.ensemble import GradientBoostingClassifier\n",
    "# model = GradientBoostingClassifier(n_estimators=100, max_depth=3)\n",
    "# cross_val_score(model, Variables, Response.Close_Up_Down, cv = 5).min()"
   ]
  },
  {
   "cell_type": "markdown",
   "metadata": {},
   "source": [
    "**Confusion Matrix**"
   ]
  },
  {
   "cell_type": "code",
   "execution_count": null,
   "metadata": {},
   "outputs": [],
   "source": [
    "model = RandomForestClassifier(n_estimators=100, max_depth=2, n_jobs=-1)\n",
    "model.fit(X_train_dict['Clean'], y_train.Close_Up_Down)\n",
    "y_pred = model.predict(X_test_dict['Clean'])\n",
    "confusion_matrix(y_test.Close_Up_Down, y_pred)"
   ]
  },
  {
   "cell_type": "code",
   "execution_count": null,
   "metadata": {},
   "outputs": [],
   "source": [
    "pd.crosstab(y_test.Close_Up_Down, y_pred, rownames=['Actual'], colnames=['Predicted'])"
   ]
  },
  {
   "cell_type": "code",
   "execution_count": null,
   "metadata": {},
   "outputs": [],
   "source": [
    "import seaborn as sns\n",
    "\n",
    "conf_mat = confusion_matrix(y_test.Close_Up_Down, y_pred)\n",
    "sns.heatmap(pd.crosstab(y_test.Close_Up_Down, y_pred, rownames=['Actual'], colnames=['Predicted']), annot=True)"
   ]
  },
  {
   "cell_type": "code",
   "execution_count": null,
   "metadata": {},
   "outputs": [],
   "source": [
    "sns.set(font_scale=1.5)\n",
    "fig, ax = plt.subplots(figsize=(8,5))\n",
    "\n",
    "ax = sns.heatmap(conf_mat, annot=True, fmt='d', cmap='Blues');\n",
    "plt.xlabel('Actual');\n",
    "plt.ylabel('Predicted');\n",
    "\n",
    "\n"
   ]
  },
  {
   "cell_type": "code",
   "execution_count": null,
   "metadata": {},
   "outputs": [],
   "source": [
    "plot_confusion_matrix(clf, X_test_dict['Clean'], y_test.Close_Up_Down,);"
   ]
  },
  {
   "cell_type": "code",
   "execution_count": null,
   "metadata": {},
   "outputs": [],
   "source": [
    "plot_confusion_matrix(clf, X_val_dict['Clean'], y_val.Close_Up_Down,);"
   ]
  },
  {
   "cell_type": "markdown",
   "metadata": {},
   "source": [
    "**Clasification Report**"
   ]
  },
  {
   "cell_type": "code",
   "execution_count": null,
   "metadata": {},
   "outputs": [],
   "source": [
    "clsf_report = classification_report(y_test.Close_Up_Down, y_pred, output_dict=True)\n",
    "pd.DataFrame(clsf_report)"
   ]
  },
  {
   "cell_type": "code",
   "execution_count": null,
   "metadata": {},
   "outputs": [],
   "source": [
    "fpr"
   ]
  },
  {
   "cell_type": "code",
   "execution_count": null,
   "metadata": {},
   "outputs": [],
   "source": [
    "print(classification_report(y_test.Close_Up_Down, y_pred))"
   ]
  },
  {
   "cell_type": "code",
   "execution_count": null,
   "metadata": {},
   "outputs": [],
   "source": [
    "clsf_report['-1.0']['f1-score']"
   ]
  },
  {
   "cell_type": "code",
   "execution_count": null,
   "metadata": {},
   "outputs": [],
   "source": [
    "from sklearn.metrics import precision_score, recall_score, f1_score, det_curve\n",
    "precision_score(y_test.Close_Up_Down, y_pred)"
   ]
  },
  {
   "cell_type": "code",
   "execution_count": null,
   "metadata": {},
   "outputs": [],
   "source": [
    "fpr_, fnr_, thresholds_ = det_curve(y_test.Close_Up_Down, y_pred)"
   ]
  },
  {
   "cell_type": "code",
   "execution_count": null,
   "metadata": {},
   "outputs": [],
   "source": [
    "fpr_"
   ]
  },
  {
   "cell_type": "code",
   "execution_count": null,
   "metadata": {},
   "outputs": [],
   "source": [
    "fnr_"
   ]
  },
  {
   "cell_type": "code",
   "execution_count": null,
   "metadata": {},
   "outputs": [],
   "source": [
    "thresholds_"
   ]
  },
  {
   "cell_type": "code",
   "execution_count": null,
   "metadata": {},
   "outputs": [],
   "source": []
  },
  {
   "cell_type": "code",
   "execution_count": null,
   "metadata": {},
   "outputs": [],
   "source": [
    "\n"
   ]
  },
  {
   "cell_type": "code",
   "execution_count": null,
   "metadata": {},
   "outputs": [],
   "source": []
  },
  {
   "cell_type": "code",
   "execution_count": null,
   "metadata": {},
   "outputs": [],
   "source": []
  },
  {
   "cell_type": "code",
   "execution_count": null,
   "metadata": {},
   "outputs": [],
   "source": []
  },
  {
   "cell_type": "code",
   "execution_count": null,
   "metadata": {},
   "outputs": [],
   "source": []
  },
  {
   "cell_type": "code",
   "execution_count": null,
   "metadata": {},
   "outputs": [],
   "source": []
  },
  {
   "cell_type": "code",
   "execution_count": null,
   "metadata": {},
   "outputs": [],
   "source": []
  }
 ],
 "metadata": {
  "kernelspec": {
   "display_name": "Python 3.10.2 64-bit",
   "language": "python",
   "name": "python3"
  },
  "language_info": {
   "codemirror_mode": {
    "name": "ipython",
    "version": 3
   },
   "file_extension": ".py",
   "mimetype": "text/x-python",
   "name": "python",
   "nbconvert_exporter": "python",
   "pygments_lexer": "ipython3",
   "version": "3.10.2"
  },
  "orig_nbformat": 4,
  "vscode": {
   "interpreter": {
    "hash": "44a86d6b397dbc6b70abfa92d378adf5d728e5b92754036aace887a2a3f0f490"
   }
  }
 },
 "nbformat": 4,
 "nbformat_minor": 2
}
