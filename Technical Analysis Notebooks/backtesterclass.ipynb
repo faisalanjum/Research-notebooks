{
 "cells": [
  {
   "cell_type": "code",
   "execution_count": 1,
   "metadata": {},
   "outputs": [
    {
     "data": {
      "text/html": [
       "        <script type=\"text/javascript\">\n",
       "        window.PlotlyConfig = {MathJaxConfig: 'local'};\n",
       "        if (window.MathJax && window.MathJax.Hub && window.MathJax.Hub.Config) {window.MathJax.Hub.Config({SVG: {font: \"STIX-Web\"}});}\n",
       "        if (typeof require !== 'undefined') {\n",
       "        require.undef(\"plotly\");\n",
       "        requirejs.config({\n",
       "            paths: {\n",
       "                'plotly': ['https://cdn.plot.ly/plotly-2.12.1.min']\n",
       "            }\n",
       "        });\n",
       "        require(['plotly'], function(Plotly) {\n",
       "            window._Plotly = Plotly;\n",
       "        });\n",
       "        }\n",
       "        </script>\n",
       "        "
      ]
     },
     "metadata": {},
     "output_type": "display_data"
    }
   ],
   "source": [
    "import cufflinks as cf\n",
    "import pandas as pd\n",
    "import numpy as np\n",
    "import pandas_market_calendars as mcal\n",
    "from ta import add_all_ta_features\n",
    "from ta.utils import dropna\n",
    "from _lumber_prices import get_lumber_db_xl"
   ]
  },
  {
   "cell_type": "markdown",
   "metadata": {},
   "source": [
    "# FETCH Data"
   ]
  },
  {
   "cell_type": "code",
   "execution_count": null,
   "metadata": {},
   "outputs": [],
   "source": [
    "def add_technical_indicators(TA_df):\n",
    "\n",
    "    TA_df.columns = ['Open','High','Low','Close','Volume','OpenInterest']\n",
    "    TA_df = dropna(TA_df)\n",
    "    TA_df.sort_index(ascending=True, inplace=True)\n",
    "    TA_df = add_all_ta_features(TA_df, open=\"Open\", high=\"High\", low=\"Low\", close=\"Close\", volume=\"Volume\")\n",
    "    TA_df.sort_index(ascending=False, inplace=True)\n",
    "    TA_df.drop(['Open','High','Low','Close','Volume','OpenInterest'],axis=1,inplace=True)\n",
    "    TA_df.columns = [('TA_',x) for x in TA_df.columns]\n",
    "    TA_df = TA_df.replace([np.inf, -np.inf], np.nan).fillna(TA_df.mean())\n",
    "    return TA_df\n",
    "\n",
    "# This func combines all trading dates from Barchart (historical) and cwp live lumber trading dates\n",
    "def lumber_trading_days():\n",
    "    barchart_idx = pd.DatetimeIndex(pd.DataFrame(pd.read_csv('F:/Traders/2x4/Adjusted CME Futures/Switch_OI/Lumber.csv',index_col=0)).index)\n",
    "    cwp_idx = get_lumber_db_xl()[1].index\n",
    "    cwp_idx = cwp_idx[cwp_idx>barchart_idx[0]]\n",
    "    return cwp_idx.append(barchart_idx).sort_values(ascending=False)\n",
    "\n",
    "\n",
    "# \n",
    "file_path = 'C:/source/2x4-data/app/model_building/daily_dataframe_main.xlsx'\n",
    "### Reading Data from Excel daily_dataframe_main - Takes 1 min 40 secs to run\n",
    "Variables = pd.read_excel(file_path, header=[0,1], sheet_name='Variables',index_col=0)\n",
    "Response = pd.read_excel(file_path,sheet_name= 'Response' ,index_col=0)\n",
    "TA_df = Variables.loc[:,('Lumber_Adjusted_dfs',)][['Adj_open3','Adj_high3','Adj_low3','Adj_close3','volume3','openInterest3']]\n",
    "TA_df = add_technical_indicators(TA_df)\n",
    "TA_df.replace([np.inf, -np.inf], np.nan, inplace=True)\n",
    "TA_df.fillna(method='bfill', inplace=True)\n",
    "\n",
    "Variables.sort_index(ascending = False, inplace = True)\n",
    "Response.sort_index(ascending = False, inplace = True)\n",
    "\n",
    "cme = mcal.get_calendar(\"CME_Agriculture\")\n",
    "cme_trading_days = cme.schedule(start_date=Variables.index[-1].date(), end_date=Variables.index[0].date()).index\n",
    "cme_trading_days = cme_trading_days.sort_values(ascending=False)\n",
    "cme_trading_days = pd.DatetimeIndex(cme_trading_days)\n",
    "\n",
    "trading_days = lumber_trading_days()\n",
    "# Variables = Variables[Variables.index > '2012-01-01']\n",
    "Variables = Variables[Variables.index.isin(cme_trading_days)]\n",
    "Variables = Variables[Variables.index.isin(trading_days)]\n",
    "\n",
    "# Response = Response[Response.index > '2012-01-01']\n",
    "Response = Response[Response.index.isin(cme_trading_days)]\n",
    "Response = Response[Response.index.isin(trading_days)]\n",
    "# Response = Response[(Response.Close_Up_Down == 1) | (Response.Close_Up_Down == -1)]\n",
    "\n",
    "Variables.index = pd.DatetimeIndex(Variables.index)\n",
    "Response.index = pd.DatetimeIndex(Response.index)\n",
    "Variables = Variables.reindex(Response.index)\n",
    "\n",
    "Variables.drop(Variables.columns[Variables.isna().all()].to_list(), axis=1, inplace=True)\n",
    "Variables.drop(Variables.columns[Variables.isnull().all()].to_list(), axis=1, inplace=True)\n",
    "\n",
    "Response.drop(Response.columns[Response.isna().all()].to_list(), axis=1, inplace=True)\n",
    "Response.drop(Response.columns[Response.isnull().all()].to_list(), axis=1, inplace=True)"
   ]
  },
  {
   "cell_type": "code",
   "execution_count": 8,
   "metadata": {},
   "outputs": [
    {
     "data": {
      "text/html": [
       "<div>\n",
       "<style scoped>\n",
       "    .dataframe tbody tr th:only-of-type {\n",
       "        vertical-align: middle;\n",
       "    }\n",
       "\n",
       "    .dataframe tbody tr th {\n",
       "        vertical-align: top;\n",
       "    }\n",
       "\n",
       "    .dataframe thead th {\n",
       "        text-align: right;\n",
       "    }\n",
       "</style>\n",
       "<table border=\"1\" class=\"dataframe\">\n",
       "  <thead>\n",
       "    <tr style=\"text-align: right;\">\n",
       "      <th></th>\n",
       "      <th>Open</th>\n",
       "      <th>High</th>\n",
       "      <th>Low</th>\n",
       "      <th>Close</th>\n",
       "      <th>Volume</th>\n",
       "      <th>OpenInterest</th>\n",
       "    </tr>\n",
       "  </thead>\n",
       "  <tbody>\n",
       "    <tr>\n",
       "      <th>2022-08-15</th>\n",
       "      <td>NaN</td>\n",
       "      <td>NaN</td>\n",
       "      <td>NaN</td>\n",
       "      <td>NaN</td>\n",
       "      <td>NaN</td>\n",
       "      <td>NaN</td>\n",
       "    </tr>\n",
       "    <tr>\n",
       "      <th>2022-08-12</th>\n",
       "      <td>595.599976</td>\n",
       "      <td>611.400024</td>\n",
       "      <td>583.799988</td>\n",
       "      <td>588.700012</td>\n",
       "      <td>219.0</td>\n",
       "      <td>1569.0</td>\n",
       "    </tr>\n",
       "    <tr>\n",
       "      <th>2022-08-11</th>\n",
       "      <td>601.799988</td>\n",
       "      <td>635.599976</td>\n",
       "      <td>577.099976</td>\n",
       "      <td>595.599976</td>\n",
       "      <td>647.0</td>\n",
       "      <td>1654.0</td>\n",
       "    </tr>\n",
       "    <tr>\n",
       "      <th>2022-08-10</th>\n",
       "      <td>552.799988</td>\n",
       "      <td>601.799988</td>\n",
       "      <td>573.000000</td>\n",
       "      <td>601.799988</td>\n",
       "      <td>487.0</td>\n",
       "      <td>1808.0</td>\n",
       "    </tr>\n",
       "    <tr>\n",
       "      <th>2022-08-09</th>\n",
       "      <td>519.299988</td>\n",
       "      <td>565.000000</td>\n",
       "      <td>528.400024</td>\n",
       "      <td>552.799988</td>\n",
       "      <td>376.0</td>\n",
       "      <td>1895.0</td>\n",
       "    </tr>\n",
       "    <tr>\n",
       "      <th>...</th>\n",
       "      <td>...</td>\n",
       "      <td>...</td>\n",
       "      <td>...</td>\n",
       "      <td>...</td>\n",
       "      <td>...</td>\n",
       "      <td>...</td>\n",
       "    </tr>\n",
       "    <tr>\n",
       "      <th>1969-10-07</th>\n",
       "      <td>4084.353631</td>\n",
       "      <td>4033.299211</td>\n",
       "      <td>3982.244790</td>\n",
       "      <td>4033.299211</td>\n",
       "      <td>NaN</td>\n",
       "      <td>NaN</td>\n",
       "    </tr>\n",
       "    <tr>\n",
       "      <th>1969-10-06</th>\n",
       "      <td>4084.353631</td>\n",
       "      <td>4109.880841</td>\n",
       "      <td>4084.353631</td>\n",
       "      <td>4084.353631</td>\n",
       "      <td>NaN</td>\n",
       "      <td>NaN</td>\n",
       "    </tr>\n",
       "    <tr>\n",
       "      <th>1969-10-03</th>\n",
       "      <td>4109.880841</td>\n",
       "      <td>4084.353631</td>\n",
       "      <td>4084.353631</td>\n",
       "      <td>4084.353631</td>\n",
       "      <td>NaN</td>\n",
       "      <td>NaN</td>\n",
       "    </tr>\n",
       "    <tr>\n",
       "      <th>1969-10-02</th>\n",
       "      <td>4084.353631</td>\n",
       "      <td>4109.880841</td>\n",
       "      <td>4058.826421</td>\n",
       "      <td>4109.880841</td>\n",
       "      <td>NaN</td>\n",
       "      <td>NaN</td>\n",
       "    </tr>\n",
       "    <tr>\n",
       "      <th>1969-10-01</th>\n",
       "      <td>NaN</td>\n",
       "      <td>4097.117236</td>\n",
       "      <td>3982.244790</td>\n",
       "      <td>4084.353631</td>\n",
       "      <td>NaN</td>\n",
       "      <td>NaN</td>\n",
       "    </tr>\n",
       "  </tbody>\n",
       "</table>\n",
       "<p>13322 rows × 6 columns</p>\n",
       "</div>"
      ],
      "text/plain": [
       "                   Open         High          Low        Close  Volume  \\\n",
       "2022-08-15          NaN          NaN          NaN          NaN     NaN   \n",
       "2022-08-12   595.599976   611.400024   583.799988   588.700012   219.0   \n",
       "2022-08-11   601.799988   635.599976   577.099976   595.599976   647.0   \n",
       "2022-08-10   552.799988   601.799988   573.000000   601.799988   487.0   \n",
       "2022-08-09   519.299988   565.000000   528.400024   552.799988   376.0   \n",
       "...                 ...          ...          ...          ...     ...   \n",
       "1969-10-07  4084.353631  4033.299211  3982.244790  4033.299211     NaN   \n",
       "1969-10-06  4084.353631  4109.880841  4084.353631  4084.353631     NaN   \n",
       "1969-10-03  4109.880841  4084.353631  4084.353631  4084.353631     NaN   \n",
       "1969-10-02  4084.353631  4109.880841  4058.826421  4109.880841     NaN   \n",
       "1969-10-01          NaN  4097.117236  3982.244790  4084.353631     NaN   \n",
       "\n",
       "            OpenInterest  \n",
       "2022-08-15           NaN  \n",
       "2022-08-12        1569.0  \n",
       "2022-08-11        1654.0  \n",
       "2022-08-10        1808.0  \n",
       "2022-08-09        1895.0  \n",
       "...                  ...  \n",
       "1969-10-07           NaN  \n",
       "1969-10-06           NaN  \n",
       "1969-10-03           NaN  \n",
       "1969-10-02           NaN  \n",
       "1969-10-01           NaN  \n",
       "\n",
       "[13322 rows x 6 columns]"
      ]
     },
     "execution_count": 8,
     "metadata": {},
     "output_type": "execute_result"
    }
   ],
   "source": [
    "Lumber_OHLCVI = Variables.loc[:,('Lumber_Adjusted_dfs',)][['Adj_open3','Adj_high3','Adj_low3','Adj_close3','volume3','openInterest3']]\n",
    "Lumber_OHLCVI.columns = ['Open','High','Low','Close','Volume','OpenInterest']\n",
    "Lumber_OHLCVI = Lumber_OHLCVI.shift(1)\n",
    "# Lumber_OHLCVI.dropna(inplace=True)\n",
    "Lumber_OHLCVI"
   ]
  },
  {
   "cell_type": "code",
   "execution_count": 10,
   "metadata": {},
   "outputs": [
    {
     "data": {
      "text/html": [
       "<div>\n",
       "<style scoped>\n",
       "    .dataframe tbody tr th:only-of-type {\n",
       "        vertical-align: middle;\n",
       "    }\n",
       "\n",
       "    .dataframe tbody tr th {\n",
       "        vertical-align: top;\n",
       "    }\n",
       "\n",
       "    .dataframe thead th {\n",
       "        text-align: right;\n",
       "    }\n",
       "</style>\n",
       "<table border=\"1\" class=\"dataframe\">\n",
       "  <thead>\n",
       "    <tr style=\"text-align: right;\">\n",
       "      <th></th>\n",
       "      <th>Price</th>\n",
       "    </tr>\n",
       "  </thead>\n",
       "  <tbody>\n",
       "    <tr>\n",
       "      <th>1969-10-01</th>\n",
       "      <td>4084.353631</td>\n",
       "    </tr>\n",
       "    <tr>\n",
       "      <th>1969-10-02</th>\n",
       "      <td>4109.880841</td>\n",
       "    </tr>\n",
       "    <tr>\n",
       "      <th>2022-08-11</th>\n",
       "      <td>595.599976</td>\n",
       "    </tr>\n",
       "    <tr>\n",
       "      <th>2022-08-12</th>\n",
       "      <td>588.700012</td>\n",
       "    </tr>\n",
       "  </tbody>\n",
       "</table>\n",
       "</div>"
      ],
      "text/plain": [
       "                  Price\n",
       "1969-10-01  4084.353631\n",
       "1969-10-02  4109.880841\n",
       "2022-08-11   595.599976\n",
       "2022-08-12   588.700012"
      ]
     },
     "execution_count": 10,
     "metadata": {},
     "output_type": "execute_result"
    }
   ],
   "source": [
    "data = Lumber_OHLCVI.copy()\n",
    "data = data.Close.to_frame()\n",
    "data.columns = ['Price']\n",
    "data.sort_index(ascending=True, inplace=True)\n",
    "data.dropna(inplace=True)\n",
    "data.head(2).append(data.tail(2))"
   ]
  },
  {
   "cell_type": "code",
   "execution_count": 4,
   "metadata": {},
   "outputs": [],
   "source": [
    "from scipy.optimize import minimize, brute"
   ]
  },
  {
   "cell_type": "markdown",
   "metadata": {},
   "source": [
    "### SMABacktester Class"
   ]
  },
  {
   "cell_type": "code",
   "execution_count": 286,
   "metadata": {},
   "outputs": [],
   "source": [
    "class SMABacktester():\n",
    "    def __init__(self, symbol, SMA_S, SMA_L, start, end, tc):\n",
    "        self.symbol = symbol\n",
    "        self.SMA_S = SMA_S\n",
    "        self.SMA_L = SMA_L\n",
    "        self.start = start\n",
    "        self.end = end\n",
    "        self.tc = tc\n",
    "        self.results = None\n",
    "        self.get_data()\n",
    "\n",
    "    def __repr__(self):\n",
    "        repr = \"SMABacktester(sybmol={}, SMA_S={}, SMA_L={}, start={}, end={})\".format(self.symbol, self.SMA_S, self.SMA_L, self.start, self.end)\n",
    "        return repr\n",
    "        \n",
    "    def get_data(self):\n",
    "        '''Retrives and Prepares the data...\n",
    "\n",
    "        Parameters\n",
    "        ==========\n",
    "        None\n",
    "        '''\n",
    "\n",
    "        data = Lumber_OHLCVI.copy()\n",
    "        data = data.Close.to_frame().dropna()\n",
    "        data.columns = ['Price']\n",
    "        data.sort_index(ascending=True, inplace=True)\n",
    "        data = data.loc[self.start:self.end]\n",
    "        data['returns'] = np.log(data.Price/data.Price.shift(1))\n",
    "        data.dropna(inplace=True)\n",
    "        data['SMA_S'] = data['Price'].rolling(self.SMA_S).mean()\n",
    "        data['SMA_L'] = data['Price'].rolling(self.SMA_L).mean()\n",
    "        self.data = data\n",
    "        # return data\n",
    "\n",
    "    def set_parameters(self,SMA_S = None, SMA_L = None):\n",
    "        if SMA_S is not None:\n",
    "            self.SMA_S = SMA_S\n",
    "            self.data.SMA_S = self.data['Price'].rolling(self.SMA_S).mean()\n",
    "        if SMA_L is not None:\n",
    "            self.SMA_L = SMA_L\n",
    "            self.data.SMA_L = self.data['Price'].rolling(self.SMA_L).mean()\n",
    "    \n",
    "    def test_strategy(self):\n",
    "        data = self.data.copy().dropna()\n",
    "        data['position'] = np.where(data.SMA_S > data.SMA_L, 1, -1)\n",
    "        data['strategy'] = data.position.shift(1) * data.returns\n",
    "        data.dropna(inplace=True)\n",
    "\n",
    "        # determine when a trade takes place\n",
    "        data['trades'] = data.position.diff().fillna(0).abs()\n",
    "\n",
    "        # subtract transaction costs from the return when trade takes place\n",
    "        data.strategy = data.strategy - data.trades * self.tc\n",
    "\n",
    "        data['creturns'] = data.returns.cumsum().apply(np.exp)\n",
    "        data['cstrategy'] = data.strategy.cumsum().apply(np.exp)\n",
    "        data['creturns'].iloc[0] = 1\n",
    "        data['cstrategy'].iloc[0] = 1\n",
    "\n",
    "        self.results = data\n",
    "\n",
    "        perf = data.cstrategy.iloc[-1]\n",
    "        outperf = perf - data.creturns.iloc[-1]\n",
    "        return round(perf,5), round(outperf,5)\n",
    "\n",
    "    def plot_results(self):\n",
    "        if self.results is None:\n",
    "            print(\"No results to plot yet, run test_strategy() first\")\n",
    "        else:\n",
    "            title = \"{} | SMA_S = {} | SMA_L = {}\".format(self.symbol, self.SMA_S, self.SMA_L)\n",
    "            self.results[['cstrategy','creturns']].plot(title=title,figsize=(12,8))\n",
    "\n",
    "    def buy_and_hold(self):\n",
    "        return self.results.creturns.iloc[-1]\n",
    "\n",
    "    def update_and_run(self,SMA):\n",
    "        self.set_parameters(SMA_S = int(SMA[0]), SMA_L = int(SMA[1]))\n",
    "        return -self.test_strategy()[0] #get absolute performance only - required for brute force, negative for minimization\n",
    "        \n",
    "    def optimize_parameters(self, SMA_S_range, SMA_L_range):\n",
    "        opt = brute(self.update_and_run,(SMA_S_range, SMA_L_range), finish=None)\n",
    "        return opt, -self.update_and_run(opt)"
   ]
  },
  {
   "cell_type": "markdown",
   "metadata": {},
   "source": [
    "### Trading costs & commisions"
   ]
  },
  {
   "cell_type": "code",
   "execution_count": 312,
   "metadata": {},
   "outputs": [
    {
     "data": {
      "text/plain": [
       "0.000225"
      ]
     },
     "execution_count": 312,
     "metadata": {},
     "output_type": "execute_result"
    }
   ],
   "source": [
    "spread = 10 # just assuming average spread between bid and ask in Lumber\n",
    "commisions = 35/2 # assuming $35 per contract both sides\n",
    "half_spread = spread/2\n",
    "# ptc = half_spread/tester.results.Price.mean() # proportional tc per trade (position +-1)\n",
    "\n",
    "ptc = (commisions+half_spread)/1000 * 0.01 # proportional tc per trade (position +-1), divided by 100 to get percentage\n",
    "ptc"
   ]
  },
  {
   "cell_type": "code",
   "execution_count": 313,
   "metadata": {},
   "outputs": [],
   "source": [
    "tester = SMABacktester('Lumber',1,16, '1970-01-01', '2018-08-15',ptc)"
   ]
  },
  {
   "cell_type": "code",
   "execution_count": 314,
   "metadata": {},
   "outputs": [
    {
     "data": {
      "text/html": [
       "<div>\n",
       "<style scoped>\n",
       "    .dataframe tbody tr th:only-of-type {\n",
       "        vertical-align: middle;\n",
       "    }\n",
       "\n",
       "    .dataframe tbody tr th {\n",
       "        vertical-align: top;\n",
       "    }\n",
       "\n",
       "    .dataframe thead th {\n",
       "        text-align: right;\n",
       "    }\n",
       "</style>\n",
       "<table border=\"1\" class=\"dataframe\">\n",
       "  <thead>\n",
       "    <tr style=\"text-align: right;\">\n",
       "      <th></th>\n",
       "      <th>Price</th>\n",
       "      <th>returns</th>\n",
       "      <th>SMA_S</th>\n",
       "      <th>SMA_L</th>\n",
       "    </tr>\n",
       "  </thead>\n",
       "  <tbody>\n",
       "    <tr>\n",
       "      <th>1970-01-06</th>\n",
       "      <td>4250.280497</td>\n",
       "      <td>-0.008969</td>\n",
       "      <td>4250.280497</td>\n",
       "      <td>NaN</td>\n",
       "    </tr>\n",
       "    <tr>\n",
       "      <th>1970-01-07</th>\n",
       "      <td>4250.280497</td>\n",
       "      <td>0.000000</td>\n",
       "      <td>4250.280497</td>\n",
       "      <td>NaN</td>\n",
       "    </tr>\n",
       "    <tr>\n",
       "      <th>1970-01-08</th>\n",
       "      <td>4135.408051</td>\n",
       "      <td>-0.027399</td>\n",
       "      <td>4135.408051</td>\n",
       "      <td>NaN</td>\n",
       "    </tr>\n",
       "    <tr>\n",
       "      <th>1970-01-09</th>\n",
       "      <td>4135.408051</td>\n",
       "      <td>0.000000</td>\n",
       "      <td>4135.408051</td>\n",
       "      <td>NaN</td>\n",
       "    </tr>\n",
       "    <tr>\n",
       "      <th>1970-01-12</th>\n",
       "      <td>4135.408051</td>\n",
       "      <td>0.000000</td>\n",
       "      <td>4135.408051</td>\n",
       "      <td>NaN</td>\n",
       "    </tr>\n",
       "    <tr>\n",
       "      <th>...</th>\n",
       "      <td>...</td>\n",
       "      <td>...</td>\n",
       "      <td>...</td>\n",
       "      <td>...</td>\n",
       "    </tr>\n",
       "    <tr>\n",
       "      <th>2018-08-09</th>\n",
       "      <td>195.822252</td>\n",
       "      <td>-0.001703</td>\n",
       "      <td>195.822252</td>\n",
       "      <td>215.746582</td>\n",
       "    </tr>\n",
       "    <tr>\n",
       "      <th>2018-08-10</th>\n",
       "      <td>197.824817</td>\n",
       "      <td>0.010175</td>\n",
       "      <td>197.824817</td>\n",
       "      <td>213.660577</td>\n",
       "    </tr>\n",
       "    <tr>\n",
       "      <th>2018-08-13</th>\n",
       "      <td>204.976835</td>\n",
       "      <td>0.035515</td>\n",
       "      <td>204.976835</td>\n",
       "      <td>211.994752</td>\n",
       "    </tr>\n",
       "    <tr>\n",
       "      <th>2018-08-14</th>\n",
       "      <td>212.128853</td>\n",
       "      <td>0.034297</td>\n",
       "      <td>212.128853</td>\n",
       "      <td>211.029230</td>\n",
       "    </tr>\n",
       "    <tr>\n",
       "      <th>2018-08-15</th>\n",
       "      <td>210.984530</td>\n",
       "      <td>-0.005409</td>\n",
       "      <td>210.984530</td>\n",
       "      <td>209.658427</td>\n",
       "    </tr>\n",
       "  </tbody>\n",
       "</table>\n",
       "<p>12251 rows × 4 columns</p>\n",
       "</div>"
      ],
      "text/plain": [
       "                  Price   returns        SMA_S       SMA_L\n",
       "1970-01-06  4250.280497 -0.008969  4250.280497         NaN\n",
       "1970-01-07  4250.280497  0.000000  4250.280497         NaN\n",
       "1970-01-08  4135.408051 -0.027399  4135.408051         NaN\n",
       "1970-01-09  4135.408051  0.000000  4135.408051         NaN\n",
       "1970-01-12  4135.408051  0.000000  4135.408051         NaN\n",
       "...                 ...       ...          ...         ...\n",
       "2018-08-09   195.822252 -0.001703   195.822252  215.746582\n",
       "2018-08-10   197.824817  0.010175   197.824817  213.660577\n",
       "2018-08-13   204.976835  0.035515   204.976835  211.994752\n",
       "2018-08-14   212.128853  0.034297   212.128853  211.029230\n",
       "2018-08-15   210.984530 -0.005409   210.984530  209.658427\n",
       "\n",
       "[12251 rows x 4 columns]"
      ]
     },
     "execution_count": 314,
     "metadata": {},
     "output_type": "execute_result"
    }
   ],
   "source": [
    "tester.data"
   ]
  },
  {
   "cell_type": "code",
   "execution_count": 315,
   "metadata": {},
   "outputs": [
    {
     "data": {
      "text/plain": [
       "(array([ 1., 20.]), 28110.83366)"
      ]
     },
     "execution_count": 315,
     "metadata": {},
     "output_type": "execute_result"
    }
   ],
   "source": [
    "tester.optimize_parameters((1,30,1),(20,252,1))"
   ]
  },
  {
   "cell_type": "code",
   "execution_count": 320,
   "metadata": {},
   "outputs": [
    {
     "data": {
      "application/vnd.plotly.v1+json": {
       "config": {
        "linkText": "Export to plot.ly",
        "plotlyServerURL": "https://plot.ly",
        "showLink": true
       },
       "data": [
        {
         "marker": {
          "color": "rgba(255, 153, 51, 0.6)",
          "line": {
           "color": "rgba(255, 153, 51, 1.0)",
           "width": 1
          }
         },
         "name": "Performance",
         "orientation": "v",
         "text": "",
         "type": "bar",
         "x": [
          "1970-01-01",
          "1971-01-01",
          "1972-01-01",
          "1973-01-01",
          "1974-01-01",
          "1975-01-01",
          "1976-01-01",
          "1977-01-01",
          "1978-01-01",
          "1979-01-01",
          "1980-01-01",
          "1981-01-01",
          "1982-01-01",
          "1983-01-01",
          "1984-01-01",
          "1985-01-01",
          "1986-01-01",
          "1987-01-01",
          "1988-01-01",
          "1989-01-01",
          "1990-01-01",
          "1991-01-01",
          "1992-01-01",
          "1993-01-01",
          "1994-01-01",
          "1995-01-01",
          "1996-01-01",
          "1997-01-01",
          "1998-01-01",
          "1999-01-01",
          "2000-01-01",
          "2001-01-01",
          "2002-01-01",
          "2003-01-01",
          "2004-01-01",
          "2005-01-01",
          "2006-01-01",
          "2007-01-01",
          "2008-01-01",
          "2009-01-01",
          "2010-01-01",
          "2011-01-01",
          "2012-01-01",
          "2013-01-01",
          "2014-01-01",
          "2015-01-01",
          "2016-01-01",
          "2017-01-01",
          "2018-01-01",
          "2019-01-01",
          "2020-01-01",
          "2021-01-01",
          "2022-01-01"
         ],
         "y": [
          1.00835,
          1.37877,
          1.44375,
          1.15166,
          0.82096,
          1.27911,
          0.99182,
          0.97096,
          1.33026,
          1.09403,
          1.13864,
          1.28516,
          0.93278,
          1.46628,
          1.13696,
          1.41237,
          1.21464,
          0.94261,
          0.79177,
          0.86557,
          1.0452,
          0.92537,
          1.18845,
          3.28913,
          1.4238,
          1.18657,
          1.47923,
          0.88981,
          1.16475,
          1.20536,
          1.64391,
          1.62599,
          1.24662,
          1.15724,
          1.76162,
          1.25766,
          0.93704,
          1.15709,
          1.0483,
          1.18711,
          1.19772,
          1.23131,
          1.20167,
          1.11975,
          1.15659,
          1.29887,
          1.16089,
          1.42392,
          1.62187,
          0.81466,
          4.31016,
          9.84549,
          1.39951
         ]
        },
        {
         "marker": {
          "color": "rgba(55, 128, 191, 0.6)",
          "line": {
           "color": "rgba(55, 128, 191, 1.0)",
           "width": 1
          }
         },
         "name": "Outperformance",
         "orientation": "v",
         "text": "",
         "type": "bar",
         "x": [
          "1970-01-01",
          "1971-01-01",
          "1972-01-01",
          "1973-01-01",
          "1974-01-01",
          "1975-01-01",
          "1976-01-01",
          "1977-01-01",
          "1978-01-01",
          "1979-01-01",
          "1980-01-01",
          "1981-01-01",
          "1982-01-01",
          "1983-01-01",
          "1984-01-01",
          "1985-01-01",
          "1986-01-01",
          "1987-01-01",
          "1988-01-01",
          "1989-01-01",
          "1990-01-01",
          "1991-01-01",
          "1992-01-01",
          "1993-01-01",
          "1994-01-01",
          "1995-01-01",
          "1996-01-01",
          "1997-01-01",
          "1998-01-01",
          "1999-01-01",
          "2000-01-01",
          "2001-01-01",
          "2002-01-01",
          "2003-01-01",
          "2004-01-01",
          "2005-01-01",
          "2006-01-01",
          "2007-01-01",
          "2008-01-01",
          "2009-01-01",
          "2010-01-01",
          "2011-01-01",
          "2012-01-01",
          "2013-01-01",
          "2014-01-01",
          "2015-01-01",
          "2016-01-01",
          "2017-01-01",
          "2018-01-01",
          "2019-01-01",
          "2020-01-01",
          "2021-01-01",
          "2022-01-01"
         ],
         "y": [
          0.23935,
          0.12436,
          -0.11667,
          -0.22999,
          -0.03462,
          0.53006,
          0.06249,
          -0.03763,
          -0.0995,
          -0.20579,
          0.63039,
          0.70022,
          -0.03431,
          0.85468,
          0.55359,
          0.54786,
          -0.17458,
          -0.4784,
          -0.17669,
          -0.11273,
          0.21411,
          -0.17889,
          -0.12309,
          1.74527,
          0.69926,
          0.55289,
          -0.32971,
          0.16073,
          0.25866,
          0.11049,
          1.16546,
          0.6965,
          0.50575,
          0.14273,
          0.48884,
          0.27308,
          0.30042,
          0.44111,
          0.47105,
          0.34073,
          0.30216,
          0.67943,
          -0.24878,
          0.12856,
          0.19316,
          0.41078,
          -0.0096,
          0.04367,
          0.7863,
          -0.15507,
          1.75173,
          8.40165,
          0.61827
         ]
        },
        {
         "marker": {
          "color": "rgba(50, 171, 96, 0.6)",
          "line": {
           "color": "rgba(50, 171, 96, 1.0)",
           "width": 1
          }
         },
         "name": "Buy and Hold",
         "orientation": "v",
         "text": "",
         "type": "bar",
         "x": [
          "1970-01-01",
          "1971-01-01",
          "1972-01-01",
          "1973-01-01",
          "1974-01-01",
          "1975-01-01",
          "1976-01-01",
          "1977-01-01",
          "1978-01-01",
          "1979-01-01",
          "1980-01-01",
          "1981-01-01",
          "1982-01-01",
          "1983-01-01",
          "1984-01-01",
          "1985-01-01",
          "1986-01-01",
          "1987-01-01",
          "1988-01-01",
          "1989-01-01",
          "1990-01-01",
          "1991-01-01",
          "1992-01-01",
          "1993-01-01",
          "1994-01-01",
          "1995-01-01",
          "1996-01-01",
          "1997-01-01",
          "1998-01-01",
          "1999-01-01",
          "2000-01-01",
          "2001-01-01",
          "2002-01-01",
          "2003-01-01",
          "2004-01-01",
          "2005-01-01",
          "2006-01-01",
          "2007-01-01",
          "2008-01-01",
          "2009-01-01",
          "2010-01-01",
          "2011-01-01",
          "2012-01-01",
          "2013-01-01",
          "2014-01-01",
          "2015-01-01",
          "2016-01-01",
          "2017-01-01",
          "2018-01-01",
          "2019-01-01",
          "2020-01-01",
          "2021-01-01",
          "2022-01-01"
         ],
         "y": [
          0.7690063923254645,
          1.2544104863522119,
          1.5604190297228682,
          1.381651046408253,
          0.8555802967127168,
          0.7490512345242273,
          0.9293348171336061,
          1.0085896475595402,
          1.4297635423085262,
          1.2998211473462316,
          0.5082546957990207,
          0.5849328067619305,
          0.967094567454293,
          0.6115984419034843,
          0.5833702830645123,
          0.8645095710595825,
          1.3892194763965073,
          1.421007973801504,
          0.9684617531920072,
          0.9783061097131893,
          0.831088442300899,
          1.1042661689663913,
          1.3115374200514516,
          1.5438598151599903,
          0.7245464486546189,
          0.6336819865873113,
          1.8089458915830128,
          0.7290844239080126,
          0.9060885850903453,
          1.094866490023715,
          0.4784472319523949,
          0.9294816555113011,
          0.7408760182670261,
          1.0145133295011466,
          1.272784918847521,
          0.9845764155254965,
          0.6366217238323187,
          0.7159761283498227,
          0.577253839671699,
          0.8463816298126025,
          0.8955685564822127,
          0.551880926569214,
          1.4504456550351776,
          0.9911863877691506,
          0.9634306585758743,
          0.8880902488518891,
          1.1704932974834463,
          1.3802500986831039,
          0.8355712596854005,
          0.9697282712370995,
          2.558428594568857,
          1.443836023345135,
          0.7812342561850556
         ]
        }
       ],
       "layout": {
        "legend": {
         "bgcolor": "#F5F6F9",
         "font": {
          "color": "#4D5663"
         }
        },
        "paper_bgcolor": "#F5F6F9",
        "plot_bgcolor": "#F5F6F9",
        "template": {
         "data": {
          "bar": [
           {
            "error_x": {
             "color": "#2a3f5f"
            },
            "error_y": {
             "color": "#2a3f5f"
            },
            "marker": {
             "line": {
              "color": "#E5ECF6",
              "width": 0.5
             },
             "pattern": {
              "fillmode": "overlay",
              "size": 10,
              "solidity": 0.2
             }
            },
            "type": "bar"
           }
          ],
          "barpolar": [
           {
            "marker": {
             "line": {
              "color": "#E5ECF6",
              "width": 0.5
             },
             "pattern": {
              "fillmode": "overlay",
              "size": 10,
              "solidity": 0.2
             }
            },
            "type": "barpolar"
           }
          ],
          "carpet": [
           {
            "aaxis": {
             "endlinecolor": "#2a3f5f",
             "gridcolor": "white",
             "linecolor": "white",
             "minorgridcolor": "white",
             "startlinecolor": "#2a3f5f"
            },
            "baxis": {
             "endlinecolor": "#2a3f5f",
             "gridcolor": "white",
             "linecolor": "white",
             "minorgridcolor": "white",
             "startlinecolor": "#2a3f5f"
            },
            "type": "carpet"
           }
          ],
          "choropleth": [
           {
            "colorbar": {
             "outlinewidth": 0,
             "ticks": ""
            },
            "type": "choropleth"
           }
          ],
          "contour": [
           {
            "colorbar": {
             "outlinewidth": 0,
             "ticks": ""
            },
            "colorscale": [
             [
              0,
              "#0d0887"
             ],
             [
              0.1111111111111111,
              "#46039f"
             ],
             [
              0.2222222222222222,
              "#7201a8"
             ],
             [
              0.3333333333333333,
              "#9c179e"
             ],
             [
              0.4444444444444444,
              "#bd3786"
             ],
             [
              0.5555555555555556,
              "#d8576b"
             ],
             [
              0.6666666666666666,
              "#ed7953"
             ],
             [
              0.7777777777777778,
              "#fb9f3a"
             ],
             [
              0.8888888888888888,
              "#fdca26"
             ],
             [
              1,
              "#f0f921"
             ]
            ],
            "type": "contour"
           }
          ],
          "contourcarpet": [
           {
            "colorbar": {
             "outlinewidth": 0,
             "ticks": ""
            },
            "type": "contourcarpet"
           }
          ],
          "heatmap": [
           {
            "colorbar": {
             "outlinewidth": 0,
             "ticks": ""
            },
            "colorscale": [
             [
              0,
              "#0d0887"
             ],
             [
              0.1111111111111111,
              "#46039f"
             ],
             [
              0.2222222222222222,
              "#7201a8"
             ],
             [
              0.3333333333333333,
              "#9c179e"
             ],
             [
              0.4444444444444444,
              "#bd3786"
             ],
             [
              0.5555555555555556,
              "#d8576b"
             ],
             [
              0.6666666666666666,
              "#ed7953"
             ],
             [
              0.7777777777777778,
              "#fb9f3a"
             ],
             [
              0.8888888888888888,
              "#fdca26"
             ],
             [
              1,
              "#f0f921"
             ]
            ],
            "type": "heatmap"
           }
          ],
          "heatmapgl": [
           {
            "colorbar": {
             "outlinewidth": 0,
             "ticks": ""
            },
            "colorscale": [
             [
              0,
              "#0d0887"
             ],
             [
              0.1111111111111111,
              "#46039f"
             ],
             [
              0.2222222222222222,
              "#7201a8"
             ],
             [
              0.3333333333333333,
              "#9c179e"
             ],
             [
              0.4444444444444444,
              "#bd3786"
             ],
             [
              0.5555555555555556,
              "#d8576b"
             ],
             [
              0.6666666666666666,
              "#ed7953"
             ],
             [
              0.7777777777777778,
              "#fb9f3a"
             ],
             [
              0.8888888888888888,
              "#fdca26"
             ],
             [
              1,
              "#f0f921"
             ]
            ],
            "type": "heatmapgl"
           }
          ],
          "histogram": [
           {
            "marker": {
             "pattern": {
              "fillmode": "overlay",
              "size": 10,
              "solidity": 0.2
             }
            },
            "type": "histogram"
           }
          ],
          "histogram2d": [
           {
            "colorbar": {
             "outlinewidth": 0,
             "ticks": ""
            },
            "colorscale": [
             [
              0,
              "#0d0887"
             ],
             [
              0.1111111111111111,
              "#46039f"
             ],
             [
              0.2222222222222222,
              "#7201a8"
             ],
             [
              0.3333333333333333,
              "#9c179e"
             ],
             [
              0.4444444444444444,
              "#bd3786"
             ],
             [
              0.5555555555555556,
              "#d8576b"
             ],
             [
              0.6666666666666666,
              "#ed7953"
             ],
             [
              0.7777777777777778,
              "#fb9f3a"
             ],
             [
              0.8888888888888888,
              "#fdca26"
             ],
             [
              1,
              "#f0f921"
             ]
            ],
            "type": "histogram2d"
           }
          ],
          "histogram2dcontour": [
           {
            "colorbar": {
             "outlinewidth": 0,
             "ticks": ""
            },
            "colorscale": [
             [
              0,
              "#0d0887"
             ],
             [
              0.1111111111111111,
              "#46039f"
             ],
             [
              0.2222222222222222,
              "#7201a8"
             ],
             [
              0.3333333333333333,
              "#9c179e"
             ],
             [
              0.4444444444444444,
              "#bd3786"
             ],
             [
              0.5555555555555556,
              "#d8576b"
             ],
             [
              0.6666666666666666,
              "#ed7953"
             ],
             [
              0.7777777777777778,
              "#fb9f3a"
             ],
             [
              0.8888888888888888,
              "#fdca26"
             ],
             [
              1,
              "#f0f921"
             ]
            ],
            "type": "histogram2dcontour"
           }
          ],
          "mesh3d": [
           {
            "colorbar": {
             "outlinewidth": 0,
             "ticks": ""
            },
            "type": "mesh3d"
           }
          ],
          "parcoords": [
           {
            "line": {
             "colorbar": {
              "outlinewidth": 0,
              "ticks": ""
             }
            },
            "type": "parcoords"
           }
          ],
          "pie": [
           {
            "automargin": true,
            "type": "pie"
           }
          ],
          "scatter": [
           {
            "fillpattern": {
             "fillmode": "overlay",
             "size": 10,
             "solidity": 0.2
            },
            "type": "scatter"
           }
          ],
          "scatter3d": [
           {
            "line": {
             "colorbar": {
              "outlinewidth": 0,
              "ticks": ""
             }
            },
            "marker": {
             "colorbar": {
              "outlinewidth": 0,
              "ticks": ""
             }
            },
            "type": "scatter3d"
           }
          ],
          "scattercarpet": [
           {
            "marker": {
             "colorbar": {
              "outlinewidth": 0,
              "ticks": ""
             }
            },
            "type": "scattercarpet"
           }
          ],
          "scattergeo": [
           {
            "marker": {
             "colorbar": {
              "outlinewidth": 0,
              "ticks": ""
             }
            },
            "type": "scattergeo"
           }
          ],
          "scattergl": [
           {
            "marker": {
             "colorbar": {
              "outlinewidth": 0,
              "ticks": ""
             }
            },
            "type": "scattergl"
           }
          ],
          "scattermapbox": [
           {
            "marker": {
             "colorbar": {
              "outlinewidth": 0,
              "ticks": ""
             }
            },
            "type": "scattermapbox"
           }
          ],
          "scatterpolar": [
           {
            "marker": {
             "colorbar": {
              "outlinewidth": 0,
              "ticks": ""
             }
            },
            "type": "scatterpolar"
           }
          ],
          "scatterpolargl": [
           {
            "marker": {
             "colorbar": {
              "outlinewidth": 0,
              "ticks": ""
             }
            },
            "type": "scatterpolargl"
           }
          ],
          "scatterternary": [
           {
            "marker": {
             "colorbar": {
              "outlinewidth": 0,
              "ticks": ""
             }
            },
            "type": "scatterternary"
           }
          ],
          "surface": [
           {
            "colorbar": {
             "outlinewidth": 0,
             "ticks": ""
            },
            "colorscale": [
             [
              0,
              "#0d0887"
             ],
             [
              0.1111111111111111,
              "#46039f"
             ],
             [
              0.2222222222222222,
              "#7201a8"
             ],
             [
              0.3333333333333333,
              "#9c179e"
             ],
             [
              0.4444444444444444,
              "#bd3786"
             ],
             [
              0.5555555555555556,
              "#d8576b"
             ],
             [
              0.6666666666666666,
              "#ed7953"
             ],
             [
              0.7777777777777778,
              "#fb9f3a"
             ],
             [
              0.8888888888888888,
              "#fdca26"
             ],
             [
              1,
              "#f0f921"
             ]
            ],
            "type": "surface"
           }
          ],
          "table": [
           {
            "cells": {
             "fill": {
              "color": "#EBF0F8"
             },
             "line": {
              "color": "white"
             }
            },
            "header": {
             "fill": {
              "color": "#C8D4E3"
             },
             "line": {
              "color": "white"
             }
            },
            "type": "table"
           }
          ]
         },
         "layout": {
          "annotationdefaults": {
           "arrowcolor": "#2a3f5f",
           "arrowhead": 0,
           "arrowwidth": 1
          },
          "autotypenumbers": "strict",
          "coloraxis": {
           "colorbar": {
            "outlinewidth": 0,
            "ticks": ""
           }
          },
          "colorscale": {
           "diverging": [
            [
             0,
             "#8e0152"
            ],
            [
             0.1,
             "#c51b7d"
            ],
            [
             0.2,
             "#de77ae"
            ],
            [
             0.3,
             "#f1b6da"
            ],
            [
             0.4,
             "#fde0ef"
            ],
            [
             0.5,
             "#f7f7f7"
            ],
            [
             0.6,
             "#e6f5d0"
            ],
            [
             0.7,
             "#b8e186"
            ],
            [
             0.8,
             "#7fbc41"
            ],
            [
             0.9,
             "#4d9221"
            ],
            [
             1,
             "#276419"
            ]
           ],
           "sequential": [
            [
             0,
             "#0d0887"
            ],
            [
             0.1111111111111111,
             "#46039f"
            ],
            [
             0.2222222222222222,
             "#7201a8"
            ],
            [
             0.3333333333333333,
             "#9c179e"
            ],
            [
             0.4444444444444444,
             "#bd3786"
            ],
            [
             0.5555555555555556,
             "#d8576b"
            ],
            [
             0.6666666666666666,
             "#ed7953"
            ],
            [
             0.7777777777777778,
             "#fb9f3a"
            ],
            [
             0.8888888888888888,
             "#fdca26"
            ],
            [
             1,
             "#f0f921"
            ]
           ],
           "sequentialminus": [
            [
             0,
             "#0d0887"
            ],
            [
             0.1111111111111111,
             "#46039f"
            ],
            [
             0.2222222222222222,
             "#7201a8"
            ],
            [
             0.3333333333333333,
             "#9c179e"
            ],
            [
             0.4444444444444444,
             "#bd3786"
            ],
            [
             0.5555555555555556,
             "#d8576b"
            ],
            [
             0.6666666666666666,
             "#ed7953"
            ],
            [
             0.7777777777777778,
             "#fb9f3a"
            ],
            [
             0.8888888888888888,
             "#fdca26"
            ],
            [
             1,
             "#f0f921"
            ]
           ]
          },
          "colorway": [
           "#636efa",
           "#EF553B",
           "#00cc96",
           "#ab63fa",
           "#FFA15A",
           "#19d3f3",
           "#FF6692",
           "#B6E880",
           "#FF97FF",
           "#FECB52"
          ],
          "font": {
           "color": "#2a3f5f"
          },
          "geo": {
           "bgcolor": "white",
           "lakecolor": "white",
           "landcolor": "#E5ECF6",
           "showlakes": true,
           "showland": true,
           "subunitcolor": "white"
          },
          "hoverlabel": {
           "align": "left"
          },
          "hovermode": "closest",
          "mapbox": {
           "style": "light"
          },
          "paper_bgcolor": "white",
          "plot_bgcolor": "#E5ECF6",
          "polar": {
           "angularaxis": {
            "gridcolor": "white",
            "linecolor": "white",
            "ticks": ""
           },
           "bgcolor": "#E5ECF6",
           "radialaxis": {
            "gridcolor": "white",
            "linecolor": "white",
            "ticks": ""
           }
          },
          "scene": {
           "xaxis": {
            "backgroundcolor": "#E5ECF6",
            "gridcolor": "white",
            "gridwidth": 2,
            "linecolor": "white",
            "showbackground": true,
            "ticks": "",
            "zerolinecolor": "white"
           },
           "yaxis": {
            "backgroundcolor": "#E5ECF6",
            "gridcolor": "white",
            "gridwidth": 2,
            "linecolor": "white",
            "showbackground": true,
            "ticks": "",
            "zerolinecolor": "white"
           },
           "zaxis": {
            "backgroundcolor": "#E5ECF6",
            "gridcolor": "white",
            "gridwidth": 2,
            "linecolor": "white",
            "showbackground": true,
            "ticks": "",
            "zerolinecolor": "white"
           }
          },
          "shapedefaults": {
           "line": {
            "color": "#2a3f5f"
           }
          },
          "ternary": {
           "aaxis": {
            "gridcolor": "white",
            "linecolor": "white",
            "ticks": ""
           },
           "baxis": {
            "gridcolor": "white",
            "linecolor": "white",
            "ticks": ""
           },
           "bgcolor": "#E5ECF6",
           "caxis": {
            "gridcolor": "white",
            "linecolor": "white",
            "ticks": ""
           }
          },
          "title": {
           "x": 0.05
          },
          "xaxis": {
           "automargin": true,
           "gridcolor": "white",
           "linecolor": "white",
           "ticks": "",
           "title": {
            "standoff": 15
           },
           "zerolinecolor": "white",
           "zerolinewidth": 2
          },
          "yaxis": {
           "automargin": true,
           "gridcolor": "white",
           "linecolor": "white",
           "ticks": "",
           "title": {
            "standoff": 15
           },
           "zerolinecolor": "white",
           "zerolinewidth": 2
          }
         }
        },
        "title": {
         "font": {
          "color": "#4D5663"
         }
        },
        "xaxis": {
         "gridcolor": "#E1E5ED",
         "showgrid": true,
         "tickfont": {
          "color": "#4D5663"
         },
         "title": {
          "font": {
           "color": "#4D5663"
          },
          "text": ""
         },
         "zerolinecolor": "#E1E5ED"
        },
        "yaxis": {
         "gridcolor": "#E1E5ED",
         "showgrid": true,
         "tickfont": {
          "color": "#4D5663"
         },
         "title": {
          "font": {
           "color": "#4D5663"
          },
          "text": ""
         },
         "zerolinecolor": "#E1E5ED"
        }
       }
      },
      "text/html": [
       "<div>                            <div id=\"993f5792-d9dc-46b5-bad1-3a7db1e01b54\" class=\"plotly-graph-div\" style=\"height:525px; width:100%;\"></div>            <script type=\"text/javascript\">                require([\"plotly\"], function(Plotly) {                    window.PLOTLYENV=window.PLOTLYENV || {};\n",
       "                    window.PLOTLYENV.BASE_URL='https://plot.ly';                                    if (document.getElementById(\"993f5792-d9dc-46b5-bad1-3a7db1e01b54\")) {                    Plotly.newPlot(                        \"993f5792-d9dc-46b5-bad1-3a7db1e01b54\",                        [{\"marker\":{\"color\":\"rgba(255, 153, 51, 0.6)\",\"line\":{\"color\":\"rgba(255, 153, 51, 1.0)\",\"width\":1}},\"name\":\"Performance\",\"orientation\":\"v\",\"text\":\"\",\"x\":[\"1970-01-01\",\"1971-01-01\",\"1972-01-01\",\"1973-01-01\",\"1974-01-01\",\"1975-01-01\",\"1976-01-01\",\"1977-01-01\",\"1978-01-01\",\"1979-01-01\",\"1980-01-01\",\"1981-01-01\",\"1982-01-01\",\"1983-01-01\",\"1984-01-01\",\"1985-01-01\",\"1986-01-01\",\"1987-01-01\",\"1988-01-01\",\"1989-01-01\",\"1990-01-01\",\"1991-01-01\",\"1992-01-01\",\"1993-01-01\",\"1994-01-01\",\"1995-01-01\",\"1996-01-01\",\"1997-01-01\",\"1998-01-01\",\"1999-01-01\",\"2000-01-01\",\"2001-01-01\",\"2002-01-01\",\"2003-01-01\",\"2004-01-01\",\"2005-01-01\",\"2006-01-01\",\"2007-01-01\",\"2008-01-01\",\"2009-01-01\",\"2010-01-01\",\"2011-01-01\",\"2012-01-01\",\"2013-01-01\",\"2014-01-01\",\"2015-01-01\",\"2016-01-01\",\"2017-01-01\",\"2018-01-01\",\"2019-01-01\",\"2020-01-01\",\"2021-01-01\",\"2022-01-01\"],\"y\":[1.00835,1.37877,1.44375,1.15166,0.82096,1.27911,0.99182,0.97096,1.33026,1.09403,1.13864,1.28516,0.93278,1.46628,1.13696,1.41237,1.21464,0.94261,0.79177,0.86557,1.0452,0.92537,1.18845,3.28913,1.4238,1.18657,1.47923,0.88981,1.16475,1.20536,1.64391,1.62599,1.24662,1.15724,1.76162,1.25766,0.93704,1.15709,1.0483,1.18711,1.19772,1.23131,1.20167,1.11975,1.15659,1.29887,1.16089,1.42392,1.62187,0.81466,4.31016,9.84549,1.39951],\"type\":\"bar\"},{\"marker\":{\"color\":\"rgba(55, 128, 191, 0.6)\",\"line\":{\"color\":\"rgba(55, 128, 191, 1.0)\",\"width\":1}},\"name\":\"Outperformance\",\"orientation\":\"v\",\"text\":\"\",\"x\":[\"1970-01-01\",\"1971-01-01\",\"1972-01-01\",\"1973-01-01\",\"1974-01-01\",\"1975-01-01\",\"1976-01-01\",\"1977-01-01\",\"1978-01-01\",\"1979-01-01\",\"1980-01-01\",\"1981-01-01\",\"1982-01-01\",\"1983-01-01\",\"1984-01-01\",\"1985-01-01\",\"1986-01-01\",\"1987-01-01\",\"1988-01-01\",\"1989-01-01\",\"1990-01-01\",\"1991-01-01\",\"1992-01-01\",\"1993-01-01\",\"1994-01-01\",\"1995-01-01\",\"1996-01-01\",\"1997-01-01\",\"1998-01-01\",\"1999-01-01\",\"2000-01-01\",\"2001-01-01\",\"2002-01-01\",\"2003-01-01\",\"2004-01-01\",\"2005-01-01\",\"2006-01-01\",\"2007-01-01\",\"2008-01-01\",\"2009-01-01\",\"2010-01-01\",\"2011-01-01\",\"2012-01-01\",\"2013-01-01\",\"2014-01-01\",\"2015-01-01\",\"2016-01-01\",\"2017-01-01\",\"2018-01-01\",\"2019-01-01\",\"2020-01-01\",\"2021-01-01\",\"2022-01-01\"],\"y\":[0.23935,0.12436,-0.11667,-0.22999,-0.03462,0.53006,0.06249,-0.03763,-0.0995,-0.20579,0.63039,0.70022,-0.03431,0.85468,0.55359,0.54786,-0.17458,-0.4784,-0.17669,-0.11273,0.21411,-0.17889,-0.12309,1.74527,0.69926,0.55289,-0.32971,0.16073,0.25866,0.11049,1.16546,0.6965,0.50575,0.14273,0.48884,0.27308,0.30042,0.44111,0.47105,0.34073,0.30216,0.67943,-0.24878,0.12856,0.19316,0.41078,-0.0096,0.04367,0.7863,-0.15507,1.75173,8.40165,0.61827],\"type\":\"bar\"},{\"marker\":{\"color\":\"rgba(50, 171, 96, 0.6)\",\"line\":{\"color\":\"rgba(50, 171, 96, 1.0)\",\"width\":1}},\"name\":\"Buy and Hold\",\"orientation\":\"v\",\"text\":\"\",\"x\":[\"1970-01-01\",\"1971-01-01\",\"1972-01-01\",\"1973-01-01\",\"1974-01-01\",\"1975-01-01\",\"1976-01-01\",\"1977-01-01\",\"1978-01-01\",\"1979-01-01\",\"1980-01-01\",\"1981-01-01\",\"1982-01-01\",\"1983-01-01\",\"1984-01-01\",\"1985-01-01\",\"1986-01-01\",\"1987-01-01\",\"1988-01-01\",\"1989-01-01\",\"1990-01-01\",\"1991-01-01\",\"1992-01-01\",\"1993-01-01\",\"1994-01-01\",\"1995-01-01\",\"1996-01-01\",\"1997-01-01\",\"1998-01-01\",\"1999-01-01\",\"2000-01-01\",\"2001-01-01\",\"2002-01-01\",\"2003-01-01\",\"2004-01-01\",\"2005-01-01\",\"2006-01-01\",\"2007-01-01\",\"2008-01-01\",\"2009-01-01\",\"2010-01-01\",\"2011-01-01\",\"2012-01-01\",\"2013-01-01\",\"2014-01-01\",\"2015-01-01\",\"2016-01-01\",\"2017-01-01\",\"2018-01-01\",\"2019-01-01\",\"2020-01-01\",\"2021-01-01\",\"2022-01-01\"],\"y\":[0.7690063923254645,1.2544104863522119,1.5604190297228682,1.381651046408253,0.8555802967127168,0.7490512345242273,0.9293348171336061,1.0085896475595402,1.4297635423085262,1.2998211473462316,0.5082546957990207,0.5849328067619305,0.967094567454293,0.6115984419034843,0.5833702830645123,0.8645095710595825,1.3892194763965073,1.421007973801504,0.9684617531920072,0.9783061097131893,0.831088442300899,1.1042661689663913,1.3115374200514516,1.5438598151599903,0.7245464486546189,0.6336819865873113,1.8089458915830128,0.7290844239080126,0.9060885850903453,1.094866490023715,0.4784472319523949,0.9294816555113011,0.7408760182670261,1.0145133295011466,1.272784918847521,0.9845764155254965,0.6366217238323187,0.7159761283498227,0.577253839671699,0.8463816298126025,0.8955685564822127,0.551880926569214,1.4504456550351776,0.9911863877691506,0.9634306585758743,0.8880902488518891,1.1704932974834463,1.3802500986831039,0.8355712596854005,0.9697282712370995,2.558428594568857,1.443836023345135,0.7812342561850556],\"type\":\"bar\"}],                        {\"legend\":{\"bgcolor\":\"#F5F6F9\",\"font\":{\"color\":\"#4D5663\"}},\"paper_bgcolor\":\"#F5F6F9\",\"plot_bgcolor\":\"#F5F6F9\",\"template\":{\"data\":{\"barpolar\":[{\"marker\":{\"line\":{\"color\":\"#E5ECF6\",\"width\":0.5},\"pattern\":{\"fillmode\":\"overlay\",\"size\":10,\"solidity\":0.2}},\"type\":\"barpolar\"}],\"bar\":[{\"error_x\":{\"color\":\"#2a3f5f\"},\"error_y\":{\"color\":\"#2a3f5f\"},\"marker\":{\"line\":{\"color\":\"#E5ECF6\",\"width\":0.5},\"pattern\":{\"fillmode\":\"overlay\",\"size\":10,\"solidity\":0.2}},\"type\":\"bar\"}],\"carpet\":[{\"aaxis\":{\"endlinecolor\":\"#2a3f5f\",\"gridcolor\":\"white\",\"linecolor\":\"white\",\"minorgridcolor\":\"white\",\"startlinecolor\":\"#2a3f5f\"},\"baxis\":{\"endlinecolor\":\"#2a3f5f\",\"gridcolor\":\"white\",\"linecolor\":\"white\",\"minorgridcolor\":\"white\",\"startlinecolor\":\"#2a3f5f\"},\"type\":\"carpet\"}],\"choropleth\":[{\"colorbar\":{\"outlinewidth\":0,\"ticks\":\"\"},\"type\":\"choropleth\"}],\"contourcarpet\":[{\"colorbar\":{\"outlinewidth\":0,\"ticks\":\"\"},\"type\":\"contourcarpet\"}],\"contour\":[{\"colorbar\":{\"outlinewidth\":0,\"ticks\":\"\"},\"colorscale\":[[0.0,\"#0d0887\"],[0.1111111111111111,\"#46039f\"],[0.2222222222222222,\"#7201a8\"],[0.3333333333333333,\"#9c179e\"],[0.4444444444444444,\"#bd3786\"],[0.5555555555555556,\"#d8576b\"],[0.6666666666666666,\"#ed7953\"],[0.7777777777777778,\"#fb9f3a\"],[0.8888888888888888,\"#fdca26\"],[1.0,\"#f0f921\"]],\"type\":\"contour\"}],\"heatmapgl\":[{\"colorbar\":{\"outlinewidth\":0,\"ticks\":\"\"},\"colorscale\":[[0.0,\"#0d0887\"],[0.1111111111111111,\"#46039f\"],[0.2222222222222222,\"#7201a8\"],[0.3333333333333333,\"#9c179e\"],[0.4444444444444444,\"#bd3786\"],[0.5555555555555556,\"#d8576b\"],[0.6666666666666666,\"#ed7953\"],[0.7777777777777778,\"#fb9f3a\"],[0.8888888888888888,\"#fdca26\"],[1.0,\"#f0f921\"]],\"type\":\"heatmapgl\"}],\"heatmap\":[{\"colorbar\":{\"outlinewidth\":0,\"ticks\":\"\"},\"colorscale\":[[0.0,\"#0d0887\"],[0.1111111111111111,\"#46039f\"],[0.2222222222222222,\"#7201a8\"],[0.3333333333333333,\"#9c179e\"],[0.4444444444444444,\"#bd3786\"],[0.5555555555555556,\"#d8576b\"],[0.6666666666666666,\"#ed7953\"],[0.7777777777777778,\"#fb9f3a\"],[0.8888888888888888,\"#fdca26\"],[1.0,\"#f0f921\"]],\"type\":\"heatmap\"}],\"histogram2dcontour\":[{\"colorbar\":{\"outlinewidth\":0,\"ticks\":\"\"},\"colorscale\":[[0.0,\"#0d0887\"],[0.1111111111111111,\"#46039f\"],[0.2222222222222222,\"#7201a8\"],[0.3333333333333333,\"#9c179e\"],[0.4444444444444444,\"#bd3786\"],[0.5555555555555556,\"#d8576b\"],[0.6666666666666666,\"#ed7953\"],[0.7777777777777778,\"#fb9f3a\"],[0.8888888888888888,\"#fdca26\"],[1.0,\"#f0f921\"]],\"type\":\"histogram2dcontour\"}],\"histogram2d\":[{\"colorbar\":{\"outlinewidth\":0,\"ticks\":\"\"},\"colorscale\":[[0.0,\"#0d0887\"],[0.1111111111111111,\"#46039f\"],[0.2222222222222222,\"#7201a8\"],[0.3333333333333333,\"#9c179e\"],[0.4444444444444444,\"#bd3786\"],[0.5555555555555556,\"#d8576b\"],[0.6666666666666666,\"#ed7953\"],[0.7777777777777778,\"#fb9f3a\"],[0.8888888888888888,\"#fdca26\"],[1.0,\"#f0f921\"]],\"type\":\"histogram2d\"}],\"histogram\":[{\"marker\":{\"pattern\":{\"fillmode\":\"overlay\",\"size\":10,\"solidity\":0.2}},\"type\":\"histogram\"}],\"mesh3d\":[{\"colorbar\":{\"outlinewidth\":0,\"ticks\":\"\"},\"type\":\"mesh3d\"}],\"parcoords\":[{\"line\":{\"colorbar\":{\"outlinewidth\":0,\"ticks\":\"\"}},\"type\":\"parcoords\"}],\"pie\":[{\"automargin\":true,\"type\":\"pie\"}],\"scatter3d\":[{\"line\":{\"colorbar\":{\"outlinewidth\":0,\"ticks\":\"\"}},\"marker\":{\"colorbar\":{\"outlinewidth\":0,\"ticks\":\"\"}},\"type\":\"scatter3d\"}],\"scattercarpet\":[{\"marker\":{\"colorbar\":{\"outlinewidth\":0,\"ticks\":\"\"}},\"type\":\"scattercarpet\"}],\"scattergeo\":[{\"marker\":{\"colorbar\":{\"outlinewidth\":0,\"ticks\":\"\"}},\"type\":\"scattergeo\"}],\"scattergl\":[{\"marker\":{\"colorbar\":{\"outlinewidth\":0,\"ticks\":\"\"}},\"type\":\"scattergl\"}],\"scattermapbox\":[{\"marker\":{\"colorbar\":{\"outlinewidth\":0,\"ticks\":\"\"}},\"type\":\"scattermapbox\"}],\"scatterpolargl\":[{\"marker\":{\"colorbar\":{\"outlinewidth\":0,\"ticks\":\"\"}},\"type\":\"scatterpolargl\"}],\"scatterpolar\":[{\"marker\":{\"colorbar\":{\"outlinewidth\":0,\"ticks\":\"\"}},\"type\":\"scatterpolar\"}],\"scatter\":[{\"fillpattern\":{\"fillmode\":\"overlay\",\"size\":10,\"solidity\":0.2},\"type\":\"scatter\"}],\"scatterternary\":[{\"marker\":{\"colorbar\":{\"outlinewidth\":0,\"ticks\":\"\"}},\"type\":\"scatterternary\"}],\"surface\":[{\"colorbar\":{\"outlinewidth\":0,\"ticks\":\"\"},\"colorscale\":[[0.0,\"#0d0887\"],[0.1111111111111111,\"#46039f\"],[0.2222222222222222,\"#7201a8\"],[0.3333333333333333,\"#9c179e\"],[0.4444444444444444,\"#bd3786\"],[0.5555555555555556,\"#d8576b\"],[0.6666666666666666,\"#ed7953\"],[0.7777777777777778,\"#fb9f3a\"],[0.8888888888888888,\"#fdca26\"],[1.0,\"#f0f921\"]],\"type\":\"surface\"}],\"table\":[{\"cells\":{\"fill\":{\"color\":\"#EBF0F8\"},\"line\":{\"color\":\"white\"}},\"header\":{\"fill\":{\"color\":\"#C8D4E3\"},\"line\":{\"color\":\"white\"}},\"type\":\"table\"}]},\"layout\":{\"annotationdefaults\":{\"arrowcolor\":\"#2a3f5f\",\"arrowhead\":0,\"arrowwidth\":1},\"autotypenumbers\":\"strict\",\"coloraxis\":{\"colorbar\":{\"outlinewidth\":0,\"ticks\":\"\"}},\"colorscale\":{\"diverging\":[[0,\"#8e0152\"],[0.1,\"#c51b7d\"],[0.2,\"#de77ae\"],[0.3,\"#f1b6da\"],[0.4,\"#fde0ef\"],[0.5,\"#f7f7f7\"],[0.6,\"#e6f5d0\"],[0.7,\"#b8e186\"],[0.8,\"#7fbc41\"],[0.9,\"#4d9221\"],[1,\"#276419\"]],\"sequential\":[[0.0,\"#0d0887\"],[0.1111111111111111,\"#46039f\"],[0.2222222222222222,\"#7201a8\"],[0.3333333333333333,\"#9c179e\"],[0.4444444444444444,\"#bd3786\"],[0.5555555555555556,\"#d8576b\"],[0.6666666666666666,\"#ed7953\"],[0.7777777777777778,\"#fb9f3a\"],[0.8888888888888888,\"#fdca26\"],[1.0,\"#f0f921\"]],\"sequentialminus\":[[0.0,\"#0d0887\"],[0.1111111111111111,\"#46039f\"],[0.2222222222222222,\"#7201a8\"],[0.3333333333333333,\"#9c179e\"],[0.4444444444444444,\"#bd3786\"],[0.5555555555555556,\"#d8576b\"],[0.6666666666666666,\"#ed7953\"],[0.7777777777777778,\"#fb9f3a\"],[0.8888888888888888,\"#fdca26\"],[1.0,\"#f0f921\"]]},\"colorway\":[\"#636efa\",\"#EF553B\",\"#00cc96\",\"#ab63fa\",\"#FFA15A\",\"#19d3f3\",\"#FF6692\",\"#B6E880\",\"#FF97FF\",\"#FECB52\"],\"font\":{\"color\":\"#2a3f5f\"},\"geo\":{\"bgcolor\":\"white\",\"lakecolor\":\"white\",\"landcolor\":\"#E5ECF6\",\"showlakes\":true,\"showland\":true,\"subunitcolor\":\"white\"},\"hoverlabel\":{\"align\":\"left\"},\"hovermode\":\"closest\",\"mapbox\":{\"style\":\"light\"},\"paper_bgcolor\":\"white\",\"plot_bgcolor\":\"#E5ECF6\",\"polar\":{\"angularaxis\":{\"gridcolor\":\"white\",\"linecolor\":\"white\",\"ticks\":\"\"},\"bgcolor\":\"#E5ECF6\",\"radialaxis\":{\"gridcolor\":\"white\",\"linecolor\":\"white\",\"ticks\":\"\"}},\"scene\":{\"xaxis\":{\"backgroundcolor\":\"#E5ECF6\",\"gridcolor\":\"white\",\"gridwidth\":2,\"linecolor\":\"white\",\"showbackground\":true,\"ticks\":\"\",\"zerolinecolor\":\"white\"},\"yaxis\":{\"backgroundcolor\":\"#E5ECF6\",\"gridcolor\":\"white\",\"gridwidth\":2,\"linecolor\":\"white\",\"showbackground\":true,\"ticks\":\"\",\"zerolinecolor\":\"white\"},\"zaxis\":{\"backgroundcolor\":\"#E5ECF6\",\"gridcolor\":\"white\",\"gridwidth\":2,\"linecolor\":\"white\",\"showbackground\":true,\"ticks\":\"\",\"zerolinecolor\":\"white\"}},\"shapedefaults\":{\"line\":{\"color\":\"#2a3f5f\"}},\"ternary\":{\"aaxis\":{\"gridcolor\":\"white\",\"linecolor\":\"white\",\"ticks\":\"\"},\"baxis\":{\"gridcolor\":\"white\",\"linecolor\":\"white\",\"ticks\":\"\"},\"bgcolor\":\"#E5ECF6\",\"caxis\":{\"gridcolor\":\"white\",\"linecolor\":\"white\",\"ticks\":\"\"}},\"title\":{\"x\":0.05},\"xaxis\":{\"automargin\":true,\"gridcolor\":\"white\",\"linecolor\":\"white\",\"ticks\":\"\",\"title\":{\"standoff\":15},\"zerolinecolor\":\"white\",\"zerolinewidth\":2},\"yaxis\":{\"automargin\":true,\"gridcolor\":\"white\",\"linecolor\":\"white\",\"ticks\":\"\",\"title\":{\"standoff\":15},\"zerolinecolor\":\"white\",\"zerolinewidth\":2}}},\"title\":{\"font\":{\"color\":\"#4D5663\"}},\"xaxis\":{\"gridcolor\":\"#E1E5ED\",\"showgrid\":true,\"tickfont\":{\"color\":\"#4D5663\"},\"title\":{\"font\":{\"color\":\"#4D5663\"},\"text\":\"\"},\"zerolinecolor\":\"#E1E5ED\"},\"yaxis\":{\"gridcolor\":\"#E1E5ED\",\"showgrid\":true,\"tickfont\":{\"color\":\"#4D5663\"},\"title\":{\"font\":{\"color\":\"#4D5663\"},\"text\":\"\"},\"zerolinecolor\":\"#E1E5ED\"}},                        {\"showLink\": true, \"linkText\": \"Export to plot.ly\", \"plotlyServerURL\": \"https://plot.ly\", \"responsive\": true}                    ).then(function(){\n",
       "                            \n",
       "var gd = document.getElementById('993f5792-d9dc-46b5-bad1-3a7db1e01b54');\n",
       "var x = new MutationObserver(function (mutations, observer) {{\n",
       "        var display = window.getComputedStyle(gd).display;\n",
       "        if (!display || display === 'none') {{\n",
       "            console.log([gd, 'removed!']);\n",
       "            Plotly.purge(gd);\n",
       "            observer.disconnect();\n",
       "        }}\n",
       "}});\n",
       "\n",
       "// Listen for the removal of the full notebook cells\n",
       "var notebookContainer = gd.closest('#notebook-container');\n",
       "if (notebookContainer) {{\n",
       "    x.observe(notebookContainer, {childList: true});\n",
       "}}\n",
       "\n",
       "// Listen for the clearing of the current output cell\n",
       "var outputEl = gd.closest('.output');\n",
       "if (outputEl) {{\n",
       "    x.observe(outputEl, {childList: true});\n",
       "}}\n",
       "\n",
       "                        })                };                });            </script>        </div>"
      ]
     },
     "metadata": {},
     "output_type": "display_data"
    }
   ],
   "source": [
    "performance_dict = {}\n",
    "start_yr=pd.to_datetime('1970-01-01').date()\n",
    "end_yr=pd.to_datetime('2023-01-01').date()\n",
    "years = pd.date_range(start_yr, end_yr, freq='AS') # Annual Start\n",
    "for yr1,yr2 in zip(years,years[1:]):\n",
    "    tester = SMABacktester('Lumber',1,20, yr1, yr2,ptc)\n",
    "    performance_dict[yr1.date()] = [tester.test_strategy()[0],  tester.test_strategy()[1], tester.buy_and_hold()]\n",
    "\n",
    "performance_df = pd.DataFrame(performance_dict).T\n",
    "performance_df.columns = ['Performance','Outperformance','Buy and Hold']\n",
    "performance_df.iplot(kind='bar');"
   ]
  },
  {
   "cell_type": "code",
   "execution_count": null,
   "metadata": {},
   "outputs": [
    {
     "data": {
      "text/plain": [
       "(65.74152, 62.91248)"
      ]
     },
     "execution_count": 267,
     "metadata": {},
     "output_type": "execute_result"
    }
   ],
   "source": [
    "tester = SMABacktester('Lumber',1,20, '2019-01-01', '2022-08-15')\n",
    "tester.test_strategy()"
   ]
  },
  {
   "cell_type": "code",
   "execution_count": null,
   "metadata": {},
   "outputs": [
    {
     "data": {
      "text/plain": [
       "-1431.6777"
      ]
     },
     "execution_count": 174,
     "metadata": {},
     "output_type": "execute_result"
    }
   ],
   "source": [
    "tester.update_and_run((1,16))"
   ]
  },
  {
   "cell_type": "code",
   "execution_count": null,
   "metadata": {},
   "outputs": [
    {
     "data": {
      "image/png": "[encoded data removed]",
      "text/plain": [
       "<Figure size 864x576 with 1 Axes>"
      ]
     },
     "metadata": {
      "needs_background": "light"
     },
     "output_type": "display_data"
    }
   ],
   "source": [
    "tester.plot_results()"
   ]
  },
  {
   "cell_type": "code",
   "execution_count": null,
   "metadata": {},
   "outputs": [
    {
     "data": {
      "text/html": [
       "<div>\n",
       "<style scoped>\n",
       "    .dataframe tbody tr th:only-of-type {\n",
       "        vertical-align: middle;\n",
       "    }\n",
       "\n",
       "    .dataframe tbody tr th {\n",
       "        vertical-align: top;\n",
       "    }\n",
       "\n",
       "    .dataframe thead th {\n",
       "        text-align: right;\n",
       "    }\n",
       "</style>\n",
       "<table border=\"1\" class=\"dataframe\">\n",
       "  <thead>\n",
       "    <tr style=\"text-align: right;\">\n",
       "      <th></th>\n",
       "      <th>Price</th>\n",
       "      <th>returns</th>\n",
       "      <th>SMA_S</th>\n",
       "      <th>SMA_L</th>\n",
       "    </tr>\n",
       "  </thead>\n",
       "  <tbody>\n",
       "    <tr>\n",
       "      <th>2019-01-03</th>\n",
       "      <td>164.743433</td>\n",
       "      <td>-0.011167</td>\n",
       "      <td>164.743433</td>\n",
       "      <td>NaN</td>\n",
       "    </tr>\n",
       "    <tr>\n",
       "      <th>2019-01-04</th>\n",
       "      <td>164.943425</td>\n",
       "      <td>0.001213</td>\n",
       "      <td>164.943425</td>\n",
       "      <td>NaN</td>\n",
       "    </tr>\n",
       "    <tr>\n",
       "      <th>2019-01-07</th>\n",
       "      <td>165.393407</td>\n",
       "      <td>0.002724</td>\n",
       "      <td>165.393407</td>\n",
       "      <td>NaN</td>\n",
       "    </tr>\n",
       "    <tr>\n",
       "      <th>2019-01-08</th>\n",
       "      <td>170.093220</td>\n",
       "      <td>0.028020</td>\n",
       "      <td>170.093220</td>\n",
       "      <td>NaN</td>\n",
       "    </tr>\n",
       "    <tr>\n",
       "      <th>2019-01-09</th>\n",
       "      <td>168.143298</td>\n",
       "      <td>-0.011530</td>\n",
       "      <td>168.143298</td>\n",
       "      <td>NaN</td>\n",
       "    </tr>\n",
       "    <tr>\n",
       "      <th>...</th>\n",
       "      <td>...</td>\n",
       "      <td>...</td>\n",
       "      <td>...</td>\n",
       "      <td>...</td>\n",
       "    </tr>\n",
       "    <tr>\n",
       "      <th>2022-08-08</th>\n",
       "      <td>519.299988</td>\n",
       "      <td>0.080364</td>\n",
       "      <td>519.299988</td>\n",
       "      <td>578.974997</td>\n",
       "    </tr>\n",
       "    <tr>\n",
       "      <th>2022-08-09</th>\n",
       "      <td>552.799988</td>\n",
       "      <td>0.062515</td>\n",
       "      <td>552.799988</td>\n",
       "      <td>572.649997</td>\n",
       "    </tr>\n",
       "    <tr>\n",
       "      <th>2022-08-10</th>\n",
       "      <td>601.799988</td>\n",
       "      <td>0.084929</td>\n",
       "      <td>601.799988</td>\n",
       "      <td>568.574997</td>\n",
       "    </tr>\n",
       "    <tr>\n",
       "      <th>2022-08-11</th>\n",
       "      <td>595.599976</td>\n",
       "      <td>-0.010356</td>\n",
       "      <td>595.599976</td>\n",
       "      <td>566.054996</td>\n",
       "    </tr>\n",
       "    <tr>\n",
       "      <th>2022-08-12</th>\n",
       "      <td>588.700012</td>\n",
       "      <td>-0.011653</td>\n",
       "      <td>588.700012</td>\n",
       "      <td>563.049997</td>\n",
       "    </tr>\n",
       "  </tbody>\n",
       "</table>\n",
       "<p>911 rows × 4 columns</p>\n",
       "</div>"
      ],
      "text/plain": [
       "                 Price   returns       SMA_S       SMA_L\n",
       "2019-01-03  164.743433 -0.011167  164.743433         NaN\n",
       "2019-01-04  164.943425  0.001213  164.943425         NaN\n",
       "2019-01-07  165.393407  0.002724  165.393407         NaN\n",
       "2019-01-08  170.093220  0.028020  170.093220         NaN\n",
       "2019-01-09  168.143298 -0.011530  168.143298         NaN\n",
       "...                ...       ...         ...         ...\n",
       "2022-08-08  519.299988  0.080364  519.299988  578.974997\n",
       "2022-08-09  552.799988  0.062515  552.799988  572.649997\n",
       "2022-08-10  601.799988  0.084929  601.799988  568.574997\n",
       "2022-08-11  595.599976 -0.010356  595.599976  566.054996\n",
       "2022-08-12  588.700012 -0.011653  588.700012  563.049997\n",
       "\n",
       "[911 rows x 4 columns]"
      ]
     },
     "execution_count": 269,
     "metadata": {},
     "output_type": "execute_result"
    }
   ],
   "source": [
    "tester.data"
   ]
  },
  {
   "cell_type": "code",
   "execution_count": null,
   "metadata": {},
   "outputs": [
    {
     "data": {
      "text/html": [
       "<div>\n",
       "<style scoped>\n",
       "    .dataframe tbody tr th:only-of-type {\n",
       "        vertical-align: middle;\n",
       "    }\n",
       "\n",
       "    .dataframe tbody tr th {\n",
       "        vertical-align: top;\n",
       "    }\n",
       "\n",
       "    .dataframe thead th {\n",
       "        text-align: right;\n",
       "    }\n",
       "</style>\n",
       "<table border=\"1\" class=\"dataframe\">\n",
       "  <thead>\n",
       "    <tr style=\"text-align: right;\">\n",
       "      <th></th>\n",
       "      <th>Price</th>\n",
       "      <th>returns</th>\n",
       "      <th>SMA_S</th>\n",
       "      <th>SMA_L</th>\n",
       "      <th>position</th>\n",
       "      <th>strategy</th>\n",
       "      <th>creturns</th>\n",
       "      <th>cstrategy</th>\n",
       "    </tr>\n",
       "  </thead>\n",
       "  <tbody>\n",
       "    <tr>\n",
       "      <th>2019-02-01</th>\n",
       "      <td>209.591646</td>\n",
       "      <td>0.007182</td>\n",
       "      <td>209.591646</td>\n",
       "      <td>183.232696</td>\n",
       "      <td>1</td>\n",
       "      <td>0.007182</td>\n",
       "      <td>1.000000</td>\n",
       "      <td>1.000000</td>\n",
       "    </tr>\n",
       "    <tr>\n",
       "      <th>2019-02-04</th>\n",
       "      <td>211.941552</td>\n",
       "      <td>0.011149</td>\n",
       "      <td>211.941552</td>\n",
       "      <td>185.582603</td>\n",
       "      <td>1</td>\n",
       "      <td>0.011149</td>\n",
       "      <td>1.018501</td>\n",
       "      <td>1.018501</td>\n",
       "    </tr>\n",
       "    <tr>\n",
       "      <th>2019-02-05</th>\n",
       "      <td>219.441253</td>\n",
       "      <td>0.034774</td>\n",
       "      <td>219.441253</td>\n",
       "      <td>188.284995</td>\n",
       "      <td>1</td>\n",
       "      <td>0.034774</td>\n",
       "      <td>1.054541</td>\n",
       "      <td>1.054541</td>\n",
       "    </tr>\n",
       "    <tr>\n",
       "      <th>2019-02-06</th>\n",
       "      <td>219.741241</td>\n",
       "      <td>0.001366</td>\n",
       "      <td>219.741241</td>\n",
       "      <td>190.767396</td>\n",
       "      <td>1</td>\n",
       "      <td>0.001366</td>\n",
       "      <td>1.055983</td>\n",
       "      <td>1.055983</td>\n",
       "    </tr>\n",
       "    <tr>\n",
       "      <th>2019-02-07</th>\n",
       "      <td>212.241540</td>\n",
       "      <td>-0.034726</td>\n",
       "      <td>212.241540</td>\n",
       "      <td>192.972308</td>\n",
       "      <td>1</td>\n",
       "      <td>-0.034726</td>\n",
       "      <td>1.019942</td>\n",
       "      <td>1.019942</td>\n",
       "    </tr>\n",
       "    <tr>\n",
       "      <th>...</th>\n",
       "      <td>...</td>\n",
       "      <td>...</td>\n",
       "      <td>...</td>\n",
       "      <td>...</td>\n",
       "      <td>...</td>\n",
       "      <td>...</td>\n",
       "      <td>...</td>\n",
       "      <td>...</td>\n",
       "    </tr>\n",
       "    <tr>\n",
       "      <th>2022-08-08</th>\n",
       "      <td>519.299988</td>\n",
       "      <td>0.080364</td>\n",
       "      <td>519.299988</td>\n",
       "      <td>578.974997</td>\n",
       "      <td>-1</td>\n",
       "      <td>-0.080364</td>\n",
       "      <td>2.495534</td>\n",
       "      <td>77.881043</td>\n",
       "    </tr>\n",
       "    <tr>\n",
       "      <th>2022-08-09</th>\n",
       "      <td>552.799988</td>\n",
       "      <td>0.062515</td>\n",
       "      <td>552.799988</td>\n",
       "      <td>572.649997</td>\n",
       "      <td>-1</td>\n",
       "      <td>-0.062515</td>\n",
       "      <td>2.656521</td>\n",
       "      <td>73.161407</td>\n",
       "    </tr>\n",
       "    <tr>\n",
       "      <th>2022-08-10</th>\n",
       "      <td>601.799988</td>\n",
       "      <td>0.084929</td>\n",
       "      <td>601.799988</td>\n",
       "      <td>568.574997</td>\n",
       "      <td>1</td>\n",
       "      <td>-0.084929</td>\n",
       "      <td>2.891994</td>\n",
       "      <td>67.204429</td>\n",
       "    </tr>\n",
       "    <tr>\n",
       "      <th>2022-08-11</th>\n",
       "      <td>595.599976</td>\n",
       "      <td>-0.010356</td>\n",
       "      <td>595.599976</td>\n",
       "      <td>566.054996</td>\n",
       "      <td>1</td>\n",
       "      <td>-0.010356</td>\n",
       "      <td>2.862200</td>\n",
       "      <td>66.512059</td>\n",
       "    </tr>\n",
       "    <tr>\n",
       "      <th>2022-08-12</th>\n",
       "      <td>588.700012</td>\n",
       "      <td>-0.011653</td>\n",
       "      <td>588.700012</td>\n",
       "      <td>563.049997</td>\n",
       "      <td>1</td>\n",
       "      <td>-0.011653</td>\n",
       "      <td>2.829041</td>\n",
       "      <td>65.741524</td>\n",
       "    </tr>\n",
       "  </tbody>\n",
       "</table>\n",
       "<p>891 rows × 8 columns</p>\n",
       "</div>"
      ],
      "text/plain": [
       "                 Price   returns       SMA_S       SMA_L  position  strategy  \\\n",
       "2019-02-01  209.591646  0.007182  209.591646  183.232696         1  0.007182   \n",
       "2019-02-04  211.941552  0.011149  211.941552  185.582603         1  0.011149   \n",
       "2019-02-05  219.441253  0.034774  219.441253  188.284995         1  0.034774   \n",
       "2019-02-06  219.741241  0.001366  219.741241  190.767396         1  0.001366   \n",
       "2019-02-07  212.241540 -0.034726  212.241540  192.972308         1 -0.034726   \n",
       "...                ...       ...         ...         ...       ...       ...   \n",
       "2022-08-08  519.299988  0.080364  519.299988  578.974997        -1 -0.080364   \n",
       "2022-08-09  552.799988  0.062515  552.799988  572.649997        -1 -0.062515   \n",
       "2022-08-10  601.799988  0.084929  601.799988  568.574997         1 -0.084929   \n",
       "2022-08-11  595.599976 -0.010356  595.599976  566.054996         1 -0.010356   \n",
       "2022-08-12  588.700012 -0.011653  588.700012  563.049997         1 -0.011653   \n",
       "\n",
       "            creturns  cstrategy  \n",
       "2019-02-01  1.000000   1.000000  \n",
       "2019-02-04  1.018501   1.018501  \n",
       "2019-02-05  1.054541   1.054541  \n",
       "2019-02-06  1.055983   1.055983  \n",
       "2019-02-07  1.019942   1.019942  \n",
       "...              ...        ...  \n",
       "2022-08-08  2.495534  77.881043  \n",
       "2022-08-09  2.656521  73.161407  \n",
       "2022-08-10  2.891994  67.204429  \n",
       "2022-08-11  2.862200  66.512059  \n",
       "2022-08-12  2.829041  65.741524  \n",
       "\n",
       "[891 rows x 8 columns]"
      ]
     },
     "execution_count": 270,
     "metadata": {},
     "output_type": "execute_result"
    }
   ],
   "source": [
    "tester.results"
   ]
  },
  {
   "cell_type": "code",
   "execution_count": null,
   "metadata": {},
   "outputs": [
    {
     "data": {
      "text/plain": [
       "<AxesSubplot:>"
      ]
     },
     "execution_count": 272,
     "metadata": {},
     "output_type": "execute_result"
    },
    {
     "data": {
      "image/png": "[encoded data removed]",
      "text/plain": [
       "<Figure size 864x576 with 1 Axes>"
      ]
     },
     "metadata": {
      "needs_background": "light"
     },
     "output_type": "display_data"
    }
   ],
   "source": [
    "tester.results.loc[:,'position'].plot(figsize=(12,8));"
   ]
  },
  {
   "cell_type": "code",
   "execution_count": null,
   "metadata": {},
   "outputs": [],
   "source": []
  }
 ],
 "metadata": {
  "kernelspec": {
   "display_name": "Python 3.10.2 ('venv': venv)",
   "language": "python",
   "name": "python3"
  },
  "language_info": {
   "codemirror_mode": {
    "name": "ipython",
    "version": 3
   },
   "file_extension": ".py",
   "mimetype": "text/x-python",
   "name": "python",
   "nbconvert_exporter": "python",
   "pygments_lexer": "ipython3",
   "version": "3.10.2"
  },
  "orig_nbformat": 4,
  "vscode": {
   "interpreter": {
    "hash": "9eb9c96fed710fe9dada78272350486042af0b6656758f44a31a73971bfdb127"
   }
  }
 },
 "nbformat": 4,
 "nbformat_minor": 2
}
