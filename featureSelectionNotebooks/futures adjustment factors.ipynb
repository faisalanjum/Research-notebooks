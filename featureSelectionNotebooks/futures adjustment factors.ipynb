{
 "cells": [
  {
   "cell_type": "code",
   "execution_count": 1,
   "metadata": {},
   "outputs": [],
   "source": [
    "from BarChart_Aggregation import *\n"
   ]
  },
  {
   "cell_type": "code",
   "execution_count": 2,
   "metadata": {},
   "outputs": [
    {
     "data": {
      "text/html": [
       "<div>\n",
       "<style scoped>\n",
       "    .dataframe tbody tr th:only-of-type {\n",
       "        vertical-align: middle;\n",
       "    }\n",
       "\n",
       "    .dataframe tbody tr th {\n",
       "        vertical-align: top;\n",
       "    }\n",
       "\n",
       "    .dataframe thead th {\n",
       "        text-align: right;\n",
       "    }\n",
       "</style>\n",
       "<table border=\"1\" class=\"dataframe\">\n",
       "  <thead>\n",
       "    <tr style=\"text-align: right;\">\n",
       "      <th></th>\n",
       "      <th>Final</th>\n",
       "      <th>open</th>\n",
       "      <th>high</th>\n",
       "      <th>low</th>\n",
       "      <th>close</th>\n",
       "      <th>volume</th>\n",
       "      <th>openInterest</th>\n",
       "    </tr>\n",
       "    <tr>\n",
       "      <th>dt</th>\n",
       "      <th></th>\n",
       "      <th></th>\n",
       "      <th></th>\n",
       "      <th></th>\n",
       "      <th></th>\n",
       "      <th></th>\n",
       "      <th></th>\n",
       "    </tr>\n",
       "  </thead>\n",
       "  <tbody>\n",
       "    <tr>\n",
       "      <th>2022-05-10</th>\n",
       "      <td>LSN22</td>\n",
       "      <td>807.7</td>\n",
       "      <td>829.5</td>\n",
       "      <td>799.1</td>\n",
       "      <td>801.1</td>\n",
       "      <td>166.0</td>\n",
       "      <td>0.0</td>\n",
       "    </tr>\n",
       "    <tr>\n",
       "      <th>2022-05-09</th>\n",
       "      <td>LSN22</td>\n",
       "      <td>810.7</td>\n",
       "      <td>815.3</td>\n",
       "      <td>780.0</td>\n",
       "      <td>807.7</td>\n",
       "      <td>270.0</td>\n",
       "      <td>1690.0</td>\n",
       "    </tr>\n",
       "    <tr>\n",
       "      <th>2022-05-06</th>\n",
       "      <td>LSN22</td>\n",
       "      <td>853.1</td>\n",
       "      <td>853.1</td>\n",
       "      <td>824.9</td>\n",
       "      <td>827.1</td>\n",
       "      <td>243.0</td>\n",
       "      <td>1681.0</td>\n",
       "    </tr>\n",
       "    <tr>\n",
       "      <th>2022-05-05</th>\n",
       "      <td>LSN22</td>\n",
       "      <td>904.6</td>\n",
       "      <td>915.0</td>\n",
       "      <td>868.4</td>\n",
       "      <td>873.9</td>\n",
       "      <td>155.0</td>\n",
       "      <td>1670.0</td>\n",
       "    </tr>\n",
       "    <tr>\n",
       "      <th>2022-05-04</th>\n",
       "      <td>LSN22</td>\n",
       "      <td>923.0</td>\n",
       "      <td>923.0</td>\n",
       "      <td>863.0</td>\n",
       "      <td>909.7</td>\n",
       "      <td>281.0</td>\n",
       "      <td>1644.0</td>\n",
       "    </tr>\n",
       "    <tr>\n",
       "      <th>...</th>\n",
       "      <td>...</td>\n",
       "      <td>...</td>\n",
       "      <td>...</td>\n",
       "      <td>...</td>\n",
       "      <td>...</td>\n",
       "      <td>...</td>\n",
       "      <td>...</td>\n",
       "    </tr>\n",
       "    <tr>\n",
       "      <th>1970-03-03</th>\n",
       "      <td>LSK70</td>\n",
       "      <td>84.0</td>\n",
       "      <td>84.0</td>\n",
       "      <td>84.0</td>\n",
       "      <td>84.0</td>\n",
       "      <td>0.0</td>\n",
       "      <td>0.0</td>\n",
       "    </tr>\n",
       "    <tr>\n",
       "      <th>1970-03-02</th>\n",
       "      <td>LSK70</td>\n",
       "      <td>84.0</td>\n",
       "      <td>84.0</td>\n",
       "      <td>84.0</td>\n",
       "      <td>84.0</td>\n",
       "      <td>0.0</td>\n",
       "      <td>0.0</td>\n",
       "    </tr>\n",
       "    <tr>\n",
       "      <th>1970-02-27</th>\n",
       "      <td>LSK70</td>\n",
       "      <td>84.0</td>\n",
       "      <td>84.0</td>\n",
       "      <td>83.5</td>\n",
       "      <td>84.0</td>\n",
       "      <td>0.0</td>\n",
       "      <td>0.0</td>\n",
       "    </tr>\n",
       "    <tr>\n",
       "      <th>1970-02-26</th>\n",
       "      <td>LSK70</td>\n",
       "      <td>84.0</td>\n",
       "      <td>84.0</td>\n",
       "      <td>84.0</td>\n",
       "      <td>84.0</td>\n",
       "      <td>0.0</td>\n",
       "      <td>0.0</td>\n",
       "    </tr>\n",
       "    <tr>\n",
       "      <th>1970-02-25</th>\n",
       "      <td>LSK70</td>\n",
       "      <td>84.0</td>\n",
       "      <td>84.5</td>\n",
       "      <td>84.0</td>\n",
       "      <td>84.0</td>\n",
       "      <td>0.0</td>\n",
       "      <td>0.0</td>\n",
       "    </tr>\n",
       "  </tbody>\n",
       "</table>\n",
       "<p>13160 rows × 7 columns</p>\n",
       "</div>"
      ],
      "text/plain": [
       "            Final   open   high    low  close  volume  openInterest\n",
       "dt                                                                 \n",
       "2022-05-10  LSN22  807.7  829.5  799.1  801.1   166.0           0.0\n",
       "2022-05-09  LSN22  810.7  815.3  780.0  807.7   270.0        1690.0\n",
       "2022-05-06  LSN22  853.1  853.1  824.9  827.1   243.0        1681.0\n",
       "2022-05-05  LSN22  904.6  915.0  868.4  873.9   155.0        1670.0\n",
       "2022-05-04  LSN22  923.0  923.0  863.0  909.7   281.0        1644.0\n",
       "...           ...    ...    ...    ...    ...     ...           ...\n",
       "1970-03-03  LSK70   84.0   84.0   84.0   84.0     0.0           0.0\n",
       "1970-03-02  LSK70   84.0   84.0   84.0   84.0     0.0           0.0\n",
       "1970-02-27  LSK70   84.0   84.0   83.5   84.0     0.0           0.0\n",
       "1970-02-26  LSK70   84.0   84.0   84.0   84.0     0.0           0.0\n",
       "1970-02-25  LSK70   84.0   84.5   84.0   84.0     0.0           0.0\n",
       "\n",
       "[13160 rows x 7 columns]"
      ]
     },
     "execution_count": 2,
     "metadata": {},
     "output_type": "execute_result"
    }
   ],
   "source": [
    "# took 5 minutes to run\n",
    "compare_criteria = 'openInterest'\n",
    "cut_off= 2\n",
    "f = 'C:/source/2x4_data/app/data/Barchart/DailyDataDumpCME&NYMEX/Lumber_daily_price.csv'\n",
    "df = simple_adjustment(f, compare_criteria, cut_off)\n",
    "df"
   ]
  },
  {
   "cell_type": "code",
   "execution_count": null,
   "metadata": {},
   "outputs": [],
   "source": []
  },
  {
   "cell_type": "code",
   "execution_count": null,
   "metadata": {},
   "outputs": [],
   "source": []
  },
  {
   "cell_type": "code",
   "execution_count": null,
   "metadata": {},
   "outputs": [],
   "source": []
  },
  {
   "cell_type": "code",
   "execution_count": null,
   "metadata": {},
   "outputs": [],
   "source": [
    "one_commodity_expiry = get_one_commodity_ctrcts_expiry(cmdty_ctrct_expiry_dict, cmdty_name)\n",
    "new_combined_pivot = get_ohlcv_by_contract_date(combined,one_commodity_expiry)\n",
    "\n",
    "# Takes about 50 seconds\n",
    "NearestContract_df = get_active_contract_by_date(new_combined_pivot, NearestMonth)\n",
    "Second_NearestContract_df = get_active_contract_by_date(new_combined_pivot, 2)\n",
    "Switch_df = get_switch_data(NearestContract_df,expiry_nearest,Second_NearestContract_df,compare_criteria,cut_off)\n",
    "ComparisonNearestContractdf = get_comparison_df_switch(NearestContract_df,new_combined_pivot,Switch_df)\n"
   ]
  },
  {
   "cell_type": "code",
   "execution_count": null,
   "metadata": {},
   "outputs": [],
   "source": [
    "ohlcv_DF = compute_adjusted_values_switch(NearestContract_df, ComparisonNearestContractdf, Switch_df)\n",
    "\n",
    "# Uncomment when ready to save\n",
    "save_csv_file(path, cmdty_name, ohlcv_DF)"
   ]
  },
  {
   "cell_type": "code",
   "execution_count": null,
   "metadata": {},
   "outputs": [],
   "source": [
    "# For some reason, Lumber data doesn't take backAdjustDays for 10 days or higher"
   ]
  },
  {
   "cell_type": "code",
   "execution_count": null,
   "metadata": {},
   "outputs": [],
   "source": []
  },
  {
   "cell_type": "code",
   "execution_count": null,
   "metadata": {},
   "outputs": [],
   "source": []
  },
  {
   "cell_type": "code",
   "execution_count": null,
   "metadata": {},
   "outputs": [],
   "source": []
  },
  {
   "cell_type": "code",
   "execution_count": null,
   "metadata": {},
   "outputs": [],
   "source": []
  },
  {
   "cell_type": "code",
   "execution_count": null,
   "metadata": {},
   "outputs": [],
   "source": []
  },
  {
   "cell_type": "code",
   "execution_count": null,
   "metadata": {},
   "outputs": [],
   "source": []
  },
  {
   "cell_type": "code",
   "execution_count": null,
   "metadata": {},
   "outputs": [],
   "source": []
  },
  {
   "cell_type": "code",
   "execution_count": null,
   "metadata": {},
   "outputs": [],
   "source": [
    "# Choices \n",
    "NearestMonth = 1 # 1 means front months\n",
    "backAdjustDays = 9   # 0 means expired on the day of expiry\n",
    "weights = None #if not passed a value for weights, make it equal to None before passing\n",
    "# weights = [0,0,0.25,0.25,0.25,0.25]\n",
    "weights = [0,0,0,0,0,0,0.25,0.25,0.25,0.25] # this should be backAdjustDays +1 \n",
    "method = 'relative'  # option is 'absolute' or 'relative'\n",
    "path = \"F:/Traders/2x4/Adjusted CME Futures\"\n",
    "weighted_average = False"
   ]
  },
  {
   "cell_type": "code",
   "execution_count": null,
   "metadata": {},
   "outputs": [],
   "source": [
    "# import pandas as pd\n",
    "# pd.read_csv('C:/source/2x4_data/app/data/Barchart/DailyDataDumpCME&NYMEX/Archived CSV Files/3-Month BSBY_daily_price.csv')"
   ]
  },
  {
   "cell_type": "code",
   "execution_count": null,
   "metadata": {},
   "outputs": [],
   "source": []
  },
  {
   "cell_type": "code",
   "execution_count": null,
   "metadata": {},
   "outputs": [],
   "source": [
    "f = 'C:/source/2x4_data/app/data/Barchart/DailyDataDumpCME&NYMEX/Lumber_daily_price.csv'\n",
    "cmdty_name = file_path_cmdty_name[f]\n",
    "# weighted_average - True will apply weighted average to data from expiry till backAdjustDays - False will apply that particular day's either relative difference or relative ratio (to cumulative difference/ratio)\n",
    "ohlcv_DF = get_adjusted_data(path,f,file_paths_dict,cmdty_ctrct_expiry_dict, cmdty_name, NearestMonth, backAdjustDays,method, weights,weighted_average)\n",
    "ohlcv_DF"
   ]
  },
  {
   "cell_type": "markdown",
   "metadata": {},
   "source": [
    "This is Based on Open Interest/Volume"
   ]
  },
  {
   "cell_type": "code",
   "execution_count": null,
   "metadata": {},
   "outputs": [],
   "source": [
    "\n",
    "ohlcv_DF_switch = get_adjusted_data_switch(path,f,file_paths_dict,cmdty_ctrct_expiry_dict, cmdty_name, NearestMonth,expiry_nearest,compare_criteria = 'openInterest',cut_off=2)\n",
    "ohlcv_DF_switch"
   ]
  },
  {
   "cell_type": "code",
   "execution_count": null,
   "metadata": {},
   "outputs": [],
   "source": [
    "ohlcv_DF_switch.loc['1989-11-14']"
   ]
  },
  {
   "cell_type": "code",
   "execution_count": null,
   "metadata": {},
   "outputs": [],
   "source": [
    "ohlcv_DF.loc['1989-11-14']"
   ]
  },
  {
   "cell_type": "code",
   "execution_count": null,
   "metadata": {},
   "outputs": [],
   "source": [
    "ohlcv_DF.loc['1969-10-01']"
   ]
  },
  {
   "cell_type": "code",
   "execution_count": null,
   "metadata": {},
   "outputs": [],
   "source": [
    "ohlcv_DF[5627:]"
   ]
  },
  {
   "cell_type": "code",
   "execution_count": null,
   "metadata": {},
   "outputs": [],
   "source": [
    "ohlcv_DF[:3350][['close','Adj_close']].plot(figsize=(10,5))"
   ]
  },
  {
   "cell_type": "code",
   "execution_count": null,
   "metadata": {},
   "outputs": [],
   "source": [
    "ohlcv_DF_switch[:3350][['close','Adj_close']].plot(figsize=(10,5))"
   ]
  },
  {
   "cell_type": "code",
   "execution_count": null,
   "metadata": {},
   "outputs": [],
   "source": [
    "ohlcv_DF[3110:3114]\n"
   ]
  },
  {
   "cell_type": "code",
   "execution_count": null,
   "metadata": {},
   "outputs": [],
   "source": []
  },
  {
   "cell_type": "code",
   "execution_count": null,
   "metadata": {},
   "outputs": [],
   "source": [
    "#SWICTH OPEN INETEREST\n",
    "#took 265 mins\n",
    "path = 'F:/Traders/2x4/Adjusted CME Futures/Switch_OI'\n",
    "import warnings\n",
    "warnings.filterwarnings(\"ignore\")\n",
    "files_not_saved_switch = []\n",
    "for f in file_paths_dict.keys():\n",
    "    cmdty_name = file_path_cmdty_name[f]\n",
    "    print(cmdty_name)\n",
    "    try:\n",
    "        ohlcv_DF_switch = get_adjusted_data_switch(path,f,file_paths_dict,cmdty_ctrct_expiry_dict, cmdty_name, NearestMonth,expiry_nearest,compare_criteria = 'openInterest',cut_off=2)\n",
    "    except:\n",
    "        files_not_saved_switch.append(cmdty_name)\n",
    "        print(\"No data for {}\".format(cmdty_name))\n",
    "        continue\n"
   ]
  },
  {
   "cell_type": "code",
   "execution_count": null,
   "metadata": {},
   "outputs": [],
   "source": [
    "pd.set_option('display.max_rows', 500)\n",
    "pd.DataFrame(files_not_saved_switch)"
   ]
  },
  {
   "cell_type": "code",
   "execution_count": null,
   "metadata": {},
   "outputs": [],
   "source": [
    "# Choices \n",
    "NearestMonth = 1 # 1 means front months\n",
    "backAdjustDays = 9   # 0 means expired on the day of expiry \n",
    "# weights = None #if not passed a value for weights, make it equal to None before passing \n",
    "# weights = [0,0,0.25,0.25,0.25,0.25] \n",
    "# weights = [0,0,0,0,0,0,0.25,0.25,0.25,0.25] # this should be backAdjustDays +1  \n",
    "method = 'relative'  # option is 'absolute' or 'relative' \n",
    "path = \"F:/Traders/2x4/Adjusted CME Futures/New folder\" \n",
    "weighted_average = False"
   ]
  },
  {
   "cell_type": "code",
   "execution_count": null,
   "metadata": {},
   "outputs": [],
   "source": [
    "\n",
    "def get_weights(backAdjustDays):\n",
    "\n",
    "    # for b in range(backAdjustDays,-1,-1):\n",
    "    b = backAdjustDays\n",
    "    if(b>4):\n",
    "        weights = [0]* (b-3) + [0.25]*4\n",
    "    else:\n",
    "        weights = [1/(b+1)]*(b+1)\n",
    "        \n",
    "        # print(b,sum(weights),weights,len(weights))\n",
    "    \n",
    "\n",
    "    return weights\n"
   ]
  },
  {
   "cell_type": "code",
   "execution_count": null,
   "metadata": {},
   "outputs": [],
   "source": [
    "get_weights(7)"
   ]
  },
  {
   "cell_type": "code",
   "execution_count": null,
   "metadata": {},
   "outputs": [],
   "source": [
    "# WTS (Argus) vs. WTI Spread Trade Month Swap\n"
   ]
  },
  {
   "cell_type": "code",
   "execution_count": null,
   "metadata": {},
   "outputs": [],
   "source": [
    "# file_paths_dict.keys()"
   ]
  },
  {
   "cell_type": "code",
   "execution_count": null,
   "metadata": {},
   "outputs": [],
   "source": [
    "\n",
    "def save_csv_file(path, cmdty_name, ohlcv_DF,backAdjustDays):\n",
    "    file_path = path + \"/\" + cmdty_name + '_days' + backAdjustDays + '.csv'\n",
    "    print(\"Saving file: \", file_path)\n",
    "    ohlcv_DF.to_csv(file_path)"
   ]
  },
  {
   "cell_type": "code",
   "execution_count": null,
   "metadata": {},
   "outputs": [],
   "source": [
    "#took 207 mins - some issue - try a single file and then check\n",
    "backAdjustDays = 9\n",
    "\n",
    "import warnings\n",
    "warnings.filterwarnings(\"ignore\")\n",
    "\n",
    "files_not_saved = []\n",
    "\n",
    "\n",
    "for f in file_paths_dict.keys():\n",
    "    cmdty_name = file_path_cmdty_name[f]\n",
    "    print(cmdty_name)\n",
    "    backAdjustDays = 9\n",
    "    while(backAdjustDays>=0):\n",
    "        try:\n",
    "            ohlcv_DF = get_adjusted_data(path,f,file_paths_dict,cmdty_ctrct_expiry_dict, cmdty_name, NearestMonth, backAdjustDays,method, get_weights(backAdjustDays),weighted_average)\n",
    "            save_csv_file(path, cmdty_name, ohlcv_DF,backAdjustDays)\n",
    "            break\n",
    "        except:\n",
    "            backAdjustDays -= 1\n",
    "    \n",
    "    if(backAdjustDays<0):\n",
    "        files_not_saved.append(cmdty_name)\n",
    "        print(\"No data for {}\".format(cmdty_name))\n",
    "        continue\n",
    "        "
   ]
  },
  {
   "cell_type": "code",
   "execution_count": null,
   "metadata": {},
   "outputs": [],
   "source": []
  },
  {
   "cell_type": "code",
   "execution_count": null,
   "metadata": {},
   "outputs": [],
   "source": []
  },
  {
   "cell_type": "code",
   "execution_count": null,
   "metadata": {},
   "outputs": [],
   "source": []
  },
  {
   "cell_type": "code",
   "execution_count": null,
   "metadata": {},
   "outputs": [],
   "source": [
    "#took 207 mins\n",
    "backAdjustDays = 9\n",
    "\n",
    "import warnings\n",
    "warnings.filterwarnings(\"ignore\")\n",
    "\n",
    "files_not_saved = []\n",
    "\n",
    "\n",
    "for f in file_paths_dict.keys():\n",
    "    cmdty_name = file_path_cmdty_name[f]\n",
    "    print(cmdty_name)\n",
    "    try:\n",
    "        ohlcv_DF = get_adjusted_data(path,f,file_paths_dict,cmdty_ctrct_expiry_dict, cmdty_name, NearestMonth, backAdjustDays,method, weights)\n",
    "        save_csv_file(path, cmdty_name, ohlcv_DF,backAdjustDays)\n",
    "    except:\n",
    "        files_not_saved.append(cmdty_name)\n",
    "        print(\"No data for {}\".format(cmdty_name))\n",
    "        continue\n"
   ]
  },
  {
   "cell_type": "code",
   "execution_count": null,
   "metadata": {},
   "outputs": [],
   "source": [
    "len(add_files_not_saved)"
   ]
  },
  {
   "cell_type": "code",
   "execution_count": null,
   "metadata": {},
   "outputs": [],
   "source": [
    "234+404"
   ]
  },
  {
   "cell_type": "code",
   "execution_count": null,
   "metadata": {},
   "outputs": [],
   "source": [
    "\n",
    "\n",
    "# file_path = 'C:/source/2x4_data/app/data/Barchart/DailyDataDumpCME&NYMEX/Lumber_daily_price.csv'\n",
    "# cmdty_name = file_path_cmdty_name[file_path]\n",
    "\n"
   ]
  },
  {
   "cell_type": "code",
   "execution_count": null,
   "metadata": {},
   "outputs": [],
   "source": [
    "ohlcv_DF[1638:]"
   ]
  },
  {
   "cell_type": "code",
   "execution_count": null,
   "metadata": {},
   "outputs": [],
   "source": [
    "len(ohlcv_DF[ohlcv_DF.Adj_high < ohlcv_DF.Adj_low])"
   ]
  },
  {
   "cell_type": "code",
   "execution_count": null,
   "metadata": {},
   "outputs": [],
   "source": [
    "STOP HERE"
   ]
  },
  {
   "cell_type": "code",
   "execution_count": null,
   "metadata": {},
   "outputs": [],
   "source": []
  },
  {
   "cell_type": "code",
   "execution_count": null,
   "metadata": {},
   "outputs": [],
   "source": []
  },
  {
   "cell_type": "markdown",
   "metadata": {},
   "source": [
    "1. Create a df of adjusted and unadjusted prices  https://www.youtube.com/watch?v=AXrHjhnHGZw&t=376s\n",
    "2. Put daystoexpiry, and tie together continuous, nearest, expiry for all contracts available getting as much data as possible"
   ]
  },
  {
   "cell_type": "code",
   "execution_count": null,
   "metadata": {},
   "outputs": [],
   "source": [
    "# Aggregate file - first month contract,dates by Lumber, dailyNearest - CME & NYMEX Futures\n",
    "file = \"C:/source/2x4_data/app/data/Barchart/DailyDataDumpCME&NYMEX/combined_dataframe.csv\"\n",
    "import pandas as pd\n",
    "from IPython.display import Image\n",
    "df = pd.read_csv(file, index_col=0)\n",
    "df.index = pd.DatetimeIndex(df.index)\n",
    "df.sort_index(ascending=False ,inplace=True)\n",
    "# removing latest 2 dates as data might not have been available\n",
    "df = df.iloc[2:]\n",
    "df\n"
   ]
  },
  {
   "cell_type": "code",
   "execution_count": null,
   "metadata": {},
   "outputs": [],
   "source": [
    "\n",
    "lum_cols = [col for col in df.columns if 'Lumber' in col]\n",
    "lum_cols"
   ]
  },
  {
   "cell_type": "code",
   "execution_count": null,
   "metadata": {},
   "outputs": [],
   "source": [
    "# df['Lumber'].dropna().plot(kind='hist', bins=50, figsize=(10,5));"
   ]
  },
  {
   "cell_type": "code",
   "execution_count": null,
   "metadata": {},
   "outputs": [],
   "source": [
    "ax = df['Lumber'].pct_change().dropna().plot(kind='hist',bins=200, figsize=(10,5));\n",
    "ax.set_xlim([-0.1, 0.1]);"
   ]
  },
  {
   "cell_type": "code",
   "execution_count": null,
   "metadata": {},
   "outputs": [],
   "source": [
    "# QQ Plot\n",
    "from numpy.random import seed\n",
    "from numpy.random import randn\n",
    "from statsmodels.graphics.gofplots import qqplot\n",
    "from matplotlib import pyplot\n",
    "# seed the random number generator\n",
    "seed(1)\n",
    "# generate univariate observations\n",
    "data = df['Lumber'].pct_change().dropna().values\n",
    "# q-q plot\n",
    "qqplot(data, line='s')\n",
    "pyplot.show()"
   ]
  },
  {
   "cell_type": "code",
   "execution_count": null,
   "metadata": {},
   "outputs": [],
   "source": [
    "ax = df['Lumber'].pct_change().dropna().plot(kind='hist',bins=50, figsize=(10,5));\n",
    "ax.set_xlim([-0.1, 0.1]);"
   ]
  },
  {
   "cell_type": "code",
   "execution_count": null,
   "metadata": {},
   "outputs": [],
   "source": [
    "# Last 4-5 years\n",
    "ax = df['Lumber'][:1000].pct_change().dropna().plot(kind='hist',bins=100, figsize=(10,5));\n",
    "ax.set_xlim([-0.1, 0.1]);"
   ]
  },
  {
   "cell_type": "code",
   "execution_count": null,
   "metadata": {},
   "outputs": [],
   "source": [
    "expiry_file_path = \"C:/source/2x4_data/app/data/Barchart/DailyDataDumpCME&NYMEX/expiry_df.csv\"\n",
    "expiry_df = pd.read_csv(expiry_file_path, index_col=0)"
   ]
  },
  {
   "cell_type": "code",
   "execution_count": null,
   "metadata": {},
   "outputs": [],
   "source": [
    "expiry_df"
   ]
  },
  {
   "cell_type": "markdown",
   "metadata": {},
   "source": [
    "# Adjusting Futures Roll\n",
    "\n",
    "https://www.youtube.com/watch?v=AXrHjhnHGZw&t=376s"
   ]
  },
  {
   "cell_type": "markdown",
   "metadata": {},
   "source": [
    "image.png"
   ]
  },
  {
   "cell_type": "code",
   "execution_count": null,
   "metadata": {},
   "outputs": [],
   "source": [
    "image_path = \"C:/source/2x4_data/app/future_roll.PNG\"\n",
    "Image(image_path)"
   ]
  },
  {
   "cell_type": "code",
   "execution_count": null,
   "metadata": {},
   "outputs": [],
   "source": [
    "image2_path = 'C:/source/2x4_data/app/future_roll2.PNG'\n",
    "Image(image2_path)\n"
   ]
  },
  {
   "cell_type": "code",
   "execution_count": null,
   "metadata": {},
   "outputs": [],
   "source": []
  }
 ],
 "metadata": {
  "kernelspec": {
   "display_name": "Python 3.10.2 ('venv': venv)",
   "language": "python",
   "name": "python3"
  },
  "language_info": {
   "codemirror_mode": {
    "name": "ipython",
    "version": 3
   },
   "file_extension": ".py",
   "mimetype": "text/x-python",
   "name": "python",
   "nbconvert_exporter": "python",
   "pygments_lexer": "ipython3",
   "version": "3.10.2"
  },
  "orig_nbformat": 4,
  "vscode": {
   "interpreter": {
    "hash": "9eb9c96fed710fe9dada78272350486042af0b6656758f44a31a73971bfdb127"
   }
  }
 },
 "nbformat": 4,
 "nbformat_minor": 2
}
