{
 "cells": [
  {
   "cell_type": "markdown",
   "metadata": {},
   "source": [
    "### Imports"
   ]
  },
  {
   "cell_type": "code",
   "execution_count": 1,
   "metadata": {},
   "outputs": [
    {
     "name": "stderr",
     "output_type": "stream",
     "text": [
      "\\\\VSYS-P-GW01.cloud.vsys.ca\\RDFolderRedirect$\\fanjum_cwp\\Desktop\\Python\\2x4\\venv\\Lib\\site-packages\\xgboost\\compat.py:36: FutureWarning: pandas.Int64Index is deprecated and will be removed from pandas in a future version. Use pandas.Index with the appropriate dtype instead.\n",
      "  from pandas import MultiIndex, Int64Index\n"
     ]
    }
   ],
   "source": [
    "import pandas as pd\n",
    "import string\n",
    "import numpy as np\n",
    "import matplotlib.pyplot as plt\n",
    "\n",
    "from sklearn.base import TransformerMixin\n",
    "from sklearn.model_selection import train_test_split, cross_validate, cross_val_score\n",
    "from sklearn.metrics import accuracy_score, roc_auc_score, mean_squared_error, r2_score, roc_curve, confusion_matrix, ConfusionMatrixDisplay, plot_confusion_matrix, classification_report, precision_recall_fscore_support\n",
    "from sklearn.ensemble import RandomForestClassifier, GradientBoostingClassifier, GradientBoostingRegressor\n",
    "from sklearn.pipeline import Pipeline\n",
    "from sklearn.preprocessing import StandardScaler\n",
    "from sklearn.linear_model import LogisticRegression\n",
    "from sklearn.feature_selection import mutual_info_classif, mutual_info_regression, chi2\n",
    "\n",
    "# to determine the p-values with anova\n",
    "from sklearn.feature_selection import f_classif, f_regression\n",
    "\n",
    "# to select features\n",
    "from sklearn.feature_selection import SelectKBest, SelectPercentile, SelectFromModel, RFE # Recursive Feature Elimination\n",
    "\n",
    "from feature_engine.selection import DropDuplicateFeatures, DropConstantFeatures, SmartCorrelatedSelection, SelectByShuffling, RecursiveFeatureElimination\n",
    "from feature_engine.datetime import DatetimeFeatures\n",
    "from mlxtend.feature_selection import ExhaustiveFeatureSelector as EFS\n",
    "\n",
    "from ta import add_all_ta_features\n",
    "from ta.utils import dropna\n",
    "\n",
    "from xgboost import XGBClassifier, XGBRegressor\n",
    "\n",
    "import pandas_market_calendars as mcal\n",
    "import warnings\n",
    "import statistics"
   ]
  },
  {
   "cell_type": "markdown",
   "metadata": {},
   "source": [
    "### Reading Data from Excel daily_dataframe_main"
   ]
  },
  {
   "cell_type": "code",
   "execution_count": 2,
   "metadata": {},
   "outputs": [],
   "source": [
    "# Takes 1 min 40 secs to run\n",
    "Variables = pd.read_excel('daily_dataframe_main.xlsx', header=[0,1], sheet_name='Variables',index_col=0)\n",
    "Response = pd.read_excel('daily_dataframe_main.xlsx',sheet_name= 'Response' ,index_col=0)\n",
    "\n",
    "# Just using Unadjusted data for now\n",
    "# Response = Response[['LB_Close','Close_ret','Close_Up_Down']]"
   ]
  },
  {
   "cell_type": "markdown",
   "metadata": {},
   "source": [
    "### Imputing Values\n",
    "<div style=\"color: DarkBlue; font-size:22px;\" class=\"alert alert-block alert-warning\"> \n",
    "<b>Check:</b> Backfilling and then frontfilling Variables DataFrame, and filling zeros with Median? - Check if it makes sense\n",
    "</div>\n"
   ]
  },
  {
   "cell_type": "code",
   "execution_count": 3,
   "metadata": {},
   "outputs": [],
   "source": [
    "Variables.fillna(method='bfill', inplace=True)\n",
    "# Variables.fillna(method='ffill', inplace=True)\n",
    "# Replacing 0 with Median Values\n",
    "# Variables.replace(to_replace=0, method='bfill', inplace=True) \n",
    "# Variables.replace(to_replace=0, method=Variables.median(), inplace=True) "
   ]
  },
  {
   "cell_type": "markdown",
   "metadata": {},
   "source": [
    "### Date Engineering"
   ]
  },
  {
   "cell_type": "code",
   "execution_count": 4,
   "metadata": {},
   "outputs": [],
   "source": [
    "warnings.filterwarnings(\"ignore\")\n",
    "\n",
    "Variables['day'] = Variables.index.day\n",
    "Variables['month'] = Variables.index.month\n",
    "Variables['year'] = Variables.index.year\n",
    "Variables['weekday'] = Variables.index.weekday\n",
    "Variables['week'] = Variables.index.week\n",
    "Variables['weekofyear'] = Variables.index.weekofyear\n",
    "Variables['quarter'] = Variables.index.quarter\n",
    "Variables['dayofyear'] = Variables.index.dayofyear\n",
    "Variables['dayofweek'] = Variables.index.dayofweek\n",
    "Variables['is_month_end'] = Variables.index.is_month_end\n",
    "Variables['is_month_start'] = Variables.index.is_month_start\n",
    "Variables['is_quarter_end'] = Variables.index.is_quarter_end\n",
    "Variables['is_quarter_start'] = Variables.index.is_quarter_start\n",
    "Variables['is_year_end'] = Variables.index.is_year_end\n",
    "Variables['is_year_start'] = Variables.index.is_year_start\n",
    "Variables['is_leap_year'] = Variables.index.is_leap_year\n"
   ]
  },
  {
   "cell_type": "markdown",
   "metadata": {},
   "source": [
    "### Adding Technical Indicators"
   ]
  },
  {
   "cell_type": "code",
   "execution_count": 5,
   "metadata": {},
   "outputs": [],
   "source": [
    "warnings.filterwarnings(\"ignore\")\n",
    "\n",
    "# TA_df = Variables[['LumberOHLCV LBHigh','LumberOHLCV LBLow','LumberOHLCV LBClose','LumberOHLCV LBVolume','LumberOHLCV LBopenInterest']]\n",
    "TA_df = Variables.loc[:,('Lumber_OHLCV',)][['LB_High','LB_Low','LB_Close','LB_Volume','LB_openInterest']]\n",
    "\n",
    "TA_df.columns = ['High','Low','Close','Volume','OpenInterest']\n",
    "TA_df['Open'] = TA_df['Close'].shift(-1)\n",
    "\n",
    "# TA_df['weekday'] = Variables.index.weekday\n",
    "# TA_df = TA_df[~TA_df.weekday.isin([5,6])]\n",
    "# TA_df = TA_df.drop(['weekday'],axis=1)\n",
    "\n",
    "TA_df = dropna(TA_df)\n",
    "TA_df.sort_index(ascending=True, inplace=True)\n",
    "TA_df = add_all_ta_features(TA_df, open=\"Open\", high=\"High\", low=\"Low\", close=\"Close\", volume=\"Volume\")\n",
    "TA_df.sort_index(ascending=False, inplace=True)\n",
    "TA_df.drop(['Open','High','Low','Close','Volume','OpenInterest'],axis=1,inplace=True)\n",
    "TA_df.columns = [str('TA_') + TA_df.columns]\n",
    "TA_df = TA_df.replace([np.inf, -np.inf], np.nan).fillna(TA_df.mean())\n",
    "Variables = pd.concat([Variables,TA_df], axis=1)"
   ]
  },
  {
   "cell_type": "markdown",
   "metadata": {},
   "source": [
    "### Replacing punctuation strings in column names"
   ]
  },
  {
   "cell_type": "code",
   "execution_count": 6,
   "metadata": {},
   "outputs": [],
   "source": [
    "cols = [str(w).translate(str.maketrans('', '', string.punctuation)).lstrip().rstrip() for w in Variables.columns]\n",
    "Variables.columns = cols"
   ]
  },
  {
   "cell_type": "markdown",
   "metadata": {},
   "source": [
    "### Find Last Available Date for each Variable in the DataFrame"
   ]
  },
  {
   "cell_type": "code",
   "execution_count": 7,
   "metadata": {},
   "outputs": [
    {
     "data": {
      "text/html": [
       "<div>\n",
       "<style scoped>\n",
       "    .dataframe tbody tr th:only-of-type {\n",
       "        vertical-align: middle;\n",
       "    }\n",
       "\n",
       "    .dataframe tbody tr th {\n",
       "        vertical-align: top;\n",
       "    }\n",
       "\n",
       "    .dataframe thead th {\n",
       "        text-align: right;\n",
       "    }\n",
       "</style>\n",
       "<table border=\"1\" class=\"dataframe\">\n",
       "  <thead>\n",
       "    <tr style=\"text-align: right;\">\n",
       "      <th></th>\n",
       "      <th>End_Dt</th>\n",
       "    </tr>\n",
       "  </thead>\n",
       "  <tbody>\n",
       "    <tr>\n",
       "      <th>LumberOHLCV LBHigh</th>\n",
       "      <td>2022-06-29</td>\n",
       "    </tr>\n",
       "    <tr>\n",
       "      <th>CFTClegacy ChangeinNoncommercialLongAll</th>\n",
       "      <td>2022-06-29</td>\n",
       "    </tr>\n",
       "    <tr>\n",
       "      <th>CFTClegacy NoncommercialPositionsShortOther</th>\n",
       "      <td>2022-06-29</td>\n",
       "    </tr>\n",
       "    <tr>\n",
       "      <th>CFTClegacy NoncommercialPositionsSpreadingOther</th>\n",
       "      <td>2022-06-29</td>\n",
       "    </tr>\n",
       "    <tr>\n",
       "      <th>CFTClegacy CommercialPositionsLongOther</th>\n",
       "      <td>2022-06-29</td>\n",
       "    </tr>\n",
       "    <tr>\n",
       "      <th>...</th>\n",
       "      <td>...</td>\n",
       "    </tr>\n",
       "    <tr>\n",
       "      <th>LumberTracknorthamericanproduction TotalNorthAmerica</th>\n",
       "      <td>NaT</td>\n",
       "    </tr>\n",
       "    <tr>\n",
       "      <th>LumberTracknorthamericanshipment PrairiesAndEasternCanada</th>\n",
       "      <td>NaT</td>\n",
       "    </tr>\n",
       "    <tr>\n",
       "      <th>LumberTracknorthamericanshipment TotalNorthAmerica</th>\n",
       "      <td>NaT</td>\n",
       "    </tr>\n",
       "    <tr>\n",
       "      <th>CFTClegacy TotalReportablePositionsLongAll</th>\n",
       "      <td>NaT</td>\n",
       "    </tr>\n",
       "    <tr>\n",
       "      <th>CFTClegacy ConcentrationGrossLT4TDRShortOl</th>\n",
       "      <td>NaT</td>\n",
       "    </tr>\n",
       "  </tbody>\n",
       "</table>\n",
       "<p>769 rows × 1 columns</p>\n",
       "</div>"
      ],
      "text/plain": [
       "                                                       End_Dt\n",
       "LumberOHLCV LBHigh                                 2022-06-29\n",
       "CFTClegacy ChangeinNoncommercialLongAll            2022-06-29\n",
       "CFTClegacy NoncommercialPositionsShortOther        2022-06-29\n",
       "CFTClegacy NoncommercialPositionsSpreadingOther    2022-06-29\n",
       "CFTClegacy CommercialPositionsLongOther            2022-06-29\n",
       "...                                                       ...\n",
       "LumberTracknorthamericanproduction TotalNorthAm...        NaT\n",
       "LumberTracknorthamericanshipment PrairiesAndEas...        NaT\n",
       "LumberTracknorthamericanshipment TotalNorthAmerica        NaT\n",
       "CFTClegacy TotalReportablePositionsLongAll                NaT\n",
       "CFTClegacy ConcentrationGrossLT4TDRShortOl                NaT\n",
       "\n",
       "[769 rows x 1 columns]"
      ]
     },
     "execution_count": 7,
     "metadata": {},
     "output_type": "execute_result"
    }
   ],
   "source": [
    "last_valid_loc = pd.DataFrame(data=Variables.apply(lambda col: col.last_valid_index()), columns = ['End_Dt'])\n",
    "last_valid_loc.sort_values(by='End_Dt', ascending=False ,inplace=True)\n",
    "# last_valid_loc = last_valid_loc[last_valid_loc.End_Dt.notna()]\n",
    "last_valid_loc"
   ]
  },
  {
   "cell_type": "markdown",
   "metadata": {},
   "source": [
    "<div style=\"color: DarkBlue; font-size:22px;\" class=\"alert alert-block alert-warning\"> \n",
    "<b>To Do:</b> For now using custom based method - but change it eventually with Feature-engine etc. Check which method makes more sense\n",
    "</div>"
   ]
  },
  {
   "cell_type": "code",
   "execution_count": 8,
   "metadata": {},
   "outputs": [],
   "source": [
    "# Takes 35 secounds to run\n",
    "class DataFrameImputer(TransformerMixin):\n",
    "\n",
    "    def __init__(self):\n",
    "        \"\"\"Impute missing values.\n",
    "        Columns of dtype object are imputed with the most frequent value in column.\n",
    "        Columns of other types are imputed with median of column.\n",
    "        \"\"\"\n",
    "    def fit(self, X, y=None):\n",
    "\n",
    "        self.fill = pd.Series([X[c].value_counts().index[0]\n",
    "            if X[c].dtype == np.dtype('O') else X[c].median() for c in X],\n",
    "            index=X.columns)\n",
    "\n",
    "        return self\n",
    "\n",
    "    def transform(self, X, y=None):\n",
    "        return X.fillna(self.fill)\n",
    "        \n",
    "Variables = DataFrameImputer().fit_transform(Variables)\n"
   ]
  },
  {
   "cell_type": "markdown",
   "metadata": {},
   "source": [
    "### Trading Days and after 2011\n",
    "<div style=\"color: Red; font-size:22px;\" class=\"alert alert-block alert-warning\">  Restricting the dataset since 2011 only trading days for cme agriculture - ideally should be for CME Lumber!!\n",
    "<div style=\"color: Green; font-size:22px;\" class=\"alert alert-block alert-warning\"> \n",
    "<b>To Do:</b> Issues is we have some forward fills which doesn't represent data correctly\n",
    "</div>"
   ]
  },
  {
   "cell_type": "code",
   "execution_count": 9,
   "metadata": {},
   "outputs": [
    {
     "data": {
      "text/plain": [
       "(2895, 2895)"
      ]
     },
     "execution_count": 9,
     "metadata": {},
     "output_type": "execute_result"
    }
   ],
   "source": [
    "Variables.sort_index(ascending = False, inplace = True)\n",
    "Response.sort_index(ascending = False, inplace = True)\n",
    "\n",
    "cme = mcal.get_calendar(\"CME_Agriculture\")\n",
    "cme_trading_days = cme.schedule(start_date=Variables.index[-1].date(), end_date=Variables.index[0].date()).index\n",
    "cme_trading_days = cme_trading_days.sort_values(ascending=False)\n",
    "cme_trading_days = pd.DatetimeIndex(cme_trading_days)\n",
    "\n",
    "Variables = Variables[Variables.index > '2011-01-01']\n",
    "Variables = Variables[Variables.index.isin(cme_trading_days)]\n",
    "\n",
    "\n",
    "Response = Response[Response.index > '2011-01-01']\n",
    "Response = Response[Response.index.isin(cme_trading_days)]\n",
    "# Response = Response[(Response.Close_Up_Down == 1) | (Response.Close_Up_Down == -1)]\n",
    "\n",
    "Variables.index = pd.DatetimeIndex(Variables.index)\n",
    "Response.index = pd.DatetimeIndex(Response.index)\n",
    "Variables = Variables.reindex(Response.index)\n",
    "\n",
    "len(Variables), len(Response)\n"
   ]
  },
  {
   "cell_type": "markdown",
   "metadata": {},
   "source": [
    "### MultiClassification Targets "
   ]
  },
  {
   "cell_type": "code",
   "execution_count": 10,
   "metadata": {},
   "outputs": [
    {
     "data": {
      "text/plain": [
       "Labels\n",
       " 2        915\n",
       "-2        894\n",
       " 1        383\n",
       "-1        365\n",
       " 0        338\n",
       "dtype: int64"
      ]
     },
     "execution_count": 10,
     "metadata": {},
     "output_type": "execute_result"
    },
    {
     "data": {
      "image/png": "[encoded data removed]",
      "text/plain": [
       "<Figure size 432x288 with 1 Axes>"
      ]
     },
     "metadata": {
      "needs_background": "light"
     },
     "output_type": "display_data"
    }
   ],
   "source": [
    "pv_1 = 0.005 # higher and lower than 0.5% return\n",
    "pv_2 = 0.02 # higher and lower than 2% return\n",
    "\n",
    "col = 'Close_ret' # Can also be 'Adj_close_ret'\n",
    "mutli_class_buckets = Response[col].value_counts(bins = [Response[col].min(),-pv_2, -pv_1,pv_1, pv_2,Response[col].max()])\n",
    "mutli_class_buckets.sort_index(ascending=True, inplace=True)\n",
    "mutli_class_buckets.index = ['Strong_Down','Down','Neutral','Up','Strong_Up']\n",
    "mutli_class_buckets.plot(kind='bar');\n",
    "\n",
    "Neutral = ((Response[col] > -pv_1) & (Response[col] < pv_1))\n",
    "Down = ((Response[col] > -pv_2) & (Response[col] < -pv_1))\n",
    "Up = ((Response[col] > pv_1) & (Response[col] < pv_2))\n",
    "Strong_Down = (Response[col] < -pv_2) \n",
    "Strong_Up = (Response[col] > pv_2)\n",
    "\n",
    "conditions = [Strong_Down, Down, Neutral, Up, Strong_Up]\n",
    "choices = [-2, -1, 0, 1, 2]\n",
    "multi_class = np.select(conditions, choices, default=0)\n",
    "\n",
    "Target = pd.DataFrame(index = Response.index, data = multi_class)\n",
    "Target.columns = ['Labels']\n",
    "Response['Labels'] = Target.Labels.values\n",
    "Target.value_counts()\n"
   ]
  },
  {
   "cell_type": "markdown",
   "metadata": {},
   "source": [
    "    -- Choose Response Variable here - LB_Close, Close_ret, Close_Up_Down, OR Adjusted Data from above"
   ]
  },
  {
   "cell_type": "markdown",
   "metadata": {},
   "source": [
    "### Remove Variables with all NaNs\n",
    "<div style=\"color: Green; font-size:22px;\" class=\"alert alert-block alert-warning\"> \n",
    "<b>To Do:</b> Check why these variables have NaNs\n",
    "</div>\n"
   ]
  },
  {
   "cell_type": "code",
   "execution_count": 11,
   "metadata": {},
   "outputs": [
    {
     "data": {
      "text/plain": [
       "{'CFTClegacy ConcentrationGrossLT4TDRShortOl',\n",
       " 'CFTClegacy TotalReportablePositionsLongAll',\n",
       " 'LumberTracklumberexportus TotalLumberExports',\n",
       " 'LumberTracknorthamericanproduction PrairiesAndEasternCanada',\n",
       " 'LumberTracknorthamericanproduction TotalNorthAmerica',\n",
       " 'LumberTracknorthamericanshipment PrairiesAndEasternCanada',\n",
       " 'LumberTracknorthamericanshipment TotalNorthAmerica'}"
      ]
     },
     "execution_count": 11,
     "metadata": {},
     "output_type": "execute_result"
    }
   ],
   "source": [
    "Variables_with_nans = set(Variables.columns) - set(Variables.drop(Variables.columns[Variables.isna().all()].to_list(), axis=1).columns)\n",
    "Variables_with_nans"
   ]
  },
  {
   "cell_type": "code",
   "execution_count": 12,
   "metadata": {},
   "outputs": [
    {
     "name": "stdout",
     "output_type": "stream",
     "text": [
      "float64    744\n",
      "int64       11\n",
      "bool         7\n",
      "dtype: int64\n",
      "Total Variables Left: 762\n"
     ]
    }
   ],
   "source": [
    "Variables.drop(Variables.columns[Variables.isna().all()].to_list(), axis=1, inplace=True)\n",
    "Variables.drop(Variables.columns[Variables.isnull().all()].to_list(), axis=1, inplace=True)\n",
    "print(pd.Series(Variables.dtypes.values).value_counts())\n",
    "print(\"Total Variables Left:\",pd.Series(Variables.dtypes.values).value_counts().sum())\n"
   ]
  },
  {
   "cell_type": "code",
   "execution_count": 13,
   "metadata": {},
   "outputs": [
    {
     "data": {
      "text/plain": [
       "float64    6\n",
       "int32      1\n",
       "dtype: int64"
      ]
     },
     "execution_count": 13,
     "metadata": {},
     "output_type": "execute_result"
    }
   ],
   "source": [
    "Response.drop(Response.columns[Response.isna().all()].to_list(), axis=1, inplace=True)\n",
    "Response.drop(Response.columns[Response.isnull().all()].to_list(), axis=1, inplace=True)\n",
    "pd.Series(Response.dtypes.values).value_counts()"
   ]
  },
  {
   "cell_type": "markdown",
   "metadata": {},
   "source": [
    "### Change Bool cols (mostly date columns such as Is_year_end etc.) to int columns"
   ]
  },
  {
   "cell_type": "code",
   "execution_count": 14,
   "metadata": {},
   "outputs": [],
   "source": [
    "list_of_bool_cols = Variables.columns[Variables.dtypes.values == 'bool'].to_list()\n",
    "list_of_bool_cols_response = Response.columns[Response.dtypes.values == 'bool'].to_list()\n",
    "\n",
    "for col in list_of_bool_cols:\n",
    "    Variables[col] = Variables[col].astype(int)\n",
    "\n",
    "for col in list_of_bool_cols_response:\n",
    "    Response[col] = Response[col].astype(int)\n"
   ]
  },
  {
   "cell_type": "markdown",
   "metadata": {},
   "source": [
    "### Helper Function"
   ]
  },
  {
   "cell_type": "code",
   "execution_count": 15,
   "metadata": {},
   "outputs": [],
   "source": [
    "def fill_with_dataset(new_dataset,original_dataset):\n",
    "    X_train_dict[new_dataset] = X_train_dict[original_dataset]\n",
    "    X_test_dict[new_dataset] = X_test_dict[original_dataset]\n",
    "    X_val_dict[new_dataset] = X_val_dict[original_dataset]"
   ]
  },
  {
   "cell_type": "code",
   "execution_count": 16,
   "metadata": {},
   "outputs": [],
   "source": [
    "def add_to_features_df(model,dataset):\n",
    "    model_name = type(model).__name__\n",
    "    features_df.loc[(model_name, dataset),'Num_Features'] = len(X_train_dict[dataset].columns) # so can store list of features\n",
    "    features_df.loc[(model_name, dataset),'Features_List'] = X_train_dict[dataset].columns.to_list()\n",
    "\n",
    "    original_list = set(features_df.loc[(model_name, 'Original'),'Features_List'])\n",
    "    dataset_list = set(features_df.loc[(model_name, dataset),'Features_List'])\n",
    "    removed_list = list(sorted(original_list - dataset_list))\n",
    "    \n",
    "    features_df.loc[(model_name, dataset),'Removed_Features'] = removed_list\n",
    "    features_df.loc[(model_name, dataset),'Model_Details'] = model\n",
    "    "
   ]
  },
  {
   "cell_type": "code",
   "execution_count": 17,
   "metadata": {},
   "outputs": [],
   "source": [
    "def get_shapes(dataset):\n",
    "    print(\"\\nShapes for dataset:\",dataset)\n",
    "    print(\"X_train Shape\",X_train_dict[dataset].shape)\n",
    "    print(\"X_test Shape\",X_test_dict[dataset].shape)\n",
    "    print(\"X_val Shape\",X_val_dict[dataset].shape)\n",
    "    # print(\"y_train Shape\",y_train.shape)\n",
    "    # print(\"y_test Shape\",y_test.shape)\n",
    "    # print(\"y_val Shape\",y_val.shape)"
   ]
  },
  {
   "cell_type": "code",
   "execution_count": 18,
   "metadata": {},
   "outputs": [],
   "source": [
    "def print_pipe_removed(pipe):\n",
    "    total_removed = 0\n",
    "    print(\"\\nRemoved Features for Pipeline:\",pipe)\n",
    "    for i in range(len(pipe.steps)):\n",
    "        step_name = pipe.steps[i][0]\n",
    "        total_removed += len(pipe.named_steps[step_name].features_to_drop_)\n",
    "        print(step_name, \":\",len(pipe.named_steps[step_name].features_to_drop_))\n",
    "    print(\"Total removed:\",total_removed)"
   ]
  },
  {
   "cell_type": "code",
   "execution_count": 19,
   "metadata": {},
   "outputs": [],
   "source": [
    "def remove_features(dataset,pipe):\n",
    "    print(\"\\nRemoving Features for dataset:\",dataset)\n",
    "    print(\"# Features before:\",len(X_train_dict[dataset].columns.to_list()))\n",
    "    X_train_dict[dataset] = pipe.transform(X_train_dict[dataset])\n",
    "    X_test_dict[dataset] = pipe.transform(X_test_dict[dataset])\n",
    "    X_val_dict[dataset] = pipe.transform(X_val_dict[dataset])"
   ]
  },
  {
   "cell_type": "markdown",
   "metadata": {},
   "source": [
    "### Blocked cross-validation\n",
    "https://goldinlocks.github.io/Time-Series-Cross-Validation/"
   ]
  },
  {
   "cell_type": "code",
   "execution_count": 20,
   "metadata": {},
   "outputs": [],
   "source": [
    "class BlockingTimeSeriesSplit():\n",
    "    def __init__(self, n_splits):\n",
    "        self.n_splits = n_splits\n",
    "    \n",
    "    def get_n_splits(self, X, y, groups):\n",
    "        return self.n_splits\n",
    "    \n",
    "    def split(self, X, y=None, groups=None):\n",
    "        n_samples = len(X)\n",
    "        k_fold_size = n_samples // self.n_splits\n",
    "        indices = np.arange(n_samples)\n",
    "\n",
    "        margin = 0\n",
    "        for i in range(self.n_splits):\n",
    "            start = i * k_fold_size\n",
    "            stop = start + k_fold_size\n",
    "            mid = int(0.5 * (stop - start)) + start\n",
    "            yield indices[start: mid], indices[mid + margin: stop]\n",
    "\n",
    "btscv = BlockingTimeSeriesSplit(n_splits=5)"
   ]
  },
  {
   "cell_type": "markdown",
   "metadata": {},
   "source": [
    "*****Change between Labels & Close_Up_Down columns for y_combined to make it either a Multiclass (5) or (3)***"
   ]
  },
  {
   "cell_type": "code",
   "execution_count": 21,
   "metadata": {},
   "outputs": [],
   "source": [
    "# **cross_val_score - accuracy_score**                                                      \n",
    "# scoring https://scikit-learn.org/stable/modules/model_evaluation.html#the-scoring-parameter-defining-model-evaluation-rules\n",
    "\n",
    "def add_metrics(model,dataset):\n",
    "# Took mins to run\n",
    "# Also put 'roc_auc' in metrics_list\n",
    "\n",
    "    model_name = type(model).__name__\n",
    "    metrics_list = ['balanced_accuracy', 'precision_weighted', 'recall_weighted', 'f1_weighted', 'roc_auc_ovr_weighted', 'roc_auc_ovo_weighted']\n",
    "\n",
    "    # X_combined = pd.concat([X_train_dict[dataset],X_test_dict[dataset]]).sort_index()\n",
    "    # y_combined = pd.concat([y_train,y_test]).sort_index()\n",
    "\n",
    "    # Removed training data - but use above commented 2 lines incase you need\n",
    "    X_combined = pd.concat([X_test_dict[dataset]]).sort_index()\n",
    "    y_combined = pd.concat([y_test]).sort_index()\n",
    "        \n",
    "    for metric in metrics_list:\n",
    "        score = cross_val_score(model, X_combined, y_combined.Labels, cv=btscv, scoring = str(metric))\n",
    "        features_df.loc[(model_name, dataset),metric]= round(np.median(score),2)\n",
    "        "
   ]
  },
  {
   "cell_type": "code",
   "execution_count": 86,
   "metadata": {},
   "outputs": [
    {
     "name": "stdout",
     "output_type": "stream",
     "text": [
      "roc_auc_ovr_weighted nan\n",
      "roc_auc_ovo_weighted nan\n"
     ]
    }
   ],
   "source": [
    "### TO DELETE\n",
    "model = models[0]\n",
    "dataset = 'Original'\n",
    "model_name = type(model).__name__\n",
    "metrics_list = ['roc_auc_ovr_weighted', 'roc_auc_ovo_weighted']\n",
    "X_combined = X_test_dict[dataset].sort_index()\n",
    "y_combined = y_test.sort_index()\n",
    "for metric in metrics_list:\n",
    "    score = cross_val_score(model, X_combined, y_combined.Labels, cv=btscv, scoring = str(metric))\n",
    "    print(metric, round(np.median(score),2))"
   ]
  },
  {
   "cell_type": "code",
   "execution_count": 83,
   "metadata": {},
   "outputs": [
    {
     "data": {
      "text/html": [
       "<div>\n",
       "<style scoped>\n",
       "    .dataframe tbody tr th:only-of-type {\n",
       "        vertical-align: middle;\n",
       "    }\n",
       "\n",
       "    .dataframe tbody tr th {\n",
       "        vertical-align: top;\n",
       "    }\n",
       "\n",
       "    .dataframe thead th {\n",
       "        text-align: right;\n",
       "    }\n",
       "</style>\n",
       "<table border=\"1\" class=\"dataframe\">\n",
       "  <thead>\n",
       "    <tr style=\"text-align: right;\">\n",
       "      <th></th>\n",
       "      <th>LumberOHLCV LBHigh</th>\n",
       "      <th>LumberOHLCV LBLow</th>\n",
       "      <th>LumberOHLCV LBClose</th>\n",
       "      <th>LumberOHLCV LBVolume</th>\n",
       "      <th>LumberOHLCV LBopenInterest</th>\n",
       "      <th>LumberOHLCV LBAdjClose</th>\n",
       "      <th>LumberContractSpreads FirstSecond</th>\n",
       "      <th>LumberContractSpreads SecondThird</th>\n",
       "      <th>LumberContractSpreads FirstThird</th>\n",
       "      <th>lumbermovingaverages MA200</th>\n",
       "      <th>...</th>\n",
       "      <th>TAmomentumppo</th>\n",
       "      <th>TAmomentumpposignal</th>\n",
       "      <th>TAmomentumppohist</th>\n",
       "      <th>TAmomentumpvo</th>\n",
       "      <th>TAmomentumpvosignal</th>\n",
       "      <th>TAmomentumpvohist</th>\n",
       "      <th>TAmomentumkama</th>\n",
       "      <th>TAothersdr</th>\n",
       "      <th>TAothersdlr</th>\n",
       "      <th>TAotherscr</th>\n",
       "    </tr>\n",
       "  </thead>\n",
       "  <tbody>\n",
       "    <tr>\n",
       "      <th>2011-01-03</th>\n",
       "      <td>318.0</td>\n",
       "      <td>318.0</td>\n",
       "      <td>318.0</td>\n",
       "      <td>86.0</td>\n",
       "      <td>1201.0</td>\n",
       "      <td>282.064070</td>\n",
       "      <td>-1.0</td>\n",
       "      <td>-2.1</td>\n",
       "      <td>-3.7</td>\n",
       "      <td>-47.1950</td>\n",
       "      <td>...</td>\n",
       "      <td>1.375863</td>\n",
       "      <td>1.962720</td>\n",
       "      <td>-0.586857</td>\n",
       "      <td>-18.710412</td>\n",
       "      <td>-14.030077</td>\n",
       "      <td>-4.680335</td>\n",
       "      <td>309.687331</td>\n",
       "      <td>0.000000</td>\n",
       "      <td>0.000000</td>\n",
       "      <td>34.347275</td>\n",
       "    </tr>\n",
       "    <tr>\n",
       "      <th>2011-01-04</th>\n",
       "      <td>328.0</td>\n",
       "      <td>328.0</td>\n",
       "      <td>328.0</td>\n",
       "      <td>180.0</td>\n",
       "      <td>1066.0</td>\n",
       "      <td>292.337927</td>\n",
       "      <td>-1.0</td>\n",
       "      <td>-2.1</td>\n",
       "      <td>-3.7</td>\n",
       "      <td>-56.9960</td>\n",
       "      <td>...</td>\n",
       "      <td>1.479179</td>\n",
       "      <td>1.866011</td>\n",
       "      <td>-0.386833</td>\n",
       "      <td>-12.209845</td>\n",
       "      <td>-13.666030</td>\n",
       "      <td>1.456186</td>\n",
       "      <td>309.919650</td>\n",
       "      <td>3.144654</td>\n",
       "      <td>3.096223</td>\n",
       "      <td>38.572032</td>\n",
       "    </tr>\n",
       "    <tr>\n",
       "      <th>2011-01-05</th>\n",
       "      <td>352.1</td>\n",
       "      <td>332.2</td>\n",
       "      <td>337.5</td>\n",
       "      <td>148.0</td>\n",
       "      <td>918.0</td>\n",
       "      <td>284.866031</td>\n",
       "      <td>-1.0</td>\n",
       "      <td>-2.1</td>\n",
       "      <td>-3.7</td>\n",
       "      <td>-66.1735</td>\n",
       "      <td>...</td>\n",
       "      <td>1.777222</td>\n",
       "      <td>1.848253</td>\n",
       "      <td>-0.071031</td>\n",
       "      <td>-9.260700</td>\n",
       "      <td>-12.784964</td>\n",
       "      <td>3.524264</td>\n",
       "      <td>310.096250</td>\n",
       "      <td>2.896341</td>\n",
       "      <td>2.855190</td>\n",
       "      <td>42.585551</td>\n",
       "    </tr>\n",
       "    <tr>\n",
       "      <th>2011-01-06</th>\n",
       "      <td>330.1</td>\n",
       "      <td>322.2</td>\n",
       "      <td>330.1</td>\n",
       "      <td>430.0</td>\n",
       "      <td>7429.0</td>\n",
       "      <td>292.337927</td>\n",
       "      <td>-1.0</td>\n",
       "      <td>-2.1</td>\n",
       "      <td>-3.7</td>\n",
       "      <td>-58.5715</td>\n",
       "      <td>...</td>\n",
       "      <td>1.805356</td>\n",
       "      <td>1.839674</td>\n",
       "      <td>-0.034318</td>\n",
       "      <td>8.572890</td>\n",
       "      <td>-8.513394</td>\n",
       "      <td>17.086283</td>\n",
       "      <td>310.268337</td>\n",
       "      <td>-2.192593</td>\n",
       "      <td>-2.216987</td>\n",
       "      <td>39.459231</td>\n",
       "    </tr>\n",
       "    <tr>\n",
       "      <th>2011-01-07</th>\n",
       "      <td>349.0</td>\n",
       "      <td>340.3</td>\n",
       "      <td>346.8</td>\n",
       "      <td>214.0</td>\n",
       "      <td>2695.0</td>\n",
       "      <td>287.667992</td>\n",
       "      <td>-1.0</td>\n",
       "      <td>-2.1</td>\n",
       "      <td>-3.7</td>\n",
       "      <td>-75.0090</td>\n",
       "      <td>...</td>\n",
       "      <td>2.214262</td>\n",
       "      <td>1.914592</td>\n",
       "      <td>0.299671</td>\n",
       "      <td>10.012560</td>\n",
       "      <td>-4.808203</td>\n",
       "      <td>14.820763</td>\n",
       "      <td>312.216783</td>\n",
       "      <td>5.059073</td>\n",
       "      <td>4.935261</td>\n",
       "      <td>46.514575</td>\n",
       "    </tr>\n",
       "    <tr>\n",
       "      <th>...</th>\n",
       "      <td>...</td>\n",
       "      <td>...</td>\n",
       "      <td>...</td>\n",
       "      <td>...</td>\n",
       "      <td>...</td>\n",
       "      <td>...</td>\n",
       "      <td>...</td>\n",
       "      <td>...</td>\n",
       "      <td>...</td>\n",
       "      <td>...</td>\n",
       "      <td>...</td>\n",
       "      <td>...</td>\n",
       "      <td>...</td>\n",
       "      <td>...</td>\n",
       "      <td>...</td>\n",
       "      <td>...</td>\n",
       "      <td>...</td>\n",
       "      <td>...</td>\n",
       "      <td>...</td>\n",
       "      <td>...</td>\n",
       "      <td>...</td>\n",
       "    </tr>\n",
       "    <tr>\n",
       "      <th>2019-10-14</th>\n",
       "      <td>379.9</td>\n",
       "      <td>379.9</td>\n",
       "      <td>379.9</td>\n",
       "      <td>8.0</td>\n",
       "      <td>60.0</td>\n",
       "      <td>237.531656</td>\n",
       "      <td>-0.6</td>\n",
       "      <td>-6.2</td>\n",
       "      <td>-6.8</td>\n",
       "      <td>-15.0860</td>\n",
       "      <td>...</td>\n",
       "      <td>-0.219090</td>\n",
       "      <td>-0.340958</td>\n",
       "      <td>0.121868</td>\n",
       "      <td>-4.393293</td>\n",
       "      <td>7.280338</td>\n",
       "      <td>-11.673631</td>\n",
       "      <td>374.804233</td>\n",
       "      <td>0.000000</td>\n",
       "      <td>0.000000</td>\n",
       "      <td>60.498521</td>\n",
       "    </tr>\n",
       "    <tr>\n",
       "      <th>2019-10-15</th>\n",
       "      <td>387.2</td>\n",
       "      <td>387.2</td>\n",
       "      <td>387.2</td>\n",
       "      <td>2.0</td>\n",
       "      <td>60.0</td>\n",
       "      <td>244.669180</td>\n",
       "      <td>-0.5</td>\n",
       "      <td>-4.0</td>\n",
       "      <td>-4.5</td>\n",
       "      <td>-22.2205</td>\n",
       "      <td>...</td>\n",
       "      <td>0.034429</td>\n",
       "      <td>-0.265881</td>\n",
       "      <td>0.300310</td>\n",
       "      <td>-12.461942</td>\n",
       "      <td>3.331882</td>\n",
       "      <td>-15.793824</td>\n",
       "      <td>375.621760</td>\n",
       "      <td>1.921558</td>\n",
       "      <td>1.903330</td>\n",
       "      <td>63.582594</td>\n",
       "    </tr>\n",
       "    <tr>\n",
       "      <th>2019-10-16</th>\n",
       "      <td>383.0</td>\n",
       "      <td>383.0</td>\n",
       "      <td>383.0</td>\n",
       "      <td>427.0</td>\n",
       "      <td>1355.0</td>\n",
       "      <td>239.653623</td>\n",
       "      <td>-2.7</td>\n",
       "      <td>-5.4</td>\n",
       "      <td>-8.1</td>\n",
       "      <td>-17.8530</td>\n",
       "      <td>...</td>\n",
       "      <td>0.143427</td>\n",
       "      <td>-0.184019</td>\n",
       "      <td>0.327446</td>\n",
       "      <td>11.128500</td>\n",
       "      <td>4.891205</td>\n",
       "      <td>6.237294</td>\n",
       "      <td>375.876932</td>\n",
       "      <td>-1.084711</td>\n",
       "      <td>-1.090637</td>\n",
       "      <td>61.808196</td>\n",
       "    </tr>\n",
       "    <tr>\n",
       "      <th>2019-10-17</th>\n",
       "      <td>390.2</td>\n",
       "      <td>390.2</td>\n",
       "      <td>390.2</td>\n",
       "      <td>20.0</td>\n",
       "      <td>19.0</td>\n",
       "      <td>244.283368</td>\n",
       "      <td>0.5</td>\n",
       "      <td>-5.6</td>\n",
       "      <td>-5.1</td>\n",
       "      <td>-24.8380</td>\n",
       "      <td>...</td>\n",
       "      <td>0.378266</td>\n",
       "      <td>-0.071562</td>\n",
       "      <td>0.449828</td>\n",
       "      <td>2.847373</td>\n",
       "      <td>4.482439</td>\n",
       "      <td>-1.635066</td>\n",
       "      <td>376.770033</td>\n",
       "      <td>1.879896</td>\n",
       "      <td>1.862444</td>\n",
       "      <td>64.850021</td>\n",
       "    </tr>\n",
       "    <tr>\n",
       "      <th>2019-10-18</th>\n",
       "      <td>390.7</td>\n",
       "      <td>390.7</td>\n",
       "      <td>390.7</td>\n",
       "      <td>392.0</td>\n",
       "      <td>1018.0</td>\n",
       "      <td>250.520664</td>\n",
       "      <td>0.6</td>\n",
       "      <td>-1.0</td>\n",
       "      <td>-0.4</td>\n",
       "      <td>-25.0940</td>\n",
       "      <td>...</td>\n",
       "      <td>0.567432</td>\n",
       "      <td>0.056237</td>\n",
       "      <td>0.511195</td>\n",
       "      <td>17.297526</td>\n",
       "      <td>7.045456</td>\n",
       "      <td>10.252070</td>\n",
       "      <td>377.585053</td>\n",
       "      <td>0.128139</td>\n",
       "      <td>0.128057</td>\n",
       "      <td>65.061259</td>\n",
       "    </tr>\n",
       "  </tbody>\n",
       "</table>\n",
       "<p>2216 rows × 762 columns</p>\n",
       "</div>"
      ],
      "text/plain": [
       "            LumberOHLCV LBHigh  LumberOHLCV LBLow  LumberOHLCV LBClose  \\\n",
       "2011-01-03               318.0              318.0                318.0   \n",
       "2011-01-04               328.0              328.0                328.0   \n",
       "2011-01-05               352.1              332.2                337.5   \n",
       "2011-01-06               330.1              322.2                330.1   \n",
       "2011-01-07               349.0              340.3                346.8   \n",
       "...                        ...                ...                  ...   \n",
       "2019-10-14               379.9              379.9                379.9   \n",
       "2019-10-15               387.2              387.2                387.2   \n",
       "2019-10-16               383.0              383.0                383.0   \n",
       "2019-10-17               390.2              390.2                390.2   \n",
       "2019-10-18               390.7              390.7                390.7   \n",
       "\n",
       "            LumberOHLCV LBVolume  LumberOHLCV LBopenInterest  \\\n",
       "2011-01-03                  86.0                      1201.0   \n",
       "2011-01-04                 180.0                      1066.0   \n",
       "2011-01-05                 148.0                       918.0   \n",
       "2011-01-06                 430.0                      7429.0   \n",
       "2011-01-07                 214.0                      2695.0   \n",
       "...                          ...                         ...   \n",
       "2019-10-14                   8.0                        60.0   \n",
       "2019-10-15                   2.0                        60.0   \n",
       "2019-10-16                 427.0                      1355.0   \n",
       "2019-10-17                  20.0                        19.0   \n",
       "2019-10-18                 392.0                      1018.0   \n",
       "\n",
       "            LumberOHLCV LBAdjClose  LumberContractSpreads FirstSecond  \\\n",
       "2011-01-03              282.064070                               -1.0   \n",
       "2011-01-04              292.337927                               -1.0   \n",
       "2011-01-05              284.866031                               -1.0   \n",
       "2011-01-06              292.337927                               -1.0   \n",
       "2011-01-07              287.667992                               -1.0   \n",
       "...                            ...                                ...   \n",
       "2019-10-14              237.531656                               -0.6   \n",
       "2019-10-15              244.669180                               -0.5   \n",
       "2019-10-16              239.653623                               -2.7   \n",
       "2019-10-17              244.283368                                0.5   \n",
       "2019-10-18              250.520664                                0.6   \n",
       "\n",
       "            LumberContractSpreads SecondThird  \\\n",
       "2011-01-03                               -2.1   \n",
       "2011-01-04                               -2.1   \n",
       "2011-01-05                               -2.1   \n",
       "2011-01-06                               -2.1   \n",
       "2011-01-07                               -2.1   \n",
       "...                                       ...   \n",
       "2019-10-14                               -6.2   \n",
       "2019-10-15                               -4.0   \n",
       "2019-10-16                               -5.4   \n",
       "2019-10-17                               -5.6   \n",
       "2019-10-18                               -1.0   \n",
       "\n",
       "            LumberContractSpreads FirstThird  lumbermovingaverages MA200  ...  \\\n",
       "2011-01-03                              -3.7                    -47.1950  ...   \n",
       "2011-01-04                              -3.7                    -56.9960  ...   \n",
       "2011-01-05                              -3.7                    -66.1735  ...   \n",
       "2011-01-06                              -3.7                    -58.5715  ...   \n",
       "2011-01-07                              -3.7                    -75.0090  ...   \n",
       "...                                      ...                         ...  ...   \n",
       "2019-10-14                              -6.8                    -15.0860  ...   \n",
       "2019-10-15                              -4.5                    -22.2205  ...   \n",
       "2019-10-16                              -8.1                    -17.8530  ...   \n",
       "2019-10-17                              -5.1                    -24.8380  ...   \n",
       "2019-10-18                              -0.4                    -25.0940  ...   \n",
       "\n",
       "            TAmomentumppo  TAmomentumpposignal  TAmomentumppohist  \\\n",
       "2011-01-03       1.375863             1.962720          -0.586857   \n",
       "2011-01-04       1.479179             1.866011          -0.386833   \n",
       "2011-01-05       1.777222             1.848253          -0.071031   \n",
       "2011-01-06       1.805356             1.839674          -0.034318   \n",
       "2011-01-07       2.214262             1.914592           0.299671   \n",
       "...                   ...                  ...                ...   \n",
       "2019-10-14      -0.219090            -0.340958           0.121868   \n",
       "2019-10-15       0.034429            -0.265881           0.300310   \n",
       "2019-10-16       0.143427            -0.184019           0.327446   \n",
       "2019-10-17       0.378266            -0.071562           0.449828   \n",
       "2019-10-18       0.567432             0.056237           0.511195   \n",
       "\n",
       "            TAmomentumpvo  TAmomentumpvosignal  TAmomentumpvohist  \\\n",
       "2011-01-03     -18.710412           -14.030077          -4.680335   \n",
       "2011-01-04     -12.209845           -13.666030           1.456186   \n",
       "2011-01-05      -9.260700           -12.784964           3.524264   \n",
       "2011-01-06       8.572890            -8.513394          17.086283   \n",
       "2011-01-07      10.012560            -4.808203          14.820763   \n",
       "...                   ...                  ...                ...   \n",
       "2019-10-14      -4.393293             7.280338         -11.673631   \n",
       "2019-10-15     -12.461942             3.331882         -15.793824   \n",
       "2019-10-16      11.128500             4.891205           6.237294   \n",
       "2019-10-17       2.847373             4.482439          -1.635066   \n",
       "2019-10-18      17.297526             7.045456          10.252070   \n",
       "\n",
       "            TAmomentumkama  TAothersdr  TAothersdlr  TAotherscr  \n",
       "2011-01-03      309.687331    0.000000     0.000000   34.347275  \n",
       "2011-01-04      309.919650    3.144654     3.096223   38.572032  \n",
       "2011-01-05      310.096250    2.896341     2.855190   42.585551  \n",
       "2011-01-06      310.268337   -2.192593    -2.216987   39.459231  \n",
       "2011-01-07      312.216783    5.059073     4.935261   46.514575  \n",
       "...                    ...         ...          ...         ...  \n",
       "2019-10-14      374.804233    0.000000     0.000000   60.498521  \n",
       "2019-10-15      375.621760    1.921558     1.903330   63.582594  \n",
       "2019-10-16      375.876932   -1.084711    -1.090637   61.808196  \n",
       "2019-10-17      376.770033    1.879896     1.862444   64.850021  \n",
       "2019-10-18      377.585053    0.128139     0.128057   65.061259  \n",
       "\n",
       "[2216 rows x 762 columns]"
      ]
     },
     "execution_count": 83,
     "metadata": {},
     "output_type": "execute_result"
    }
   ],
   "source": [
    "X_combined"
   ]
  },
  {
   "cell_type": "code",
   "execution_count": 22,
   "metadata": {},
   "outputs": [],
   "source": [
    "# This function does the following steps:\n",
    "# 1. Fill the dataset with passed X Variables\n",
    "# 2. Fit Pipeline function\n",
    "# 3. Remove features/Transform train, test, val\n",
    "# 4. Add features to features_df\n",
    "# 5. Print_pipe_removed\n",
    "# 6. Get Shapes\n",
    "# 7. Add metrics to features_df\n",
    "\n",
    "#  = DropConstantFeatures(tol=1, variables=None, missing_values='raise')\n",
    "def apply_pipe_transform(dataset,original_dataset, pipe, model):\n",
    "    fill_with_dataset(dataset,original_dataset)\n",
    "    pipe = pipe.fit(X_train_dict[dataset])\n",
    "    remove_features(dataset,pipe)\n",
    "    add_to_features_df(model,dataset)\n",
    "    print_pipe_removed(pipe)\n",
    "    get_shapes(dataset)\n",
    "    add_metrics(model, dataset)"
   ]
  },
  {
   "cell_type": "code",
   "execution_count": 23,
   "metadata": {},
   "outputs": [],
   "source": [
    "### SAMPLE confusion matrix for all labels in our dataset - need to pass one label like [-2,-1,0,1,2]\n",
    "def _color_it(val):\n",
    "    if val == 'True Negative':\n",
    "        color = 'red' \n",
    "    elif val == 'False Negative':\n",
    "        color = 'blue'\n",
    "    elif val == 'True Positive':\n",
    "        color = 'green'\n",
    "    elif val == 'False Positive':\n",
    "        color = 'orange'\n",
    "    return 'color: %s' % color\n",
    "    \n",
    "def generate_sample_confusion_matrix(input_label):\n",
    "     # choose any label from the list [-2,-1,0,1,2]\n",
    "    labels_ = lab.tolist()\n",
    "    label_removed = labels_.copy()\n",
    "    label_removed.remove(input_label)\n",
    "    idx = pd.MultiIndex.from_product([['Actual'], lab])\n",
    "    col = pd.MultiIndex.from_product([['Prediction'], lab])\n",
    "    metric_matrix = pd.DataFrame(columns = col, index = idx)\n",
    "    metric_matrix.loc[('Actual',input_label),('Prediction',input_label)] = 'True Positive'\n",
    "    metric_matrix.loc[('Actual',label_removed),('Prediction',input_label)] = 'False Positive'\n",
    "    metric_matrix.loc[('Actual',input_label),('Prediction',label_removed)] = 'False Negative'\n",
    "    metric_matrix.loc[('Actual',label_removed),('Prediction',label_removed)] = 'True Negative'\n",
    "    return metric_matrix.style.applymap(_color_it)"
   ]
  },
  {
   "cell_type": "markdown",
   "metadata": {},
   "source": [
    "### Create List of Models for both Classifiers & Regressors"
   ]
  },
  {
   "cell_type": "code",
   "execution_count": 24,
   "metadata": {},
   "outputs": [],
   "source": [
    "# Not using xgb_clf for now because it is too slow\n",
    "\n",
    "rf_clf = RandomForestClassifier(n_estimators=100, max_depth=3, n_jobs=-1)\n",
    "xgb_clf = XGBClassifier(n_estimators=200, max_depth=3, n_jobs=-1,eval_metric='mlogloss')\n",
    "\n",
    "models = [rf_clf,xgb_clf]\n",
    "# models = [rf_clf]"
   ]
  },
  {
   "cell_type": "markdown",
   "metadata": {},
   "source": [
    "### Dataframe to Store Model Features & Metrics"
   ]
  },
  {
   "cell_type": "code",
   "execution_count": 25,
   "metadata": {},
   "outputs": [],
   "source": [
    "model_names = [type(m).__name__ for m in models]\n",
    "dataset = 'Original'\n",
    "multilevel_index = pd.MultiIndex.from_product([model_names,[dataset]],names=['Model', 'Dataset'])\n",
    "cols_names = ['Model_Details','Num_Features','Features_List','Removed_Features'] + ['balanced_accuracy', 'precision_weighted', 'recall_weighted', 'f1_weighted', 'roc_auc_ovr_weighted', 'roc_auc_ovo_weighted']\n",
    "features_df = pd.DataFrame(columns=cols_names, index=multilevel_index)"
   ]
  },
  {
   "cell_type": "markdown",
   "metadata": {},
   "source": [
    "### Splitting the Dataset in 3 Dictionaries of Training, Testing & Validation"
   ]
  },
  {
   "cell_type": "code",
   "execution_count": 26,
   "metadata": {},
   "outputs": [
    {
     "name": "stdout",
     "output_type": "stream",
     "text": [
      "\n",
      "Shapes for dataset: Original\n",
      "X_train Shape (2216, 762)\n",
      "X_test Shape (555, 762)\n",
      "X_val Shape (124, 762)\n"
     ]
    }
   ],
   "source": [
    "X_train_dict = {}\n",
    "X_test_dict = {}\n",
    "X_val_dict = {}\n",
    "\n",
    "# To make sure test is the most recent\n",
    "Variables.sort_index(ascending = True, inplace = True) \n",
    "Response.sort_index(ascending = True, inplace = True)\n",
    "\n",
    "Validation_date_start = '2022-01-01'\n",
    "X_val_dict['Original'] = Variables[Variables.index >= Validation_date_start]\n",
    "y_val = Response[Response.index >= Validation_date_start]\n",
    "\n",
    "X_train_dict['Original'], X_test_dict['Original'], y_train, y_test = train_test_split(Variables[Variables.index < Validation_date_start], Response[Response.index < Validation_date_start], test_size=0.20, shuffle = False)\n",
    "\n",
    "for m in models:\n",
    "    add_to_features_df(m,dataset='Original')\n",
    "    add_metrics(m,dataset)  \n",
    "\n",
    "# Shapes\n",
    "get_shapes(dataset = 'Original')"
   ]
  },
  {
   "cell_type": "markdown",
   "metadata": {},
   "source": [
    "### ***Functions to plot Blocked TimeSeries Splot****"
   ]
  },
  {
   "cell_type": "code",
   "execution_count": 27,
   "metadata": {},
   "outputs": [
    {
     "name": "stdout",
     "output_type": "stream",
     "text": [
      "The horizontal axis is the training set size while the vertical axis represents the cross-validation iterations. The folds used for training are depicted in blue and the folds used for validation are depicted in orange. The final horizontal bar are the FIVE [-2,-1,0,1,2] class labels for the response variable\n"
     ]
    },
    {
     "data": {
      "image/png": "[encoded data removed]",
      "text/plain": [
       "<Figure size 720x360 with 1 Axes>"
      ]
     },
     "metadata": {
      "needs_background": "light"
     },
     "output_type": "display_data"
    }
   ],
   "source": [
    "from matplotlib.patches import Patch\n",
    "\n",
    "n_splits = 5\n",
    "cv = BlockingTimeSeriesSplit\n",
    "cmap_data = plt.cm.Paired\n",
    "cmap_cv = plt.cm.coolwarm\n",
    "\n",
    "def plot_cv_indices(cv, X, y, ax, n_splits, lw=10):\n",
    "    \"\"\"Create a sample plot for indices of a cross-validation object.\"\"\"\n",
    "\n",
    "    # Generate the training/testing visualizations for each CV split\n",
    "    for ii, (tr, tt) in enumerate(cv.split(X=X, y=y, groups=None)):\n",
    "        # Fill in indices with the training/test groups\n",
    "        indices = np.array([np.nan] * len(X))\n",
    "        indices[tt] = 1\n",
    "        indices[tr] = 0\n",
    "\n",
    "        # Visualize the results\n",
    "        ax.scatter(range(len(indices)), [ii + .5] * len(indices),\n",
    "                   c=indices, marker='_', lw=lw, cmap=cmap_cv,\n",
    "                   vmin=-.2, vmax=1.2)\n",
    "        \n",
    "    # Plot the data classes and groups at the end\n",
    "    ax.scatter(range(len(X)), [ii + 1.5] * len(X),\n",
    "               c=y, marker='_', lw=lw, cmap=cmap_data)\n",
    "\n",
    "    # Formatting\n",
    "    yticklabels = list(range(n_splits)) + ['class']\n",
    "    # ax.set(yticks=np.arange(n_splits+2) + .5, yticklabels=yticklabels,\n",
    "    #        xlabel='Sample index', ylabel=\"CV iteration\",\n",
    "    #        ylim=[n_splits+1.2, -.1], xlim=[0, 100])\n",
    "    ax.set_title('{}'.format(type(cv).__name__), fontsize=15)\n",
    "    return ax\n",
    "\n",
    "\n",
    "def plot_timeseries_split(X,y):\n",
    "\n",
    "        this_cv = cv(n_splits=n_splits)\n",
    "        fig, ax = plt.subplots(figsize=(10, 5))\n",
    "        plot_cv_indices(this_cv, X, y, ax, n_splits)\n",
    "\n",
    "        ax.legend([Patch(color=cmap_cv(.8)), Patch(color=cmap_cv(.02))],\n",
    "                ['Testing set', 'Training set'], loc=(1.02, .8))\n",
    "        plt.tight_layout()\n",
    "        fig.subplots_adjust(right=.7)\n",
    "                \n",
    "        plt.show()\n",
    "\n",
    "print(\"The horizontal axis is the training set size while the vertical axis represents the cross-validation iterations. The folds used for training are depicted in blue and the folds used for validation are depicted in orange. The final horizontal bar are the FIVE [-2,-1,0,1,2] class labels for the response variable\")\n",
    "plot_timeseries_split(np.array(X_train_dict['Original']),np.array(y_train.Labels))\n"
   ]
  },
  {
   "cell_type": "markdown",
   "metadata": {},
   "source": [
    "### Remove all constant Variables\n",
    "<div style=\"color: Green; font-size:22px;\" class=\"alert alert-block alert-warning\"> \n",
    "<b>To Do:</b> Check why the following features have only one value\n",
    "</div>"
   ]
  },
  {
   "cell_type": "code",
   "execution_count": 28,
   "metadata": {},
   "outputs": [
    {
     "name": "stdout",
     "output_type": "stream",
     "text": [
      "\n",
      "Removing Features for dataset: Constant\n",
      "# Features before: 762\n",
      "\n",
      "Removed Features for Pipeline: Pipeline(steps=[('Constant', DropConstantFeatures())])\n",
      "Constant : 46\n",
      "Total removed: 46\n",
      "\n",
      "Shapes for dataset: Constant\n",
      "X_train Shape (2216, 716)\n",
      "X_test Shape (555, 716)\n",
      "X_val Shape (124, 716)\n"
     ]
    }
   ],
   "source": [
    "# Issue with using XGBOOST - takes long time and gives warnigs Starting in XGBoost 1.3.0, the default evaluation metric used with the objective 'multi:softprob' was changed from 'merror' to 'mlogloss'. Explicitly set eval_metric if you'd like to restore the old behavior.\n",
    "\n",
    "warnings.filterwarnings(\"ignore\")\n",
    "\n",
    "dataset = 'Constant'\n",
    "pipe = Pipeline([(dataset, DropConstantFeatures(tol=1, variables=None, missing_values='raise'))])\n",
    "apply_pipe_transform(dataset,'Original', pipe, models[0])\n",
    "# apply_pipe_transform(dataset,'Original', pipe, models[1])"
   ]
  },
  {
   "cell_type": "markdown",
   "metadata": {},
   "source": [
    "### Remove Quasi-constant features"
   ]
  },
  {
   "cell_type": "code",
   "execution_count": 29,
   "metadata": {},
   "outputs": [
    {
     "name": "stdout",
     "output_type": "stream",
     "text": [
      "\n",
      "Removing Features for dataset: QuasiConstant\n",
      "# Features before: 762\n",
      "\n",
      "Removed Features for Pipeline: Pipeline(steps=[('QuasiConstant', DropConstantFeatures(tol=0.95))])\n",
      "QuasiConstant : 57\n",
      "Total removed: 57\n",
      "\n",
      "Shapes for dataset: QuasiConstant\n",
      "X_train Shape (2216, 705)\n",
      "X_test Shape (555, 705)\n",
      "X_val Shape (124, 705)\n"
     ]
    }
   ],
   "source": [
    "dataset = 'QuasiConstant'\n",
    "pipe = Pipeline([(dataset, DropConstantFeatures(tol=0.95, variables=None, missing_values='raise')),])\n",
    "apply_pipe_transform(dataset,'Original', pipe, models[0])"
   ]
  },
  {
   "cell_type": "markdown",
   "metadata": {},
   "source": [
    "### Remove Duplicated Features"
   ]
  },
  {
   "cell_type": "code",
   "execution_count": 30,
   "metadata": {},
   "outputs": [
    {
     "name": "stdout",
     "output_type": "stream",
     "text": [
      "\n",
      "Removing Features for dataset: Duplicated\n",
      "# Features before: 762\n",
      "\n",
      "Removed Features for Pipeline: Pipeline(steps=[('Duplicated', DropDuplicateFeatures(missing_values='raise'))])\n",
      "Duplicated : 85\n",
      "Total removed: 85\n",
      "\n",
      "Shapes for dataset: Duplicated\n",
      "X_train Shape (2216, 677)\n",
      "X_test Shape (555, 677)\n",
      "X_val Shape (124, 677)\n"
     ]
    }
   ],
   "source": [
    "dataset = 'Duplicated'\n",
    "pipe = Pipeline([(dataset, DropDuplicateFeatures(variables=None, missing_values='raise')),])\n",
    "apply_pipe_transform(dataset,'Original', pipe, models[0])"
   ]
  },
  {
   "cell_type": "markdown",
   "metadata": {},
   "source": [
    "### Remove Duplicated & Quasi Constant Features"
   ]
  },
  {
   "cell_type": "code",
   "execution_count": 31,
   "metadata": {},
   "outputs": [
    {
     "name": "stdout",
     "output_type": "stream",
     "text": [
      "\n",
      "Removing Features for dataset: Dupl&QConstant\n",
      "# Features before: 705\n",
      "\n",
      "Removed Features for Pipeline: Pipeline(steps=[('Dupl&QConstant',\n",
      "                 DropDuplicateFeatures(missing_values='raise'))])\n",
      "Dupl&QConstant : 48\n",
      "Total removed: 48\n",
      "\n",
      "Shapes for dataset: Dupl&QConstant\n",
      "X_train Shape (2216, 657)\n",
      "X_test Shape (555, 657)\n",
      "X_val Shape (124, 657)\n"
     ]
    }
   ],
   "source": [
    "dataset = 'Dupl&QConstant'\n",
    "pipe = Pipeline([(dataset, DropDuplicateFeatures(variables=None, missing_values='raise')),])\n",
    "apply_pipe_transform(dataset,'QuasiConstant', pipe, models[0])"
   ]
  },
  {
   "cell_type": "markdown",
   "metadata": {},
   "source": [
    "### Remove Correlated Features"
   ]
  },
  {
   "cell_type": "code",
   "execution_count": 32,
   "metadata": {},
   "outputs": [
    {
     "name": "stdout",
     "output_type": "stream",
     "text": [
      "\n",
      "Removing Features for dataset: Correlated\n",
      "# Features before: 762\n",
      "\n",
      "Removed Features for Pipeline: Pipeline(steps=[('Correlated',\n",
      "                 SmartCorrelatedSelection(cv=<__main__.BlockingTimeSeriesSplit object at 0x000002192702F130>,\n",
      "                                          estimator=RandomForestClassifier(max_depth=3,\n",
      "                                                                           n_jobs=-1),\n",
      "                                          method='spearman',\n",
      "                                          missing_values='raise',\n",
      "                                          selection_method='variance',\n",
      "                                          threshold=0.95))])\n",
      "Correlated : 257\n",
      "Total removed: 257\n",
      "\n",
      "Shapes for dataset: Correlated\n",
      "X_train Shape (2216, 505)\n",
      "X_test Shape (555, 505)\n",
      "X_val Shape (124, 505)\n"
     ]
    }
   ],
   "source": [
    "warnings.filterwarnings(\"ignore\")\n",
    "\n",
    "smart_correlation_estimator = models[0]\n",
    "dataset = 'Correlated'\n",
    "pipe = Pipeline([(dataset, SmartCorrelatedSelection(variables=None, method=\"spearman\",threshold=0.95,missing_values=\"raise\",selection_method=\"variance\",estimator=smart_correlation_estimator,scoring=\"roc_auc\",cv=btscv,)),])\n",
    "apply_pipe_transform(dataset,'Original', pipe, models[0])"
   ]
  },
  {
   "cell_type": "markdown",
   "metadata": {},
   "source": [
    "### Remove Duplicated, Quasi Constant & Correlated Features"
   ]
  },
  {
   "cell_type": "code",
   "execution_count": 33,
   "metadata": {},
   "outputs": [
    {
     "name": "stdout",
     "output_type": "stream",
     "text": [
      "\n",
      "Removing Features for dataset: Clean\n",
      "# Features before: 657\n",
      "\n",
      "Removed Features for Pipeline: Pipeline(steps=[('Clean',\n",
      "                 SmartCorrelatedSelection(cv=<__main__.BlockingTimeSeriesSplit object at 0x000002192702F130>,\n",
      "                                          estimator=RandomForestClassifier(max_depth=3,\n",
      "                                                                           n_jobs=-1),\n",
      "                                          method='spearman',\n",
      "                                          missing_values='raise',\n",
      "                                          selection_method='variance',\n",
      "                                          threshold=0.95))])\n",
      "Clean : 206\n",
      "Total removed: 206\n",
      "\n",
      "Shapes for dataset: Clean\n",
      "X_train Shape (2216, 451)\n",
      "X_test Shape (555, 451)\n",
      "X_val Shape (124, 451)\n"
     ]
    }
   ],
   "source": [
    "warnings.filterwarnings(\"ignore\")\n",
    "smart_correlation_estimator = models[0]\n",
    "dataset = 'Clean'\n",
    "pipe = Pipeline([(dataset, SmartCorrelatedSelection(variables=None, method=\"spearman\",threshold=0.95,missing_values=\"raise\",selection_method=\"variance\",estimator=smart_correlation_estimator,scoring=\"roc_auc\",cv=btscv,)),])\n",
    "apply_pipe_transform(dataset,'Dupl&QConstant', pipe, models[0])\n"
   ]
  },
  {
   "cell_type": "markdown",
   "metadata": {},
   "source": [
    "### Clean1 - Drop constant, quasi Constant, duplicated and correlated features"
   ]
  },
  {
   "cell_type": "code",
   "execution_count": 34,
   "metadata": {},
   "outputs": [
    {
     "name": "stdout",
     "output_type": "stream",
     "text": [
      "\n",
      "Removing Features for dataset: Clean1\n",
      "# Features before: 762\n",
      "\n",
      "Removed Features for Pipeline: Pipeline(steps=[('constant', DropConstantFeatures()),\n",
      "                ('quasiConstant', DropConstantFeatures(tol=0.95)),\n",
      "                ('duplicated', DropDuplicateFeatures(missing_values='raise')),\n",
      "                ('correlation',\n",
      "                 SmartCorrelatedSelection(cv=<__main__.BlockingTimeSeriesSplit object at 0x000002192702F130>,\n",
      "                                          estimator=RandomForestClassifier(max_depth=3,\n",
      "                                                                           n_jobs=-1),\n",
      "                                          method='spearman',\n",
      "                                          missing_values='raise',\n",
      "                                          selection_method='variance',\n",
      "                                          threshold=0.95))])\n",
      "constant : 46\n",
      "quasiConstant : 11\n",
      "duplicated : 48\n",
      "correlation : 206\n",
      "Total removed: 311\n",
      "\n",
      "Shapes for dataset: Clean1\n",
      "X_train Shape (2216, 451)\n",
      "X_test Shape (555, 451)\n",
      "X_val Shape (124, 451)\n",
      "\n",
      "Removing Features for dataset: Clean1\n",
      "# Features before: 762\n",
      "\n",
      "Removed Features for Pipeline: Pipeline(steps=[('constant', DropConstantFeatures()),\n",
      "                ('quasiConstant', DropConstantFeatures(tol=0.95)),\n",
      "                ('duplicated', DropDuplicateFeatures(missing_values='raise')),\n",
      "                ('correlation',\n",
      "                 SmartCorrelatedSelection(cv=<__main__.BlockingTimeSeriesSplit object at 0x000002192702F130>,\n",
      "                                          estimator=RandomForestClassifier(max_depth=3,\n",
      "                                                                           n_jobs=-1),\n",
      "                                          method='spearman',\n",
      "                                          missing_values='raise',\n",
      "                                          selection_method='variance',\n",
      "                                          threshold=0.95))])\n",
      "constant : 46\n",
      "quasiConstant : 11\n",
      "duplicated : 48\n",
      "correlation : 206\n",
      "Total removed: 311\n",
      "\n",
      "Shapes for dataset: Clean1\n",
      "X_train Shape (2216, 451)\n",
      "X_test Shape (555, 451)\n",
      "X_val Shape (124, 451)\n"
     ]
    }
   ],
   "source": [
    "warnings.filterwarnings(\"ignore\")\n",
    "\n",
    "smart_correlation_estimator = models[0]\n",
    "dataset = 'Clean1'\n",
    "pipe = Pipeline([\n",
    "    ('constant', DropConstantFeatures(tol=1, variables=None, missing_values='raise')),\n",
    "    ('quasiConstant', DropConstantFeatures(tol=0.95, variables=None, missing_values='raise')),\n",
    "    ('duplicated', DropDuplicateFeatures(variables=None, missing_values='raise')),\n",
    "    ('correlation', SmartCorrelatedSelection(variables=None, method=\"spearman\",threshold=0.95,missing_values=\"raise\",selection_method=\"variance\",estimator=smart_correlation_estimator,scoring=\"roc_auc\",cv=btscv,)),])\n",
    "apply_pipe_transform(dataset,'Original', pipe ,models[0])\n",
    "apply_pipe_transform(dataset,'Original', pipe ,models[1])"
   ]
  },
  {
   "cell_type": "code",
   "execution_count": 35,
   "metadata": {},
   "outputs": [
    {
     "data": {
      "text/html": [
       "<div>\n",
       "<style scoped>\n",
       "    .dataframe tbody tr th:only-of-type {\n",
       "        vertical-align: middle;\n",
       "    }\n",
       "\n",
       "    .dataframe tbody tr th {\n",
       "        vertical-align: top;\n",
       "    }\n",
       "\n",
       "    .dataframe thead th {\n",
       "        text-align: right;\n",
       "    }\n",
       "</style>\n",
       "<table border=\"1\" class=\"dataframe\">\n",
       "  <thead>\n",
       "    <tr style=\"text-align: right;\">\n",
       "      <th></th>\n",
       "      <th></th>\n",
       "      <th>Num_Features</th>\n",
       "      <th>balanced_accuracy</th>\n",
       "      <th>precision_weighted</th>\n",
       "      <th>recall_weighted</th>\n",
       "      <th>f1_weighted</th>\n",
       "      <th>roc_auc_ovr_weighted</th>\n",
       "      <th>roc_auc_ovo_weighted</th>\n",
       "    </tr>\n",
       "    <tr>\n",
       "      <th>Model</th>\n",
       "      <th>Dataset</th>\n",
       "      <th></th>\n",
       "      <th></th>\n",
       "      <th></th>\n",
       "      <th></th>\n",
       "      <th></th>\n",
       "      <th></th>\n",
       "      <th></th>\n",
       "    </tr>\n",
       "  </thead>\n",
       "  <tbody>\n",
       "    <tr>\n",
       "      <th>RandomForestClassifier</th>\n",
       "      <th>Original</th>\n",
       "      <td>762</td>\n",
       "      <td>0.25</td>\n",
       "      <td>0.43</td>\n",
       "      <td>0.3</td>\n",
       "      <td>0.4</td>\n",
       "      <td>NaN</td>\n",
       "      <td>NaN</td>\n",
       "    </tr>\n",
       "    <tr>\n",
       "      <th>XGBClassifier</th>\n",
       "      <th>Original</th>\n",
       "      <td>762</td>\n",
       "      <td>0.25</td>\n",
       "      <td>0.41</td>\n",
       "      <td>0.27</td>\n",
       "      <td>0.29</td>\n",
       "      <td>NaN</td>\n",
       "      <td>NaN</td>\n",
       "    </tr>\n",
       "    <tr>\n",
       "      <th rowspan=\"7\" valign=\"top\">RandomForestClassifier</th>\n",
       "      <th>Constant</th>\n",
       "      <td>716</td>\n",
       "      <td>0.21</td>\n",
       "      <td>0.44</td>\n",
       "      <td>0.34</td>\n",
       "      <td>0.3</td>\n",
       "      <td>NaN</td>\n",
       "      <td>NaN</td>\n",
       "    </tr>\n",
       "    <tr>\n",
       "      <th>QuasiConstant</th>\n",
       "      <td>705</td>\n",
       "      <td>0.24</td>\n",
       "      <td>0.42</td>\n",
       "      <td>0.34</td>\n",
       "      <td>0.3</td>\n",
       "      <td>NaN</td>\n",
       "      <td>NaN</td>\n",
       "    </tr>\n",
       "    <tr>\n",
       "      <th>Duplicated</th>\n",
       "      <td>677</td>\n",
       "      <td>0.21</td>\n",
       "      <td>0.43</td>\n",
       "      <td>0.39</td>\n",
       "      <td>0.35</td>\n",
       "      <td>NaN</td>\n",
       "      <td>NaN</td>\n",
       "    </tr>\n",
       "    <tr>\n",
       "      <th>Dupl&amp;QConstant</th>\n",
       "      <td>657</td>\n",
       "      <td>0.26</td>\n",
       "      <td>0.48</td>\n",
       "      <td>0.38</td>\n",
       "      <td>0.37</td>\n",
       "      <td>NaN</td>\n",
       "      <td>NaN</td>\n",
       "    </tr>\n",
       "    <tr>\n",
       "      <th>Correlated</th>\n",
       "      <td>505</td>\n",
       "      <td>0.19</td>\n",
       "      <td>0.49</td>\n",
       "      <td>0.34</td>\n",
       "      <td>0.39</td>\n",
       "      <td>NaN</td>\n",
       "      <td>NaN</td>\n",
       "    </tr>\n",
       "    <tr>\n",
       "      <th>Clean</th>\n",
       "      <td>451</td>\n",
       "      <td>0.25</td>\n",
       "      <td>0.41</td>\n",
       "      <td>0.38</td>\n",
       "      <td>0.37</td>\n",
       "      <td>NaN</td>\n",
       "      <td>NaN</td>\n",
       "    </tr>\n",
       "    <tr>\n",
       "      <th>Clean1</th>\n",
       "      <td>451</td>\n",
       "      <td>0.22</td>\n",
       "      <td>0.51</td>\n",
       "      <td>0.41</td>\n",
       "      <td>0.41</td>\n",
       "      <td>NaN</td>\n",
       "      <td>NaN</td>\n",
       "    </tr>\n",
       "    <tr>\n",
       "      <th>XGBClassifier</th>\n",
       "      <th>Clean1</th>\n",
       "      <td>451</td>\n",
       "      <td>0.25</td>\n",
       "      <td>0.27</td>\n",
       "      <td>0.32</td>\n",
       "      <td>0.27</td>\n",
       "      <td>NaN</td>\n",
       "      <td>NaN</td>\n",
       "    </tr>\n",
       "  </tbody>\n",
       "</table>\n",
       "</div>"
      ],
      "text/plain": [
       "                                      Num_Features balanced_accuracy  \\\n",
       "Model                  Dataset                                         \n",
       "RandomForestClassifier Original                762              0.25   \n",
       "XGBClassifier          Original                762              0.25   \n",
       "RandomForestClassifier Constant                716              0.21   \n",
       "                       QuasiConstant           705              0.24   \n",
       "                       Duplicated              677              0.21   \n",
       "                       Dupl&QConstant          657              0.26   \n",
       "                       Correlated              505              0.19   \n",
       "                       Clean                   451              0.25   \n",
       "                       Clean1                  451              0.22   \n",
       "XGBClassifier          Clean1                  451              0.25   \n",
       "\n",
       "                                      precision_weighted recall_weighted  \\\n",
       "Model                  Dataset                                             \n",
       "RandomForestClassifier Original                     0.43             0.3   \n",
       "XGBClassifier          Original                     0.41            0.27   \n",
       "RandomForestClassifier Constant                     0.44            0.34   \n",
       "                       QuasiConstant                0.42            0.34   \n",
       "                       Duplicated                   0.43            0.39   \n",
       "                       Dupl&QConstant               0.48            0.38   \n",
       "                       Correlated                   0.49            0.34   \n",
       "                       Clean                        0.41            0.38   \n",
       "                       Clean1                       0.51            0.41   \n",
       "XGBClassifier          Clean1                       0.27            0.32   \n",
       "\n",
       "                                      f1_weighted roc_auc_ovr_weighted  \\\n",
       "Model                  Dataset                                           \n",
       "RandomForestClassifier Original               0.4                  NaN   \n",
       "XGBClassifier          Original              0.29                  NaN   \n",
       "RandomForestClassifier Constant               0.3                  NaN   \n",
       "                       QuasiConstant          0.3                  NaN   \n",
       "                       Duplicated            0.35                  NaN   \n",
       "                       Dupl&QConstant        0.37                  NaN   \n",
       "                       Correlated            0.39                  NaN   \n",
       "                       Clean                 0.37                  NaN   \n",
       "                       Clean1                0.41                  NaN   \n",
       "XGBClassifier          Clean1                0.27                  NaN   \n",
       "\n",
       "                                      roc_auc_ovo_weighted  \n",
       "Model                  Dataset                              \n",
       "RandomForestClassifier Original                        NaN  \n",
       "XGBClassifier          Original                        NaN  \n",
       "RandomForestClassifier Constant                        NaN  \n",
       "                       QuasiConstant                   NaN  \n",
       "                       Duplicated                      NaN  \n",
       "                       Dupl&QConstant                  NaN  \n",
       "                       Correlated                      NaN  \n",
       "                       Clean                           NaN  \n",
       "                       Clean1                          NaN  \n",
       "XGBClassifier          Clean1                          NaN  "
      ]
     },
     "execution_count": 35,
     "metadata": {},
     "output_type": "execute_result"
    }
   ],
   "source": [
    "features_df.drop(['Model_Details','Features_List','Removed_Features'],axis=1)"
   ]
  },
  {
   "cell_type": "markdown",
   "metadata": {},
   "source": [
    "**"
   ]
  },
  {
   "cell_type": "code",
   "execution_count": 36,
   "metadata": {},
   "outputs": [
    {
     "data": {
      "text/plain": [
       "<sklearn.metrics._plot.confusion_matrix.ConfusionMatrixDisplay at 0x2191e510940>"
      ]
     },
     "execution_count": 36,
     "metadata": {},
     "output_type": "execute_result"
    },
    {
     "data": {
      "image/png": "[encoded data removed]",
      "text/plain": [
       "<Figure size 432x288 with 2 Axes>"
      ]
     },
     "metadata": {
      "needs_background": "light"
     },
     "output_type": "display_data"
    }
   ],
   "source": [
    "rf = RandomForestClassifier(n_estimators=100, max_depth=2, n_jobs=-1)\n",
    "rf.fit(X_train_dict['Clean1'], y_train.Labels)\n",
    "plot_confusion_matrix(rf, X_test_dict['Clean1'], y_test.Labels)"
   ]
  },
  {
   "cell_type": "code",
   "execution_count": 37,
   "metadata": {},
   "outputs": [
    {
     "data": {
      "text/plain": [
       "XGBClassifier(base_score=0.5, booster='gbtree', colsample_bylevel=1,\n",
       "              colsample_bynode=1, colsample_bytree=1, enable_categorical=False,\n",
       "              eval_metric='mlogloss', gamma=0, gpu_id=-1, importance_type=None,\n",
       "              interaction_constraints='', learning_rate=0.300000012,\n",
       "              max_delta_step=0, max_depth=3, min_child_weight=1, missing=nan,\n",
       "              monotone_constraints='()', n_estimators=200, n_jobs=-1,\n",
       "              num_parallel_tree=1, objective='multi:softprob', predictor='auto',\n",
       "              random_state=0, reg_alpha=0, reg_lambda=1, scale_pos_weight=None,\n",
       "              subsample=1, tree_method='exact', validate_parameters=1,\n",
       "              verbosity=None)"
      ]
     },
     "execution_count": 37,
     "metadata": {},
     "output_type": "execute_result"
    }
   ],
   "source": [
    "# Fitting the model here since it takes > 1 min\n",
    "rf = RandomForestClassifier(n_estimators=200, max_depth=3, n_jobs=-1)\n",
    "xgb = XGBClassifier(n_estimators=200, max_depth=3, n_jobs=-1,eval_metric='mlogloss')\n",
    "lab = Response.Labels.unique()\n",
    "lab.sort()\n",
    "xgb.fit(X_train_dict['Clean1'], y_train.Labels)"
   ]
  },
  {
   "cell_type": "code",
   "execution_count": 38,
   "metadata": {},
   "outputs": [
    {
     "data": {
      "text/plain": [
       "(0.4053294748974423, 0.3981981981981982, 0.3969526028621697, None)"
      ]
     },
     "execution_count": 38,
     "metadata": {},
     "output_type": "execute_result"
    }
   ],
   "source": [
    "\n",
    "y_pred = xgb.predict(X_test_dict['Clean1'])\n",
    "df1 = pd.DataFrame(np.transpose(precision_recall_fscore_support(y_test.Labels, y_pred, average=None)),columns=['precision', 'recall', 'fscore', 'support'], index=lab)\n",
    "# df1 = pd.DataFrame(np.transpose(precision_recall_fscore_support(y_test.Labels, y_pred, average='macro')),index = ['precision', 'recall', 'fscore', 'support'])\n",
    "df1\n",
    "\n",
    "precision_recall_fscore_support(y_test.Labels, y_pred, average='weighted')\n",
    "\n"
   ]
  },
  {
   "cell_type": "markdown",
   "metadata": {},
   "source": [
    "### \n",
    "    1. Recall/Sensitivity/TPR: tp / (tp + fn) - **%age of a TRUE/Positives class correctly identified/ ability to find all the positive samples**\n",
    "    2. Specificity (TNR) is tn / (tn + fp) - %age of a FALSE/Negatives class correctly identified\n",
    "    3. False Positive Rate (FPR) = 1 - Specificity or fp / (tn + fp)\n",
    "    4. Accuracy is TP/ entire matrix sum ???\n",
    "    5. Precision is tp / (tp + fp) - the ability not to label a negative sample as positive.\n",
    "    6. Support is the number of occurrences of each class  - sum of respective row\n",
    "    7. Macro - unweighted mean. This does not take label imbalance into account.\n",
    "    8. Wt_Avg - average weighted by support\n",
    "\n",
    "**True/False (Positives/Negatives) means if a sample belongs/doesn't belong to a class**\n"
   ]
  },
  {
   "cell_type": "code",
   "execution_count": 39,
   "metadata": {},
   "outputs": [
    {
     "data": {
      "text/html": [
       "<style type=\"text/css\">\n",
       "#T_58756_row0_col0 {\n",
       "  color: green;\n",
       "}\n",
       "#T_58756_row0_col1, #T_58756_row0_col2, #T_58756_row0_col3, #T_58756_row0_col4 {\n",
       "  color: blue;\n",
       "}\n",
       "#T_58756_row1_col0, #T_58756_row2_col0, #T_58756_row3_col0, #T_58756_row4_col0 {\n",
       "  color: orange;\n",
       "}\n",
       "#T_58756_row1_col1, #T_58756_row1_col2, #T_58756_row1_col3, #T_58756_row1_col4, #T_58756_row2_col1, #T_58756_row2_col2, #T_58756_row2_col3, #T_58756_row2_col4, #T_58756_row3_col1, #T_58756_row3_col2, #T_58756_row3_col3, #T_58756_row3_col4, #T_58756_row4_col1, #T_58756_row4_col2, #T_58756_row4_col3, #T_58756_row4_col4 {\n",
       "  color: red;\n",
       "}\n",
       "</style>\n",
       "<table id=\"T_58756\">\n",
       "  <thead>\n",
       "    <tr>\n",
       "      <th class=\"blank\" >&nbsp;</th>\n",
       "      <th class=\"blank level0\" >&nbsp;</th>\n",
       "      <th id=\"T_58756_level0_col0\" class=\"col_heading level0 col0\" colspan=\"5\">Prediction</th>\n",
       "    </tr>\n",
       "    <tr>\n",
       "      <th class=\"blank\" >&nbsp;</th>\n",
       "      <th class=\"blank level1\" >&nbsp;</th>\n",
       "      <th id=\"T_58756_level1_col0\" class=\"col_heading level1 col0\" >-2</th>\n",
       "      <th id=\"T_58756_level1_col1\" class=\"col_heading level1 col1\" >-1</th>\n",
       "      <th id=\"T_58756_level1_col2\" class=\"col_heading level1 col2\" >0</th>\n",
       "      <th id=\"T_58756_level1_col3\" class=\"col_heading level1 col3\" >1</th>\n",
       "      <th id=\"T_58756_level1_col4\" class=\"col_heading level1 col4\" >2</th>\n",
       "    </tr>\n",
       "  </thead>\n",
       "  <tbody>\n",
       "    <tr>\n",
       "      <th id=\"T_58756_level0_row0\" class=\"row_heading level0 row0\" rowspan=\"5\">Actual</th>\n",
       "      <th id=\"T_58756_level1_row0\" class=\"row_heading level1 row0\" >-2</th>\n",
       "      <td id=\"T_58756_row0_col0\" class=\"data row0 col0\" >True Positive</td>\n",
       "      <td id=\"T_58756_row0_col1\" class=\"data row0 col1\" >False Negative</td>\n",
       "      <td id=\"T_58756_row0_col2\" class=\"data row0 col2\" >False Negative</td>\n",
       "      <td id=\"T_58756_row0_col3\" class=\"data row0 col3\" >False Negative</td>\n",
       "      <td id=\"T_58756_row0_col4\" class=\"data row0 col4\" >False Negative</td>\n",
       "    </tr>\n",
       "    <tr>\n",
       "      <th id=\"T_58756_level1_row1\" class=\"row_heading level1 row1\" >-1</th>\n",
       "      <td id=\"T_58756_row1_col0\" class=\"data row1 col0\" >False Positive</td>\n",
       "      <td id=\"T_58756_row1_col1\" class=\"data row1 col1\" >True Negative</td>\n",
       "      <td id=\"T_58756_row1_col2\" class=\"data row1 col2\" >True Negative</td>\n",
       "      <td id=\"T_58756_row1_col3\" class=\"data row1 col3\" >True Negative</td>\n",
       "      <td id=\"T_58756_row1_col4\" class=\"data row1 col4\" >True Negative</td>\n",
       "    </tr>\n",
       "    <tr>\n",
       "      <th id=\"T_58756_level1_row2\" class=\"row_heading level1 row2\" >0</th>\n",
       "      <td id=\"T_58756_row2_col0\" class=\"data row2 col0\" >False Positive</td>\n",
       "      <td id=\"T_58756_row2_col1\" class=\"data row2 col1\" >True Negative</td>\n",
       "      <td id=\"T_58756_row2_col2\" class=\"data row2 col2\" >True Negative</td>\n",
       "      <td id=\"T_58756_row2_col3\" class=\"data row2 col3\" >True Negative</td>\n",
       "      <td id=\"T_58756_row2_col4\" class=\"data row2 col4\" >True Negative</td>\n",
       "    </tr>\n",
       "    <tr>\n",
       "      <th id=\"T_58756_level1_row3\" class=\"row_heading level1 row3\" >1</th>\n",
       "      <td id=\"T_58756_row3_col0\" class=\"data row3 col0\" >False Positive</td>\n",
       "      <td id=\"T_58756_row3_col1\" class=\"data row3 col1\" >True Negative</td>\n",
       "      <td id=\"T_58756_row3_col2\" class=\"data row3 col2\" >True Negative</td>\n",
       "      <td id=\"T_58756_row3_col3\" class=\"data row3 col3\" >True Negative</td>\n",
       "      <td id=\"T_58756_row3_col4\" class=\"data row3 col4\" >True Negative</td>\n",
       "    </tr>\n",
       "    <tr>\n",
       "      <th id=\"T_58756_level1_row4\" class=\"row_heading level1 row4\" >2</th>\n",
       "      <td id=\"T_58756_row4_col0\" class=\"data row4 col0\" >False Positive</td>\n",
       "      <td id=\"T_58756_row4_col1\" class=\"data row4 col1\" >True Negative</td>\n",
       "      <td id=\"T_58756_row4_col2\" class=\"data row4 col2\" >True Negative</td>\n",
       "      <td id=\"T_58756_row4_col3\" class=\"data row4 col3\" >True Negative</td>\n",
       "      <td id=\"T_58756_row4_col4\" class=\"data row4 col4\" >True Negative</td>\n",
       "    </tr>\n",
       "  </tbody>\n",
       "</table>\n"
      ],
      "text/plain": [
       "<pandas.io.formats.style.Styler at 0x21926f98130>"
      ]
     },
     "execution_count": 39,
     "metadata": {},
     "output_type": "execute_result"
    }
   ],
   "source": [
    "generate_sample_confusion_matrix(-2)"
   ]
  },
  {
   "cell_type": "code",
   "execution_count": 72,
   "metadata": {},
   "outputs": [
    {
     "data": {
      "text/plain": [
       "array([-2, -2, -2, -2, -2, -2,  2, -2,  2, -2,  2, -2,  2,  2,  2,  2,  2,\n",
       "        2,  2, -2, -2, -2, -2, -2, -2,  2, -2, -2, -2,  2, -2,  2,  2,  2,\n",
       "        2,  2,  2,  2, -2,  2, -2, -2, -2, -2,  2,  2, -2,  2, -2,  2, -2,\n",
       "       -2, -2,  2,  2,  2,  2,  2,  2,  2, -2, -2,  2, -2, -2, -2, -2, -2,\n",
       "       -2, -2, -2, -2,  2,  2,  2, -2,  2, -2, -2, -2, -2, -2,  2, -2, -2,\n",
       "        2,  2, -2, -2,  2,  2,  2,  2,  2,  2,  2,  2,  2,  2,  2,  2,  2,\n",
       "        2,  2,  2,  2,  2,  2,  2,  2,  2,  2,  2,  2,  2,  2,  2, -2, -2,\n",
       "       -2, -2, -2, -2, -2, -2,  2,  2,  2,  2,  2,  2,  2,  2,  2, -2, -2,\n",
       "       -2, -2, -2, -2,  2, -2, -2,  2, -2, -2, -2, -2, -2, -2,  2,  2, -2,\n",
       "       -2,  2,  2,  2,  2, -2, -2,  2,  2,  2,  2,  2, -2, -2, -2, -2, -2,\n",
       "       -2, -2, -2, -2, -2,  2,  2,  2, -2,  2, -2,  2, -2, -2, -2, -2, -2,\n",
       "       -2, -2,  2,  2, -2,  2, -2, -2, -2,  2, -2,  2, -2,  2,  2, -2, -2,\n",
       "        2,  2,  2, -2,  2,  2,  2, -2, -2, -2,  2, -2, -2, -2, -2,  2,  2,\n",
       "        2,  2, -2, -2,  2,  2,  2,  2,  2,  2, -2,  2,  2,  2,  2,  2,  2,\n",
       "        2, -2,  2,  2,  2, -2,  2,  2,  2,  2,  2, -2, -2, -2, -2,  2,  2,\n",
       "        2,  2,  2,  2,  2,  2,  2, -2, -2, -2, -2, -2, -2, -2, -2, -2, -2,\n",
       "       -2, -2, -2, -2, -2, -2, -2, -2,  2,  2,  2, -2, -2, -2, -2, -2, -2,\n",
       "       -2, -2, -2, -2,  2,  2, -2, -2, -2, -2,  2, -2,  2,  2, -2,  2,  2,\n",
       "        2,  2,  2,  2,  2,  2, -2,  2,  2, -2, -2, -2,  2, -2, -2, -2, -2,\n",
       "       -2,  2,  2,  2, -2,  2, -2,  2,  2,  2, -2,  2, -2, -2,  2,  2,  2,\n",
       "        2,  2, -2, -2, -2,  2, -2, -2, -2,  2,  2, -2,  2,  2,  2,  2, -2,\n",
       "       -2,  2, -2,  2,  2, -2,  2, -2, -2, -2, -2, -2, -2, -2, -2,  2, -2,\n",
       "       -2, -2, -2, -2, -2,  2,  2,  2, -2, -2,  2, -2, -2, -2, -2,  2, -2,\n",
       "       -2,  2, -2,  2,  2,  2, -2,  2,  2,  2,  2, -2,  2,  2,  2,  2, -2,\n",
       "       -2, -2,  2,  2,  2, -2,  2,  2, -2,  2,  2,  2, -2, -2,  2,  2,  2,\n",
       "        2,  2,  2,  2, -2, -2, -2,  2,  2,  2,  2,  2,  2,  2,  2,  2,  2,\n",
       "       -2, -2, -2,  2,  2, -2,  2, -2,  2,  2,  2,  2, -2,  2,  2,  2,  2,\n",
       "        2,  2,  2,  2,  2, -2, -2, -2, -2, -2, -2,  2,  2,  2, -2, -2, -2,\n",
       "       -2, -2, -2, -2, -2,  2, -2, -2,  2, -2, -2, -2, -2,  2,  2,  2,  2,\n",
       "       -2,  2,  2, -2, -2, -2, -2, -2, -2, -2, -2, -2, -2, -2,  2, -2,  2,\n",
       "        2,  2,  2,  2,  2,  2,  2,  2,  2, -2, -2, -2, -2, -2, -2, -2, -2,\n",
       "       -2, -2, -2, -2,  2, -2, -2, -2, -2, -2, -2, -2, -2, -2, -2, -2, -2,\n",
       "       -2, -2,  2,  2,  2, -2, -2, -2, -2, -2, -2])"
      ]
     },
     "execution_count": 72,
     "metadata": {},
     "output_type": "execute_result"
    }
   ],
   "source": [
    "\n",
    "from sklearn.model_selection import cross_val_predict\n",
    "\n",
    "\n",
    "model = models[0]\n",
    "model.fit(X_train_dict['Clean1'], y_train.Labels)\n",
    "y_pred = model.predict(X_test_dict['Clean1'])\n",
    "\n",
    "# y_pred = cross_val_score(model, X_train_dict['Clean1'], y_train.Labels, cv=5)\n",
    "y_pred\n"
   ]
  },
  {
   "cell_type": "code",
   "execution_count": 73,
   "metadata": {},
   "outputs": [
    {
     "data": {
      "text/plain": [
       "(555,)"
      ]
     },
     "execution_count": 73,
     "metadata": {},
     "output_type": "execute_result"
    }
   ],
   "source": [
    "y_pred.shape"
   ]
  },
  {
   "cell_type": "code",
   "execution_count": 74,
   "metadata": {},
   "outputs": [
    {
     "data": {
      "text/plain": [
       "(2216,)"
      ]
     },
     "execution_count": 74,
     "metadata": {},
     "output_type": "execute_result"
    }
   ],
   "source": [
    "y_train.Labels.shape"
   ]
  },
  {
   "cell_type": "code",
   "execution_count": 42,
   "metadata": {},
   "outputs": [],
   "source": [
    "# Fitting the model here since takes ~ 1.30 minute\n",
    "# model = models[1]\n",
    "# model.fit(X_train_dict['Clean1'], y_train.Labels)\n",
    "# y_pred = model.predict(X_test_dict['Clean1'])"
   ]
  },
  {
   "cell_type": "code",
   "execution_count": 75,
   "metadata": {},
   "outputs": [
    {
     "data": {
      "text/html": [
       "<div>\n",
       "<style scoped>\n",
       "    .dataframe tbody tr th:only-of-type {\n",
       "        vertical-align: middle;\n",
       "    }\n",
       "\n",
       "    .dataframe tbody tr th {\n",
       "        vertical-align: top;\n",
       "    }\n",
       "\n",
       "    .dataframe thead th {\n",
       "        text-align: right;\n",
       "    }\n",
       "</style>\n",
       "<table border=\"1\" class=\"dataframe\">\n",
       "  <thead>\n",
       "    <tr style=\"text-align: right;\">\n",
       "      <th></th>\n",
       "      <th>precision</th>\n",
       "      <th>recall</th>\n",
       "      <th>fscore</th>\n",
       "      <th>specificity</th>\n",
       "      <th>fpr</th>\n",
       "      <th>accuracy</th>\n",
       "      <th>tp</th>\n",
       "      <th>tn</th>\n",
       "      <th>fp</th>\n",
       "      <th>fn</th>\n",
       "      <th>support</th>\n",
       "    </tr>\n",
       "  </thead>\n",
       "  <tbody>\n",
       "    <tr>\n",
       "      <th>-2</th>\n",
       "      <td>44%</td>\n",
       "      <td>65%</td>\n",
       "      <td>52%</td>\n",
       "      <td>56%</td>\n",
       "      <td>44%</td>\n",
       "      <td>23%</td>\n",
       "      <td>125.0</td>\n",
       "      <td>202.0</td>\n",
       "      <td>160.0</td>\n",
       "      <td>68.0</td>\n",
       "      <td>193.0</td>\n",
       "    </tr>\n",
       "    <tr>\n",
       "      <th>-1</th>\n",
       "      <td>0%</td>\n",
       "      <td>0%</td>\n",
       "      <td>0%</td>\n",
       "      <td>100%</td>\n",
       "      <td>0%</td>\n",
       "      <td>0%</td>\n",
       "      <td>0.0</td>\n",
       "      <td>496.0</td>\n",
       "      <td>0.0</td>\n",
       "      <td>59.0</td>\n",
       "      <td>59.0</td>\n",
       "    </tr>\n",
       "    <tr>\n",
       "      <th>0</th>\n",
       "      <td>0%</td>\n",
       "      <td>0%</td>\n",
       "      <td>0%</td>\n",
       "      <td>100%</td>\n",
       "      <td>0%</td>\n",
       "      <td>0%</td>\n",
       "      <td>0.0</td>\n",
       "      <td>516.0</td>\n",
       "      <td>0.0</td>\n",
       "      <td>39.0</td>\n",
       "      <td>39.0</td>\n",
       "    </tr>\n",
       "    <tr>\n",
       "      <th>1</th>\n",
       "      <td>0%</td>\n",
       "      <td>0%</td>\n",
       "      <td>0%</td>\n",
       "      <td>100%</td>\n",
       "      <td>0%</td>\n",
       "      <td>0%</td>\n",
       "      <td>0.0</td>\n",
       "      <td>495.0</td>\n",
       "      <td>0.0</td>\n",
       "      <td>60.0</td>\n",
       "      <td>60.0</td>\n",
       "    </tr>\n",
       "    <tr>\n",
       "      <th>2</th>\n",
       "      <td>47%</td>\n",
       "      <td>62%</td>\n",
       "      <td>54%</td>\n",
       "      <td>59%</td>\n",
       "      <td>41%</td>\n",
       "      <td>23%</td>\n",
       "      <td>127.0</td>\n",
       "      <td>208.0</td>\n",
       "      <td>143.0</td>\n",
       "      <td>77.0</td>\n",
       "      <td>204.0</td>\n",
       "    </tr>\n",
       "    <tr>\n",
       "      <th>macro</th>\n",
       "      <td>18%</td>\n",
       "      <td>25%</td>\n",
       "      <td>21%</td>\n",
       "      <td>83%</td>\n",
       "      <td>17%</td>\n",
       "      <td>9%</td>\n",
       "      <td>50.4</td>\n",
       "      <td>383.4</td>\n",
       "      <td>60.6</td>\n",
       "      <td>60.6</td>\n",
       "      <td>111.0</td>\n",
       "    </tr>\n",
       "    <tr>\n",
       "      <th>Wt_Avg</th>\n",
       "      <td>30%</td>\n",
       "      <td>42%</td>\n",
       "      <td>35%</td>\n",
       "      <td>72%</td>\n",
       "      <td>28%</td>\n",
       "      <td>15%</td>\n",
       "      <td>NaN</td>\n",
       "      <td>NaN</td>\n",
       "      <td>NaN</td>\n",
       "      <td>NaN</td>\n",
       "      <td>NaN</td>\n",
       "    </tr>\n",
       "  </tbody>\n",
       "</table>\n",
       "</div>"
      ],
      "text/plain": [
       "       precision recall fscore specificity  fpr accuracy     tp     tn     fp  \\\n",
       "-2           44%    65%    52%         56%  44%      23%  125.0  202.0  160.0   \n",
       "-1            0%     0%     0%        100%   0%       0%    0.0  496.0    0.0   \n",
       "0             0%     0%     0%        100%   0%       0%    0.0  516.0    0.0   \n",
       "1             0%     0%     0%        100%   0%       0%    0.0  495.0    0.0   \n",
       "2            47%    62%    54%         59%  41%      23%  127.0  208.0  143.0   \n",
       "macro        18%    25%    21%         83%  17%       9%   50.4  383.4   60.6   \n",
       "Wt_Avg       30%    42%    35%         72%  28%      15%    NaN    NaN    NaN   \n",
       "\n",
       "          fn  support  \n",
       "-2      68.0    193.0  \n",
       "-1      59.0     59.0  \n",
       "0       39.0     39.0  \n",
       "1       60.0     60.0  \n",
       "2       77.0    204.0  \n",
       "macro   60.6    111.0  \n",
       "Wt_Avg   NaN      NaN  "
      ]
     },
     "execution_count": 75,
     "metadata": {},
     "output_type": "execute_result"
    }
   ],
   "source": [
    "\n",
    "lab = Response.Labels.unique()\n",
    "lab.sort()\n",
    "\n",
    "cm = pd.DataFrame(confusion_matrix(y_test.Labels, y_pred))\n",
    "cm.index = lab\n",
    "cm.columns = lab\n",
    "df = pd.DataFrame()\n",
    "pre = {}\n",
    "rec = {}\n",
    "tp = {}\n",
    "tn = {}\n",
    "fp = {}\n",
    "fn = {}\n",
    "weighted_average = {}\n",
    "for cat in lab:\n",
    "    pre[cat] = np.nan_to_num(cm.loc[cat,cat]/cm.sum(axis=0).loc[cat], nan=0.0, posinf=0.0, neginf=0.0)\n",
    "    rec[cat] = np.nan_to_num(cm.loc[cat,cat]/cm.sum(axis=1).loc[cat], nan=0.0, posinf=0.0, neginf=0.0)\n",
    "    tp[cat] = cm.loc[cat, cat]\n",
    "    tn[cat] = cm.drop(cat,axis=1).drop(cat,axis=0).sum().sum()\n",
    "    fp[cat] = cm[cat].drop(cat).sum()\n",
    "    fn[cat] = cm.loc[cat].drop(cat).sum()\n",
    "\n",
    "df = pd.concat([pd.DataFrame.from_dict(pre,orient='index', columns=['precision']),pd.DataFrame.from_dict(rec,orient='index', columns=['recall'])], axis=1)\n",
    "df['fscore'] = (2 * (df.precision * df.recall) / (df.precision + df.recall)).fillna(0)\n",
    "df['tp'] = pd.Series(tp)\n",
    "df['tn'] = pd.Series(tn)\n",
    "df['fp'] = pd.Series(fp)\n",
    "df['fn'] = pd.Series(fn)\n",
    "\n",
    "df['specificity'] =  pd.Series(df.tn / (df.tn + df.fp))\n",
    "df['fpr'] = pd.Series(df.fp / (df.tn + df.fp))\n",
    "df['accuracy'] = (df.tp) / (df.tp + df.tn + df.fp + df.fn)\n",
    "df['support'] = cm.sum(axis=1)\n",
    "\n",
    "main_metrics_list = ['precision', 'recall', 'fscore', 'specificity','fpr', 'accuracy']\n",
    "df_perc = df[main_metrics_list]\n",
    "df = pd.concat([df_perc,df.tp,df.tn,df.fp,df.fn,df.support], axis=1)\n",
    "\n",
    "df.loc['macro'] = df.mean()\n",
    "\n",
    "# Weighted average\n",
    "for cols in df.columns:\n",
    "    if cols in main_metrics_list:\n",
    "        weighted_average[cols] = df[cols].dot(df.support)/df.support.sum()\n",
    "    else:\n",
    "        weighted_average[cols] = None\n",
    "\n",
    "weight_df = pd.DataFrame.from_dict(weighted_average,orient='index', columns=['Wt_Avg']).T\n",
    "df = pd.concat([df, weight_df], axis=0)\n",
    "\n",
    "# % Formatting\n",
    "for col in main_metrics_list:\n",
    "    try:\n",
    "        df[col] = df[col].mul(100).round(0).astype(int).astype(str).add('%')\n",
    "    except:\n",
    "        pass\n",
    "\n",
    "df"
   ]
  },
  {
   "cell_type": "code",
   "execution_count": 44,
   "metadata": {},
   "outputs": [
    {
     "data": {
      "text/html": [
       "<div>\n",
       "<style scoped>\n",
       "    .dataframe tbody tr th:only-of-type {\n",
       "        vertical-align: middle;\n",
       "    }\n",
       "\n",
       "    .dataframe tbody tr th {\n",
       "        vertical-align: top;\n",
       "    }\n",
       "\n",
       "    .dataframe thead th {\n",
       "        text-align: right;\n",
       "    }\n",
       "</style>\n",
       "<table border=\"1\" class=\"dataframe\">\n",
       "  <thead>\n",
       "    <tr style=\"text-align: right;\">\n",
       "      <th></th>\n",
       "      <th></th>\n",
       "      <th>Num_Features</th>\n",
       "      <th>balanced_accuracy</th>\n",
       "      <th>precision_weighted</th>\n",
       "      <th>recall_weighted</th>\n",
       "      <th>f1_weighted</th>\n",
       "      <th>roc_auc_ovr_weighted</th>\n",
       "      <th>roc_auc_ovo_weighted</th>\n",
       "    </tr>\n",
       "    <tr>\n",
       "      <th>Model</th>\n",
       "      <th>Dataset</th>\n",
       "      <th></th>\n",
       "      <th></th>\n",
       "      <th></th>\n",
       "      <th></th>\n",
       "      <th></th>\n",
       "      <th></th>\n",
       "      <th></th>\n",
       "    </tr>\n",
       "  </thead>\n",
       "  <tbody>\n",
       "    <tr>\n",
       "      <th>RandomForestClassifier</th>\n",
       "      <th>Original</th>\n",
       "      <td>762</td>\n",
       "      <td>0.25</td>\n",
       "      <td>0.43</td>\n",
       "      <td>0.3</td>\n",
       "      <td>0.4</td>\n",
       "      <td>NaN</td>\n",
       "      <td>NaN</td>\n",
       "    </tr>\n",
       "    <tr>\n",
       "      <th>XGBClassifier</th>\n",
       "      <th>Original</th>\n",
       "      <td>762</td>\n",
       "      <td>0.25</td>\n",
       "      <td>0.41</td>\n",
       "      <td>0.27</td>\n",
       "      <td>0.29</td>\n",
       "      <td>NaN</td>\n",
       "      <td>NaN</td>\n",
       "    </tr>\n",
       "    <tr>\n",
       "      <th rowspan=\"7\" valign=\"top\">RandomForestClassifier</th>\n",
       "      <th>Constant</th>\n",
       "      <td>716</td>\n",
       "      <td>0.21</td>\n",
       "      <td>0.44</td>\n",
       "      <td>0.34</td>\n",
       "      <td>0.3</td>\n",
       "      <td>NaN</td>\n",
       "      <td>NaN</td>\n",
       "    </tr>\n",
       "    <tr>\n",
       "      <th>QuasiConstant</th>\n",
       "      <td>705</td>\n",
       "      <td>0.24</td>\n",
       "      <td>0.42</td>\n",
       "      <td>0.34</td>\n",
       "      <td>0.3</td>\n",
       "      <td>NaN</td>\n",
       "      <td>NaN</td>\n",
       "    </tr>\n",
       "    <tr>\n",
       "      <th>Duplicated</th>\n",
       "      <td>677</td>\n",
       "      <td>0.21</td>\n",
       "      <td>0.43</td>\n",
       "      <td>0.39</td>\n",
       "      <td>0.35</td>\n",
       "      <td>NaN</td>\n",
       "      <td>NaN</td>\n",
       "    </tr>\n",
       "    <tr>\n",
       "      <th>Dupl&amp;QConstant</th>\n",
       "      <td>657</td>\n",
       "      <td>0.26</td>\n",
       "      <td>0.48</td>\n",
       "      <td>0.38</td>\n",
       "      <td>0.37</td>\n",
       "      <td>NaN</td>\n",
       "      <td>NaN</td>\n",
       "    </tr>\n",
       "    <tr>\n",
       "      <th>Correlated</th>\n",
       "      <td>505</td>\n",
       "      <td>0.19</td>\n",
       "      <td>0.49</td>\n",
       "      <td>0.34</td>\n",
       "      <td>0.39</td>\n",
       "      <td>NaN</td>\n",
       "      <td>NaN</td>\n",
       "    </tr>\n",
       "    <tr>\n",
       "      <th>Clean</th>\n",
       "      <td>451</td>\n",
       "      <td>0.25</td>\n",
       "      <td>0.41</td>\n",
       "      <td>0.38</td>\n",
       "      <td>0.37</td>\n",
       "      <td>NaN</td>\n",
       "      <td>NaN</td>\n",
       "    </tr>\n",
       "    <tr>\n",
       "      <th>Clean1</th>\n",
       "      <td>451</td>\n",
       "      <td>0.22</td>\n",
       "      <td>0.51</td>\n",
       "      <td>0.41</td>\n",
       "      <td>0.41</td>\n",
       "      <td>NaN</td>\n",
       "      <td>NaN</td>\n",
       "    </tr>\n",
       "    <tr>\n",
       "      <th>XGBClassifier</th>\n",
       "      <th>Clean1</th>\n",
       "      <td>451</td>\n",
       "      <td>0.25</td>\n",
       "      <td>0.27</td>\n",
       "      <td>0.32</td>\n",
       "      <td>0.27</td>\n",
       "      <td>NaN</td>\n",
       "      <td>NaN</td>\n",
       "    </tr>\n",
       "  </tbody>\n",
       "</table>\n",
       "</div>"
      ],
      "text/plain": [
       "                                      Num_Features balanced_accuracy  \\\n",
       "Model                  Dataset                                         \n",
       "RandomForestClassifier Original                762              0.25   \n",
       "XGBClassifier          Original                762              0.25   \n",
       "RandomForestClassifier Constant                716              0.21   \n",
       "                       QuasiConstant           705              0.24   \n",
       "                       Duplicated              677              0.21   \n",
       "                       Dupl&QConstant          657              0.26   \n",
       "                       Correlated              505              0.19   \n",
       "                       Clean                   451              0.25   \n",
       "                       Clean1                  451              0.22   \n",
       "XGBClassifier          Clean1                  451              0.25   \n",
       "\n",
       "                                      precision_weighted recall_weighted  \\\n",
       "Model                  Dataset                                             \n",
       "RandomForestClassifier Original                     0.43             0.3   \n",
       "XGBClassifier          Original                     0.41            0.27   \n",
       "RandomForestClassifier Constant                     0.44            0.34   \n",
       "                       QuasiConstant                0.42            0.34   \n",
       "                       Duplicated                   0.43            0.39   \n",
       "                       Dupl&QConstant               0.48            0.38   \n",
       "                       Correlated                   0.49            0.34   \n",
       "                       Clean                        0.41            0.38   \n",
       "                       Clean1                       0.51            0.41   \n",
       "XGBClassifier          Clean1                       0.27            0.32   \n",
       "\n",
       "                                      f1_weighted roc_auc_ovr_weighted  \\\n",
       "Model                  Dataset                                           \n",
       "RandomForestClassifier Original               0.4                  NaN   \n",
       "XGBClassifier          Original              0.29                  NaN   \n",
       "RandomForestClassifier Constant               0.3                  NaN   \n",
       "                       QuasiConstant          0.3                  NaN   \n",
       "                       Duplicated            0.35                  NaN   \n",
       "                       Dupl&QConstant        0.37                  NaN   \n",
       "                       Correlated            0.39                  NaN   \n",
       "                       Clean                 0.37                  NaN   \n",
       "                       Clean1                0.41                  NaN   \n",
       "XGBClassifier          Clean1                0.27                  NaN   \n",
       "\n",
       "                                      roc_auc_ovo_weighted  \n",
       "Model                  Dataset                              \n",
       "RandomForestClassifier Original                        NaN  \n",
       "XGBClassifier          Original                        NaN  \n",
       "RandomForestClassifier Constant                        NaN  \n",
       "                       QuasiConstant                   NaN  \n",
       "                       Duplicated                      NaN  \n",
       "                       Dupl&QConstant                  NaN  \n",
       "                       Correlated                      NaN  \n",
       "                       Clean                           NaN  \n",
       "                       Clean1                          NaN  \n",
       "XGBClassifier          Clean1                          NaN  "
      ]
     },
     "execution_count": 44,
     "metadata": {},
     "output_type": "execute_result"
    }
   ],
   "source": [
    "features_df.drop(['Model_Details','Features_List','Removed_Features'],axis=1)"
   ]
  },
  {
   "cell_type": "code",
   "execution_count": null,
   "metadata": {},
   "outputs": [],
   "source": [
    "precision_recall_fscore_support(y_test.Labels, y_pred, average='macro')"
   ]
  },
  {
   "cell_type": "code",
   "execution_count": null,
   "metadata": {},
   "outputs": [],
   "source": []
  },
  {
   "cell_type": "code",
   "execution_count": null,
   "metadata": {},
   "outputs": [],
   "source": [
    "df.fscore.dot(df.support)/df.support.sum()"
   ]
  },
  {
   "cell_type": "code",
   "execution_count": null,
   "metadata": {},
   "outputs": [],
   "source": [
    "plot_confusion_matrix(model, X_test_dict['Clean1'], y_test.Labels);"
   ]
  },
  {
   "cell_type": "code",
   "execution_count": null,
   "metadata": {},
   "outputs": [],
   "source": [
    "# Insert the dataframe in a cell in features_df\n",
    "features_df['to_delete'] = None\n",
    "features_df['to_delete'].astype(object)\n",
    "features_df.loc[('RandomForestClassifier','Original'),'to_delete'] =  [df]\n",
    "features_df.loc[('RandomForestClassifier','Original'),'to_delete'][0]"
   ]
  },
  {
   "cell_type": "code",
   "execution_count": null,
   "metadata": {},
   "outputs": [],
   "source": []
  },
  {
   "cell_type": "code",
   "execution_count": null,
   "metadata": {},
   "outputs": [],
   "source": [
    "# weighted averaged\n",
    "# for col in df.columns[:-1]:\n",
    "#     print(df[col].values.dot(df.support)/df.support.sum())"
   ]
  },
  {
   "cell_type": "code",
   "execution_count": null,
   "metadata": {},
   "outputs": [],
   "source": [
    "print(classification_report(y_test.Labels, y_pred))"
   ]
  },
  {
   "cell_type": "code",
   "execution_count": null,
   "metadata": {},
   "outputs": [],
   "source": [
    "# xgb = XGBClassifier(n_estimators=200, max_depth=3, n_jobs=-1)\n",
    "# rf.fit(X_train_dict['Clean1'], y_train.Labels, eval_metric='mlogloss')\n",
    "# rf.fit(X_train_dict['Clean1'], y_train.Labels)\n",
    "# plot_confusion_matrix(rf, X_test_dict['Clean1'], y_test.Labels,);"
   ]
  },
  {
   "cell_type": "code",
   "execution_count": null,
   "metadata": {},
   "outputs": [],
   "source": [
    "# import xgboost as xgb\n",
    "# xgb_m = xgb.XGBClassifier(n_estimators=200, max_depth=3, n_jobs=-1)\n",
    "# rf = RandomForestClassifier(n_estimators=200, max_depth=3, n_jobs=-1)\n",
    "\n",
    "# xgb_m.fit(X_train_dict['Clean1'], y_train.Labels)\n",
    "# rf.fit(X_train_dict['Clean1'], y_train.Labels)\n",
    "# y_pred = rf.predict(X_test_dict['Clean1'])\n",
    "\n"
   ]
  },
  {
   "cell_type": "code",
   "execution_count": null,
   "metadata": {},
   "outputs": [],
   "source": [
    "y_val.Labels.value_counts()"
   ]
  },
  {
   "cell_type": "code",
   "execution_count": null,
   "metadata": {},
   "outputs": [],
   "source": [
    "from sklearn.metrics import confusion_matrix\n",
    "confusion_matrix = confusion_matrix(y_test.Labels, y_pred)\n",
    "print(confusion_matrix)\n"
   ]
  },
  {
   "cell_type": "code",
   "execution_count": null,
   "metadata": {},
   "outputs": [],
   "source": [
    "STOP HERE"
   ]
  },
  {
   "cell_type": "markdown",
   "metadata": {},
   "source": [
    "****TO USE***"
   ]
  },
  {
   "cell_type": "code",
   "execution_count": null,
   "metadata": {},
   "outputs": [],
   "source": [
    "fpr_, fnr_, thresholds_ = det_curve(y_test.Close_Up_Down, y_pred)\n",
    "model.fit(X_train_dict['Original'], y_train.Close_Up_Down)\n",
    "y_prob = model.predict_proba(X_test_dict['Original'])\n",
    "y_pred = model.predict(X_test_dict['Original'])\n",
    "\n",
    "y_pred = (clf.predict_proba(X_test_dict['Original'])[:,1] >= p).astype(bool) # set threshold as 0.3\n",
    "fpr, tpr, threshold = roc_curve(y_test.Close_Up_Down, y_pred,)\n",
    "\n",
    "\n",
    "model = RandomForestClassifier(n_estimators=100, max_depth=2, n_jobs=-1)\n",
    "model.fit(X_train_dict['Clean'], y_train.Close_Up_Down)\n",
    "y_pred = model.predict(X_test_dict['Clean'])\n",
    "confusion_matrix(y_test.Close_Up_Down, y_pred)\n",
    "plot_confusion_matrix(clf, X_test_dict['Clean'], y_test.Close_Up_Down,);\n",
    "clsf_report = classification_report(y_test.Close_Up_Down, y_pred, output_dict=True)\n",
    "pd.DataFrame(clsf_report)"
   ]
  },
  {
   "cell_type": "code",
   "execution_count": null,
   "metadata": {},
   "outputs": [],
   "source": []
  },
  {
   "cell_type": "code",
   "execution_count": null,
   "metadata": {},
   "outputs": [],
   "source": []
  },
  {
   "cell_type": "code",
   "execution_count": null,
   "metadata": {},
   "outputs": [],
   "source": []
  },
  {
   "cell_type": "code",
   "execution_count": null,
   "metadata": {},
   "outputs": [],
   "source": []
  },
  {
   "cell_type": "markdown",
   "metadata": {},
   "source": [
    "### Univariate Selection Methods - Mostly just examine linear relationships"
   ]
  },
  {
   "cell_type": "markdown",
   "metadata": {},
   "source": [
    "#### Mutual Information"
   ]
  },
  {
   "cell_type": "code",
   "execution_count": null,
   "metadata": {},
   "outputs": [],
   "source": [
    "mi = mutual_info_classif(X_train, y_train)\n",
    "mi = pd.Series(mi)\n",
    "mi.index = X_train.columns\n",
    "mi.sort_values(ascending=False, inplace = True)\n",
    "\n",
    "# Plot\n",
    "# mi.plot.bar(figsize=(20, 6))\n",
    "# plt.ylabel('Mutual Information')\n",
    "\n",
    "# select features\n",
    "sel_ = SelectKBest(mutual_info_classif, k=15).fit(X_train, y_train)\n",
    "\n",
    "# display features\n",
    "X_train.columns[sel_.get_support()]"
   ]
  },
  {
   "cell_type": "markdown",
   "metadata": {},
   "source": [
    "#### Chi-square Statistic - only suited for classification!                                         \n",
    "https://www.udemy.com/course/feature-selection-for-machine-learning/learn/lecture/22495182#questions\n",
    "https://github.com/solegalli/feature-selection-for-machine-learning/blob/main/05-Filter-Statistical-Tests/05.2-Fisher-score.ipynb"
   ]
  },
  {
   "cell_type": "code",
   "execution_count": null,
   "metadata": {},
   "outputs": [],
   "source": [
    "# calculate the chi2 p_value between each of the variables and the target\n",
    "# chi2 returns 2 arrays, one contains the F-Scores which are then evaluated against the chi2 distribution to obtain the pvalue. The pvalues are in the second array\n",
    "\n",
    "# Input X must be non-negative\n",
    "X_train_non_negative = X_train[X_train.columns[((X_train < 0).sum(axis=0) == 0).values]]\n",
    "f_score = chi2(X_train_non_negative.fillna(0), y_train)\n",
    "pvalues = pd.Series(f_score[1])\n",
    "pvalues.index = X_train_non_negative.columns\n",
    "pvalues.sort_values(ascending=True, inplace = True)\n",
    "extremely_low_p_values = len(pvalues[pvalues < 1e-100])\n",
    "sel_ = SelectKBest(chi2, k= extremely_low_p_values).fit(X_train_non_negative, y_train)\n",
    "X_train_non_negative.columns[sel_.get_support()] # display features\n",
    "\n",
    "# X_train = sel_.transform(X_train)\n",
    "# X_test = sel_.transform(X_test)"
   ]
  },
  {
   "cell_type": "markdown",
   "metadata": {},
   "source": [
    "#### Anova - tests 2 samples have same mean\n",
    "\n",
    "Assumptions:\n",
    "Sample are independant & normally distributed, homegeneity of variance"
   ]
  },
  {
   "cell_type": "code",
   "execution_count": null,
   "metadata": {},
   "outputs": [],
   "source": [
    "# calculate the univariate statistical measure between each of the variables and the target\n",
    "# similarly to chi2, the output is one array with f-scores and one array with the pvalues\n",
    "\n",
    "univariate = f_classif(X_train, y_train)\n",
    "univariate = pd.Series(univariate[1])\n",
    "univariate.index = X_train.columns\n",
    "univariate.sort_values(ascending=True, inplace = True) # The smaller the p_value the more predictive the feature is\n",
    "\n",
    "pvalue_above_5_percent = len(univariate[univariate < 0.05])\n",
    "sel_ = SelectKBest(f_classif, k=pvalue_above_5_percent).fit(X_train, y_train)\n",
    "features_to_keep = sel_.get_feature_names_out()\n",
    "features_to_keep\n",
    "\n",
    "# select features\n",
    "# X_train_anova = sel_.transform(X_train)\n",
    "# X_test_anova = sel_.transform(X_test)\n",
    "\n",
    "# # numpy array to dataframe\n",
    "# X_train_anova = pd.DataFrame(X_train_anova)\n",
    "# X_train_anova.columns = features_to_keep\n",
    "\n",
    "# X_test_anova = pd.DataFrame(X_test_anova)\n",
    "# X_test_anova.columns = features_to_keep\n",
    "\n",
    "# X_train_anova.shape, X_test_anova.shape\n",
    "\n"
   ]
  },
  {
   "cell_type": "markdown",
   "metadata": {},
   "source": [
    "### Wrapper Methods"
   ]
  },
  {
   "cell_type": "code",
   "execution_count": null,
   "metadata": {},
   "outputs": [],
   "source": []
  },
  {
   "cell_type": "markdown",
   "metadata": {},
   "source": [
    "### Embedded Methods | Tree Importance"
   ]
  },
  {
   "cell_type": "code",
   "execution_count": null,
   "metadata": {},
   "outputs": [],
   "source": [
    "# Selects features whose importance is greater than the threshold. - Thershold is the mean importance of all features\n",
    "sel_ = SelectFromModel(RandomForestClassifier(n_estimators=300,  max_depth=3, n_jobs=-1)).fit(X_train, y_train)\n",
    "selected_features = X_train.columns[sel_.get_support()]\n",
    "print(len(selected_features))\n",
    "TopNFeatures = pd.DataFrame(index = sel_.estimator_.feature_names_in_.tolist(),data = sel_.estimator_.feature_importances_, columns = ['Imp']).sort_values(by='Imp',ascending=False).head(20).index.tolist()\n",
    "pd.Series(sel_.estimator_.feature_importances_.ravel()).hist(bins=20);"
   ]
  },
  {
   "cell_type": "code",
   "execution_count": null,
   "metadata": {},
   "outputs": [],
   "source": [
    "TopNFeatures"
   ]
  },
  {
   "cell_type": "markdown",
   "metadata": {},
   "source": [
    "### Embedded Methods | Tree Importance Recursively"
   ]
  },
  {
   "cell_type": "code",
   "execution_count": null,
   "metadata": {},
   "outputs": [],
   "source": [
    "# Takes 1:44 mins to run\n",
    "sel_ = RFE(RandomForestClassifier(n_estimators=100,  max_depth=3, n_jobs=-1), n_features_to_select=30).fit(X_train, y_train)\n",
    "selected_features = X_train.columns[sel_.get_support()]\n",
    "print(len(selected_features))\n",
    "selected_features\n"
   ]
  },
  {
   "cell_type": "code",
   "execution_count": null,
   "metadata": {},
   "outputs": [],
   "source": [
    "rf = RandomForestClassifier(n_estimators=200, max_depth=3, n_jobs=-1)\n",
    "rf.fit(X_train[selected_features].fillna(0), y_train)\n",
    "y_pred = rf.predict(X_test[selected_features].fillna(0))\n",
    "y_valid_pred = rf.predict(X_val[selected_features].fillna(0))\n",
    "print(\"Test Accuracy:\", accuracy_score(y_test.fillna(0), y_pred))\n",
    "print(\"Validation Accuracy:\", accuracy_score(y_val.fillna(0), y_valid_pred))\n"
   ]
  },
  {
   "cell_type": "code",
   "execution_count": null,
   "metadata": {},
   "outputs": [],
   "source": [
    "print('Train set')\n",
    "pred = rf.predict_proba(X_train[selected_features])\n",
    "print('Random Forests roc-auc: {}'.format(roc_auc_score(y_train, pred[:, 1])))\n",
    "\n",
    "print('Test set')\n",
    "pred = rf.predict_proba(X_test[selected_features])\n",
    "print('Random Forests roc-auc: {}'.format(roc_auc_score(y_test, pred[:, 1])))\n",
    "\n",
    "print('Validation set')\n",
    "pred = rf.predict_proba(X_val[selected_features])\n",
    "print('Random Forests roc-auc: {}'.format(roc_auc_score(y_val, pred[:, 1])))"
   ]
  },
  {
   "cell_type": "markdown",
   "metadata": {},
   "source": [
    "### Feature Selection by Random Shuffling"
   ]
  },
  {
   "cell_type": "code",
   "execution_count": null,
   "metadata": {},
   "outputs": [],
   "source": [
    "# Takes 1 min to run - You can use this procedure with any machine learning algorithm\n",
    "\n",
    "rf = RandomForestClassifier(n_estimators=50, max_depth=2, n_jobs=-1)\n",
    "\n",
    "sel = SelectByShuffling(\n",
    "    variables=None, # automatically examine all numerical variables\n",
    "    estimator=rf, # the ML model\n",
    "    scoring='roc_auc', # the metric to evaluate\n",
    "    threshold=0,# the maximum performance drop allowed to select the feature\n",
    "    cv=btscv, # cross validation\n",
    ")\n",
    "\n",
    "sel.fit(X_train, y_train)\n"
   ]
  },
  {
   "cell_type": "code",
   "execution_count": null,
   "metadata": {},
   "outputs": [],
   "source": [
    "sel.initial_model_performance_ # performance of model trained with all features"
   ]
  },
  {
   "cell_type": "code",
   "execution_count": null,
   "metadata": {},
   "outputs": [],
   "source": [
    "# pd.Series(sel.performance_drifts_).sort_values(ascending=False).plot.bar(figsize=(16,6));"
   ]
  },
  {
   "cell_type": "code",
   "execution_count": null,
   "metadata": {},
   "outputs": [],
   "source": [
    "# features that will be removed\n",
    "\n",
    "print(len(sel.features_to_drop_))\n",
    "# remove features\n",
    "\n",
    "X_train = sel.transform(X_train)\n",
    "X_test = sel.transform(X_test)\n",
    "X_val = sel.transform(X_val)\n",
    "\n",
    "X_train.shape, X_test.shape"
   ]
  },
  {
   "cell_type": "code",
   "execution_count": null,
   "metadata": {},
   "outputs": [],
   "source": [
    "rf.fit(X_train, y_train)\n",
    "print( 'train auc score: ',roc_auc_score(y_train, (rf.predict_proba(X_train))[:,1]))\n",
    "print('test auc score: ', roc_auc_score(y_test, (rf.predict_proba(X_test))[:, 1]))\n",
    "print('Validation auc score: ', roc_auc_score(y_val, (rf.predict_proba(X_val))[:, 1]))"
   ]
  },
  {
   "cell_type": "code",
   "execution_count": null,
   "metadata": {},
   "outputs": [],
   "source": [
    "X_train.columns"
   ]
  },
  {
   "cell_type": "markdown",
   "metadata": {},
   "source": [
    "### Recursive Feature Elimination"
   ]
  },
  {
   "cell_type": "code",
   "execution_count": null,
   "metadata": {},
   "outputs": [],
   "source": [
    "model = GradientBoostingClassifier(\n",
    "    n_estimators=10,\n",
    "    max_depth=2,\n",
    "    random_state=10,\n",
    ")"
   ]
  },
  {
   "cell_type": "code",
   "execution_count": null,
   "metadata": {},
   "outputs": [],
   "source": [
    "# NOT WORKING\n",
    "\n",
    "sel = RecursiveFeatureElimination(\n",
    "    variables=None, # automatically evaluate all numerical variables\n",
    "    estimator = model, # the ML model\n",
    "    scoring = 'roc_auc', # the metric we want to evalute\n",
    "    threshold = 0.0005, # the maximum performance drop allowed to remove a feature\n",
    "    cv=btscv, # cross-validation\n",
    ")\n",
    "\n",
    "# this may take quite a while, because\n",
    "# we are building a lot of models with cross-validation\n",
    "# sel.fit(X_train, y_train)"
   ]
  },
  {
   "cell_type": "code",
   "execution_count": null,
   "metadata": {},
   "outputs": [],
   "source": [
    "sel.initial_model_performance_"
   ]
  },
  {
   "cell_type": "code",
   "execution_count": null,
   "metadata": {},
   "outputs": [],
   "source": [
    "# performance of model trained using all features\n",
    "sel.initial_model_performance_"
   ]
  },
  {
   "cell_type": "code",
   "execution_count": null,
   "metadata": {},
   "outputs": [],
   "source": [
    "# importance of all features based of initial model\n",
    "sel.feature_importances_.plot.bar(figsize=(20,6))\n",
    "plt.xlabel('Features')\n",
    "plt.ylabel('Importance')\n",
    "plt.show()"
   ]
  },
  {
   "cell_type": "code",
   "execution_count": null,
   "metadata": {},
   "outputs": [],
   "source": [
    "pd.Series(sel.performance_drifts_).plot.bar(figsize=(20,6))\n",
    "plt.xlabel('Features')\n",
    "plt.ylabel('Performance change when feature was added')\n",
    "plt.show()"
   ]
  },
  {
   "cell_type": "code",
   "execution_count": null,
   "metadata": {},
   "outputs": [],
   "source": [
    "# Number of features that will be removed\n",
    "\n",
    "len(sel.features_to_drop_)"
   ]
  },
  {
   "cell_type": "code",
   "execution_count": null,
   "metadata": {},
   "outputs": [],
   "source": []
  },
  {
   "cell_type": "code",
   "execution_count": null,
   "metadata": {},
   "outputs": [],
   "source": []
  },
  {
   "cell_type": "markdown",
   "metadata": {},
   "source": [
    "### Random Forest"
   ]
  },
  {
   "cell_type": "code",
   "execution_count": null,
   "metadata": {},
   "outputs": [],
   "source": [
    "features = list(X_train.columns)\n",
    "rf = RandomForestClassifier(n_estimators=200, max_depth=3)\n",
    "rf.fit(X_train[features].fillna(0), y_train)\n",
    "\n",
    "importance = pd.concat([pd.Series(features),pd.Series(rf.feature_importances_)], axis=1)\n",
    "importance.columns = ['feature', 'importance']\n",
    "importance.sort_values(by=['importance'], ascending=False, inplace=True)\n",
    "y_pred = rf.predict(X_test[features].fillna(0))\n",
    "y_valid_pred = rf.predict(X_val[features].fillna(0))\n",
    "\n",
    "print(\"Test Accuracy:\", accuracy_score(y_test.fillna(0), y_pred))\n",
    "print(\"Validation Accuracy:\", accuracy_score(y_val .fillna(0), y_valid_pred))"
   ]
  },
  {
   "cell_type": "markdown",
   "metadata": {},
   "source": [
    "### Compare the performance in machine learning algorithms"
   ]
  },
  {
   "cell_type": "code",
   "execution_count": null,
   "metadata": {},
   "outputs": [],
   "source": [
    "X_train_basic_filter.shape, X_test_basic_filter.shape, X_train.shape, X_test.shape"
   ]
  },
  {
   "cell_type": "code",
   "execution_count": null,
   "metadata": {},
   "outputs": [],
   "source": [
    "\n",
    "def run_randomForests(X_train, X_test, y_train, y_test):\n",
    "\n",
    "    rf = RandomForestClassifier(n_estimators=300,  max_depth=3, n_jobs=-1)\n",
    "    rf.fit(X_train, y_train)\n",
    "\n",
    "    print('Train set')\n",
    "    pred = rf.predict_proba(X_train)\n",
    "    print('Random Forests roc-auc: {}'.format(roc_auc_score(y_train, pred[:, 1])))\n",
    "\n",
    "    print('Test set')\n",
    "    pred = rf.predict_proba(X_test)\n",
    "    print('Random Forests roc-auc: {}'.format(roc_auc_score(y_test, pred[:, 1])))"
   ]
  },
  {
   "cell_type": "code",
   "execution_count": null,
   "metadata": {},
   "outputs": [],
   "source": [
    "# filter methods - basic\n",
    "run_randomForests(X_train_basic_filter,X_test_basic_filter,y_train, y_test)"
   ]
  },
  {
   "cell_type": "code",
   "execution_count": null,
   "metadata": {},
   "outputs": [],
   "source": [
    "# Final model\n",
    "run_randomForests(X_train, X_test, y_train, y_test)"
   ]
  },
  {
   "cell_type": "markdown",
   "metadata": {},
   "source": [
    "### Logistic Regression"
   ]
  },
  {
   "cell_type": "code",
   "execution_count": null,
   "metadata": {},
   "outputs": [],
   "source": [
    "# create a function to build logistic regression and compare performance in train and test set\n",
    "\n",
    "from sklearn.metrics import confusion_matrix\n",
    "\n",
    "def run_logistic(X_train, X_test, y_train, y_test):\n",
    "    \n",
    "    # function to train and test the performance of logistic regression\n",
    "    logit = LogisticRegression(penalty='l1', random_state=44, max_iter=1000, solver='liblinear')\n",
    "    logit.fit(X_train, y_train)\n",
    "    print('Train set')\n",
    "    pred = logit.predict_proba(X_train)\n",
    "    print('Logistic Regression roc-auc: {}'.format(roc_auc_score(y_train, pred[:,1])))\n",
    "    print('Test set')\n",
    "    pred = logit.predict_proba(X_test)\n",
    "    print('Logistic Regression roc-auc: {}'.format(roc_auc_score(y_test, pred[:,1])))\n",
    "\n",
    "scaler = StandardScaler().fit(X_train)\n",
    "\n",
    "run_logistic(scaler.transform(X_train),\n",
    "             scaler.transform(X_test),\n",
    "                  y_train, y_test)"
   ]
  },
  {
   "cell_type": "code",
   "execution_count": null,
   "metadata": {},
   "outputs": [],
   "source": []
  },
  {
   "cell_type": "code",
   "execution_count": null,
   "metadata": {},
   "outputs": [],
   "source": []
  },
  {
   "cell_type": "code",
   "execution_count": null,
   "metadata": {},
   "outputs": [],
   "source": []
  },
  {
   "cell_type": "markdown",
   "metadata": {},
   "source": [
    "### \n",
    "<div style=\"color: DarkBlue; font-size:22px;\" class=\"alert alert-block alert-warning\"> \n",
    "<b>Pipelines:</b> Final Code will look like this but for now work through issues above \n",
    "</div>"
   ]
  },
  {
   "cell_type": "code",
   "execution_count": null,
   "metadata": {},
   "outputs": [],
   "source": [
    "pipe = Pipeline([\n",
    "    ('constant', DropConstantFeatures(tol=1, variables=None, missing_values='raise')),\n",
    "    ('quasiConstant', DropConstantFeatures(tol=0.9, variables=None, missing_values='raise')),\n",
    "    ('duplicated', DropDuplicateFeatures(variables=None, missing_values='raise')),\n",
    "    ('correlation', SmartCorrelatedSelection(variables=None, method=\"spearman\",threshold=0.9,missing_values=\"raise\",selection_method=\"variance\",estimator=rf,scoring=\"roc_auc\",cv=btscv,)),])\n",
    "\n",
    "\n",
    "pipe.fit(X_train)\n",
    "\n",
    "# remove features\n",
    "X_train = pipe.transform(X_train)\n",
    "X_test = pipe.transform(X_test)\n",
    "X_val = pipe.transform(X_val)\n",
    "\n",
    "X_train.shape, X_test.shape, X_val.shape\n"
   ]
  },
  {
   "cell_type": "code",
   "execution_count": null,
   "metadata": {},
   "outputs": [],
   "source": [
    "print(len(pipe.named_steps['constant'].features_to_drop_))\n",
    "pipe.named_steps['duplicated'].features_to_drop_"
   ]
  },
  {
   "cell_type": "code",
   "execution_count": null,
   "metadata": {},
   "outputs": [],
   "source": []
  },
  {
   "cell_type": "code",
   "execution_count": null,
   "metadata": {},
   "outputs": [],
   "source": []
  },
  {
   "cell_type": "markdown",
   "metadata": {},
   "source": [
    "# NOT USING - for reference"
   ]
  },
  {
   "cell_type": "markdown",
   "metadata": {},
   "source": [
    "### Correlated Features - Brute Force approach"
   ]
  },
  {
   "cell_type": "code",
   "execution_count": null,
   "metadata": {},
   "outputs": [],
   "source": [
    "def correlation(dataset, threshold):\n",
    "    \n",
    "    col_corr = set()\n",
    "    corr_matrix = dataset.corr()\n",
    "    \n",
    "    for i in range(len(corr_matrix.columns)):\n",
    "        \n",
    "        for j in range(i):\n",
    "            \n",
    "            if abs(corr_matrix.iloc[i, j]) > threshold: # we are interested in absolute coeff value\n",
    "             \n",
    "                print(abs(corr_matrix.iloc[i, j]),\":\", corr_matrix.columns[i], \"<< - >>\", corr_matrix.columns[j])\n",
    "                colname = corr_matrix.columns[j]\n",
    "                \n",
    "                # and add it to our correlated set\n",
    "                col_corr.add(colname)\n",
    "                \n",
    "    return col_corr\n",
    "\n",
    "# corr_features = correlation(X_train, 0.9)\n",
    "# len(set(corr_features))\n"
   ]
  },
  {
   "cell_type": "code",
   "execution_count": null,
   "metadata": {},
   "outputs": [],
   "source": [
    "# corr_features = correlation(X_train, 0.9)"
   ]
  },
  {
   "cell_type": "markdown",
   "metadata": {},
   "source": [
    "### Correlated Features - Second Approach"
   ]
  },
  {
   "cell_type": "code",
   "execution_count": null,
   "metadata": {},
   "outputs": [],
   "source": [
    "corrmat = X_train.corr()\n",
    "corrmat = corrmat.abs().unstack() # absolute value of corr coef\n",
    "corrmat = corrmat.sort_values(ascending=False)\n",
    "corrmat = corrmat[corrmat >= 0.9]\n",
    "corrmat = corrmat[corrmat < 1] # Not Interested in the correlation with 1 since will be with the same variable\n",
    "corrmat = pd.DataFrame(corrmat).reset_index()\n",
    "corrmat.columns = ['feature1', 'feature2', 'corr']\n",
    "corrmat.head()"
   ]
  },
  {
   "cell_type": "code",
   "execution_count": null,
   "metadata": {},
   "outputs": [],
   "source": [
    "grouped_feature_ls = []\n",
    "correlated_groups = []\n",
    "\n",
    "for feature in corrmat.feature1.unique():\n",
    "    \n",
    "    if feature not in grouped_feature_ls:\n",
    "\n",
    "        # find all features correlated to a single feature\n",
    "        correlated_block = corrmat[corrmat.feature1 == feature]\n",
    "        grouped_feature_ls = grouped_feature_ls + list(\n",
    "            correlated_block.feature2.unique()) + [feature]\n",
    "\n",
    "        # append the block of features to the list\n",
    "        correlated_groups.append(correlated_block)\n",
    "\n",
    "print('found {} correlated groups'.format(len(correlated_groups)))\n",
    "print('out of {} total features'.format(X_train.shape[1]))\n",
    "\n"
   ]
  },
  {
   "cell_type": "code",
   "execution_count": null,
   "metadata": {},
   "outputs": [],
   "source": [
    "# for group in correlated_groups:\n",
    "#     print(group)\n",
    "#     print()"
   ]
  },
  {
   "cell_type": "code",
   "execution_count": null,
   "metadata": {},
   "outputs": [],
   "source": [
    "#Choose Group Index\n",
    "group_index = 1\n",
    "\n",
    "group = correlated_groups[group_index]\n",
    "var = group.feature1.unique()[0]\n",
    "\n",
    "# add all features of the group to a list\n",
    "features = list(group['feature2'].unique())+[var]\n",
    "\n",
    "rf = RandomForestClassifier(n_estimators=200, random_state=39, max_depth=4)\n",
    "rf.fit(X_train[features].fillna(0), y_train)\n",
    "\n",
    "importance = pd.concat([pd.Series(features),pd.Series(rf.feature_importances_)], axis=1)\n",
    "importance.columns = ['feature', 'importance']\n",
    "\n",
    "print(var)\n",
    "importance.sort_values(by='importance', ascending=False)\n"
   ]
  },
  {
   "cell_type": "code",
   "execution_count": null,
   "metadata": {},
   "outputs": [],
   "source": [
    "# for feature in group['feature2']:\n",
    "#     plt.scatter(X_train[var], X_train[feature])\n",
    "#     plt.xlabel(feature)\n",
    "#     plt.ylabel(var)\n",
    "#     plt.show()"
   ]
  },
  {
   "cell_type": "markdown",
   "metadata": {},
   "source": [
    "### Just an example to show one group of how smart correlation works"
   ]
  },
  {
   "cell_type": "code",
   "execution_count": null,
   "metadata": {},
   "outputs": [],
   "source": [
    "# import warnings\n",
    "# warnings.filterwarnings(\"ignore\")\n",
    "\n",
    "group = sel.correlated_feature_sets_[0]\n",
    "\n",
    "# build random forest with cross validation for each feature\n",
    "for f in group:\n",
    "    \n",
    "    model = cross_validate(\n",
    "        rf,\n",
    "        X_train[f].to_frame(),\n",
    "        y_train,\n",
    "        cv=btscv,\n",
    "        return_estimator=False,\n",
    "        scoring='accuracy',\n",
    "    )\n",
    "\n",
    "#  scoring='roc_auc' does not support categorical data.\n",
    "\n",
    "    print(f, model[\"test_score\"].mean())"
   ]
  },
  {
   "cell_type": "markdown",
   "metadata": {},
   "source": [
    "****TO USE***"
   ]
  },
  {
   "cell_type": "code",
   "execution_count": null,
   "metadata": {},
   "outputs": [],
   "source": [
    "fpr_, fnr_, thresholds_ = det_curve(y_test.Close_Up_Down, y_pred)\n",
    "model.fit(X_train_dict['Original'], y_train.Close_Up_Down)\n",
    "y_prob = model.predict_proba(X_test_dict['Original'])\n",
    "y_pred = model.predict(X_test_dict['Original'])\n",
    "\n",
    "y_pred = (clf.predict_proba(X_test_dict['Original'])[:,1] >= p).astype(bool) # set threshold as 0.3\n",
    "fpr, tpr, threshold = roc_curve(y_test.Close_Up_Down, y_pred,)\n",
    "\n",
    "\n",
    "model = RandomForestClassifier(n_estimators=100, max_depth=2, n_jobs=-1)\n",
    "model.fit(X_train_dict['Clean'], y_train.Close_Up_Down)\n",
    "y_pred = model.predict(X_test_dict['Clean'])\n",
    "confusion_matrix(y_test.Close_Up_Down, y_pred)\n",
    "plot_confusion_matrix(clf, X_test_dict['Clean'], y_test.Close_Up_Down,);\n",
    "clsf_report = classification_report(y_test.Close_Up_Down, y_pred, output_dict=True)\n",
    "pd.DataFrame(clsf_report)"
   ]
  },
  {
   "cell_type": "markdown",
   "metadata": {},
   "source": [
    "### Classification Model Evaluation metrics\n",
    "1. cross_val_score\n",
    "2. Area under the ROC Curve\n",
    "3. Confusion Matrix\n",
    "4. Confusion Report\n",
    "\n",
    "https://scikit-learn.org/stable/modules/model_evaluation.html#classification-metrics\n"
   ]
  },
  {
   "cell_type": "code",
   "execution_count": null,
   "metadata": {},
   "outputs": [],
   "source": [
    "model = RandomForestClassifier(n_estimators=100, max_depth=2, n_jobs=-1)\n",
    "cross_val_score(model, Variables, Response.Close_Up_Down, cv = 2, scoring = 'accuracy')"
   ]
  },
  {
   "cell_type": "code",
   "execution_count": null,
   "metadata": {},
   "outputs": [],
   "source": [
    "model = RandomForestClassifier(n_estimators=300, max_depth=10, n_jobs=-1)\n",
    "cross_val_score(model, X_train_dict['Original'], y_train.Labels, cv = 5,scoring='roc_auc_ovo_weighted')"
   ]
  },
  {
   "cell_type": "code",
   "execution_count": null,
   "metadata": {},
   "outputs": [],
   "source": [
    "model = RandomForestClassifier(n_estimators=300, max_depth=10, n_jobs=-1)\n",
    "cross_val_score(model, X_train_dict['Clean1'], y_train.Labels, cv = 5,scoring='roc_auc_ovo')"
   ]
  },
  {
   "cell_type": "code",
   "execution_count": null,
   "metadata": {},
   "outputs": [],
   "source": [
    "model.fit(X_train_dict['Original'], y_train.Close_Up_Down)\n",
    "y_prob = model.predict_proba(X_test_dict['Original'])\n",
    "y_pred = model.predict(X_test_dict['Original'])\n"
   ]
  },
  {
   "cell_type": "code",
   "execution_count": null,
   "metadata": {},
   "outputs": [],
   "source": [
    "clf = RandomForestClassifier(n_estimators=100, max_depth=2, n_jobs=-1)\n",
    "clf.fit(X_train_dict['Original'], y_train.Close_Up_Down)\n",
    "\n",
    "for p in [0.475,0.5,0.525]:\n",
    "    \n",
    "    y_pred = (clf.predict_proba(X_test_dict['Original'])[:,1] >= p).astype(bool) # set threshold as 0.3\n",
    "    fpr, tpr, threshold = roc_curve(y_test.Close_Up_Down, y_pred,)\n",
    "    print(\"tpr:\",tpr)\n",
    "    print(\"fpr:\",fpr)\n",
    "    print(\"threshold:\",threshold)\n",
    "    print(p,\": \",roc_auc_score(y_test.Close_Up_Down, y_pred))\n",
    "    print(\"\\n\")"
   ]
  },
  {
   "cell_type": "markdown",
   "metadata": {},
   "source": [
    "https://stackoverflow.com/questions/45715018/scikit-learn-how-to-plot-probabilities"
   ]
  },
  {
   "cell_type": "code",
   "execution_count": null,
   "metadata": {},
   "outputs": [],
   "source": [
    "clf = RandomForestClassifier(n_estimators=100, max_depth=2, n_jobs=-1)\n",
    "clf.fit(X_train_dict['Clean'], y_train.Close_Up_Down)\n",
    "plt.figure(figsize=(12,5))\n",
    "prediction = clf.predict_proba(X_test_dict['Clean'])[:,1]\n",
    "plt.hist(prediction[y_test.Close_Up_Down==-1], bins=100, label='Negatives')\n",
    "plt.hist(prediction[y_test.Close_Up_Down==1], bins=100, label='Positives', alpha=0.7, color='r')\n",
    "plt.xlabel('Probability of being Positive Class', fontsize=10)\n",
    "plt.ylabel('Number of records in each bucket', fontsize=10)\n",
    "# plt.xlim(0,1)\n",
    "plt.legend(fontsize=10)\n",
    "plt.tick_params(axis='both', labelsize=25, pad=5)\n",
    "plt.show()"
   ]
  },
  {
   "cell_type": "code",
   "execution_count": null,
   "metadata": {},
   "outputs": [],
   "source": [
    "def plot_roc_auc_curve(y_test, model_set, model):\n",
    "    model.fit(X_train_dict[model_set], y_train.Close_Up_Down)\n",
    "    y_prob_positive = model.predict_proba(X_test_dict[model_set])[:,1]\n",
    "    print(f\"ROC_AUC_SCORE: {roc_auc_score(y_test.Close_Up_Down, y_prob_positive):.2f}%\")\n",
    "    fpr, tpr, threshold = roc_curve(y_test.Close_Up_Down, y_prob_positive,)\n",
    "    plt.plot(fpr, tpr, color='orange', label='ROC')\n",
    "    plt.plot([0, 1], [0, 1], color='darkblue', linestyle='--', label='Random Guess')\n",
    "    plt.xlabel('False Positive Rate')\n",
    "    plt.ylabel('True Positive Rate')\n",
    "    plt.title('Receiver Operating Characteristic (ROC) Curve')\n",
    "    plt.legend()\n",
    "    plt.show()\n",
    "\n",
    "model = RandomForestClassifier(n_estimators=100, max_depth=2, n_jobs=-1)\n",
    "\n",
    "plot_roc_auc_curve(y_test, 'Original', model)\n",
    "# plot_roc_auc_curve(y_test, 'Original', y_test)"
   ]
  },
  {
   "cell_type": "code",
   "execution_count": null,
   "metadata": {},
   "outputs": [],
   "source": [
    "(y_pred == [-1 if x[0] > 0.5 else 1 for x in y_prob]).all()"
   ]
  },
  {
   "cell_type": "code",
   "execution_count": null,
   "metadata": {},
   "outputs": [],
   "source": [
    "# Took 5:20 mins\n",
    "# from sklearn.ensemble import GradientBoostingClassifier\n",
    "# model = GradientBoostingClassifier(n_estimators=100, max_depth=3)\n",
    "# cross_val_score(model, Variables, Response.Close_Up_Down, cv = 5).min()"
   ]
  },
  {
   "cell_type": "markdown",
   "metadata": {},
   "source": [
    "**Confusion Matrix**"
   ]
  },
  {
   "cell_type": "code",
   "execution_count": null,
   "metadata": {},
   "outputs": [],
   "source": [
    "model = RandomForestClassifier(n_estimators=100, max_depth=2, n_jobs=-1)\n",
    "model.fit(X_train_dict['Clean'], y_train.Close_Up_Down)\n",
    "y_pred = model.predict(X_test_dict['Clean'])\n",
    "confusion_matrix(y_test.Close_Up_Down, y_pred)"
   ]
  },
  {
   "cell_type": "code",
   "execution_count": null,
   "metadata": {},
   "outputs": [],
   "source": [
    "pd.crosstab(y_test.Close_Up_Down, y_pred, rownames=['Actual'], colnames=['Predicted'])"
   ]
  },
  {
   "cell_type": "code",
   "execution_count": null,
   "metadata": {},
   "outputs": [],
   "source": [
    "import seaborn as sns\n",
    "\n",
    "conf_mat = confusion_matrix(y_test.Close_Up_Down, y_pred)\n",
    "sns.heatmap(pd.crosstab(y_test.Close_Up_Down, y_pred, rownames=['Actual'], colnames=['Predicted']), annot=True)"
   ]
  },
  {
   "cell_type": "code",
   "execution_count": null,
   "metadata": {},
   "outputs": [],
   "source": [
    "sns.set(font_scale=1.5)\n",
    "fig, ax = plt.subplots(figsize=(8,5))\n",
    "\n",
    "ax = sns.heatmap(conf_mat, annot=True, fmt='d', cmap='Blues');\n",
    "plt.xlabel('Actual');\n",
    "plt.ylabel('Predicted');\n",
    "\n",
    "\n"
   ]
  },
  {
   "cell_type": "code",
   "execution_count": null,
   "metadata": {},
   "outputs": [],
   "source": [
    "plot_confusion_matrix(clf, X_test_dict['Clean'], y_test.Close_Up_Down,);"
   ]
  },
  {
   "cell_type": "code",
   "execution_count": null,
   "metadata": {},
   "outputs": [],
   "source": [
    "plot_confusion_matrix(clf, X_val_dict['Clean'], y_val.Close_Up_Down,);"
   ]
  },
  {
   "cell_type": "markdown",
   "metadata": {},
   "source": [
    "**Clasification Report**"
   ]
  },
  {
   "cell_type": "code",
   "execution_count": null,
   "metadata": {},
   "outputs": [],
   "source": [
    "clsf_report = classification_report(y_test.Close_Up_Down, y_pred, output_dict=True)\n",
    "pd.DataFrame(clsf_report)"
   ]
  },
  {
   "cell_type": "code",
   "execution_count": null,
   "metadata": {},
   "outputs": [],
   "source": [
    "fpr"
   ]
  },
  {
   "cell_type": "code",
   "execution_count": null,
   "metadata": {},
   "outputs": [],
   "source": [
    "print(classification_report(y_test.Close_Up_Down, y_pred))"
   ]
  },
  {
   "cell_type": "code",
   "execution_count": null,
   "metadata": {},
   "outputs": [],
   "source": [
    "clsf_report['-1.0']['f1-score']"
   ]
  },
  {
   "cell_type": "code",
   "execution_count": null,
   "metadata": {},
   "outputs": [],
   "source": [
    "from sklearn.metrics import precision_score, recall_score, f1_score, det_curve\n",
    "precision_score(y_test.Close_Up_Down, y_pred)"
   ]
  },
  {
   "cell_type": "code",
   "execution_count": null,
   "metadata": {},
   "outputs": [],
   "source": [
    "fpr_, fnr_, thresholds_ = det_curve(y_test.Close_Up_Down, y_pred)"
   ]
  },
  {
   "cell_type": "code",
   "execution_count": null,
   "metadata": {},
   "outputs": [],
   "source": [
    "fpr_"
   ]
  },
  {
   "cell_type": "code",
   "execution_count": null,
   "metadata": {},
   "outputs": [],
   "source": [
    "fnr_"
   ]
  },
  {
   "cell_type": "code",
   "execution_count": null,
   "metadata": {},
   "outputs": [],
   "source": [
    "thresholds_"
   ]
  },
  {
   "cell_type": "code",
   "execution_count": null,
   "metadata": {},
   "outputs": [],
   "source": []
  },
  {
   "cell_type": "code",
   "execution_count": null,
   "metadata": {},
   "outputs": [],
   "source": [
    "\n"
   ]
  },
  {
   "cell_type": "code",
   "execution_count": null,
   "metadata": {},
   "outputs": [],
   "source": []
  },
  {
   "cell_type": "code",
   "execution_count": null,
   "metadata": {},
   "outputs": [],
   "source": []
  },
  {
   "cell_type": "code",
   "execution_count": null,
   "metadata": {},
   "outputs": [],
   "source": []
  },
  {
   "cell_type": "code",
   "execution_count": null,
   "metadata": {},
   "outputs": [],
   "source": []
  },
  {
   "cell_type": "code",
   "execution_count": null,
   "metadata": {},
   "outputs": [],
   "source": []
  },
  {
   "cell_type": "code",
   "execution_count": null,
   "metadata": {},
   "outputs": [],
   "source": []
  }
 ],
 "metadata": {
  "interpreter": {
   "hash": "76ed5d48e058170b27340c105dd5e7527dd13aa6b3ab779e1e670a0e63feffe0"
  },
  "kernelspec": {
   "display_name": "Python 3.10.2 ('venv': venv)",
   "language": "python",
   "name": "python3"
  },
  "language_info": {
   "codemirror_mode": {
    "name": "ipython",
    "version": 3
   },
   "file_extension": ".py",
   "mimetype": "text/x-python",
   "name": "python",
   "nbconvert_exporter": "python",
   "pygments_lexer": "ipython3",
   "version": "3.10.2"
  },
  "orig_nbformat": 4
 },
 "nbformat": 4,
 "nbformat_minor": 2
}
