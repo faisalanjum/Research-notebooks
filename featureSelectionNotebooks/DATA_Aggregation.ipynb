{
 "cells": [
  {
   "cell_type": "markdown",
   "metadata": {},
   "source": [
    "#### Note whenever we resample Lumber data, it changes the order of the series so we use .pct_change(1) instead of pct_change(-1) that we use for lumber_df"
   ]
  },
  {
   "cell_type": "code",
   "execution_count": 1,
   "metadata": {},
   "outputs": [],
   "source": [
    "path = 'F:/Traders/2x4/Adjusted CME Futures/Switch_OI'"
   ]
  },
  {
   "cell_type": "code",
   "execution_count": 2,
   "metadata": {},
   "outputs": [],
   "source": [
    "import pandas as pd \n",
    "from scipy.stats import spearmanr\n",
    "from datetime import datetime\n",
    "import numpy as np\n",
    "import datetime\n",
    "from os import listdir\n",
    "from matplotlib import pyplot as plt\n",
    "from os.path import isfile, join\n",
    "files = [f for f in listdir(path) if isfile(join(path, f))]"
   ]
  },
  {
   "cell_type": "markdown",
   "metadata": {},
   "source": [
    "Adj_close           \n",
    "close               \n",
    "close\tAdj_close\topen\tAdj_open\thigh\tAdj_high\tlow\tAdj_low\tvolume\topenInterest\n"
   ]
  },
  {
   "cell_type": "code",
   "execution_count": 3,
   "metadata": {},
   "outputs": [
    {
     "data": {
      "text/html": [
       "<div>\n",
       "<style scoped>\n",
       "    .dataframe tbody tr th:only-of-type {\n",
       "        vertical-align: middle;\n",
       "    }\n",
       "\n",
       "    .dataframe tbody tr th {\n",
       "        vertical-align: top;\n",
       "    }\n",
       "\n",
       "    .dataframe thead th {\n",
       "        text-align: right;\n",
       "    }\n",
       "</style>\n",
       "<table border=\"1\" class=\"dataframe\">\n",
       "  <thead>\n",
       "    <tr style=\"text-align: right;\">\n",
       "      <th></th>\n",
       "      <th>close</th>\n",
       "      <th>Adj_close</th>\n",
       "      <th>open</th>\n",
       "      <th>Adj_open</th>\n",
       "      <th>high</th>\n",
       "      <th>Adj_high</th>\n",
       "      <th>low</th>\n",
       "      <th>Adj_low</th>\n",
       "      <th>volume</th>\n",
       "      <th>openInterest</th>\n",
       "    </tr>\n",
       "    <tr>\n",
       "      <th>dt</th>\n",
       "      <th></th>\n",
       "      <th></th>\n",
       "      <th></th>\n",
       "      <th></th>\n",
       "      <th></th>\n",
       "      <th></th>\n",
       "      <th></th>\n",
       "      <th></th>\n",
       "      <th></th>\n",
       "      <th></th>\n",
       "    </tr>\n",
       "  </thead>\n",
       "  <tbody>\n",
       "    <tr>\n",
       "      <th>2022-05-10</th>\n",
       "      <td>1022.0</td>\n",
       "      <td>1022.0</td>\n",
       "      <td>1008.0</td>\n",
       "      <td>1008.0</td>\n",
       "      <td>1025.0</td>\n",
       "      <td>1025.0</td>\n",
       "      <td>1008.0</td>\n",
       "      <td>1008.0</td>\n",
       "      <td>53.0</td>\n",
       "      <td>0.0</td>\n",
       "    </tr>\n",
       "    <tr>\n",
       "      <th>2022-05-09</th>\n",
       "      <td>1009.0</td>\n",
       "      <td>1009.0</td>\n",
       "      <td>1000.1</td>\n",
       "      <td>1000.1</td>\n",
       "      <td>1015.0</td>\n",
       "      <td>1015.0</td>\n",
       "      <td>975.0</td>\n",
       "      <td>975.0</td>\n",
       "      <td>89.0</td>\n",
       "      <td>163.0</td>\n",
       "    </tr>\n",
       "    <tr>\n",
       "      <th>2022-05-06</th>\n",
       "      <td>1000.1</td>\n",
       "      <td>1000.1</td>\n",
       "      <td>990.0</td>\n",
       "      <td>990.0</td>\n",
       "      <td>1005.0</td>\n",
       "      <td>1005.0</td>\n",
       "      <td>985.0</td>\n",
       "      <td>985.0</td>\n",
       "      <td>147.0</td>\n",
       "      <td>237.0</td>\n",
       "    </tr>\n",
       "    <tr>\n",
       "      <th>2022-05-05</th>\n",
       "      <td>1020.0</td>\n",
       "      <td>1020.0</td>\n",
       "      <td>1010.0</td>\n",
       "      <td>1010.0</td>\n",
       "      <td>1033.4</td>\n",
       "      <td>1033.4</td>\n",
       "      <td>993.8</td>\n",
       "      <td>993.8</td>\n",
       "      <td>131.0</td>\n",
       "      <td>340.0</td>\n",
       "    </tr>\n",
       "    <tr>\n",
       "      <th>2022-05-04</th>\n",
       "      <td>1010.0</td>\n",
       "      <td>1010.0</td>\n",
       "      <td>1021.6</td>\n",
       "      <td>1021.6</td>\n",
       "      <td>1025.5</td>\n",
       "      <td>1025.5</td>\n",
       "      <td>980.0</td>\n",
       "      <td>980.0</td>\n",
       "      <td>144.0</td>\n",
       "      <td>443.0</td>\n",
       "    </tr>\n",
       "  </tbody>\n",
       "</table>\n",
       "</div>"
      ],
      "text/plain": [
       "             close  Adj_close    open  Adj_open    high  Adj_high     low  \\\n",
       "dt                                                                          \n",
       "2022-05-10  1022.0     1022.0  1008.0    1008.0  1025.0    1025.0  1008.0   \n",
       "2022-05-09  1009.0     1009.0  1000.1    1000.1  1015.0    1015.0   975.0   \n",
       "2022-05-06  1000.1     1000.1   990.0     990.0  1005.0    1005.0   985.0   \n",
       "2022-05-05  1020.0     1020.0  1010.0    1010.0  1033.4    1033.4   993.8   \n",
       "2022-05-04  1010.0     1010.0  1021.6    1021.6  1025.5    1025.5   980.0   \n",
       "\n",
       "            Adj_low  volume  openInterest  \n",
       "dt                                         \n",
       "2022-05-10   1008.0    53.0           0.0  \n",
       "2022-05-09    975.0    89.0         163.0  \n",
       "2022-05-06    985.0   147.0         237.0  \n",
       "2022-05-05    993.8   131.0         340.0  \n",
       "2022-05-04    980.0   144.0         443.0  "
      ]
     },
     "execution_count": 3,
     "metadata": {},
     "output_type": "execute_result"
    }
   ],
   "source": [
    "f = 'Lumber.csv'\n",
    "full_name = str(path+'/'+f)\n",
    "lumber_df = pd.DataFrame(pd.read_csv(full_name,index_col=0))\n",
    "lumber_df.head()"
   ]
  },
  {
   "cell_type": "markdown",
   "metadata": {},
   "source": [
    "### Daily Lumber data - resampled to Weekly data - note to change to any particular day, you change \"W\" to \"W-MON\" ETC. \"W\" is for SUN"
   ]
  },
  {
   "cell_type": "code",
   "execution_count": 4,
   "metadata": {},
   "outputs": [
    {
     "name": "stderr",
     "output_type": "stream",
     "text": [
      "C:\\Users\\Fanjum_cwp\\AppData\\Local\\Temp\\2\\ipykernel_22224\\2150838503.py:2: FutureWarning: The frame.append method is deprecated and will be removed from pandas in a future version. Use pandas.concat instead.\n",
      "  weekly_resampled_lumber.head(1).append(weekly_resampled_lumber.tail(1))\n"
     ]
    },
    {
     "data": {
      "text/html": [
       "<div>\n",
       "<style scoped>\n",
       "    .dataframe tbody tr th:only-of-type {\n",
       "        vertical-align: middle;\n",
       "    }\n",
       "\n",
       "    .dataframe tbody tr th {\n",
       "        vertical-align: top;\n",
       "    }\n",
       "\n",
       "    .dataframe thead th {\n",
       "        text-align: right;\n",
       "    }\n",
       "</style>\n",
       "<table border=\"1\" class=\"dataframe\">\n",
       "  <thead>\n",
       "    <tr style=\"text-align: right;\">\n",
       "      <th></th>\n",
       "      <th>close</th>\n",
       "      <th>Adj_close</th>\n",
       "      <th>open</th>\n",
       "      <th>Adj_open</th>\n",
       "      <th>high</th>\n",
       "      <th>Adj_high</th>\n",
       "      <th>low</th>\n",
       "      <th>Adj_low</th>\n",
       "      <th>volume</th>\n",
       "      <th>openInterest</th>\n",
       "    </tr>\n",
       "    <tr>\n",
       "      <th>dt</th>\n",
       "      <th></th>\n",
       "      <th></th>\n",
       "      <th></th>\n",
       "      <th></th>\n",
       "      <th></th>\n",
       "      <th></th>\n",
       "      <th></th>\n",
       "      <th></th>\n",
       "      <th></th>\n",
       "      <th></th>\n",
       "    </tr>\n",
       "  </thead>\n",
       "  <tbody>\n",
       "    <tr>\n",
       "      <th>1969-10-05</th>\n",
       "      <td>80.166667</td>\n",
       "      <td>17348.436923</td>\n",
       "      <td>79.416667</td>\n",
       "      <td>17186.133459</td>\n",
       "      <td>80.25</td>\n",
       "      <td>17366.470641</td>\n",
       "      <td>79.166667</td>\n",
       "      <td>17132.032305</td>\n",
       "      <td>0.0</td>\n",
       "      <td>0.0</td>\n",
       "    </tr>\n",
       "    <tr>\n",
       "      <th>2022-05-15</th>\n",
       "      <td>1015.500000</td>\n",
       "      <td>1015.500000</td>\n",
       "      <td>1004.050000</td>\n",
       "      <td>1004.050000</td>\n",
       "      <td>1020.00</td>\n",
       "      <td>1020.000000</td>\n",
       "      <td>991.500000</td>\n",
       "      <td>991.500000</td>\n",
       "      <td>71.0</td>\n",
       "      <td>81.5</td>\n",
       "    </tr>\n",
       "  </tbody>\n",
       "</table>\n",
       "</div>"
      ],
      "text/plain": [
       "                  close     Adj_close         open      Adj_open     high  \\\n",
       "dt                                                                          \n",
       "1969-10-05    80.166667  17348.436923    79.416667  17186.133459    80.25   \n",
       "2022-05-15  1015.500000   1015.500000  1004.050000   1004.050000  1020.00   \n",
       "\n",
       "                Adj_high         low       Adj_low  volume  openInterest  \n",
       "dt                                                                        \n",
       "1969-10-05  17366.470641   79.166667  17132.032305     0.0           0.0  \n",
       "2022-05-15   1020.000000  991.500000    991.500000    71.0          81.5  "
      ]
     },
     "execution_count": 4,
     "metadata": {},
     "output_type": "execute_result"
    }
   ],
   "source": [
    "weekly_resampled_lumber = pd.DataFrame(index= pd.DatetimeIndex(lumber_df.index),data= lumber_df.values, columns=lumber_df.columns ).resample('W').mean()\n",
    "weekly_resampled_lumber.head(1).append(weekly_resampled_lumber.tail(1))"
   ]
  },
  {
   "cell_type": "markdown",
   "metadata": {},
   "source": [
    "### Daily Lumber Data Resampled to Monthly - MONTH START  - used ('MS)"
   ]
  },
  {
   "cell_type": "code",
   "execution_count": 5,
   "metadata": {},
   "outputs": [
    {
     "name": "stderr",
     "output_type": "stream",
     "text": [
      "C:\\Users\\Fanjum_cwp\\AppData\\Local\\Temp\\2\\ipykernel_22224\\3846110995.py:2: FutureWarning: The frame.append method is deprecated and will be removed from pandas in a future version. Use pandas.concat instead.\n",
      "  monthly_resampled_lumber.head(1).append(monthly_resampled_lumber.tail(1))\n"
     ]
    },
    {
     "data": {
      "text/html": [
       "<div>\n",
       "<style scoped>\n",
       "    .dataframe tbody tr th:only-of-type {\n",
       "        vertical-align: middle;\n",
       "    }\n",
       "\n",
       "    .dataframe tbody tr th {\n",
       "        vertical-align: top;\n",
       "    }\n",
       "\n",
       "    .dataframe thead th {\n",
       "        text-align: right;\n",
       "    }\n",
       "</style>\n",
       "<table border=\"1\" class=\"dataframe\">\n",
       "  <thead>\n",
       "    <tr style=\"text-align: right;\">\n",
       "      <th></th>\n",
       "      <th>close</th>\n",
       "      <th>Adj_close</th>\n",
       "      <th>open</th>\n",
       "      <th>Adj_open</th>\n",
       "      <th>high</th>\n",
       "      <th>Adj_high</th>\n",
       "      <th>low</th>\n",
       "      <th>Adj_low</th>\n",
       "      <th>volume</th>\n",
       "      <th>openInterest</th>\n",
       "    </tr>\n",
       "    <tr>\n",
       "      <th>dt</th>\n",
       "      <th></th>\n",
       "      <th></th>\n",
       "      <th></th>\n",
       "      <th></th>\n",
       "      <th></th>\n",
       "      <th></th>\n",
       "      <th></th>\n",
       "      <th></th>\n",
       "      <th></th>\n",
       "      <th></th>\n",
       "    </tr>\n",
       "  </thead>\n",
       "  <tbody>\n",
       "    <tr>\n",
       "      <th>1969-10-01</th>\n",
       "      <td>83.510870</td>\n",
       "      <td>18072.137876</td>\n",
       "      <td>83.260870</td>\n",
       "      <td>18018.036721</td>\n",
       "      <td>83.793478</td>\n",
       "      <td>18133.295703</td>\n",
       "      <td>82.98913</td>\n",
       "      <td>17959.231118</td>\n",
       "      <td>0.000000</td>\n",
       "      <td>0.000000</td>\n",
       "    </tr>\n",
       "    <tr>\n",
       "      <th>2022-05-01</th>\n",
       "      <td>1019.328571</td>\n",
       "      <td>1019.328571</td>\n",
       "      <td>1014.228571</td>\n",
       "      <td>1014.228571</td>\n",
       "      <td>1028.985714</td>\n",
       "      <td>1028.985714</td>\n",
       "      <td>998.40000</td>\n",
       "      <td>998.400000</td>\n",
       "      <td>108.285714</td>\n",
       "      <td>329.714286</td>\n",
       "    </tr>\n",
       "  </tbody>\n",
       "</table>\n",
       "</div>"
      ],
      "text/plain": [
       "                  close     Adj_close         open      Adj_open         high  \\\n",
       "dt                                                                              \n",
       "1969-10-01    83.510870  18072.137876    83.260870  18018.036721    83.793478   \n",
       "2022-05-01  1019.328571   1019.328571  1014.228571   1014.228571  1028.985714   \n",
       "\n",
       "                Adj_high        low       Adj_low      volume  openInterest  \n",
       "dt                                                                           \n",
       "1969-10-01  18133.295703   82.98913  17959.231118    0.000000      0.000000  \n",
       "2022-05-01   1028.985714  998.40000    998.400000  108.285714    329.714286  "
      ]
     },
     "execution_count": 5,
     "metadata": {},
     "output_type": "execute_result"
    }
   ],
   "source": [
    "monthly_resampled_lumber = pd.DataFrame(index= pd.DatetimeIndex(lumber_df.index),data= lumber_df.values, columns=lumber_df.columns ).resample('MS').mean()\n",
    "monthly_resampled_lumber.head(1).append(monthly_resampled_lumber.tail(1))"
   ]
  },
  {
   "cell_type": "markdown",
   "metadata": {},
   "source": [
    "### Daily Lumber Data Resampled to Monthly - MONTH END  - used ('M)"
   ]
  },
  {
   "cell_type": "code",
   "execution_count": 6,
   "metadata": {},
   "outputs": [
    {
     "name": "stderr",
     "output_type": "stream",
     "text": [
      "C:\\Users\\Fanjum_cwp\\AppData\\Local\\Temp\\2\\ipykernel_22224\\289172836.py:2: FutureWarning: The frame.append method is deprecated and will be removed from pandas in a future version. Use pandas.concat instead.\n",
      "  monthly_resampled_lumber_end.head(1).append(monthly_resampled_lumber_end.tail(1))\n"
     ]
    },
    {
     "data": {
      "text/html": [
       "<div>\n",
       "<style scoped>\n",
       "    .dataframe tbody tr th:only-of-type {\n",
       "        vertical-align: middle;\n",
       "    }\n",
       "\n",
       "    .dataframe tbody tr th {\n",
       "        vertical-align: top;\n",
       "    }\n",
       "\n",
       "    .dataframe thead th {\n",
       "        text-align: right;\n",
       "    }\n",
       "</style>\n",
       "<table border=\"1\" class=\"dataframe\">\n",
       "  <thead>\n",
       "    <tr style=\"text-align: right;\">\n",
       "      <th></th>\n",
       "      <th>close</th>\n",
       "      <th>Adj_close</th>\n",
       "      <th>open</th>\n",
       "      <th>Adj_open</th>\n",
       "      <th>high</th>\n",
       "      <th>Adj_high</th>\n",
       "      <th>low</th>\n",
       "      <th>Adj_low</th>\n",
       "      <th>volume</th>\n",
       "      <th>openInterest</th>\n",
       "    </tr>\n",
       "    <tr>\n",
       "      <th>dt</th>\n",
       "      <th></th>\n",
       "      <th></th>\n",
       "      <th></th>\n",
       "      <th></th>\n",
       "      <th></th>\n",
       "      <th></th>\n",
       "      <th></th>\n",
       "      <th></th>\n",
       "      <th></th>\n",
       "      <th></th>\n",
       "    </tr>\n",
       "  </thead>\n",
       "  <tbody>\n",
       "    <tr>\n",
       "      <th>1969-10-31</th>\n",
       "      <td>83.510870</td>\n",
       "      <td>18072.137876</td>\n",
       "      <td>83.260870</td>\n",
       "      <td>18018.036721</td>\n",
       "      <td>83.793478</td>\n",
       "      <td>18133.295703</td>\n",
       "      <td>82.98913</td>\n",
       "      <td>17959.231118</td>\n",
       "      <td>0.000000</td>\n",
       "      <td>0.000000</td>\n",
       "    </tr>\n",
       "    <tr>\n",
       "      <th>2022-05-31</th>\n",
       "      <td>1019.328571</td>\n",
       "      <td>1019.328571</td>\n",
       "      <td>1014.228571</td>\n",
       "      <td>1014.228571</td>\n",
       "      <td>1028.985714</td>\n",
       "      <td>1028.985714</td>\n",
       "      <td>998.40000</td>\n",
       "      <td>998.400000</td>\n",
       "      <td>108.285714</td>\n",
       "      <td>329.714286</td>\n",
       "    </tr>\n",
       "  </tbody>\n",
       "</table>\n",
       "</div>"
      ],
      "text/plain": [
       "                  close     Adj_close         open      Adj_open         high  \\\n",
       "dt                                                                              \n",
       "1969-10-31    83.510870  18072.137876    83.260870  18018.036721    83.793478   \n",
       "2022-05-31  1019.328571   1019.328571  1014.228571   1014.228571  1028.985714   \n",
       "\n",
       "                Adj_high        low       Adj_low      volume  openInterest  \n",
       "dt                                                                           \n",
       "1969-10-31  18133.295703   82.98913  17959.231118    0.000000      0.000000  \n",
       "2022-05-31   1028.985714  998.40000    998.400000  108.285714    329.714286  "
      ]
     },
     "execution_count": 6,
     "metadata": {},
     "output_type": "execute_result"
    }
   ],
   "source": [
    "monthly_resampled_lumber_end = pd.DataFrame(index= pd.DatetimeIndex(lumber_df.index),data= lumber_df.values, columns=lumber_df.columns ).resample('M').mean()\n",
    "monthly_resampled_lumber_end.head(1).append(monthly_resampled_lumber_end.tail(1))"
   ]
  },
  {
   "cell_type": "markdown",
   "metadata": {},
   "source": [
    "# BARCHART Futures Data - Transformed & Unadjusted"
   ]
  },
  {
   "cell_type": "code",
   "execution_count": 7,
   "metadata": {},
   "outputs": [],
   "source": [
    "# CODE TO GET ALL DATA FROM csv files\n",
    "col_name = 'Adj_close'\n",
    "futures_df = pd.DataFrame(index=lumber_df.index)\n",
    "for f in files:\n",
    "    full_name = str(path+'/'+f)    \n",
    "    df = pd.DataFrame(pd.read_csv(full_name,index_col=0)[col_name])\n",
    "    name = f[:f.rfind('.')]\n",
    "    df = df.rename(columns={col_name: name})    \n",
    "    futures_df = pd.concat([futures_df,df],axis=1).reindex(futures_df.index)"
   ]
  },
  {
   "cell_type": "code",
   "execution_count": 8,
   "metadata": {},
   "outputs": [
    {
     "data": {
      "text/html": [
       "<div>\n",
       "<style scoped>\n",
       "    .dataframe tbody tr th:only-of-type {\n",
       "        vertical-align: middle;\n",
       "    }\n",
       "\n",
       "    .dataframe tbody tr th {\n",
       "        vertical-align: top;\n",
       "    }\n",
       "\n",
       "    .dataframe thead th {\n",
       "        text-align: right;\n",
       "    }\n",
       "</style>\n",
       "<table border=\"1\" class=\"dataframe\">\n",
       "  <thead>\n",
       "    <tr style=\"text-align: right;\">\n",
       "      <th></th>\n",
       "      <th>1-Month Eurodollar</th>\n",
       "      <th>1-Month SOFR</th>\n",
       "      <th>13-Week T-Bill Rate</th>\n",
       "      <th>3-Month BSBY</th>\n",
       "      <th>3-Month Eurodollar</th>\n",
       "      <th>3-Month SOFR</th>\n",
       "      <th>3.5% Fuel Oil Barges FOB Rdam (Platts) Crack Spread (1000mt) Futures</th>\n",
       "      <th>3.5% Fuel Oil Barges FOB Rdam (Platts) Crack Spread Futures</th>\n",
       "      <th>Adjusted Interest Rate S&amp;P 500 Total Return Index Futures</th>\n",
       "      <th>AEP-Dayton Hub Daily Electricity Futures - Peak</th>\n",
       "      <th>...</th>\n",
       "      <th>Up-Down Gulf Coast ULSD vs. NYMEX HO Spread Swap (Platts)</th>\n",
       "      <th>USD_CHF Micro</th>\n",
       "      <th>USD_CNH Micro</th>\n",
       "      <th>USD_JPY Micro</th>\n",
       "      <th>USD_offshore RMB</th>\n",
       "      <th>USD_ZAR</th>\n",
       "      <th>Western Canadian Select Oil (NE2) Monthly Index Futures</th>\n",
       "      <th>WTI Houston (Argus) vs. WTI Financial Futures</th>\n",
       "      <th>WTI Houston (Argus) vs. WTI Trade Month Futures</th>\n",
       "      <th>WTI Midland (Argus) vs. WTI Trade Month Futures</th>\n",
       "    </tr>\n",
       "    <tr>\n",
       "      <th>dt</th>\n",
       "      <th></th>\n",
       "      <th></th>\n",
       "      <th></th>\n",
       "      <th></th>\n",
       "      <th></th>\n",
       "      <th></th>\n",
       "      <th></th>\n",
       "      <th></th>\n",
       "      <th></th>\n",
       "      <th></th>\n",
       "      <th></th>\n",
       "      <th></th>\n",
       "      <th></th>\n",
       "      <th></th>\n",
       "      <th></th>\n",
       "      <th></th>\n",
       "      <th></th>\n",
       "      <th></th>\n",
       "      <th></th>\n",
       "      <th></th>\n",
       "      <th></th>\n",
       "    </tr>\n",
       "  </thead>\n",
       "  <tbody>\n",
       "    <tr>\n",
       "      <th>2022-05-10</th>\n",
       "      <td>99.085000</td>\n",
       "      <td>99.2825</td>\n",
       "      <td>NaN</td>\n",
       "      <td>98.2450</td>\n",
       "      <td>98.5250</td>\n",
       "      <td>99.4900</td>\n",
       "      <td>-14.925</td>\n",
       "      <td>-14.925</td>\n",
       "      <td>8410.72</td>\n",
       "      <td>95.0</td>\n",
       "      <td>...</td>\n",
       "      <td>0.0216</td>\n",
       "      <td>0.9938</td>\n",
       "      <td>6.7524</td>\n",
       "      <td>130.28</td>\n",
       "      <td>6.752400</td>\n",
       "      <td>16.1486</td>\n",
       "      <td>-12.816</td>\n",
       "      <td>1.64</td>\n",
       "      <td>1.40</td>\n",
       "      <td>1.03</td>\n",
       "    </tr>\n",
       "    <tr>\n",
       "      <th>2022-05-09</th>\n",
       "      <td>98.570000</td>\n",
       "      <td>99.2775</td>\n",
       "      <td>NaN</td>\n",
       "      <td>98.2775</td>\n",
       "      <td>98.5275</td>\n",
       "      <td>99.4925</td>\n",
       "      <td>-15.141</td>\n",
       "      <td>-15.141</td>\n",
       "      <td>8389.37</td>\n",
       "      <td>112.5</td>\n",
       "      <td>...</td>\n",
       "      <td>0.0196</td>\n",
       "      <td>0.9913</td>\n",
       "      <td>6.7552</td>\n",
       "      <td>130.17</td>\n",
       "      <td>6.767300</td>\n",
       "      <td>16.2206</td>\n",
       "      <td>-13.071</td>\n",
       "      <td>1.63</td>\n",
       "      <td>1.40</td>\n",
       "      <td>0.97</td>\n",
       "    </tr>\n",
       "    <tr>\n",
       "      <th>2022-05-06</th>\n",
       "      <td>98.550101</td>\n",
       "      <td>99.2775</td>\n",
       "      <td>NaN</td>\n",
       "      <td>98.2650</td>\n",
       "      <td>98.5025</td>\n",
       "      <td>99.4925</td>\n",
       "      <td>-14.781</td>\n",
       "      <td>-14.781</td>\n",
       "      <td>8667.09</td>\n",
       "      <td>112.5</td>\n",
       "      <td>...</td>\n",
       "      <td>0.0219</td>\n",
       "      <td>0.9864</td>\n",
       "      <td>6.7151</td>\n",
       "      <td>130.45</td>\n",
       "      <td>6.727128</td>\n",
       "      <td>16.0321</td>\n",
       "      <td>-12.816</td>\n",
       "      <td>1.62</td>\n",
       "      <td>1.37</td>\n",
       "      <td>0.99</td>\n",
       "    </tr>\n",
       "  </tbody>\n",
       "</table>\n",
       "<p>3 rows × 338 columns</p>\n",
       "</div>"
      ],
      "text/plain": [
       "            1-Month Eurodollar  1-Month SOFR  13-Week T-Bill Rate  \\\n",
       "dt                                                                  \n",
       "2022-05-10           99.085000       99.2825                  NaN   \n",
       "2022-05-09           98.570000       99.2775                  NaN   \n",
       "2022-05-06           98.550101       99.2775                  NaN   \n",
       "\n",
       "            3-Month BSBY  3-Month Eurodollar  3-Month SOFR  \\\n",
       "dt                                                           \n",
       "2022-05-10       98.2450             98.5250       99.4900   \n",
       "2022-05-09       98.2775             98.5275       99.4925   \n",
       "2022-05-06       98.2650             98.5025       99.4925   \n",
       "\n",
       "            3.5% Fuel Oil Barges FOB Rdam (Platts) Crack Spread (1000mt) Futures  \\\n",
       "dt                                                                                 \n",
       "2022-05-10                                            -14.925                      \n",
       "2022-05-09                                            -15.141                      \n",
       "2022-05-06                                            -14.781                      \n",
       "\n",
       "            3.5% Fuel Oil Barges FOB Rdam (Platts) Crack Spread Futures  \\\n",
       "dt                                                                        \n",
       "2022-05-10                                            -14.925             \n",
       "2022-05-09                                            -15.141             \n",
       "2022-05-06                                            -14.781             \n",
       "\n",
       "            Adjusted Interest Rate S&P 500 Total Return Index Futures  \\\n",
       "dt                                                                      \n",
       "2022-05-10                                            8410.72           \n",
       "2022-05-09                                            8389.37           \n",
       "2022-05-06                                            8667.09           \n",
       "\n",
       "            AEP-Dayton Hub Daily Electricity Futures - Peak  ...  \\\n",
       "dt                                                           ...   \n",
       "2022-05-10                                             95.0  ...   \n",
       "2022-05-09                                            112.5  ...   \n",
       "2022-05-06                                            112.5  ...   \n",
       "\n",
       "            Up-Down Gulf Coast ULSD vs. NYMEX HO Spread Swap (Platts)  \\\n",
       "dt                                                                      \n",
       "2022-05-10                                             0.0216           \n",
       "2022-05-09                                             0.0196           \n",
       "2022-05-06                                             0.0219           \n",
       "\n",
       "            USD_CHF Micro  USD_CNH Micro  USD_JPY Micro  USD_offshore RMB  \\\n",
       "dt                                                                          \n",
       "2022-05-10         0.9938         6.7524         130.28          6.752400   \n",
       "2022-05-09         0.9913         6.7552         130.17          6.767300   \n",
       "2022-05-06         0.9864         6.7151         130.45          6.727128   \n",
       "\n",
       "            USD_ZAR  Western Canadian Select Oil (NE2) Monthly Index Futures  \\\n",
       "dt                                                                             \n",
       "2022-05-10  16.1486                                            -12.816         \n",
       "2022-05-09  16.2206                                            -13.071         \n",
       "2022-05-06  16.0321                                            -12.816         \n",
       "\n",
       "            WTI Houston (Argus) vs. WTI Financial Futures  \\\n",
       "dt                                                          \n",
       "2022-05-10                                           1.64   \n",
       "2022-05-09                                           1.63   \n",
       "2022-05-06                                           1.62   \n",
       "\n",
       "            WTI Houston (Argus) vs. WTI Trade Month Futures  \\\n",
       "dt                                                            \n",
       "2022-05-10                                             1.40   \n",
       "2022-05-09                                             1.40   \n",
       "2022-05-06                                             1.37   \n",
       "\n",
       "            WTI Midland (Argus) vs. WTI Trade Month Futures  \n",
       "dt                                                           \n",
       "2022-05-10                                             1.03  \n",
       "2022-05-09                                             0.97  \n",
       "2022-05-06                                             0.99  \n",
       "\n",
       "[3 rows x 338 columns]"
      ]
     },
     "execution_count": 8,
     "metadata": {},
     "output_type": "execute_result"
    }
   ],
   "source": [
    "futures_df.head(3)"
   ]
  },
  {
   "cell_type": "markdown",
   "metadata": {},
   "source": [
    "# United States MBA Purchase Index"
   ]
  },
  {
   "cell_type": "code",
   "execution_count": 9,
   "metadata": {},
   "outputs": [
    {
     "data": {
      "text/html": [
       "<div>\n",
       "<style scoped>\n",
       "    .dataframe tbody tr th:only-of-type {\n",
       "        vertical-align: middle;\n",
       "    }\n",
       "\n",
       "    .dataframe tbody tr th {\n",
       "        vertical-align: top;\n",
       "    }\n",
       "\n",
       "    .dataframe thead th {\n",
       "        text-align: right;\n",
       "    }\n",
       "</style>\n",
       "<table border=\"1\" class=\"dataframe\">\n",
       "  <thead>\n",
       "    <tr style=\"text-align: right;\">\n",
       "      <th></th>\n",
       "      <th>Time</th>\n",
       "      <th>Actual</th>\n",
       "      <th>Previous</th>\n",
       "    </tr>\n",
       "  </thead>\n",
       "  <tbody>\n",
       "    <tr>\n",
       "      <th>2014-09-17</th>\n",
       "      <td>07:00:00</td>\n",
       "      <td>169.3</td>\n",
       "      <td>161.5</td>\n",
       "    </tr>\n",
       "    <tr>\n",
       "      <th>2014-09-24</th>\n",
       "      <td>07:00:00</td>\n",
       "      <td>168.8</td>\n",
       "      <td>169.3</td>\n",
       "    </tr>\n",
       "    <tr>\n",
       "      <th>2014-10-01</th>\n",
       "      <td>07:00:00</td>\n",
       "      <td>168.8</td>\n",
       "      <td>168.8</td>\n",
       "    </tr>\n",
       "    <tr>\n",
       "      <th>2014-10-08</th>\n",
       "      <td>07:00:00</td>\n",
       "      <td>172.9</td>\n",
       "      <td>168.8</td>\n",
       "    </tr>\n",
       "    <tr>\n",
       "      <th>2014-10-15</th>\n",
       "      <td>07:00:00</td>\n",
       "      <td>171.7</td>\n",
       "      <td>172.9</td>\n",
       "    </tr>\n",
       "    <tr>\n",
       "      <th>...</th>\n",
       "      <td>...</td>\n",
       "      <td>...</td>\n",
       "      <td>...</td>\n",
       "    </tr>\n",
       "    <tr>\n",
       "      <th>2022-05-04</th>\n",
       "      <td>07:00</td>\n",
       "      <td>244.4</td>\n",
       "      <td>234.7</td>\n",
       "    </tr>\n",
       "    <tr>\n",
       "      <th>2022-05-11</th>\n",
       "      <td>07:00</td>\n",
       "      <td>255.4</td>\n",
       "      <td>244.4</td>\n",
       "    </tr>\n",
       "    <tr>\n",
       "      <th>2022-05-18</th>\n",
       "      <td>07:00</td>\n",
       "      <td>225.0</td>\n",
       "      <td>255.4</td>\n",
       "    </tr>\n",
       "    <tr>\n",
       "      <th>2022-05-25</th>\n",
       "      <td>07:00</td>\n",
       "      <td>225.5</td>\n",
       "      <td>225.0</td>\n",
       "    </tr>\n",
       "    <tr>\n",
       "      <th>2022-06-01</th>\n",
       "      <td>07:00</td>\n",
       "      <td>NaN</td>\n",
       "      <td>225.5</td>\n",
       "    </tr>\n",
       "  </tbody>\n",
       "</table>\n",
       "<p>395 rows × 3 columns</p>\n",
       "</div>"
      ],
      "text/plain": [
       "                Time  Actual  Previous\n",
       "2014-09-17  07:00:00   169.3     161.5\n",
       "2014-09-24  07:00:00   168.8     169.3\n",
       "2014-10-01  07:00:00   168.8     168.8\n",
       "2014-10-08  07:00:00   172.9     168.8\n",
       "2014-10-15  07:00:00   171.7     172.9\n",
       "...              ...     ...       ...\n",
       "2022-05-04     07:00   244.4     234.7\n",
       "2022-05-11     07:00   255.4     244.4\n",
       "2022-05-18     07:00   225.0     255.4\n",
       "2022-05-25     07:00   225.5     225.0\n",
       "2022-06-01     07:00     NaN     225.5\n",
       "\n",
       "[395 rows x 3 columns]"
      ]
     },
     "execution_count": 9,
     "metadata": {},
     "output_type": "execute_result"
    }
   ],
   "source": [
    "#Weekly Historical Data from excel\n",
    "path_mba = 'F:/Traders/2x4/2x4 v2/Data/Macro/US_MBA_Purchase_Index.xlsx'\n",
    "mba  = pd.read_excel(path_mba, sheet_name='data',index_col=0)\n",
    "\n",
    "# Get More historical data once dates are cleaned\n",
    "mba=mba[:394] \n",
    "mba.index = pd.DatetimeIndex(mba.index).strftime('%Y-%m-%d')\n",
    "# mba.drop('Time',axis=1,inplace=True)\n",
    "mba.index.name = 'dt'\n",
    "mba = mba[['Time','Actual','Previous']]\n",
    "\n",
    "# Data from web\n",
    "from bs4 import BeautifulSoup\n",
    "from urllib.request import Request, urlopen\n",
    "site= \"https://www.investing.com/economic-calendar/mba-purchase-index-1494\"\n",
    "req = Request(site, headers={'User-Agent': 'Mozilla/5.0'})\n",
    "html = urlopen(req)\n",
    "bs = BeautifulSoup(html, \"html5lib\")\n",
    "totals = [s.encode('utf-8') for s in bs.find_all(\"table\")]\n",
    "first_table = bs.select_one(\"table:nth-of-type(1)\")\n",
    "rows = first_table.findAll('tr')\n",
    "data = [[td.findChildren(text=True) for td in tr.findAll(\"td\")] for tr in rows]\n",
    "df = pd.DataFrame.from_records(data)\n",
    "df = df.applymap(lambda x: x if not isinstance(x, list) else x[0] if len(x) else '')\n",
    "df = df.iloc[1: , :]\n",
    "\n",
    "# df.drop(1, axis=1, inplace=True)\n",
    "df.drop(3, axis=1, inplace=True)\n",
    "df.drop(5, axis=1, inplace=True)\n",
    "df.index = pd.DatetimeIndex(df[0].to_list())\n",
    "df.drop([0], axis=1, inplace=True)\n",
    "df.columns = ['Time','Actual', 'Previous']\n",
    "df[['Actual', 'Previous']] = df[['Actual', 'Previous']].apply(pd.to_numeric, errors = 'coerce')\n",
    "# Combined Data\n",
    "df = pd.concat([df,mba],axis=0, ignore_index=False)\n",
    "df.index = pd.to_datetime(df.index)\n",
    "mba = df.copy()\n",
    "mba = mba.groupby(mba.index).first() # drop duplicates\n",
    "# mba.sort_index(inplace=True,ascending = False)\n",
    "mba"
   ]
  },
  {
   "cell_type": "markdown",
   "metadata": {},
   "source": [
    "# Aggregate Dataframes - Weekly"
   ]
  },
  {
   "cell_type": "code",
   "execution_count": null,
   "metadata": {},
   "outputs": [
    {
     "name": "stdout",
     "output_type": "stream",
     "text": [
      "2745\n"
     ]
    },
    {
     "data": {
      "text/html": [
       "<div>\n",
       "<style scoped>\n",
       "    .dataframe tbody tr th:only-of-type {\n",
       "        vertical-align: middle;\n",
       "    }\n",
       "\n",
       "    .dataframe tbody tr th {\n",
       "        vertical-align: top;\n",
       "    }\n",
       "\n",
       "    .dataframe thead th {\n",
       "        text-align: right;\n",
       "    }\n",
       "</style>\n",
       "<table border=\"1\" class=\"dataframe\">\n",
       "  <thead>\n",
       "    <tr style=\"text-align: right;\">\n",
       "      <th></th>\n",
       "    </tr>\n",
       "  </thead>\n",
       "  <tbody>\n",
       "    <tr>\n",
       "      <th>2022-05-08</th>\n",
       "    </tr>\n",
       "    <tr>\n",
       "      <th>2022-05-01</th>\n",
       "    </tr>\n",
       "    <tr>\n",
       "      <th>1969-10-12</th>\n",
       "    </tr>\n",
       "    <tr>\n",
       "      <th>1969-10-05</th>\n",
       "    </tr>\n",
       "  </tbody>\n",
       "</table>\n",
       "</div>"
      ],
      "text/plain": [
       "Empty DataFrame\n",
       "Columns: []\n",
       "Index: [2022-05-08 00:00:00, 2022-05-01 00:00:00, 1969-10-12 00:00:00, 1969-10-05 00:00:00]"
      ]
     },
     "metadata": {},
     "output_type": "display_data"
    }
   ],
   "source": [
    "weekly_dataframe = pd.DataFrame(index = pd.bdate_range(start=lumber_df.index.min(), end=lumber_df.index.max(), freq='W'))\n",
    "weekly_dataframe.drop_duplicates(inplace=True)\n",
    "weekly_dataframe.index = pd.DatetimeIndex(weekly_dataframe.index)\n",
    "weekly_dataframe.sort_index(inplace=True, ascending=False)\n",
    "print(len(weekly_dataframe))\n",
    "weekly_dataframe.head(2).append(weekly_dataframe.tail(2))"
   ]
  },
  {
   "cell_type": "markdown",
   "metadata": {},
   "source": [
    "###  To correct -- Correlation of daily Lumber with weekly (resampled to daily) Mortgage Bankers Association is -20%"
   ]
  },
  {
   "cell_type": "code",
   "execution_count": 10,
   "metadata": {},
   "outputs": [
    {
     "data": {
      "text/html": [
       "<div>\n",
       "<style scoped>\n",
       "    .dataframe tbody tr th:only-of-type {\n",
       "        vertical-align: middle;\n",
       "    }\n",
       "\n",
       "    .dataframe tbody tr th {\n",
       "        vertical-align: top;\n",
       "    }\n",
       "\n",
       "    .dataframe thead th {\n",
       "        text-align: right;\n",
       "    }\n",
       "</style>\n",
       "<table border=\"1\" class=\"dataframe\">\n",
       "  <thead>\n",
       "    <tr style=\"text-align: right;\">\n",
       "      <th></th>\n",
       "      <th>Adj_close</th>\n",
       "      <th>Actual</th>\n",
       "    </tr>\n",
       "  </thead>\n",
       "  <tbody>\n",
       "    <tr>\n",
       "      <th>Adj_close</th>\n",
       "      <td>1.000000</td>\n",
       "      <td>-0.206668</td>\n",
       "    </tr>\n",
       "    <tr>\n",
       "      <th>Actual</th>\n",
       "      <td>-0.206668</td>\n",
       "      <td>1.000000</td>\n",
       "    </tr>\n",
       "  </tbody>\n",
       "</table>\n",
       "</div>"
      ],
      "text/plain": [
       "           Adj_close    Actual\n",
       "Adj_close   1.000000 -0.206668\n",
       "Actual     -0.206668  1.000000"
      ]
     },
     "execution_count": 10,
     "metadata": {},
     "output_type": "execute_result"
    }
   ],
   "source": [
    "pd.concat([lumber_df['Adj_close'], pd.DataFrame(index=lumber_df.index,data=mba['Actual']).ffill()],axis=1).reindex(lumber_df.index).dropna().corr()"
   ]
  },
  {
   "cell_type": "markdown",
   "metadata": {},
   "source": [
    "# NAHB/Wells Fargo Housing Market Index (HMI)"
   ]
  },
  {
   "cell_type": "code",
   "execution_count": 1,
   "metadata": {},
   "outputs": [
    {
     "ename": "NameError",
     "evalue": "name 'pd' is not defined",
     "output_type": "error",
     "traceback": [
      "\u001b[1;31m---------------------------------------------------------------------------\u001b[0m",
      "\u001b[1;31mNameError\u001b[0m                                 Traceback (most recent call last)",
      "\u001b[1;32mc:\\source\\2x4_data\\app\\feature_selection\\DATA_Aggregation.ipynb Cell 22'\u001b[0m in \u001b[0;36m<module>\u001b[1;34m\u001b[0m\n\u001b[0;32m      <a href='vscode-notebook-cell:/c%3A/source/2x4_data/app/feature_selection/DATA_Aggregation.ipynb#ch0000135?line=1'>2</a>\u001b[0m \u001b[39m# HMI is usually published on the 12th Business day of the month but sometimes on 11th or 13th \u001b[39;00m\n\u001b[0;32m      <a href='vscode-notebook-cell:/c%3A/source/2x4_data/app/feature_selection/DATA_Aggregation.ipynb#ch0000135?line=2'>3</a>\u001b[0m hmi_release_url \u001b[39m=\u001b[39m \u001b[39m\"\u001b[39m\u001b[39mhttps://www.nahb.org/news-and-economics/housing-economics/indices/nahb-wells-fargo-housing-market-index-release-dates\u001b[39m\u001b[39m\"\u001b[39m\n\u001b[1;32m----> <a href='vscode-notebook-cell:/c%3A/source/2x4_data/app/feature_selection/DATA_Aggregation.ipynb#ch0000135?line=3'>4</a>\u001b[0m hmi_release \u001b[39m=\u001b[39m pd\u001b[39m.\u001b[39mread_html(hmi_release_url)[\u001b[39m0\u001b[39m]\n\u001b[0;32m      <a href='vscode-notebook-cell:/c%3A/source/2x4_data/app/feature_selection/DATA_Aggregation.ipynb#ch0000135?line=4'>5</a>\u001b[0m \u001b[39mfor\u001b[39;00m dt \u001b[39min\u001b[39;00m hmi_release[\u001b[39m'\u001b[39m\u001b[39mRelease Date\u001b[39m\u001b[39m'\u001b[39m]:\n\u001b[0;32m      <a href='vscode-notebook-cell:/c%3A/source/2x4_data/app/feature_selection/DATA_Aggregation.ipynb#ch0000135?line=5'>6</a>\u001b[0m     release_date \u001b[39m=\u001b[39m pd\u001b[39m.\u001b[39mto_datetime(dt)\n",
      "\u001b[1;31mNameError\u001b[0m: name 'pd' is not defined"
     ]
    }
   ],
   "source": [
    "import datetime\n",
    "# HMI is usually published on the 12th Business day of the month but sometimes on 11th or 13th \n",
    "hmi_release_url = \"https://www.nahb.org/news-and-economics/housing-economics/indices/nahb-wells-fargo-housing-market-index-release-dates\"\n",
    "hmi_release = pd.read_html(hmi_release_url)[0]\n",
    "for dt in hmi_release['Release Date']:\n",
    "    release_date = pd.to_datetime(dt)\n",
    "    release_date = datetime.date(release_date.year, release_date.month, release_date.day)\n",
    "    firstOfMon = datetime.date(release_date.year, release_date.month, 1)\n",
    "    days = len(pd.bdate_range(firstOfMon, release_date))\n",
    "    print(release_date, days)\n"
   ]
  },
  {
   "cell_type": "code",
   "execution_count": 11,
   "metadata": {},
   "outputs": [],
   "source": [
    "def get_hmi_latest_url():\n",
    "    for i in range(0,12):\n",
    "        mnth = '{:02d}'.format((datetime.now() - pd.DateOffset(months=i)).month)\n",
    "        year = '{:02d}'.format((datetime.now() - pd.DateOffset(months=i)).year)\n",
    "        date_str = str(year)+str(mnth)      \n",
    "        try:\n",
    "            wells_hmi = str('https://www.nahb.org/-/media/NAHB/news-and-economics/docs/housing-economics/hmi/'+date_str+ '/t2-national-hmi-history-'+date_str+'.xlsx')\n",
    "            wells_hmi_df = pd.read_excel(wells_hmi, sheet_name='Table2 HMI(History)', skiprows=2)\n",
    "            break\n",
    "        except:\n",
    "            pass\n",
    "    return wells_hmi\n",
    "\n",
    "wells_hmi = get_hmi_latest_url()\n",
    "wells_hmi_df = pd.read_excel(wells_hmi, sheet_name='Table2 HMI(History)', skiprows=2)\n",
    "wells_hmi_df.index = wells_hmi_df['Unnamed: 0']\n",
    "wells_hmi_df = wells_hmi_df.drop(columns=['Unnamed: 0'])\n",
    "wells_hmi_df.index.name = 'Year'\n",
    "wells_hmi_df = wells_hmi_df.unstack()\n",
    "wells_hmi_df.index = pd.to_datetime([f'{y}-{m}-01' for m, y in wells_hmi_df.index])\n",
    "wells_hmi_df.sort_index(inplace=True)\n",
    "wells_hmi_df = pd.DataFrame(wells_hmi_df.values, index=wells_hmi_df.index, columns=['HMI'])\n",
    "wells_hmi_df.dropna(inplace=True)\n",
    "# wells_hmi_df"
   ]
  },
  {
   "cell_type": "code",
   "execution_count": 12,
   "metadata": {},
   "outputs": [
    {
     "data": {
      "text/html": [
       "<div>\n",
       "<style scoped>\n",
       "    .dataframe tbody tr th:only-of-type {\n",
       "        vertical-align: middle;\n",
       "    }\n",
       "\n",
       "    .dataframe tbody tr th {\n",
       "        vertical-align: top;\n",
       "    }\n",
       "\n",
       "    .dataframe thead th {\n",
       "        text-align: right;\n",
       "    }\n",
       "</style>\n",
       "<table border=\"1\" class=\"dataframe\">\n",
       "  <thead>\n",
       "    <tr style=\"text-align: right;\">\n",
       "      <th></th>\n",
       "      <th>Adj_close</th>\n",
       "      <th>HMI</th>\n",
       "    </tr>\n",
       "    <tr>\n",
       "      <th>dt</th>\n",
       "      <th></th>\n",
       "      <th></th>\n",
       "    </tr>\n",
       "  </thead>\n",
       "  <tbody>\n",
       "    <tr>\n",
       "      <th>2022-04-01</th>\n",
       "      <td>849.171396</td>\n",
       "      <td>77.0</td>\n",
       "    </tr>\n",
       "    <tr>\n",
       "      <th>2022-03-31</th>\n",
       "      <td>849.523420</td>\n",
       "      <td>77.0</td>\n",
       "    </tr>\n",
       "    <tr>\n",
       "      <th>2022-03-30</th>\n",
       "      <td>881.557661</td>\n",
       "      <td>77.0</td>\n",
       "    </tr>\n",
       "  </tbody>\n",
       "</table>\n",
       "</div>"
      ],
      "text/plain": [
       "             Adj_close   HMI\n",
       "dt                          \n",
       "2022-04-01  849.171396  77.0\n",
       "2022-03-31  849.523420  77.0\n",
       "2022-03-30  881.557661  77.0"
      ]
     },
     "execution_count": 12,
     "metadata": {},
     "output_type": "execute_result"
    }
   ],
   "source": [
    "hmi_lumber = pd.concat([lumber_df['Adj_close'], pd.DataFrame(index=lumber_df.index,data=wells_hmi_df['HMI']).ffill()],axis=1).reindex(lumber_df.index).dropna()\n",
    "hmi_lumber.head(3)"
   ]
  },
  {
   "cell_type": "markdown",
   "metadata": {},
   "source": [
    "### Correlation of daily Lumber with monthly (resampled to daily) NAHB/Wells Fargo Housing Market Index is ~16%"
   ]
  },
  {
   "cell_type": "code",
   "execution_count": 13,
   "metadata": {},
   "outputs": [
    {
     "data": {
      "text/html": [
       "<div>\n",
       "<style scoped>\n",
       "    .dataframe tbody tr th:only-of-type {\n",
       "        vertical-align: middle;\n",
       "    }\n",
       "\n",
       "    .dataframe tbody tr th {\n",
       "        vertical-align: top;\n",
       "    }\n",
       "\n",
       "    .dataframe thead th {\n",
       "        text-align: right;\n",
       "    }\n",
       "</style>\n",
       "<table border=\"1\" class=\"dataframe\">\n",
       "  <thead>\n",
       "    <tr style=\"text-align: right;\">\n",
       "      <th></th>\n",
       "      <th>Adj_close</th>\n",
       "      <th>HMI</th>\n",
       "    </tr>\n",
       "  </thead>\n",
       "  <tbody>\n",
       "    <tr>\n",
       "      <th>Adj_close</th>\n",
       "      <td>1.000000</td>\n",
       "      <td>0.156292</td>\n",
       "    </tr>\n",
       "    <tr>\n",
       "      <th>HMI</th>\n",
       "      <td>0.156292</td>\n",
       "      <td>1.000000</td>\n",
       "    </tr>\n",
       "  </tbody>\n",
       "</table>\n",
       "</div>"
      ],
      "text/plain": [
       "           Adj_close       HMI\n",
       "Adj_close   1.000000  0.156292\n",
       "HMI         0.156292  1.000000"
      ]
     },
     "execution_count": 13,
     "metadata": {},
     "output_type": "execute_result"
    }
   ],
   "source": [
    "hmi_lumber.corr()"
   ]
  },
  {
   "cell_type": "markdown",
   "metadata": {},
   "source": [
    "# OverNight Funding Rates - NEWYORK FED     \n",
    "\n",
    "- Rates Dict (overnight_rates) and Averagerate dataframe"
   ]
  },
  {
   "cell_type": "code",
   "execution_count": 14,
   "metadata": {},
   "outputs": [],
   "source": [
    "import warnings\n",
    "endDT = datetime.datetime.now().strftime(\"%Y-%m-%d\")\n",
    "# Overnight Unsecured rates (EFFR, OBFR, TGCR, BGCR, SOFR)\n",
    "\n",
    "link_first = \"https://markets.newyorkfed.org/read?startDt=2000-01-01&endDt=\"\n",
    "link_last = \"&eventCodes=510,515,520,500,505&productCode=50&sort=postDt:-1,eventCode:1&format=xlsx\"\n",
    "# overnight_rates = 'https://markets.newyorkfed.org/read?startDt=2000-01-01&endDt=2022-05-24&eventCodes=510,515,520,500,505&productCode=50&sort=postDt:-1,eventCode:1&format=xlsx'\n",
    "overnight_rates = link_first + endDT + link_last\n",
    "warnings.filterwarnings('ignore')\n",
    "overnight_rates = pd.read_excel(overnight_rates)\n",
    "overnight_rates.set_index('Effective Date', inplace=True)\n",
    "\n",
    "# average_rates =\"https://markets.newyorkfed.org/read?startDt=2000-01-01&endDt=2022-05-24&eventCodes=525&productCode=50&sort=postDt:-1,eventCode:1&format=xlsx\"\n",
    "average_rate_link_first = \"https://markets.newyorkfed.org/read?startDt=2000-01-01&endDt=\"\n",
    "average_rate_link_last = \"&eventCodes=525&productCode=50&sort=postDt:-1,eventCode:1&format=xlsx\"\n",
    "average_rates = average_rate_link_first + endDT + average_rate_link_last\n",
    "average_rates = pd.read_excel(average_rates)\n",
    "average_rates.set_index('Effective Date', inplace=True)\n",
    "average_rates = pd.DataFrame(average_rates['SOFR Index'])\n",
    "average_rates.index = pd.DatetimeIndex(average_rates.index).strftime('%Y-%m-%d')\n",
    "rates_dict = {}\n",
    "for rate in overnight_rates['Rate Type'].unique():\n",
    "    rates_dict[rate] = pd.DataFrame(overnight_rates[overnight_rates['Rate Type'] == rate].drop(['Rate Type'], axis=1)['Rate (%)'])\n",
    "    rates_dict[rate].index = pd.DatetimeIndex(rates_dict[rate].index).strftime('%Y-%m-%d')\n",
    "\n",
    "overnight_rates.index = pd.DatetimeIndex(overnight_rates.index)\n",
    "rates_df = overnight_rates.pivot_table(index='Effective Date', columns='Rate Type', values='Rate (%)')\n",
    "rates_df.sort_index(ascending=False, inplace=True)\n",
    "\n",
    "over_night_rates_df = pd.concat([rates_df,average_rates], axis=1)\n",
    "over_night_rates_df.sort_index(ascending=False, inplace=True)\n"
   ]
  },
  {
   "cell_type": "markdown",
   "metadata": {},
   "source": [
    "### Correlation of daily Lumber with daily Average SOFR rates:"
   ]
  },
  {
   "cell_type": "code",
   "execution_count": 15,
   "metadata": {},
   "outputs": [
    {
     "data": {
      "text/html": [
       "<div>\n",
       "<style scoped>\n",
       "    .dataframe tbody tr th:only-of-type {\n",
       "        vertical-align: middle;\n",
       "    }\n",
       "\n",
       "    .dataframe tbody tr th {\n",
       "        vertical-align: top;\n",
       "    }\n",
       "\n",
       "    .dataframe thead th {\n",
       "        text-align: right;\n",
       "    }\n",
       "</style>\n",
       "<table border=\"1\" class=\"dataframe\">\n",
       "  <thead>\n",
       "    <tr style=\"text-align: right;\">\n",
       "      <th></th>\n",
       "      <th>Adj_close</th>\n",
       "      <th>SOFR Index</th>\n",
       "    </tr>\n",
       "  </thead>\n",
       "  <tbody>\n",
       "    <tr>\n",
       "      <th>Adj_close</th>\n",
       "      <td>1.000000</td>\n",
       "      <td>0.672123</td>\n",
       "    </tr>\n",
       "    <tr>\n",
       "      <th>SOFR Index</th>\n",
       "      <td>0.672123</td>\n",
       "      <td>1.000000</td>\n",
       "    </tr>\n",
       "  </tbody>\n",
       "</table>\n",
       "</div>"
      ],
      "text/plain": [
       "            Adj_close  SOFR Index\n",
       "Adj_close    1.000000    0.672123\n",
       "SOFR Index   0.672123    1.000000"
      ]
     },
     "execution_count": 15,
     "metadata": {},
     "output_type": "execute_result"
    }
   ],
   "source": [
    "pd.concat([pd.DataFrame(lumber_df['Adj_close']),pd.DataFrame(average_rates['SOFR Index'])],axis=1).dropna().corr()"
   ]
  },
  {
   "cell_type": "markdown",
   "metadata": {},
   "source": [
    "\n",
    "##### EFFR (since 2000), OBFR(since 2016), TGCR & BGCR (since 2018)"
   ]
  },
  {
   "cell_type": "code",
   "execution_count": 16,
   "metadata": {},
   "outputs": [
    {
     "data": {
      "text/html": [
       "<div>\n",
       "<style scoped>\n",
       "    .dataframe tbody tr th:only-of-type {\n",
       "        vertical-align: middle;\n",
       "    }\n",
       "\n",
       "    .dataframe tbody tr th {\n",
       "        vertical-align: top;\n",
       "    }\n",
       "\n",
       "    .dataframe thead th {\n",
       "        text-align: right;\n",
       "    }\n",
       "</style>\n",
       "<table border=\"1\" class=\"dataframe\">\n",
       "  <thead>\n",
       "    <tr style=\"text-align: right;\">\n",
       "      <th></th>\n",
       "      <th>Adj_close</th>\n",
       "      <th>SOFR Index</th>\n",
       "    </tr>\n",
       "  </thead>\n",
       "  <tbody>\n",
       "    <tr>\n",
       "      <th>Adj_close</th>\n",
       "      <td>1.000000</td>\n",
       "      <td>0.672123</td>\n",
       "    </tr>\n",
       "    <tr>\n",
       "      <th>SOFR Index</th>\n",
       "      <td>0.672123</td>\n",
       "      <td>1.000000</td>\n",
       "    </tr>\n",
       "  </tbody>\n",
       "</table>\n",
       "</div>"
      ],
      "text/plain": [
       "            Adj_close  SOFR Index\n",
       "Adj_close    1.000000    0.672123\n",
       "SOFR Index   0.672123    1.000000"
      ]
     },
     "execution_count": 16,
     "metadata": {},
     "output_type": "execute_result"
    }
   ],
   "source": [
    "pd.concat([pd.DataFrame(lumber_df['Adj_close']),pd.DataFrame(average_rates['SOFR Index'])],axis=1).dropna().corr()"
   ]
  },
  {
   "cell_type": "code",
   "execution_count": 17,
   "metadata": {},
   "outputs": [
    {
     "name": "stdout",
     "output_type": "stream",
     "text": [
      "EFFR 59.58\n",
      "OBFR -47.64\n",
      "TGCR -62.16\n",
      "BGCR -62.16\n",
      "SOFR -62.52\n"
     ]
    }
   ],
   "source": [
    "for rate in rates_dict.keys():\n",
    "    print(rate,round(((pd.concat([pd.DataFrame(lumber_df['Adj_close']),pd.DataFrame(rates_dict[rate]['Rate (%)'])],axis=1).dropna().corr()).iloc[0][1]*100),2))"
   ]
  },
  {
   "cell_type": "code",
   "execution_count": 18,
   "metadata": {},
   "outputs": [
    {
     "data": {
      "image/png": "[encoded data removed]",
      "text/plain": [
       "<Figure size 432x288 with 1 Axes>"
      ]
     },
     "metadata": {
      "needs_background": "light"
     },
     "output_type": "display_data"
    }
   ],
   "source": [
    "sample = pd.concat([pd.DataFrame(lumber_df['Adj_close']),pd.DataFrame(rates_dict[rate]['Rate (%)'])],axis=1).dropna()\n",
    "plt.scatter(x=sample['Adj_close'],y=sample['Rate (%)']);"
   ]
  },
  {
   "cell_type": "markdown",
   "metadata": {},
   "source": [
    "### Correlation using pct changes for Lumber"
   ]
  },
  {
   "cell_type": "code",
   "execution_count": 19,
   "metadata": {},
   "outputs": [
    {
     "name": "stdout",
     "output_type": "stream",
     "text": [
      "EFFR -2.88\n",
      "OBFR -4.57\n",
      "TGCR -5.54\n",
      "BGCR -5.54\n",
      "SOFR -5.51\n"
     ]
    }
   ],
   "source": [
    "for rate in rates_dict.keys():\n",
    "    print(rate,round(((pd.concat([pd.DataFrame(lumber_df['Adj_close'].pct_change(-1)),pd.DataFrame(rates_dict[rate]['Rate (%)'])],axis=1).dropna().corr()).iloc[0][1]*100),2))"
   ]
  },
  {
   "cell_type": "code",
   "execution_count": 20,
   "metadata": {},
   "outputs": [
    {
     "data": {
      "image/png": "[encoded data removed]",
      "text/plain": [
       "<Figure size 432x288 with 1 Axes>"
      ]
     },
     "metadata": {
      "needs_background": "light"
     },
     "output_type": "display_data"
    }
   ],
   "source": [
    "sample = pd.concat([pd.DataFrame(lumber_df['Adj_close'].pct_change(-1)),pd.DataFrame(rates_dict[rate]['Rate (%)'])],axis=1).dropna()\n",
    "plt.scatter(x=sample['Adj_close'],y=sample['Rate (%)']);"
   ]
  },
  {
   "cell_type": "markdown",
   "metadata": {},
   "source": [
    "#### Spreaman correlation - on pct changes as these tests to do not depend on any underlying assumption of normality which if breaks if you use pct change (percentages are bounded by [0, 1])"
   ]
  },
  {
   "cell_type": "code",
   "execution_count": 21,
   "metadata": {},
   "outputs": [
    {
     "name": "stdout",
     "output_type": "stream",
     "text": [
      "EFFR : SpearmanrResult(correlation=-0.04446111375836081, pvalue=0.0010144577044086452)\n",
      "OBFR : SpearmanrResult(correlation=-0.07947842857352735, pvalue=0.0017331805071343967)\n",
      "TGCR : SpearmanrResult(correlation=-0.08668849920027069, pvalue=0.0054141616290987425)\n",
      "BGCR : SpearmanrResult(correlation=-0.08671673488427667, pvalue=0.005399014005232176)\n",
      "SOFR : SpearmanrResult(correlation=-0.08167705344472402, pvalue=0.008794062622879713)\n"
     ]
    }
   ],
   "source": [
    "for rate in rates_dict.keys():\n",
    "    print(rate,\":\",spearmanr(pd.concat([pd.DataFrame(lumber_df['Adj_close'].pct_change(-1)),pd.DataFrame(rates_dict[rate]['Rate (%)'])],axis=1).dropna()))"
   ]
  },
  {
   "cell_type": "markdown",
   "metadata": {},
   "source": [
    "# Realtor Data https://www.realtor.com/research/data/"
   ]
  },
  {
   "cell_type": "markdown",
   "metadata": {},
   "source": [
    "### Weekly Realtor"
   ]
  },
  {
   "cell_type": "code",
   "execution_count": 62,
   "metadata": {},
   "outputs": [
    {
     "data": {
      "text/html": [
       "<div>\n",
       "<style scoped>\n",
       "    .dataframe tbody tr th:only-of-type {\n",
       "        vertical-align: middle;\n",
       "    }\n",
       "\n",
       "    .dataframe tbody tr th {\n",
       "        vertical-align: top;\n",
       "    }\n",
       "\n",
       "    .dataframe thead th {\n",
       "        text-align: right;\n",
       "    }\n",
       "</style>\n",
       "<table border=\"1\" class=\"dataframe\">\n",
       "  <thead>\n",
       "    <tr style=\"text-align: right;\">\n",
       "      <th></th>\n",
       "      <th>median_listing_price_yy (%)</th>\n",
       "      <th>active_listing_count_yy (%)</th>\n",
       "      <th>median_days_on_market_by_day_yy</th>\n",
       "      <th>median_days_on_market_yy (%)</th>\n",
       "      <th>new_listing_count_yy (%)</th>\n",
       "      <th>new_listing_share_yy (%)</th>\n",
       "      <th>price_reduced_count_yy (%)</th>\n",
       "      <th>price_reduced_share_yy (%)</th>\n",
       "    </tr>\n",
       "    <tr>\n",
       "      <th>dt</th>\n",
       "      <th></th>\n",
       "      <th></th>\n",
       "      <th></th>\n",
       "      <th></th>\n",
       "      <th></th>\n",
       "      <th></th>\n",
       "      <th></th>\n",
       "      <th></th>\n",
       "    </tr>\n",
       "  </thead>\n",
       "  <tbody>\n",
       "    <tr>\n",
       "      <th>2022-05-21</th>\n",
       "      <td>16.6</td>\n",
       "      <td>8.6</td>\n",
       "      <td>-6</td>\n",
       "      <td>-16.7</td>\n",
       "      <td>6.3</td>\n",
       "      <td>0.9</td>\n",
       "      <td>71.9</td>\n",
       "      <td>1.6</td>\n",
       "    </tr>\n",
       "    <tr>\n",
       "      <th>2017-07-01</th>\n",
       "      <td>8.1</td>\n",
       "      <td>-10.6</td>\n",
       "      <td>-4</td>\n",
       "      <td>-6.0</td>\n",
       "      <td>0.4</td>\n",
       "      <td>0.5</td>\n",
       "      <td>3.3</td>\n",
       "      <td>0.6</td>\n",
       "    </tr>\n",
       "  </tbody>\n",
       "</table>\n",
       "</div>"
      ],
      "text/plain": [
       "            median_listing_price_yy (%)  active_listing_count_yy (%)  \\\n",
       "dt                                                                     \n",
       "2022-05-21                         16.6                          8.6   \n",
       "2017-07-01                          8.1                        -10.6   \n",
       "\n",
       "            median_days_on_market_by_day_yy  median_days_on_market_yy (%)  \\\n",
       "dt                                                                          \n",
       "2022-05-21                               -6                         -16.7   \n",
       "2017-07-01                               -4                          -6.0   \n",
       "\n",
       "            new_listing_count_yy (%)  new_listing_share_yy (%)  \\\n",
       "dt                                                               \n",
       "2022-05-21                       6.3                       0.9   \n",
       "2017-07-01                       0.4                       0.5   \n",
       "\n",
       "            price_reduced_count_yy (%)  price_reduced_share_yy (%)  \n",
       "dt                                                                  \n",
       "2022-05-21                        71.9                         1.6  \n",
       "2017-07-01                         3.3                         0.6  "
      ]
     },
     "execution_count": 62,
     "metadata": {},
     "output_type": "execute_result"
    }
   ],
   "source": [
    "weekly_realtor_link = 'https://econdata.s3-us-west-2.amazonaws.com/Reports/Core/listing_weekly_core_aggregate_by_country.csv'\n",
    "weekly_realtor = pd.read_csv(weekly_realtor_link)\n",
    "weekly_realtor.index = pd.DatetimeIndex(weekly_realtor['week_end_date'])\n",
    "weekly_realtor.drop(['week_end_date'], axis=1, inplace=True)\n",
    "weekly_realtor.drop(['geo_country'], axis=1, inplace=True)\n",
    "weekly_realtor.index.name = 'dt'\n",
    "\n",
    "# Convert strings to numeric values and remove % from cells\n",
    "for col in weekly_realtor.columns:\n",
    "    try:\n",
    "        weekly_realtor[col] = weekly_realtor[col].apply(lambda x: x.replace('%',''))\n",
    "        weekly_realtor[col] = pd.to_numeric(weekly_realtor[col], errors='coerce')\n",
    "    except:\n",
    "        weekly_realtor[col] = pd.to_numeric(weekly_realtor[col], errors='coerce')\n",
    "\n",
    "# Add % to column headers\n",
    "weekly_realtor.columns = ['{}{}'.format(c, '' if c in ['median_days_on_market_by_day_yy'] else ' (%)') for c in weekly_realtor.columns]\n",
    "\n",
    "weekly_realtor.head(1).append(weekly_realtor.tail(1))"
   ]
  },
  {
   "cell_type": "markdown",
   "metadata": {},
   "source": [
    "### correlation with Weekly_Realtors Data -  weekly and starts only from 2017\n",
    "> A"
   ]
  },
  {
   "cell_type": "markdown",
   "metadata": {},
   "source": [
    "#### Pearson correlation btw (1) weekly realtor data filled for daily data & (2) daily Lumber prices"
   ]
  },
  {
   "cell_type": "code",
   "execution_count": 64,
   "metadata": {},
   "outputs": [
    {
     "name": "stdout",
     "output_type": "stream",
     "text": [
      "median_listing_price_yy (%) : 76.95\n",
      "active_listing_count_yy (%) : -65.8\n",
      "median_days_on_market_by_day_yy : -71.86\n",
      "median_days_on_market_yy (%) : -73.53\n",
      "new_listing_count_yy (%) : 17.35\n",
      "new_listing_share_yy (%) : 63.58\n",
      "price_reduced_count_yy (%) : -39.44\n",
      "price_reduced_share_yy (%) : -16.79\n"
     ]
    }
   ],
   "source": [
    "# Resample Weekly Data to Daily\n",
    "weekly_realtor = pd.DataFrame(data=weekly_realtor).set_index(weekly_realtor.index).resample('D').ffill().sort_index(ascending=False)\n",
    "\n",
    "# notice above we did ffill but now we also doing bfill\n",
    "for col in weekly_realtor.columns:\n",
    "    print(col,\":\",round(((pd.concat([lumber_df['Adj_close'], pd.DataFrame(index=lumber_df.index,data=weekly_realtor[col]).bfill()],axis=1).dropna().corr()).iloc[0][1]*100),2))\n"
   ]
  },
  {
   "cell_type": "markdown",
   "metadata": {},
   "source": [
    "## Pearson correlation btw (1) weekly realtor data filled for daily data & (2) daily Lumber prices % change"
   ]
  },
  {
   "cell_type": "code",
   "execution_count": 24,
   "metadata": {},
   "outputs": [
    {
     "name": "stdout",
     "output_type": "stream",
     "text": [
      "median_listing_price_yy (%) : 3.09\n",
      "active_listing_count_yy (%) : -3.66\n",
      "median_days_on_market_by_day_yy : 4.83\n",
      "median_days_on_market_yy (%) : 4.8\n",
      "new_listing_count_yy (%) : 0.17\n",
      "new_listing_share_yy (%) : 0.86\n",
      "price_reduced_count_yy (%) : -2.86\n",
      "price_reduced_share_yy (%) : -1.76\n"
     ]
    }
   ],
   "source": [
    "# notice above we did ffill but now we also doing bfill\n",
    "for col in weekly_realtor.columns:\n",
    "    print(col,\":\",round(((pd.concat([lumber_df['Adj_close'].pct_change(-1), pd.DataFrame(index=lumber_df.index,data=weekly_realtor[col]).bfill()],axis=1).dropna().corr()).iloc[0][1]*100),2))\n"
   ]
  },
  {
   "cell_type": "code",
   "execution_count": 25,
   "metadata": {},
   "outputs": [
    {
     "data": {
      "text/html": [
       "<div>\n",
       "<style scoped>\n",
       "    .dataframe tbody tr th:only-of-type {\n",
       "        vertical-align: middle;\n",
       "    }\n",
       "\n",
       "    .dataframe tbody tr th {\n",
       "        vertical-align: top;\n",
       "    }\n",
       "\n",
       "    .dataframe thead th {\n",
       "        text-align: right;\n",
       "    }\n",
       "</style>\n",
       "<table border=\"1\" class=\"dataframe\">\n",
       "  <thead>\n",
       "    <tr style=\"text-align: right;\">\n",
       "      <th></th>\n",
       "      <th>close</th>\n",
       "      <th>Adj_close</th>\n",
       "      <th>open</th>\n",
       "      <th>Adj_open</th>\n",
       "      <th>high</th>\n",
       "      <th>Adj_high</th>\n",
       "      <th>low</th>\n",
       "      <th>Adj_low</th>\n",
       "      <th>volume</th>\n",
       "      <th>openInterest</th>\n",
       "    </tr>\n",
       "    <tr>\n",
       "      <th>dt</th>\n",
       "      <th></th>\n",
       "      <th></th>\n",
       "      <th></th>\n",
       "      <th></th>\n",
       "      <th></th>\n",
       "      <th></th>\n",
       "      <th></th>\n",
       "      <th></th>\n",
       "      <th></th>\n",
       "      <th></th>\n",
       "    </tr>\n",
       "  </thead>\n",
       "  <tbody>\n",
       "    <tr>\n",
       "      <th>1969-10-04</th>\n",
       "      <td>80.166667</td>\n",
       "      <td>17348.436923</td>\n",
       "      <td>79.416667</td>\n",
       "      <td>17186.133459</td>\n",
       "      <td>80.25</td>\n",
       "      <td>17366.470641</td>\n",
       "      <td>79.166667</td>\n",
       "      <td>17132.032305</td>\n",
       "      <td>0.0</td>\n",
       "      <td>0.0</td>\n",
       "    </tr>\n",
       "    <tr>\n",
       "      <th>2022-05-14</th>\n",
       "      <td>1015.500000</td>\n",
       "      <td>1015.500000</td>\n",
       "      <td>1004.050000</td>\n",
       "      <td>1004.050000</td>\n",
       "      <td>1020.00</td>\n",
       "      <td>1020.000000</td>\n",
       "      <td>991.500000</td>\n",
       "      <td>991.500000</td>\n",
       "      <td>71.0</td>\n",
       "      <td>81.5</td>\n",
       "    </tr>\n",
       "  </tbody>\n",
       "</table>\n",
       "</div>"
      ],
      "text/plain": [
       "                  close     Adj_close         open      Adj_open     high  \\\n",
       "dt                                                                          \n",
       "1969-10-04    80.166667  17348.436923    79.416667  17186.133459    80.25   \n",
       "2022-05-14  1015.500000   1015.500000  1004.050000   1004.050000  1020.00   \n",
       "\n",
       "                Adj_high         low       Adj_low  volume  openInterest  \n",
       "dt                                                                        \n",
       "1969-10-04  17366.470641   79.166667  17132.032305     0.0           0.0  \n",
       "2022-05-14   1020.000000  991.500000    991.500000    71.0          81.5  "
      ]
     },
     "execution_count": 25,
     "metadata": {},
     "output_type": "execute_result"
    }
   ],
   "source": [
    "weekly_sat_resampled_lumber = pd.DataFrame(index= pd.DatetimeIndex(lumber_df.index),data= lumber_df.values, columns=lumber_df.columns ).resample('W-SAT').mean()\n",
    "weekly_sat_resampled_lumber.head(1).append(weekly_sat_resampled_lumber.tail(1))"
   ]
  },
  {
   "cell_type": "code",
   "execution_count": null,
   "metadata": {},
   "outputs": [],
   "source": [
    "# delete"
   ]
  },
  {
   "cell_type": "markdown",
   "metadata": {},
   "source": [
    "## Spearman Rank correlation resampled (to weekly) Lumber prices pct changes and weekly realtor data"
   ]
  },
  {
   "cell_type": "code",
   "execution_count": 26,
   "metadata": {},
   "outputs": [
    {
     "data": {
      "text/html": [
       "<div>\n",
       "<style scoped>\n",
       "    .dataframe tbody tr th:only-of-type {\n",
       "        vertical-align: middle;\n",
       "    }\n",
       "\n",
       "    .dataframe tbody tr th {\n",
       "        vertical-align: top;\n",
       "    }\n",
       "\n",
       "    .dataframe thead th {\n",
       "        text-align: right;\n",
       "    }\n",
       "</style>\n",
       "<table border=\"1\" class=\"dataframe\">\n",
       "  <thead>\n",
       "    <tr style=\"text-align: right;\">\n",
       "      <th></th>\n",
       "      <th>Item</th>\n",
       "      <th>Spearman</th>\n",
       "      <th>p-value</th>\n",
       "    </tr>\n",
       "  </thead>\n",
       "  <tbody>\n",
       "    <tr>\n",
       "      <th>0</th>\n",
       "      <td>median_listing_price_yy (%)</td>\n",
       "      <td>0.11</td>\n",
       "      <td>0.079</td>\n",
       "    </tr>\n",
       "    <tr>\n",
       "      <th>0</th>\n",
       "      <td>new_listing_share_yy (%)</td>\n",
       "      <td>0.08</td>\n",
       "      <td>0.23</td>\n",
       "    </tr>\n",
       "    <tr>\n",
       "      <th>0</th>\n",
       "      <td>median_days_on_market_yy (%)</td>\n",
       "      <td>0.0</td>\n",
       "      <td>0.969</td>\n",
       "    </tr>\n",
       "    <tr>\n",
       "      <th>0</th>\n",
       "      <td>median_days_on_market_by_day_yy</td>\n",
       "      <td>-0.03</td>\n",
       "      <td>0.659</td>\n",
       "    </tr>\n",
       "    <tr>\n",
       "      <th>0</th>\n",
       "      <td>new_listing_count_yy (%)</td>\n",
       "      <td>-0.05</td>\n",
       "      <td>0.433</td>\n",
       "    </tr>\n",
       "    <tr>\n",
       "      <th>0</th>\n",
       "      <td>price_reduced_share_yy (%)</td>\n",
       "      <td>-0.09</td>\n",
       "      <td>0.152</td>\n",
       "    </tr>\n",
       "    <tr>\n",
       "      <th>0</th>\n",
       "      <td>price_reduced_count_yy (%)</td>\n",
       "      <td>-0.12</td>\n",
       "      <td>0.051</td>\n",
       "    </tr>\n",
       "    <tr>\n",
       "      <th>0</th>\n",
       "      <td>active_listing_count_yy (%)</td>\n",
       "      <td>-0.14</td>\n",
       "      <td>0.027</td>\n",
       "    </tr>\n",
       "  </tbody>\n",
       "</table>\n",
       "</div>"
      ],
      "text/plain": [
       "                              Item Spearman p-value\n",
       "0      median_listing_price_yy (%)     0.11   0.079\n",
       "0         new_listing_share_yy (%)     0.08    0.23\n",
       "0     median_days_on_market_yy (%)      0.0   0.969\n",
       "0  median_days_on_market_by_day_yy    -0.03   0.659\n",
       "0         new_listing_count_yy (%)    -0.05   0.433\n",
       "0       price_reduced_share_yy (%)    -0.09   0.152\n",
       "0       price_reduced_count_yy (%)    -0.12   0.051\n",
       "0      active_listing_count_yy (%)    -0.14   0.027"
      ]
     },
     "execution_count": 26,
     "metadata": {},
     "output_type": "execute_result"
    }
   ],
   "source": [
    "weekly_realtor_spr = pd.DataFrame(columns=['Item','Spearman','p-value'])\n",
    "for col in weekly_realtor.columns:\n",
    "    spr = spearmanr(pd.concat([weekly_realtor[col],weekly_sat_resampled_lumber['Adj_close'].pct_change(1)],axis=1).dropna())\n",
    "    item_df = pd.DataFrame(data=[col, round(spr[0],2), round(spr[1],3)]).T\n",
    "    item_df.columns = weekly_realtor_spr.columns\n",
    "    weekly_realtor_spr = pd.concat([item_df,weekly_realtor_spr],axis=0)\n",
    "weekly_realtor_spr.sort_values(by='Spearman',ascending=False)"
   ]
  },
  {
   "cell_type": "markdown",
   "metadata": {},
   "source": [
    "## Spearman Rank correlation resampled (to weekly) Lumber prices and weekly realtor data"
   ]
  },
  {
   "cell_type": "code",
   "execution_count": 27,
   "metadata": {},
   "outputs": [
    {
     "data": {
      "text/html": [
       "<div>\n",
       "<style scoped>\n",
       "    .dataframe tbody tr th:only-of-type {\n",
       "        vertical-align: middle;\n",
       "    }\n",
       "\n",
       "    .dataframe tbody tr th {\n",
       "        vertical-align: top;\n",
       "    }\n",
       "\n",
       "    .dataframe thead th {\n",
       "        text-align: right;\n",
       "    }\n",
       "</style>\n",
       "<table border=\"1\" class=\"dataframe\">\n",
       "  <thead>\n",
       "    <tr style=\"text-align: right;\">\n",
       "      <th></th>\n",
       "      <th>Item</th>\n",
       "      <th>Spearman</th>\n",
       "      <th>p-value</th>\n",
       "    </tr>\n",
       "  </thead>\n",
       "  <tbody>\n",
       "    <tr>\n",
       "      <th>0</th>\n",
       "      <td>active_listing_count_yy (%)</td>\n",
       "      <td>0.73</td>\n",
       "      <td>0.0</td>\n",
       "    </tr>\n",
       "    <tr>\n",
       "      <th>0</th>\n",
       "      <td>price_reduced_count_yy (%)</td>\n",
       "      <td>0.7</td>\n",
       "      <td>0.0</td>\n",
       "    </tr>\n",
       "    <tr>\n",
       "      <th>0</th>\n",
       "      <td>new_listing_share_yy (%)</td>\n",
       "      <td>0.08</td>\n",
       "      <td>0.1802</td>\n",
       "    </tr>\n",
       "    <tr>\n",
       "      <th>0</th>\n",
       "      <td>median_listing_price_yy (%)</td>\n",
       "      <td>-0.09</td>\n",
       "      <td>0.1518</td>\n",
       "    </tr>\n",
       "    <tr>\n",
       "      <th>0</th>\n",
       "      <td>price_reduced_share_yy (%)</td>\n",
       "      <td>-0.34</td>\n",
       "      <td>0.0</td>\n",
       "    </tr>\n",
       "    <tr>\n",
       "      <th>0</th>\n",
       "      <td>median_days_on_market_by_day_yy</td>\n",
       "      <td>-0.6</td>\n",
       "      <td>0.0</td>\n",
       "    </tr>\n",
       "    <tr>\n",
       "      <th>0</th>\n",
       "      <td>median_days_on_market_yy (%)</td>\n",
       "      <td>-0.72</td>\n",
       "      <td>0.0</td>\n",
       "    </tr>\n",
       "    <tr>\n",
       "      <th>0</th>\n",
       "      <td>new_listing_count_yy (%)</td>\n",
       "      <td>-0.75</td>\n",
       "      <td>0.0</td>\n",
       "    </tr>\n",
       "  </tbody>\n",
       "</table>\n",
       "</div>"
      ],
      "text/plain": [
       "                              Item Spearman p-value\n",
       "0      active_listing_count_yy (%)     0.73     0.0\n",
       "0       price_reduced_count_yy (%)      0.7     0.0\n",
       "0         new_listing_share_yy (%)     0.08  0.1802\n",
       "0      median_listing_price_yy (%)    -0.09  0.1518\n",
       "0       price_reduced_share_yy (%)    -0.34     0.0\n",
       "0  median_days_on_market_by_day_yy     -0.6     0.0\n",
       "0     median_days_on_market_yy (%)    -0.72     0.0\n",
       "0         new_listing_count_yy (%)    -0.75     0.0"
      ]
     },
     "execution_count": 27,
     "metadata": {},
     "output_type": "execute_result"
    }
   ],
   "source": [
    "weekly_realtor_spr = pd.DataFrame(columns=['Item','Spearman','p-value'])\n",
    "for col in weekly_realtor.columns:\n",
    "    item_df = pd.DataFrame(data=[col, round(spr[0],2), round(spr[1],4)]).T\n",
    "    item_df.columns = weekly_realtor_spr.columns\n",
    "    spr = spearmanr(pd.concat([weekly_realtor[col],weekly_sat_resampled_lumber['Adj_close']],axis=1).dropna())\n",
    "    weekly_realtor_spr = pd.concat([item_df,weekly_realtor_spr],axis=0)\n",
    "weekly_realtor_spr.sort_values(by='Spearman',ascending=False)"
   ]
  },
  {
   "cell_type": "markdown",
   "metadata": {},
   "source": [
    "## Monthly Realtor"
   ]
  },
  {
   "cell_type": "code",
   "execution_count": 28,
   "metadata": {},
   "outputs": [
    {
     "data": {
      "text/html": [
       "<div>\n",
       "<style scoped>\n",
       "    .dataframe tbody tr th:only-of-type {\n",
       "        vertical-align: middle;\n",
       "    }\n",
       "\n",
       "    .dataframe tbody tr th {\n",
       "        vertical-align: top;\n",
       "    }\n",
       "\n",
       "    .dataframe thead th {\n",
       "        text-align: right;\n",
       "    }\n",
       "</style>\n",
       "<table border=\"1\" class=\"dataframe\">\n",
       "  <thead>\n",
       "    <tr style=\"text-align: right;\">\n",
       "      <th></th>\n",
       "      <th>median_listing_price</th>\n",
       "      <th>median_listing_price_mm</th>\n",
       "      <th>median_listing_price_yy</th>\n",
       "      <th>active_listing_count</th>\n",
       "      <th>active_listing_count_mm</th>\n",
       "      <th>active_listing_count_yy</th>\n",
       "      <th>median_days_on_market</th>\n",
       "      <th>median_days_on_market_mm</th>\n",
       "      <th>median_days_on_market_yy</th>\n",
       "      <th>new_listing_count</th>\n",
       "      <th>...</th>\n",
       "      <th>median_square_feet_yy</th>\n",
       "      <th>average_listing_price</th>\n",
       "      <th>average_listing_price_mm</th>\n",
       "      <th>average_listing_price_yy</th>\n",
       "      <th>total_listing_count</th>\n",
       "      <th>total_listing_count_mm</th>\n",
       "      <th>total_listing_count_yy</th>\n",
       "      <th>pending_ratio</th>\n",
       "      <th>pending_ratio_mm</th>\n",
       "      <th>pending_ratio_yy</th>\n",
       "    </tr>\n",
       "    <tr>\n",
       "      <th>dt</th>\n",
       "      <th></th>\n",
       "      <th></th>\n",
       "      <th></th>\n",
       "      <th></th>\n",
       "      <th></th>\n",
       "      <th></th>\n",
       "      <th></th>\n",
       "      <th></th>\n",
       "      <th></th>\n",
       "      <th></th>\n",
       "      <th></th>\n",
       "      <th></th>\n",
       "      <th></th>\n",
       "      <th></th>\n",
       "      <th></th>\n",
       "      <th></th>\n",
       "      <th></th>\n",
       "      <th></th>\n",
       "      <th></th>\n",
       "      <th></th>\n",
       "      <th></th>\n",
       "    </tr>\n",
       "  </thead>\n",
       "  <tbody>\n",
       "    <tr>\n",
       "      <th>2022-04-01</th>\n",
       "      <td>425000.0</td>\n",
       "      <td>0.0495</td>\n",
       "      <td>0.1421</td>\n",
       "      <td>409473.0</td>\n",
       "      <td>0.0721</td>\n",
       "      <td>-0.1212</td>\n",
       "      <td>34.0</td>\n",
       "      <td>-0.0933</td>\n",
       "      <td>-0.15</td>\n",
       "      <td>491936.0</td>\n",
       "      <td>...</td>\n",
       "      <td>-0.0019</td>\n",
       "      <td>815542.0</td>\n",
       "      <td>0.0048</td>\n",
       "      <td>0.1115</td>\n",
       "      <td>1008140.0</td>\n",
       "      <td>0.0674</td>\n",
       "      <td>-0.1013</td>\n",
       "      <td>1.4594</td>\n",
       "      <td>-0.014</td>\n",
       "      <td>0.0551</td>\n",
       "    </tr>\n",
       "    <tr>\n",
       "      <th>2016-07-01</th>\n",
       "      <td>259840.0</td>\n",
       "      <td>NaN</td>\n",
       "      <td>NaN</td>\n",
       "      <td>1549830.0</td>\n",
       "      <td>NaN</td>\n",
       "      <td>NaN</td>\n",
       "      <td>69.0</td>\n",
       "      <td>NaN</td>\n",
       "      <td>NaN</td>\n",
       "      <td>504200.0</td>\n",
       "      <td>...</td>\n",
       "      <td>NaN</td>\n",
       "      <td>445463.0</td>\n",
       "      <td>NaN</td>\n",
       "      <td>NaN</td>\n",
       "      <td>1970031.0</td>\n",
       "      <td>NaN</td>\n",
       "      <td>NaN</td>\n",
       "      <td>0.2711</td>\n",
       "      <td>NaN</td>\n",
       "      <td>NaN</td>\n",
       "    </tr>\n",
       "  </tbody>\n",
       "</table>\n",
       "<p>2 rows × 36 columns</p>\n",
       "</div>"
      ],
      "text/plain": [
       "            median_listing_price  median_listing_price_mm  \\\n",
       "dt                                                          \n",
       "2022-04-01              425000.0                   0.0495   \n",
       "2016-07-01              259840.0                      NaN   \n",
       "\n",
       "            median_listing_price_yy  active_listing_count  \\\n",
       "dt                                                          \n",
       "2022-04-01                   0.1421              409473.0   \n",
       "2016-07-01                      NaN             1549830.0   \n",
       "\n",
       "            active_listing_count_mm  active_listing_count_yy  \\\n",
       "dt                                                             \n",
       "2022-04-01                   0.0721                  -0.1212   \n",
       "2016-07-01                      NaN                      NaN   \n",
       "\n",
       "            median_days_on_market  median_days_on_market_mm  \\\n",
       "dt                                                            \n",
       "2022-04-01                   34.0                   -0.0933   \n",
       "2016-07-01                   69.0                       NaN   \n",
       "\n",
       "            median_days_on_market_yy  new_listing_count  ...  \\\n",
       "dt                                                       ...   \n",
       "2022-04-01                     -0.15           491936.0  ...   \n",
       "2016-07-01                       NaN           504200.0  ...   \n",
       "\n",
       "            median_square_feet_yy  average_listing_price  \\\n",
       "dt                                                         \n",
       "2022-04-01                -0.0019               815542.0   \n",
       "2016-07-01                    NaN               445463.0   \n",
       "\n",
       "            average_listing_price_mm  average_listing_price_yy  \\\n",
       "dt                                                               \n",
       "2022-04-01                    0.0048                    0.1115   \n",
       "2016-07-01                       NaN                       NaN   \n",
       "\n",
       "            total_listing_count  total_listing_count_mm  \\\n",
       "dt                                                        \n",
       "2022-04-01            1008140.0                  0.0674   \n",
       "2016-07-01            1970031.0                     NaN   \n",
       "\n",
       "            total_listing_count_yy  pending_ratio  pending_ratio_mm  \\\n",
       "dt                                                                    \n",
       "2022-04-01                 -0.1013         1.4594            -0.014   \n",
       "2016-07-01                     NaN         0.2711               NaN   \n",
       "\n",
       "            pending_ratio_yy  \n",
       "dt                            \n",
       "2022-04-01            0.0551  \n",
       "2016-07-01               NaN  \n",
       "\n",
       "[2 rows x 36 columns]"
      ]
     },
     "execution_count": 28,
     "metadata": {},
     "output_type": "execute_result"
    }
   ],
   "source": [
    "current_monthly_realtor_link = 'https://econdata.s3-us-west-2.amazonaws.com/Reports/Core/RDC_Inventory_Core_Metrics_Country.csv'\n",
    "history_monthly_realtor_link = 'https://econdata.s3-us-west-2.amazonaws.com/Reports/Core/RDC_Inventory_Core_Metrics_Country_History.csv'\n",
    "\n",
    "monthly_realtor = pd.concat([pd.read_csv(current_monthly_realtor_link,on_bad_lines='skip'),pd.read_csv(history_monthly_realtor_link,on_bad_lines='skip')],axis=0)\n",
    "monthly_realtor.drop_duplicates(inplace=True)\n",
    "monthly_realtor.index = pd.to_datetime(monthly_realtor['month_date_yyyymm'], format='%Y%m', errors='coerce')\n",
    "monthly_realtor.drop(['month_date_yyyymm'], axis=1, inplace=True)\n",
    "monthly_realtor.index.name = 'dt'\n",
    "monthly_realtor = monthly_realtor[monthly_realtor.index.notnull()]\n",
    "monthly_realtor.drop(['country','quality_flag'], axis=1, inplace=True)\n",
    "\n",
    "# Resample Monthly Data to Daily - don't resample data in the database but do cell formats like cleaning %, changing column names etc. \n",
    "monthly_realtor = pd.DataFrame(data=monthly_realtor).set_index(monthly_realtor.index).resample('D').ffill().sort_index(ascending=False)\n",
    "\n",
    "monthly_realtor.head(1).append(monthly_realtor.tail(1))"
   ]
  },
  {
   "cell_type": "markdown",
   "metadata": {},
   "source": [
    "## Pearson correlation with btw (1) monthly realtor data filled for daily data & (2) daily Lumber prices"
   ]
  },
  {
   "cell_type": "code",
   "execution_count": 29,
   "metadata": {},
   "outputs": [
    {
     "name": "stdout",
     "output_type": "stream",
     "text": [
      "median_listing_price 77.46\n",
      "median_listing_price_yy 77.37\n",
      "active_listing_count -84.25\n",
      "median_days_on_market_yy -75.71\n",
      "median_listing_price_per_square_foot 82.67\n",
      "median_listing_price_per_square_foot_yy 84.53\n",
      "median_square_feet -77.26\n",
      "average_listing_price 85.87\n",
      "total_listing_count -79.98\n",
      "pending_ratio 90.57\n"
     ]
    }
   ],
   "source": [
    "monthly_realtor_lumber_dict = {}\n",
    "for col in monthly_realtor.columns:\n",
    "   monthly_realtor_lumber_dict[col] = round(pd.concat([lumber_df['Adj_close'], pd.DataFrame(index=lumber_df.index,data=monthly_realtor[col]).bfill()],axis=1).dropna().corr().iloc[0][1]*100,2)\n",
    "\n",
    "# showing only correlation with 75% and above\n",
    "for key in monthly_realtor_lumber_dict.keys():\n",
    "    if(abs(monthly_realtor_lumber_dict[key]) > 75):\n",
    "        print(key, monthly_realtor_lumber_dict[key])"
   ]
  },
  {
   "cell_type": "markdown",
   "metadata": {},
   "source": [
    "## Spearman correlation with resampled Lumber percentage change"
   ]
  },
  {
   "cell_type": "code",
   "execution_count": 30,
   "metadata": {},
   "outputs": [
    {
     "data": {
      "text/html": [
       "<div>\n",
       "<style scoped>\n",
       "    .dataframe tbody tr th:only-of-type {\n",
       "        vertical-align: middle;\n",
       "    }\n",
       "\n",
       "    .dataframe tbody tr th {\n",
       "        vertical-align: top;\n",
       "    }\n",
       "\n",
       "    .dataframe thead th {\n",
       "        text-align: right;\n",
       "    }\n",
       "</style>\n",
       "<table border=\"1\" class=\"dataframe\">\n",
       "  <thead>\n",
       "    <tr style=\"text-align: right;\">\n",
       "      <th></th>\n",
       "      <th>Item</th>\n",
       "      <th>Spearman</th>\n",
       "      <th>p-value</th>\n",
       "    </tr>\n",
       "  </thead>\n",
       "  <tbody>\n",
       "    <tr>\n",
       "      <th>0</th>\n",
       "      <td>pending_ratio_yy</td>\n",
       "      <td>0.47</td>\n",
       "      <td>0.0</td>\n",
       "    </tr>\n",
       "    <tr>\n",
       "      <th>0</th>\n",
       "      <td>price_increased_count_yy</td>\n",
       "      <td>0.47</td>\n",
       "      <td>0.0</td>\n",
       "    </tr>\n",
       "    <tr>\n",
       "      <th>0</th>\n",
       "      <td>average_listing_price_yy</td>\n",
       "      <td>0.45</td>\n",
       "      <td>0.0</td>\n",
       "    </tr>\n",
       "    <tr>\n",
       "      <th>0</th>\n",
       "      <td>price_reduced_count</td>\n",
       "      <td>0.32</td>\n",
       "      <td>0.015</td>\n",
       "    </tr>\n",
       "    <tr>\n",
       "      <th>0</th>\n",
       "      <td>total_listing_count</td>\n",
       "      <td>0.31</td>\n",
       "      <td>0.018</td>\n",
       "    </tr>\n",
       "    <tr>\n",
       "      <th>0</th>\n",
       "      <td>active_listing_count</td>\n",
       "      <td>0.3</td>\n",
       "      <td>0.024</td>\n",
       "    </tr>\n",
       "    <tr>\n",
       "      <th>0</th>\n",
       "      <td>median_listing_price_per_square_foot</td>\n",
       "      <td>0.23</td>\n",
       "      <td>0.082</td>\n",
       "    </tr>\n",
       "    <tr>\n",
       "      <th>0</th>\n",
       "      <td>median_listing_price_per_square_foot_yy</td>\n",
       "      <td>0.22</td>\n",
       "      <td>0.1</td>\n",
       "    </tr>\n",
       "    <tr>\n",
       "      <th>0</th>\n",
       "      <td>pending_ratio_mm</td>\n",
       "      <td>0.2</td>\n",
       "      <td>0.102</td>\n",
       "    </tr>\n",
       "    <tr>\n",
       "      <th>0</th>\n",
       "      <td>median_square_feet</td>\n",
       "      <td>0.19</td>\n",
       "      <td>0.144</td>\n",
       "    </tr>\n",
       "    <tr>\n",
       "      <th>0</th>\n",
       "      <td>average_listing_price_mm</td>\n",
       "      <td>0.18</td>\n",
       "      <td>0.128</td>\n",
       "    </tr>\n",
       "    <tr>\n",
       "      <th>0</th>\n",
       "      <td>new_listing_count_yy</td>\n",
       "      <td>0.16</td>\n",
       "      <td>0.228</td>\n",
       "    </tr>\n",
       "    <tr>\n",
       "      <th>0</th>\n",
       "      <td>pending_listing_count_mm</td>\n",
       "      <td>0.16</td>\n",
       "      <td>0.2</td>\n",
       "    </tr>\n",
       "    <tr>\n",
       "      <th>0</th>\n",
       "      <td>median_listing_price_per_square_foot_mm</td>\n",
       "      <td>0.15</td>\n",
       "      <td>0.202</td>\n",
       "    </tr>\n",
       "    <tr>\n",
       "      <th>0</th>\n",
       "      <td>median_listing_price_mm</td>\n",
       "      <td>0.13</td>\n",
       "      <td>0.301</td>\n",
       "    </tr>\n",
       "    <tr>\n",
       "      <th>0</th>\n",
       "      <td>price_increased_count_mm</td>\n",
       "      <td>0.13</td>\n",
       "      <td>0.288</td>\n",
       "    </tr>\n",
       "    <tr>\n",
       "      <th>0</th>\n",
       "      <td>median_listing_price_yy</td>\n",
       "      <td>0.09</td>\n",
       "      <td>0.5</td>\n",
       "    </tr>\n",
       "    <tr>\n",
       "      <th>0</th>\n",
       "      <td>pending_listing_count_yy</td>\n",
       "      <td>0.08</td>\n",
       "      <td>0.53</td>\n",
       "    </tr>\n",
       "    <tr>\n",
       "      <th>0</th>\n",
       "      <td>median_days_on_market_mm</td>\n",
       "      <td>0.04</td>\n",
       "      <td>0.768</td>\n",
       "    </tr>\n",
       "    <tr>\n",
       "      <th>0</th>\n",
       "      <td>median_days_on_market_yy</td>\n",
       "      <td>-0.01</td>\n",
       "      <td>0.942</td>\n",
       "    </tr>\n",
       "    <tr>\n",
       "      <th>0</th>\n",
       "      <td>median_square_feet_yy</td>\n",
       "      <td>-0.06</td>\n",
       "      <td>0.666</td>\n",
       "    </tr>\n",
       "    <tr>\n",
       "      <th>0</th>\n",
       "      <td>new_listing_count</td>\n",
       "      <td>-0.07</td>\n",
       "      <td>0.611</td>\n",
       "    </tr>\n",
       "    <tr>\n",
       "      <th>0</th>\n",
       "      <td>median_square_feet_mm</td>\n",
       "      <td>-0.13</td>\n",
       "      <td>0.266</td>\n",
       "    </tr>\n",
       "    <tr>\n",
       "      <th>0</th>\n",
       "      <td>average_listing_price</td>\n",
       "      <td>-0.14</td>\n",
       "      <td>0.297</td>\n",
       "    </tr>\n",
       "    <tr>\n",
       "      <th>0</th>\n",
       "      <td>median_listing_price</td>\n",
       "      <td>-0.15</td>\n",
       "      <td>0.015</td>\n",
       "    </tr>\n",
       "    <tr>\n",
       "      <th>0</th>\n",
       "      <td>price_increased_count</td>\n",
       "      <td>-0.16</td>\n",
       "      <td>0.241</td>\n",
       "    </tr>\n",
       "    <tr>\n",
       "      <th>0</th>\n",
       "      <td>new_listing_count_mm</td>\n",
       "      <td>-0.18</td>\n",
       "      <td>0.128</td>\n",
       "    </tr>\n",
       "    <tr>\n",
       "      <th>0</th>\n",
       "      <td>total_listing_count_yy</td>\n",
       "      <td>-0.19</td>\n",
       "      <td>0.155</td>\n",
       "    </tr>\n",
       "    <tr>\n",
       "      <th>0</th>\n",
       "      <td>price_reduced_count_yy</td>\n",
       "      <td>-0.21</td>\n",
       "      <td>0.116</td>\n",
       "    </tr>\n",
       "    <tr>\n",
       "      <th>0</th>\n",
       "      <td>total_listing_count_mm</td>\n",
       "      <td>-0.26</td>\n",
       "      <td>0.031</td>\n",
       "    </tr>\n",
       "    <tr>\n",
       "      <th>0</th>\n",
       "      <td>price_reduced_count_mm</td>\n",
       "      <td>-0.28</td>\n",
       "      <td>0.019</td>\n",
       "    </tr>\n",
       "    <tr>\n",
       "      <th>0</th>\n",
       "      <td>active_listing_count_mm</td>\n",
       "      <td>-0.29</td>\n",
       "      <td>0.015</td>\n",
       "    </tr>\n",
       "    <tr>\n",
       "      <th>0</th>\n",
       "      <td>pending_listing_count</td>\n",
       "      <td>-0.33</td>\n",
       "      <td>0.012</td>\n",
       "    </tr>\n",
       "    <tr>\n",
       "      <th>0</th>\n",
       "      <td>median_days_on_market</td>\n",
       "      <td>-0.34</td>\n",
       "      <td>0.009</td>\n",
       "    </tr>\n",
       "    <tr>\n",
       "      <th>0</th>\n",
       "      <td>pending_ratio</td>\n",
       "      <td>-0.34</td>\n",
       "      <td>0.009</td>\n",
       "    </tr>\n",
       "    <tr>\n",
       "      <th>0</th>\n",
       "      <td>active_listing_count_yy</td>\n",
       "      <td>-0.44</td>\n",
       "      <td>0.0</td>\n",
       "    </tr>\n",
       "  </tbody>\n",
       "</table>\n",
       "</div>"
      ],
      "text/plain": [
       "                                      Item Spearman p-value\n",
       "0                         pending_ratio_yy     0.47     0.0\n",
       "0                 price_increased_count_yy     0.47     0.0\n",
       "0                 average_listing_price_yy     0.45     0.0\n",
       "0                      price_reduced_count     0.32   0.015\n",
       "0                      total_listing_count     0.31   0.018\n",
       "0                     active_listing_count      0.3   0.024\n",
       "0     median_listing_price_per_square_foot     0.23   0.082\n",
       "0  median_listing_price_per_square_foot_yy     0.22     0.1\n",
       "0                         pending_ratio_mm      0.2   0.102\n",
       "0                       median_square_feet     0.19   0.144\n",
       "0                 average_listing_price_mm     0.18   0.128\n",
       "0                     new_listing_count_yy     0.16   0.228\n",
       "0                 pending_listing_count_mm     0.16     0.2\n",
       "0  median_listing_price_per_square_foot_mm     0.15   0.202\n",
       "0                  median_listing_price_mm     0.13   0.301\n",
       "0                 price_increased_count_mm     0.13   0.288\n",
       "0                  median_listing_price_yy     0.09     0.5\n",
       "0                 pending_listing_count_yy     0.08    0.53\n",
       "0                 median_days_on_market_mm     0.04   0.768\n",
       "0                 median_days_on_market_yy    -0.01   0.942\n",
       "0                    median_square_feet_yy    -0.06   0.666\n",
       "0                        new_listing_count    -0.07   0.611\n",
       "0                    median_square_feet_mm    -0.13   0.266\n",
       "0                    average_listing_price    -0.14   0.297\n",
       "0                     median_listing_price    -0.15   0.015\n",
       "0                    price_increased_count    -0.16   0.241\n",
       "0                     new_listing_count_mm    -0.18   0.128\n",
       "0                   total_listing_count_yy    -0.19   0.155\n",
       "0                   price_reduced_count_yy    -0.21   0.116\n",
       "0                   total_listing_count_mm    -0.26   0.031\n",
       "0                   price_reduced_count_mm    -0.28   0.019\n",
       "0                  active_listing_count_mm    -0.29   0.015\n",
       "0                    pending_listing_count    -0.33   0.012\n",
       "0                    median_days_on_market    -0.34   0.009\n",
       "0                            pending_ratio    -0.34   0.009\n",
       "0                  active_listing_count_yy    -0.44     0.0"
      ]
     },
     "execution_count": 30,
     "metadata": {},
     "output_type": "execute_result"
    }
   ],
   "source": [
    "monthly_realtor_spr = pd.DataFrame(columns=['Item','Spearman','p-value'])\n",
    "for col in monthly_realtor.columns:\n",
    "    item_df = pd.DataFrame(data=[col, round(spr[0],2), round(spr[1],3)]).T\n",
    "    item_df.columns = monthly_realtor_spr.columns\n",
    "    spr = spearmanr(pd.concat([monthly_realtor[col],monthly_resampled_lumber['Adj_close'].pct_change(1)],axis=1).dropna())\n",
    "    monthly_realtor_spr = pd.concat([item_df,monthly_realtor_spr],axis=0)\n",
    "monthly_realtor_spr.sort_values(by='Spearman',ascending=False)"
   ]
  },
  {
   "cell_type": "markdown",
   "metadata": {},
   "source": [
    "### GSCPI Index - from newyorkfed"
   ]
  },
  {
   "cell_type": "code",
   "execution_count": 31,
   "metadata": {},
   "outputs": [
    {
     "data": {
      "text/html": [
       "<div>\n",
       "<style scoped>\n",
       "    .dataframe tbody tr th:only-of-type {\n",
       "        vertical-align: middle;\n",
       "    }\n",
       "\n",
       "    .dataframe tbody tr th {\n",
       "        vertical-align: top;\n",
       "    }\n",
       "\n",
       "    .dataframe thead th {\n",
       "        text-align: right;\n",
       "    }\n",
       "</style>\n",
       "<table border=\"1\" class=\"dataframe\">\n",
       "  <thead>\n",
       "    <tr style=\"text-align: right;\">\n",
       "      <th></th>\n",
       "      <th>GSCPI</th>\n",
       "    </tr>\n",
       "    <tr>\n",
       "      <th>Date</th>\n",
       "      <th></th>\n",
       "    </tr>\n",
       "  </thead>\n",
       "  <tbody>\n",
       "    <tr>\n",
       "      <th>1998-01-31</th>\n",
       "      <td>-0.944747</td>\n",
       "    </tr>\n",
       "    <tr>\n",
       "      <th>2022-04-30</th>\n",
       "      <td>3.288267</td>\n",
       "    </tr>\n",
       "  </tbody>\n",
       "</table>\n",
       "</div>"
      ],
      "text/plain": [
       "               GSCPI\n",
       "Date                \n",
       "1998-01-31 -0.944747\n",
       "2022-04-30  3.288267"
      ]
     },
     "execution_count": 31,
     "metadata": {},
     "output_type": "execute_result"
    }
   ],
   "source": [
    "GSCPI_link = 'https://www.newyorkfed.org/medialibrary/research/interactives/gscpi/downloads/gscpi_data.xlsx'\n",
    "GSCPI = pd.read_excel(GSCPI_link, sheet_name='GSCPI Monthly Data',skiprows=4)\n",
    "GSCPI.set_index('Unnamed: 0', inplace=True)\n",
    "GSCPI.index = pd.DatetimeIndex(GSCPI.index)\n",
    "GSCPI.index.name = 'Date'\n",
    "GSCPI = GSCPI.drop(['Unnamed: 2','Unnamed: 3'], axis=1)\n",
    "GSCPI.columns = ['GSCPI']\n",
    "GSCPI.head(1).append(GSCPI.tail(1))"
   ]
  },
  {
   "cell_type": "code",
   "execution_count": 32,
   "metadata": {},
   "outputs": [],
   "source": [
    "GSCPI_Lumber_pct = pd.concat([GSCPI['GSCPI'].pct_change(1),monthly_resampled_lumber_end['Adj_close'].pct_change(1)],axis=1).dropna()\n",
    "GSCPI_Lumber = pd.concat([GSCPI['GSCPI'],monthly_resampled_lumber_end['Adj_close']],axis=1).dropna()"
   ]
  },
  {
   "cell_type": "code",
   "execution_count": 33,
   "metadata": {},
   "outputs": [
    {
     "data": {
      "text/plain": [
       "SpearmanrResult(correlation=-0.1223482732476902, pvalue=0.036655804649419026)"
      ]
     },
     "execution_count": 33,
     "metadata": {},
     "output_type": "execute_result"
    }
   ],
   "source": [
    "spearmanr(GSCPI_Lumber)"
   ]
  },
  {
   "cell_type": "code",
   "execution_count": 34,
   "metadata": {},
   "outputs": [
    {
     "data": {
      "text/plain": [
       "SpearmanrResult(correlation=-0.01803076713302719, pvalue=0.7593892567177043)"
      ]
     },
     "execution_count": 34,
     "metadata": {},
     "output_type": "execute_result"
    }
   ],
   "source": [
    "spearmanr(GSCPI_Lumber_pct)"
   ]
  },
  {
   "cell_type": "code",
   "execution_count": 35,
   "metadata": {},
   "outputs": [
    {
     "data": {
      "text/html": [
       "<div>\n",
       "<style scoped>\n",
       "    .dataframe tbody tr th:only-of-type {\n",
       "        vertical-align: middle;\n",
       "    }\n",
       "\n",
       "    .dataframe tbody tr th {\n",
       "        vertical-align: top;\n",
       "    }\n",
       "\n",
       "    .dataframe thead th {\n",
       "        text-align: right;\n",
       "    }\n",
       "</style>\n",
       "<table border=\"1\" class=\"dataframe\">\n",
       "  <thead>\n",
       "    <tr style=\"text-align: right;\">\n",
       "      <th></th>\n",
       "      <th>GSCPI</th>\n",
       "      <th>Adj_close</th>\n",
       "    </tr>\n",
       "  </thead>\n",
       "  <tbody>\n",
       "    <tr>\n",
       "      <th>GSCPI</th>\n",
       "      <td>1.000000</td>\n",
       "      <td>-0.150135</td>\n",
       "    </tr>\n",
       "    <tr>\n",
       "      <th>Adj_close</th>\n",
       "      <td>-0.150135</td>\n",
       "      <td>1.000000</td>\n",
       "    </tr>\n",
       "  </tbody>\n",
       "</table>\n",
       "</div>"
      ],
      "text/plain": [
       "              GSCPI  Adj_close\n",
       "GSCPI      1.000000  -0.150135\n",
       "Adj_close -0.150135   1.000000"
      ]
     },
     "execution_count": 35,
     "metadata": {},
     "output_type": "execute_result"
    }
   ],
   "source": [
    "GSCPI_Lumber.corr()"
   ]
  },
  {
   "cell_type": "code",
   "execution_count": 36,
   "metadata": {},
   "outputs": [
    {
     "data": {
      "text/html": [
       "<div>\n",
       "<style scoped>\n",
       "    .dataframe tbody tr th:only-of-type {\n",
       "        vertical-align: middle;\n",
       "    }\n",
       "\n",
       "    .dataframe tbody tr th {\n",
       "        vertical-align: top;\n",
       "    }\n",
       "\n",
       "    .dataframe thead th {\n",
       "        text-align: right;\n",
       "    }\n",
       "</style>\n",
       "<table border=\"1\" class=\"dataframe\">\n",
       "  <thead>\n",
       "    <tr style=\"text-align: right;\">\n",
       "      <th></th>\n",
       "      <th>GSCPI</th>\n",
       "      <th>Adj_close</th>\n",
       "    </tr>\n",
       "  </thead>\n",
       "  <tbody>\n",
       "    <tr>\n",
       "      <th>GSCPI</th>\n",
       "      <td>1.00000</td>\n",
       "      <td>0.03973</td>\n",
       "    </tr>\n",
       "    <tr>\n",
       "      <th>Adj_close</th>\n",
       "      <td>0.03973</td>\n",
       "      <td>1.00000</td>\n",
       "    </tr>\n",
       "  </tbody>\n",
       "</table>\n",
       "</div>"
      ],
      "text/plain": [
       "             GSCPI  Adj_close\n",
       "GSCPI      1.00000    0.03973\n",
       "Adj_close  0.03973    1.00000"
      ]
     },
     "execution_count": 36,
     "metadata": {},
     "output_type": "execute_result"
    }
   ],
   "source": [
    "GSCPI_Lumber_pct.corr()"
   ]
  },
  {
   "cell_type": "code",
   "execution_count": 37,
   "metadata": {},
   "outputs": [
    {
     "data": {
      "image/png": "[encoded data removed]",
      "text/plain": [
       "<Figure size 432x288 with 1 Axes>"
      ]
     },
     "metadata": {
      "needs_background": "light"
     },
     "output_type": "display_data"
    }
   ],
   "source": [
    "plt.scatter(GSCPI_Lumber_pct.iloc[:,0],GSCPI_Lumber_pct.iloc[:,1]);"
   ]
  },
  {
   "cell_type": "code",
   "execution_count": 38,
   "metadata": {},
   "outputs": [
    {
     "data": {
      "image/png": "[encoded data removed]",
      "text/plain": [
       "<Figure size 432x288 with 1 Axes>"
      ]
     },
     "metadata": {
      "needs_background": "light"
     },
     "output_type": "display_data"
    }
   ],
   "source": [
    "plt.scatter(GSCPI_Lumber.iloc[:,0],GSCPI_Lumber.iloc[:,1]);"
   ]
  },
  {
   "cell_type": "markdown",
   "metadata": {},
   "source": [
    "# Weekly Economic Index (WEI)"
   ]
  },
  {
   "cell_type": "code",
   "execution_count": 39,
   "metadata": {},
   "outputs": [
    {
     "data": {
      "text/html": [
       "<div>\n",
       "<style scoped>\n",
       "    .dataframe tbody tr th:only-of-type {\n",
       "        vertical-align: middle;\n",
       "    }\n",
       "\n",
       "    .dataframe tbody tr th {\n",
       "        vertical-align: top;\n",
       "    }\n",
       "\n",
       "    .dataframe thead th {\n",
       "        text-align: right;\n",
       "    }\n",
       "</style>\n",
       "<table border=\"1\" class=\"dataframe\">\n",
       "  <thead>\n",
       "    <tr style=\"text-align: right;\">\n",
       "      <th></th>\n",
       "      <th>WEI</th>\n",
       "    </tr>\n",
       "    <tr>\n",
       "      <th>Date</th>\n",
       "      <th></th>\n",
       "    </tr>\n",
       "  </thead>\n",
       "  <tbody>\n",
       "    <tr>\n",
       "      <th>2008-01-05</th>\n",
       "      <td>1.60</td>\n",
       "    </tr>\n",
       "    <tr>\n",
       "      <th>2022-05-21</th>\n",
       "      <td>3.52</td>\n",
       "    </tr>\n",
       "  </tbody>\n",
       "</table>\n",
       "</div>"
      ],
      "text/plain": [
       "             WEI\n",
       "Date            \n",
       "2008-01-05  1.60\n",
       "2022-05-21  3.52"
      ]
     },
     "execution_count": 39,
     "metadata": {},
     "output_type": "execute_result"
    }
   ],
   "source": [
    "WEI_LINK = \"https://www.newyorkfed.org/medialibrary/research/interactives/wei/downloads/weekly-economic-index_data.xlsx\"\n",
    "WEI = pd.read_excel(WEI_LINK, sheet_name='2008-current',skiprows=4)\n",
    "WEI.set_index('Date', inplace=True)\n",
    "WEI.index = pd.DatetimeIndex(WEI.index)\n",
    "WEI = WEI.iloc[: , :1] # Keep only 1st column\n",
    "WEI.head(1).append(WEI.tail(1))"
   ]
  },
  {
   "cell_type": "code",
   "execution_count": 40,
   "metadata": {},
   "outputs": [],
   "source": [
    "WEI_Lumber_pct = pd.concat([WEI['WEI'].pct_change(1),weekly_sat_resampled_lumber['Adj_close'].pct_change(1)],axis=1).dropna()\n",
    "WEI_Lumber = pd.concat([WEI['WEI'],weekly_sat_resampled_lumber['Adj_close']],axis=1).dropna()"
   ]
  },
  {
   "cell_type": "code",
   "execution_count": 41,
   "metadata": {},
   "outputs": [
    {
     "data": {
      "text/plain": [
       "SpearmanrResult(correlation=0.08040595933690424, pvalue=0.027672297194632857)"
      ]
     },
     "execution_count": 41,
     "metadata": {},
     "output_type": "execute_result"
    }
   ],
   "source": [
    "spearmanr(WEI_Lumber)"
   ]
  },
  {
   "cell_type": "code",
   "execution_count": 42,
   "metadata": {},
   "outputs": [
    {
     "data": {
      "text/plain": [
       "SpearmanrResult(correlation=-0.04173487736575065, pvalue=0.25395987828429173)"
      ]
     },
     "execution_count": 42,
     "metadata": {},
     "output_type": "execute_result"
    }
   ],
   "source": [
    "spearmanr(WEI_Lumber_pct)"
   ]
  },
  {
   "cell_type": "code",
   "execution_count": 43,
   "metadata": {},
   "outputs": [
    {
     "data": {
      "text/html": [
       "<div>\n",
       "<style scoped>\n",
       "    .dataframe tbody tr th:only-of-type {\n",
       "        vertical-align: middle;\n",
       "    }\n",
       "\n",
       "    .dataframe tbody tr th {\n",
       "        vertical-align: top;\n",
       "    }\n",
       "\n",
       "    .dataframe thead th {\n",
       "        text-align: right;\n",
       "    }\n",
       "</style>\n",
       "<table border=\"1\" class=\"dataframe\">\n",
       "  <thead>\n",
       "    <tr style=\"text-align: right;\">\n",
       "      <th></th>\n",
       "      <th>WEI</th>\n",
       "      <th>Adj_close</th>\n",
       "    </tr>\n",
       "  </thead>\n",
       "  <tbody>\n",
       "    <tr>\n",
       "      <th>WEI</th>\n",
       "      <td>1.000000</td>\n",
       "      <td>0.351296</td>\n",
       "    </tr>\n",
       "    <tr>\n",
       "      <th>Adj_close</th>\n",
       "      <td>0.351296</td>\n",
       "      <td>1.000000</td>\n",
       "    </tr>\n",
       "  </tbody>\n",
       "</table>\n",
       "</div>"
      ],
      "text/plain": [
       "                WEI  Adj_close\n",
       "WEI        1.000000   0.351296\n",
       "Adj_close  0.351296   1.000000"
      ]
     },
     "execution_count": 43,
     "metadata": {},
     "output_type": "execute_result"
    }
   ],
   "source": [
    "WEI_Lumber.corr()"
   ]
  },
  {
   "cell_type": "code",
   "execution_count": 44,
   "metadata": {},
   "outputs": [
    {
     "data": {
      "text/html": [
       "<div>\n",
       "<style scoped>\n",
       "    .dataframe tbody tr th:only-of-type {\n",
       "        vertical-align: middle;\n",
       "    }\n",
       "\n",
       "    .dataframe tbody tr th {\n",
       "        vertical-align: top;\n",
       "    }\n",
       "\n",
       "    .dataframe thead th {\n",
       "        text-align: right;\n",
       "    }\n",
       "</style>\n",
       "<table border=\"1\" class=\"dataframe\">\n",
       "  <thead>\n",
       "    <tr style=\"text-align: right;\">\n",
       "      <th></th>\n",
       "      <th>WEI</th>\n",
       "      <th>Adj_close</th>\n",
       "    </tr>\n",
       "  </thead>\n",
       "  <tbody>\n",
       "    <tr>\n",
       "      <th>WEI</th>\n",
       "      <td>1.000000</td>\n",
       "      <td>-0.031782</td>\n",
       "    </tr>\n",
       "    <tr>\n",
       "      <th>Adj_close</th>\n",
       "      <td>-0.031782</td>\n",
       "      <td>1.000000</td>\n",
       "    </tr>\n",
       "  </tbody>\n",
       "</table>\n",
       "</div>"
      ],
      "text/plain": [
       "                WEI  Adj_close\n",
       "WEI        1.000000  -0.031782\n",
       "Adj_close -0.031782   1.000000"
      ]
     },
     "execution_count": 44,
     "metadata": {},
     "output_type": "execute_result"
    }
   ],
   "source": [
    "WEI_Lumber_pct.corr()"
   ]
  },
  {
   "cell_type": "code",
   "execution_count": 45,
   "metadata": {},
   "outputs": [
    {
     "data": {
      "image/png": "[encoded data removed]",
      "text/plain": [
       "<Figure size 432x288 with 1 Axes>"
      ]
     },
     "metadata": {
      "needs_background": "light"
     },
     "output_type": "display_data"
    }
   ],
   "source": [
    "plt.scatter(WEI_Lumber_pct.iloc[:,0],WEI_Lumber_pct.iloc[:,1]);"
   ]
  },
  {
   "cell_type": "code",
   "execution_count": 46,
   "metadata": {},
   "outputs": [
    {
     "data": {
      "image/png": "[encoded data removed]",
      "text/plain": [
       "<Figure size 432x288 with 1 Axes>"
      ]
     },
     "metadata": {
      "needs_background": "light"
     },
     "output_type": "display_data"
    }
   ],
   "source": [
    "plt.scatter(WEI_Lumber.iloc[:,0],WEI_Lumber.iloc[:,1]);"
   ]
  },
  {
   "cell_type": "markdown",
   "metadata": {},
   "source": [
    "\n",
    "# Yield Curve https://www.newyorkfed.org/research/capital_markets/ycfaq#/interactive\n",
    "#### MONTHLY"
   ]
  },
  {
   "cell_type": "code",
   "execution_count": 47,
   "metadata": {},
   "outputs": [
    {
     "data": {
      "text/html": [
       "<div>\n",
       "<style scoped>\n",
       "    .dataframe tbody tr th:only-of-type {\n",
       "        vertical-align: middle;\n",
       "    }\n",
       "\n",
       "    .dataframe tbody tr th {\n",
       "        vertical-align: top;\n",
       "    }\n",
       "\n",
       "    .dataframe thead th {\n",
       "        text-align: right;\n",
       "    }\n",
       "</style>\n",
       "<table border=\"1\" class=\"dataframe\">\n",
       "  <thead>\n",
       "    <tr style=\"text-align: right;\">\n",
       "      <th></th>\n",
       "      <th>10 Year Treasury Yield</th>\n",
       "      <th>3 Month Treasury Yield</th>\n",
       "      <th>3 Month Treasury Yield (Bond Equivalent Basis)</th>\n",
       "      <th>Spread</th>\n",
       "    </tr>\n",
       "    <tr>\n",
       "      <th>Date</th>\n",
       "      <th></th>\n",
       "      <th></th>\n",
       "      <th></th>\n",
       "      <th></th>\n",
       "    </tr>\n",
       "  </thead>\n",
       "  <tbody>\n",
       "    <tr>\n",
       "      <th>1959-01-31</th>\n",
       "      <td>4.02</td>\n",
       "      <td>2.82</td>\n",
       "      <td>2.879694</td>\n",
       "      <td>1.140306</td>\n",
       "    </tr>\n",
       "    <tr>\n",
       "      <th>2022-04-30</th>\n",
       "      <td>2.75</td>\n",
       "      <td>0.76</td>\n",
       "      <td>0.772039</td>\n",
       "      <td>1.977961</td>\n",
       "    </tr>\n",
       "  </tbody>\n",
       "</table>\n",
       "</div>"
      ],
      "text/plain": [
       "            10 Year Treasury Yield  3 Month Treasury Yield  \\\n",
       "Date                                                         \n",
       "1959-01-31                    4.02                    2.82   \n",
       "2022-04-30                    2.75                    0.76   \n",
       "\n",
       "            3 Month Treasury Yield (Bond Equivalent Basis)    Spread  \n",
       "Date                                                                  \n",
       "1959-01-31                                        2.879694  1.140306  \n",
       "2022-04-30                                        0.772039  1.977961  "
      ]
     },
     "execution_count": 47,
     "metadata": {},
     "output_type": "execute_result"
    }
   ],
   "source": [
    "Y_curve_link = \"https://www.newyorkfed.org/medialibrary/media/research/capital_markets/allmonth.xls\"\n",
    "Y_curve = pd.read_excel(Y_curve_link, sheet_name='rec_prob', index_col=0)\n",
    "Y_curve = Y_curve.iloc[:, :4]\n",
    "Y_curve.index = pd.DatetimeIndex(Y_curve.index)\n",
    "Y_curve.dropna(inplace=True)\n",
    "Y_curve.head(1).append(Y_curve.tail(1))"
   ]
  },
  {
   "cell_type": "code",
   "execution_count": 48,
   "metadata": {},
   "outputs": [],
   "source": [
    "Y_curve_Lumber_pct = pd.concat([Y_curve['3 Month Treasury Yield'].pct_change(1),monthly_resampled_lumber_end['Adj_close'].pct_change(1)],axis=1).dropna()\n",
    "Y_curve_Lumber = pd.concat([Y_curve['3 Month Treasury Yield'],monthly_resampled_lumber_end['Adj_close']],axis=1).dropna()"
   ]
  },
  {
   "cell_type": "code",
   "execution_count": 49,
   "metadata": {},
   "outputs": [
    {
     "data": {
      "text/plain": [
       "SpearmanrResult(correlation=0.02564356961005219, pvalue=0.5249159511672663)"
      ]
     },
     "execution_count": 49,
     "metadata": {},
     "output_type": "execute_result"
    }
   ],
   "source": [
    "spearmanr(Y_curve_Lumber_pct)"
   ]
  },
  {
   "cell_type": "code",
   "execution_count": 50,
   "metadata": {},
   "outputs": [
    {
     "data": {
      "text/plain": [
       "SpearmanrResult(correlation=0.761201194014494, pvalue=5.861800338617071e-118)"
      ]
     },
     "execution_count": 50,
     "metadata": {},
     "output_type": "execute_result"
    }
   ],
   "source": [
    "spearmanr(Y_curve_Lumber)"
   ]
  },
  {
   "cell_type": "code",
   "execution_count": 51,
   "metadata": {},
   "outputs": [
    {
     "data": {
      "text/html": [
       "<div>\n",
       "<style scoped>\n",
       "    .dataframe tbody tr th:only-of-type {\n",
       "        vertical-align: middle;\n",
       "    }\n",
       "\n",
       "    .dataframe tbody tr th {\n",
       "        vertical-align: top;\n",
       "    }\n",
       "\n",
       "    .dataframe thead th {\n",
       "        text-align: right;\n",
       "    }\n",
       "</style>\n",
       "<table border=\"1\" class=\"dataframe\">\n",
       "  <thead>\n",
       "    <tr style=\"text-align: right;\">\n",
       "      <th></th>\n",
       "      <th>3 Month Treasury Yield</th>\n",
       "      <th>Adj_close</th>\n",
       "    </tr>\n",
       "  </thead>\n",
       "  <tbody>\n",
       "    <tr>\n",
       "      <th>3 Month Treasury Yield</th>\n",
       "      <td>1.00000</td>\n",
       "      <td>-0.02262</td>\n",
       "    </tr>\n",
       "    <tr>\n",
       "      <th>Adj_close</th>\n",
       "      <td>-0.02262</td>\n",
       "      <td>1.00000</td>\n",
       "    </tr>\n",
       "  </tbody>\n",
       "</table>\n",
       "</div>"
      ],
      "text/plain": [
       "                        3 Month Treasury Yield  Adj_close\n",
       "3 Month Treasury Yield                 1.00000   -0.02262\n",
       "Adj_close                             -0.02262    1.00000"
      ]
     },
     "execution_count": 51,
     "metadata": {},
     "output_type": "execute_result"
    }
   ],
   "source": [
    "Y_curve_Lumber_pct.corr()"
   ]
  },
  {
   "cell_type": "code",
   "execution_count": 52,
   "metadata": {},
   "outputs": [
    {
     "data": {
      "text/html": [
       "<div>\n",
       "<style scoped>\n",
       "    .dataframe tbody tr th:only-of-type {\n",
       "        vertical-align: middle;\n",
       "    }\n",
       "\n",
       "    .dataframe tbody tr th {\n",
       "        vertical-align: top;\n",
       "    }\n",
       "\n",
       "    .dataframe thead th {\n",
       "        text-align: right;\n",
       "    }\n",
       "</style>\n",
       "<table border=\"1\" class=\"dataframe\">\n",
       "  <thead>\n",
       "    <tr style=\"text-align: right;\">\n",
       "      <th></th>\n",
       "      <th>3 Month Treasury Yield</th>\n",
       "      <th>Adj_close</th>\n",
       "    </tr>\n",
       "  </thead>\n",
       "  <tbody>\n",
       "    <tr>\n",
       "      <th>3 Month Treasury Yield</th>\n",
       "      <td>1.000000</td>\n",
       "      <td>0.538899</td>\n",
       "    </tr>\n",
       "    <tr>\n",
       "      <th>Adj_close</th>\n",
       "      <td>0.538899</td>\n",
       "      <td>1.000000</td>\n",
       "    </tr>\n",
       "  </tbody>\n",
       "</table>\n",
       "</div>"
      ],
      "text/plain": [
       "                        3 Month Treasury Yield  Adj_close\n",
       "3 Month Treasury Yield                1.000000   0.538899\n",
       "Adj_close                             0.538899   1.000000"
      ]
     },
     "execution_count": 52,
     "metadata": {},
     "output_type": "execute_result"
    }
   ],
   "source": [
    "Y_curve_Lumber.corr()"
   ]
  },
  {
   "cell_type": "code",
   "execution_count": 53,
   "metadata": {},
   "outputs": [
    {
     "data": {
      "image/png": "[encoded data removed]",
      "text/plain": [
       "<Figure size 432x288 with 1 Axes>"
      ]
     },
     "metadata": {
      "needs_background": "light"
     },
     "output_type": "display_data"
    }
   ],
   "source": [
    "plt.scatter(Y_curve_Lumber_pct.iloc[:,0],Y_curve_Lumber_pct.iloc[:,1]);"
   ]
  },
  {
   "cell_type": "code",
   "execution_count": 54,
   "metadata": {},
   "outputs": [
    {
     "data": {
      "image/png": "[encoded data removed]",
      "text/plain": [
       "<Figure size 432x288 with 1 Axes>"
      ]
     },
     "metadata": {
      "needs_background": "light"
     },
     "output_type": "display_data"
    }
   ],
   "source": [
    "plt.scatter(Y_curve_Lumber.iloc[:,0],Y_curve_Lumber.iloc[:,1]);"
   ]
  },
  {
   "cell_type": "markdown",
   "metadata": {},
   "source": [
    "## Treasury Term Premia https://www.newyorkfed.org/research/data_indicators/term-premia-tabs#/interactive\n",
    "### Daily"
   ]
  },
  {
   "cell_type": "code",
   "execution_count": 55,
   "metadata": {},
   "outputs": [
    {
     "data": {
      "text/html": [
       "<div>\n",
       "<style scoped>\n",
       "    .dataframe tbody tr th:only-of-type {\n",
       "        vertical-align: middle;\n",
       "    }\n",
       "\n",
       "    .dataframe tbody tr th {\n",
       "        vertical-align: top;\n",
       "    }\n",
       "\n",
       "    .dataframe thead th {\n",
       "        text-align: right;\n",
       "    }\n",
       "</style>\n",
       "<table border=\"1\" class=\"dataframe\">\n",
       "  <thead>\n",
       "    <tr style=\"text-align: right;\">\n",
       "      <th></th>\n",
       "      <th>ACMY01</th>\n",
       "      <th>ACMY02</th>\n",
       "      <th>ACMY03</th>\n",
       "      <th>ACMY04</th>\n",
       "      <th>ACMY05</th>\n",
       "      <th>ACMY06</th>\n",
       "      <th>ACMY07</th>\n",
       "      <th>ACMY08</th>\n",
       "      <th>ACMY09</th>\n",
       "      <th>ACMY10</th>\n",
       "      <th>...</th>\n",
       "      <th>ACMRNY01</th>\n",
       "      <th>ACMRNY02</th>\n",
       "      <th>ACMRNY03</th>\n",
       "      <th>ACMRNY04</th>\n",
       "      <th>ACMRNY05</th>\n",
       "      <th>ACMRNY06</th>\n",
       "      <th>ACMRNY07</th>\n",
       "      <th>ACMRNY08</th>\n",
       "      <th>ACMRNY09</th>\n",
       "      <th>ACMRNY10</th>\n",
       "    </tr>\n",
       "    <tr>\n",
       "      <th>DATE</th>\n",
       "      <th></th>\n",
       "      <th></th>\n",
       "      <th></th>\n",
       "      <th></th>\n",
       "      <th></th>\n",
       "      <th></th>\n",
       "      <th></th>\n",
       "      <th></th>\n",
       "      <th></th>\n",
       "      <th></th>\n",
       "      <th></th>\n",
       "      <th></th>\n",
       "      <th></th>\n",
       "      <th></th>\n",
       "      <th></th>\n",
       "      <th></th>\n",
       "      <th></th>\n",
       "      <th></th>\n",
       "      <th></th>\n",
       "      <th></th>\n",
       "      <th></th>\n",
       "    </tr>\n",
       "  </thead>\n",
       "  <tbody>\n",
       "    <tr>\n",
       "      <th>1961-06-14</th>\n",
       "      <td>2.971938</td>\n",
       "      <td>3.367541</td>\n",
       "      <td>3.551806</td>\n",
       "      <td>3.645017</td>\n",
       "      <td>3.698256</td>\n",
       "      <td>3.733251</td>\n",
       "      <td>3.759322</td>\n",
       "      <td>3.780423</td>\n",
       "      <td>3.798112</td>\n",
       "      <td>3.812862</td>\n",
       "      <td>...</td>\n",
       "      <td>2.887227</td>\n",
       "      <td>3.203769</td>\n",
       "      <td>3.354051</td>\n",
       "      <td>3.435292</td>\n",
       "      <td>3.484541</td>\n",
       "      <td>3.517325</td>\n",
       "      <td>3.540695</td>\n",
       "      <td>3.558119</td>\n",
       "      <td>3.571458</td>\n",
       "      <td>3.581798</td>\n",
       "    </tr>\n",
       "    <tr>\n",
       "      <th>2022-05-27</th>\n",
       "      <td>2.008481</td>\n",
       "      <td>2.466555</td>\n",
       "      <td>2.640965</td>\n",
       "      <td>2.709501</td>\n",
       "      <td>2.739220</td>\n",
       "      <td>2.755113</td>\n",
       "      <td>2.766281</td>\n",
       "      <td>2.775781</td>\n",
       "      <td>2.784351</td>\n",
       "      <td>2.791844</td>\n",
       "      <td>...</td>\n",
       "      <td>1.951200</td>\n",
       "      <td>2.400494</td>\n",
       "      <td>2.621717</td>\n",
       "      <td>2.750762</td>\n",
       "      <td>2.837178</td>\n",
       "      <td>2.901415</td>\n",
       "      <td>2.952692</td>\n",
       "      <td>2.995532</td>\n",
       "      <td>3.032351</td>\n",
       "      <td>3.064564</td>\n",
       "    </tr>\n",
       "  </tbody>\n",
       "</table>\n",
       "<p>2 rows × 30 columns</p>\n",
       "</div>"
      ],
      "text/plain": [
       "              ACMY01    ACMY02    ACMY03    ACMY04    ACMY05    ACMY06  \\\n",
       "DATE                                                                     \n",
       "1961-06-14  2.971938  3.367541  3.551806  3.645017  3.698256  3.733251   \n",
       "2022-05-27  2.008481  2.466555  2.640965  2.709501  2.739220  2.755113   \n",
       "\n",
       "              ACMY07    ACMY08    ACMY09    ACMY10  ...  ACMRNY01  ACMRNY02  \\\n",
       "DATE                                                ...                       \n",
       "1961-06-14  3.759322  3.780423  3.798112  3.812862  ...  2.887227  3.203769   \n",
       "2022-05-27  2.766281  2.775781  2.784351  2.791844  ...  1.951200  2.400494   \n",
       "\n",
       "            ACMRNY03  ACMRNY04  ACMRNY05  ACMRNY06  ACMRNY07  ACMRNY08  \\\n",
       "DATE                                                                     \n",
       "1961-06-14  3.354051  3.435292  3.484541  3.517325  3.540695  3.558119   \n",
       "2022-05-27  2.621717  2.750762  2.837178  2.901415  2.952692  2.995532   \n",
       "\n",
       "            ACMRNY09  ACMRNY10  \n",
       "DATE                            \n",
       "1961-06-14  3.571458  3.581798  \n",
       "2022-05-27  3.032351  3.064564  \n",
       "\n",
       "[2 rows x 30 columns]"
      ]
     },
     "execution_count": 55,
     "metadata": {},
     "output_type": "execute_result"
    }
   ],
   "source": [
    "Treasury_Terms_link = \"https://www.newyorkfed.org/medialibrary/media/research/data_indicators/ACMTermPremium.xls\"\n",
    "Treasury_Terms = pd.read_excel(Treasury_Terms_link, sheet_name='ACM Daily', index_col=0)\n",
    "Treasury_Terms.index = pd.DatetimeIndex(Treasury_Terms.index).strftime('%Y-%m-%d')\n",
    "Treasury_Terms.dropna(inplace=True)\n",
    "Treasury_Terms.head(1).append(Treasury_Terms.tail(1))"
   ]
  },
  {
   "cell_type": "code",
   "execution_count": 56,
   "metadata": {},
   "outputs": [],
   "source": [
    "Treasury_Terms_Lumber_pct = pd.concat([Treasury_Terms['ACMY01'].pct_change(1),lumber_df['Adj_close'].pct_change(-1)],axis=1).dropna()\n",
    "Treasury_Terms_Lumber = pd.concat([Treasury_Terms['ACMY01'],lumber_df['Adj_close']],axis=1).dropna()"
   ]
  },
  {
   "cell_type": "markdown",
   "metadata": {},
   "source": [
    "## Spearman - without pct_change"
   ]
  },
  {
   "cell_type": "code",
   "execution_count": 57,
   "metadata": {},
   "outputs": [
    {
     "data": {
      "text/html": [
       "<div>\n",
       "<style scoped>\n",
       "    .dataframe tbody tr th:only-of-type {\n",
       "        vertical-align: middle;\n",
       "    }\n",
       "\n",
       "    .dataframe tbody tr th {\n",
       "        vertical-align: top;\n",
       "    }\n",
       "\n",
       "    .dataframe thead th {\n",
       "        text-align: right;\n",
       "    }\n",
       "</style>\n",
       "<table border=\"1\" class=\"dataframe\">\n",
       "  <thead>\n",
       "    <tr style=\"text-align: right;\">\n",
       "      <th></th>\n",
       "      <th>Item</th>\n",
       "      <th>Spearman</th>\n",
       "      <th>p-value</th>\n",
       "    </tr>\n",
       "  </thead>\n",
       "  <tbody>\n",
       "    <tr>\n",
       "      <th>0</th>\n",
       "      <td>ACMRNY10</td>\n",
       "      <td>0.78</td>\n",
       "      <td>0.0</td>\n",
       "    </tr>\n",
       "    <tr>\n",
       "      <th>0</th>\n",
       "      <td>ACMRNY08</td>\n",
       "      <td>0.78</td>\n",
       "      <td>0.0</td>\n",
       "    </tr>\n",
       "  </tbody>\n",
       "</table>\n",
       "</div>"
      ],
      "text/plain": [
       "       Item Spearman p-value\n",
       "0  ACMRNY10     0.78     0.0\n",
       "0  ACMRNY08     0.78     0.0"
      ]
     },
     "execution_count": 57,
     "metadata": {},
     "output_type": "execute_result"
    }
   ],
   "source": [
    "Treasury_Terms_spr = pd.DataFrame(columns=['Item','Spearman','p-value'])\n",
    "for col in Treasury_Terms.columns:\n",
    "    Treasury_Terms_Lumber_pct = pd.concat([Treasury_Terms[col].pct_change(1),lumber_df['Adj_close'].pct_change(-1)],axis=1).dropna()\n",
    "    Treasury_Terms_Lumber = pd.concat([Treasury_Terms[col],lumber_df['Adj_close']],axis=1).dropna()\n",
    "    item_df = pd.DataFrame(data=[col, round(spearmanr(Treasury_Terms_Lumber)[0],2), round(spearmanr(Treasury_Terms_Lumber)[1],3)]).T\n",
    "    item_df.columns = Treasury_Terms_spr.columns\n",
    "    Treasury_Terms_spr = pd.concat([item_df,Treasury_Terms_spr],axis=0)\n",
    "\n",
    "Treasury_Terms_spr.sort_values(by='Spearman',ascending=False).head(2)"
   ]
  },
  {
   "cell_type": "markdown",
   "metadata": {},
   "source": [
    "## Spearman - pct_change"
   ]
  },
  {
   "cell_type": "code",
   "execution_count": 58,
   "metadata": {},
   "outputs": [
    {
     "data": {
      "text/html": [
       "<div>\n",
       "<style scoped>\n",
       "    .dataframe tbody tr th:only-of-type {\n",
       "        vertical-align: middle;\n",
       "    }\n",
       "\n",
       "    .dataframe tbody tr th {\n",
       "        vertical-align: top;\n",
       "    }\n",
       "\n",
       "    .dataframe thead th {\n",
       "        text-align: right;\n",
       "    }\n",
       "</style>\n",
       "<table border=\"1\" class=\"dataframe\">\n",
       "  <thead>\n",
       "    <tr style=\"text-align: right;\">\n",
       "      <th></th>\n",
       "      <th>Item</th>\n",
       "      <th>Spearman</th>\n",
       "      <th>p-value</th>\n",
       "    </tr>\n",
       "  </thead>\n",
       "  <tbody>\n",
       "    <tr>\n",
       "      <th>0</th>\n",
       "      <td>ACMY03</td>\n",
       "      <td>-0.0</td>\n",
       "      <td>0.745</td>\n",
       "    </tr>\n",
       "    <tr>\n",
       "      <th>0</th>\n",
       "      <td>ACMY04</td>\n",
       "      <td>-0.0</td>\n",
       "      <td>0.746</td>\n",
       "    </tr>\n",
       "  </tbody>\n",
       "</table>\n",
       "</div>"
      ],
      "text/plain": [
       "     Item Spearman p-value\n",
       "0  ACMY03     -0.0   0.745\n",
       "0  ACMY04     -0.0   0.746"
      ]
     },
     "execution_count": 58,
     "metadata": {},
     "output_type": "execute_result"
    }
   ],
   "source": [
    "Treasury_Terms_spr = pd.DataFrame(columns=['Item','Spearman','p-value'])\n",
    "for col in Treasury_Terms.columns:\n",
    "    Treasury_Terms_Lumber_pct = pd.concat([Treasury_Terms[col].pct_change(1),lumber_df['Adj_close'].pct_change(-1)],axis=1).dropna()\n",
    "    Treasury_Terms_Lumber = pd.concat([Treasury_Terms[col],lumber_df['Adj_close']],axis=1).dropna()\n",
    "    item_df = pd.DataFrame(data=[col, round(spearmanr(Treasury_Terms_Lumber_pct)[0],2), round(spearmanr(Treasury_Terms_Lumber_pct)[1],3)]).T\n",
    "    item_df.columns = Treasury_Terms_spr.columns\n",
    "    Treasury_Terms_spr = pd.concat([item_df,Treasury_Terms_spr],axis=0)\n",
    "\n",
    "Treasury_Terms_spr.sort_values(by='Spearman',ascending=False).head(2)"
   ]
  },
  {
   "cell_type": "markdown",
   "metadata": {},
   "source": [
    "# Pearson "
   ]
  },
  {
   "cell_type": "code",
   "execution_count": 59,
   "metadata": {},
   "outputs": [
    {
     "data": {
      "image/png": "[encoded data removed]",
      "text/plain": [
       "<Figure size 432x288 with 1 Axes>"
      ]
     },
     "metadata": {
      "needs_background": "light"
     },
     "output_type": "display_data"
    }
   ],
   "source": [
    "Treasury_Terms_Lumber = pd.concat([Treasury_Terms['ACMRNY10'],lumber_df['Adj_close']],axis=1).dropna()\n",
    "plt.scatter(Treasury_Terms_Lumber.iloc[:,0],Treasury_Terms_Lumber.iloc[:,1]);"
   ]
  },
  {
   "cell_type": "code",
   "execution_count": 60,
   "metadata": {},
   "outputs": [
    {
     "data": {
      "image/png": "[encoded data removed]",
      "text/plain": [
       "<Figure size 432x288 with 1 Axes>"
      ]
     },
     "metadata": {
      "needs_background": "light"
     },
     "output_type": "display_data"
    }
   ],
   "source": [
    "Treasury_Terms_Lumber_pct = pd.concat([Treasury_Terms['ACMRNY10'].pct_change(1),lumber_df['Adj_close'].pct_change(-1)],axis=1).dropna()\n",
    "plt.scatter(Treasury_Terms_Lumber_pct.iloc[:,0],Treasury_Terms_Lumber_pct.iloc[:,1]);"
   ]
  },
  {
   "cell_type": "markdown",
   "metadata": {},
   "source": [
    "# FRED"
   ]
  },
  {
   "cell_type": "code",
   "execution_count": 61,
   "metadata": {},
   "outputs": [
    {
     "name": "stderr",
     "output_type": "stream",
     "text": [
      "Downloading data from FRED:: 100%|██████████| 67/67 [00:09<00:00,  7.00it/s]\n"
     ]
    },
    {
     "name": "stdout",
     "output_type": "stream",
     "text": [
      "Time Taken 00:09\n"
     ]
    },
    {
     "name": "stderr",
     "output_type": "stream",
     "text": [
      "Downloading desciprions for each symbol from FRED::  76%|███████▌  | 51/67 [00:07<00:02,  6.52it/s]\n"
     ]
    },
    {
     "ename": "ValueError",
     "evalue": "Too Many Requests.  Exceeded Rate Limit",
     "output_type": "error",
     "traceback": [
      "\u001b[1;31m---------------------------------------------------------------------------\u001b[0m",
      "\u001b[1;31mHTTPError\u001b[0m                                 Traceback (most recent call last)",
      "File \u001b[1;32m\\\\VSYS-P-GW01.cloud.vsys.ca\\RDFolderRedirect$\\fanjum_cwp\\Desktop\\Python\\2x4\\venv\\Lib\\site-packages\\fredapi\\fred.py:64\u001b[0m, in \u001b[0;36mFred.__fetch_data\u001b[1;34m(self, url)\u001b[0m\n\u001b[0;32m     <a href='file://vsys-p-gw01.cloud.vsys.ca/RDFolderRedirect%24/fanjum_cwp/Desktop/Python/2x4/venv/Lib/site-packages/fredapi/fred.py?line=62'>63</a>\u001b[0m \u001b[39mtry\u001b[39;00m:\n\u001b[1;32m---> <a href='file://vsys-p-gw01.cloud.vsys.ca/RDFolderRedirect%24/fanjum_cwp/Desktop/Python/2x4/venv/Lib/site-packages/fredapi/fred.py?line=63'>64</a>\u001b[0m     response \u001b[39m=\u001b[39m urlopen(url)\n\u001b[0;32m     <a href='file://vsys-p-gw01.cloud.vsys.ca/RDFolderRedirect%24/fanjum_cwp/Desktop/Python/2x4/venv/Lib/site-packages/fredapi/fred.py?line=64'>65</a>\u001b[0m     root \u001b[39m=\u001b[39m ET\u001b[39m.\u001b[39mfromstring(response\u001b[39m.\u001b[39mread())\n",
      "File \u001b[1;32m~\\AppData\\Local\\Programs\\Python\\Python310\\lib\\urllib\\request.py:216\u001b[0m, in \u001b[0;36murlopen\u001b[1;34m(url, data, timeout, cafile, capath, cadefault, context)\u001b[0m\n\u001b[0;32m    <a href='file:///c%3A/Users/Fanjum_cwp/AppData/Local/Programs/Python/Python310/lib/urllib/request.py?line=214'>215</a>\u001b[0m     opener \u001b[39m=\u001b[39m _opener\n\u001b[1;32m--> <a href='file:///c%3A/Users/Fanjum_cwp/AppData/Local/Programs/Python/Python310/lib/urllib/request.py?line=215'>216</a>\u001b[0m \u001b[39mreturn\u001b[39;00m opener\u001b[39m.\u001b[39;49mopen(url, data, timeout)\n",
      "File \u001b[1;32m~\\AppData\\Local\\Programs\\Python\\Python310\\lib\\urllib\\request.py:525\u001b[0m, in \u001b[0;36mOpenerDirector.open\u001b[1;34m(self, fullurl, data, timeout)\u001b[0m\n\u001b[0;32m    <a href='file:///c%3A/Users/Fanjum_cwp/AppData/Local/Programs/Python/Python310/lib/urllib/request.py?line=523'>524</a>\u001b[0m     meth \u001b[39m=\u001b[39m \u001b[39mgetattr\u001b[39m(processor, meth_name)\n\u001b[1;32m--> <a href='file:///c%3A/Users/Fanjum_cwp/AppData/Local/Programs/Python/Python310/lib/urllib/request.py?line=524'>525</a>\u001b[0m     response \u001b[39m=\u001b[39m meth(req, response)\n\u001b[0;32m    <a href='file:///c%3A/Users/Fanjum_cwp/AppData/Local/Programs/Python/Python310/lib/urllib/request.py?line=526'>527</a>\u001b[0m \u001b[39mreturn\u001b[39;00m response\n",
      "File \u001b[1;32m~\\AppData\\Local\\Programs\\Python\\Python310\\lib\\urllib\\request.py:634\u001b[0m, in \u001b[0;36mHTTPErrorProcessor.http_response\u001b[1;34m(self, request, response)\u001b[0m\n\u001b[0;32m    <a href='file:///c%3A/Users/Fanjum_cwp/AppData/Local/Programs/Python/Python310/lib/urllib/request.py?line=632'>633</a>\u001b[0m \u001b[39mif\u001b[39;00m \u001b[39mnot\u001b[39;00m (\u001b[39m200\u001b[39m \u001b[39m<\u001b[39m\u001b[39m=\u001b[39m code \u001b[39m<\u001b[39m \u001b[39m300\u001b[39m):\n\u001b[1;32m--> <a href='file:///c%3A/Users/Fanjum_cwp/AppData/Local/Programs/Python/Python310/lib/urllib/request.py?line=633'>634</a>\u001b[0m     response \u001b[39m=\u001b[39m \u001b[39mself\u001b[39;49m\u001b[39m.\u001b[39;49mparent\u001b[39m.\u001b[39;49merror(\n\u001b[0;32m    <a href='file:///c%3A/Users/Fanjum_cwp/AppData/Local/Programs/Python/Python310/lib/urllib/request.py?line=634'>635</a>\u001b[0m         \u001b[39m'\u001b[39;49m\u001b[39mhttp\u001b[39;49m\u001b[39m'\u001b[39;49m, request, response, code, msg, hdrs)\n\u001b[0;32m    <a href='file:///c%3A/Users/Fanjum_cwp/AppData/Local/Programs/Python/Python310/lib/urllib/request.py?line=636'>637</a>\u001b[0m \u001b[39mreturn\u001b[39;00m response\n",
      "File \u001b[1;32m~\\AppData\\Local\\Programs\\Python\\Python310\\lib\\urllib\\request.py:563\u001b[0m, in \u001b[0;36mOpenerDirector.error\u001b[1;34m(self, proto, *args)\u001b[0m\n\u001b[0;32m    <a href='file:///c%3A/Users/Fanjum_cwp/AppData/Local/Programs/Python/Python310/lib/urllib/request.py?line=561'>562</a>\u001b[0m args \u001b[39m=\u001b[39m (\u001b[39mdict\u001b[39m, \u001b[39m'\u001b[39m\u001b[39mdefault\u001b[39m\u001b[39m'\u001b[39m, \u001b[39m'\u001b[39m\u001b[39mhttp_error_default\u001b[39m\u001b[39m'\u001b[39m) \u001b[39m+\u001b[39m orig_args\n\u001b[1;32m--> <a href='file:///c%3A/Users/Fanjum_cwp/AppData/Local/Programs/Python/Python310/lib/urllib/request.py?line=562'>563</a>\u001b[0m \u001b[39mreturn\u001b[39;00m \u001b[39mself\u001b[39;49m\u001b[39m.\u001b[39;49m_call_chain(\u001b[39m*\u001b[39;49margs)\n",
      "File \u001b[1;32m~\\AppData\\Local\\Programs\\Python\\Python310\\lib\\urllib\\request.py:496\u001b[0m, in \u001b[0;36mOpenerDirector._call_chain\u001b[1;34m(self, chain, kind, meth_name, *args)\u001b[0m\n\u001b[0;32m    <a href='file:///c%3A/Users/Fanjum_cwp/AppData/Local/Programs/Python/Python310/lib/urllib/request.py?line=494'>495</a>\u001b[0m func \u001b[39m=\u001b[39m \u001b[39mgetattr\u001b[39m(handler, meth_name)\n\u001b[1;32m--> <a href='file:///c%3A/Users/Fanjum_cwp/AppData/Local/Programs/Python/Python310/lib/urllib/request.py?line=495'>496</a>\u001b[0m result \u001b[39m=\u001b[39m func(\u001b[39m*\u001b[39;49margs)\n\u001b[0;32m    <a href='file:///c%3A/Users/Fanjum_cwp/AppData/Local/Programs/Python/Python310/lib/urllib/request.py?line=496'>497</a>\u001b[0m \u001b[39mif\u001b[39;00m result \u001b[39mis\u001b[39;00m \u001b[39mnot\u001b[39;00m \u001b[39mNone\u001b[39;00m:\n",
      "File \u001b[1;32m~\\AppData\\Local\\Programs\\Python\\Python310\\lib\\urllib\\request.py:643\u001b[0m, in \u001b[0;36mHTTPDefaultErrorHandler.http_error_default\u001b[1;34m(self, req, fp, code, msg, hdrs)\u001b[0m\n\u001b[0;32m    <a href='file:///c%3A/Users/Fanjum_cwp/AppData/Local/Programs/Python/Python310/lib/urllib/request.py?line=641'>642</a>\u001b[0m \u001b[39mdef\u001b[39;00m \u001b[39mhttp_error_default\u001b[39m(\u001b[39mself\u001b[39m, req, fp, code, msg, hdrs):\n\u001b[1;32m--> <a href='file:///c%3A/Users/Fanjum_cwp/AppData/Local/Programs/Python/Python310/lib/urllib/request.py?line=642'>643</a>\u001b[0m     \u001b[39mraise\u001b[39;00m HTTPError(req\u001b[39m.\u001b[39mfull_url, code, msg, hdrs, fp)\n",
      "\u001b[1;31mHTTPError\u001b[0m: HTTP Error 429: Too Many Requests",
      "\nDuring handling of the above exception, another exception occurred:\n",
      "\u001b[1;31mValueError\u001b[0m                                Traceback (most recent call last)",
      "\u001b[1;32mc:\\source\\2x4_data\\app\\feature_selection\\DATA_Aggregation.ipynb Cell 94'\u001b[0m in \u001b[0;36m<module>\u001b[1;34m\u001b[0m\n\u001b[0;32m      <a href='vscode-notebook-cell:/c%3A/source/2x4_data/app/feature_selection/DATA_Aggregation.ipynb#ch0000093?line=1'>2</a>\u001b[0m fred \u001b[39m=\u001b[39m FRED_Client(FRED_SYMBOLS)\n\u001b[0;32m      <a href='vscode-notebook-cell:/c%3A/source/2x4_data/app/feature_selection/DATA_Aggregation.ipynb#ch0000093?line=2'>3</a>\u001b[0m fred_data \u001b[39m=\u001b[39m fred\u001b[39m.\u001b[39mget_data(\u001b[39m100\u001b[39m)\n\u001b[1;32m----> <a href='vscode-notebook-cell:/c%3A/source/2x4_data/app/feature_selection/DATA_Aggregation.ipynb#ch0000093?line=3'>4</a>\u001b[0m fred_desc \u001b[39m=\u001b[39m fred\u001b[39m.\u001b[39;49mget_symbol_description()\n",
      "File \u001b[1;32mC:\\source\\2x4_data\\app\\data\\_fred.py:68\u001b[0m, in \u001b[0;36mFRED_Client.get_symbol_description\u001b[1;34m(self)\u001b[0m\n\u001b[0;32m     <a href='file:///c%3A/source/2x4_data/app/data/_fred.py?line=64'>65</a>\u001b[0m tq_fred\u001b[39m.\u001b[39mset_description(\u001b[39m'\u001b[39m\u001b[39mDownloading desciprions for each symbol from FRED:\u001b[39m\u001b[39m'\u001b[39m)\n\u001b[0;32m     <a href='file:///c%3A/source/2x4_data/app/data/_fred.py?line=66'>67</a>\u001b[0m \u001b[39mfor\u001b[39;00m col \u001b[39min\u001b[39;00m tq_fred:\n\u001b[1;32m---> <a href='file:///c%3A/source/2x4_data/app/data/_fred.py?line=67'>68</a>\u001b[0m         info \u001b[39m=\u001b[39m \u001b[39mself\u001b[39;49m\u001b[39m.\u001b[39;49mfred\u001b[39m.\u001b[39;49mget_series_info(col)\n\u001b[0;32m     <a href='file:///c%3A/source/2x4_data/app/data/_fred.py?line=68'>69</a>\u001b[0m         \u001b[39mfor\u001b[39;00m row \u001b[39min\u001b[39;00m info\u001b[39m.\u001b[39mindex:\n\u001b[0;32m     <a href='file:///c%3A/source/2x4_data/app/data/_fred.py?line=69'>70</a>\u001b[0m             description_df\u001b[39m.\u001b[39mloc[row,col] \u001b[39m=\u001b[39m info[row]\n",
      "File \u001b[1;32m\\\\VSYS-P-GW01.cloud.vsys.ca\\RDFolderRedirect$\\fanjum_cwp\\Desktop\\Python\\2x4\\venv\\Lib\\site-packages\\fredapi\\fred.py:95\u001b[0m, in \u001b[0;36mFred.get_series_info\u001b[1;34m(self, series_id)\u001b[0m\n\u001b[0;32m     <a href='file://vsys-p-gw01.cloud.vsys.ca/RDFolderRedirect%24/fanjum_cwp/Desktop/Python/2x4/venv/Lib/site-packages/fredapi/fred.py?line=80'>81</a>\u001b[0m \u001b[39m\"\"\"\u001b[39;00m\n\u001b[0;32m     <a href='file://vsys-p-gw01.cloud.vsys.ca/RDFolderRedirect%24/fanjum_cwp/Desktop/Python/2x4/venv/Lib/site-packages/fredapi/fred.py?line=81'>82</a>\u001b[0m \u001b[39mGet information about a series such as its title, frequency, observation start/end dates, units, notes, etc.\u001b[39;00m\n\u001b[0;32m     <a href='file://vsys-p-gw01.cloud.vsys.ca/RDFolderRedirect%24/fanjum_cwp/Desktop/Python/2x4/venv/Lib/site-packages/fredapi/fred.py?line=82'>83</a>\u001b[0m \n\u001b[1;32m   (...)\u001b[0m\n\u001b[0;32m     <a href='file://vsys-p-gw01.cloud.vsys.ca/RDFolderRedirect%24/fanjum_cwp/Desktop/Python/2x4/venv/Lib/site-packages/fredapi/fred.py?line=91'>92</a>\u001b[0m \u001b[39m    a pandas Series containing information about the Fred series\u001b[39;00m\n\u001b[0;32m     <a href='file://vsys-p-gw01.cloud.vsys.ca/RDFolderRedirect%24/fanjum_cwp/Desktop/Python/2x4/venv/Lib/site-packages/fredapi/fred.py?line=92'>93</a>\u001b[0m \u001b[39m\"\"\"\u001b[39;00m\n\u001b[0;32m     <a href='file://vsys-p-gw01.cloud.vsys.ca/RDFolderRedirect%24/fanjum_cwp/Desktop/Python/2x4/venv/Lib/site-packages/fredapi/fred.py?line=93'>94</a>\u001b[0m url \u001b[39m=\u001b[39m \u001b[39m\"\u001b[39m\u001b[39m%s\u001b[39;00m\u001b[39m/series?series_id=\u001b[39m\u001b[39m%s\u001b[39;00m\u001b[39m\"\u001b[39m \u001b[39m%\u001b[39m (\u001b[39mself\u001b[39m\u001b[39m.\u001b[39mroot_url, series_id)\n\u001b[1;32m---> <a href='file://vsys-p-gw01.cloud.vsys.ca/RDFolderRedirect%24/fanjum_cwp/Desktop/Python/2x4/venv/Lib/site-packages/fredapi/fred.py?line=94'>95</a>\u001b[0m root \u001b[39m=\u001b[39m \u001b[39mself\u001b[39;49m\u001b[39m.\u001b[39;49m__fetch_data(url)\n\u001b[0;32m     <a href='file://vsys-p-gw01.cloud.vsys.ca/RDFolderRedirect%24/fanjum_cwp/Desktop/Python/2x4/venv/Lib/site-packages/fredapi/fred.py?line=95'>96</a>\u001b[0m \u001b[39mif\u001b[39;00m root \u001b[39mis\u001b[39;00m \u001b[39mNone\u001b[39;00m \u001b[39mor\u001b[39;00m \u001b[39mnot\u001b[39;00m \u001b[39mlen\u001b[39m(root):\n\u001b[0;32m     <a href='file://vsys-p-gw01.cloud.vsys.ca/RDFolderRedirect%24/fanjum_cwp/Desktop/Python/2x4/venv/Lib/site-packages/fredapi/fred.py?line=96'>97</a>\u001b[0m     \u001b[39mraise\u001b[39;00m \u001b[39mValueError\u001b[39;00m(\u001b[39m'\u001b[39m\u001b[39mNo info exists for series id: \u001b[39m\u001b[39m'\u001b[39m \u001b[39m+\u001b[39m series_id)\n",
      "File \u001b[1;32m\\\\VSYS-P-GW01.cloud.vsys.ca\\RDFolderRedirect$\\fanjum_cwp\\Desktop\\Python\\2x4\\venv\\Lib\\site-packages\\fredapi\\fred.py:68\u001b[0m, in \u001b[0;36mFred.__fetch_data\u001b[1;34m(self, url)\u001b[0m\n\u001b[0;32m     <a href='file://vsys-p-gw01.cloud.vsys.ca/RDFolderRedirect%24/fanjum_cwp/Desktop/Python/2x4/venv/Lib/site-packages/fredapi/fred.py?line=65'>66</a>\u001b[0m \u001b[39mexcept\u001b[39;00m HTTPError \u001b[39mas\u001b[39;00m exc:\n\u001b[0;32m     <a href='file://vsys-p-gw01.cloud.vsys.ca/RDFolderRedirect%24/fanjum_cwp/Desktop/Python/2x4/venv/Lib/site-packages/fredapi/fred.py?line=66'>67</a>\u001b[0m     root \u001b[39m=\u001b[39m ET\u001b[39m.\u001b[39mfromstring(exc\u001b[39m.\u001b[39mread())\n\u001b[1;32m---> <a href='file://vsys-p-gw01.cloud.vsys.ca/RDFolderRedirect%24/fanjum_cwp/Desktop/Python/2x4/venv/Lib/site-packages/fredapi/fred.py?line=67'>68</a>\u001b[0m     \u001b[39mraise\u001b[39;00m \u001b[39mValueError\u001b[39;00m(root\u001b[39m.\u001b[39mget(\u001b[39m'\u001b[39m\u001b[39mmessage\u001b[39m\u001b[39m'\u001b[39m))\n\u001b[0;32m     <a href='file://vsys-p-gw01.cloud.vsys.ca/RDFolderRedirect%24/fanjum_cwp/Desktop/Python/2x4/venv/Lib/site-packages/fredapi/fred.py?line=68'>69</a>\u001b[0m \u001b[39mreturn\u001b[39;00m root\n",
      "\u001b[1;31mValueError\u001b[0m: Too Many Requests.  Exceeded Rate Limit"
     ]
    }
   ],
   "source": [
    "from _fred import FRED_Client, FRED_SYMBOLS\n",
    "fred = FRED_Client(FRED_SYMBOLS)\n",
    "fred_data = fred.get_data(100)\n",
    "fred_desc = fred.get_symbol_description()"
   ]
  },
  {
   "cell_type": "markdown",
   "metadata": {},
   "source": [
    "#### LIST of All FRED Symbols"
   ]
  },
  {
   "cell_type": "code",
   "execution_count": null,
   "metadata": {},
   "outputs": [],
   "source": [
    "fred_data.keys()"
   ]
  },
  {
   "cell_type": "markdown",
   "metadata": {},
   "source": [
    "### List of Fred symbols based on frequency"
   ]
  },
  {
   "cell_type": "code",
   "execution_count": null,
   "metadata": {},
   "outputs": [],
   "source": [
    "frequency_count = fred_desc.loc[['id','frequency']].T.groupby('frequency').count()\n",
    "frequency_count"
   ]
  },
  {
   "cell_type": "markdown",
   "metadata": {},
   "source": [
    "### ALL META DATA FOR fred symbols"
   ]
  },
  {
   "cell_type": "code",
   "execution_count": null,
   "metadata": {},
   "outputs": [],
   "source": [
    "fred_desc.index"
   ]
  },
  {
   "cell_type": "code",
   "execution_count": null,
   "metadata": {},
   "outputs": [],
   "source": [
    "fred_desc.loc[['id','title']]['TEDRATE']['title']"
   ]
  },
  {
   "cell_type": "code",
   "execution_count": null,
   "metadata": {},
   "outputs": [],
   "source": [
    "import collections\n",
    "fred_daily_syms = []\n",
    "error_syms = []\n",
    "\n",
    "frequency_count = fred_desc.loc[['id','frequency']].T.groupby('frequency').count()\n",
    "fred_frquency_sym = collections.defaultdict(list)\n",
    "\n",
    "for key in frequency_count.index:\n",
    "    # print(key)\n",
    "    for syms in fred_data.keys():\n",
    "        # print(syms)\n",
    "        try:\n",
    "            if(fred_desc[syms]['frequency'] == key):\n",
    "                fred_frquency_sym[key].append(syms)\n",
    "        except:\n",
    "            error_syms.append(syms)\n",
    "\n",
    "fred_db_tables = collections.defaultdict(list)\n",
    "for key in fred_frquency_sym.keys():\n",
    "    fred_db_tables[key] =pd.DataFrame()\n",
    "    for sym in fred_frquency_sym[key]:\n",
    "        fred_db_tables[key] = pd.concat([fred_db_tables[key],fred_data[sym]],axis=1)\n",
    "    \n",
    "    fred_db_tables[key].index = pd.DatetimeIndex(fred_db_tables[key].index).strftime('%Y-%m-%d')\n",
    "    fred_db_tables[key] = fred_db_tables[key].dropna(how='all').sort_index(ascending = False)\n",
    "    \n",
    "fred_db_tables['Daily'].drop('TEDRATE',axis=1, inplace = True) # Removed TEDRATE from symbols with daily frequency as its 'last_updated' field in fred_desc was not updated for a long time\n"
   ]
  },
  {
   "cell_type": "markdown",
   "metadata": {},
   "source": [
    "## Rename All columns to original Names\n"
   ]
  },
  {
   "cell_type": "code",
   "execution_count": null,
   "metadata": {},
   "outputs": [],
   "source": [
    "\n",
    "for key in fred_db_tables.keys():\n",
    "    col_list = []\n",
    "    for col in fred_db_tables[key].columns:\n",
    "        col_list.append(fred_desc.loc[['id','title']][col]['title'])\n",
    "    fred_db_tables[key].columns = col_list"
   ]
  },
  {
   "cell_type": "code",
   "execution_count": null,
   "metadata": {},
   "outputs": [],
   "source": [
    "fred_db_tables['Daily'].head(1).append(fred_db_tables['Daily'].tail(1))"
   ]
  },
  {
   "cell_type": "code",
   "execution_count": null,
   "metadata": {},
   "outputs": [],
   "source": [
    "fred_db_tables['Monthly'].head(1).append(fred_db_tables['Monthly'].tail(1))"
   ]
  },
  {
   "cell_type": "code",
   "execution_count": null,
   "metadata": {},
   "outputs": [],
   "source": [
    "fred_db_tables['Weekly, Ending Monday'].head(1).append(fred_db_tables['Weekly, Ending Monday'].tail(1))"
   ]
  },
  {
   "cell_type": "markdown",
   "metadata": {},
   "source": [
    "# Lumber correlations with Daily FRED Data"
   ]
  },
  {
   "cell_type": "code",
   "execution_count": null,
   "metadata": {},
   "outputs": [],
   "source": [
    "# Daily Correlations of Lumber with Fred Variables\n",
    "fred_corr = pd.DataFrame(columns=['Item','Spearman','p-value','Pearson'])\n",
    "for col in fred_db_tables['Daily'].columns:\n",
    "    fred_daily_Lumber_pct = pd.concat([fred_db_tables['Daily'][col].pct_change(-1),lumber_df['Adj_close'].pct_change(-1)],axis=1).dropna()\n",
    "    fred_daily_Lumber = pd.concat([fred_db_tables['Daily'][col],lumber_df['Adj_close']],axis=1).dropna()\n",
    "    spr = spearmanr(fred_daily_Lumber)\n",
    "    item_df = pd.DataFrame(data=[col, round(spr[0],2), round(spr[1],3), round(fred_daily_Lumber.corr().iloc[0,1],2)]).T\n",
    "    item_df.columns = fred_corr.columns\n",
    "    fred_corr = pd.concat([item_df,fred_corr],axis=0)\n",
    "\n",
    "fred_corr.sort_values(by='Spearman',ascending=False)"
   ]
  },
  {
   "cell_type": "code",
   "execution_count": null,
   "metadata": {},
   "outputs": [],
   "source": [
    "# Daily Correlations of Lumber_pct_change with Fred Variables_pct_change\n",
    "fred_corr = pd.DataFrame(columns=['Item','Spearman','p-value','Pearson'])\n",
    "for col in fred_db_tables['Daily'].columns:\n",
    "    fred_daily_Lumber_pct = pd.concat([fred_db_tables['Daily'][col].pct_change(-1),lumber_df['Adj_close'].pct_change(-1)],axis=1).dropna()\n",
    "    fred_daily_Lumber = pd.concat([fred_db_tables['Daily'][col],lumber_df['Adj_close']],axis=1).dropna()\n",
    "    spr = spearmanr(fred_daily_Lumber_pct)\n",
    "    item_df = pd.DataFrame(data=[col, round(spr[0],2), round(spr[1],3), round(fred_daily_Lumber_pct.corr().iloc[0,1],2)]).T\n",
    "    item_df.columns = fred_corr.columns\n",
    "    fred_corr = pd.concat([item_df,fred_corr],axis=0)\n",
    "\n",
    "fred_corr.sort_values(by='Spearman',ascending=False)"
   ]
  },
  {
   "cell_type": "markdown",
   "metadata": {},
   "source": [
    "# YAHOO - \n",
    "### I used \".get_data\" function from \"_yahoo.py\" to pull OHLCV & Adj Close for all symbols. I named it \"yahoo_get_data\" in yahoo section of \"DATA_Aggregation.ipynb. All symbols (6 series for each) need to go in db. "
   ]
  },
  {
   "cell_type": "code",
   "execution_count": null,
   "metadata": {},
   "outputs": [],
   "source": [
    "from _yahoo import YAHOO_Client, YAHOO_SYMBOLS\n",
    "yahoo = YAHOO_Client(YAHOO_SYMBOLS)\n",
    "yahoo_desc = yahoo.get_symbol_description()\n",
    "yahoo_get_data = yahoo.get_data(35) \n",
    "\n",
    "# Instead of symbols, use short names for companies\n",
    "com_list = ['RFP','WFG','IFP.TO','WY','CFP.TO']\n",
    "for key in list(yahoo_get_data):\n",
    "    if key in com_list:\n",
    "        new_key = yahoo_desc[key]['shortName']\n",
    "        yahoo_get_data[new_key] = yahoo_get_data.pop(key)\n",
    "\n",
    "for new_key in yahoo_get_data.keys():\n",
    "    yahoo_get_data[new_key].index = pd.DatetimeIndex(yahoo_get_data[new_key].index).strftime('%Y-%m-%d')\n",
    "\n",
    "# yahoo_get_data is ready to be inserted into the Database - note yahoo_desc - shortnames have been added as keys to yahoo_get_data"
   ]
  },
  {
   "cell_type": "code",
   "execution_count": null,
   "metadata": {},
   "outputs": [],
   "source": [
    "yahoo_get_data['INTERFOR CORPORATION'].head(1).append(yahoo_get_data['INTERFOR CORPORATION'].tail(1))"
   ]
  },
  {
   "cell_type": "markdown",
   "metadata": {},
   "source": [
    "## Correlation for Yahoo symbols"
   ]
  },
  {
   "cell_type": "code",
   "execution_count": null,
   "metadata": {},
   "outputs": [],
   "source": [
    "data_close_yahoo = yahoo.get_combined_yahoo(OHLCV = 'Close') # This is Not for the Database"
   ]
  },
  {
   "cell_type": "code",
   "execution_count": null,
   "metadata": {},
   "outputs": [],
   "source": [
    "# Daily Correlations of Lumber_pct_change with Yahoo Variables_pct_change\n",
    "yahoo_corr = pd.DataFrame(columns=['Item','Spearman','p-value','Pearson'])\n",
    "\n",
    "\n",
    "for col in data_close_yahoo.columns:\n",
    "    if col not in ['LBS=F']:\n",
    "        data_close_yahoo[col].index = pd.DatetimeIndex(data_close_yahoo[col].index).strftime('%Y-%m-%d')\n",
    "        yahoo_Lumber_pct = pd.concat([data_close_yahoo[col].pct_change(1),lumber_df['Adj_close'].pct_change(1)],axis=1).dropna()\n",
    "        yahoo_Lumber = pd.concat([data_close_yahoo[col],lumber_df['Adj_close']],axis=1).dropna()\n",
    "        spr = spearmanr(yahoo_Lumber_pct)\n",
    "        item_df = pd.DataFrame(data=[col, round(spr[0],2), round(spr[1],3), round(yahoo_Lumber_pct.corr().iloc[0,1],2)]).T\n",
    "        item_df.columns = yahoo_corr.columns\n",
    "        yahoo_corr = pd.concat([item_df,yahoo_corr],axis=0)\n",
    "\n",
    "yahoo_corr.sort_values(by='Spearman',ascending=False)"
   ]
  },
  {
   "cell_type": "code",
   "execution_count": null,
   "metadata": {},
   "outputs": [],
   "source": [
    "# Daily Correlations of Lumber_pct_change with Yahoo Variables\n",
    "yahoo_corr = pd.DataFrame(columns=['Item','Spearman','p-value','Pearson'])\n",
    "\n",
    "\n",
    "for col in data_close_yahoo.columns:\n",
    "    if col not in ['LBS=F']:\n",
    "        data_close_yahoo[col].index = pd.DatetimeIndex(data_close_yahoo[col].index).strftime('%Y-%m-%d')\n",
    "        yahoo_Lumber_pct = pd.concat([data_close_yahoo[col],lumber_df['Adj_close']],axis=1).dropna()\n",
    "        yahoo_Lumber = pd.concat([data_close_yahoo[col],lumber_df['Adj_close']],axis=1).dropna()\n",
    "        spr = spearmanr(yahoo_Lumber_pct)\n",
    "        item_df = pd.DataFrame(data=[col, round(spr[0],2), round(spr[1],3), round(yahoo_Lumber_pct.corr().iloc[0,1],2)]).T\n",
    "        item_df.columns = yahoo_corr.columns\n",
    "        yahoo_corr = pd.concat([item_df,yahoo_corr],axis=0)\n",
    "\n",
    "yahoo_corr.sort_values(by='Spearman',ascending=False)"
   ]
  },
  {
   "cell_type": "markdown",
   "metadata": {},
   "source": [
    "# US Census Monthly Reports\n",
    "1. Monthly Wholesale Trade: Sales and Inventories\n",
    "2. New Residential Construction\n",
    "3. New Home Sales\n",
    "4. Construction Spending"
   ]
  },
  {
   "cell_type": "code",
   "execution_count": null,
   "metadata": {},
   "outputs": [],
   "source": [
    "from _censusUS import *\n",
    "new_residential_construction = CensusEconomicIndicators(category_codes_reversed_construction_spending, data_type_codes_reversed_construction_spending, filter_list_construction_spending, time_text, params, 'New Residential Construction')\n",
    "new_residential_construction_df = new_residential_construction.aggregate_timeseries_without_labels()\n",
    "new_residential_construction_to_keep = [ x for x in list(new_residential_construction_df.columns) if \"_E_\" not in x ]\n",
    "new_residential_construction_df = new_residential_construction_df[new_residential_construction_to_keep]\n",
    "new_residential_construction_df.head(1).append(new_residential_construction_df.tail(1))"
   ]
  },
  {
   "cell_type": "code",
   "execution_count": null,
   "metadata": {},
   "outputs": [],
   "source": [
    "monthly_resampled_lumber"
   ]
  },
  {
   "cell_type": "code",
   "execution_count": null,
   "metadata": {},
   "outputs": [],
   "source": [
    "construct_spend = CensusEconomicIndicators(category_codes_reversed_construction_spending, data_type_codes_reversed_construction_spending, filter_list_construction_spending, time_text, params, 'Construction Spending')\n",
    "construct_spend_df = construct_spend.aggregate_timeseries()\n",
    "construct_spend_df.head(1).append(construct_spend_df.tail(1))\n"
   ]
  },
  {
   "cell_type": "code",
   "execution_count": null,
   "metadata": {},
   "outputs": [],
   "source": [
    "new_home_sales = CensusEconomicIndicators(category_codes_reversed_construction_spending, data_type_codes_reversed_construction_spending, filter_list_construction_spending, time_text, params, 'New Home Sales')\n",
    "new_home_sales_df = new_home_sales.aggregate_timeseries_without_labels()\n",
    "new_home_sales_to_keep = [ x for x in list(new_home_sales_df.columns) if \"_E_\" not in x ]\n",
    "new_home_sales_df = new_home_sales_df[new_home_sales_to_keep]\n",
    "new_home_sales_df.head(1).append(new_home_sales_df.tail(1))"
   ]
  },
  {
   "cell_type": "code",
   "execution_count": null,
   "metadata": {},
   "outputs": [],
   "source": [
    "monthly_wholesale_trade = CensusEconomicIndicators(category_codes_reversed_construction_spending, data_type_codes_reversed_construction_spending, filter_list_construction_spending, time_text, params, 'Monthly Wholesale Trade: Sales and Inventories')\n",
    "monthly_wholesale_trade_df = monthly_wholesale_trade.aggregate_timeseries_without_labels()\n",
    "monthly_wholesale_trade_to_keep = [ x for x in list(monthly_wholesale_trade_df.columns) if \"_E_\" not in x ]\n",
    "monthly_wholesale_trade_df = monthly_wholesale_trade_df[monthly_wholesale_trade_to_keep]\n",
    "codes_to_include = ['4232_IM','4232_SM','4233_IM','4233_SM']\n",
    "monthly_wholesale_trade_to_keep = [ x for x in list(monthly_wholesale_trade_df.columns) if x in codes_to_include ]\n",
    "monthly_wholesale_trade_df = monthly_wholesale_trade_df[monthly_wholesale_trade_to_keep]\n",
    "monthly_wholesale_trade_df.columns =  ['Furniture_Inventories_NSA','Furniture_Sales_NSA','Lumber_Inventories_NSA','Lumber_Sales_NSA'] \n",
    "monthly_wholesale_trade_df = monthly_wholesale_trade_df.apply(pd.to_numeric)\n",
    "monthly_wholesale_trade_df.index = pd.to_datetime(monthly_wholesale_trade_df.index).strftime('%Y-%m-%d')\n",
    "monthly_wholesale_trade_df['Furniture_Sales_By_Inv'] = monthly_wholesale_trade_df['Furniture_Inventories_NSA'].div(monthly_wholesale_trade_df['Furniture_Sales_NSA'])\n",
    "monthly_wholesale_trade_df['Lumber_Sales_By_Inv'] = monthly_wholesale_trade_df['Lumber_Inventories_NSA'].div(monthly_wholesale_trade_df['Lumber_Sales_NSA'])\n",
    "monthly_wholesale_trade_df.head(1).append(monthly_wholesale_trade_df.tail(1))"
   ]
  },
  {
   "cell_type": "markdown",
   "metadata": {},
   "source": [
    "# Railcars data"
   ]
  },
  {
   "cell_type": "markdown",
   "metadata": {},
   "source": [
    "### CN carloads"
   ]
  },
  {
   "cell_type": "code",
   "execution_count": null,
   "metadata": {},
   "outputs": [],
   "source": [
    "from _railroad import *\n",
    "cn_carloads = combined_company_railroad_data('CN',20)\n",
    "cn_carloads['Total Forest Products'] = cn_carloads['Primary Forest Prods'] + cn_carloads['Lumber & Wood Prods'] + cn_carloads['Pulp & Paper Prods']\n",
    "cn_carloads =  cn_carloads.resample('W-Sat').mean() # Week Starting is Sunday but we moved it to Saturday (end of week) - This also matches CP Data\n",
    "cn_carloads['Yr'] = cn_carloads.index.year\n",
    "cn_carloads['Wk'] = cn_carloads.index.week"
   ]
  },
  {
   "cell_type": "markdown",
   "metadata": {},
   "source": [
    "### CP carloads"
   ]
  },
  {
   "cell_type": "code",
   "execution_count": null,
   "metadata": {},
   "outputs": [],
   "source": [
    "cp_carloads = combined_company_railroad_data('CP',8)\n",
    "cp_carloads['Total Forest Products'] = cp_carloads['Primary Forest Products'] + cp_carloads['Lumber & Wood Except Furniture'] + cp_carloads['Pulp,Paper & Allied Products']\n",
    "cp_carloads.index = pd.to_datetime(cp_carloads.index, utc=True)\n",
    "cp_carloads['Yr'] = cp_carloads.index.year\n",
    "cp_carloads['Wk'] = cp_carloads.index.week\n",
    "# Matching CN and CP columns\n",
    "cp_carloads.columns = cn_carloads.columns\n",
    "cp_carloads.index =  pd.DatetimeIndex(cp_carloads.index)\n"
   ]
  },
  {
   "cell_type": "markdown",
   "metadata": {},
   "source": [
    "### Combined CN & CP data"
   ]
  },
  {
   "cell_type": "code",
   "execution_count": null,
   "metadata": {},
   "outputs": [],
   "source": [
    "# Combining CN & CP Data\n",
    "# cn_carloads = cn_carloads.tz_convert('UTC')\n",
    "# cp_carloads = cp_carloads.tz_convert('UTC')\n",
    "cols = pd.MultiIndex.from_product([['CN','CP'], (cn_carloads.columns)])\n",
    "combined_carloads = pd.DataFrame(index = cn_carloads.index ,data=pd.concat([cn_carloads, cp_carloads], axis=1))\n",
    "combined_carloads.columns = cols\n",
    "\n",
    "for cols in cn_carloads.columns[:-2]:\n",
    "    combined_carloads.loc[:,('Combined',cols)] = combined_carloads.loc[:, ('CN', cols)].fillna(0) + combined_carloads.loc[:, ('CP', cols)].fillna(0)\n",
    "\n",
    "combined_carloads\n"
   ]
  },
  {
   "cell_type": "code",
   "execution_count": null,
   "metadata": {},
   "outputs": [],
   "source": []
  },
  {
   "cell_type": "markdown",
   "metadata": {},
   "source": [
    "### Correlation of Railroad with Lumber"
   ]
  }
 ],
 "metadata": {
  "kernelspec": {
   "display_name": "Python 3.10.2 ('venv': venv)",
   "language": "python",
   "name": "python3"
  },
  "language_info": {
   "codemirror_mode": {
    "name": "ipython",
    "version": 3
   },
   "file_extension": ".py",
   "mimetype": "text/x-python",
   "name": "python",
   "nbconvert_exporter": "python",
   "pygments_lexer": "ipython3",
   "version": "3.10.2"
  },
  "orig_nbformat": 4,
  "vscode": {
   "interpreter": {
    "hash": "9eb9c96fed710fe9dada78272350486042af0b6656758f44a31a73971bfdb127"
   }
  }
 },
 "nbformat": 4,
 "nbformat_minor": 2
}
