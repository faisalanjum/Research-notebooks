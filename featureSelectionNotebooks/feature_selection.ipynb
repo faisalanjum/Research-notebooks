{
 "cells": [
  {
   "cell_type": "markdown",
   "metadata": {},
   "source": [
    "### Imports"
   ]
  },
  {
   "cell_type": "code",
   "execution_count": 1,
   "metadata": {},
   "outputs": [],
   "source": [
    "import pandas as pd\n",
    "import string\n",
    "import numpy as np\n",
    "import matplotlib.pyplot as plt\n",
    "from sklearn.model_selection import train_test_split, cross_validate\n",
    "from sklearn.metrics import accuracy_score\n",
    "from sklearn.ensemble import RandomForestClassifier\n",
    "from sklearn.pipeline import Pipeline\n",
    "from feature_engine.selection import DropDuplicateFeatures, DropConstantFeatures, SmartCorrelatedSelection, SelectByShuffling, RecursiveFeatureElimination\n",
    "from sklearn.preprocessing import StandardScaler\n",
    "from sklearn.linear_model import LogisticRegression\n",
    "from sklearn.metrics import roc_auc_score, mean_squared_error, r2_score\n",
    "from sklearn.feature_selection import mutual_info_classif, mutual_info_regression\n",
    "from mlxtend.feature_selection import ExhaustiveFeatureSelector as EFS\n",
    "from feature_engine.datetime import DatetimeFeatures\n",
    "from sklearn.feature_selection import chi2\n",
    "from sklearn.ensemble import GradientBoostingClassifier, GradientBoostingRegressor\n",
    "# to determine the p-values with anova\n",
    "from sklearn.feature_selection import f_classif, f_regression\n",
    "\n",
    "# to select features\n",
    "from sklearn.feature_selection import SelectKBest, SelectPercentile, SelectFromModel, RFE # Recursive Feature Elimination\n",
    "from ta import add_all_ta_features\n",
    "from ta.utils import dropna"
   ]
  },
  {
   "cell_type": "markdown",
   "metadata": {},
   "source": [
    "### Reading Data from Excel daily_dataframe_main"
   ]
  },
  {
   "cell_type": "code",
   "execution_count": 2,
   "metadata": {},
   "outputs": [],
   "source": [
    "# Takes 1 min 30 secs to run\n",
    "Variables = pd.read_excel('daily_dataframe_main.xlsx', header=[0,1], sheet_name='Variables',index_col=0)\n",
    "Response = pd.read_excel('daily_dataframe_main.xlsx',sheet_name= 'Response' ,index_col=0)\n",
    "\n",
    "# Just using Unadjusted data for now\n",
    "Response = Response[['LB_Close','Close_ret','Close_Up_Down']]"
   ]
  },
  {
   "cell_type": "markdown",
   "metadata": {},
   "source": [
    "### Imputing Values\n",
    "<div style=\"color: DarkBlue; font-size:22px;\" class=\"alert alert-block alert-warning\"> \n",
    "<b>Check:</b> Backfilling and then frontfilling Variables DataFrame, and filling zeros with Median? - Check if it makes sense\n",
    "</div>\n"
   ]
  },
  {
   "cell_type": "code",
   "execution_count": 3,
   "metadata": {},
   "outputs": [],
   "source": [
    "Variables.fillna(method='bfill', inplace=True)\n",
    "# Variables.fillna(method='ffill', inplace=True)\n",
    "# Replacing 0 with Median Values\n",
    "# Variables.replace(to_replace=0, method='bfill', inplace=True) \n",
    "# Variables.replace(to_replace=0, method=Variables.median(), inplace=True) "
   ]
  },
  {
   "cell_type": "markdown",
   "metadata": {},
   "source": [
    "### Date Engineering"
   ]
  },
  {
   "cell_type": "code",
   "execution_count": 4,
   "metadata": {},
   "outputs": [
    {
     "name": "stderr",
     "output_type": "stream",
     "text": [
      "C:\\Users\\Fanjum_cwp\\AppData\\Local\\Temp\\2\\ipykernel_20380\\3905641289.py:5: FutureWarning: weekofyear and week have been deprecated, please use DatetimeIndex.isocalendar().week instead, which returns a Series. To exactly reproduce the behavior of week and weekofyear and return an Index, you may call pd.Int64Index(idx.isocalendar().week)\n",
      "  Variables['week'] = Variables.index.week\n",
      "C:\\Users\\Fanjum_cwp\\AppData\\Local\\Temp\\2\\ipykernel_20380\\3905641289.py:6: FutureWarning: weekofyear and week have been deprecated, please use DatetimeIndex.isocalendar().week instead, which returns a Series. To exactly reproduce the behavior of week and weekofyear and return an Index, you may call pd.Int64Index(idx.isocalendar().week)\n",
      "  Variables['weekofyear'] = Variables.index.weekofyear\n"
     ]
    }
   ],
   "source": [
    "Variables['day'] = Variables.index.day\n",
    "Variables['month'] = Variables.index.month\n",
    "Variables['year'] = Variables.index.year\n",
    "Variables['weekday'] = Variables.index.weekday\n",
    "Variables['week'] = Variables.index.week\n",
    "Variables['weekofyear'] = Variables.index.weekofyear\n",
    "Variables['quarter'] = Variables.index.quarter\n",
    "Variables['dayofyear'] = Variables.index.dayofyear\n",
    "Variables['dayofweek'] = Variables.index.dayofweek\n",
    "Variables['is_month_end'] = Variables.index.is_month_end\n",
    "Variables['is_month_start'] = Variables.index.is_month_start\n",
    "Variables['is_quarter_end'] = Variables.index.is_quarter_end\n",
    "Variables['is_quarter_start'] = Variables.index.is_quarter_start\n",
    "Variables['is_year_end'] = Variables.index.is_year_end\n",
    "Variables['is_year_start'] = Variables.index.is_year_start\n",
    "Variables['is_leap_year'] = Variables.index.is_leap_year\n"
   ]
  },
  {
   "cell_type": "markdown",
   "metadata": {},
   "source": [
    "### Adding Technical Analysis Indicators"
   ]
  },
  {
   "cell_type": "code",
   "execution_count": null,
   "metadata": {},
   "outputs": [
    {
     "name": "stderr",
     "output_type": "stream",
     "text": [
      "C:\\Users\\Fanjum_cwp\\AppData\\Local\\Temp\\2\\ipykernel_23660\\2267681742.py:1: PerformanceWarning: indexing past lexsort depth may impact performance.\n",
      "  TA_df = Variables.loc[:,('Lumber_OHLCV',)][['LB_High','LB_Low','LB_Close','LB_Volume','LB_openInterest']]\n",
      "c:\\source\\2x4_data\\venv\\lib\\site-packages\\ta\\trend.py:769: RuntimeWarning: invalid value encountered in double_scalars\n",
      "  dip[idx] = 100 * (self._dip[idx] / value)\n",
      "c:\\source\\2x4_data\\venv\\lib\\site-packages\\ta\\trend.py:774: RuntimeWarning: invalid value encountered in double_scalars\n",
      "  din[idx] = 100 * (self._din[idx] / value)\n",
      "c:\\source\\2x4_data\\venv\\lib\\site-packages\\ta\\trend.py:938: FutureWarning: The default dtype for empty Series will be 'object' instead of 'float64' in a future version. Specify a dtype explicitly to silence this warning.\n",
      "  self._psar_up = pd.Series(index=self._psar.index)\n",
      "c:\\source\\2x4_data\\venv\\lib\\site-packages\\ta\\trend.py:939: FutureWarning: The default dtype for empty Series will be 'object' instead of 'float64' in a future version. Specify a dtype explicitly to silence this warning.\n",
      "  self._psar_down = pd.Series(index=self._psar.index)\n"
     ]
    }
   ],
   "source": [
    "TA_df = Variables.loc[:,('Lumber_OHLCV',)][['LB_High','LB_Low','LB_Close','LB_Volume','LB_openInterest']]\n",
    "TA_df.columns = ['High','Low','Close','Volume','OpenInterest']\n",
    "TA_df['Open'] = TA_df['Close'].shift(-1)\n",
    "\n",
    "# TA_df['weekday'] = Variables.index.weekday\n",
    "# TA_df = TA_df[~TA_df.weekday.isin([5,6])]\n",
    "# TA_df = TA_df.drop(['weekday'],axis=1)\n",
    "\n",
    "TA_df = dropna(TA_df)\n",
    "TA_df.sort_index(ascending=True, inplace=True)\n",
    "TA_df = add_all_ta_features(TA_df, open=\"Open\", high=\"High\", low=\"Low\", close=\"Close\", volume=\"Volume\")\n",
    "TA_df.sort_index(ascending=False, inplace=True)\n",
    "TA_df.drop(['Open','High','Low','Close','Volume','OpenInterest'],axis=1,inplace=True)\n",
    "TA_df.columns = [str('TA_') + TA_df.columns]\n",
    "TA_df = TA_df.replace([np.inf, -np.inf], np.nan).fillna(TA_df.mean())\n",
    "Variables = pd.concat([Variables,TA_df], axis=1)"
   ]
  },
  {
   "cell_type": "markdown",
   "metadata": {},
   "source": [
    "### Replacing punctuation strings in column names"
   ]
  },
  {
   "cell_type": "code",
   "execution_count": null,
   "metadata": {},
   "outputs": [],
   "source": [
    "cols = [str(w).translate(str.maketrans('', '', string.punctuation)).lstrip().rstrip() for w in Variables.columns]\n",
    "Variables.columns = cols"
   ]
  },
  {
   "cell_type": "markdown",
   "metadata": {},
   "source": [
    "<div style=\"color: DarkBlue; font-size:22px;\" class=\"alert alert-block alert-warning\"> \n",
    "<b>To Do:</b> For now using custom based method - but change it eventually with Feature-engine etc. Check which method makes more sense\n",
    "</div>"
   ]
  },
  {
   "cell_type": "code",
   "execution_count": null,
   "metadata": {},
   "outputs": [],
   "source": [
    "from sklearn.base import TransformerMixin\n",
    "\n",
    "class DataFrameImputer(TransformerMixin):\n",
    "\n",
    "    def __init__(self):\n",
    "        \"\"\"Impute missing values.\n",
    "        Columns of dtype object are imputed with the most frequent value in column.\n",
    "        Columns of other types are imputed with mean of column.\n",
    "        \"\"\"\n",
    "    def fit(self, X, y=None):\n",
    "\n",
    "        self.fill = pd.Series([X[c].value_counts().index[0]\n",
    "            if X[c].dtype == np.dtype('O') else X[c].mean() for c in X],\n",
    "            index=X.columns)\n",
    "\n",
    "        return self\n",
    "\n",
    "    def transform(self, X, y=None):\n",
    "        return X.fillna(self.fill)\n",
    "        \n",
    "Variables = DataFrameImputer().fit_transform(Variables)\n"
   ]
  },
  {
   "cell_type": "markdown",
   "metadata": {},
   "source": [
    "### Concatenating Variables & Response\n",
    "    -- Choose Response Variable here - LB_Close, Close_ret, Close_Up_Down, OR Adjusted Data from above"
   ]
  },
  {
   "cell_type": "code",
   "execution_count": 9,
   "metadata": {},
   "outputs": [],
   "source": [
    "# Choose Target Variable here - LB_Close\tClose_ret\tClose_Up_Down OR Adjusted Data from above\n",
    "Target_choice = 'Close_Up_Down'\n",
    "data = pd.concat([Variables, Response[Target_choice]], axis=1)\n",
    "data.index = pd.DatetimeIndex(data.index)\n",
    "data.sort_index(ascending = False, inplace = True)"
   ]
  },
  {
   "cell_type": "markdown",
   "metadata": {},
   "source": [
    "### \n",
    "<div style=\"color: Red; font-size:22px;\" class=\"alert alert-block alert-warning\">  Restricting the dataset since 2011 only as well as only Up (+1) and Down (-1) Moves but no neutral (0)\n",
    "<div style=\"color: Green; font-size:22px;\" class=\"alert alert-block alert-warning\"> \n",
    "<b>To Do:</b> Issues is we have some forward fills which doesn't represent data correctly\n",
    "</div>\n"
   ]
  },
  {
   "cell_type": "code",
   "execution_count": 10,
   "metadata": {},
   "outputs": [],
   "source": [
    "data_restricted = data[data.index > '2011-01-01']\n",
    "data_restricted = data_restricted[(data_restricted.Close_Up_Down == 1) | (data_restricted.Close_Up_Down == -1)]"
   ]
  },
  {
   "cell_type": "markdown",
   "metadata": {},
   "source": [
    "### Remove Variables with all NaNs\n",
    "<div style=\"color: Green; font-size:22px;\" class=\"alert alert-block alert-warning\"> \n",
    "<b>To Do:</b> Check why these variables have NaNs\n",
    "</div>\n"
   ]
  },
  {
   "cell_type": "code",
   "execution_count": 11,
   "metadata": {},
   "outputs": [
    {
     "data": {
      "text/plain": [
       "float64    745\n",
       "int64       11\n",
       "bool         7\n",
       "dtype: int64"
      ]
     },
     "execution_count": 11,
     "metadata": {},
     "output_type": "execute_result"
    }
   ],
   "source": [
    "data_restricted.drop(data_restricted.columns[data_restricted.isna().all()].to_list(), axis=1, inplace=True)\n",
    "data_restricted.drop(data_restricted.columns[data_restricted.isnull().all()].to_list(), axis=1, inplace=True)\n",
    "pd.Series(data_restricted.dtypes.values).value_counts()"
   ]
  },
  {
   "cell_type": "markdown",
   "metadata": {},
   "source": [
    "### Change Bool cols (mostly date columns such as Is_year_end etc.) to int columns"
   ]
  },
  {
   "cell_type": "code",
   "execution_count": 12,
   "metadata": {},
   "outputs": [],
   "source": [
    "list_of_bool_cols = data_restricted.columns[data_restricted.dtypes.values == 'bool'].to_list()\n",
    "for col in list_of_bool_cols:\n",
    "    data_restricted[col] = data_restricted[col].astype(int)"
   ]
  },
  {
   "cell_type": "code",
   "execution_count": null,
   "metadata": {},
   "outputs": [],
   "source": []
  },
  {
   "cell_type": "markdown",
   "metadata": {},
   "source": [
    "### Dictionary of Training, Testing & Validation"
   ]
  },
  {
   "cell_type": "code",
   "execution_count": null,
   "metadata": {},
   "outputs": [],
   "source": []
  },
  {
   "cell_type": "markdown",
   "metadata": {},
   "source": [
    "### Splitting the Dataset in 3 - Training, Testing & Validation"
   ]
  },
  {
   "cell_type": "code",
   "execution_count": 13,
   "metadata": {},
   "outputs": [
    {
     "data": {
      "text/plain": [
       "((2200, 762), (550, 762), (2200,), (550,), (116, 762), (116,))"
      ]
     },
     "execution_count": 13,
     "metadata": {},
     "output_type": "execute_result"
    }
   ],
   "source": [
    "Validation_date_start = '2022-01-01'\n",
    "Validation = data_restricted[data_restricted.index >= Validation_date_start]\n",
    "data_restricted = data_restricted[data_restricted.index < Validation_date_start]\n",
    "X_val,  y_val  = Validation.iloc[:,:-1], Validation.iloc[:,-1] # last column is the response variable\n",
    "\n",
    "X_train, X_test, y_train, y_test = train_test_split(\n",
    "    data_restricted.drop(labels=data_restricted.columns[-1], axis=1),  # drop the target\n",
    "    data_restricted[Target_choice],  # just the target\n",
    "    test_size=0.20, shuffle = False)\n",
    "\n",
    "X_train.shape, X_test.shape, y_train.shape, y_test.shape, X_val.shape, y_val.shape"
   ]
  },
  {
   "cell_type": "markdown",
   "metadata": {},
   "source": [
    "### Remove all constant Variables\n",
    "<div style=\"color: Green; font-size:22px;\" class=\"alert alert-block alert-warning\"> \n",
    "<b>To Do:</b> Check why the following features have only one value\n",
    "</div>"
   ]
  },
  {
   "cell_type": "code",
   "execution_count": 14,
   "metadata": {},
   "outputs": [
    {
     "name": "stdout",
     "output_type": "stream",
     "text": [
      "Total Constant Variables: 42\n",
      "['LumberTracklumberimportus ToChina', 'WesternLumberproductionwestern Day', 'WesternLumberaveragepricecoastalhimfir StandandBtrRL2x4']\n",
      "First Variable contains all: [0.]\n"
     ]
    },
    {
     "data": {
      "text/plain": [
       "((2200, 720), (550, 720))"
      ]
     },
     "execution_count": 14,
     "metadata": {},
     "output_type": "execute_result"
    }
   ],
   "source": [
    "NonConstantFeatures =DropConstantFeatures(tol=1, variables=None, missing_values='raise')\n",
    "NonConstantFeatures.fit(X_train)\n",
    "print(\"Total Constant Variables:\",len(NonConstantFeatures.features_to_drop_))\n",
    "print(NonConstantFeatures.features_to_drop_[:3])\n",
    "print(\"First Variable contains all:\",X_train[NonConstantFeatures.features_to_drop_[0]].unique())\n",
    "\n",
    "X_train = NonConstantFeatures.transform(X_train)\n",
    "X_test = NonConstantFeatures.transform(X_test)\n",
    "X_val = NonConstantFeatures.transform(X_val)\n",
    "\n",
    "X_train.shape, X_test.shape"
   ]
  },
  {
   "cell_type": "markdown",
   "metadata": {},
   "source": [
    "### Remove quasi-constant features - Last Line of this Segment"
   ]
  },
  {
   "cell_type": "code",
   "execution_count": 15,
   "metadata": {},
   "outputs": [
    {
     "name": "stdout",
     "output_type": "stream",
     "text": [
      "Total Quasi Constant Variables: 10\n",
      "['FREDMonthly Housing Affordability Index Fixed', 'ismonthend', 'ismonthstart', 'isquarterend', 'isquarterstart', 'isyearend', 'TAvolatilitybbhi', 'TAvolatilitybbli', 'TAtrendpsarupindicator', 'TAtrendpsardownindicator']\n"
     ]
    }
   ],
   "source": [
    "# Percentage of observations showing each of the different values of the variable\n",
    "NonQuasiConstantFeatures = DropConstantFeatures(tol=0.90, variables=None, missing_values='raise')\n",
    "NonQuasiConstantFeatures.fit(X_train)\n",
    "print(\"Total Quasi Constant Variables:\",len(NonQuasiConstantFeatures.features_to_drop_))\n",
    "print(NonQuasiConstantFeatures.features_to_drop_)\n"
   ]
  },
  {
   "cell_type": "markdown",
   "metadata": {},
   "source": [
    "### \n",
    "<div style=\"color: DarkBlue; font-size:22px;\" class=\"alert alert-block alert-warning\"> \n",
    "<b>Check:</b> Not Removing FEW Quasi Constant Features for now as: \n",
    "</div>"
   ]
  },
  {
   "cell_type": "markdown",
   "metadata": {},
   "source": [
    "    1. Some typically have 1 value for most of the time such as US_MBA_Mortgage_Applications_WoW so not unusual.                \n",
    "    2. Some seem Important for now such as ('Canadian_Pacific', 'Lumber & Wood Prods')."
   ]
  },
  {
   "cell_type": "code",
   "execution_count": 16,
   "metadata": {},
   "outputs": [
    {
     "name": "stdout",
     "output_type": "stream",
     "text": [
      "FREDMonthly Housing Affordability Index Fixed\n",
      "144.094695    0.935909\n",
      "150.100000    0.010000\n",
      "151.000000    0.009545\n",
      "148.400000    0.009545\n",
      "144.500000    0.009545\n",
      "150.000000    0.009545\n",
      "154.400000    0.009091\n",
      "147.600000    0.006818\n",
      "Name: FREDMonthly Housing Affordability Index Fixed, dtype: float64\n",
      "\n",
      "\n",
      "ismonthend\n",
      "0    0.966818\n",
      "1    0.033182\n",
      "Name: ismonthend, dtype: float64\n",
      "\n",
      "\n",
      "ismonthstart\n",
      "0    0.969545\n",
      "1    0.030455\n",
      "Name: ismonthstart, dtype: float64\n",
      "\n",
      "\n",
      "isquarterend\n",
      "0    0.988182\n",
      "1    0.011818\n",
      "Name: isquarterend, dtype: float64\n",
      "\n",
      "\n",
      "isquarterstart\n",
      "0    0.990455\n",
      "1    0.009545\n",
      "Name: isquarterstart, dtype: float64\n",
      "\n",
      "\n",
      "isyearend\n",
      "0    0.996818\n",
      "1    0.003182\n",
      "Name: isyearend, dtype: float64\n",
      "\n",
      "\n",
      "TAvolatilitybbhi\n",
      "0.0    0.948636\n",
      "1.0    0.051364\n",
      "Name: TAvolatilitybbhi, dtype: float64\n",
      "\n",
      "\n",
      "TAvolatilitybbli\n",
      "0.0    0.965\n",
      "1.0    0.035\n",
      "Name: TAvolatilitybbli, dtype: float64\n",
      "\n",
      "\n",
      "TAtrendpsarupindicator\n",
      "0.0    0.948182\n",
      "1.0    0.051818\n",
      "Name: TAtrendpsarupindicator, dtype: float64\n",
      "\n",
      "\n",
      "TAtrendpsardownindicator\n",
      "0.0    0.948636\n",
      "1.0    0.051364\n",
      "Name: TAtrendpsardownindicator, dtype: float64\n",
      "\n",
      "\n"
     ]
    }
   ],
   "source": [
    "for var in NonQuasiConstantFeatures.features_to_drop_:\n",
    "    print(var)\n",
    "    print(pd.DataFrame(X_train[var].value_counts(normalize=True)).iloc[:10,0])\n",
    "    print(\"\\n\")\n",
    "\n",
    "# Not_Removing_Quasi_List = ['Investingdotcom USMortgageMarketIndex','Investingdotcom USMBAMortgageApplicationsWoW',\n",
    "# 'CanadianPacific Lumber  Wood Prods', 'FREDMonthly Housing Affordability Index Fixed']\n",
    "\n",
    "Not_Removing_Quasi_List = ['FREDMonthly Housing Affordability Index Fixed']\n",
    "\n",
    "for var in Not_Removing_Quasi_List:\n",
    "    NonQuasiConstantFeatures.features_to_drop_.remove(var)"
   ]
  },
  {
   "cell_type": "code",
   "execution_count": 17,
   "metadata": {},
   "outputs": [
    {
     "name": "stdout",
     "output_type": "stream",
     "text": [
      "9 ['ismonthend', 'ismonthstart', 'isquarterend', 'isquarterstart', 'isyearend', 'TAvolatilitybbhi', 'TAvolatilitybbli', 'TAtrendpsarupindicator', 'TAtrendpsardownindicator']\n"
     ]
    },
    {
     "data": {
      "text/plain": [
       "((2200, 711), (550, 711))"
      ]
     },
     "execution_count": 17,
     "metadata": {},
     "output_type": "execute_result"
    }
   ],
   "source": [
    "print(len(NonQuasiConstantFeatures.features_to_drop_),NonQuasiConstantFeatures.features_to_drop_)\n",
    "X_train = NonQuasiConstantFeatures.transform(X_train)\n",
    "X_test = NonQuasiConstantFeatures.transform(X_test)\n",
    "X_val = NonQuasiConstantFeatures.transform(X_val)\n",
    "X_train.shape, X_test.shape"
   ]
  },
  {
   "cell_type": "markdown",
   "metadata": {},
   "source": [
    "### Remove Duplicate Variables\n",
    "<div style=\"color: Green; font-size:22px;\" class=\"alert alert-block alert-warning\"> \n",
    "<b>To Do:</b> Check why the following features are duplicated of each other. Each Variable in a curly bracket is a duplicate\n",
    "</div>"
   ]
  },
  {
   "cell_type": "code",
   "execution_count": 18,
   "metadata": {},
   "outputs": [
    {
     "name": "stdout",
     "output_type": "stream",
     "text": [
      "43\n"
     ]
    },
    {
     "data": {
      "text/plain": [
       "[{'FREDDaily 7Day Federal Funds Effective Rate', 'OverNightRates EFFR'},\n",
       " {'LumberTrackordersus South',\n",
       "  'LumberTrackproductionus South',\n",
       "  'LumberTrackshipmentus South'},\n",
       " {'LumberTrackinventoryus South', 'LumberTracknorthamericaninventory South'},\n",
       " {'LumberTracknorthamericanunfilledorder South',\n",
       "  'LumberTrackunfilledordersus South'},\n",
       " {'LumberTrackconsumptionlumbercanada MinusExports',\n",
       "  'LumberTracklumberexportcanada TotalLumberExports'},\n",
       " {'LumberTrackconsumptionlumberus PlusImports',\n",
       "  'LumberTracklumberimportus TotalLumberImports'},\n",
       " {'CFTCdisaggregated OpenInterestAll',\n",
       "  'CFTClegacy OpenInterestAll',\n",
       "  'CFTClegacy OpenInterestOld'},\n",
       " {'CFTCdisaggregated TotReptPositionsLongAll',\n",
       "  'CFTClegacy TotalReportablePositionsLongOld'},\n",
       " {'CFTCdisaggregated TotReptPositionsShortAll',\n",
       "  'CFTClegacy TotalReportablePositionsShortAll',\n",
       "  'CFTClegacy TotalReportablePositionsShortOld'},\n",
       " {'CFTCdisaggregated ChangeinOpenInterestAll',\n",
       "  'CFTClegacy ChangeinOpenInterestAll'},\n",
       " {'CFTClegacy NoncommercialPositionsLongAll',\n",
       "  'CFTClegacy NoncommercialPositionsLongOld'},\n",
       " {'CFTClegacy NoncommercialPositionsShortAll',\n",
       "  'CFTClegacy NoncommercialPositionsShortOld'},\n",
       " {'CFTClegacy NoncommercialPositionsSpreadingAll',\n",
       "  'CFTClegacy NoncommercialPositionsSpreadingOld'},\n",
       " {'CFTClegacy CommercialPositionsLongAll',\n",
       "  'CFTClegacy CommercialPositionsLongOld'},\n",
       " {'CFTClegacy CommercialPositionsShortAll',\n",
       "  'CFTClegacy CommercialPositionsShortOld'},\n",
       " {'CFTClegacy NonreportablePositionsLongAll',\n",
       "  'CFTClegacy NonreportablePositionsLongOld'},\n",
       " {'CFTClegacy NonreportablePositionsShortAll',\n",
       "  'CFTClegacy NonreportablePositionsShortOld'},\n",
       " {'CFTClegacy PerofOINoncommercialLongAll',\n",
       "  'CFTClegacy PerofOINoncommercialLongOld'},\n",
       " {'CFTClegacy PerofOINoncommercialShortAll',\n",
       "  'CFTClegacy PerofOINoncommercialShortOld'},\n",
       " {'CFTClegacy PerofOINoncommercialSpreadingAll',\n",
       "  'CFTClegacy PerofOINoncommercialSpreadingOld'},\n",
       " {'CFTClegacy PerofOICommercialLongAll',\n",
       "  'CFTClegacy PerofOICommercialLongOld'},\n",
       " {'CFTClegacy PerofOICommercialShortAll',\n",
       "  'CFTClegacy PerofOICommercialShortOld'},\n",
       " {'CFTClegacy PerofOITotalReportableLongAll',\n",
       "  'CFTClegacy PerofOITotalReportableLongOld'},\n",
       " {'CFTClegacy PerofOITotalReportableShortAll',\n",
       "  'CFTClegacy PerofOITotalReportableShortOld'},\n",
       " {'CFTClegacy PerofOINonreportableLongAll',\n",
       "  'CFTClegacy PerofOINonreportableLongOld'},\n",
       " {'CFTClegacy PerofOINonreportableShortAll',\n",
       "  'CFTClegacy PerofOINonreportableShortOld'},\n",
       " {'CFTClegacy TradersTotalAll', 'CFTClegacy TradersTotalOld'},\n",
       " {'CFTClegacy TradersNoncommercialLongAll',\n",
       "  'CFTClegacy TradersNoncommercialLongOld'},\n",
       " {'CFTClegacy TradersNoncommercialShortAll',\n",
       "  'CFTClegacy TradersNoncommercialShortOld'},\n",
       " {'CFTClegacy TradersNoncommercialSpreadingAll',\n",
       "  'CFTClegacy TradersNoncommercialSpreadingOld'},\n",
       " {'CFTClegacy TradersCommercialLongAll',\n",
       "  'CFTClegacy TradersCommercialLongOld'},\n",
       " {'CFTClegacy TradersCommercialShortAll',\n",
       "  'CFTClegacy TradersCommercialShortOld'},\n",
       " {'CFTClegacy TradersTotalReportableLongAll',\n",
       "  'CFTClegacy TradersTotalReportableLongOld'},\n",
       " {'CFTClegacy TradersTotalReportableShortAll',\n",
       "  'CFTClegacy TradersTotalReportableShortOld'},\n",
       " {'CFTClegacy ConcentrationGrossLT4TDRLongAll',\n",
       "  'CFTClegacy ConcentrationGrossLT4TDRLongOld'},\n",
       " {'CFTClegacy ConcentrationGrossLT8TDRLongAll',\n",
       "  'CFTClegacy ConcentrationGrossLT8TDRLongOld'},\n",
       " {'CFTClegacy ConcentrationGrossLT8TDRShortAll',\n",
       "  'CFTClegacy ConcentrationGrossLT8TDRShortOld'},\n",
       " {'CFTClegacy ConcentrationNetLT4TDRLongAll',\n",
       "  'CFTClegacy ConcentrationNetLT4TDRLongOld'},\n",
       " {'CFTClegacy ConcentrationNetLT4TDRShortAll',\n",
       "  'CFTClegacy ConcentrationNetLT4TDRShortOld'},\n",
       " {'CFTClegacy ConcentrationNetLT8TDRLongAll',\n",
       "  'CFTClegacy ConcentrationNetLT8TDRLongOld'},\n",
       " {'CFTClegacy ConcentrationNetLT8TDRShortAll',\n",
       "  'CFTClegacy ConcentrationNetLT8TDRShortOld'},\n",
       " {'dayofweek', 'weekday'},\n",
       " {'week', 'weekofyear'}]"
      ]
     },
     "execution_count": 18,
     "metadata": {},
     "output_type": "execute_result"
    }
   ],
   "source": [
    "# set up the selector\n",
    "NonDuplicatedValues = DropDuplicateFeatures(variables=None, missing_values='raise')\n",
    "\n",
    "# find the duplicate features, this might take a while\n",
    "NonDuplicatedValues.fit(X_train)\n",
    "\n",
    "print(len(NonDuplicatedValues.duplicated_feature_sets_))\n",
    "NonDuplicatedValues.duplicated_feature_sets_"
   ]
  },
  {
   "cell_type": "code",
   "execution_count": 19,
   "metadata": {},
   "outputs": [
    {
     "data": {
      "text/plain": [
       "((2200, 665), (550, 665), (116, 665))"
      ]
     },
     "execution_count": 19,
     "metadata": {},
     "output_type": "execute_result"
    }
   ],
   "source": [
    "# remove the duplicated features\n",
    "X_train = NonDuplicatedValues.transform(X_train)\n",
    "X_test = NonDuplicatedValues.transform(X_test)\n",
    "X_val = NonDuplicatedValues.transform(X_val)\n",
    "\n",
    "X_train.shape, X_test.shape, X_val.shape"
   ]
  },
  {
   "cell_type": "markdown",
   "metadata": {},
   "source": [
    "### Keep copy of the dataset except constant and duplicated variables to measure the performance of machine learning models at the end of the notebook"
   ]
  },
  {
   "cell_type": "code",
   "execution_count": 20,
   "metadata": {},
   "outputs": [],
   "source": [
    "X_train_basic_filter = X_train.copy()\n",
    "X_test_basic_filter = X_test.copy()"
   ]
  },
  {
   "cell_type": "markdown",
   "metadata": {},
   "source": [
    "### Smart Correlation Selection based on various Method (‘pearson’, ‘spearman’, ‘kendall’) and selection_method (“missing_values”, “cardinality” (the number of unique values of each variable), “variance”, “model_performance”:)\n",
    "https://feature-engine.readthedocs.io/en/latest/api_doc/selection/SmartCorrelatedSelection.html                             \n",
    "https://datascience.stackexchange.com/questions/64260/pearson-vs-spearman-vs-kendall"
   ]
  },
  {
   "cell_type": "code",
   "execution_count": 21,
   "metadata": {},
   "outputs": [
    {
     "name": "stderr",
     "output_type": "stream",
     "text": [
      "c:\\source\\2x4_data\\venv\\lib\\site-packages\\feature_engine\\selection\\smart_correlation_selection.py:302: FutureWarning: Passing a set as an indexer is deprecated and will raise in a future version. Use a list instead.\n",
      "  f = X[feature_group].std().sort_values(ascending=False).index[0]\n",
      "c:\\source\\2x4_data\\venv\\lib\\site-packages\\feature_engine\\selection\\smart_correlation_selection.py:302: FutureWarning: Passing a set as an indexer is deprecated and will raise in a future version. Use a list instead.\n",
      "  f = X[feature_group].std().sort_values(ascending=False).index[0]\n",
      "c:\\source\\2x4_data\\venv\\lib\\site-packages\\feature_engine\\selection\\smart_correlation_selection.py:302: FutureWarning: Passing a set as an indexer is deprecated and will raise in a future version. Use a list instead.\n",
      "  f = X[feature_group].std().sort_values(ascending=False).index[0]\n",
      "c:\\source\\2x4_data\\venv\\lib\\site-packages\\feature_engine\\selection\\smart_correlation_selection.py:302: FutureWarning: Passing a set as an indexer is deprecated and will raise in a future version. Use a list instead.\n",
      "  f = X[feature_group].std().sort_values(ascending=False).index[0]\n",
      "c:\\source\\2x4_data\\venv\\lib\\site-packages\\feature_engine\\selection\\smart_correlation_selection.py:302: FutureWarning: Passing a set as an indexer is deprecated and will raise in a future version. Use a list instead.\n",
      "  f = X[feature_group].std().sort_values(ascending=False).index[0]\n",
      "c:\\source\\2x4_data\\venv\\lib\\site-packages\\feature_engine\\selection\\smart_correlation_selection.py:302: FutureWarning: Passing a set as an indexer is deprecated and will raise in a future version. Use a list instead.\n",
      "  f = X[feature_group].std().sort_values(ascending=False).index[0]\n",
      "c:\\source\\2x4_data\\venv\\lib\\site-packages\\feature_engine\\selection\\smart_correlation_selection.py:302: FutureWarning: Passing a set as an indexer is deprecated and will raise in a future version. Use a list instead.\n",
      "  f = X[feature_group].std().sort_values(ascending=False).index[0]\n",
      "c:\\source\\2x4_data\\venv\\lib\\site-packages\\feature_engine\\selection\\smart_correlation_selection.py:302: FutureWarning: Passing a set as an indexer is deprecated and will raise in a future version. Use a list instead.\n",
      "  f = X[feature_group].std().sort_values(ascending=False).index[0]\n",
      "c:\\source\\2x4_data\\venv\\lib\\site-packages\\feature_engine\\selection\\smart_correlation_selection.py:302: FutureWarning: Passing a set as an indexer is deprecated and will raise in a future version. Use a list instead.\n",
      "  f = X[feature_group].std().sort_values(ascending=False).index[0]\n",
      "c:\\source\\2x4_data\\venv\\lib\\site-packages\\feature_engine\\selection\\smart_correlation_selection.py:302: FutureWarning: Passing a set as an indexer is deprecated and will raise in a future version. Use a list instead.\n",
      "  f = X[feature_group].std().sort_values(ascending=False).index[0]\n",
      "c:\\source\\2x4_data\\venv\\lib\\site-packages\\feature_engine\\selection\\smart_correlation_selection.py:302: FutureWarning: Passing a set as an indexer is deprecated and will raise in a future version. Use a list instead.\n",
      "  f = X[feature_group].std().sort_values(ascending=False).index[0]\n",
      "c:\\source\\2x4_data\\venv\\lib\\site-packages\\feature_engine\\selection\\smart_correlation_selection.py:302: FutureWarning: Passing a set as an indexer is deprecated and will raise in a future version. Use a list instead.\n",
      "  f = X[feature_group].std().sort_values(ascending=False).index[0]\n",
      "c:\\source\\2x4_data\\venv\\lib\\site-packages\\feature_engine\\selection\\smart_correlation_selection.py:302: FutureWarning: Passing a set as an indexer is deprecated and will raise in a future version. Use a list instead.\n",
      "  f = X[feature_group].std().sort_values(ascending=False).index[0]\n",
      "c:\\source\\2x4_data\\venv\\lib\\site-packages\\feature_engine\\selection\\smart_correlation_selection.py:302: FutureWarning: Passing a set as an indexer is deprecated and will raise in a future version. Use a list instead.\n",
      "  f = X[feature_group].std().sort_values(ascending=False).index[0]\n",
      "c:\\source\\2x4_data\\venv\\lib\\site-packages\\feature_engine\\selection\\smart_correlation_selection.py:302: FutureWarning: Passing a set as an indexer is deprecated and will raise in a future version. Use a list instead.\n",
      "  f = X[feature_group].std().sort_values(ascending=False).index[0]\n",
      "c:\\source\\2x4_data\\venv\\lib\\site-packages\\feature_engine\\selection\\smart_correlation_selection.py:302: FutureWarning: Passing a set as an indexer is deprecated and will raise in a future version. Use a list instead.\n",
      "  f = X[feature_group].std().sort_values(ascending=False).index[0]\n",
      "c:\\source\\2x4_data\\venv\\lib\\site-packages\\feature_engine\\selection\\smart_correlation_selection.py:302: FutureWarning: Passing a set as an indexer is deprecated and will raise in a future version. Use a list instead.\n",
      "  f = X[feature_group].std().sort_values(ascending=False).index[0]\n",
      "c:\\source\\2x4_data\\venv\\lib\\site-packages\\feature_engine\\selection\\smart_correlation_selection.py:302: FutureWarning: Passing a set as an indexer is deprecated and will raise in a future version. Use a list instead.\n",
      "  f = X[feature_group].std().sort_values(ascending=False).index[0]\n",
      "c:\\source\\2x4_data\\venv\\lib\\site-packages\\feature_engine\\selection\\smart_correlation_selection.py:302: FutureWarning: Passing a set as an indexer is deprecated and will raise in a future version. Use a list instead.\n",
      "  f = X[feature_group].std().sort_values(ascending=False).index[0]\n",
      "c:\\source\\2x4_data\\venv\\lib\\site-packages\\feature_engine\\selection\\smart_correlation_selection.py:302: FutureWarning: Passing a set as an indexer is deprecated and will raise in a future version. Use a list instead.\n",
      "  f = X[feature_group].std().sort_values(ascending=False).index[0]\n",
      "c:\\source\\2x4_data\\venv\\lib\\site-packages\\feature_engine\\selection\\smart_correlation_selection.py:302: FutureWarning: Passing a set as an indexer is deprecated and will raise in a future version. Use a list instead.\n",
      "  f = X[feature_group].std().sort_values(ascending=False).index[0]\n",
      "c:\\source\\2x4_data\\venv\\lib\\site-packages\\feature_engine\\selection\\smart_correlation_selection.py:302: FutureWarning: Passing a set as an indexer is deprecated and will raise in a future version. Use a list instead.\n",
      "  f = X[feature_group].std().sort_values(ascending=False).index[0]\n",
      "c:\\source\\2x4_data\\venv\\lib\\site-packages\\feature_engine\\selection\\smart_correlation_selection.py:302: FutureWarning: Passing a set as an indexer is deprecated and will raise in a future version. Use a list instead.\n",
      "  f = X[feature_group].std().sort_values(ascending=False).index[0]\n",
      "c:\\source\\2x4_data\\venv\\lib\\site-packages\\feature_engine\\selection\\smart_correlation_selection.py:302: FutureWarning: Passing a set as an indexer is deprecated and will raise in a future version. Use a list instead.\n",
      "  f = X[feature_group].std().sort_values(ascending=False).index[0]\n",
      "c:\\source\\2x4_data\\venv\\lib\\site-packages\\feature_engine\\selection\\smart_correlation_selection.py:302: FutureWarning: Passing a set as an indexer is deprecated and will raise in a future version. Use a list instead.\n",
      "  f = X[feature_group].std().sort_values(ascending=False).index[0]\n",
      "c:\\source\\2x4_data\\venv\\lib\\site-packages\\feature_engine\\selection\\smart_correlation_selection.py:302: FutureWarning: Passing a set as an indexer is deprecated and will raise in a future version. Use a list instead.\n",
      "  f = X[feature_group].std().sort_values(ascending=False).index[0]\n",
      "c:\\source\\2x4_data\\venv\\lib\\site-packages\\feature_engine\\selection\\smart_correlation_selection.py:302: FutureWarning: Passing a set as an indexer is deprecated and will raise in a future version. Use a list instead.\n",
      "  f = X[feature_group].std().sort_values(ascending=False).index[0]\n",
      "c:\\source\\2x4_data\\venv\\lib\\site-packages\\feature_engine\\selection\\smart_correlation_selection.py:302: FutureWarning: Passing a set as an indexer is deprecated and will raise in a future version. Use a list instead.\n",
      "  f = X[feature_group].std().sort_values(ascending=False).index[0]\n",
      "c:\\source\\2x4_data\\venv\\lib\\site-packages\\feature_engine\\selection\\smart_correlation_selection.py:302: FutureWarning: Passing a set as an indexer is deprecated and will raise in a future version. Use a list instead.\n",
      "  f = X[feature_group].std().sort_values(ascending=False).index[0]\n",
      "c:\\source\\2x4_data\\venv\\lib\\site-packages\\feature_engine\\selection\\smart_correlation_selection.py:302: FutureWarning: Passing a set as an indexer is deprecated and will raise in a future version. Use a list instead.\n",
      "  f = X[feature_group].std().sort_values(ascending=False).index[0]\n",
      "c:\\source\\2x4_data\\venv\\lib\\site-packages\\feature_engine\\selection\\smart_correlation_selection.py:302: FutureWarning: Passing a set as an indexer is deprecated and will raise in a future version. Use a list instead.\n",
      "  f = X[feature_group].std().sort_values(ascending=False).index[0]\n",
      "c:\\source\\2x4_data\\venv\\lib\\site-packages\\feature_engine\\selection\\smart_correlation_selection.py:302: FutureWarning: Passing a set as an indexer is deprecated and will raise in a future version. Use a list instead.\n",
      "  f = X[feature_group].std().sort_values(ascending=False).index[0]\n",
      "c:\\source\\2x4_data\\venv\\lib\\site-packages\\feature_engine\\selection\\smart_correlation_selection.py:302: FutureWarning: Passing a set as an indexer is deprecated and will raise in a future version. Use a list instead.\n",
      "  f = X[feature_group].std().sort_values(ascending=False).index[0]\n",
      "c:\\source\\2x4_data\\venv\\lib\\site-packages\\feature_engine\\selection\\smart_correlation_selection.py:302: FutureWarning: Passing a set as an indexer is deprecated and will raise in a future version. Use a list instead.\n",
      "  f = X[feature_group].std().sort_values(ascending=False).index[0]\n",
      "c:\\source\\2x4_data\\venv\\lib\\site-packages\\feature_engine\\selection\\smart_correlation_selection.py:302: FutureWarning: Passing a set as an indexer is deprecated and will raise in a future version. Use a list instead.\n",
      "  f = X[feature_group].std().sort_values(ascending=False).index[0]\n",
      "c:\\source\\2x4_data\\venv\\lib\\site-packages\\feature_engine\\selection\\smart_correlation_selection.py:302: FutureWarning: Passing a set as an indexer is deprecated and will raise in a future version. Use a list instead.\n",
      "  f = X[feature_group].std().sort_values(ascending=False).index[0]\n",
      "c:\\source\\2x4_data\\venv\\lib\\site-packages\\feature_engine\\selection\\smart_correlation_selection.py:302: FutureWarning: Passing a set as an indexer is deprecated and will raise in a future version. Use a list instead.\n",
      "  f = X[feature_group].std().sort_values(ascending=False).index[0]\n",
      "c:\\source\\2x4_data\\venv\\lib\\site-packages\\feature_engine\\selection\\smart_correlation_selection.py:302: FutureWarning: Passing a set as an indexer is deprecated and will raise in a future version. Use a list instead.\n",
      "  f = X[feature_group].std().sort_values(ascending=False).index[0]\n",
      "c:\\source\\2x4_data\\venv\\lib\\site-packages\\feature_engine\\selection\\smart_correlation_selection.py:302: FutureWarning: Passing a set as an indexer is deprecated and will raise in a future version. Use a list instead.\n",
      "  f = X[feature_group].std().sort_values(ascending=False).index[0]\n",
      "c:\\source\\2x4_data\\venv\\lib\\site-packages\\feature_engine\\selection\\smart_correlation_selection.py:302: FutureWarning: Passing a set as an indexer is deprecated and will raise in a future version. Use a list instead.\n",
      "  f = X[feature_group].std().sort_values(ascending=False).index[0]\n",
      "c:\\source\\2x4_data\\venv\\lib\\site-packages\\feature_engine\\selection\\smart_correlation_selection.py:302: FutureWarning: Passing a set as an indexer is deprecated and will raise in a future version. Use a list instead.\n",
      "  f = X[feature_group].std().sort_values(ascending=False).index[0]\n",
      "c:\\source\\2x4_data\\venv\\lib\\site-packages\\feature_engine\\selection\\smart_correlation_selection.py:302: FutureWarning: Passing a set as an indexer is deprecated and will raise in a future version. Use a list instead.\n",
      "  f = X[feature_group].std().sort_values(ascending=False).index[0]\n",
      "c:\\source\\2x4_data\\venv\\lib\\site-packages\\feature_engine\\selection\\smart_correlation_selection.py:302: FutureWarning: Passing a set as an indexer is deprecated and will raise in a future version. Use a list instead.\n",
      "  f = X[feature_group].std().sort_values(ascending=False).index[0]\n",
      "c:\\source\\2x4_data\\venv\\lib\\site-packages\\feature_engine\\selection\\smart_correlation_selection.py:302: FutureWarning: Passing a set as an indexer is deprecated and will raise in a future version. Use a list instead.\n",
      "  f = X[feature_group].std().sort_values(ascending=False).index[0]\n",
      "c:\\source\\2x4_data\\venv\\lib\\site-packages\\feature_engine\\selection\\smart_correlation_selection.py:302: FutureWarning: Passing a set as an indexer is deprecated and will raise in a future version. Use a list instead.\n",
      "  f = X[feature_group].std().sort_values(ascending=False).index[0]\n",
      "c:\\source\\2x4_data\\venv\\lib\\site-packages\\feature_engine\\selection\\smart_correlation_selection.py:302: FutureWarning: Passing a set as an indexer is deprecated and will raise in a future version. Use a list instead.\n",
      "  f = X[feature_group].std().sort_values(ascending=False).index[0]\n",
      "c:\\source\\2x4_data\\venv\\lib\\site-packages\\feature_engine\\selection\\smart_correlation_selection.py:302: FutureWarning: Passing a set as an indexer is deprecated and will raise in a future version. Use a list instead.\n",
      "  f = X[feature_group].std().sort_values(ascending=False).index[0]\n",
      "c:\\source\\2x4_data\\venv\\lib\\site-packages\\feature_engine\\selection\\smart_correlation_selection.py:302: FutureWarning: Passing a set as an indexer is deprecated and will raise in a future version. Use a list instead.\n",
      "  f = X[feature_group].std().sort_values(ascending=False).index[0]\n",
      "c:\\source\\2x4_data\\venv\\lib\\site-packages\\feature_engine\\selection\\smart_correlation_selection.py:302: FutureWarning: Passing a set as an indexer is deprecated and will raise in a future version. Use a list instead.\n",
      "  f = X[feature_group].std().sort_values(ascending=False).index[0]\n",
      "c:\\source\\2x4_data\\venv\\lib\\site-packages\\feature_engine\\selection\\smart_correlation_selection.py:302: FutureWarning: Passing a set as an indexer is deprecated and will raise in a future version. Use a list instead.\n",
      "  f = X[feature_group].std().sort_values(ascending=False).index[0]\n",
      "c:\\source\\2x4_data\\venv\\lib\\site-packages\\feature_engine\\selection\\smart_correlation_selection.py:302: FutureWarning: Passing a set as an indexer is deprecated and will raise in a future version. Use a list instead.\n",
      "  f = X[feature_group].std().sort_values(ascending=False).index[0]\n",
      "c:\\source\\2x4_data\\venv\\lib\\site-packages\\feature_engine\\selection\\smart_correlation_selection.py:302: FutureWarning: Passing a set as an indexer is deprecated and will raise in a future version. Use a list instead.\n",
      "  f = X[feature_group].std().sort_values(ascending=False).index[0]\n",
      "c:\\source\\2x4_data\\venv\\lib\\site-packages\\feature_engine\\selection\\smart_correlation_selection.py:302: FutureWarning: Passing a set as an indexer is deprecated and will raise in a future version. Use a list instead.\n",
      "  f = X[feature_group].std().sort_values(ascending=False).index[0]\n",
      "c:\\source\\2x4_data\\venv\\lib\\site-packages\\feature_engine\\selection\\smart_correlation_selection.py:302: FutureWarning: Passing a set as an indexer is deprecated and will raise in a future version. Use a list instead.\n",
      "  f = X[feature_group].std().sort_values(ascending=False).index[0]\n",
      "c:\\source\\2x4_data\\venv\\lib\\site-packages\\feature_engine\\selection\\smart_correlation_selection.py:302: FutureWarning: Passing a set as an indexer is deprecated and will raise in a future version. Use a list instead.\n",
      "  f = X[feature_group].std().sort_values(ascending=False).index[0]\n",
      "c:\\source\\2x4_data\\venv\\lib\\site-packages\\feature_engine\\selection\\smart_correlation_selection.py:302: FutureWarning: Passing a set as an indexer is deprecated and will raise in a future version. Use a list instead.\n",
      "  f = X[feature_group].std().sort_values(ascending=False).index[0]\n",
      "c:\\source\\2x4_data\\venv\\lib\\site-packages\\feature_engine\\selection\\smart_correlation_selection.py:302: FutureWarning: Passing a set as an indexer is deprecated and will raise in a future version. Use a list instead.\n",
      "  f = X[feature_group].std().sort_values(ascending=False).index[0]\n",
      "c:\\source\\2x4_data\\venv\\lib\\site-packages\\feature_engine\\selection\\smart_correlation_selection.py:302: FutureWarning: Passing a set as an indexer is deprecated and will raise in a future version. Use a list instead.\n",
      "  f = X[feature_group].std().sort_values(ascending=False).index[0]\n",
      "c:\\source\\2x4_data\\venv\\lib\\site-packages\\feature_engine\\selection\\smart_correlation_selection.py:302: FutureWarning: Passing a set as an indexer is deprecated and will raise in a future version. Use a list instead.\n",
      "  f = X[feature_group].std().sort_values(ascending=False).index[0]\n",
      "c:\\source\\2x4_data\\venv\\lib\\site-packages\\feature_engine\\selection\\smart_correlation_selection.py:302: FutureWarning: Passing a set as an indexer is deprecated and will raise in a future version. Use a list instead.\n",
      "  f = X[feature_group].std().sort_values(ascending=False).index[0]\n",
      "c:\\source\\2x4_data\\venv\\lib\\site-packages\\feature_engine\\selection\\smart_correlation_selection.py:302: FutureWarning: Passing a set as an indexer is deprecated and will raise in a future version. Use a list instead.\n",
      "  f = X[feature_group].std().sort_values(ascending=False).index[0]\n",
      "c:\\source\\2x4_data\\venv\\lib\\site-packages\\feature_engine\\selection\\smart_correlation_selection.py:302: FutureWarning: Passing a set as an indexer is deprecated and will raise in a future version. Use a list instead.\n",
      "  f = X[feature_group].std().sort_values(ascending=False).index[0]\n",
      "c:\\source\\2x4_data\\venv\\lib\\site-packages\\feature_engine\\selection\\smart_correlation_selection.py:302: FutureWarning: Passing a set as an indexer is deprecated and will raise in a future version. Use a list instead.\n",
      "  f = X[feature_group].std().sort_values(ascending=False).index[0]\n",
      "c:\\source\\2x4_data\\venv\\lib\\site-packages\\feature_engine\\selection\\smart_correlation_selection.py:302: FutureWarning: Passing a set as an indexer is deprecated and will raise in a future version. Use a list instead.\n",
      "  f = X[feature_group].std().sort_values(ascending=False).index[0]\n",
      "c:\\source\\2x4_data\\venv\\lib\\site-packages\\feature_engine\\selection\\smart_correlation_selection.py:302: FutureWarning: Passing a set as an indexer is deprecated and will raise in a future version. Use a list instead.\n",
      "  f = X[feature_group].std().sort_values(ascending=False).index[0]\n",
      "c:\\source\\2x4_data\\venv\\lib\\site-packages\\feature_engine\\selection\\smart_correlation_selection.py:302: FutureWarning: Passing a set as an indexer is deprecated and will raise in a future version. Use a list instead.\n",
      "  f = X[feature_group].std().sort_values(ascending=False).index[0]\n",
      "c:\\source\\2x4_data\\venv\\lib\\site-packages\\feature_engine\\selection\\smart_correlation_selection.py:302: FutureWarning: Passing a set as an indexer is deprecated and will raise in a future version. Use a list instead.\n",
      "  f = X[feature_group].std().sort_values(ascending=False).index[0]\n",
      "c:\\source\\2x4_data\\venv\\lib\\site-packages\\feature_engine\\selection\\smart_correlation_selection.py:302: FutureWarning: Passing a set as an indexer is deprecated and will raise in a future version. Use a list instead.\n",
      "  f = X[feature_group].std().sort_values(ascending=False).index[0]\n",
      "c:\\source\\2x4_data\\venv\\lib\\site-packages\\feature_engine\\selection\\smart_correlation_selection.py:302: FutureWarning: Passing a set as an indexer is deprecated and will raise in a future version. Use a list instead.\n",
      "  f = X[feature_group].std().sort_values(ascending=False).index[0]\n",
      "c:\\source\\2x4_data\\venv\\lib\\site-packages\\feature_engine\\selection\\smart_correlation_selection.py:302: FutureWarning: Passing a set as an indexer is deprecated and will raise in a future version. Use a list instead.\n",
      "  f = X[feature_group].std().sort_values(ascending=False).index[0]\n",
      "c:\\source\\2x4_data\\venv\\lib\\site-packages\\feature_engine\\selection\\smart_correlation_selection.py:302: FutureWarning: Passing a set as an indexer is deprecated and will raise in a future version. Use a list instead.\n",
      "  f = X[feature_group].std().sort_values(ascending=False).index[0]\n",
      "c:\\source\\2x4_data\\venv\\lib\\site-packages\\feature_engine\\selection\\smart_correlation_selection.py:302: FutureWarning: Passing a set as an indexer is deprecated and will raise in a future version. Use a list instead.\n",
      "  f = X[feature_group].std().sort_values(ascending=False).index[0]\n",
      "c:\\source\\2x4_data\\venv\\lib\\site-packages\\feature_engine\\selection\\smart_correlation_selection.py:302: FutureWarning: Passing a set as an indexer is deprecated and will raise in a future version. Use a list instead.\n",
      "  f = X[feature_group].std().sort_values(ascending=False).index[0]\n",
      "c:\\source\\2x4_data\\venv\\lib\\site-packages\\feature_engine\\selection\\smart_correlation_selection.py:302: FutureWarning: Passing a set as an indexer is deprecated and will raise in a future version. Use a list instead.\n",
      "  f = X[feature_group].std().sort_values(ascending=False).index[0]\n",
      "c:\\source\\2x4_data\\venv\\lib\\site-packages\\feature_engine\\selection\\smart_correlation_selection.py:302: FutureWarning: Passing a set as an indexer is deprecated and will raise in a future version. Use a list instead.\n",
      "  f = X[feature_group].std().sort_values(ascending=False).index[0]\n",
      "c:\\source\\2x4_data\\venv\\lib\\site-packages\\feature_engine\\selection\\smart_correlation_selection.py:302: FutureWarning: Passing a set as an indexer is deprecated and will raise in a future version. Use a list instead.\n",
      "  f = X[feature_group].std().sort_values(ascending=False).index[0]\n",
      "c:\\source\\2x4_data\\venv\\lib\\site-packages\\feature_engine\\selection\\smart_correlation_selection.py:302: FutureWarning: Passing a set as an indexer is deprecated and will raise in a future version. Use a list instead.\n",
      "  f = X[feature_group].std().sort_values(ascending=False).index[0]\n",
      "c:\\source\\2x4_data\\venv\\lib\\site-packages\\feature_engine\\selection\\smart_correlation_selection.py:302: FutureWarning: Passing a set as an indexer is deprecated and will raise in a future version. Use a list instead.\n",
      "  f = X[feature_group].std().sort_values(ascending=False).index[0]\n",
      "c:\\source\\2x4_data\\venv\\lib\\site-packages\\feature_engine\\selection\\smart_correlation_selection.py:302: FutureWarning: Passing a set as an indexer is deprecated and will raise in a future version. Use a list instead.\n",
      "  f = X[feature_group].std().sort_values(ascending=False).index[0]\n",
      "c:\\source\\2x4_data\\venv\\lib\\site-packages\\feature_engine\\selection\\smart_correlation_selection.py:302: FutureWarning: Passing a set as an indexer is deprecated and will raise in a future version. Use a list instead.\n",
      "  f = X[feature_group].std().sort_values(ascending=False).index[0]\n",
      "c:\\source\\2x4_data\\venv\\lib\\site-packages\\feature_engine\\selection\\smart_correlation_selection.py:302: FutureWarning: Passing a set as an indexer is deprecated and will raise in a future version. Use a list instead.\n",
      "  f = X[feature_group].std().sort_values(ascending=False).index[0]\n",
      "c:\\source\\2x4_data\\venv\\lib\\site-packages\\feature_engine\\selection\\smart_correlation_selection.py:302: FutureWarning: Passing a set as an indexer is deprecated and will raise in a future version. Use a list instead.\n",
      "  f = X[feature_group].std().sort_values(ascending=False).index[0]\n",
      "c:\\source\\2x4_data\\venv\\lib\\site-packages\\feature_engine\\selection\\smart_correlation_selection.py:302: FutureWarning: Passing a set as an indexer is deprecated and will raise in a future version. Use a list instead.\n",
      "  f = X[feature_group].std().sort_values(ascending=False).index[0]\n",
      "c:\\source\\2x4_data\\venv\\lib\\site-packages\\feature_engine\\selection\\smart_correlation_selection.py:302: FutureWarning: Passing a set as an indexer is deprecated and will raise in a future version. Use a list instead.\n",
      "  f = X[feature_group].std().sort_values(ascending=False).index[0]\n",
      "c:\\source\\2x4_data\\venv\\lib\\site-packages\\feature_engine\\selection\\smart_correlation_selection.py:302: FutureWarning: Passing a set as an indexer is deprecated and will raise in a future version. Use a list instead.\n",
      "  f = X[feature_group].std().sort_values(ascending=False).index[0]\n",
      "c:\\source\\2x4_data\\venv\\lib\\site-packages\\feature_engine\\selection\\smart_correlation_selection.py:302: FutureWarning: Passing a set as an indexer is deprecated and will raise in a future version. Use a list instead.\n",
      "  f = X[feature_group].std().sort_values(ascending=False).index[0]\n",
      "c:\\source\\2x4_data\\venv\\lib\\site-packages\\feature_engine\\selection\\smart_correlation_selection.py:302: FutureWarning: Passing a set as an indexer is deprecated and will raise in a future version. Use a list instead.\n",
      "  f = X[feature_group].std().sort_values(ascending=False).index[0]\n",
      "c:\\source\\2x4_data\\venv\\lib\\site-packages\\feature_engine\\selection\\smart_correlation_selection.py:302: FutureWarning: Passing a set as an indexer is deprecated and will raise in a future version. Use a list instead.\n",
      "  f = X[feature_group].std().sort_values(ascending=False).index[0]\n",
      "c:\\source\\2x4_data\\venv\\lib\\site-packages\\feature_engine\\selection\\smart_correlation_selection.py:302: FutureWarning: Passing a set as an indexer is deprecated and will raise in a future version. Use a list instead.\n",
      "  f = X[feature_group].std().sort_values(ascending=False).index[0]\n",
      "c:\\source\\2x4_data\\venv\\lib\\site-packages\\feature_engine\\selection\\smart_correlation_selection.py:302: FutureWarning: Passing a set as an indexer is deprecated and will raise in a future version. Use a list instead.\n",
      "  f = X[feature_group].std().sort_values(ascending=False).index[0]\n",
      "c:\\source\\2x4_data\\venv\\lib\\site-packages\\feature_engine\\selection\\smart_correlation_selection.py:302: FutureWarning: Passing a set as an indexer is deprecated and will raise in a future version. Use a list instead.\n",
      "  f = X[feature_group].std().sort_values(ascending=False).index[0]\n",
      "c:\\source\\2x4_data\\venv\\lib\\site-packages\\feature_engine\\selection\\smart_correlation_selection.py:302: FutureWarning: Passing a set as an indexer is deprecated and will raise in a future version. Use a list instead.\n",
      "  f = X[feature_group].std().sort_values(ascending=False).index[0]\n",
      "c:\\source\\2x4_data\\venv\\lib\\site-packages\\feature_engine\\selection\\smart_correlation_selection.py:302: FutureWarning: Passing a set as an indexer is deprecated and will raise in a future version. Use a list instead.\n",
      "  f = X[feature_group].std().sort_values(ascending=False).index[0]\n",
      "c:\\source\\2x4_data\\venv\\lib\\site-packages\\feature_engine\\selection\\smart_correlation_selection.py:302: FutureWarning: Passing a set as an indexer is deprecated and will raise in a future version. Use a list instead.\n",
      "  f = X[feature_group].std().sort_values(ascending=False).index[0]\n",
      "c:\\source\\2x4_data\\venv\\lib\\site-packages\\feature_engine\\selection\\smart_correlation_selection.py:302: FutureWarning: Passing a set as an indexer is deprecated and will raise in a future version. Use a list instead.\n",
      "  f = X[feature_group].std().sort_values(ascending=False).index[0]\n",
      "c:\\source\\2x4_data\\venv\\lib\\site-packages\\feature_engine\\selection\\smart_correlation_selection.py:302: FutureWarning: Passing a set as an indexer is deprecated and will raise in a future version. Use a list instead.\n",
      "  f = X[feature_group].std().sort_values(ascending=False).index[0]\n",
      "c:\\source\\2x4_data\\venv\\lib\\site-packages\\feature_engine\\selection\\smart_correlation_selection.py:302: FutureWarning: Passing a set as an indexer is deprecated and will raise in a future version. Use a list instead.\n",
      "  f = X[feature_group].std().sort_values(ascending=False).index[0]\n",
      "c:\\source\\2x4_data\\venv\\lib\\site-packages\\feature_engine\\selection\\smart_correlation_selection.py:302: FutureWarning: Passing a set as an indexer is deprecated and will raise in a future version. Use a list instead.\n",
      "  f = X[feature_group].std().sort_values(ascending=False).index[0]\n",
      "c:\\source\\2x4_data\\venv\\lib\\site-packages\\feature_engine\\selection\\smart_correlation_selection.py:302: FutureWarning: Passing a set as an indexer is deprecated and will raise in a future version. Use a list instead.\n",
      "  f = X[feature_group].std().sort_values(ascending=False).index[0]\n",
      "c:\\source\\2x4_data\\venv\\lib\\site-packages\\feature_engine\\selection\\smart_correlation_selection.py:302: FutureWarning: Passing a set as an indexer is deprecated and will raise in a future version. Use a list instead.\n",
      "  f = X[feature_group].std().sort_values(ascending=False).index[0]\n",
      "c:\\source\\2x4_data\\venv\\lib\\site-packages\\feature_engine\\selection\\smart_correlation_selection.py:302: FutureWarning: Passing a set as an indexer is deprecated and will raise in a future version. Use a list instead.\n",
      "  f = X[feature_group].std().sort_values(ascending=False).index[0]\n",
      "c:\\source\\2x4_data\\venv\\lib\\site-packages\\feature_engine\\selection\\smart_correlation_selection.py:302: FutureWarning: Passing a set as an indexer is deprecated and will raise in a future version. Use a list instead.\n",
      "  f = X[feature_group].std().sort_values(ascending=False).index[0]\n",
      "c:\\source\\2x4_data\\venv\\lib\\site-packages\\feature_engine\\selection\\smart_correlation_selection.py:302: FutureWarning: Passing a set as an indexer is deprecated and will raise in a future version. Use a list instead.\n",
      "  f = X[feature_group].std().sort_values(ascending=False).index[0]\n",
      "c:\\source\\2x4_data\\venv\\lib\\site-packages\\feature_engine\\selection\\smart_correlation_selection.py:302: FutureWarning: Passing a set as an indexer is deprecated and will raise in a future version. Use a list instead.\n",
      "  f = X[feature_group].std().sort_values(ascending=False).index[0]\n",
      "c:\\source\\2x4_data\\venv\\lib\\site-packages\\feature_engine\\selection\\smart_correlation_selection.py:302: FutureWarning: Passing a set as an indexer is deprecated and will raise in a future version. Use a list instead.\n",
      "  f = X[feature_group].std().sort_values(ascending=False).index[0]\n",
      "c:\\source\\2x4_data\\venv\\lib\\site-packages\\feature_engine\\selection\\smart_correlation_selection.py:302: FutureWarning: Passing a set as an indexer is deprecated and will raise in a future version. Use a list instead.\n",
      "  f = X[feature_group].std().sort_values(ascending=False).index[0]\n"
     ]
    },
    {
     "data": {
      "text/plain": [
       "SmartCorrelatedSelection(estimator=RandomForestClassifier(n_estimators=10,\n",
       "                                                          n_jobs=-1),\n",
       "                         method='spearman', missing_values='raise',\n",
       "                         selection_method='variance', threshold=0.9)"
      ]
     },
     "execution_count": 21,
     "metadata": {},
     "output_type": "execute_result"
    }
   ],
   "source": [
    "# random forest\n",
    "rf = RandomForestClassifier(n_estimators=10,n_jobs=-1)\n",
    "\n",
    "# correlation selector\n",
    "sel = SmartCorrelatedSelection(\n",
    "    variables=None, # if none, selector examines all numerical variables\n",
    "    method=\"spearman\",\n",
    "    threshold=0.9,\n",
    "    missing_values=\"raise\",\n",
    "    selection_method=\"variance\",\n",
    "    estimator=rf,\n",
    "    scoring=\"roc_auc\",\n",
    "    cv=3,\n",
    ")\n",
    "\n",
    "sel.fit(X_train, y_train)"
   ]
  },
  {
   "cell_type": "code",
   "execution_count": 22,
   "metadata": {},
   "outputs": [
    {
     "data": {
      "text/plain": [
       "((2200, 394), (550, 394), (116, 394))"
      ]
     },
     "execution_count": 22,
     "metadata": {},
     "output_type": "execute_result"
    }
   ],
   "source": [
    "X_train = sel.transform(X_train)\n",
    "X_test = sel.transform(X_test)\n",
    "X_val = sel.transform(X_val)\n",
    "\n",
    "X_train.shape, X_test.shape, X_val.shape"
   ]
  },
  {
   "cell_type": "markdown",
   "metadata": {},
   "source": [
    "### Univariate Selection Methods - Mostly just examine linear relationships"
   ]
  },
  {
   "cell_type": "markdown",
   "metadata": {},
   "source": [
    "#### Mutual Information"
   ]
  },
  {
   "cell_type": "code",
   "execution_count": 23,
   "metadata": {},
   "outputs": [
    {
     "data": {
      "text/plain": [
       "Index(['lumbermovingaverages MA200', 'Weeklyrealtor pricereducedshareyy',\n",
       "       'day', 'TAvolumeem', 'TAvolatilitykchi', 'TAvolatilitykcli',\n",
       "       'TAvolatilityui', 'TAtrendcci', 'TAtrendaroonup', 'TAmomentumstochrsi',\n",
       "       'TAmomentumstochrsik', 'TAmomentumuo', 'TAmomentumstochsignal',\n",
       "       'TAmomentumroc', 'TAothersdr'],\n",
       "      dtype='object')"
      ]
     },
     "execution_count": 23,
     "metadata": {},
     "output_type": "execute_result"
    }
   ],
   "source": [
    "mi = mutual_info_classif(X_train, y_train)\n",
    "mi = pd.Series(mi)\n",
    "mi.index = X_train.columns\n",
    "mi.sort_values(ascending=False, inplace = True)\n",
    "\n",
    "# Plot\n",
    "# mi.plot.bar(figsize=(20, 6))\n",
    "# plt.ylabel('Mutual Information')\n",
    "\n",
    "# select features\n",
    "sel_ = SelectKBest(mutual_info_classif, k=15).fit(X_train, y_train)\n",
    "\n",
    "# display features\n",
    "X_train.columns[sel_.get_support()]"
   ]
  },
  {
   "cell_type": "markdown",
   "metadata": {},
   "source": [
    "#### Chi-square Statistic - only suited for classification!                                         \n",
    "https://www.udemy.com/course/feature-selection-for-machine-learning/learn/lecture/22495182#questions\n",
    "https://github.com/solegalli/feature-selection-for-machine-learning/blob/main/05-Filter-Statistical-Tests/05.2-Fisher-score.ipynb"
   ]
  },
  {
   "cell_type": "code",
   "execution_count": 24,
   "metadata": {},
   "outputs": [
    {
     "data": {
      "text/plain": [
       "Index(['LumberOHLCV LBopenInterest',\n",
       "       'Investingdotcom USMortgageRefinanceIndex',\n",
       "       'monthlyrealtor activelistingcount', 'monthlyrealtor newlistingcount',\n",
       "       'monthlyrealtor pendinglistingcount',\n",
       "       'monthlyrealtor totallistingcount',\n",
       "       'FREDMonthly Advance Retail Sales Retail Trade',\n",
       "       'FREDWeekly As of Wednesday Assets Total Assets Total Assets Less Eliminations from Consolidation Wednesday Level',\n",
       "       'FREDWeekly Ending Saturday Initial Claims',\n",
       "       'Construction Spending HighwayandstreetTotal',\n",
       "       'Construction Spending NonresidentialTotal',\n",
       "       'Construction Spending NonresidentialPrivate',\n",
       "       'Construction Spending TotalConstructionTotal',\n",
       "       'New Home Sales SOLDAVERAG', 'barometerwestern Inventories',\n",
       "       'barometercoast Unfilled', 'barometercoast Inventories',\n",
       "       'barometerinland Unfilled', 'barometerinland Inventories',\n",
       "       'CFTCdisaggregated OpenInterestAll',\n",
       "       'CFTCdisaggregated MMoneyPositionsLongAll',\n",
       "       'CFTClegacy NoncommercialPositionsLongAll',\n",
       "       'CFTClegacy NoncommercialPositionsShortAll',\n",
       "       'CFTClegacy NoncommercialPositionsSpreadingAll', 'TAvolumenvi',\n",
       "       'TAtrendstc', 'TAmomentumstochsignal'],\n",
       "      dtype='object')"
      ]
     },
     "execution_count": 24,
     "metadata": {},
     "output_type": "execute_result"
    }
   ],
   "source": [
    "# calculate the chi2 p_value between each of the variables and the target\n",
    "# chi2 returns 2 arrays, one contains the F-Scores which are then evaluated against the chi2 distribution to obtain the pvalue. The pvalues are in the second array\n",
    "\n",
    "# Input X must be non-negative\n",
    "X_train_non_negative = X_train[X_train.columns[((X_train < 0).sum(axis=0) == 0).values]]\n",
    "f_score = chi2(X_train_non_negative.fillna(0), y_train)\n",
    "pvalues = pd.Series(f_score[1])\n",
    "pvalues.index = X_train_non_negative.columns\n",
    "pvalues.sort_values(ascending=True, inplace = True)\n",
    "extremely_low_p_values = len(pvalues[pvalues < 1e-100])\n",
    "sel_ = SelectKBest(chi2, k= extremely_low_p_values).fit(X_train_non_negative, y_train)\n",
    "X_train_non_negative.columns[sel_.get_support()] # display features\n",
    "\n",
    "# X_train = sel_.transform(X_train)\n",
    "# X_test = sel_.transform(X_test)"
   ]
  },
  {
   "cell_type": "markdown",
   "metadata": {},
   "source": [
    "#### Anova - tests 2 samples have same mean\n",
    "\n",
    "Assumptions:\n",
    "Sample are independant & normally distributed, homegeneity of variance"
   ]
  },
  {
   "cell_type": "code",
   "execution_count": 25,
   "metadata": {},
   "outputs": [
    {
     "data": {
      "text/plain": [
       "array(['LumberOHLCV LBopenInterest', 'lumbermovingaverages MA200',\n",
       "       'lumbermovingaverages MA100', 'lumbermovingaverages MA50',\n",
       "       'Investingdotcom USMBAPurchaseIndex',\n",
       "       'Investingdotcom USMortgageRefinanceIndex',\n",
       "       'Investingdotcom USMortgageMarketIndex',\n",
       "       'Weeklyrealtor activelistingcountyy',\n",
       "       'Weeklyrealtor pricereducedcountyy', 'GSCPI GSCPI',\n",
       "       'TreasuryTerms ACMY03', 'TreasuryTerms ACMY10', 'Yahoo GCF',\n",
       "       'FREDDaily Market Yield on US Treasury Securities at 30Year Constant Maturity Quoted on an Investment Basis',\n",
       "       'FREDMonthly Labor Force Participation Rate',\n",
       "       'FREDMonthly EmploymentPopulation Ratio',\n",
       "       'FREDMonthly Personal Saving Rate',\n",
       "       'FREDMonthly Industrial Production Total Index',\n",
       "       'FREDMonthly Capacity Utilization Total Index',\n",
       "       'FREDWeekly As of Wednesday Assets Total Assets Total Assets Less Eliminations from Consolidation Wednesday Level',\n",
       "       'New Residential Construction COMPLETIONSTOTAL',\n",
       "       'Construction Spending ResidentialPublic',\n",
       "       'Construction Spending PublicsafetyPublic',\n",
       "       'barometerwestern Inventories', 'barometercoast Inventories',\n",
       "       'LumberTrackconsumptionlumberus ApparentConsumption',\n",
       "       'LumberTracknorthamericanshipment CalRedwood',\n",
       "       'LumberTracknorthamericanorder TotalUS',\n",
       "       'WesternLumberorderswestern CalRW',\n",
       "       'WesternLumberinventorywestern WesternTotal',\n",
       "       'CFTClegacy NoncommercialPositionsSpreadingAll',\n",
       "       'CFTClegacy TradersNoncommercialSpreadingAll',\n",
       "       'FEALumberAdvisorvalue Softwood Lumber Dealer StocksConsumption Ratio United States',\n",
       "       'FEALumberAdvisorvalue Softwood Lumber Consumption Industrial Production United States',\n",
       "       'TAvolumefi', 'TAvolumeem', 'TAvolumevpt', 'TAvolumemfi',\n",
       "       'TAvolatilitykcp', 'TAvolatilitykchi', 'TAvolatilitykcli',\n",
       "       'TAvolatilityui', 'TAtrendmacddiff', 'TAtrendvortexindpos',\n",
       "       'TAtrendvortexindneg', 'TAtrendvortexinddiff', 'TAtrendkstdiff',\n",
       "       'TAtrendstc', 'TAtrendadxpos', 'TAtrendadxneg', 'TAtrendcci',\n",
       "       'TAtrendaroonup', 'TAtrendpsardown', 'TAmomentumstochrsi',\n",
       "       'TAmomentumstochrsik', 'TAmomentumuo', 'TAmomentumstochsignal',\n",
       "       'TAmomentumroc', 'TAothersdr'], dtype=object)"
      ]
     },
     "execution_count": 25,
     "metadata": {},
     "output_type": "execute_result"
    }
   ],
   "source": [
    "# calculate the univariate statistical measure between each of the variables and the target\n",
    "# similarly to chi2, the output is one array with f-scores and one array with the pvalues\n",
    "\n",
    "univariate = f_classif(X_train, y_train)\n",
    "univariate = pd.Series(univariate[1])\n",
    "univariate.index = X_train.columns\n",
    "univariate.sort_values(ascending=True, inplace = True) # The smaller the p_value the more predictive the feature is\n",
    "\n",
    "pvalue_above_5_percent = len(univariate[univariate < 0.05])\n",
    "sel_ = SelectKBest(f_classif, k=pvalue_above_5_percent).fit(X_train, y_train)\n",
    "features_to_keep = sel_.get_feature_names_out()\n",
    "features_to_keep\n",
    "\n",
    "# select features\n",
    "# X_train_anova = sel_.transform(X_train)\n",
    "# X_test_anova = sel_.transform(X_test)\n",
    "\n",
    "# # numpy array to dataframe\n",
    "# X_train_anova = pd.DataFrame(X_train_anova)\n",
    "# X_train_anova.columns = features_to_keep\n",
    "\n",
    "# X_test_anova = pd.DataFrame(X_test_anova)\n",
    "# X_test_anova.columns = features_to_keep\n",
    "\n",
    "# X_train_anova.shape, X_test_anova.shape\n",
    "\n"
   ]
  },
  {
   "cell_type": "markdown",
   "metadata": {},
   "source": [
    "### Wrapper Methods"
   ]
  },
  {
   "cell_type": "code",
   "execution_count": null,
   "metadata": {},
   "outputs": [],
   "source": []
  },
  {
   "cell_type": "markdown",
   "metadata": {},
   "source": [
    "### Embedded Methods | Tree Importance"
   ]
  },
  {
   "cell_type": "code",
   "execution_count": 26,
   "metadata": {},
   "outputs": [
    {
     "name": "stdout",
     "output_type": "stream",
     "text": [
      "31\n"
     ]
    },
    {
     "data": {
      "image/png": "[encoded data removed]",
      "text/plain": [
       "<Figure size 432x288 with 1 Axes>"
      ]
     },
     "metadata": {
      "needs_background": "light"
     },
     "output_type": "display_data"
    }
   ],
   "source": [
    "# Selects features whose importance is greater than the threshold. - Thershold is the mean importance of all features\n",
    "sel_ = SelectFromModel(RandomForestClassifier(n_estimators=300,  max_depth=3, n_jobs=-1)).fit(X_train, y_train)\n",
    "selected_features = X_train.columns[sel_.get_support()]\n",
    "print(len(selected_features))\n",
    "TopNFeatures = pd.DataFrame(index = sel_.estimator_.feature_names_in_.tolist(),data = sel_.estimator_.feature_importances_, columns = ['Imp']).sort_values(by='Imp',ascending=False).head(20).index.tolist()\n",
    "pd.Series(sel_.estimator_.feature_importances_.ravel()).hist(bins=20);"
   ]
  },
  {
   "cell_type": "code",
   "execution_count": 27,
   "metadata": {},
   "outputs": [
    {
     "data": {
      "text/plain": [
       "['TAtrendcci',\n",
       " 'TAvolatilitykcp',\n",
       " 'TAmomentumstochrsi',\n",
       " 'TAvolatilitykcli',\n",
       " 'TAvolatilitykchi',\n",
       " 'TAothersdr',\n",
       " 'TAvolumevpt',\n",
       " 'TAvolumeem',\n",
       " 'TAmomentumroc',\n",
       " 'TAmomentumuo',\n",
       " 'TAtrendadxneg',\n",
       " 'lumbermovingaverages MA50',\n",
       " 'TAtrendmacddiff',\n",
       " 'TAmomentumstochrsik',\n",
       " 'TAtrendadxpos',\n",
       " 'lumbermovingaverages MA100',\n",
       " 'TAmomentumstochsignal',\n",
       " 'TAvolumefi',\n",
       " 'TAtrendaroonup',\n",
       " 'LumberOHLCV LBopenInterest']"
      ]
     },
     "execution_count": 27,
     "metadata": {},
     "output_type": "execute_result"
    }
   ],
   "source": [
    "TopNFeatures"
   ]
  },
  {
   "cell_type": "markdown",
   "metadata": {},
   "source": [
    "### Embedded Methods | Tree Importance Recursively"
   ]
  },
  {
   "cell_type": "code",
   "execution_count": 28,
   "metadata": {},
   "outputs": [
    {
     "name": "stdout",
     "output_type": "stream",
     "text": [
      "30\n"
     ]
    },
    {
     "data": {
      "text/plain": [
       "Index(['LumberOHLCV LBopenInterest', 'LumberContractSpreads FirstThird',\n",
       "       'lumbermovingaverages MA100', 'lumbermovingaverages MA50',\n",
       "       'LumberBasis basis', 'Investingdotcom USMBAPurchaseIndex',\n",
       "       'Investingdotcom USMortgageRefinanceIndex',\n",
       "       'FREDWeekly As of Wednesday Assets Total Assets Total Assets Less Eliminations from Consolidation Wednesday Level',\n",
       "       'CFTClegacy NoncommercialPositionsSpreadingAll',\n",
       "       'FEALumberAdvisorvalue Softwood Lumber Dealer StocksConsumption Ratio United States',\n",
       "       'FEALumberAdvisorvalue Softwood Lumber Consumption Industrial Production United States',\n",
       "       'TAvolumefi', 'TAvolumeem', 'TAvolumevpt', 'TAvolatilitykcw',\n",
       "       'TAvolatilitykcp', 'TAvolatilitykchi', 'TAvolatilitykcli',\n",
       "       'TAtrendmacddiff', 'TAtrendvortexindpos', 'TAtrendadxpos',\n",
       "       'TAtrendadxneg', 'TAtrendcci', 'TAtrendaroonup', 'TAmomentumstochrsi',\n",
       "       'TAmomentumstochrsik', 'TAmomentumuo', 'TAmomentumstochsignal',\n",
       "       'TAmomentumroc', 'TAothersdr'],\n",
       "      dtype='object')"
      ]
     },
     "execution_count": 28,
     "metadata": {},
     "output_type": "execute_result"
    }
   ],
   "source": [
    "# Takes 1:44 mins to run\n",
    "sel_ = RFE(RandomForestClassifier(n_estimators=100,  max_depth=3, n_jobs=-1), n_features_to_select=30).fit(X_train, y_train)\n",
    "selected_features = X_train.columns[sel_.get_support()]\n",
    "print(len(selected_features))\n",
    "selected_features\n"
   ]
  },
  {
   "cell_type": "code",
   "execution_count": 29,
   "metadata": {},
   "outputs": [
    {
     "name": "stdout",
     "output_type": "stream",
     "text": [
      "Test Accuracy: 0.7109090909090909\n",
      "Validation Accuracy: 0.5603448275862069\n"
     ]
    }
   ],
   "source": [
    "rf = RandomForestClassifier(n_estimators=200, max_depth=3, n_jobs=-1)\n",
    "rf.fit(X_train[selected_features].fillna(0), y_train)\n",
    "y_pred = rf.predict(X_test[selected_features].fillna(0))\n",
    "y_valid_pred = rf.predict(X_val[selected_features].fillna(0))\n",
    "print(\"Test Accuracy:\", accuracy_score(y_test.fillna(0), y_pred))\n",
    "print(\"Validation Accuracy:\", accuracy_score(y_val.fillna(0), y_valid_pred))\n"
   ]
  },
  {
   "cell_type": "code",
   "execution_count": 30,
   "metadata": {},
   "outputs": [
    {
     "name": "stdout",
     "output_type": "stream",
     "text": [
      "Train set\n",
      "Random Forests roc-auc: 0.7460833545460855\n",
      "Test set\n",
      "Random Forests roc-auc: 0.7845968712394704\n",
      "Validation set\n",
      "Random Forests roc-auc: 0.6610169491525424\n"
     ]
    }
   ],
   "source": [
    "print('Train set')\n",
    "pred = rf.predict_proba(X_train[selected_features])\n",
    "print('Random Forests roc-auc: {}'.format(roc_auc_score(y_train, pred[:, 1])))\n",
    "\n",
    "print('Test set')\n",
    "pred = rf.predict_proba(X_test[selected_features])\n",
    "print('Random Forests roc-auc: {}'.format(roc_auc_score(y_test, pred[:, 1])))\n",
    "\n",
    "print('Validation set')\n",
    "pred = rf.predict_proba(X_val[selected_features])\n",
    "print('Random Forests roc-auc: {}'.format(roc_auc_score(y_val, pred[:, 1])))"
   ]
  },
  {
   "cell_type": "markdown",
   "metadata": {},
   "source": [
    "### Feature Selection by Random Shuffling"
   ]
  },
  {
   "cell_type": "code",
   "execution_count": 31,
   "metadata": {},
   "outputs": [
    {
     "data": {
      "text/plain": [
       "SelectByShuffling(estimator=RandomForestClassifier(max_depth=2, n_estimators=50,\n",
       "                                                   n_jobs=-1),\n",
       "                  threshold=0)"
      ]
     },
     "execution_count": 31,
     "metadata": {},
     "output_type": "execute_result"
    }
   ],
   "source": [
    "# Takes 1 min to run - You can use this procedure with any machine learning algorithm\n",
    "\n",
    "rf = RandomForestClassifier(n_estimators=50, max_depth=2, n_jobs=-1)\n",
    "\n",
    "sel = SelectByShuffling(\n",
    "    variables=None, # automatically examine all numerical variables\n",
    "    estimator=rf, # the ML model\n",
    "    scoring='roc_auc', # the metric to evaluate\n",
    "    threshold=0,# the maximum performance drop allowed to select the feature\n",
    "    cv=3, # cross validation\n",
    ")\n",
    "\n",
    "sel.fit(X_train, y_train)\n"
   ]
  },
  {
   "cell_type": "code",
   "execution_count": 32,
   "metadata": {},
   "outputs": [
    {
     "data": {
      "text/plain": [
       "0.6329201664908894"
      ]
     },
     "execution_count": 32,
     "metadata": {},
     "output_type": "execute_result"
    }
   ],
   "source": [
    "sel.initial_model_performance_ # performance of model trained with all features"
   ]
  },
  {
   "cell_type": "code",
   "execution_count": 33,
   "metadata": {},
   "outputs": [],
   "source": [
    "# pd.Series(sel.performance_drifts_).sort_values(ascending=False).plot.bar(figsize=(16,6));"
   ]
  },
  {
   "cell_type": "code",
   "execution_count": 34,
   "metadata": {},
   "outputs": [
    {
     "name": "stdout",
     "output_type": "stream",
     "text": [
      "340\n"
     ]
    },
    {
     "data": {
      "text/plain": [
       "((2200, 54), (550, 54))"
      ]
     },
     "execution_count": 34,
     "metadata": {},
     "output_type": "execute_result"
    }
   ],
   "source": [
    "# features that will be removed\n",
    "\n",
    "print(len(sel.features_to_drop_))\n",
    "# remove features\n",
    "\n",
    "X_train = sel.transform(X_train)\n",
    "X_test = sel.transform(X_test)\n",
    "X_val = sel.transform(X_val)\n",
    "\n",
    "X_train.shape, X_test.shape"
   ]
  },
  {
   "cell_type": "code",
   "execution_count": 35,
   "metadata": {},
   "outputs": [
    {
     "name": "stdout",
     "output_type": "stream",
     "text": [
      "train auc score:  0.7212309622435047\n",
      "test auc score:  0.785225003636556\n",
      "Validation auc score:  0.6384180790960452\n"
     ]
    }
   ],
   "source": [
    "rf.fit(X_train, y_train)\n",
    "print( 'train auc score: ',roc_auc_score(y_train, (rf.predict_proba(X_train))[:,1]))\n",
    "print('test auc score: ', roc_auc_score(y_test, (rf.predict_proba(X_test))[:, 1]))\n",
    "print('Validation auc score: ', roc_auc_score(y_val, (rf.predict_proba(X_val))[:, 1]))"
   ]
  },
  {
   "cell_type": "code",
   "execution_count": 36,
   "metadata": {},
   "outputs": [
    {
     "data": {
      "text/plain": [
       "Index(['lumbermovingaverages MA100', 'lumbermovingaverages MA50',\n",
       "       'Investingdotcom USMBAPurchaseIndex',\n",
       "       'monthlyrealtor pendinglistingcountyy',\n",
       "       'monthlyrealtor mediansquarefeet', 'monthlyrealtor mediansquarefeetyy',\n",
       "       'TreasuryTerms ACMY10', 'Yahoo CFPTO',\n",
       "       'FREDDaily Market Yield on US Treasury Securities at 30Year Constant Maturity Quoted on an Investment Basis',\n",
       "       'FREDDaily US Dollars to Euro Spot Exchange Rate',\n",
       "       'FREDMonthly Personal Saving Rate',\n",
       "       'New Residential Construction COMPLETIONSTOTAL',\n",
       "       'New Residential Construction PERMITSTOTAL',\n",
       "       'Construction Spending EducationalPrivate',\n",
       "       'LumberTracklogimportus NonCanadianSources',\n",
       "       'LumberTracklumberexportus ToChina',\n",
       "       'LumberTracknorthamericanshipment Coast',\n",
       "       'LumberTracknorthamericanorder Other',\n",
       "       'LumberTracknorthamericaninventory Inland',\n",
       "       'WesternLumberorderswestern Inland',\n",
       "       'WesternLumberunfilledorderwestern CalRW',\n",
       "       'WesternLumberinventorywestern Coast',\n",
       "       'WesternLumberinventorywestern WesternTotal',\n",
       "       'WesternLumberaveragepriceisland DouglasFirandLarchGreen',\n",
       "       'WesternLumberaveragepriceislanddouglas No2andBtrRL2x10',\n",
       "       'WesternLumberaveragepriceponderasopine No3ShopRW54',\n",
       "       'CFTClegacy NoncommercialPositionsShortAll',\n",
       "       'CFTClegacy NonreportablePositionsLongAll',\n",
       "       'CFTClegacy PerofOINoncommercialShortAll',\n",
       "       'CFTClegacy TradersNoncommercialSpreadingAll',\n",
       "       'FEALumberAdvisorvalue Softwood Lumber Consumption MultiFamily Construction Canada',\n",
       "       'FEALumberAdvisorvalue Softwood Lumber Dealer StocksConsumption Ratio United States',\n",
       "       'FEALumberAdvisorvalue Softwood Lumber Production North America',\n",
       "       'FEALumberAdvisorvalue Softwood Lumber Exports United States',\n",
       "       'TAvolumefi', 'TAvolumeem', 'TAvolumevpt', 'TAvolatilitykcp',\n",
       "       'TAvolatilitykchi', 'TAvolatilitykcli', 'TAvolatilityatr',\n",
       "       'TAtrendmacddiff', 'TAtrendadxpos', 'TAtrendadxneg', 'TAtrendcci',\n",
       "       'TAtrendaroonup', 'TAtrendaroondown', 'TAtrendaroonind',\n",
       "       'TAmomentumstochrsi', 'TAmomentumstochrsik', 'TAmomentumuo',\n",
       "       'TAmomentumstochsignal', 'TAmomentumroc', 'TAothersdr'],\n",
       "      dtype='object')"
      ]
     },
     "execution_count": 36,
     "metadata": {},
     "output_type": "execute_result"
    }
   ],
   "source": [
    "X_train.columns"
   ]
  },
  {
   "cell_type": "markdown",
   "metadata": {},
   "source": [
    "### Recursive Feature Elimination"
   ]
  },
  {
   "cell_type": "code",
   "execution_count": 37,
   "metadata": {},
   "outputs": [],
   "source": [
    "model = GradientBoostingClassifier(\n",
    "    n_estimators=10,\n",
    "    max_depth=2,\n",
    "    random_state=10,\n",
    ")"
   ]
  },
  {
   "cell_type": "code",
   "execution_count": 5,
   "metadata": {},
   "outputs": [
    {
     "ename": "NameError",
     "evalue": "name 'model' is not defined",
     "output_type": "error",
     "traceback": [
      "\u001b[1;31m---------------------------------------------------------------------------\u001b[0m",
      "\u001b[1;31mNameError\u001b[0m                                 Traceback (most recent call last)",
      "\u001b[1;32mc:\\source\\2x4_data\\app\\feature_selection\\feature_selection.ipynb Cell 69'\u001b[0m in \u001b[0;36m<module>\u001b[1;34m\u001b[0m\n\u001b[0;32m      <a href='vscode-notebook-cell:/c%3A/source/2x4_data/app/feature_selection/feature_selection.ipynb#ch0000157?line=0'>1</a>\u001b[0m \u001b[39m# NOT WORKING\u001b[39;00m\n\u001b[0;32m      <a href='vscode-notebook-cell:/c%3A/source/2x4_data/app/feature_selection/feature_selection.ipynb#ch0000157?line=2'>3</a>\u001b[0m sel \u001b[39m=\u001b[39m RecursiveFeatureElimination(\n\u001b[0;32m      <a href='vscode-notebook-cell:/c%3A/source/2x4_data/app/feature_selection/feature_selection.ipynb#ch0000157?line=3'>4</a>\u001b[0m     variables\u001b[39m=\u001b[39m\u001b[39mNone\u001b[39;00m, \u001b[39m# automatically evaluate all numerical variables\u001b[39;00m\n\u001b[1;32m----> <a href='vscode-notebook-cell:/c%3A/source/2x4_data/app/feature_selection/feature_selection.ipynb#ch0000157?line=4'>5</a>\u001b[0m     estimator \u001b[39m=\u001b[39m model, \u001b[39m# the ML model\u001b[39;00m\n\u001b[0;32m      <a href='vscode-notebook-cell:/c%3A/source/2x4_data/app/feature_selection/feature_selection.ipynb#ch0000157?line=5'>6</a>\u001b[0m     scoring \u001b[39m=\u001b[39m \u001b[39m'\u001b[39m\u001b[39mroc_auc\u001b[39m\u001b[39m'\u001b[39m, \u001b[39m# the metric we want to evalute\u001b[39;00m\n\u001b[0;32m      <a href='vscode-notebook-cell:/c%3A/source/2x4_data/app/feature_selection/feature_selection.ipynb#ch0000157?line=6'>7</a>\u001b[0m     threshold \u001b[39m=\u001b[39m \u001b[39m0.0005\u001b[39m, \u001b[39m# the maximum performance drop allowed to remove a feature\u001b[39;00m\n\u001b[0;32m      <a href='vscode-notebook-cell:/c%3A/source/2x4_data/app/feature_selection/feature_selection.ipynb#ch0000157?line=7'>8</a>\u001b[0m     cv\u001b[39m=\u001b[39m\u001b[39m2\u001b[39m, \u001b[39m# cross-validation\u001b[39;00m\n\u001b[0;32m      <a href='vscode-notebook-cell:/c%3A/source/2x4_data/app/feature_selection/feature_selection.ipynb#ch0000157?line=8'>9</a>\u001b[0m )\n",
      "\u001b[1;31mNameError\u001b[0m: name 'model' is not defined"
     ]
    }
   ],
   "source": [
    "# NOT WORKING\n",
    "\n",
    "sel = RecursiveFeatureElimination(\n",
    "    variables=None, # automatically evaluate all numerical variables\n",
    "    estimator = model, # the ML model\n",
    "    scoring = 'roc_auc', # the metric we want to evalute\n",
    "    threshold = 0.0005, # the maximum performance drop allowed to remove a feature\n",
    "    cv=2, # cross-validation\n",
    ")\n",
    "\n",
    "# this may take quite a while, because\n",
    "# we are building a lot of models with cross-validation\n",
    "# sel.fit(X_train, y_train)"
   ]
  },
  {
   "cell_type": "code",
   "execution_count": null,
   "metadata": {},
   "outputs": [],
   "source": [
    "sel.initial_model_performance_"
   ]
  },
  {
   "cell_type": "code",
   "execution_count": null,
   "metadata": {},
   "outputs": [],
   "source": [
    "# performance of model trained using all features\n",
    "sel.initial_model_performance_"
   ]
  },
  {
   "cell_type": "code",
   "execution_count": null,
   "metadata": {},
   "outputs": [],
   "source": [
    "# importance of all features based of initial model\n",
    "sel.feature_importances_.plot.bar(figsize=(20,6))\n",
    "plt.xlabel('Features')\n",
    "plt.ylabel('Importance')\n",
    "plt.show()"
   ]
  },
  {
   "cell_type": "code",
   "execution_count": null,
   "metadata": {},
   "outputs": [],
   "source": [
    "pd.Series(sel.performance_drifts_).plot.bar(figsize=(20,6))\n",
    "plt.xlabel('Features')\n",
    "plt.ylabel('Performance change when feature was added')\n",
    "plt.show()"
   ]
  },
  {
   "cell_type": "code",
   "execution_count": null,
   "metadata": {},
   "outputs": [],
   "source": [
    "# Number of features that will be removed\n",
    "\n",
    "len(sel.features_to_drop_)"
   ]
  },
  {
   "cell_type": "code",
   "execution_count": null,
   "metadata": {},
   "outputs": [],
   "source": []
  },
  {
   "cell_type": "code",
   "execution_count": null,
   "metadata": {},
   "outputs": [],
   "source": []
  },
  {
   "cell_type": "markdown",
   "metadata": {},
   "source": [
    "### Random Forest"
   ]
  },
  {
   "cell_type": "code",
   "execution_count": null,
   "metadata": {},
   "outputs": [],
   "source": [
    "features = list(X_train.columns)\n",
    "rf = RandomForestClassifier(n_estimators=200, max_depth=3)\n",
    "rf.fit(X_train[features].fillna(0), y_train)\n",
    "\n",
    "importance = pd.concat([pd.Series(features),pd.Series(rf.feature_importances_)], axis=1)\n",
    "importance.columns = ['feature', 'importance']\n",
    "importance.sort_values(by=['importance'], ascending=False, inplace=True)\n",
    "y_pred = rf.predict(X_test[features].fillna(0))\n",
    "y_valid_pred = rf.predict(X_val[features].fillna(0))\n",
    "\n",
    "print(\"Test Accuracy:\", accuracy_score(y_test.fillna(0), y_pred))\n",
    "print(\"Validation Accuracy:\", accuracy_score(y_val .fillna(0), y_valid_pred))"
   ]
  },
  {
   "cell_type": "markdown",
   "metadata": {},
   "source": [
    "### Compare the performance in machine learning algorithms"
   ]
  },
  {
   "cell_type": "code",
   "execution_count": null,
   "metadata": {},
   "outputs": [],
   "source": [
    "X_train_basic_filter.shape, X_test_basic_filter.shape, X_train.shape, X_test.shape"
   ]
  },
  {
   "cell_type": "code",
   "execution_count": null,
   "metadata": {},
   "outputs": [],
   "source": [
    "\n",
    "def run_randomForests(X_train, X_test, y_train, y_test):\n",
    "\n",
    "    rf = RandomForestClassifier(n_estimators=300,  max_depth=3, n_jobs=-1)\n",
    "    rf.fit(X_train, y_train)\n",
    "\n",
    "    print('Train set')\n",
    "    pred = rf.predict_proba(X_train)\n",
    "    print('Random Forests roc-auc: {}'.format(roc_auc_score(y_train, pred[:, 1])))\n",
    "\n",
    "    print('Test set')\n",
    "    pred = rf.predict_proba(X_test)\n",
    "    print('Random Forests roc-auc: {}'.format(roc_auc_score(y_test, pred[:, 1])))"
   ]
  },
  {
   "cell_type": "code",
   "execution_count": null,
   "metadata": {},
   "outputs": [],
   "source": [
    "# filter methods - basic\n",
    "run_randomForests(X_train_basic_filter,X_test_basic_filter,y_train, y_test)"
   ]
  },
  {
   "cell_type": "code",
   "execution_count": null,
   "metadata": {},
   "outputs": [],
   "source": [
    "# Final model\n",
    "run_randomForests(X_train, X_test, y_train, y_test)"
   ]
  },
  {
   "cell_type": "markdown",
   "metadata": {},
   "source": [
    "### Logistic Regression"
   ]
  },
  {
   "cell_type": "code",
   "execution_count": null,
   "metadata": {},
   "outputs": [],
   "source": [
    "# create a function to build logistic regression and compare performance in train and test set\n",
    "\n",
    "from sklearn.metrics import confusion_matrix\n",
    "\n",
    "def run_logistic(X_train, X_test, y_train, y_test):\n",
    "    \n",
    "    # function to train and test the performance of logistic regression\n",
    "    logit = LogisticRegression(penalty='l1', random_state=44, max_iter=1000, solver='liblinear')\n",
    "    logit.fit(X_train, y_train)\n",
    "    print('Train set')\n",
    "    pred = logit.predict_proba(X_train)\n",
    "    print('Logistic Regression roc-auc: {}'.format(roc_auc_score(y_train, pred[:,1])))\n",
    "    print('Test set')\n",
    "    pred = logit.predict_proba(X_test)\n",
    "    print('Logistic Regression roc-auc: {}'.format(roc_auc_score(y_test, pred[:,1])))\n",
    "\n",
    "scaler = StandardScaler().fit(X_train)\n",
    "\n",
    "run_logistic(scaler.transform(X_train),\n",
    "             scaler.transform(X_test),\n",
    "                  y_train, y_test)"
   ]
  },
  {
   "cell_type": "code",
   "execution_count": null,
   "metadata": {},
   "outputs": [],
   "source": []
  },
  {
   "cell_type": "code",
   "execution_count": null,
   "metadata": {},
   "outputs": [],
   "source": []
  },
  {
   "cell_type": "code",
   "execution_count": null,
   "metadata": {},
   "outputs": [],
   "source": []
  },
  {
   "cell_type": "markdown",
   "metadata": {},
   "source": [
    "### \n",
    "<div style=\"color: DarkBlue; font-size:22px;\" class=\"alert alert-block alert-warning\"> \n",
    "<b>Pipelines:</b> Final Code will look like this but for now work through issues above \n",
    "</div>"
   ]
  },
  {
   "cell_type": "code",
   "execution_count": null,
   "metadata": {},
   "outputs": [],
   "source": [
    "pipe = Pipeline([\n",
    "    ('constant', DropConstantFeatures(tol=0.998)),\n",
    "    ('duplicated', DropDuplicateFeatures()),\n",
    "    ('correlation', SmartCorrelatedSelection(method = 'spearman' ,selection_method='variance')),])\n",
    "\n",
    "pipe.fit(X_train)\n",
    "\n",
    "# remove features\n",
    "X_train = pipe.transform(X_train)\n",
    "X_test = pipe.transform(X_test)\n",
    "X_val = pipe.transform(X_val)\n",
    "\n",
    "X_train.shape, X_test.shape, X_val.shape\n"
   ]
  },
  {
   "cell_type": "code",
   "execution_count": null,
   "metadata": {},
   "outputs": [],
   "source": [
    "print(len(pipe.named_steps['constant'].features_to_drop_))\n",
    "pipe.named_steps['duplicated'].features_to_drop_"
   ]
  },
  {
   "cell_type": "code",
   "execution_count": null,
   "metadata": {},
   "outputs": [],
   "source": []
  },
  {
   "cell_type": "code",
   "execution_count": null,
   "metadata": {},
   "outputs": [],
   "source": []
  },
  {
   "cell_type": "markdown",
   "metadata": {},
   "source": [
    "# NOT USING - for reference"
   ]
  },
  {
   "cell_type": "markdown",
   "metadata": {},
   "source": [
    "### Correlated Features - Brute Force approach"
   ]
  },
  {
   "cell_type": "code",
   "execution_count": null,
   "metadata": {},
   "outputs": [],
   "source": [
    "def correlation(dataset, threshold):\n",
    "    \n",
    "    col_corr = set()\n",
    "    corr_matrix = dataset.corr()\n",
    "    \n",
    "    for i in range(len(corr_matrix.columns)):\n",
    "        \n",
    "        for j in range(i):\n",
    "            \n",
    "            if abs(corr_matrix.iloc[i, j]) > threshold: # we are interested in absolute coeff value\n",
    "             \n",
    "                print(abs(corr_matrix.iloc[i, j]),\":\", corr_matrix.columns[i], \"<< - >>\", corr_matrix.columns[j])\n",
    "                colname = corr_matrix.columns[j]\n",
    "                \n",
    "                # and add it to our correlated set\n",
    "                col_corr.add(colname)\n",
    "                \n",
    "    return col_corr\n",
    "\n",
    "# corr_features = correlation(X_train, 0.9)\n",
    "# len(set(corr_features))\n"
   ]
  },
  {
   "cell_type": "code",
   "execution_count": null,
   "metadata": {},
   "outputs": [],
   "source": [
    "# corr_features = correlation(X_train, 0.9)"
   ]
  },
  {
   "cell_type": "markdown",
   "metadata": {},
   "source": [
    "### Correlated Features - Second Approach"
   ]
  },
  {
   "cell_type": "code",
   "execution_count": null,
   "metadata": {},
   "outputs": [],
   "source": [
    "corrmat = X_train.corr()\n",
    "corrmat = corrmat.abs().unstack() # absolute value of corr coef\n",
    "corrmat = corrmat.sort_values(ascending=False)\n",
    "corrmat = corrmat[corrmat >= 0.9]\n",
    "corrmat = corrmat[corrmat < 1] # Not Interested in the correlation with 1 since will be with the same variable\n",
    "corrmat = pd.DataFrame(corrmat).reset_index()\n",
    "corrmat.columns = ['feature1', 'feature2', 'corr']\n",
    "corrmat.head()"
   ]
  },
  {
   "cell_type": "code",
   "execution_count": null,
   "metadata": {},
   "outputs": [],
   "source": [
    "grouped_feature_ls = []\n",
    "correlated_groups = []\n",
    "\n",
    "for feature in corrmat.feature1.unique():\n",
    "    \n",
    "    if feature not in grouped_feature_ls:\n",
    "\n",
    "        # find all features correlated to a single feature\n",
    "        correlated_block = corrmat[corrmat.feature1 == feature]\n",
    "        grouped_feature_ls = grouped_feature_ls + list(\n",
    "            correlated_block.feature2.unique()) + [feature]\n",
    "\n",
    "        # append the block of features to the list\n",
    "        correlated_groups.append(correlated_block)\n",
    "\n",
    "print('found {} correlated groups'.format(len(correlated_groups)))\n",
    "print('out of {} total features'.format(X_train.shape[1]))\n",
    "\n"
   ]
  },
  {
   "cell_type": "code",
   "execution_count": null,
   "metadata": {},
   "outputs": [],
   "source": [
    "# for group in correlated_groups:\n",
    "#     print(group)\n",
    "#     print()"
   ]
  },
  {
   "cell_type": "code",
   "execution_count": null,
   "metadata": {},
   "outputs": [],
   "source": [
    "#Choose Group Index\n",
    "group_index = 1\n",
    "\n",
    "group = correlated_groups[group_index]\n",
    "var = group.feature1.unique()[0]\n",
    "\n",
    "# add all features of the group to a list\n",
    "features = list(group['feature2'].unique())+[var]\n",
    "\n",
    "rf = RandomForestClassifier(n_estimators=200, random_state=39, max_depth=4)\n",
    "rf.fit(X_train[features].fillna(0), y_train)\n",
    "\n",
    "importance = pd.concat([pd.Series(features),pd.Series(rf.feature_importances_)], axis=1)\n",
    "importance.columns = ['feature', 'importance']\n",
    "\n",
    "print(var)\n",
    "importance.sort_values(by='importance', ascending=False)\n"
   ]
  },
  {
   "cell_type": "code",
   "execution_count": null,
   "metadata": {},
   "outputs": [],
   "source": [
    "# for feature in group['feature2']:\n",
    "#     plt.scatter(X_train[var], X_train[feature])\n",
    "#     plt.xlabel(feature)\n",
    "#     plt.ylabel(var)\n",
    "#     plt.show()"
   ]
  },
  {
   "cell_type": "markdown",
   "metadata": {},
   "source": [
    "### Just an example to show one group of how smart correlation works"
   ]
  },
  {
   "cell_type": "code",
   "execution_count": null,
   "metadata": {},
   "outputs": [],
   "source": [
    "# import warnings\n",
    "# warnings.filterwarnings(\"ignore\")\n",
    "\n",
    "group = sel.correlated_feature_sets_[0]\n",
    "\n",
    "# build random forest with cross validation for each feature\n",
    "for f in group:\n",
    "    \n",
    "    model = cross_validate(\n",
    "        rf,\n",
    "        X_train[f].to_frame(),\n",
    "        y_train,\n",
    "        cv=3,\n",
    "        return_estimator=False,\n",
    "        scoring='accuracy',\n",
    "    )\n",
    "\n",
    "#  scoring='roc_auc' does not support categorical data.\n",
    "\n",
    "    print(f, model[\"test_score\"].mean())"
   ]
  },
  {
   "cell_type": "markdown",
   "metadata": {},
   "source": [
    "### Bottom"
   ]
  },
  {
   "cell_type": "code",
   "execution_count": null,
   "metadata": {},
   "outputs": [],
   "source": [
    "\n"
   ]
  },
  {
   "cell_type": "code",
   "execution_count": null,
   "metadata": {},
   "outputs": [],
   "source": []
  },
  {
   "cell_type": "code",
   "execution_count": null,
   "metadata": {},
   "outputs": [],
   "source": []
  },
  {
   "cell_type": "code",
   "execution_count": null,
   "metadata": {},
   "outputs": [],
   "source": []
  },
  {
   "cell_type": "code",
   "execution_count": null,
   "metadata": {},
   "outputs": [],
   "source": []
  },
  {
   "cell_type": "code",
   "execution_count": null,
   "metadata": {},
   "outputs": [],
   "source": []
  },
  {
   "cell_type": "code",
   "execution_count": null,
   "metadata": {},
   "outputs": [],
   "source": []
  }
 ],
 "metadata": {
  "interpreter": {
   "hash": "76ed5d48e058170b27340c105dd5e7527dd13aa6b3ab779e1e670a0e63feffe0"
  },
  "kernelspec": {
   "display_name": "Python 3.10.2 ('venv': venv)",
   "language": "python",
   "name": "python3"
  },
  "language_info": {
   "codemirror_mode": {
    "name": "ipython",
    "version": 3
   },
   "file_extension": ".py",
   "mimetype": "text/x-python",
   "name": "python",
   "nbconvert_exporter": "python",
   "pygments_lexer": "ipython3",
   "version": "3.10.2"
  },
  "orig_nbformat": 4
 },
 "nbformat": 4,
 "nbformat_minor": 2
}
