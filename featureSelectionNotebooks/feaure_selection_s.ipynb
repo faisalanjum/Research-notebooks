{
 "cells": [
  {
   "cell_type": "code",
   "execution_count": null,
   "metadata": {},
   "outputs": [],
   "source": []
  },
  {
   "cell_type": "markdown",
   "metadata": {},
   "source": [
    "### Imports"
   ]
  },
  {
   "cell_type": "code",
   "execution_count": 2,
   "metadata": {},
   "outputs": [],
   "source": [
    "import pandas as pd\n",
    "import numpy as np\n",
    "from sklearn.model_selection import train_test_split\n",
    "from sklearn.pipeline import Pipeline\n",
    "from feature_engine.selection import DropDuplicateFeatures, DropConstantFeatures"
   ]
  },
  {
   "cell_type": "markdown",
   "metadata": {},
   "source": [
    "### Reading Data from Excel daily_dataframe_main"
   ]
  },
  {
   "cell_type": "code",
   "execution_count": 3,
   "metadata": {},
   "outputs": [],
   "source": [
    "# Takes 1 min 30 secs to run\n",
    "Variables = pd.read_excel('daily_dataframe_main.xlsx', header=[0,1], sheet_name='Variables',index_col=0)\n",
    "Response = pd.read_excel('daily_dataframe_main.xlsx',sheet_name= 'Response' ,index_col=0)\n",
    "\n",
    "# Just using Unadjusted data for now\n",
    "Response = Response[['LB_Close','Close_ret','Close_Up_Down']]"
   ]
  },
  {
   "cell_type": "code",
   "execution_count": 18,
   "metadata": {},
   "outputs": [
    {
     "name": "stdout",
     "output_type": "stream",
     "text": [
      "Lumber_OHLCV              LB_High                                                      1\n",
      "                          LB_Low                                                       1\n",
      "                          LB_Close                                                     1\n",
      "                          LB_Volume                                                11413\n",
      "                          LB_openInterest                                          11413\n",
      "                                                                                   ...  \n",
      "FEA_Lumber_Advisor_value  Softwood Lumber Dealer Stocks, North America             11123\n",
      "                          Softwood Lumber New Orders, United States                11123\n",
      "                          Softwood Lumber Unfilled Orders, United States           11123\n",
      "                          Lumber Price, Random Lengths Framing Lumber Composite    11123\n",
      "                          Lumber Price, Western SPF, 2x4 2&Btr.                    11123\n",
      "Length: 662, dtype: int64\n"
     ]
    }
   ],
   "source": []
  },
  {
   "cell_type": "markdown",
   "metadata": {},
   "source": [
    "### CHECKING FOR FETURES IN VARIABLES WITH HIGH NULL Count(more then 5% of data points)"
   ]
  },
  {
   "cell_type": "code",
   "execution_count": 20,
   "metadata": {},
   "outputs": [
    {
     "name": "stdout",
     "output_type": "stream",
     "text": [
      "total number of variables with null values: 590\n"
     ]
    }
   ],
   "source": [
    "variables_with_null=[feature for feature in Variables.columns if Variables[feature].isnull().sum()>Variables.shape[0]*0.05]\n",
    "print(\"total number of variables with null values:\",len(variables_with_null))"
   ]
  },
  {
   "cell_type": "markdown",
   "metadata": {},
   "source": [
    "### checking OHLCV variables with null values"
   ]
  },
  {
   "cell_type": "code",
   "execution_count": 27,
   "metadata": {},
   "outputs": [
    {
     "name": "stdout",
     "output_type": "stream",
     "text": [
      "total number of variables with high null values: 2\n",
      "['LB_Volume', 'LB_openInterest']\n"
     ]
    }
   ],
   "source": [
    "\n",
    "ohlcv_df=Variables[\"Lumber_OHLCV\"]\n",
    "columns_with_high_null_values=[feature for feature in ohlcv_df.columns if ohlcv_df[feature].isnull().sum()>ohlcv_df.shape[0]*0.05]\n",
    "print(\"total number of variables with high null values:\",len(columns_with_high_null_values))\n",
    "print(columns_with_high_null_values)\n",
    "\n",
    "# ohlcv_null_df=ohlcv_df[columns_with_high_null_values]\n",
    "# ohlcv_null_df.dropna(inplace=True)\n",
    "\n",
    "# ohlcv_null_df.head(3).append(ohlcv_null_df.tail(3))\n"
   ]
  },
  {
   "cell_type": "markdown",
   "metadata": {},
   "source": [
    "# Observations with ohlvc\n",
    "\n",
    "### 1, two columns LB_Volume and LB_openinterest show high volumne of null data.\n",
    "### 2, data source of this data is barchart\n",
    "### 3,dates before 2000-12-30 have 0 as value in orignal sheet Lumber_daily_prices with path (C:\\source\\2x4_data\\app\\data\\Barchart\\DailyDataDumpCME&NYMEX).\n"
   ]
  },
  {
   "cell_type": "markdown",
   "metadata": {},
   "source": [
    "# CHECKING FEA_Lumber_Advisor_value DATA "
   ]
  },
  {
   "cell_type": "code",
   "execution_count": 33,
   "metadata": {},
   "outputs": [
    {
     "name": "stdout",
     "output_type": "stream",
     "text": [
      "total number of variables with high null values: 63\n"
     ]
    },
    {
     "name": "stderr",
     "output_type": "stream",
     "text": [
      "C:\\Users\\Fanjum_cwp\\AppData\\Local\\Temp\\2\\ipykernel_3052\\2140808711.py:5: SettingWithCopyWarning: \n",
      "A value is trying to be set on a copy of a slice from a DataFrame\n",
      "\n",
      "See the caveats in the documentation: https://pandas.pydata.org/pandas-docs/stable/user_guide/indexing.html#returning-a-view-versus-a-copy\n",
      "  fea_lumber_advisory_df.dropna(inplace=True)\n",
      "C:\\Users\\Fanjum_cwp\\AppData\\Local\\Temp\\2\\ipykernel_3052\\2140808711.py:6: FutureWarning: The frame.append method is deprecated and will be removed from pandas in a future version. Use pandas.concat instead.\n",
      "  fea_lumber_advisory_df.head(3).append(fea_lumber_advisory_df.tail(3))\n"
     ]
    },
    {
     "data": {
      "text/html": [
       "<div>\n",
       "<style scoped>\n",
       "    .dataframe tbody tr th:only-of-type {\n",
       "        vertical-align: middle;\n",
       "    }\n",
       "\n",
       "    .dataframe tbody tr th {\n",
       "        vertical-align: top;\n",
       "    }\n",
       "\n",
       "    .dataframe thead th {\n",
       "        text-align: right;\n",
       "    }\n",
       "</style>\n",
       "<table border=\"1\" class=\"dataframe\">\n",
       "  <thead>\n",
       "    <tr style=\"text-align: right;\">\n",
       "      <th></th>\n",
       "      <th>Softwood Lumber Apparent Consumption, North America</th>\n",
       "      <th>Softwood Lumber Consumption, North America</th>\n",
       "      <th>Softwood Lumber Dealer Stocks/Consumption Ratio, North America</th>\n",
       "      <th>Softwood Lumber Apparent Consumption, United States</th>\n",
       "      <th>Softwood Lumber Apparent Consumption, Canada</th>\n",
       "      <th>Softwood Lumber Consumption, United States</th>\n",
       "      <th>Softwood Lumber Consumption, Canada</th>\n",
       "      <th>Softwood Lumber Consumption, Multi-Family Construction, United States</th>\n",
       "      <th>Softwood Lumber Consumption, Multi-Family Construction, Canada</th>\n",
       "      <th>Softwood Lumber Consumption, Single Family Construction, United States</th>\n",
       "      <th>...</th>\n",
       "      <th>Softwood Lumber Mill Inventory, Canada</th>\n",
       "      <th>Softwood Lumber Mill Inventory, North America</th>\n",
       "      <th>Softwood Lumber Unfilled Orders/Stocks Ratio, United States</th>\n",
       "      <th>Softwood Lumber Dealer Stocks, United States</th>\n",
       "      <th>Softwood Lumber Dealer Stocks, Canada</th>\n",
       "      <th>Softwood Lumber Dealer Stocks, North America</th>\n",
       "      <th>Softwood Lumber New Orders, United States</th>\n",
       "      <th>Softwood Lumber Unfilled Orders, United States</th>\n",
       "      <th>Lumber Price, Random Lengths Framing Lumber Composite</th>\n",
       "      <th>Lumber Price, Western SPF, 2x4 2&amp;Btr.</th>\n",
       "    </tr>\n",
       "  </thead>\n",
       "  <tbody>\n",
       "    <tr>\n",
       "      <th>2022-06-15</th>\n",
       "      <td>5.598671</td>\n",
       "      <td>5.113893</td>\n",
       "      <td>1.021126</td>\n",
       "      <td>4.796186</td>\n",
       "      <td>0.802485</td>\n",
       "      <td>4.468979</td>\n",
       "      <td>0.644913</td>\n",
       "      <td>0.201064</td>\n",
       "      <td>0.064577</td>\n",
       "      <td>1.371940</td>\n",
       "      <td>...</td>\n",
       "      <td>3.205541</td>\n",
       "      <td>6.284857</td>\n",
       "      <td>0.395654</td>\n",
       "      <td>4.575676</td>\n",
       "      <td>0.885783</td>\n",
       "      <td>5.461459</td>\n",
       "      <td>3.265734</td>\n",
       "      <td>1.218344</td>\n",
       "      <td>991.20</td>\n",
       "      <td>1083.0</td>\n",
       "    </tr>\n",
       "    <tr>\n",
       "      <th>2022-06-14</th>\n",
       "      <td>5.598671</td>\n",
       "      <td>5.113893</td>\n",
       "      <td>1.021126</td>\n",
       "      <td>4.796186</td>\n",
       "      <td>0.802485</td>\n",
       "      <td>4.468979</td>\n",
       "      <td>0.644913</td>\n",
       "      <td>0.201064</td>\n",
       "      <td>0.064577</td>\n",
       "      <td>1.371940</td>\n",
       "      <td>...</td>\n",
       "      <td>3.205541</td>\n",
       "      <td>6.284857</td>\n",
       "      <td>0.395654</td>\n",
       "      <td>4.575676</td>\n",
       "      <td>0.885783</td>\n",
       "      <td>5.461459</td>\n",
       "      <td>3.265734</td>\n",
       "      <td>1.218344</td>\n",
       "      <td>991.20</td>\n",
       "      <td>1083.0</td>\n",
       "    </tr>\n",
       "    <tr>\n",
       "      <th>2022-06-13</th>\n",
       "      <td>4.678540</td>\n",
       "      <td>4.765596</td>\n",
       "      <td>0.970133</td>\n",
       "      <td>4.345590</td>\n",
       "      <td>0.332950</td>\n",
       "      <td>4.204523</td>\n",
       "      <td>0.561073</td>\n",
       "      <td>0.181111</td>\n",
       "      <td>0.057165</td>\n",
       "      <td>1.282504</td>\n",
       "      <td>...</td>\n",
       "      <td>3.233000</td>\n",
       "      <td>6.363000</td>\n",
       "      <td>0.409265</td>\n",
       "      <td>4.248470</td>\n",
       "      <td>0.712688</td>\n",
       "      <td>4.961157</td>\n",
       "      <td>3.063000</td>\n",
       "      <td>1.281000</td>\n",
       "      <td>1309.75</td>\n",
       "      <td>1387.5</td>\n",
       "    </tr>\n",
       "    <tr>\n",
       "      <th>2010-01-16</th>\n",
       "      <td>3.085593</td>\n",
       "      <td>3.495998</td>\n",
       "      <td>1.827869</td>\n",
       "      <td>2.341612</td>\n",
       "      <td>0.743981</td>\n",
       "      <td>2.739963</td>\n",
       "      <td>0.756035</td>\n",
       "      <td>0.028078</td>\n",
       "      <td>0.028786</td>\n",
       "      <td>0.523643</td>\n",
       "      <td>...</td>\n",
       "      <td>2.449648</td>\n",
       "      <td>5.567648</td>\n",
       "      <td>0.430083</td>\n",
       "      <td>4.721378</td>\n",
       "      <td>1.268484</td>\n",
       "      <td>5.989862</td>\n",
       "      <td>1.759000</td>\n",
       "      <td>1.341000</td>\n",
       "      <td>244.50</td>\n",
       "      <td>210.0</td>\n",
       "    </tr>\n",
       "    <tr>\n",
       "      <th>2010-01-15</th>\n",
       "      <td>3.085593</td>\n",
       "      <td>3.495998</td>\n",
       "      <td>1.827869</td>\n",
       "      <td>2.341612</td>\n",
       "      <td>0.743981</td>\n",
       "      <td>2.739963</td>\n",
       "      <td>0.756035</td>\n",
       "      <td>0.028078</td>\n",
       "      <td>0.028786</td>\n",
       "      <td>0.523643</td>\n",
       "      <td>...</td>\n",
       "      <td>2.449648</td>\n",
       "      <td>5.567648</td>\n",
       "      <td>0.430083</td>\n",
       "      <td>4.721378</td>\n",
       "      <td>1.268484</td>\n",
       "      <td>5.989862</td>\n",
       "      <td>1.759000</td>\n",
       "      <td>1.341000</td>\n",
       "      <td>244.50</td>\n",
       "      <td>210.0</td>\n",
       "    </tr>\n",
       "    <tr>\n",
       "      <th>2010-01-14</th>\n",
       "      <td>3.085593</td>\n",
       "      <td>3.495998</td>\n",
       "      <td>1.827869</td>\n",
       "      <td>2.341612</td>\n",
       "      <td>0.743981</td>\n",
       "      <td>2.739963</td>\n",
       "      <td>0.756035</td>\n",
       "      <td>0.028078</td>\n",
       "      <td>0.028786</td>\n",
       "      <td>0.523643</td>\n",
       "      <td>...</td>\n",
       "      <td>2.449648</td>\n",
       "      <td>5.567648</td>\n",
       "      <td>0.430083</td>\n",
       "      <td>4.721378</td>\n",
       "      <td>1.268484</td>\n",
       "      <td>5.989862</td>\n",
       "      <td>1.759000</td>\n",
       "      <td>1.341000</td>\n",
       "      <td>244.50</td>\n",
       "      <td>210.0</td>\n",
       "    </tr>\n",
       "  </tbody>\n",
       "</table>\n",
       "<p>6 rows × 63 columns</p>\n",
       "</div>"
      ],
      "text/plain": [
       "            Softwood Lumber Apparent Consumption, North America  \\\n",
       "2022-06-15                                           5.598671     \n",
       "2022-06-14                                           5.598671     \n",
       "2022-06-13                                           4.678540     \n",
       "2010-01-16                                           3.085593     \n",
       "2010-01-15                                           3.085593     \n",
       "2010-01-14                                           3.085593     \n",
       "\n",
       "            Softwood Lumber Consumption, North America  \\\n",
       "2022-06-15                                    5.113893   \n",
       "2022-06-14                                    5.113893   \n",
       "2022-06-13                                    4.765596   \n",
       "2010-01-16                                    3.495998   \n",
       "2010-01-15                                    3.495998   \n",
       "2010-01-14                                    3.495998   \n",
       "\n",
       "            Softwood Lumber Dealer Stocks/Consumption Ratio, North America  \\\n",
       "2022-06-15                                           1.021126                \n",
       "2022-06-14                                           1.021126                \n",
       "2022-06-13                                           0.970133                \n",
       "2010-01-16                                           1.827869                \n",
       "2010-01-15                                           1.827869                \n",
       "2010-01-14                                           1.827869                \n",
       "\n",
       "            Softwood Lumber Apparent Consumption, United States  \\\n",
       "2022-06-15                                           4.796186     \n",
       "2022-06-14                                           4.796186     \n",
       "2022-06-13                                           4.345590     \n",
       "2010-01-16                                           2.341612     \n",
       "2010-01-15                                           2.341612     \n",
       "2010-01-14                                           2.341612     \n",
       "\n",
       "            Softwood Lumber Apparent Consumption, Canada  \\\n",
       "2022-06-15                                      0.802485   \n",
       "2022-06-14                                      0.802485   \n",
       "2022-06-13                                      0.332950   \n",
       "2010-01-16                                      0.743981   \n",
       "2010-01-15                                      0.743981   \n",
       "2010-01-14                                      0.743981   \n",
       "\n",
       "            Softwood Lumber Consumption, United States  \\\n",
       "2022-06-15                                    4.468979   \n",
       "2022-06-14                                    4.468979   \n",
       "2022-06-13                                    4.204523   \n",
       "2010-01-16                                    2.739963   \n",
       "2010-01-15                                    2.739963   \n",
       "2010-01-14                                    2.739963   \n",
       "\n",
       "            Softwood Lumber Consumption, Canada  \\\n",
       "2022-06-15                             0.644913   \n",
       "2022-06-14                             0.644913   \n",
       "2022-06-13                             0.561073   \n",
       "2010-01-16                             0.756035   \n",
       "2010-01-15                             0.756035   \n",
       "2010-01-14                             0.756035   \n",
       "\n",
       "            Softwood Lumber Consumption, Multi-Family Construction, United States  \\\n",
       "2022-06-15                                           0.201064                       \n",
       "2022-06-14                                           0.201064                       \n",
       "2022-06-13                                           0.181111                       \n",
       "2010-01-16                                           0.028078                       \n",
       "2010-01-15                                           0.028078                       \n",
       "2010-01-14                                           0.028078                       \n",
       "\n",
       "            Softwood Lumber Consumption, Multi-Family Construction, Canada  \\\n",
       "2022-06-15                                           0.064577                \n",
       "2022-06-14                                           0.064577                \n",
       "2022-06-13                                           0.057165                \n",
       "2010-01-16                                           0.028786                \n",
       "2010-01-15                                           0.028786                \n",
       "2010-01-14                                           0.028786                \n",
       "\n",
       "            Softwood Lumber Consumption, Single Family Construction, United States  \\\n",
       "2022-06-15                                           1.371940                        \n",
       "2022-06-14                                           1.371940                        \n",
       "2022-06-13                                           1.282504                        \n",
       "2010-01-16                                           0.523643                        \n",
       "2010-01-15                                           0.523643                        \n",
       "2010-01-14                                           0.523643                        \n",
       "\n",
       "            ...  Softwood Lumber Mill Inventory, Canada  \\\n",
       "2022-06-15  ...                                3.205541   \n",
       "2022-06-14  ...                                3.205541   \n",
       "2022-06-13  ...                                3.233000   \n",
       "2010-01-16  ...                                2.449648   \n",
       "2010-01-15  ...                                2.449648   \n",
       "2010-01-14  ...                                2.449648   \n",
       "\n",
       "            Softwood Lumber Mill Inventory, North America  \\\n",
       "2022-06-15                                       6.284857   \n",
       "2022-06-14                                       6.284857   \n",
       "2022-06-13                                       6.363000   \n",
       "2010-01-16                                       5.567648   \n",
       "2010-01-15                                       5.567648   \n",
       "2010-01-14                                       5.567648   \n",
       "\n",
       "            Softwood Lumber Unfilled Orders/Stocks Ratio, United States  \\\n",
       "2022-06-15                                           0.395654             \n",
       "2022-06-14                                           0.395654             \n",
       "2022-06-13                                           0.409265             \n",
       "2010-01-16                                           0.430083             \n",
       "2010-01-15                                           0.430083             \n",
       "2010-01-14                                           0.430083             \n",
       "\n",
       "            Softwood Lumber Dealer Stocks, United States  \\\n",
       "2022-06-15                                      4.575676   \n",
       "2022-06-14                                      4.575676   \n",
       "2022-06-13                                      4.248470   \n",
       "2010-01-16                                      4.721378   \n",
       "2010-01-15                                      4.721378   \n",
       "2010-01-14                                      4.721378   \n",
       "\n",
       "            Softwood Lumber Dealer Stocks, Canada  \\\n",
       "2022-06-15                               0.885783   \n",
       "2022-06-14                               0.885783   \n",
       "2022-06-13                               0.712688   \n",
       "2010-01-16                               1.268484   \n",
       "2010-01-15                               1.268484   \n",
       "2010-01-14                               1.268484   \n",
       "\n",
       "            Softwood Lumber Dealer Stocks, North America  \\\n",
       "2022-06-15                                      5.461459   \n",
       "2022-06-14                                      5.461459   \n",
       "2022-06-13                                      4.961157   \n",
       "2010-01-16                                      5.989862   \n",
       "2010-01-15                                      5.989862   \n",
       "2010-01-14                                      5.989862   \n",
       "\n",
       "            Softwood Lumber New Orders, United States  \\\n",
       "2022-06-15                                   3.265734   \n",
       "2022-06-14                                   3.265734   \n",
       "2022-06-13                                   3.063000   \n",
       "2010-01-16                                   1.759000   \n",
       "2010-01-15                                   1.759000   \n",
       "2010-01-14                                   1.759000   \n",
       "\n",
       "            Softwood Lumber Unfilled Orders, United States  \\\n",
       "2022-06-15                                        1.218344   \n",
       "2022-06-14                                        1.218344   \n",
       "2022-06-13                                        1.281000   \n",
       "2010-01-16                                        1.341000   \n",
       "2010-01-15                                        1.341000   \n",
       "2010-01-14                                        1.341000   \n",
       "\n",
       "            Lumber Price, Random Lengths Framing Lumber Composite  \\\n",
       "2022-06-15                                             991.20       \n",
       "2022-06-14                                             991.20       \n",
       "2022-06-13                                            1309.75       \n",
       "2010-01-16                                             244.50       \n",
       "2010-01-15                                             244.50       \n",
       "2010-01-14                                             244.50       \n",
       "\n",
       "            Lumber Price, Western SPF, 2x4 2&Btr.  \n",
       "2022-06-15                                 1083.0  \n",
       "2022-06-14                                 1083.0  \n",
       "2022-06-13                                 1387.5  \n",
       "2010-01-16                                  210.0  \n",
       "2010-01-15                                  210.0  \n",
       "2010-01-14                                  210.0  \n",
       "\n",
       "[6 rows x 63 columns]"
      ]
     },
     "execution_count": 33,
     "metadata": {},
     "output_type": "execute_result"
    }
   ],
   "source": [
    "fea_lumber_advisory_df=Variables[\"FEA_Lumber_Advisor_value\"]\n",
    "columns_with_high_null_values=[feature for feature in fea_lumber_advisory_df.columns if fea_lumber_advisory_df[feature].isnull().sum()>ohlcv_df.shape[0]*0.05]\n",
    "print(\"total number of variables with high null values:\",len(columns_with_high_null_values))\n",
    "# print(columns_with_high_null_values)\n",
    "fea_lumber_advisory_df.dropna(inplace=True)\n",
    "fea_lumber_advisory_df.head(3).append(fea_lumber_advisory_df.tail(3))\n",
    "\n",
    "\n"
   ]
  },
  {
   "cell_type": "markdown",
   "metadata": {},
   "source": [
    "# observation on fea_advisory_data\n",
    "\n",
    "### 63 features are having high rate of null values (i.e. greater then 5% to total data)\n",
    "\n",
    "### data is avaliable from 2010 since we are indexing it back to 1975 thatis the major reason behind NA values.\n",
    "\n",
    "### Forward or backword fill seems not to be a justified method as most of the values will be estimated values"
   ]
  },
  {
   "cell_type": "markdown",
   "metadata": {},
   "source": [
    "### \n",
    "<div style=\"color: DarkBlue; font-size:22px;\" class=\"alert alert-block alert-warning\"> \n",
    "<b>Check:</b> Backfilling and then frontfilling Variables DataFrame - Check if it makes sense\n",
    "</div>\n",
    "\n",
    "<div style=\"color:red\" class=\"alert alert-block alert-danger\"> high value of null values</div>\n"
   ]
  },
  {
   "cell_type": "code",
   "execution_count": null,
   "metadata": {},
   "outputs": [],
   "source": [
    "Variables.fillna(method='bfill', inplace=True)\n",
    "Variables.fillna(method='ffill', inplace=True)\n",
    "Variables.replace(to_replace=0, method='bfill', inplace=True) "
   ]
  },
  {
   "cell_type": "markdown",
   "metadata": {},
   "source": [
    "### Concatenating Variables & Response\n",
    "    -- Choose Response Variable here - LB_Close, Close_ret, Close_Up_Down, OR Adjusted Data from above"
   ]
  },
  {
   "cell_type": "code",
   "execution_count": null,
   "metadata": {},
   "outputs": [],
   "source": [
    "# Choose Response Variable here - LB_Close\tClose_ret\tClose_Up_Down OR Adjusted Data from above\n",
    "data = pd.concat([Variables, Response['LB_Close']], axis=1)"
   ]
  },
  {
   "cell_type": "markdown",
   "metadata": {},
   "source": [
    "### Remove Variables with all NaNs\n",
    "<div style=\"color: Green; font-size:22px;\" class=\"alert alert-block alert-warning\"> \n",
    "<b>To Do:</b> Check why these variables have NaNs\n",
    "</div>\n"
   ]
  },
  {
   "cell_type": "code",
   "execution_count": null,
   "metadata": {},
   "outputs": [
    {
     "data": {
      "text/plain": [
       "float64    653\n",
       "int64        2\n",
       "dtype: int64"
      ]
     },
     "metadata": {},
     "output_type": "display_data"
    }
   ],
   "source": [
    "data.drop(data.columns[data.isna().all()].to_list(), axis=1, inplace=True)\n",
    "pd.Series(data.dtypes.values).value_counts()"
   ]
  },
  {
   "cell_type": "markdown",
   "metadata": {},
   "source": [
    "### Splitting the Dataset in 3 - Training, Testing & Validation"
   ]
  },
  {
   "cell_type": "code",
   "execution_count": null,
   "metadata": {},
   "outputs": [
    {
     "data": {
      "text/plain": [
       "((15268, 654), (3817, 654), (15268,), (3817,), (166, 654), (166,))"
      ]
     },
     "metadata": {},
     "output_type": "display_data"
    }
   ],
   "source": [
    "Validation_date_start = '2022-01-01'\n",
    "Validation = data[data.index >= Validation_date_start]\n",
    "data = data[data.index < Validation_date_start]\n",
    "X_val,  y_val  = Validation.iloc[:,:-1], Validation.iloc[:,-1] # last column is the response variable\n",
    "\n",
    "X_train, X_test, y_train, y_test = train_test_split(\n",
    "    data.drop(labels=data.columns[-1], axis=1),  # drop the target\n",
    "    data['LB_Close'],  # just the target\n",
    "    test_size=0.20, shuffle = False)\n",
    "\n",
    "X_train.shape, X_test.shape, y_train.shape, y_test.shape, X_val.shape, y_val.shape"
   ]
  },
  {
   "cell_type": "markdown",
   "metadata": {},
   "source": [
    "### Remove all constant Variables\n",
    "<div style=\"color: Green; font-size:22px;\" class=\"alert alert-block alert-warning\"> \n",
    "<b>To Do:</b> Check why the following features have only one value\n",
    "</div>"
   ]
  },
  {
   "cell_type": "code",
   "execution_count": null,
   "metadata": {},
   "outputs": [
    {
     "name": "stdout",
     "output_type": "stream",
     "text": [
      "Total Constant Variables: 41\n",
      "[('Lumber_Track_lumber_import_us', 'To_China'), ('Western_Lumber_production_western', 'Day'), ('CFTC_disaggregated', 'Pct_of_Open_Interest_All')]\n",
      "First Variable contains all: [0.]\n"
     ]
    },
    {
     "data": {
      "text/plain": [
       "((15268, 613), (3817, 613))"
      ]
     },
     "metadata": {},
     "output_type": "display_data"
    }
   ],
   "source": [
    "NonConstantFeatures =DropConstantFeatures(tol=1, variables=None, missing_values='raise')\n",
    "NonConstantFeatures.fit(X_train)\n",
    "print(\"Total Constant Variables:\",len(NonConstantFeatures.features_to_drop_))\n",
    "print(NonConstantFeatures.features_to_drop_[:3])\n",
    "print(\"First Variable contains all:\",X_train[NonConstantFeatures.features_to_drop_[0]].unique())\n",
    "\n",
    "X_train = NonConstantFeatures.transform(X_train)\n",
    "X_test = NonConstantFeatures.transform(X_test)\n",
    "X_val = NonConstantFeatures.transform(X_val)\n",
    "\n",
    "X_train.shape, X_test.shape"
   ]
  },
  {
   "cell_type": "markdown",
   "metadata": {},
   "source": [
    "### Remove quasi-constant features - Last Line of this Segment"
   ]
  },
  {
   "cell_type": "code",
   "execution_count": null,
   "metadata": {},
   "outputs": [
    {
     "name": "stdout",
     "output_type": "stream",
     "text": [
      "Total Quasi Constant Variables: 14\n",
      "[('Investingdotcom', 'US_Mortgage_Market_Index'), ('Investingdotcom', 'US_MBA_Mortgage_Applications_WoW'), ('Weekly_realtor', 'median_days_on_market_by_day_yy'), ('Weekly_realtor', 'new_listing_share_yy (%)'), ('Canadian_Pacific', 'Primary Forest Prods'), ('Canadian_Pacific', 'Lumber & Wood Prods'), ('Canadian_Pacific', 'Pulp & Paper Prods'), ('Canadian_Pacific', 'Total Forest Products'), ('FRED_Monthly', 'Housing Affordability Index (Fixed)'), ('Lumber_Track_north_american_production', 'Cal_Coast'), ('Lumber_Track_north_american_shipment', 'Cal_Coast'), ('Lumber_Track_north_american_order', 'Cal_Coast'), ('Lumber_Track_north_american_unfilled_order', 'Cal_Coast'), ('Lumber_Track_north_american_inventory', 'Cal_Coast')]\n"
     ]
    }
   ],
   "source": [
    "# Percentage of observations showing each of the different values of the variable\n",
    "\n",
    "NonQuasiConstantFeatures = DropConstantFeatures(tol=0.90, variables=None, missing_values='raise')\n",
    "NonQuasiConstantFeatures.fit(X_train)\n",
    "print(\"Total Quasi Constant Variables:\",len(NonQuasiConstantFeatures.features_to_drop_))\n",
    "print(NonQuasiConstantFeatures.features_to_drop_)\n"
   ]
  },
  {
   "cell_type": "markdown",
   "metadata": {},
   "source": [
    "### \n",
    "<div style=\"color: DarkBlue; font-size:22px;\" class=\"alert alert-block alert-warning\"> \n",
    "<b>Check:</b> Not Removing FEW Quasi Constant Features for now as: \n",
    "</div>"
   ]
  },
  {
   "cell_type": "markdown",
   "metadata": {},
   "source": [
    "    1. Some typically have 1 value for most of the time such as US_MBA_Mortgage_Applications_WoW so not unusual.                \n",
    "    2. Some seem Important for now such as ('Canadian_Pacific', 'Lumber & Wood Prods')."
   ]
  },
  {
   "cell_type": "code",
   "execution_count": null,
   "metadata": {},
   "outputs": [
    {
     "name": "stdout",
     "output_type": "stream",
     "text": [
      "('Investingdotcom', 'US_Mortgage_Market_Index')\n",
      "340.5    0.926906\n",
      "325.9    0.000982\n",
      "863.9    0.000917\n",
      "425.6    0.000917\n",
      "518.7    0.000917\n",
      "478.7    0.000851\n",
      "588.4    0.000655\n",
      "505.3    0.000524\n",
      "623.8    0.000458\n",
      "569.8    0.000458\n",
      "Name: (Investingdotcom, US_Mortgage_Market_Index), dtype: float64\n",
      "\n",
      "\n",
      "('Investingdotcom', 'US_MBA_Mortgage_Applications_WoW')\n",
      " 0.029    0.969086\n",
      "-0.006    0.001572\n",
      "-0.025    0.001375\n",
      "-0.040    0.001375\n",
      " 0.017    0.000917\n",
      "-0.051    0.000917\n",
      "-0.022    0.000917\n",
      " 0.003    0.000917\n",
      " 0.021    0.000917\n",
      "-0.069    0.000917\n",
      "Name: (Investingdotcom, US_MBA_Mortgage_Applications_WoW), dtype: float64\n",
      "\n",
      "\n",
      "('Weekly_realtor', 'median_days_on_market_by_day_yy')\n",
      "-4.0     0.903589\n",
      "-6.0     0.014671\n",
      "-5.0     0.009170\n",
      "-2.0     0.008711\n",
      "-3.0     0.007794\n",
      "-7.0     0.005960\n",
      "-15.0    0.005043\n",
      "-1.0     0.004585\n",
      "-14.0    0.004126\n",
      " 4.0     0.003668\n",
      "Name: (Weekly_realtor, median_days_on_market_by_day_yy), dtype: float64\n",
      "\n",
      "\n",
      "('Weekly_realtor', 'new_listing_share_yy (%)')\n",
      " 0.5    0.900380\n",
      " 0.3    0.009628\n",
      " 0.4    0.007336\n",
      "-0.1    0.006419\n",
      "-0.2    0.006419\n",
      " 0.1    0.005960\n",
      " 1.2    0.005043\n",
      " 0.2    0.004585\n",
      " 0.7    0.004585\n",
      " 0.6    0.004126\n",
      "Name: (Weekly_realtor, new_listing_share_yy (%)), dtype: float64\n",
      "\n",
      "\n",
      "('Canadian_Pacific', 'Primary Forest Prods')\n",
      "42.0    0.906602\n",
      "36.0    0.003668\n",
      "35.0    0.003668\n",
      "32.0    0.002751\n",
      "25.0    0.002751\n",
      "38.0    0.002751\n",
      "39.0    0.002751\n",
      "15.0    0.002292\n",
      "33.0    0.002292\n",
      "55.0    0.002292\n",
      "Name: (Canadian_Pacific, Primary Forest Prods), dtype: float64\n",
      "\n",
      "\n",
      "('Canadian_Pacific', 'Lumber & Wood Prods')\n",
      "381.0    0.905227\n",
      "550.0    0.001834\n",
      "581.0    0.001834\n",
      "639.0    0.001375\n",
      "650.0    0.001375\n",
      "552.0    0.001375\n",
      "585.0    0.001375\n",
      "545.0    0.001375\n",
      "670.0    0.001375\n",
      "570.0    0.001375\n",
      "Name: (Canadian_Pacific, Lumber & Wood Prods), dtype: float64\n",
      "\n",
      "\n",
      "('Canadian_Pacific', 'Pulp & Paper Prods')\n",
      "793.0    0.905227\n",
      "757.0    0.002751\n",
      "732.0    0.002292\n",
      "799.0    0.002292\n",
      "783.0    0.001834\n",
      "865.0    0.001375\n",
      "847.0    0.001375\n",
      "817.0    0.001375\n",
      "749.0    0.001375\n",
      "708.0    0.001375\n",
      "Name: (Canadian_Pacific, Pulp & Paper Prods), dtype: float64\n",
      "\n",
      "\n",
      "('Canadian_Pacific', 'Total Forest Products')\n",
      "1216.0    0.905227\n",
      "1172.0    0.001834\n",
      "1484.0    0.001834\n",
      "1444.0    0.001375\n",
      "1425.0    0.001375\n",
      "1500.0    0.001375\n",
      "1429.0    0.001375\n",
      "1461.0    0.001375\n",
      "1565.0    0.001375\n",
      "1436.0    0.000917\n",
      "Name: (Canadian_Pacific, Total Forest Products), dtype: float64\n",
      "\n",
      "\n",
      "('FRED_Monthly', 'Housing Affordability Index (Fixed)')\n",
      "154.4    0.988538\n",
      "150.1    0.002030\n",
      "148.4    0.002030\n",
      "150.0    0.002030\n",
      "151.0    0.001965\n",
      "144.5    0.001965\n",
      "147.6    0.001441\n",
      "Name: (FRED_Monthly, Housing Affordability Index (Fixed)), dtype: float64\n",
      "\n",
      "\n",
      "('Lumber_Track_north_american_production', 'Cal_Coast')\n",
      "52.0    0.958606\n",
      "66.0    0.007991\n",
      "29.0    0.004061\n",
      "57.0    0.004061\n",
      "62.0    0.003995\n",
      "46.0    0.003864\n",
      "56.0    0.003340\n",
      "58.0    0.002030\n",
      "61.0    0.002030\n",
      "54.0    0.002030\n",
      "Name: (Lumber_Track_north_american_production, Cal_Coast), dtype: float64\n",
      "\n",
      "\n",
      "('Lumber_Track_north_american_shipment', 'Cal_Coast')\n",
      "58.0    0.948782\n",
      "61.0    0.006091\n",
      "54.0    0.006026\n",
      "52.0    0.004061\n",
      "57.0    0.003995\n",
      "51.0    0.003995\n",
      "48.0    0.003930\n",
      "53.0    0.003799\n",
      "60.0    0.003406\n",
      "62.0    0.002030\n",
      "Name: (Lumber_Track_north_american_shipment, Cal_Coast), dtype: float64\n",
      "\n",
      "\n",
      "('Lumber_Track_north_american_order', 'Cal_Coast')\n",
      "57.0    0.952777\n",
      "55.0    0.008056\n",
      "67.0    0.007336\n",
      "66.0    0.006026\n",
      "51.0    0.003995\n",
      "54.0    0.003995\n",
      "72.0    0.003995\n",
      "48.0    0.003930\n",
      "59.0    0.002030\n",
      "52.0    0.002030\n",
      "Name: (Lumber_Track_north_american_order, Cal_Coast), dtype: float64\n",
      "\n",
      "\n",
      "('Lumber_Track_north_american_unfilled_order', 'Cal_Coast')\n",
      "31.0    0.960768\n",
      "33.0    0.029277\n",
      "34.0    0.003995\n",
      "32.0    0.003995\n",
      "30.0    0.001965\n",
      "Name: (Lumber_Track_north_american_unfilled_order, Cal_Coast), dtype: float64\n",
      "\n",
      "\n",
      "('Lumber_Track_north_american_inventory', 'Cal_Coast')\n",
      "136.0    0.948782\n",
      "101.0    0.003995\n",
      "131.0    0.003995\n",
      "55.0     0.003995\n",
      "122.0    0.003995\n",
      "53.0     0.003864\n",
      "134.0    0.002030\n",
      "128.0    0.002030\n",
      "91.0     0.002030\n",
      "80.0     0.002030\n",
      "Name: (Lumber_Track_north_american_inventory, Cal_Coast), dtype: float64\n",
      "\n",
      "\n"
     ]
    }
   ],
   "source": [
    "for var in NonQuasiConstantFeatures.features_to_drop_:\n",
    "    print(var)\n",
    "    print(pd.DataFrame(X_train[var].value_counts(normalize=True)).iloc[:10,0])\n",
    "    print(\"\\n\")\n",
    "\n",
    "Not_Removing_Quasi_List = [('Investingdotcom', 'US_Mortgage_Market_Index'), ('Investingdotcom', 'US_MBA_Mortgage_Applications_WoW'),\n",
    "('Canadian_Pacific', 'Lumber & Wood Prods'), ('FRED_Monthly', 'Housing Affordability Index (Fixed)')]\n",
    "\n",
    "for var in Not_Removing_Quasi_List:\n",
    "    NonQuasiConstantFeatures.features_to_drop_.remove(var)"
   ]
  },
  {
   "cell_type": "code",
   "execution_count": null,
   "metadata": {},
   "outputs": [
    {
     "name": "stdout",
     "output_type": "stream",
     "text": [
      "10 [('Weekly_realtor', 'median_days_on_market_by_day_yy'), ('Weekly_realtor', 'new_listing_share_yy (%)'), ('Canadian_Pacific', 'Primary Forest Prods'), ('Canadian_Pacific', 'Pulp & Paper Prods'), ('Canadian_Pacific', 'Total Forest Products'), ('Lumber_Track_north_american_production', 'Cal_Coast'), ('Lumber_Track_north_american_shipment', 'Cal_Coast'), ('Lumber_Track_north_american_order', 'Cal_Coast'), ('Lumber_Track_north_american_unfilled_order', 'Cal_Coast'), ('Lumber_Track_north_american_inventory', 'Cal_Coast')]\n"
     ]
    },
    {
     "data": {
      "text/plain": [
       "((15268, 603), (3817, 603))"
      ]
     },
     "metadata": {},
     "output_type": "display_data"
    }
   ],
   "source": [
    "print(len(NonQuasiConstantFeatures.features_to_drop_),NonQuasiConstantFeatures.features_to_drop_)\n",
    "X_train = NonQuasiConstantFeatures.transform(X_train)\n",
    "X_test = NonQuasiConstantFeatures.transform(X_test)\n",
    "X_val = NonQuasiConstantFeatures.transform(X_val)\n",
    "X_train.shape, X_test.shape"
   ]
  },
  {
   "cell_type": "markdown",
   "metadata": {},
   "source": [
    "### Remove Duplicate Variables\n",
    "<div style=\"color: Green; font-size:22px;\" class=\"alert alert-block alert-warning\"> \n",
    "<b>To Do:</b> Check why the following features are duplicated of each other. Each Variable in a curly bracket is a duplicate\n",
    "</div>"
   ]
  },
  {
   "cell_type": "code",
   "execution_count": null,
   "metadata": {},
   "outputs": [
    {
     "name": "stdout",
     "output_type": "stream",
     "text": [
      "27\n"
     ]
    },
    {
     "data": {
      "text/plain": [
       "[{('Lumber_Track_orders_us', 'South'),\n",
       "  ('Lumber_Track_production_us', 'South'),\n",
       "  ('Lumber_Track_shipment_us', 'South')},\n",
       " {('Lumber_Track_inventory_us', 'South'),\n",
       "  ('Lumber_Track_north_american_inventory', 'South')},\n",
       " {('Lumber_Track_north_american_unfilled_order', 'South'),\n",
       "  ('Lumber_Track_unfilledorders_us', 'South')},\n",
       " {('CFTC_legacy', 'Open_Interest_All'), ('CFTC_legacy', 'Open_Interest_Old')},\n",
       " {('CFTC_legacy', 'Noncommercial_Positions_Long_All'),\n",
       "  ('CFTC_legacy', 'Noncommercial_Positions_Long_Old')},\n",
       " {('CFTC_legacy', 'Noncommercial_Positions_Short_All'),\n",
       "  ('CFTC_legacy', 'Noncommercial_Positions_Short_Old')},\n",
       " {('CFTC_legacy', 'Noncommercial_Positions_Spreading_All'),\n",
       "  ('CFTC_legacy', 'Noncommercial_Positions_Spreading_Old')},\n",
       " {('CFTC_legacy', 'Commercial_Positions_Long_All'),\n",
       "  ('CFTC_legacy', 'Commercial_Positions_Long_Old')},\n",
       " {('CFTC_legacy', 'Nonreportable_Positions_Long_All'),\n",
       "  ('CFTC_legacy', 'Nonreportable_Positions_Long_Old')},\n",
       " {('CFTC_legacy', 'Per_of_OI_Noncommercial_Long_All'),\n",
       "  ('CFTC_legacy', 'Per_of_OI_Noncommercial_Long_Old')},\n",
       " {('CFTC_legacy', 'Per_of_OI_Noncommercial_Short_All'),\n",
       "  ('CFTC_legacy', 'Per_of_OI_Noncommercial_Short_Old')},\n",
       " {('CFTC_legacy', 'Per_of_OI_Noncommercial_Spreading_All'),\n",
       "  ('CFTC_legacy', 'Per_of_OI_Noncommercial_Spreading_Old')},\n",
       " {('CFTC_legacy', 'Per_of_OI_Commercial_Long_All'),\n",
       "  ('CFTC_legacy', 'Per_of_OI_Commercial_Long_Old')},\n",
       " {('CFTC_legacy', 'Per_of_OI_Total_Reportable_Long_All'),\n",
       "  ('CFTC_legacy', 'Per_of_OI_Total_Reportable_Long_Old')},\n",
       " {('CFTC_legacy', 'Per_of_OI_Nonreportable_Long_All'),\n",
       "  ('CFTC_legacy', 'Per_of_OI_Nonreportable_Long_Old')},\n",
       " {('CFTC_legacy', 'Traders_Total_All'), ('CFTC_legacy', 'Traders_Total_Old')},\n",
       " {('CFTC_legacy', 'Traders_Noncommercial_Long_All'),\n",
       "  ('CFTC_legacy', 'Traders_Noncommercial_Long_Old')},\n",
       " {('CFTC_legacy', 'Traders_Noncommercial_Short_All'),\n",
       "  ('CFTC_legacy', 'Traders_Noncommercial_Short_Old')},\n",
       " {('CFTC_legacy', 'Traders_Noncommercial_Spreading_All'),\n",
       "  ('CFTC_legacy', 'Traders_Noncommercial_Spreading_Old')},\n",
       " {('CFTC_legacy', 'Traders_Commercial_Long_All'),\n",
       "  ('CFTC_legacy', 'Traders_Commercial_Long_Old')},\n",
       " {('CFTC_legacy', 'Traders_Total_Reportable_Long_All'),\n",
       "  ('CFTC_legacy', 'Traders_Total_Reportable_Long_Old')},\n",
       " {('CFTC_legacy', 'Concentration_Gross_LT_4_TDR_Long_Old'),\n",
       "  ('CFTC_legacy', 'Concentration_Gross_LT__4_TDR_Long_All')},\n",
       " {('CFTC_legacy', 'Concentration_Gross_LT_8_TDR_Long_All'),\n",
       "  ('CFTC_legacy', 'Concentration_Gross_LT_8_TDR_Long_Old')},\n",
       " {('CFTC_legacy', 'Concentration_Gross_LT_8_TDR_Short_All'),\n",
       "  ('CFTC_legacy', 'Concentration_Gross_LT_8_TDR_Short_Old')},\n",
       " {('CFTC_legacy', 'Concentration_Net_LT_4_TDR_Long_All'),\n",
       "  ('CFTC_legacy', 'Concentration_Net_LT_4_TDR_Long_Old')},\n",
       " {('CFTC_legacy', 'Concentration_Net_LT_4_TDR_Short_All'),\n",
       "  ('CFTC_legacy', 'Concentration_Net_LT_4_TDR_Short_Old')},\n",
       " {('CFTC_legacy', 'Concentration_Net_LT_8_TDR_Short_All'),\n",
       "  ('CFTC_legacy', 'Concentration_Net_LT_8_TDR_Short_Old')}]"
      ]
     },
     "metadata": {},
     "output_type": "display_data"
    }
   ],
   "source": [
    "# set up the selector\n",
    "NonDuplicatedValues = DropDuplicateFeatures(variables=None, missing_values='raise')\n",
    "\n",
    "# find the duplicate features, this might take a while\n",
    "NonDuplicatedValues.fit(X_train)\n",
    "\n",
    "print(len(NonDuplicatedValues.duplicated_feature_sets_))\n",
    "NonDuplicatedValues.duplicated_feature_sets_"
   ]
  },
  {
   "cell_type": "code",
   "execution_count": null,
   "metadata": {},
   "outputs": [
    {
     "data": {
      "text/plain": [
       "((15268, 575), (3817, 575), (166, 575))"
      ]
     },
     "metadata": {},
     "output_type": "display_data"
    }
   ],
   "source": [
    "# remove the duplicated features\n",
    "X_train = NonDuplicatedValues.transform(X_train)\n",
    "X_test = NonDuplicatedValues.transform(X_test)\n",
    "X_val = NonDuplicatedValues.transform(X_val)\n",
    "\n",
    "X_train.shape, X_test.shape, X_val.shape"
   ]
  },
  {
   "cell_type": "markdown",
   "metadata": {},
   "source": []
  },
  {
   "cell_type": "markdown",
   "metadata": {},
   "source": [
    "### \n",
    "<div style=\"color: DarkBlue; font-size:22px;\" class=\"alert alert-block alert-warning\"> \n",
    "<b>Pipelines:</b> Final Code will look like this but for now work through issues above \n",
    "</div>"
   ]
  },
  {
   "cell_type": "code",
   "execution_count": null,
   "metadata": {},
   "outputs": [
    {
     "data": {
      "text/plain": [
       "((15268, 585), (3817, 585), (166, 585))"
      ]
     },
     "metadata": {},
     "output_type": "display_data"
    }
   ],
   "source": [
    "pipe = Pipeline([\n",
    "    ('constant', DropConstantFeatures(tol=0.998)),\n",
    "    ('duplicated', DropDuplicateFeatures()),])\n",
    "\n",
    "pipe.fit(X_train)\n",
    "\n",
    "# remove features\n",
    "X_train = pipe.transform(X_train)\n",
    "X_test = pipe.transform(X_test)\n",
    "X_val = pipe.transform(X_val)\n",
    "\n",
    "X_train.shape, X_test.shape, X_val.shape\n"
   ]
  },
  {
   "cell_type": "code",
   "execution_count": null,
   "metadata": {},
   "outputs": [
    {
     "name": "stdout",
     "output_type": "stream",
     "text": [
      "41\n"
     ]
    },
    {
     "data": {
      "text/plain": [
       "{('CFTC_legacy', 'Commercial_Positions_Long_Old'),\n",
       " ('CFTC_legacy', 'Concentration_Gross_LT_4_TDR_Long_Old'),\n",
       " ('CFTC_legacy', 'Concentration_Gross_LT_8_TDR_Long_Old'),\n",
       " ('CFTC_legacy', 'Concentration_Gross_LT_8_TDR_Short_Old'),\n",
       " ('CFTC_legacy', 'Concentration_Net_LT_4_TDR_Long_Old'),\n",
       " ('CFTC_legacy', 'Concentration_Net_LT_4_TDR_Short_Old'),\n",
       " ('CFTC_legacy', 'Concentration_Net_LT_8_TDR_Short_Old'),\n",
       " ('CFTC_legacy', 'Noncommercial_Positions_Long_Old'),\n",
       " ('CFTC_legacy', 'Noncommercial_Positions_Short_Old'),\n",
       " ('CFTC_legacy', 'Noncommercial_Positions_Spreading_Old'),\n",
       " ('CFTC_legacy', 'Nonreportable_Positions_Long_Old'),\n",
       " ('CFTC_legacy', 'Open_Interest_Old'),\n",
       " ('CFTC_legacy', 'Per_of_OI_Commercial_Long_Old'),\n",
       " ('CFTC_legacy', 'Per_of_OI_Noncommercial_Long_Old'),\n",
       " ('CFTC_legacy', 'Per_of_OI_Noncommercial_Short_Old'),\n",
       " ('CFTC_legacy', 'Per_of_OI_Noncommercial_Spreading_Old'),\n",
       " ('CFTC_legacy', 'Per_of_OI_Nonreportable_Long_Old'),\n",
       " ('CFTC_legacy', 'Per_of_OI_Total_Reportable_Long_Old'),\n",
       " ('CFTC_legacy', 'Traders_Commercial_Long_Old'),\n",
       " ('CFTC_legacy', 'Traders_Noncommercial_Long_Old'),\n",
       " ('CFTC_legacy', 'Traders_Noncommercial_Short_Old'),\n",
       " ('CFTC_legacy', 'Traders_Noncommercial_Spreading_Old'),\n",
       " ('CFTC_legacy', 'Traders_Total_Old'),\n",
       " ('CFTC_legacy', 'Traders_Total_Reportable_Long_Old'),\n",
       " ('Lumber_Track_north_american_inventory', 'South'),\n",
       " ('Lumber_Track_north_american_unfilled_order', 'South'),\n",
       " ('Lumber_Track_orders_us', 'South'),\n",
       " ('Lumber_Track_shipment_us', 'South')}"
      ]
     },
     "metadata": {},
     "output_type": "display_data"
    }
   ],
   "source": [
    "print(len(pipe.named_steps['constant'].features_to_drop_))\n",
    "pipe.named_steps['duplicated'].features_to_drop_"
   ]
  },
  {
   "cell_type": "code",
   "execution_count": null,
   "metadata": {},
   "outputs": [],
   "source": []
  }
 ],
 "metadata": {
  "kernelspec": {
   "display_name": "Python 3.10.2 ('venv': venv)",
   "language": "python",
   "name": "python3"
  },
  "language_info": {
   "codemirror_mode": {
    "name": "ipython",
    "version": 3
   },
   "file_extension": ".py",
   "mimetype": "text/x-python",
   "name": "python",
   "nbconvert_exporter": "python",
   "pygments_lexer": "ipython3",
   "version": "3.10.2"
  },
  "orig_nbformat": 4,
  "vscode": {
   "interpreter": {
    "hash": "76ed5d48e058170b27340c105dd5e7527dd13aa6b3ab779e1e670a0e63feffe0"
   }
  }
 },
 "nbformat": 4,
 "nbformat_minor": 2
}
