{
 "cells": [
  {
   "cell_type": "markdown",
   "metadata": {},
   "source": [
    "# Variables\n",
    "\n",
    "1. NearestMonth - Front/Second/etc. month at each respective date - starts from 1\n",
    "2. backAdjustDays - how many days back we need to adjust       # 0 means expired on the day of expiry"
   ]
  },
  {
   "cell_type": "code",
   "execution_count": 1,
   "metadata": {},
   "outputs": [],
   "source": [
    "import os\n",
    "import pandas as pd\n",
    "import numpy as np\n",
    "from os import walk\n",
    "import collections"
   ]
  },
  {
   "cell_type": "code",
   "execution_count": 2,
   "metadata": {},
   "outputs": [
    {
     "data": {
      "text/plain": [
       "621"
      ]
     },
     "execution_count": 2,
     "metadata": {},
     "output_type": "execute_result"
    }
   ],
   "source": [
    "# Path of all files in folder and subfolder - CONTINUE Folder\n",
    "List_of_files_continue = []\n",
    "folder_continue = \"C:/source/2x4_data/app/data/Barchart/DailyDataDumpCME&NYMEX/dailyContinue/\"\n",
    "folder_names_continue = [os.path.join(folder_continue, name) for name in os.listdir(folder_continue) if os.path.isdir(os.path.join(folder_continue, name))]\n",
    "folder_names_continue.append(folder_continue)\n",
    "for fold in folder_names_continue:\n",
    "    filenames = next(walk(fold), (None, None, []))[2]  # [] if no file\n",
    "    for file in filenames:\n",
    "        List_of_files_continue.append(str(fold+\"/\"+file).replace('//','/'))\n",
    "List_of_files_continue = [val for val in List_of_files_continue if not val.endswith(\".ipynb\")] # remove all files end in .ipynb\n",
    "List_of_files_continue = [val for val in List_of_files_continue if not val.endswith(\".pkl\")] # remove all files end in .pkl\n",
    "List_of_files_continue = [val for val in List_of_files_continue if not val.endswith(\"expiry_df_other_symbols_Continue.csv\")]\n",
    "List_of_files_continue = [val for val in List_of_files_continue if not val.endswith(\"expiry_df_Continue.csv\")]\n",
    "\n",
    "len(List_of_files_continue)"
   ]
  },
  {
   "cell_type": "code",
   "execution_count": 3,
   "metadata": {},
   "outputs": [
    {
     "data": {
      "text/plain": [
       "618"
      ]
     },
     "execution_count": 3,
     "metadata": {},
     "output_type": "execute_result"
    }
   ],
   "source": [
    "# Path of all files in folder and subfolder - NEAREST Folder\n",
    "List_of_files_nearest = []\n",
    "folder_nearest = \"C:/source/2x4_data/app/data/Barchart/DailyDataDumpCME&NYMEX/\"\n",
    "folder_names_nearest = [os.path.join(folder_nearest, name) for name in os.listdir(folder_nearest) if os.path.isdir(os.path.join(folder_nearest, name))]\n",
    "folder_names_nearest.append(folder_nearest)\n",
    "folder_names_nearest.remove(\"C:/source/2x4_data/app/data/Barchart/DailyDataDumpCME&NYMEX/dailyContinue\")\n",
    "folder_names_nearest.remove(\"C:/source/2x4_data/app/data/Barchart/DailyDataDumpCME&NYMEX/Archived CSV Files\")\n",
    "for fold in folder_names_nearest:\n",
    "    filenames = next(walk(fold), (None, None, []))[2]  # [] if no file\n",
    "    for file in filenames:\n",
    "        List_of_files_nearest.append(str(fold+\"/\"+file).replace('//','/'))\n",
    "List_of_files_nearest = [val for val in List_of_files_nearest if not val.endswith(\".ipynb\")] # remove all files end in .ipynb\n",
    "List_of_files_nearest = [val for val in List_of_files_nearest if not val.endswith(\".pkl\")] # remove all files end in .pkl\n",
    "List_of_files_nearest = [val for val in List_of_files_nearest if not val.endswith(\"combined_dataframe.csv\")]\n",
    "List_of_files_nearest = [val for val in List_of_files_nearest if not val.endswith(\"expiry_df.csv\")]\n",
    "List_of_files_nearest = [val for val in List_of_files_nearest if not val.endswith(\"expiry_df_other_symbols.csv\")]\n",
    "\n",
    "len(List_of_files_nearest)"
   ]
  },
  {
   "cell_type": "code",
   "execution_count": 4,
   "metadata": {},
   "outputs": [
    {
     "data": {
      "text/plain": [
       "618"
      ]
     },
     "execution_count": 4,
     "metadata": {},
     "output_type": "execute_result"
    }
   ],
   "source": [
    "# Matching Nearest & Continue FILES - just remove \"_Continue\" at the end but before \".csv\"\n",
    "# For each file in Nearest, change the string of the path to make it similar to one in Continue and the check if its exits in Continue\n",
    "\n",
    "file_paths_dict = {}\n",
    "for file_nearest in List_of_files_nearest:\n",
    "    continue_string = file_nearest[file_nearest.rindex('/')+1:]\n",
    "    continue_string = str(continue_string.replace(\".csv\",\"\")+\"_Continue.csv\")\n",
    "    idx_continue = [i for i, s in enumerate(List_of_files_continue) if continue_string in s]\n",
    "    file_paths_dict[file_nearest] = List_of_files_continue[idx_continue[0]]\n",
    "\n",
    "len(file_paths_dict.keys())    \n",
    "        "
   ]
  },
  {
   "cell_type": "code",
   "execution_count": 5,
   "metadata": {},
   "outputs": [],
   "source": [
    "# file_paths_dict['C:/source/2x4_data/app/data/Barchart/DailyDataDumpCME&NYMEX/Archived CSV Files/Australian Dollar(P)_daily_price.csv']"
   ]
  },
  {
   "cell_type": "code",
   "execution_count": 6,
   "metadata": {},
   "outputs": [
    {
     "data": {
      "text/html": [
       "<div>\n",
       "<style scoped>\n",
       "    .dataframe tbody tr th:only-of-type {\n",
       "        vertical-align: middle;\n",
       "    }\n",
       "\n",
       "    .dataframe tbody tr th {\n",
       "        vertical-align: top;\n",
       "    }\n",
       "\n",
       "    .dataframe thead th {\n",
       "        text-align: right;\n",
       "    }\n",
       "</style>\n",
       "<table border=\"1\" class=\"dataframe\">\n",
       "  <thead>\n",
       "    <tr style=\"text-align: right;\">\n",
       "      <th></th>\n",
       "      <th>symbol</th>\n",
       "      <th>exchange</th>\n",
       "      <th>contract</th>\n",
       "      <th>firstNoticeDate</th>\n",
       "      <th>expirationDate</th>\n",
       "      <th>lastTradingDay</th>\n",
       "      <th>Unnamed: 7</th>\n",
       "    </tr>\n",
       "  </thead>\n",
       "  <tbody>\n",
       "    <tr>\n",
       "      <th>MGM22</th>\n",
       "      <td>MGM22</td>\n",
       "      <td>GBLX</td>\n",
       "      <td>_Jun 22</td>\n",
       "      <td>6/13/2022</td>\n",
       "      <td>6/13/2022</td>\n",
       "      <td>Second business day preceding third Wednesday ...</td>\n",
       "      <td>NaN</td>\n",
       "    </tr>\n",
       "    <tr>\n",
       "      <th>MGH22</th>\n",
       "      <td>MGH22</td>\n",
       "      <td>GBLX</td>\n",
       "      <td>_Mar 22</td>\n",
       "      <td>3/14/2022</td>\n",
       "      <td>3/14/2022</td>\n",
       "      <td>Second business day preceding third Wednesday ...</td>\n",
       "      <td>NaN</td>\n",
       "    </tr>\n",
       "  </tbody>\n",
       "</table>\n",
       "</div>"
      ],
      "text/plain": [
       "      symbol exchange contract firstNoticeDate expirationDate  \\\n",
       "MGM22  MGM22     GBLX  _Jun 22       6/13/2022      6/13/2022   \n",
       "MGH22  MGH22     GBLX  _Mar 22       3/14/2022      3/14/2022   \n",
       "\n",
       "                                          lastTradingDay  Unnamed: 7  \n",
       "MGM22  Second business day preceding third Wednesday ...         NaN  \n",
       "MGH22  Second business day preceding third Wednesday ...         NaN  "
      ]
     },
     "execution_count": 6,
     "metadata": {},
     "output_type": "execute_result"
    }
   ],
   "source": [
    "# Get Expiry dataframe from csv\n",
    "expiry_nearest = pd.read_csv(\"C:/source/2x4_data/app/data/Barchart/DailyDataDumpCME&NYMEX/expiry_df.csv\", index_col=0)\n",
    "expiry_nearest.head(2)   "
   ]
  },
  {
   "cell_type": "code",
   "execution_count": 7,
   "metadata": {},
   "outputs": [],
   "source": [
    "# # file_paths_dict\n",
    "# import difflib\n",
    "# Main_folder_string = 'C:/source/2x4_data/app/data/Barchart/DailyDataDumpCME&NYMEX/'\n",
    "\n",
    "\n",
    "# for file in list(file_paths_dict.keys())[:10]:\n",
    "#     cmdty_name = file[file.rindex('/')+1:].replace('_daily_price.csv','')\n",
    "#     res=''.join(cmdty_name.split(Main_folder_string))\n",
    "#     print(res)"
   ]
  },
  {
   "cell_type": "code",
   "execution_count": null,
   "metadata": {},
   "outputs": [],
   "source": []
  },
  {
   "cell_type": "code",
   "execution_count": 8,
   "metadata": {},
   "outputs": [],
   "source": [
    "# Collect all contracts for all commodities in a dictionary and a list of dates\n",
    "all_dates = []\n",
    "cmdty_ctrct_dict = {}\n",
    "cmdty_no_data = []\n",
    "temp_list = []\n",
    "cmdty_no_expiry = []\n",
    "cmdty_ctrct_expiry_dict = collections.defaultdict(dict) # If the amount of nesting you need is fixed, use collections.defaultdict.\n",
    "file_path_cmdty_name = {}\n",
    "\n",
    "for file in file_paths_dict.keys():\n",
    "    cmdty_name = file[file.rindex('/')+1:].replace('_daily_price.csv','')\n",
    "    \n",
    "    try:\n",
    "        list_nearest_ctrct = pd.read_csv(file)['symbol'].unique().tolist()\n",
    "        list_nearest_dates = pd.read_csv(file)['tradingDay'].unique().tolist()\n",
    "\n",
    "    except:\n",
    "        cmdty_no_data.append(cmdty_name)\n",
    "        temp_list.append(file_paths_dict[file])\n",
    "\n",
    "    try:\n",
    "        list_continue_ctrct = pd.read_csv(file_paths_dict[file],index_col=0)['symbol'].unique().tolist()\n",
    "        list_continue_dates = pd.read_csv(file_paths_dict[file],index_col=0)['tradingDay'].unique().tolist()\n",
    "\n",
    "    except:\n",
    "        cmdty_no_data.append(cmdty_name)\n",
    "        temp_list.append(file_paths_dict[file])\n",
    "\n",
    "    cmdty_ctrct_dict[cmdty_name] = set(list_nearest_ctrct + list_continue_ctrct)\n",
    "    file_path_cmdty_name[file] = cmdty_name\n",
    "\n",
    "    all_dates = all_dates + list_nearest_dates + list_continue_dates\n",
    "\n",
    "    for ctrcts in cmdty_ctrct_dict[cmdty_name]:\n",
    "        try:\n",
    "            cmdty_ctrct_expiry_dict[cmdty_name][ctrcts] = expiry_nearest.loc[ctrcts,'expirationDate'], expiry_nearest.loc[ctrcts,'exchange'], expiry_nearest.loc[ctrcts,'contract'].replace('_','')\n",
    "        except:\n",
    "            cmdty_no_expiry.append(ctrcts)\n",
    "\n",
    "        # To do dict of dicts\n",
    "\t\n",
    "temp_list =  set(temp_list)\n",
    "all_dates = set(all_dates)\n",
    "cmdty_no_data = set(cmdty_no_data)\n",
    "all_dates = pd.Series(pd.DatetimeIndex(all_dates))\n",
    "all_dates =  all_dates.sort_values(ascending=False).dt.strftime('%Y-%m-%d').tolist()  \n"
   ]
  },
  {
   "cell_type": "code",
   "execution_count": 9,
   "metadata": {},
   "outputs": [
    {
     "data": {
      "text/plain": [
       "'WTS (Argus) vs. WTI Spread Trade Month Swap'"
      ]
     },
     "execution_count": 9,
     "metadata": {},
     "output_type": "execute_result"
    }
   ],
   "source": [
    "cmdty_name"
   ]
  },
  {
   "cell_type": "code",
   "execution_count": 10,
   "metadata": {},
   "outputs": [],
   "source": [
    "# file_path_cmdty_name['C:/source/2x4_data/app/data/Barchart/DailyDataDumpCME&NYMEX/Archived CSV Files/Cheese Block_daily_price.csv']"
   ]
  },
  {
   "cell_type": "code",
   "execution_count": 11,
   "metadata": {},
   "outputs": [
    {
     "data": {
      "text/plain": [
       "(618, 561, 6141)"
      ]
     },
     "execution_count": 11,
     "metadata": {},
     "output_type": "execute_result"
    }
   ],
   "source": [
    "\n",
    "len(cmdty_ctrct_dict.keys()), len(list(cmdty_ctrct_expiry_dict.keys())), len(cmdty_no_expiry)"
   ]
  },
  {
   "cell_type": "code",
   "execution_count": null,
   "metadata": {},
   "outputs": [],
   "source": []
  },
  {
   "cell_type": "code",
   "execution_count": 12,
   "metadata": {},
   "outputs": [
    {
     "data": {
      "text/plain": [
       "'Dec 20'"
      ]
     },
     "execution_count": 12,
     "metadata": {},
     "output_type": "execute_result"
    }
   ],
   "source": [
    "cmdty_ctrct_expiry_dict['AUD_USD Micro']['MGZ20'][2]"
   ]
  },
  {
   "cell_type": "code",
   "execution_count": 13,
   "metadata": {},
   "outputs": [
    {
     "data": {
      "text/plain": [
       "(110, 618, 618)"
      ]
     },
     "execution_count": 13,
     "metadata": {},
     "output_type": "execute_result"
    }
   ],
   "source": [
    "len(cmdty_no_data), len(file_paths_dict.keys()), len(cmdty_ctrct_dict.keys())"
   ]
  },
  {
   "cell_type": "code",
   "execution_count": 14,
   "metadata": {},
   "outputs": [
    {
     "data": {
      "text/plain": [
       "'C:/source/2x4_data/app/data/Barchart/DailyDataDumpCME&NYMEX/CHF/CHF_USD Micro_daily_price.csv'"
      ]
     },
     "execution_count": 14,
     "metadata": {},
     "output_type": "execute_result"
    }
   ],
   "source": [
    "list(file_paths_dict.keys())[10]"
   ]
  },
  {
   "cell_type": "markdown",
   "metadata": {},
   "source": [
    "Pass a key index such as list(file_paths_dict.keys())[0]\n",
    "\n",
    "# In the list above look for duplicates and keep the file which is larger."
   ]
  },
  {
   "cell_type": "code",
   "execution_count": 15,
   "metadata": {},
   "outputs": [
    {
     "data": {
      "text/plain": [
       "157047"
      ]
     },
     "execution_count": 15,
     "metadata": {},
     "output_type": "execute_result"
    }
   ],
   "source": [
    "LS_path = 'C:/source/2x4_data/app/data/Barchart/DailyDataDumpCME&NYMEX/Lumber_daily_price.csv'\n",
    "file = LS_path\n",
    "\n",
    "combined = pd.concat([pd.read_csv(file,index_col=0), pd.read_csv(file_paths_dict[file],index_col=0)])\n",
    "combined.drop_duplicates(inplace=True)\n",
    "len(combined)\n"
   ]
  },
  {
   "cell_type": "code",
   "execution_count": 16,
   "metadata": {},
   "outputs": [],
   "source": [
    "# file_paths_dict['C:/source/2x4_data/app/data/Barchart/DailyDataDumpCME&NYMEX/Archived CSV Files/3-Month BSBY_daily_price.csv']"
   ]
  },
  {
   "cell_type": "code",
   "execution_count": null,
   "metadata": {},
   "outputs": [],
   "source": []
  },
  {
   "cell_type": "markdown",
   "metadata": {},
   "source": [
    "Need a way to connect "
   ]
  },
  {
   "cell_type": "code",
   "execution_count": 17,
   "metadata": {},
   "outputs": [],
   "source": [
    "# cmdty_ctrct_expiry_dict"
   ]
  },
  {
   "cell_type": "code",
   "execution_count": 18,
   "metadata": {},
   "outputs": [
    {
     "data": {
      "text/plain": [
       "321"
      ]
     },
     "execution_count": 18,
     "metadata": {},
     "output_type": "execute_result"
    }
   ],
   "source": [
    "one_commodity_expiry = pd.DataFrame(cmdty_ctrct_expiry_dict['Lumber']).T\n",
    "one_commodity_expiry.columns = ['expiry','exchange','contract']\n",
    "one_commodity_expiry.expiry = pd.to_datetime(one_commodity_expiry.expiry)\n",
    "one_commodity_expiry.sort_values(by=['expiry'], ascending= False, inplace=True)\n",
    "len(one_commodity_expiry)\n"
   ]
  },
  {
   "cell_type": "code",
   "execution_count": 19,
   "metadata": {},
   "outputs": [],
   "source": [
    "combined_pivot = {}\n",
    "new_combined_pivot = {}\n",
    "for ohlcv_opt in ['open','high','low','close','volume','openInterest']:\n",
    "    combined_pivot[ohlcv_opt] = pd.pivot_table(combined, values=ohlcv_opt, index='tradingDay', columns='symbol').sort_index(ascending=False)\n",
    "    combined_pivot[ohlcv_opt].reindex(one_commodity_expiry.index, axis=1)\n",
    "    \n",
    "    # same as commodity_pivot but added an extra row at the top for the expiry date\n",
    "    new_combined_pivot[ohlcv_opt] = pd.concat([pd.DataFrame(index = one_commodity_expiry.index, data=list(one_commodity_expiry['expiry']),columns=['Expiry']).T,combined_pivot[ohlcv_opt]], axis=0)\n"
   ]
  },
  {
   "cell_type": "code",
   "execution_count": 20,
   "metadata": {},
   "outputs": [],
   "source": [
    "# Takes a lot of Time - ~ 2minutes for 1 commodity because OF nsmallest(NearestMonth), sort_values is faster ~48 seconds\n",
    "# Get Front month next at each date\n",
    "NearestMonth = 1  # starts from month 1 \n",
    "NearestContract_df = pd.DataFrame()\n",
    "\n",
    "# It doesn't matter if we use 'close' instead of OHLCV below since we just need to find the nearest contract\n",
    "for dt in new_combined_pivot['close'].index[1:]:\n",
    "    comp = pd.to_datetime(new_combined_pivot['close'].loc['Expiry'])[dt <= pd.to_datetime(new_combined_pivot['close'].loc['Expiry'])] - pd.to_datetime(dt)\n",
    "    # active = comp.nsmallest(NearestMonth).index[NearestMonth-1]\n",
    "    active = comp.sort_values().head(NearestMonth).index[NearestMonth-1]\n",
    "    temp3 = pd.DataFrame(data=[[dt,active]], columns=['dt','active'])\n",
    "    NearestContract_df = pd.concat([NearestContract_df,temp3])"
   ]
  },
  {
   "cell_type": "code",
   "execution_count": 21,
   "metadata": {},
   "outputs": [
    {
     "data": {
      "text/html": [
       "<div>\n",
       "<style scoped>\n",
       "    .dataframe tbody tr th:only-of-type {\n",
       "        vertical-align: middle;\n",
       "    }\n",
       "\n",
       "    .dataframe tbody tr th {\n",
       "        vertical-align: top;\n",
       "    }\n",
       "\n",
       "    .dataframe thead th {\n",
       "        text-align: right;\n",
       "    }\n",
       "</style>\n",
       "<table border=\"1\" class=\"dataframe\">\n",
       "  <thead>\n",
       "    <tr style=\"text-align: right;\">\n",
       "      <th></th>\n",
       "      <th>dt</th>\n",
       "      <th>active</th>\n",
       "      <th>open</th>\n",
       "      <th>high</th>\n",
       "      <th>low</th>\n",
       "      <th>close</th>\n",
       "      <th>volume</th>\n",
       "      <th>openInterest</th>\n",
       "    </tr>\n",
       "  </thead>\n",
       "  <tbody>\n",
       "    <tr>\n",
       "      <th>0</th>\n",
       "      <td>2022-05-10</td>\n",
       "      <td>LSK22</td>\n",
       "      <td>1008.00</td>\n",
       "      <td>1025.00</td>\n",
       "      <td>1008.0</td>\n",
       "      <td>1022.0</td>\n",
       "      <td>53.0</td>\n",
       "      <td>0.0</td>\n",
       "    </tr>\n",
       "    <tr>\n",
       "      <th>1</th>\n",
       "      <td>2022-05-09</td>\n",
       "      <td>LSK22</td>\n",
       "      <td>1000.10</td>\n",
       "      <td>1015.00</td>\n",
       "      <td>975.0</td>\n",
       "      <td>1009.0</td>\n",
       "      <td>89.0</td>\n",
       "      <td>163.0</td>\n",
       "    </tr>\n",
       "    <tr>\n",
       "      <th>2</th>\n",
       "      <td>2022-05-06</td>\n",
       "      <td>LSK22</td>\n",
       "      <td>990.00</td>\n",
       "      <td>1005.00</td>\n",
       "      <td>985.0</td>\n",
       "      <td>1000.1</td>\n",
       "      <td>147.0</td>\n",
       "      <td>237.0</td>\n",
       "    </tr>\n",
       "    <tr>\n",
       "      <th>3</th>\n",
       "      <td>2022-05-05</td>\n",
       "      <td>LSK22</td>\n",
       "      <td>1010.00</td>\n",
       "      <td>1033.40</td>\n",
       "      <td>993.8</td>\n",
       "      <td>1020.0</td>\n",
       "      <td>131.0</td>\n",
       "      <td>340.0</td>\n",
       "    </tr>\n",
       "    <tr>\n",
       "      <th>4</th>\n",
       "      <td>2022-05-04</td>\n",
       "      <td>LSK22</td>\n",
       "      <td>1021.60</td>\n",
       "      <td>1025.50</td>\n",
       "      <td>980.0</td>\n",
       "      <td>1010.0</td>\n",
       "      <td>144.0</td>\n",
       "      <td>443.0</td>\n",
       "    </tr>\n",
       "    <tr>\n",
       "      <th>...</th>\n",
       "      <td>...</td>\n",
       "      <td>...</td>\n",
       "      <td>...</td>\n",
       "      <td>...</td>\n",
       "      <td>...</td>\n",
       "      <td>...</td>\n",
       "      <td>...</td>\n",
       "      <td>...</td>\n",
       "    </tr>\n",
       "    <tr>\n",
       "      <th>13255</th>\n",
       "      <td>1969-10-07</td>\n",
       "      <td>LSH70</td>\n",
       "      <td>78.50</td>\n",
       "      <td>79.00</td>\n",
       "      <td>78.0</td>\n",
       "      <td>79.0</td>\n",
       "      <td>0.0</td>\n",
       "      <td>0.0</td>\n",
       "    </tr>\n",
       "    <tr>\n",
       "      <th>13256</th>\n",
       "      <td>1969-10-06</td>\n",
       "      <td>LSH70</td>\n",
       "      <td>80.00</td>\n",
       "      <td>80.50</td>\n",
       "      <td>80.0</td>\n",
       "      <td>80.0</td>\n",
       "      <td>0.0</td>\n",
       "      <td>0.0</td>\n",
       "    </tr>\n",
       "    <tr>\n",
       "      <th>13257</th>\n",
       "      <td>1969-10-03</td>\n",
       "      <td>LSH70</td>\n",
       "      <td>80.00</td>\n",
       "      <td>80.00</td>\n",
       "      <td>80.0</td>\n",
       "      <td>80.0</td>\n",
       "      <td>0.0</td>\n",
       "      <td>0.0</td>\n",
       "    </tr>\n",
       "    <tr>\n",
       "      <th>13258</th>\n",
       "      <td>1969-10-02</td>\n",
       "      <td>LSH70</td>\n",
       "      <td>80.25</td>\n",
       "      <td>80.50</td>\n",
       "      <td>79.5</td>\n",
       "      <td>80.5</td>\n",
       "      <td>0.0</td>\n",
       "      <td>0.0</td>\n",
       "    </tr>\n",
       "    <tr>\n",
       "      <th>13259</th>\n",
       "      <td>1969-10-01</td>\n",
       "      <td>LSH70</td>\n",
       "      <td>78.00</td>\n",
       "      <td>80.25</td>\n",
       "      <td>78.0</td>\n",
       "      <td>80.0</td>\n",
       "      <td>0.0</td>\n",
       "      <td>0.0</td>\n",
       "    </tr>\n",
       "  </tbody>\n",
       "</table>\n",
       "<p>13260 rows × 8 columns</p>\n",
       "</div>"
      ],
      "text/plain": [
       "               dt active     open     high     low   close  volume  \\\n",
       "0      2022-05-10  LSK22  1008.00  1025.00  1008.0  1022.0    53.0   \n",
       "1      2022-05-09  LSK22  1000.10  1015.00   975.0  1009.0    89.0   \n",
       "2      2022-05-06  LSK22   990.00  1005.00   985.0  1000.1   147.0   \n",
       "3      2022-05-05  LSK22  1010.00  1033.40   993.8  1020.0   131.0   \n",
       "4      2022-05-04  LSK22  1021.60  1025.50   980.0  1010.0   144.0   \n",
       "...           ...    ...      ...      ...     ...     ...     ...   \n",
       "13255  1969-10-07  LSH70    78.50    79.00    78.0    79.0     0.0   \n",
       "13256  1969-10-06  LSH70    80.00    80.50    80.0    80.0     0.0   \n",
       "13257  1969-10-03  LSH70    80.00    80.00    80.0    80.0     0.0   \n",
       "13258  1969-10-02  LSH70    80.25    80.50    79.5    80.5     0.0   \n",
       "13259  1969-10-01  LSH70    78.00    80.25    78.0    80.0     0.0   \n",
       "\n",
       "       openInterest  \n",
       "0               0.0  \n",
       "1             163.0  \n",
       "2             237.0  \n",
       "3             340.0  \n",
       "4             443.0  \n",
       "...             ...  \n",
       "13255           0.0  \n",
       "13256           0.0  \n",
       "13257           0.0  \n",
       "13258           0.0  \n",
       "13259           0.0  \n",
       "\n",
       "[13260 rows x 8 columns]"
      ]
     },
     "execution_count": 21,
     "metadata": {},
     "output_type": "execute_result"
    }
   ],
   "source": [
    "# Taking 40 seconds\n",
    "for ohlcv_opt in ['open','high','low','close','volume','openInterest']:\n",
    "    NearestContract_df[ohlcv_opt] = np.nan\n",
    "    NearestContract_df.reset_index(inplace = True)\n",
    "    NearestContract_df.drop('index', axis=1,inplace = True)\n",
    "    for i in range(len(NearestContract_df)):\n",
    "        NearestContract_df.loc[i, ohlcv_opt] = new_combined_pivot[ohlcv_opt].loc[NearestContract_df.iloc[i][0],NearestContract_df.iloc[i][1]]\n",
    "\n",
    "\n",
    "NearestContract_df"
   ]
  },
  {
   "cell_type": "code",
   "execution_count": 22,
   "metadata": {},
   "outputs": [],
   "source": [
    "# Takes a lot of Time - ~ 2minutes for 1 commodity because OF nsmallest(NearestMonth), sort_values is faster ~48 seconds\n",
    "# Get Front month next at each date\n",
    "NearestMonth = 2  # starts from month 1 \n",
    "Second_NearestContract_df = pd.DataFrame()\n",
    "\n",
    "# It doesn't matter if we use 'close' instead of OHLCV below since we just need to find the nearest contract\n",
    "for dt in new_combined_pivot['close'].index[1:]:\n",
    "    comp = pd.to_datetime(new_combined_pivot['close'].loc['Expiry'])[dt <= pd.to_datetime(new_combined_pivot['close'].loc['Expiry'])] - pd.to_datetime(dt)\n",
    "    # active = comp.nsmallest(NearestMonth).index[NearestMonth-1]\n",
    "    active = comp.sort_values().head(NearestMonth).index[NearestMonth-1]\n",
    "    temp3 = pd.DataFrame(data=[[dt,active]], columns=['dt','active'])\n",
    "    Second_NearestContract_df = pd.concat([Second_NearestContract_df,temp3])"
   ]
  },
  {
   "cell_type": "code",
   "execution_count": 23,
   "metadata": {},
   "outputs": [],
   "source": [
    "# Taking 40 seconds\n",
    "for ohlcv_opt in ['open','high','low','close','volume','openInterest']:\n",
    "    Second_NearestContract_df[ohlcv_opt] = np.nan\n",
    "    Second_NearestContract_df.reset_index(inplace = True)\n",
    "    Second_NearestContract_df.drop('index', axis=1,inplace = True)\n",
    "    for i in range(len(Second_NearestContract_df)):\n",
    "        Second_NearestContract_df.loc[i, ohlcv_opt] = new_combined_pivot[ohlcv_opt].loc[Second_NearestContract_df.iloc[i][0],Second_NearestContract_df.iloc[i][1]]\n"
   ]
  },
  {
   "cell_type": "code",
   "execution_count": 24,
   "metadata": {},
   "outputs": [
    {
     "data": {
      "text/html": [
       "<div>\n",
       "<style scoped>\n",
       "    .dataframe tbody tr th:only-of-type {\n",
       "        vertical-align: middle;\n",
       "    }\n",
       "\n",
       "    .dataframe tbody tr th {\n",
       "        vertical-align: top;\n",
       "    }\n",
       "\n",
       "    .dataframe thead th {\n",
       "        text-align: right;\n",
       "    }\n",
       "</style>\n",
       "<table border=\"1\" class=\"dataframe\">\n",
       "  <thead>\n",
       "    <tr style=\"text-align: right;\">\n",
       "      <th></th>\n",
       "      <th>dt</th>\n",
       "      <th>active</th>\n",
       "      <th>open</th>\n",
       "      <th>high</th>\n",
       "      <th>low</th>\n",
       "      <th>close</th>\n",
       "      <th>volume</th>\n",
       "      <th>openInterest</th>\n",
       "    </tr>\n",
       "  </thead>\n",
       "  <tbody>\n",
       "    <tr>\n",
       "      <th>0</th>\n",
       "      <td>2022-05-10</td>\n",
       "      <td>LSK22</td>\n",
       "      <td>1008.00</td>\n",
       "      <td>1025.00</td>\n",
       "      <td>1008.0</td>\n",
       "      <td>1022.0</td>\n",
       "      <td>53.0</td>\n",
       "      <td>0.0</td>\n",
       "    </tr>\n",
       "    <tr>\n",
       "      <th>1</th>\n",
       "      <td>2022-05-09</td>\n",
       "      <td>LSK22</td>\n",
       "      <td>1000.10</td>\n",
       "      <td>1015.00</td>\n",
       "      <td>975.0</td>\n",
       "      <td>1009.0</td>\n",
       "      <td>89.0</td>\n",
       "      <td>163.0</td>\n",
       "    </tr>\n",
       "    <tr>\n",
       "      <th>2</th>\n",
       "      <td>2022-05-06</td>\n",
       "      <td>LSK22</td>\n",
       "      <td>990.00</td>\n",
       "      <td>1005.00</td>\n",
       "      <td>985.0</td>\n",
       "      <td>1000.1</td>\n",
       "      <td>147.0</td>\n",
       "      <td>237.0</td>\n",
       "    </tr>\n",
       "    <tr>\n",
       "      <th>3</th>\n",
       "      <td>2022-05-05</td>\n",
       "      <td>LSK22</td>\n",
       "      <td>1010.00</td>\n",
       "      <td>1033.40</td>\n",
       "      <td>993.8</td>\n",
       "      <td>1020.0</td>\n",
       "      <td>131.0</td>\n",
       "      <td>340.0</td>\n",
       "    </tr>\n",
       "    <tr>\n",
       "      <th>4</th>\n",
       "      <td>2022-05-04</td>\n",
       "      <td>LSK22</td>\n",
       "      <td>1021.60</td>\n",
       "      <td>1025.50</td>\n",
       "      <td>980.0</td>\n",
       "      <td>1010.0</td>\n",
       "      <td>144.0</td>\n",
       "      <td>443.0</td>\n",
       "    </tr>\n",
       "    <tr>\n",
       "      <th>...</th>\n",
       "      <td>...</td>\n",
       "      <td>...</td>\n",
       "      <td>...</td>\n",
       "      <td>...</td>\n",
       "      <td>...</td>\n",
       "      <td>...</td>\n",
       "      <td>...</td>\n",
       "      <td>...</td>\n",
       "    </tr>\n",
       "    <tr>\n",
       "      <th>13255</th>\n",
       "      <td>1969-10-07</td>\n",
       "      <td>LSH70</td>\n",
       "      <td>78.50</td>\n",
       "      <td>79.00</td>\n",
       "      <td>78.0</td>\n",
       "      <td>79.0</td>\n",
       "      <td>0.0</td>\n",
       "      <td>0.0</td>\n",
       "    </tr>\n",
       "    <tr>\n",
       "      <th>13256</th>\n",
       "      <td>1969-10-06</td>\n",
       "      <td>LSH70</td>\n",
       "      <td>80.00</td>\n",
       "      <td>80.50</td>\n",
       "      <td>80.0</td>\n",
       "      <td>80.0</td>\n",
       "      <td>0.0</td>\n",
       "      <td>0.0</td>\n",
       "    </tr>\n",
       "    <tr>\n",
       "      <th>13257</th>\n",
       "      <td>1969-10-03</td>\n",
       "      <td>LSH70</td>\n",
       "      <td>80.00</td>\n",
       "      <td>80.00</td>\n",
       "      <td>80.0</td>\n",
       "      <td>80.0</td>\n",
       "      <td>0.0</td>\n",
       "      <td>0.0</td>\n",
       "    </tr>\n",
       "    <tr>\n",
       "      <th>13258</th>\n",
       "      <td>1969-10-02</td>\n",
       "      <td>LSH70</td>\n",
       "      <td>80.25</td>\n",
       "      <td>80.50</td>\n",
       "      <td>79.5</td>\n",
       "      <td>80.5</td>\n",
       "      <td>0.0</td>\n",
       "      <td>0.0</td>\n",
       "    </tr>\n",
       "    <tr>\n",
       "      <th>13259</th>\n",
       "      <td>1969-10-01</td>\n",
       "      <td>LSH70</td>\n",
       "      <td>78.00</td>\n",
       "      <td>80.25</td>\n",
       "      <td>78.0</td>\n",
       "      <td>80.0</td>\n",
       "      <td>0.0</td>\n",
       "      <td>0.0</td>\n",
       "    </tr>\n",
       "  </tbody>\n",
       "</table>\n",
       "<p>13260 rows × 8 columns</p>\n",
       "</div>"
      ],
      "text/plain": [
       "               dt active     open     high     low   close  volume  \\\n",
       "0      2022-05-10  LSK22  1008.00  1025.00  1008.0  1022.0    53.0   \n",
       "1      2022-05-09  LSK22  1000.10  1015.00   975.0  1009.0    89.0   \n",
       "2      2022-05-06  LSK22   990.00  1005.00   985.0  1000.1   147.0   \n",
       "3      2022-05-05  LSK22  1010.00  1033.40   993.8  1020.0   131.0   \n",
       "4      2022-05-04  LSK22  1021.60  1025.50   980.0  1010.0   144.0   \n",
       "...           ...    ...      ...      ...     ...     ...     ...   \n",
       "13255  1969-10-07  LSH70    78.50    79.00    78.0    79.0     0.0   \n",
       "13256  1969-10-06  LSH70    80.00    80.50    80.0    80.0     0.0   \n",
       "13257  1969-10-03  LSH70    80.00    80.00    80.0    80.0     0.0   \n",
       "13258  1969-10-02  LSH70    80.25    80.50    79.5    80.5     0.0   \n",
       "13259  1969-10-01  LSH70    78.00    80.25    78.0    80.0     0.0   \n",
       "\n",
       "       openInterest  \n",
       "0               0.0  \n",
       "1             163.0  \n",
       "2             237.0  \n",
       "3             340.0  \n",
       "4             443.0  \n",
       "...             ...  \n",
       "13255           0.0  \n",
       "13256           0.0  \n",
       "13257           0.0  \n",
       "13258           0.0  \n",
       "13259           0.0  \n",
       "\n",
       "[13260 rows x 8 columns]"
      ]
     },
     "execution_count": 24,
     "metadata": {},
     "output_type": "execute_result"
    }
   ],
   "source": [
    "NearestContract_df"
   ]
  },
  {
   "cell_type": "code",
   "execution_count": 25,
   "metadata": {},
   "outputs": [
    {
     "data": {
      "text/html": [
       "<div>\n",
       "<style scoped>\n",
       "    .dataframe tbody tr th:only-of-type {\n",
       "        vertical-align: middle;\n",
       "    }\n",
       "\n",
       "    .dataframe tbody tr th {\n",
       "        vertical-align: top;\n",
       "    }\n",
       "\n",
       "    .dataframe thead th {\n",
       "        text-align: right;\n",
       "    }\n",
       "</style>\n",
       "<table border=\"1\" class=\"dataframe\">\n",
       "  <thead>\n",
       "    <tr style=\"text-align: right;\">\n",
       "      <th></th>\n",
       "      <th>dt</th>\n",
       "      <th>active</th>\n",
       "      <th>open</th>\n",
       "      <th>high</th>\n",
       "      <th>low</th>\n",
       "      <th>close</th>\n",
       "      <th>volume</th>\n",
       "      <th>openInterest</th>\n",
       "    </tr>\n",
       "  </thead>\n",
       "  <tbody>\n",
       "    <tr>\n",
       "      <th>0</th>\n",
       "      <td>2022-05-10</td>\n",
       "      <td>LSN22</td>\n",
       "      <td>807.70</td>\n",
       "      <td>829.50</td>\n",
       "      <td>799.1</td>\n",
       "      <td>801.10</td>\n",
       "      <td>166.0</td>\n",
       "      <td>0.0</td>\n",
       "    </tr>\n",
       "    <tr>\n",
       "      <th>1</th>\n",
       "      <td>2022-05-09</td>\n",
       "      <td>LSN22</td>\n",
       "      <td>810.70</td>\n",
       "      <td>815.30</td>\n",
       "      <td>780.0</td>\n",
       "      <td>807.70</td>\n",
       "      <td>270.0</td>\n",
       "      <td>1690.0</td>\n",
       "    </tr>\n",
       "    <tr>\n",
       "      <th>2</th>\n",
       "      <td>2022-05-06</td>\n",
       "      <td>LSN22</td>\n",
       "      <td>853.10</td>\n",
       "      <td>853.10</td>\n",
       "      <td>824.9</td>\n",
       "      <td>827.10</td>\n",
       "      <td>243.0</td>\n",
       "      <td>1681.0</td>\n",
       "    </tr>\n",
       "    <tr>\n",
       "      <th>3</th>\n",
       "      <td>2022-05-05</td>\n",
       "      <td>LSN22</td>\n",
       "      <td>904.60</td>\n",
       "      <td>915.00</td>\n",
       "      <td>868.4</td>\n",
       "      <td>873.90</td>\n",
       "      <td>155.0</td>\n",
       "      <td>1670.0</td>\n",
       "    </tr>\n",
       "    <tr>\n",
       "      <th>4</th>\n",
       "      <td>2022-05-04</td>\n",
       "      <td>LSN22</td>\n",
       "      <td>923.00</td>\n",
       "      <td>923.00</td>\n",
       "      <td>863.0</td>\n",
       "      <td>909.70</td>\n",
       "      <td>281.0</td>\n",
       "      <td>1644.0</td>\n",
       "    </tr>\n",
       "    <tr>\n",
       "      <th>...</th>\n",
       "      <td>...</td>\n",
       "      <td>...</td>\n",
       "      <td>...</td>\n",
       "      <td>...</td>\n",
       "      <td>...</td>\n",
       "      <td>...</td>\n",
       "      <td>...</td>\n",
       "      <td>...</td>\n",
       "    </tr>\n",
       "    <tr>\n",
       "      <th>13255</th>\n",
       "      <td>1969-10-07</td>\n",
       "      <td>LSK70</td>\n",
       "      <td>81.75</td>\n",
       "      <td>82.00</td>\n",
       "      <td>81.5</td>\n",
       "      <td>82.00</td>\n",
       "      <td>0.0</td>\n",
       "      <td>0.0</td>\n",
       "    </tr>\n",
       "    <tr>\n",
       "      <th>13256</th>\n",
       "      <td>1969-10-06</td>\n",
       "      <td>LSK70</td>\n",
       "      <td>81.50</td>\n",
       "      <td>81.50</td>\n",
       "      <td>81.5</td>\n",
       "      <td>81.50</td>\n",
       "      <td>0.0</td>\n",
       "      <td>0.0</td>\n",
       "    </tr>\n",
       "    <tr>\n",
       "      <th>13257</th>\n",
       "      <td>1969-10-03</td>\n",
       "      <td>LSK70</td>\n",
       "      <td>81.50</td>\n",
       "      <td>81.50</td>\n",
       "      <td>81.5</td>\n",
       "      <td>81.50</td>\n",
       "      <td>0.0</td>\n",
       "      <td>0.0</td>\n",
       "    </tr>\n",
       "    <tr>\n",
       "      <th>13258</th>\n",
       "      <td>1969-10-02</td>\n",
       "      <td>LSK70</td>\n",
       "      <td>81.00</td>\n",
       "      <td>81.25</td>\n",
       "      <td>81.0</td>\n",
       "      <td>81.25</td>\n",
       "      <td>0.0</td>\n",
       "      <td>0.0</td>\n",
       "    </tr>\n",
       "    <tr>\n",
       "      <th>13259</th>\n",
       "      <td>1969-10-01</td>\n",
       "      <td>LSK70</td>\n",
       "      <td>80.00</td>\n",
       "      <td>80.75</td>\n",
       "      <td>79.5</td>\n",
       "      <td>80.75</td>\n",
       "      <td>0.0</td>\n",
       "      <td>0.0</td>\n",
       "    </tr>\n",
       "  </tbody>\n",
       "</table>\n",
       "<p>13260 rows × 8 columns</p>\n",
       "</div>"
      ],
      "text/plain": [
       "               dt active    open    high    low   close  volume  openInterest\n",
       "0      2022-05-10  LSN22  807.70  829.50  799.1  801.10   166.0           0.0\n",
       "1      2022-05-09  LSN22  810.70  815.30  780.0  807.70   270.0        1690.0\n",
       "2      2022-05-06  LSN22  853.10  853.10  824.9  827.10   243.0        1681.0\n",
       "3      2022-05-05  LSN22  904.60  915.00  868.4  873.90   155.0        1670.0\n",
       "4      2022-05-04  LSN22  923.00  923.00  863.0  909.70   281.0        1644.0\n",
       "...           ...    ...     ...     ...    ...     ...     ...           ...\n",
       "13255  1969-10-07  LSK70   81.75   82.00   81.5   82.00     0.0           0.0\n",
       "13256  1969-10-06  LSK70   81.50   81.50   81.5   81.50     0.0           0.0\n",
       "13257  1969-10-03  LSK70   81.50   81.50   81.5   81.50     0.0           0.0\n",
       "13258  1969-10-02  LSK70   81.00   81.25   81.0   81.25     0.0           0.0\n",
       "13259  1969-10-01  LSK70   80.00   80.75   79.5   80.75     0.0           0.0\n",
       "\n",
       "[13260 rows x 8 columns]"
      ]
     },
     "execution_count": 25,
     "metadata": {},
     "output_type": "execute_result"
    }
   ],
   "source": [
    "Second_NearestContract_df"
   ]
  },
  {
   "cell_type": "code",
   "execution_count": 36,
   "metadata": {},
   "outputs": [
    {
     "name": "stderr",
     "output_type": "stream",
     "text": [
      "C:\\Users\\Fanjum_cwp\\AppData\\Local\\Temp\\2\\ipykernel_2236\\1702125489.py:6: SettingWithCopyWarning: \n",
      "A value is trying to be set on a copy of a slice from a DataFrame\n",
      "\n",
      "See the caveats in the documentation: https://pandas.pydata.org/pandas-docs/stable/user_guide/indexing.html#returning-a-view-versus-a-copy\n",
      "  NearestContractShifted_df.active.iloc[0:backAdjustDays+1] = shifted_contracts\n"
     ]
    },
    {
     "ename": "KeyError",
     "evalue": "1008.0",
     "output_type": "error",
     "traceback": [
      "\u001b[1;31m---------------------------------------------------------------------------\u001b[0m",
      "\u001b[1;31mKeyError\u001b[0m                                  Traceback (most recent call last)",
      "File \u001b[1;32m\\\\VSYS-P-GW01.cloud.vsys.ca\\RDFolderRedirect$\\fanjum_cwp\\Desktop\\Python\\2x4\\venv\\Lib\\site-packages\\pandas\\core\\indexes\\base.py:3621\u001b[0m, in \u001b[0;36mIndex.get_loc\u001b[1;34m(self, key, method, tolerance)\u001b[0m\n\u001b[0;32m   <a href='file://vsys-p-gw01.cloud.vsys.ca/RDFolderRedirect%24/fanjum_cwp/Desktop/Python/2x4/venv/Lib/site-packages/pandas/core/indexes/base.py?line=3619'>3620</a>\u001b[0m \u001b[39mtry\u001b[39;00m:\n\u001b[1;32m-> <a href='file://vsys-p-gw01.cloud.vsys.ca/RDFolderRedirect%24/fanjum_cwp/Desktop/Python/2x4/venv/Lib/site-packages/pandas/core/indexes/base.py?line=3620'>3621</a>\u001b[0m     \u001b[39mreturn\u001b[39;00m \u001b[39mself\u001b[39;49m\u001b[39m.\u001b[39;49m_engine\u001b[39m.\u001b[39;49mget_loc(casted_key)\n\u001b[0;32m   <a href='file://vsys-p-gw01.cloud.vsys.ca/RDFolderRedirect%24/fanjum_cwp/Desktop/Python/2x4/venv/Lib/site-packages/pandas/core/indexes/base.py?line=3621'>3622</a>\u001b[0m \u001b[39mexcept\u001b[39;00m \u001b[39mKeyError\u001b[39;00m \u001b[39mas\u001b[39;00m err:\n",
      "File \u001b[1;32m\\\\VSYS-P-GW01.cloud.vsys.ca\\RDFolderRedirect$\\fanjum_cwp\\Desktop\\Python\\2x4\\venv\\Lib\\site-packages\\pandas\\_libs\\index.pyx:136\u001b[0m, in \u001b[0;36mpandas._libs.index.IndexEngine.get_loc\u001b[1;34m()\u001b[0m\n",
      "File \u001b[1;32m\\\\VSYS-P-GW01.cloud.vsys.ca\\RDFolderRedirect$\\fanjum_cwp\\Desktop\\Python\\2x4\\venv\\Lib\\site-packages\\pandas\\_libs\\index.pyx:163\u001b[0m, in \u001b[0;36mpandas._libs.index.IndexEngine.get_loc\u001b[1;34m()\u001b[0m\n",
      "File \u001b[1;32mpandas\\_libs\\hashtable_class_helper.pxi:5198\u001b[0m, in \u001b[0;36mpandas._libs.hashtable.PyObjectHashTable.get_item\u001b[1;34m()\u001b[0m\n",
      "File \u001b[1;32mpandas\\_libs\\hashtable_class_helper.pxi:5206\u001b[0m, in \u001b[0;36mpandas._libs.hashtable.PyObjectHashTable.get_item\u001b[1;34m()\u001b[0m\n",
      "\u001b[1;31mKeyError\u001b[0m: 1008",
      "\nThe above exception was the direct cause of the following exception:\n",
      "\u001b[1;31mKeyError\u001b[0m                                  Traceback (most recent call last)",
      "\u001b[1;32mc:\\source\\2x4_data\\app\\feature_selection\\Aggregated_BarChart_OHLCV.ipynb Cell 32'\u001b[0m in \u001b[0;36m<module>\u001b[1;34m\u001b[0m\n\u001b[0;32m      <a href='vscode-notebook-cell:/c%3A/source/2x4_data/app/feature_selection/Aggregated_BarChart_OHLCV.ipynb#ch0000026?line=8'>9</a>\u001b[0m \u001b[39mfor\u001b[39;00m i \u001b[39min\u001b[39;00m \u001b[39mrange\u001b[39m(\u001b[39mlen\u001b[39m(NearestContractShifted_df)):\n\u001b[0;32m     <a href='vscode-notebook-cell:/c%3A/source/2x4_data/app/feature_selection/Aggregated_BarChart_OHLCV.ipynb#ch0000026?line=9'>10</a>\u001b[0m     \u001b[39mfor\u001b[39;00m ohlcv_opt \u001b[39min\u001b[39;00m [\u001b[39m'\u001b[39m\u001b[39mopen\u001b[39m\u001b[39m'\u001b[39m,\u001b[39m'\u001b[39m\u001b[39mhigh\u001b[39m\u001b[39m'\u001b[39m,\u001b[39m'\u001b[39m\u001b[39mlow\u001b[39m\u001b[39m'\u001b[39m,\u001b[39m'\u001b[39m\u001b[39mclose\u001b[39m\u001b[39m'\u001b[39m,\u001b[39m'\u001b[39m\u001b[39mvolume\u001b[39m\u001b[39m'\u001b[39m,\u001b[39m'\u001b[39m\u001b[39mopenInterest\u001b[39m\u001b[39m'\u001b[39m]:\n\u001b[1;32m---> <a href='vscode-notebook-cell:/c%3A/source/2x4_data/app/feature_selection/Aggregated_BarChart_OHLCV.ipynb#ch0000026?line=10'>11</a>\u001b[0m         NearestContractShifted_df\u001b[39m.\u001b[39mloc[i, ohlcv_opt] \u001b[39m=\u001b[39m new_combined_pivot[ohlcv_opt]\u001b[39m.\u001b[39;49mloc[NearestContractShifted_df\u001b[39m.\u001b[39;49miloc[i][\u001b[39m0\u001b[39;49m],NearestContractShifted_df\u001b[39m.\u001b[39;49miloc[i][\u001b[39m1\u001b[39;49m]]\n\u001b[0;32m     <a href='vscode-notebook-cell:/c%3A/source/2x4_data/app/feature_selection/Aggregated_BarChart_OHLCV.ipynb#ch0000026?line=12'>13</a>\u001b[0m NearestContractShifted_df\n",
      "File \u001b[1;32m\\\\VSYS-P-GW01.cloud.vsys.ca\\RDFolderRedirect$\\fanjum_cwp\\Desktop\\Python\\2x4\\venv\\Lib\\site-packages\\pandas\\core\\indexing.py:960\u001b[0m, in \u001b[0;36m_LocationIndexer.__getitem__\u001b[1;34m(self, key)\u001b[0m\n\u001b[0;32m    <a href='file://vsys-p-gw01.cloud.vsys.ca/RDFolderRedirect%24/fanjum_cwp/Desktop/Python/2x4/venv/Lib/site-packages/pandas/core/indexing.py?line=957'>958</a>\u001b[0m     key \u001b[39m=\u001b[39m \u001b[39mtuple\u001b[39m(com\u001b[39m.\u001b[39mapply_if_callable(x, \u001b[39mself\u001b[39m\u001b[39m.\u001b[39mobj) \u001b[39mfor\u001b[39;00m x \u001b[39min\u001b[39;00m key)\n\u001b[0;32m    <a href='file://vsys-p-gw01.cloud.vsys.ca/RDFolderRedirect%24/fanjum_cwp/Desktop/Python/2x4/venv/Lib/site-packages/pandas/core/indexing.py?line=958'>959</a>\u001b[0m     \u001b[39mif\u001b[39;00m \u001b[39mself\u001b[39m\u001b[39m.\u001b[39m_is_scalar_access(key):\n\u001b[1;32m--> <a href='file://vsys-p-gw01.cloud.vsys.ca/RDFolderRedirect%24/fanjum_cwp/Desktop/Python/2x4/venv/Lib/site-packages/pandas/core/indexing.py?line=959'>960</a>\u001b[0m         \u001b[39mreturn\u001b[39;00m \u001b[39mself\u001b[39;49m\u001b[39m.\u001b[39;49mobj\u001b[39m.\u001b[39;49m_get_value(\u001b[39m*\u001b[39;49mkey, takeable\u001b[39m=\u001b[39;49m\u001b[39mself\u001b[39;49m\u001b[39m.\u001b[39;49m_takeable)\n\u001b[0;32m    <a href='file://vsys-p-gw01.cloud.vsys.ca/RDFolderRedirect%24/fanjum_cwp/Desktop/Python/2x4/venv/Lib/site-packages/pandas/core/indexing.py?line=960'>961</a>\u001b[0m     \u001b[39mreturn\u001b[39;00m \u001b[39mself\u001b[39m\u001b[39m.\u001b[39m_getitem_tuple(key)\n\u001b[0;32m    <a href='file://vsys-p-gw01.cloud.vsys.ca/RDFolderRedirect%24/fanjum_cwp/Desktop/Python/2x4/venv/Lib/site-packages/pandas/core/indexing.py?line=961'>962</a>\u001b[0m \u001b[39melse\u001b[39;00m:\n\u001b[0;32m    <a href='file://vsys-p-gw01.cloud.vsys.ca/RDFolderRedirect%24/fanjum_cwp/Desktop/Python/2x4/venv/Lib/site-packages/pandas/core/indexing.py?line=962'>963</a>\u001b[0m     \u001b[39m# we by definition only have the 0th axis\u001b[39;00m\n",
      "File \u001b[1;32m\\\\VSYS-P-GW01.cloud.vsys.ca\\RDFolderRedirect$\\fanjum_cwp\\Desktop\\Python\\2x4\\venv\\Lib\\site-packages\\pandas\\core\\frame.py:3615\u001b[0m, in \u001b[0;36mDataFrame._get_value\u001b[1;34m(self, index, col, takeable)\u001b[0m\n\u001b[0;32m   <a href='file://vsys-p-gw01.cloud.vsys.ca/RDFolderRedirect%24/fanjum_cwp/Desktop/Python/2x4/venv/Lib/site-packages/pandas/core/frame.py?line=3611'>3612</a>\u001b[0m     series \u001b[39m=\u001b[39m \u001b[39mself\u001b[39m\u001b[39m.\u001b[39m_ixs(col, axis\u001b[39m=\u001b[39m\u001b[39m1\u001b[39m)\n\u001b[0;32m   <a href='file://vsys-p-gw01.cloud.vsys.ca/RDFolderRedirect%24/fanjum_cwp/Desktop/Python/2x4/venv/Lib/site-packages/pandas/core/frame.py?line=3612'>3613</a>\u001b[0m     \u001b[39mreturn\u001b[39;00m series\u001b[39m.\u001b[39m_values[index]\n\u001b[1;32m-> <a href='file://vsys-p-gw01.cloud.vsys.ca/RDFolderRedirect%24/fanjum_cwp/Desktop/Python/2x4/venv/Lib/site-packages/pandas/core/frame.py?line=3614'>3615</a>\u001b[0m series \u001b[39m=\u001b[39m \u001b[39mself\u001b[39;49m\u001b[39m.\u001b[39;49m_get_item_cache(col)\n\u001b[0;32m   <a href='file://vsys-p-gw01.cloud.vsys.ca/RDFolderRedirect%24/fanjum_cwp/Desktop/Python/2x4/venv/Lib/site-packages/pandas/core/frame.py?line=3615'>3616</a>\u001b[0m engine \u001b[39m=\u001b[39m \u001b[39mself\u001b[39m\u001b[39m.\u001b[39mindex\u001b[39m.\u001b[39m_engine\n\u001b[0;32m   <a href='file://vsys-p-gw01.cloud.vsys.ca/RDFolderRedirect%24/fanjum_cwp/Desktop/Python/2x4/venv/Lib/site-packages/pandas/core/frame.py?line=3617'>3618</a>\u001b[0m \u001b[39mif\u001b[39;00m \u001b[39mnot\u001b[39;00m \u001b[39misinstance\u001b[39m(\u001b[39mself\u001b[39m\u001b[39m.\u001b[39mindex, MultiIndex):\n\u001b[0;32m   <a href='file://vsys-p-gw01.cloud.vsys.ca/RDFolderRedirect%24/fanjum_cwp/Desktop/Python/2x4/venv/Lib/site-packages/pandas/core/frame.py?line=3618'>3619</a>\u001b[0m     \u001b[39m# CategoricalIndex: Trying to use the engine fastpath may give incorrect\u001b[39;00m\n\u001b[0;32m   <a href='file://vsys-p-gw01.cloud.vsys.ca/RDFolderRedirect%24/fanjum_cwp/Desktop/Python/2x4/venv/Lib/site-packages/pandas/core/frame.py?line=3619'>3620</a>\u001b[0m     \u001b[39m#  results if our categories are integers that dont match our codes\u001b[39;00m\n\u001b[0;32m   <a href='file://vsys-p-gw01.cloud.vsys.ca/RDFolderRedirect%24/fanjum_cwp/Desktop/Python/2x4/venv/Lib/site-packages/pandas/core/frame.py?line=3620'>3621</a>\u001b[0m     \u001b[39m# IntervalIndex: IntervalTree has no get_loc\u001b[39;00m\n",
      "File \u001b[1;32m\\\\VSYS-P-GW01.cloud.vsys.ca\\RDFolderRedirect$\\fanjum_cwp\\Desktop\\Python\\2x4\\venv\\Lib\\site-packages\\pandas\\core\\frame.py:3931\u001b[0m, in \u001b[0;36mDataFrame._get_item_cache\u001b[1;34m(self, item)\u001b[0m\n\u001b[0;32m   <a href='file://vsys-p-gw01.cloud.vsys.ca/RDFolderRedirect%24/fanjum_cwp/Desktop/Python/2x4/venv/Lib/site-packages/pandas/core/frame.py?line=3925'>3926</a>\u001b[0m res \u001b[39m=\u001b[39m cache\u001b[39m.\u001b[39mget(item)\n\u001b[0;32m   <a href='file://vsys-p-gw01.cloud.vsys.ca/RDFolderRedirect%24/fanjum_cwp/Desktop/Python/2x4/venv/Lib/site-packages/pandas/core/frame.py?line=3926'>3927</a>\u001b[0m \u001b[39mif\u001b[39;00m res \u001b[39mis\u001b[39;00m \u001b[39mNone\u001b[39;00m:\n\u001b[0;32m   <a href='file://vsys-p-gw01.cloud.vsys.ca/RDFolderRedirect%24/fanjum_cwp/Desktop/Python/2x4/venv/Lib/site-packages/pandas/core/frame.py?line=3927'>3928</a>\u001b[0m     \u001b[39m# All places that call _get_item_cache have unique columns,\u001b[39;00m\n\u001b[0;32m   <a href='file://vsys-p-gw01.cloud.vsys.ca/RDFolderRedirect%24/fanjum_cwp/Desktop/Python/2x4/venv/Lib/site-packages/pandas/core/frame.py?line=3928'>3929</a>\u001b[0m     \u001b[39m#  pending resolution of GH#33047\u001b[39;00m\n\u001b[1;32m-> <a href='file://vsys-p-gw01.cloud.vsys.ca/RDFolderRedirect%24/fanjum_cwp/Desktop/Python/2x4/venv/Lib/site-packages/pandas/core/frame.py?line=3930'>3931</a>\u001b[0m     loc \u001b[39m=\u001b[39m \u001b[39mself\u001b[39;49m\u001b[39m.\u001b[39;49mcolumns\u001b[39m.\u001b[39;49mget_loc(item)\n\u001b[0;32m   <a href='file://vsys-p-gw01.cloud.vsys.ca/RDFolderRedirect%24/fanjum_cwp/Desktop/Python/2x4/venv/Lib/site-packages/pandas/core/frame.py?line=3931'>3932</a>\u001b[0m     res \u001b[39m=\u001b[39m \u001b[39mself\u001b[39m\u001b[39m.\u001b[39m_ixs(loc, axis\u001b[39m=\u001b[39m\u001b[39m1\u001b[39m)\n\u001b[0;32m   <a href='file://vsys-p-gw01.cloud.vsys.ca/RDFolderRedirect%24/fanjum_cwp/Desktop/Python/2x4/venv/Lib/site-packages/pandas/core/frame.py?line=3933'>3934</a>\u001b[0m     cache[item] \u001b[39m=\u001b[39m res\n",
      "File \u001b[1;32m\\\\VSYS-P-GW01.cloud.vsys.ca\\RDFolderRedirect$\\fanjum_cwp\\Desktop\\Python\\2x4\\venv\\Lib\\site-packages\\pandas\\core\\indexes\\base.py:3623\u001b[0m, in \u001b[0;36mIndex.get_loc\u001b[1;34m(self, key, method, tolerance)\u001b[0m\n\u001b[0;32m   <a href='file://vsys-p-gw01.cloud.vsys.ca/RDFolderRedirect%24/fanjum_cwp/Desktop/Python/2x4/venv/Lib/site-packages/pandas/core/indexes/base.py?line=3620'>3621</a>\u001b[0m     \u001b[39mreturn\u001b[39;00m \u001b[39mself\u001b[39m\u001b[39m.\u001b[39m_engine\u001b[39m.\u001b[39mget_loc(casted_key)\n\u001b[0;32m   <a href='file://vsys-p-gw01.cloud.vsys.ca/RDFolderRedirect%24/fanjum_cwp/Desktop/Python/2x4/venv/Lib/site-packages/pandas/core/indexes/base.py?line=3621'>3622</a>\u001b[0m \u001b[39mexcept\u001b[39;00m \u001b[39mKeyError\u001b[39;00m \u001b[39mas\u001b[39;00m err:\n\u001b[1;32m-> <a href='file://vsys-p-gw01.cloud.vsys.ca/RDFolderRedirect%24/fanjum_cwp/Desktop/Python/2x4/venv/Lib/site-packages/pandas/core/indexes/base.py?line=3622'>3623</a>\u001b[0m     \u001b[39mraise\u001b[39;00m \u001b[39mKeyError\u001b[39;00m(key) \u001b[39mfrom\u001b[39;00m \u001b[39merr\u001b[39;00m\n\u001b[0;32m   <a href='file://vsys-p-gw01.cloud.vsys.ca/RDFolderRedirect%24/fanjum_cwp/Desktop/Python/2x4/venv/Lib/site-packages/pandas/core/indexes/base.py?line=3623'>3624</a>\u001b[0m \u001b[39mexcept\u001b[39;00m \u001b[39mTypeError\u001b[39;00m:\n\u001b[0;32m   <a href='file://vsys-p-gw01.cloud.vsys.ca/RDFolderRedirect%24/fanjum_cwp/Desktop/Python/2x4/venv/Lib/site-packages/pandas/core/indexes/base.py?line=3624'>3625</a>\u001b[0m     \u001b[39m# If we have a listlike key, _check_indexing_error will raise\u001b[39;00m\n\u001b[0;32m   <a href='file://vsys-p-gw01.cloud.vsys.ca/RDFolderRedirect%24/fanjum_cwp/Desktop/Python/2x4/venv/Lib/site-packages/pandas/core/indexes/base.py?line=3625'>3626</a>\u001b[0m     \u001b[39m#  InvalidIndexError. Otherwise we fall through and re-raise\u001b[39;00m\n\u001b[0;32m   <a href='file://vsys-p-gw01.cloud.vsys.ca/RDFolderRedirect%24/fanjum_cwp/Desktop/Python/2x4/venv/Lib/site-packages/pandas/core/indexes/base.py?line=3626'>3627</a>\u001b[0m     \u001b[39m#  the TypeError.\u001b[39;00m\n\u001b[0;32m   <a href='file://vsys-p-gw01.cloud.vsys.ca/RDFolderRedirect%24/fanjum_cwp/Desktop/Python/2x4/venv/Lib/site-packages/pandas/core/indexes/base.py?line=3627'>3628</a>\u001b[0m     \u001b[39mself\u001b[39m\u001b[39m.\u001b[39m_check_indexing_error(key)\n",
      "\u001b[1;31mKeyError\u001b[0m: 1008.0"
     ]
    }
   ],
   "source": [
    "# Takes 40 seconds\n",
    "backAdjustDays = 1       # 0 means expired on the day of expiry\n",
    "NearestContractShifted_df = NearestContract_df.copy(deep=True)\n",
    "shifted_contracts = pd.Series(NearestContractShifted_df.active[0:backAdjustDays+1].values)\n",
    "NearestContractShifted_df.active = NearestContractShifted_df.active.shift(periods=(backAdjustDays+1))\n",
    "NearestContractShifted_df.active.iloc[0:backAdjustDays+1] = shifted_contracts\n",
    "NearestContractShifted_df.active.reset_index(drop=True, inplace=True)\n",
    "\n",
    "for i in range(len(NearestContractShifted_df)):\n",
    "    for ohlcv_opt in ['open','high','low','close','volume','openInterest']:\n",
    "        NearestContractShifted_df.loc[i, ohlcv_opt] = new_combined_pivot[ohlcv_opt].loc[NearestContractShifted_df.iloc[i][0],NearestContractShifted_df.iloc[i][1]]\n",
    "\n",
    "NearestContractShifted_df"
   ]
  },
  {
   "cell_type": "code",
   "execution_count": 33,
   "metadata": {},
   "outputs": [
    {
     "data": {
      "text/html": [
       "<div>\n",
       "<style scoped>\n",
       "    .dataframe tbody tr th:only-of-type {\n",
       "        vertical-align: middle;\n",
       "    }\n",
       "\n",
       "    .dataframe tbody tr th {\n",
       "        vertical-align: top;\n",
       "    }\n",
       "\n",
       "    .dataframe thead th {\n",
       "        text-align: right;\n",
       "    }\n",
       "</style>\n",
       "<table border=\"1\" class=\"dataframe\">\n",
       "  <thead>\n",
       "    <tr style=\"text-align: right;\">\n",
       "      <th></th>\n",
       "      <th>active</th>\n",
       "      <th>open</th>\n",
       "      <th>high</th>\n",
       "      <th>low</th>\n",
       "      <th>close</th>\n",
       "      <th>volume</th>\n",
       "      <th>openInterest</th>\n",
       "    </tr>\n",
       "    <tr>\n",
       "      <th>dt</th>\n",
       "      <th></th>\n",
       "      <th></th>\n",
       "      <th></th>\n",
       "      <th></th>\n",
       "      <th></th>\n",
       "      <th></th>\n",
       "      <th></th>\n",
       "    </tr>\n",
       "  </thead>\n",
       "  <tbody>\n",
       "    <tr>\n",
       "      <th>2022-05-10</th>\n",
       "      <td>LSK22</td>\n",
       "      <td>1008.00</td>\n",
       "      <td>1025.00</td>\n",
       "      <td>1008.0</td>\n",
       "      <td>1022.0</td>\n",
       "      <td>53.0</td>\n",
       "      <td>0.0</td>\n",
       "    </tr>\n",
       "    <tr>\n",
       "      <th>2022-05-09</th>\n",
       "      <td>LSK22</td>\n",
       "      <td>1000.10</td>\n",
       "      <td>1015.00</td>\n",
       "      <td>975.0</td>\n",
       "      <td>1009.0</td>\n",
       "      <td>89.0</td>\n",
       "      <td>163.0</td>\n",
       "    </tr>\n",
       "    <tr>\n",
       "      <th>2022-05-06</th>\n",
       "      <td>LSK22</td>\n",
       "      <td>990.00</td>\n",
       "      <td>1005.00</td>\n",
       "      <td>985.0</td>\n",
       "      <td>1000.1</td>\n",
       "      <td>147.0</td>\n",
       "      <td>237.0</td>\n",
       "    </tr>\n",
       "    <tr>\n",
       "      <th>2022-05-05</th>\n",
       "      <td>LSK22</td>\n",
       "      <td>1010.00</td>\n",
       "      <td>1033.40</td>\n",
       "      <td>993.8</td>\n",
       "      <td>1020.0</td>\n",
       "      <td>131.0</td>\n",
       "      <td>340.0</td>\n",
       "    </tr>\n",
       "    <tr>\n",
       "      <th>2022-05-04</th>\n",
       "      <td>LSK22</td>\n",
       "      <td>1021.60</td>\n",
       "      <td>1025.50</td>\n",
       "      <td>980.0</td>\n",
       "      <td>1010.0</td>\n",
       "      <td>144.0</td>\n",
       "      <td>443.0</td>\n",
       "    </tr>\n",
       "    <tr>\n",
       "      <th>...</th>\n",
       "      <td>...</td>\n",
       "      <td>...</td>\n",
       "      <td>...</td>\n",
       "      <td>...</td>\n",
       "      <td>...</td>\n",
       "      <td>...</td>\n",
       "      <td>...</td>\n",
       "    </tr>\n",
       "    <tr>\n",
       "      <th>1969-10-07</th>\n",
       "      <td>LSH70</td>\n",
       "      <td>78.50</td>\n",
       "      <td>79.00</td>\n",
       "      <td>78.0</td>\n",
       "      <td>79.0</td>\n",
       "      <td>0.0</td>\n",
       "      <td>0.0</td>\n",
       "    </tr>\n",
       "    <tr>\n",
       "      <th>1969-10-06</th>\n",
       "      <td>LSH70</td>\n",
       "      <td>80.00</td>\n",
       "      <td>80.50</td>\n",
       "      <td>80.0</td>\n",
       "      <td>80.0</td>\n",
       "      <td>0.0</td>\n",
       "      <td>0.0</td>\n",
       "    </tr>\n",
       "    <tr>\n",
       "      <th>1969-10-03</th>\n",
       "      <td>LSH70</td>\n",
       "      <td>80.00</td>\n",
       "      <td>80.00</td>\n",
       "      <td>80.0</td>\n",
       "      <td>80.0</td>\n",
       "      <td>0.0</td>\n",
       "      <td>0.0</td>\n",
       "    </tr>\n",
       "    <tr>\n",
       "      <th>1969-10-02</th>\n",
       "      <td>LSH70</td>\n",
       "      <td>80.25</td>\n",
       "      <td>80.50</td>\n",
       "      <td>79.5</td>\n",
       "      <td>80.5</td>\n",
       "      <td>0.0</td>\n",
       "      <td>0.0</td>\n",
       "    </tr>\n",
       "    <tr>\n",
       "      <th>1969-10-01</th>\n",
       "      <td>LSH70</td>\n",
       "      <td>78.00</td>\n",
       "      <td>80.25</td>\n",
       "      <td>78.0</td>\n",
       "      <td>80.0</td>\n",
       "      <td>0.0</td>\n",
       "      <td>0.0</td>\n",
       "    </tr>\n",
       "  </tbody>\n",
       "</table>\n",
       "<p>13260 rows × 7 columns</p>\n",
       "</div>"
      ],
      "text/plain": [
       "           active     open     high     low   close  volume  openInterest\n",
       "dt                                                                       \n",
       "2022-05-10  LSK22  1008.00  1025.00  1008.0  1022.0    53.0           0.0\n",
       "2022-05-09  LSK22  1000.10  1015.00   975.0  1009.0    89.0         163.0\n",
       "2022-05-06  LSK22   990.00  1005.00   985.0  1000.1   147.0         237.0\n",
       "2022-05-05  LSK22  1010.00  1033.40   993.8  1020.0   131.0         340.0\n",
       "2022-05-04  LSK22  1021.60  1025.50   980.0  1010.0   144.0         443.0\n",
       "...           ...      ...      ...     ...     ...     ...           ...\n",
       "1969-10-07  LSH70    78.50    79.00    78.0    79.0     0.0           0.0\n",
       "1969-10-06  LSH70    80.00    80.50    80.0    80.0     0.0           0.0\n",
       "1969-10-03  LSH70    80.00    80.00    80.0    80.0     0.0           0.0\n",
       "1969-10-02  LSH70    80.25    80.50    79.5    80.5     0.0           0.0\n",
       "1969-10-01  LSH70    78.00    80.25    78.0    80.0     0.0           0.0\n",
       "\n",
       "[13260 rows x 7 columns]"
      ]
     },
     "execution_count": 33,
     "metadata": {},
     "output_type": "execute_result"
    }
   ],
   "source": [
    "NearestContract_df"
   ]
  },
  {
   "cell_type": "code",
   "execution_count": 35,
   "metadata": {},
   "outputs": [],
   "source": [
    "# (NearestContractShifted_df == NearestContract_df).all()"
   ]
  },
  {
   "cell_type": "code",
   "execution_count": null,
   "metadata": {},
   "outputs": [],
   "source": [
    "NearestContractShifted_df"
   ]
  },
  {
   "cell_type": "code",
   "execution_count": null,
   "metadata": {},
   "outputs": [],
   "source": [
    "# (NearestContract_df == NearestContractShifted_df).all()"
   ]
  },
  {
   "cell_type": "code",
   "execution_count": null,
   "metadata": {},
   "outputs": [],
   "source": [
    "len(NearestContract_df), len(NearestContractShifted_df)"
   ]
  },
  {
   "cell_type": "code",
   "execution_count": null,
   "metadata": {},
   "outputs": [],
   "source": [
    "NearestContractShifted_df"
   ]
  },
  {
   "cell_type": "code",
   "execution_count": null,
   "metadata": {},
   "outputs": [],
   "source": [
    "expiry_nearest"
   ]
  },
  {
   "cell_type": "code",
   "execution_count": 30,
   "metadata": {},
   "outputs": [],
   "source": [
    "\n",
    "NearestContract_df.index = NearestContract_df.dt\n",
    "NearestContract_df.drop('dt', axis=1,inplace = True)\n",
    "\n",
    "NearestContractShifted_df.index = NearestContractShifted_df.dt\n",
    "NearestContractShifted_df.drop('dt', axis=1,inplace = True)\n",
    "\n",
    "# ComparisonNearestContractdf=NearestContract_df.compare(NearestContractShifted_df)\n",
    "# ComparisonNearestContractdf"
   ]
  },
  {
   "cell_type": "code",
   "execution_count": 31,
   "metadata": {},
   "outputs": [],
   "source": [
    "# Find Index\n",
    "\n",
    "idx_to_compare = NearestContract_df.active.compare(NearestContractShifted_df.active).index\n",
    "\n",
    "compare_columns = []\n",
    "for t in NearestContract_df.columns:\n",
    "    compare_columns.append(tuple([t,'self']))\n",
    "    compare_columns.append(tuple([t,'other']))\n",
    "\n",
    "ComparisonNearestContractdf = pd.DataFrame(index=idx_to_compare, columns=pd.MultiIndex.from_tuples(compare_columns))\n",
    "\n",
    "for idx in idx_to_compare:\n",
    "    for t in NearestContract_df.columns:\n",
    "        ComparisonNearestContractdf.loc[idx,tuple([t,'self'])] = NearestContract_df.loc[idx,t]\n",
    "        ComparisonNearestContractdf.loc[idx,tuple([t,'other'])] = NearestContractShifted_df.loc[idx,t]"
   ]
  },
  {
   "cell_type": "code",
   "execution_count": 32,
   "metadata": {},
   "outputs": [
    {
     "data": {
      "text/html": [
       "<div>\n",
       "<style scoped>\n",
       "    .dataframe tbody tr th:only-of-type {\n",
       "        vertical-align: middle;\n",
       "    }\n",
       "\n",
       "    .dataframe tbody tr th {\n",
       "        vertical-align: top;\n",
       "    }\n",
       "\n",
       "    .dataframe thead tr th {\n",
       "        text-align: left;\n",
       "    }\n",
       "\n",
       "    .dataframe thead tr:last-of-type th {\n",
       "        text-align: right;\n",
       "    }\n",
       "</style>\n",
       "<table border=\"1\" class=\"dataframe\">\n",
       "  <thead>\n",
       "    <tr>\n",
       "      <th></th>\n",
       "      <th colspan=\"2\" halign=\"left\">active</th>\n",
       "      <th colspan=\"2\" halign=\"left\">open</th>\n",
       "      <th colspan=\"2\" halign=\"left\">high</th>\n",
       "      <th colspan=\"2\" halign=\"left\">low</th>\n",
       "      <th colspan=\"2\" halign=\"left\">close</th>\n",
       "      <th colspan=\"2\" halign=\"left\">volume</th>\n",
       "      <th colspan=\"2\" halign=\"left\">openInterest</th>\n",
       "    </tr>\n",
       "    <tr>\n",
       "      <th></th>\n",
       "      <th>self</th>\n",
       "      <th>other</th>\n",
       "      <th>self</th>\n",
       "      <th>other</th>\n",
       "      <th>self</th>\n",
       "      <th>other</th>\n",
       "      <th>self</th>\n",
       "      <th>other</th>\n",
       "      <th>self</th>\n",
       "      <th>other</th>\n",
       "      <th>self</th>\n",
       "      <th>other</th>\n",
       "      <th>self</th>\n",
       "      <th>other</th>\n",
       "    </tr>\n",
       "    <tr>\n",
       "      <th>dt</th>\n",
       "      <th></th>\n",
       "      <th></th>\n",
       "      <th></th>\n",
       "      <th></th>\n",
       "      <th></th>\n",
       "      <th></th>\n",
       "      <th></th>\n",
       "      <th></th>\n",
       "      <th></th>\n",
       "      <th></th>\n",
       "      <th></th>\n",
       "      <th></th>\n",
       "      <th></th>\n",
       "      <th></th>\n",
       "    </tr>\n",
       "  </thead>\n",
       "  <tbody>\n",
       "    <tr>\n",
       "      <th>2022-03-15</th>\n",
       "      <td>LSH22</td>\n",
       "      <td>LSK22</td>\n",
       "      <td>1420.0</td>\n",
       "      <td>1103.6</td>\n",
       "      <td>1420.0</td>\n",
       "      <td>1160.4</td>\n",
       "      <td>1420.0</td>\n",
       "      <td>1076.6</td>\n",
       "      <td>1420.0</td>\n",
       "      <td>1160.4</td>\n",
       "      <td>0.0</td>\n",
       "      <td>213.0</td>\n",
       "      <td>24.0</td>\n",
       "      <td>1556.0</td>\n",
       "    </tr>\n",
       "    <tr>\n",
       "      <th>2022-03-14</th>\n",
       "      <td>LSH22</td>\n",
       "      <td>LSK22</td>\n",
       "      <td>1348.0</td>\n",
       "      <td>1125.0</td>\n",
       "      <td>1430.0</td>\n",
       "      <td>1129.2</td>\n",
       "      <td>1348.0</td>\n",
       "      <td>1073.2</td>\n",
       "      <td>1410.0</td>\n",
       "      <td>1103.4</td>\n",
       "      <td>33.0</td>\n",
       "      <td>346.0</td>\n",
       "      <td>24.0</td>\n",
       "      <td>1520.0</td>\n",
       "    </tr>\n",
       "    <tr>\n",
       "      <th>2022-01-14</th>\n",
       "      <td>LSF22</td>\n",
       "      <td>LSH22</td>\n",
       "      <td>1270.0</td>\n",
       "      <td>1337.6</td>\n",
       "      <td>1289.0</td>\n",
       "      <td>1338.2</td>\n",
       "      <td>1210.0</td>\n",
       "      <td>1289.0</td>\n",
       "      <td>1237.1</td>\n",
       "      <td>1308.7</td>\n",
       "      <td>34.0</td>\n",
       "      <td>242.0</td>\n",
       "      <td>0.0</td>\n",
       "      <td>1941.0</td>\n",
       "    </tr>\n",
       "    <tr>\n",
       "      <th>2022-01-13</th>\n",
       "      <td>LSF22</td>\n",
       "      <td>LSH22</td>\n",
       "      <td>1244.7</td>\n",
       "      <td>1308.6</td>\n",
       "      <td>1244.7</td>\n",
       "      <td>1329.0</td>\n",
       "      <td>1217.0</td>\n",
       "      <td>1283.9</td>\n",
       "      <td>1229.1</td>\n",
       "      <td>1329.0</td>\n",
       "      <td>84.0</td>\n",
       "      <td>337.0</td>\n",
       "      <td>69.0</td>\n",
       "      <td>1895.0</td>\n",
       "    </tr>\n",
       "    <tr>\n",
       "      <th>2021-11-15</th>\n",
       "      <td>LSX21</td>\n",
       "      <td>LSF22</td>\n",
       "      <td>531.1</td>\n",
       "      <td>621.1</td>\n",
       "      <td>550.0</td>\n",
       "      <td>644.1</td>\n",
       "      <td>531.1</td>\n",
       "      <td>620.0</td>\n",
       "      <td>536.0</td>\n",
       "      <td>637.0</td>\n",
       "      <td>20.0</td>\n",
       "      <td>120.0</td>\n",
       "      <td>54.0</td>\n",
       "      <td>1271.0</td>\n",
       "    </tr>\n",
       "    <tr>\n",
       "      <th>...</th>\n",
       "      <td>...</td>\n",
       "      <td>...</td>\n",
       "      <td>...</td>\n",
       "      <td>...</td>\n",
       "      <td>...</td>\n",
       "      <td>...</td>\n",
       "      <td>...</td>\n",
       "      <td>...</td>\n",
       "      <td>...</td>\n",
       "      <td>...</td>\n",
       "      <td>...</td>\n",
       "      <td>...</td>\n",
       "      <td>...</td>\n",
       "      <td>...</td>\n",
       "    </tr>\n",
       "    <tr>\n",
       "      <th>1970-07-14</th>\n",
       "      <td>LSN70</td>\n",
       "      <td>LSU70</td>\n",
       "      <td>68.25</td>\n",
       "      <td>75.5</td>\n",
       "      <td>70.0</td>\n",
       "      <td>75.75</td>\n",
       "      <td>68.25</td>\n",
       "      <td>75.2</td>\n",
       "      <td>68.25</td>\n",
       "      <td>75.5</td>\n",
       "      <td>0.0</td>\n",
       "      <td>0.0</td>\n",
       "      <td>0.0</td>\n",
       "      <td>0.0</td>\n",
       "    </tr>\n",
       "    <tr>\n",
       "      <th>1970-05-15</th>\n",
       "      <td>LSK70</td>\n",
       "      <td>LSN70</td>\n",
       "      <td>73.5</td>\n",
       "      <td>78.5</td>\n",
       "      <td>74.0</td>\n",
       "      <td>78.5</td>\n",
       "      <td>72.5</td>\n",
       "      <td>77.0</td>\n",
       "      <td>73.5</td>\n",
       "      <td>78.5</td>\n",
       "      <td>0.0</td>\n",
       "      <td>0.0</td>\n",
       "      <td>0.0</td>\n",
       "      <td>0.0</td>\n",
       "    </tr>\n",
       "    <tr>\n",
       "      <th>1970-05-14</th>\n",
       "      <td>LSK70</td>\n",
       "      <td>LSN70</td>\n",
       "      <td>73.5</td>\n",
       "      <td>77.5</td>\n",
       "      <td>73.75</td>\n",
       "      <td>78.25</td>\n",
       "      <td>73.0</td>\n",
       "      <td>77.5</td>\n",
       "      <td>73.5</td>\n",
       "      <td>77.5</td>\n",
       "      <td>0.0</td>\n",
       "      <td>0.0</td>\n",
       "      <td>0.0</td>\n",
       "      <td>0.0</td>\n",
       "    </tr>\n",
       "    <tr>\n",
       "      <th>1970-03-13</th>\n",
       "      <td>LSH70</td>\n",
       "      <td>LSK70</td>\n",
       "      <td>70.5</td>\n",
       "      <td>77.5</td>\n",
       "      <td>75.5</td>\n",
       "      <td>79.25</td>\n",
       "      <td>70.5</td>\n",
       "      <td>77.5</td>\n",
       "      <td>70.5</td>\n",
       "      <td>77.5</td>\n",
       "      <td>0.0</td>\n",
       "      <td>0.0</td>\n",
       "      <td>0.0</td>\n",
       "      <td>0.0</td>\n",
       "    </tr>\n",
       "    <tr>\n",
       "      <th>1970-03-12</th>\n",
       "      <td>LSH70</td>\n",
       "      <td>LSK70</td>\n",
       "      <td>75.5</td>\n",
       "      <td>79.0</td>\n",
       "      <td>75.5</td>\n",
       "      <td>79.75</td>\n",
       "      <td>75.0</td>\n",
       "      <td>79.0</td>\n",
       "      <td>75.5</td>\n",
       "      <td>79.0</td>\n",
       "      <td>0.0</td>\n",
       "      <td>0.0</td>\n",
       "      <td>0.0</td>\n",
       "      <td>0.0</td>\n",
       "    </tr>\n",
       "  </tbody>\n",
       "</table>\n",
       "<p>628 rows × 14 columns</p>\n",
       "</div>"
      ],
      "text/plain": [
       "           active           open            high             low          \\\n",
       "             self  other    self   other    self   other    self   other   \n",
       "dt                                                                         \n",
       "2022-03-15  LSH22  LSK22  1420.0  1103.6  1420.0  1160.4  1420.0  1076.6   \n",
       "2022-03-14  LSH22  LSK22  1348.0  1125.0  1430.0  1129.2  1348.0  1073.2   \n",
       "2022-01-14  LSF22  LSH22  1270.0  1337.6  1289.0  1338.2  1210.0  1289.0   \n",
       "2022-01-13  LSF22  LSH22  1244.7  1308.6  1244.7  1329.0  1217.0  1283.9   \n",
       "2021-11-15  LSX21  LSF22   531.1   621.1   550.0   644.1   531.1   620.0   \n",
       "...           ...    ...     ...     ...     ...     ...     ...     ...   \n",
       "1970-07-14  LSN70  LSU70   68.25    75.5    70.0   75.75   68.25    75.2   \n",
       "1970-05-15  LSK70  LSN70    73.5    78.5    74.0    78.5    72.5    77.0   \n",
       "1970-05-14  LSK70  LSN70    73.5    77.5   73.75   78.25    73.0    77.5   \n",
       "1970-03-13  LSH70  LSK70    70.5    77.5    75.5   79.25    70.5    77.5   \n",
       "1970-03-12  LSH70  LSK70    75.5    79.0    75.5   79.75    75.0    79.0   \n",
       "\n",
       "             close         volume        openInterest          \n",
       "              self   other   self  other         self   other  \n",
       "dt                                                             \n",
       "2022-03-15  1420.0  1160.4    0.0  213.0         24.0  1556.0  \n",
       "2022-03-14  1410.0  1103.4   33.0  346.0         24.0  1520.0  \n",
       "2022-01-14  1237.1  1308.7   34.0  242.0          0.0  1941.0  \n",
       "2022-01-13  1229.1  1329.0   84.0  337.0         69.0  1895.0  \n",
       "2021-11-15   536.0   637.0   20.0  120.0         54.0  1271.0  \n",
       "...            ...     ...    ...    ...          ...     ...  \n",
       "1970-07-14   68.25    75.5    0.0    0.0          0.0     0.0  \n",
       "1970-05-15    73.5    78.5    0.0    0.0          0.0     0.0  \n",
       "1970-05-14    73.5    77.5    0.0    0.0          0.0     0.0  \n",
       "1970-03-13    70.5    77.5    0.0    0.0          0.0     0.0  \n",
       "1970-03-12    75.5    79.0    0.0    0.0          0.0     0.0  \n",
       "\n",
       "[628 rows x 14 columns]"
      ]
     },
     "execution_count": 32,
     "metadata": {},
     "output_type": "execute_result"
    }
   ],
   "source": [
    "ComparisonNearestContractdf"
   ]
  },
  {
   "cell_type": "code",
   "execution_count": null,
   "metadata": {},
   "outputs": [],
   "source": [
    "ComparisonNearestContractdf"
   ]
  },
  {
   "cell_type": "code",
   "execution_count": null,
   "metadata": {},
   "outputs": [],
   "source": [
    "ComparisonNearestContractdf.loc['1989-11-14']\n"
   ]
  },
  {
   "cell_type": "code",
   "execution_count": null,
   "metadata": {},
   "outputs": [],
   "source": [
    "ComparisonNearestContractdf"
   ]
  },
  {
   "cell_type": "code",
   "execution_count": null,
   "metadata": {},
   "outputs": [],
   "source": [
    "# ComparisonNearestContractdf=NearestContract_df.compare(NearestContractShifted_df)\n",
    "# ComparisonNearestContractdf"
   ]
  },
  {
   "cell_type": "code",
   "execution_count": null,
   "metadata": {},
   "outputs": [],
   "source": [
    "for ohlcv_opt in ['open','high','low','close','volume','openInterest']:\n",
    "    ComparisonNearestContractdf[str('Diff_'+ohlcv_opt)] = ComparisonNearestContractdf.loc[:,(ohlcv_opt,'other')].sub(ComparisonNearestContractdf.loc[:,(ohlcv_opt,'self')], axis = 0)\n",
    "    ComparisonNearestContractdf[str('Prod_'+ohlcv_opt)] = ComparisonNearestContractdf.loc[:,(ohlcv_opt,'other')].div(ComparisonNearestContractdf.loc[:,(ohlcv_opt,'self')], axis = 0)\n",
    "\n",
    "ComparisonNearestContractdf\n"
   ]
  },
  {
   "cell_type": "markdown",
   "metadata": {},
   "source": [
    "# Cumulative Adjustment - Choice Used 'Substraction'"
   ]
  },
  {
   "cell_type": "code",
   "execution_count": null,
   "metadata": {},
   "outputs": [],
   "source": [
    "backAdjustDays = 0\n",
    "weights = [0]* backAdjustDays + [1]*1 # For 100% weight on the last day\n",
    "weights"
   ]
  },
  {
   "cell_type": "code",
   "execution_count": null,
   "metadata": {},
   "outputs": [],
   "source": [
    "cumulative_df = {}\n",
    "final_df = {}\n",
    "ohlcv_DF = pd.DataFrame()\n",
    "\n",
    "# weights options\n",
    "weights = [1/(backAdjustDays+1)]*(backAdjustDays+1) # equally weighted\n",
    "\n",
    "# Use this as default\n",
    "weights = [0]* backAdjustDays + [1]*1 # For 100% weight on the last day\n",
    "\n",
    "\n",
    "#delete this \n",
    "weights = [0.6,0.4]\n",
    "\n",
    "# ,'volume','openInterest' - no adjustment, add unadjusted at the end\n",
    "\n",
    "for ohlcv_opt in ['close','open','high','low']:\n",
    "\n",
    "    column_name = str('Diff_'+ohlcv_opt)\n",
    "    \n",
    "    # Note that for all days from expiry to backAdjustDays, the multiplier is based on that particular day. From backAdjustDays onwards till next expiry, the multiplier is based on weighted average\n",
    "    cumulative_df[ohlcv_opt] = pd.DataFrame(index = ComparisonNearestContractdf.index, data = ComparisonNearestContractdf[column_name])\n",
    "    cumulative_df[ohlcv_opt].reset_index(inplace=True)\n",
    "\n",
    "    # Put weighted average for all days from expiry till backAdjustDays\n",
    "    cumulative_df[ohlcv_opt]['wt_avg'] = cumulative_df[ohlcv_opt][column_name].groupby(cumulative_df[ohlcv_opt].index//(backAdjustDays+1)).apply(lambda x: np.multiply(x,weights)).groupby(cumulative_df[ohlcv_opt].index//(backAdjustDays+1)).transform('sum')\n",
    "    cumulative_df[ohlcv_opt]['Cum_effect'] = cumulative_df[ohlcv_opt]['wt_avg']\n",
    "\n",
    "    # flag == 1 represents (expiry + backAdjustDays)\n",
    "    pivot_backAdjustDays_idx = [x for x in cumulative_df[ohlcv_opt].index if (x % (backAdjustDays+1)) == backAdjustDays]\n",
    "\n",
    "    cumulative_df[ohlcv_opt]['flag'] = [1 if x in pivot_backAdjustDays_idx else 0 for x in cumulative_df[ohlcv_opt].index]\n",
    "\n",
    "    cumulative_df[ohlcv_opt].loc[cumulative_df[ohlcv_opt]['flag'] == 0, 'Cum_effect'] = 0 # Put 0 for all days before backAdjustDays so as to make cumsum work\n",
    "    cumulative_df[ohlcv_opt]['Cum_effect'] = cumulative_df[ohlcv_opt]['Cum_effect'].cumsum()\n",
    "\n",
    "    # Once we have forward filled the cumulative effect, we can take the cumulative effect for days before backAdjustDays\n",
    "    \n",
    "    #The following Line adds weighted effect to days before backAdjustDays\n",
    "    # cumulative_df[ohlcv_opt].loc[cumulative_df[ohlcv_opt]['flag'] == 0, 'Total_effect'] = cumulative_df[ohlcv_opt]['Cum_effect'] + cumulative_df[ohlcv_opt]['wt_avg']\n",
    "    \n",
    "    #The following Line adds daily differece effect to days before backAdjustDays\n",
    "    cumulative_df[ohlcv_opt].loc[cumulative_df[ohlcv_opt]['flag'] == 0, 'Total_effect'] = cumulative_df[ohlcv_opt]['Cum_effect'] + cumulative_df[ohlcv_opt][str('Diff_'+ohlcv_opt)]\n",
    "    cumulative_df[ohlcv_opt].loc[cumulative_df[ohlcv_opt]['flag'] == 1, 'Total_effect'] = cumulative_df[ohlcv_opt]['Cum_effect']\n",
    "\n",
    "    cumulative_df[ohlcv_opt].index  = cumulative_df[ohlcv_opt].dt\n",
    "    cumulative_df[ohlcv_opt].drop('dt', axis=1,inplace = True)\n",
    "    \n",
    "    # Using Total effect of only 'close' column for all OHCL since if we don't use Total effect of 'close' column, we will get issues like \"adj_low\" being higher than \"adj_high\" for some dates\n",
    "    final_df[ohlcv_opt] = pd.DataFrame(index = NearestContract_df.index, data = cumulative_df['close']['Total_effect'] )\n",
    "    final_df[ohlcv_opt].fillna(method='ffill',inplace = True)\n",
    "    final_df[ohlcv_opt].fillna(0,inplace = True)\n",
    "    final_df[ohlcv_opt][ohlcv_opt] = NearestContract_df[ohlcv_opt].values\n",
    "    final_df[ohlcv_opt][str('Adj_'+ohlcv_opt)] = final_df[ohlcv_opt][ohlcv_opt] + final_df['close']['Total_effect']\n",
    "    ohlcv_DF = pd.concat([ohlcv_DF,final_df[ohlcv_opt]],axis=1)\n",
    "\n",
    "ohlcv_DF = pd.concat([ohlcv_DF,NearestContract_df[['volume','openInterest']]],axis=1)\n",
    "ohlcv_DF.drop(['Total_effect'],axis=1,inplace=True)\n"
   ]
  },
  {
   "cell_type": "code",
   "execution_count": null,
   "metadata": {},
   "outputs": [],
   "source": [
    "ohlcv_DF[ohlcv_DF.Adj_high < ohlcv_DF.Adj_low]"
   ]
  },
  {
   "cell_type": "code",
   "execution_count": null,
   "metadata": {},
   "outputs": [],
   "source": [
    "ohlcv_DF[120:]"
   ]
  },
  {
   "cell_type": "code",
   "execution_count": null,
   "metadata": {},
   "outputs": [],
   "source": [
    "NearestContract_df.loc['1989-11-14']"
   ]
  },
  {
   "cell_type": "code",
   "execution_count": null,
   "metadata": {},
   "outputs": [],
   "source": [
    "NearestContractShifted_df.loc['1989-11-14']"
   ]
  },
  {
   "cell_type": "code",
   "execution_count": null,
   "metadata": {},
   "outputs": [],
   "source": [
    "NearestContractShifted_df.loc['1989-11-14']['close']/NearestContract_df.loc['1989-11-14']['close']"
   ]
  },
  {
   "cell_type": "code",
   "execution_count": null,
   "metadata": {},
   "outputs": [],
   "source": [
    "ComparisonNearestContractdf['close'].loc['1989-11-14']"
   ]
  },
  {
   "cell_type": "code",
   "execution_count": null,
   "metadata": {},
   "outputs": [],
   "source": [
    "ohlcv_DF.loc['2004-07-15']"
   ]
  },
  {
   "cell_type": "code",
   "execution_count": null,
   "metadata": {},
   "outputs": [],
   "source": [
    "cumulative_df.keys()"
   ]
  },
  {
   "cell_type": "code",
   "execution_count": null,
   "metadata": {},
   "outputs": [],
   "source": [
    "final_df['high'].loc['2004-07-13']"
   ]
  },
  {
   "cell_type": "code",
   "execution_count": null,
   "metadata": {},
   "outputs": [],
   "source": [
    "# final_df['high'][4480:4520]"
   ]
  },
  {
   "cell_type": "markdown",
   "metadata": {},
   "source": [
    "# why is high lower than the low? Check the data"
   ]
  },
  {
   "cell_type": "code",
   "execution_count": null,
   "metadata": {},
   "outputs": [],
   "source": [
    "oh"
   ]
  },
  {
   "cell_type": "code",
   "execution_count": null,
   "metadata": {},
   "outputs": [],
   "source": [
    "# # Takes 4 mins\n",
    "# writer=pd.ExcelWriter(\"C:/source/2x4_data/app/data/Barchart/lumber_unadjusted_ohlcv.xlsx\") \n",
    "# for key in new_combined_pivot.keys():\n",
    "#     new_combined_pivot[key].to_excel(writer,sheet_name=key)\n",
    "\n",
    "# writer.save()\n",
    "# writer.close()"
   ]
  },
  {
   "cell_type": "code",
   "execution_count": null,
   "metadata": {},
   "outputs": [],
   "source": [
    "\n",
    "ohlcv_DF[ohlcv_DF.Adj_high < ohlcv_DF.Adj_low]"
   ]
  },
  {
   "cell_type": "code",
   "execution_count": null,
   "metadata": {},
   "outputs": [],
   "source": [
    "location = \"C:/source/2x4_data/app/data/Barchart/ohlcv_lumber_adjusted.csv\"\n",
    "# ohlcv_DF.to_csv(location)"
   ]
  },
  {
   "cell_type": "markdown",
   "metadata": {},
   "source": [
    "# PRODUCT Method of Panama"
   ]
  },
  {
   "cell_type": "code",
   "execution_count": null,
   "metadata": {},
   "outputs": [],
   "source": []
  },
  {
   "cell_type": "markdown",
   "metadata": {},
   "source": [
    "# Joining 2 methods"
   ]
  },
  {
   "cell_type": "markdown",
   "metadata": {},
   "source": [
    "## Absolute - or difference"
   ]
  },
  {
   "cell_type": "code",
   "execution_count": null,
   "metadata": {},
   "outputs": [],
   "source": [
    "cumulative_df[ohlcv_opt]"
   ]
  },
  {
   "cell_type": "code",
   "execution_count": null,
   "metadata": {},
   "outputs": [],
   "source": [
    "ComparisonNearestContractdf['Prod_close']"
   ]
  },
  {
   "cell_type": "code",
   "execution_count": null,
   "metadata": {},
   "outputs": [],
   "source": [
    "# cumulative_df['close']\n",
    "ComparisonNearestContractdf['close']"
   ]
  },
  {
   "cell_type": "code",
   "execution_count": null,
   "metadata": {},
   "outputs": [],
   "source": [
    "# # Comparison with Absolute method\n",
    "# backAdjustDays = 1\n",
    "\n",
    "# cumulative_df = {}\n",
    "# final_df = {}\n",
    "# ohlcv_DF = pd.DataFrame()\n",
    "\n",
    "# # weights options\n",
    "# weights = [1/(backAdjustDays+1)]*(backAdjustDays+1) # equally weighted\n",
    "\n",
    "# # Use this as default\n",
    "# weights = [0]* backAdjustDays + [1]*1 # For 100% weight on the last day\n",
    "\n",
    "# # ,'volume','openInterest' - no adjustment, add unadjusted at the end\n",
    "\n",
    "\n",
    "# #delete this\n",
    "# weights = [0.6,0.4]\n",
    "\n",
    "# for ohlcv_opt in ['close','open','high','low']:\n",
    "\n",
    "#     # CHANGE 1\n",
    "#     column_name = str('Prod_'+ohlcv_opt)\n",
    "    \n",
    "#     # Note that for all days from expiry to backAdjustDays, the multiplier is based on that particular day. From backAdjustDays onwards till next expiry, the multiplier is based on weighted average\n",
    "#     cumulative_df[ohlcv_opt] = pd.DataFrame(index = ComparisonNearestContractdf.index, data = ComparisonNearestContractdf[column_name])\n",
    "#     cumulative_df[ohlcv_opt].reset_index(inplace=True)\n",
    "\n",
    "#     # Put weighted average for all days from expiry till backAdjustDays\n",
    "#     cumulative_df[ohlcv_opt]['wt_avg'] = cumulative_df[ohlcv_opt][column_name].groupby(cumulative_df[ohlcv_opt].index//(backAdjustDays+1)).apply(lambda x: np.multiply(x,weights)).groupby(cumulative_df[ohlcv_opt].index//(backAdjustDays+1)).transform('sum') \n",
    "#     cumulative_df[ohlcv_opt]['Cum_effect'] = cumulative_df[ohlcv_opt]['wt_avg']\n",
    "\n",
    "#     # flag == 1 represents the day on (expiry + backAdjustDays)\n",
    "#     pivot_backAdjustDays_idx = [x for x in cumulative_df[ohlcv_opt].index if (x % (backAdjustDays+1)) == backAdjustDays]\n",
    "#     cumulative_df[ohlcv_opt]['flag'] = [1 if x in pivot_backAdjustDays_idx else 0 for x in cumulative_df[ohlcv_opt].index]\n",
    "\n",
    "#     #CHANGE 2\n",
    "#     if(backAdjustDays == 0): # Note since if backAdjustDays = 0, all flags will be 1 and thus they need to be made equal to 1\n",
    "#         pass # If the backAdjustDays equals 0, then its already 1 so no need to put it as 1 \n",
    "#     else:\n",
    "#         cumulative_df[ohlcv_opt].loc[cumulative_df[ohlcv_opt]['flag'] == 0, 'Cum_effect'] = 1 # Put 1 for all days before backAdjustDays so as to make cumprod work\n",
    "\n",
    "#     cumulative_df[ohlcv_opt]['Cum_effect'] = cumulative_df[ohlcv_opt]['Cum_effect'].cumprod()\n",
    "\n",
    "#     # Once we have forward filled the cumulative effect, we can take the cumulative effect for days before backAdjustDays\n",
    "    \n",
    "#     #Change 3\n",
    "#     #The following Line adds weighted effect to days before backAdjustDays\n",
    "#     # cumulative_df[ohlcv_opt].loc[cumulative_df[ohlcv_opt]['flag'] == 0, 'Total_effect'] = cumulative_df[ohlcv_opt]['Cum_effect'] * cumulative_df[ohlcv_opt]['wt_avg']\n",
    "    \n",
    "#     # Change 4\n",
    "#     if(backAdjustDays == 0):\n",
    "#         cumulative_df[ohlcv_opt].loc[cumulative_df[ohlcv_opt]['flag'] == 1, 'Total_effect'] = cumulative_df[ohlcv_opt]['Cum_effect']\n",
    "#     else:\n",
    "#         #The following Line adds daily product effect to days before backAdjustDays\n",
    "#         cumulative_df[ohlcv_opt].loc[cumulative_df[ohlcv_opt]['flag'] == 0, 'Total_effect'] = cumulative_df[ohlcv_opt]['Cum_effect'] * cumulative_df[ohlcv_opt][str('Prod_'+ohlcv_opt)]    \n",
    "#         cumulative_df[ohlcv_opt].loc[cumulative_df[ohlcv_opt]['flag'] == 1, 'Total_effect'] = cumulative_df[ohlcv_opt]['Cum_effect']\n",
    "    \n",
    "    \n",
    "#     cumulative_df[ohlcv_opt].index  = cumulative_df[ohlcv_opt].dt\n",
    "#     cumulative_df[ohlcv_opt].drop('dt', axis=1,inplace = True)\n",
    "\n",
    "#     # Using Total effect of only 'close' column for all OHCL since if we don't use Total effect of 'close' column, we will get issues like \"adj_low\" being higher than \"adj_high\" for some dates\n",
    "#     final_df[ohlcv_opt] = pd.DataFrame(index = NearestContract_df.index, data = cumulative_df['close']['Total_effect'])\n",
    "#     final_df[ohlcv_opt].fillna(method='ffill',inplace = True)\n",
    "#     final_df[ohlcv_opt].fillna(0,inplace = True)\n",
    "\n",
    "    \n",
    "#     final_df[ohlcv_opt].loc[final_df[ohlcv_opt]['Total_effect'] == 0, 'Total_effect'] = 1    # Add 1 to Total Effect wherever its 0\n",
    "#     final_df[ohlcv_opt][ohlcv_opt] = NearestContract_df[ohlcv_opt].values\n",
    "\n",
    "#     # Change 5\n",
    "#     final_df[ohlcv_opt][str('Adj_'+ohlcv_opt)] = final_df[ohlcv_opt][ohlcv_opt] * final_df['close']['Total_effect']\n",
    "    \n",
    "#     ohlcv_DF = pd.concat([ohlcv_DF,final_df[ohlcv_opt]],axis=1)\n",
    "\n",
    "# ohlcv_DF = pd.concat([ohlcv_DF,NearestContract_df[['volume','openInterest']]],axis=1)\n",
    "# ohlcv_DF.drop(['Total_effect'],axis=1,inplace=True)\n"
   ]
  },
  {
   "cell_type": "code",
   "execution_count": null,
   "metadata": {},
   "outputs": [],
   "source": [
    "\n",
    "backAdjustDays = 1\n",
    "\n",
    "cumulative_df = {}\n",
    "final_df = {}\n",
    "ohlcv_DF = pd.DataFrame()\n",
    "\n",
    "# # Use this as default\n",
    "weights = [0]* backAdjustDays + [1]*1 # For 100% weight on the last day\n",
    "\n",
    "for ohlcv_opt in ['close','open','high','low']:\n",
    "\n",
    "    # CHANGE 1\n",
    "    column_name = str('Prod_'+ohlcv_opt)\n",
    "    \n",
    "    # Note that for all days from expiry to backAdjustDays, the multiplier is based on that particular day. From backAdjustDays onwards till next expiry, the multiplier is based on weighted average\n",
    "    cumulative_df[ohlcv_opt] = pd.DataFrame(index = ComparisonNearestContractdf.index, data = ComparisonNearestContractdf[column_name])\n",
    "    cumulative_df[ohlcv_opt].reset_index(inplace=True)\n",
    "\n",
    "    # Put weighted average for all days from expiry till backAdjustDays\n",
    "    cumulative_df[ohlcv_opt]['wt_avg'] = cumulative_df[ohlcv_opt][column_name].groupby(cumulative_df[ohlcv_opt].index//(backAdjustDays+1)).apply(lambda x: np.multiply(x,weights)).groupby(cumulative_df[ohlcv_opt].index//(backAdjustDays+1)).transform('sum') \n",
    "    cumulative_df[ohlcv_opt]['Cum_effect'] = cumulative_df[ohlcv_opt]['wt_avg']\n",
    "\n",
    "    # flag == 1 represents the day on (expiry + backAdjustDays)\n",
    "    pivot_backAdjustDays_idx = [x for x in cumulative_df[ohlcv_opt].index if (x % (backAdjustDays+1)) == backAdjustDays]\n",
    "    cumulative_df[ohlcv_opt]['flag'] = [1 if x in pivot_backAdjustDays_idx else 0 for x in cumulative_df[ohlcv_opt].index]\n",
    "\n",
    "    #CHANGE 2\n",
    "    if(backAdjustDays == 0): # Note since if backAdjustDays = 0, all flags will be 1 and thus they need to be made equal to 1\n",
    "        pass # If the backAdjustDays equals 0, then its already 1 so no need to put it as 1 \n",
    "    else:\n",
    "        cumulative_df[ohlcv_opt].loc[cumulative_df[ohlcv_opt]['flag'] == 0, 'Cum_effect'] = 1 # Put 1 for all days before backAdjustDays so as to make cumprod work\n",
    "\n",
    "    cumulative_df[ohlcv_opt]['Cum_effect'] = cumulative_df[ohlcv_opt]['Cum_effect'].cumprod()\n",
    "\n",
    "    # Once we have forward filled the cumulative effect, we can take the cumulative effect for days before backAdjustDays\n",
    "    \n",
    "    #Change 3\n",
    "    #The following Line adds weighted effect to days before backAdjustDays\n",
    "    # cumulative_df[ohlcv_opt].loc[cumulative_df[ohlcv_opt]['flag'] == 0, 'Total_effect'] = cumulative_df[ohlcv_opt]['Cum_effect'] * cumulative_df[ohlcv_opt]['wt_avg']\n",
    "    \n",
    "    # Change 4\n",
    "    if(backAdjustDays == 0):\n",
    "        cumulative_df[ohlcv_opt].loc[cumulative_df[ohlcv_opt]['flag'] == 1, 'Total_effect'] = cumulative_df[ohlcv_opt]['Cum_effect']\n",
    "    else:\n",
    "        #The following Line adds daily product effect to days before backAdjustDays\n",
    "        cumulative_df[ohlcv_opt].loc[cumulative_df[ohlcv_opt]['flag'] == 0, 'Total_effect'] = cumulative_df[ohlcv_opt]['Cum_effect'] * cumulative_df[ohlcv_opt][str('Prod_'+ohlcv_opt)]    \n",
    "        cumulative_df[ohlcv_opt].loc[cumulative_df[ohlcv_opt]['flag'] == 1, 'Total_effect'] = cumulative_df[ohlcv_opt]['Cum_effect']\n",
    "    \n",
    "    \n",
    "    cumulative_df[ohlcv_opt].index  = cumulative_df[ohlcv_opt].dt\n",
    "    cumulative_df[ohlcv_opt].drop('dt', axis=1,inplace = True)\n",
    "\n",
    "    # Using Total effect of only 'close' column for all OHCL since if we don't use Total effect of 'close' column, we will get issues like \"adj_low\" being higher than \"adj_high\" for some dates\n",
    "    final_df[ohlcv_opt] = pd.DataFrame(index = NearestContract_df.index, data = cumulative_df['close']['Total_effect'])\n",
    "\n",
    "\n",
    "    final_df[ohlcv_opt].fillna(method='ffill',inplace = True)\n",
    "    final_df[ohlcv_opt].iloc[np.argwhere(final_df[ohlcv_opt].index > cumulative_df[ohlcv_opt].index[0])] = 1 # Add 1 to Total Effect prior to first expiry date\n",
    "    \n",
    "    \n",
    "    final_df[ohlcv_opt]['Total_effect'].replace(to_replace=0, method='ffill', inplace=True)\n",
    "    \n",
    "    # This may also be a problem\n",
    "    # final_df[ohlcv_opt].fillna(0,inplace = True)\n",
    "\n",
    "    # This is the PROBLEM - I think - when you put 1 as Total_effect, it misses the cumprod.\n",
    "    # final_df[ohlcv_opt].loc[final_df[ohlcv_opt]['Total_effect'] == 0, 'Total_effect'] = 1    # Add 1 to Total Effect wherever its 0\n",
    "\n",
    "    \n",
    "    final_df[ohlcv_opt][ohlcv_opt] = NearestContract_df[ohlcv_opt].values\n",
    "\n",
    "    \n",
    "    # Change 5\n",
    "    final_df[ohlcv_opt][str('Adj_'+ohlcv_opt)] = final_df[ohlcv_opt][ohlcv_opt] * final_df['close']['Total_effect']\n",
    "    \n",
    "    ohlcv_DF = pd.concat([ohlcv_DF,final_df[ohlcv_opt]],axis=1)\n",
    "\n",
    "ohlcv_DF = pd.concat([ohlcv_DF,NearestContract_df[['volume','openInterest']]],axis=1)\n",
    "ohlcv_DF.drop(['Total_effect'],axis=1,inplace=True)\n"
   ]
  },
  {
   "cell_type": "markdown",
   "metadata": {},
   "source": [
    "1989-11-14"
   ]
  },
  {
   "cell_type": "code",
   "execution_count": null,
   "metadata": {},
   "outputs": [],
   "source": [
    "ComparisonNearestContractdf"
   ]
  },
  {
   "cell_type": "code",
   "execution_count": null,
   "metadata": {},
   "outputs": [],
   "source": [
    "final_df['close'].loc['']"
   ]
  },
  {
   "cell_type": "code",
   "execution_count": null,
   "metadata": {},
   "outputs": [],
   "source": [
    "final_df['close']['Total_effect'].replace(0,pd.np.nan).ffill(inplace = True)"
   ]
  },
  {
   "cell_type": "code",
   "execution_count": null,
   "metadata": {},
   "outputs": [],
   "source": [
    "final_df['close'].loc['1969-10-20']"
   ]
  },
  {
   "cell_type": "code",
   "execution_count": null,
   "metadata": {},
   "outputs": [],
   "source": [
    "ohlcv_DF.loc['1982-03-12']"
   ]
  },
  {
   "cell_type": "code",
   "execution_count": null,
   "metadata": {},
   "outputs": [],
   "source": [
    "ohlcv_opt ='close'\n",
    "final_df[ohlcv_opt].iloc[np.argwhere(final_df[ohlcv_opt].index > cumulative_df[ohlcv_opt].index[0])] = 8"
   ]
  },
  {
   "cell_type": "code",
   "execution_count": null,
   "metadata": {},
   "outputs": [],
   "source": [
    "final_df[ohlcv_opt].columns"
   ]
  },
  {
   "cell_type": "code",
   "execution_count": null,
   "metadata": {},
   "outputs": [],
   "source": []
  },
  {
   "cell_type": "code",
   "execution_count": null,
   "metadata": {},
   "outputs": [],
   "source": [
    "# final_df[ohlcv_opt].ix[np.argwhere(final_df[ohlcv_opt].index > cumulative_df[ohlcv_opt].index[0]),np.argwhere(final_df[ohlcv_opt].columns.equals('Total_effect'))] =8"
   ]
  },
  {
   "cell_type": "code",
   "execution_count": null,
   "metadata": {},
   "outputs": [],
   "source": [
    "final_df[ohlcv_opt].iloc[0]"
   ]
  },
  {
   "cell_type": "code",
   "execution_count": null,
   "metadata": {},
   "outputs": [],
   "source": [
    "final_df['close']"
   ]
  },
  {
   "cell_type": "code",
   "execution_count": null,
   "metadata": {},
   "outputs": [],
   "source": [
    "cumulative_df['close']"
   ]
  },
  {
   "cell_type": "code",
   "execution_count": null,
   "metadata": {},
   "outputs": [],
   "source": [
    "final_df['close'].loc['1982-03-12']"
   ]
  },
  {
   "cell_type": "code",
   "execution_count": null,
   "metadata": {},
   "outputs": [],
   "source": [
    "NearestContract_df.loc['1982-03-16']"
   ]
  },
  {
   "cell_type": "code",
   "execution_count": null,
   "metadata": {},
   "outputs": [],
   "source": [
    "ohlcv_DF.loc['1982-03-15']"
   ]
  },
  {
   "cell_type": "code",
   "execution_count": null,
   "metadata": {},
   "outputs": [],
   "source": [
    "final_df[]"
   ]
  },
  {
   "cell_type": "code",
   "execution_count": null,
   "metadata": {},
   "outputs": [],
   "source": [
    "final_df['close'][final_df['close']['Total_effect'] == 0]"
   ]
  },
  {
   "cell_type": "code",
   "execution_count": null,
   "metadata": {},
   "outputs": [],
   "source": [
    "len(NearestContract_df), len(final_df['close'])"
   ]
  },
  {
   "cell_type": "code",
   "execution_count": null,
   "metadata": {},
   "outputs": [],
   "source": [
    "ohlcv_DF"
   ]
  },
  {
   "cell_type": "code",
   "execution_count": null,
   "metadata": {},
   "outputs": [],
   "source": [
    "ohlcv_DF.loc['1989-11-14']"
   ]
  },
  {
   "cell_type": "code",
   "execution_count": null,
   "metadata": {},
   "outputs": [],
   "source": [
    "final_df['close'].loc['1989-11-14']"
   ]
  },
  {
   "cell_type": "code",
   "execution_count": null,
   "metadata": {},
   "outputs": [],
   "source": [
    "ohlcv_DF[8180:]"
   ]
  },
  {
   "cell_type": "code",
   "execution_count": null,
   "metadata": {},
   "outputs": [],
   "source": [
    "ohlcv_DF[78:]"
   ]
  },
  {
   "cell_type": "code",
   "execution_count": null,
   "metadata": {},
   "outputs": [],
   "source": [
    "# faisal"
   ]
  },
  {
   "cell_type": "code",
   "execution_count": null,
   "metadata": {},
   "outputs": [],
   "source": [
    "ohlcv_DF[120:]"
   ]
  },
  {
   "cell_type": "code",
   "execution_count": null,
   "metadata": {},
   "outputs": [],
   "source": [
    "ComparisonNearestContractdf['Prod_close'].loc['1989-11-15']"
   ]
  },
  {
   "cell_type": "code",
   "execution_count": null,
   "metadata": {},
   "outputs": [],
   "source": [
    "cumulative_df['close'][cumulative_df['close']['Prod_close'].isnull()]"
   ]
  },
  {
   "cell_type": "code",
   "execution_count": null,
   "metadata": {},
   "outputs": [],
   "source": []
  },
  {
   "cell_type": "code",
   "execution_count": null,
   "metadata": {},
   "outputs": [],
   "source": [
    "len(cumulative_df['close']), len(ComparisonNearestContractdf['close'])"
   ]
  },
  {
   "cell_type": "code",
   "execution_count": null,
   "metadata": {},
   "outputs": [],
   "source": [
    "cumulative_df['close']"
   ]
  },
  {
   "cell_type": "code",
   "execution_count": null,
   "metadata": {},
   "outputs": [],
   "source": [
    "cumulative_df['close'][385:]"
   ]
  },
  {
   "cell_type": "code",
   "execution_count": null,
   "metadata": {},
   "outputs": [],
   "source": [
    "final_df.keys()"
   ]
  },
  {
   "cell_type": "code",
   "execution_count": null,
   "metadata": {},
   "outputs": [],
   "source": []
  },
  {
   "cell_type": "code",
   "execution_count": null,
   "metadata": {},
   "outputs": [],
   "source": []
  },
  {
   "cell_type": "code",
   "execution_count": null,
   "metadata": {},
   "outputs": [],
   "source": []
  },
  {
   "cell_type": "code",
   "execution_count": null,
   "metadata": {},
   "outputs": [],
   "source": [
    "final_df['close'].loc['1989-11-14']"
   ]
  },
  {
   "cell_type": "code",
   "execution_count": null,
   "metadata": {},
   "outputs": [],
   "source": [
    "\n",
    "\n",
    "cumulative_df = {}\n",
    "final_df = {}\n",
    "ohlcv_DF = pd.DataFrame()\n",
    "\n",
    "# weights options\n",
    "weights = [1/(backAdjustDays+1)]*(backAdjustDays+1) # equally weighted\n",
    "\n",
    "# Use this as default\n",
    "weights = [0]* backAdjustDays + [1]*1 # For 100% weight on the last day\n",
    "\n",
    "for ohlcv_opt in ['close','open','high','low']:\n",
    "\n",
    "    # CHANGE 1\n",
    "    column_name = str('Prod_'+ohlcv_opt)\n",
    "    \n",
    "    # Note that for all days from expiry to backAdjustDays, the multiplier is based on that particular day. From backAdjustDays onwards till next expiry, the multiplier is based on weighted average\n",
    "    cumulative_df[ohlcv_opt] = pd.DataFrame(index = ComparisonNearestContractdf.index, data = ComparisonNearestContractdf[column_name])\n",
    "    cumulative_df[ohlcv_opt].reset_index(inplace=True)\n",
    "\n",
    "    # Put weighted average for all days from expiry till backAdjustDays\n",
    "    cumulative_df[ohlcv_opt]['wt_avg'] = cumulative_df[ohlcv_opt][column_name].groupby(cumulative_df[ohlcv_opt].index//(backAdjustDays+1)).apply(lambda x: np.multiply(x,weights)).groupby(cumulative_df[ohlcv_opt].index//(backAdjustDays+1)).transform('sum') \n",
    "    cumulative_df[ohlcv_opt]['Cum_effect'] = cumulative_df[ohlcv_opt]['wt_avg']\n",
    "\n",
    "    # # flag == 1 represents the day on (expiry + backAdjustDays)\n",
    "    pivot_backAdjustDays_idx = [x for x in cumulative_df[ohlcv_opt].index if (x % (backAdjustDays+1)) == backAdjustDays]\n",
    "    cumulative_df[ohlcv_opt]['flag'] = [1 if x in pivot_backAdjustDays_idx else 0 for x in cumulative_df[ohlcv_opt].index]\n",
    "\n",
    "    # #CHANGE 2\n",
    "    if(backAdjustDays == 0): # Note since if backAdjustDays = 0, all flags will be 1 and thus they need to be made equal to 1\n",
    "        pass # If the backAdjustDays equals 0, then its already 1 so no need to put it as 1 \n",
    "    else:\n",
    "        cumulative_df[ohlcv_opt].loc[cumulative_df[ohlcv_opt]['flag'] == 0, 'Cum_effect'] = 1 # Put 1 for all days before backAdjustDays so as to make cumprod work\n",
    "\n",
    "    cumulative_df[ohlcv_opt]['Cum_effect'] = cumulative_df[ohlcv_opt]['Cum_effect'].cumprod()\n",
    "\n",
    "    #   #Change 3\n",
    "    # #The following Line adds weighted effect to days before backAdjustDays\n",
    "    # # cumulative_df[ohlcv_opt].loc[cumulative_df[ohlcv_opt]['flag'] == 0, 'Total_effect'] = cumulative_df[ohlcv_opt]['Cum_effect'] * cumulative_df[ohlcv_opt]['wt_avg']\n",
    "    \n",
    "    # Change 4\n",
    "    if(backAdjustDays == 0):\n",
    "        cumulative_df[ohlcv_opt].loc[cumulative_df[ohlcv_opt]['flag'] == 1, 'Total_effect'] = cumulative_df[ohlcv_opt]['Cum_effect']\n",
    "        pass\n",
    "    else:\n",
    "        #The following Line adds daily product effect to days before backAdjustDays\n",
    "        cumulative_df[ohlcv_opt].loc[cumulative_df[ohlcv_opt]['flag'] == 0, 'Total_effect'] = cumulative_df[ohlcv_opt]['Cum_effect'] * cumulative_df[ohlcv_opt][str('Prod_'+ohlcv_opt)]    \n",
    "        cumulative_df[ohlcv_opt].loc[cumulative_df[ohlcv_opt]['flag'] == 1, 'Total_effect'] = cumulative_df[ohlcv_opt]['Cum_effect']\n",
    "    \n",
    "    \n",
    "    cumulative_df[ohlcv_opt].index  = cumulative_df[ohlcv_opt].dt\n",
    "    cumulative_df[ohlcv_opt].drop('dt', axis=1,inplace = True)\n",
    "\n",
    "    # Using Total effect of only 'close' column for all OHCL since if we don't use Total effect of 'close' column, we will get issues like \"adj_low\" being higher than \"adj_high\" for some dates\n",
    "    final_df[ohlcv_opt] = pd.DataFrame(index = NearestContract_df.index, data = cumulative_df['close']['Total_effect'])\n",
    "    final_df[ohlcv_opt].fillna(method='ffill',inplace = True)\n",
    "    \n",
    "    # NEW\n",
    "    final_df[ohlcv_opt].iloc[np.argwhere(final_df[ohlcv_opt].index > cumulative_df[ohlcv_opt].index[0])] = 1 # Add 1 to Total Effect prior to first expiry date\n",
    "\n",
    "    # Not sure what this does?\n",
    "    # final_df[ohlcv_opt].fillna(0,inplace = True)\n",
    "    \n",
    "    # final_df[ohlcv_opt].loc[final_df[ohlcv_opt]['Total_effect'] == 0, 'Total_effect'] = 1    # Add 1 to Total Effect wherever its 0\n",
    "    \n",
    "\n",
    "    \n",
    "    final_df[ohlcv_opt][ohlcv_opt] = NearestContract_df[ohlcv_opt].values\n"
   ]
  },
  {
   "cell_type": "code",
   "execution_count": null,
   "metadata": {},
   "outputs": [],
   "source": [
    "cumulative_df[ohlcv_opt].index[0]"
   ]
  },
  {
   "cell_type": "code",
   "execution_count": null,
   "metadata": {},
   "outputs": [],
   "source": [
    "\n",
    "\n",
    "final_df[ohlcv_opt].iloc[np.where(final_df[ohlcv_opt]['Total_effect'].isna())] = 1"
   ]
  },
  {
   "cell_type": "code",
   "execution_count": null,
   "metadata": {},
   "outputs": [],
   "source": [
    "final_df['close']"
   ]
  },
  {
   "cell_type": "code",
   "execution_count": null,
   "metadata": {},
   "outputs": [],
   "source": []
  },
  {
   "cell_type": "code",
   "execution_count": null,
   "metadata": {},
   "outputs": [],
   "source": [
    "np.where(final_df[ohlcv_opt].index)\n",
    "\n",
    "(cumulative_df[ohlcv_opt].index[0])"
   ]
  },
  {
   "cell_type": "code",
   "execution_count": null,
   "metadata": {},
   "outputs": [],
   "source": [
    "ohlcv_opt = 'close'\n",
    "final_df[ohlcv_opt].loc[:cumulative_df[ohlcv_opt].index[0]][:-1].loc['Total_effect'] = 1\n",
    "final_df[ohlcv_opt][:cumulative_df[ohlcv_opt].index[0]][:-1]['Total_effect']\n"
   ]
  },
  {
   "cell_type": "code",
   "execution_count": null,
   "metadata": {},
   "outputs": [],
   "source": [
    "final_df[ohlcv_opt][final_df[ohlcv_opt]['Total_effect'].isnull()]"
   ]
  },
  {
   "cell_type": "code",
   "execution_count": null,
   "metadata": {},
   "outputs": [],
   "source": [
    "ohlcv_DF"
   ]
  },
  {
   "cell_type": "code",
   "execution_count": null,
   "metadata": {},
   "outputs": [],
   "source": [
    "NearestContract_df"
   ]
  },
  {
   "cell_type": "code",
   "execution_count": null,
   "metadata": {},
   "outputs": [],
   "source": [
    "# cumulative_df['close']"
   ]
  },
  {
   "cell_type": "code",
   "execution_count": null,
   "metadata": {},
   "outputs": [],
   "source": []
  },
  {
   "cell_type": "code",
   "execution_count": null,
   "metadata": {},
   "outputs": [],
   "source": []
  },
  {
   "cell_type": "code",
   "execution_count": null,
   "metadata": {},
   "outputs": [],
   "source": []
  },
  {
   "cell_type": "code",
   "execution_count": null,
   "metadata": {},
   "outputs": [],
   "source": []
  },
  {
   "cell_type": "code",
   "execution_count": null,
   "metadata": {},
   "outputs": [],
   "source": []
  },
  {
   "cell_type": "code",
   "execution_count": null,
   "metadata": {},
   "outputs": [],
   "source": []
  },
  {
   "cell_type": "code",
   "execution_count": null,
   "metadata": {},
   "outputs": [],
   "source": []
  },
  {
   "cell_type": "code",
   "execution_count": null,
   "metadata": {},
   "outputs": [],
   "source": []
  },
  {
   "cell_type": "code",
   "execution_count": null,
   "metadata": {},
   "outputs": [],
   "source": []
  },
  {
   "cell_type": "code",
   "execution_count": null,
   "metadata": {},
   "outputs": [],
   "source": []
  },
  {
   "cell_type": "code",
   "execution_count": null,
   "metadata": {},
   "outputs": [],
   "source": []
  },
  {
   "cell_type": "code",
   "execution_count": null,
   "metadata": {},
   "outputs": [],
   "source": []
  },
  {
   "cell_type": "code",
   "execution_count": null,
   "metadata": {},
   "outputs": [],
   "source": [
    "# pivot_backAdjustDays_idx"
   ]
  },
  {
   "cell_type": "code",
   "execution_count": null,
   "metadata": {},
   "outputs": [],
   "source": [
    "ohlcv_DF[38:]"
   ]
  },
  {
   "cell_type": "code",
   "execution_count": null,
   "metadata": {},
   "outputs": [],
   "source": [
    "final_df['close']"
   ]
  },
  {
   "cell_type": "code",
   "execution_count": null,
   "metadata": {},
   "outputs": [],
   "source": [
    "cumulative_df['close']"
   ]
  },
  {
   "cell_type": "code",
   "execution_count": null,
   "metadata": {},
   "outputs": [],
   "source": [
    "ohlcv_DF"
   ]
  },
  {
   "cell_type": "code",
   "execution_count": null,
   "metadata": {},
   "outputs": [],
   "source": [
    "ohlcv_DF[38:]"
   ]
  },
  {
   "cell_type": "code",
   "execution_count": null,
   "metadata": {},
   "outputs": [],
   "source": [
    "\n",
    "\n",
    "# Note that for all days from expiry to backAdjustDays, the multiplier remains the same. It also remains same from backadjustDays till next expiry\n",
    "\n",
    "column_name = 'Prod'\n",
    "cumulative_df = pd.DataFrame(index = ComparisonNearestContractdf.index, data = ComparisonNearestContractdf[column_name])\n",
    "cumulative_df.reset_index(inplace=True)\n",
    "\n",
    "# Put weighted average for all days from expiry till backAdjustDays\n",
    "cumulative_df['wt_avg'] = cumulative_df[column_name].groupby(cumulative_df.index//(backAdjustDays+1)).apply(lambda x: np.multiply(x,weights)).groupby(cumulative_df.index//(backAdjustDays+1)).transform('sum')\n",
    "cumulative_df['Cum_effect'] = cumulative_df['wt_avg']\n",
    "\n",
    "# flag == 1 represents (expiry + backAdjustDays)\n",
    "pivot_backAdjustDays_idx = [x for x in cumulative_df.index if (x % (backAdjustDays+1)) == backAdjustDays]\n",
    "cumulative_df['flag'] = [1 if x in pivot_backAdjustDays_idx else 0 for x in cumulative_df.index]\n",
    "\n",
    "cumulative_df.loc[cumulative_df['flag'] == 0, 'Cum_effect'] = 1 # Put 1 for all days before backAdjustDays so as to make cumprod work\n",
    "cumulative_df['Cum_effect'] = cumulative_df['Cum_effect'].cumprod()\n",
    "\n",
    "# Once we have forward filled the cumulative effect, we can take the cumulative effect for days before backAdjustDays\n",
    "cumulative_df.loc[cumulative_df['flag'] == 0, 'Total_effect'] = cumulative_df['Cum_effect'] * cumulative_df['wt_avg']\n",
    "cumulative_df.loc[cumulative_df['flag'] == 1, 'Total_effect'] = cumulative_df['Cum_effect']\n",
    "\n",
    "cumulative_df.index  = cumulative_df.dt\n",
    "cumulative_df.drop('dt', axis=1,inplace = True)\n",
    "\n",
    "final_df = pd.DataFrame(index = NearestContract_df.index, data = cumulative_df['Total_effect'] )\n",
    "final_df.fillna(method='ffill',inplace = True)\n",
    "final_df.fillna(1,inplace = True)\n",
    "final_df['close'] = NearestContract_df['close'].values\n",
    "final_df['Adjusted'] = final_df['close'] * final_df['Total_effect']\n",
    "\n",
    "final_df\n"
   ]
  },
  {
   "cell_type": "code",
   "execution_count": null,
   "metadata": {},
   "outputs": [],
   "source": [
    "ohlcv_DF"
   ]
  },
  {
   "cell_type": "code",
   "execution_count": null,
   "metadata": {},
   "outputs": [],
   "source": [
    "\n",
    "\n",
    "# Note that for all days from expiry to backAdjustDays, the multiplier remains the same. It also remains same from backadjustDays till next expiry\n",
    "\n",
    "column_name = 'Prod'\n",
    "cumulative_df = pd.DataFrame(index = ComparisonNearestContractdf.index, data = ComparisonNearestContractdf[column_name])\n",
    "cumulative_df.reset_index(inplace=True)\n",
    "\n",
    "# Put weighted average for all days from expiry till backAdjustDays\n",
    "cumulative_df['wt_avg'] = cumulative_df[column_name].groupby(cumulative_df.index//(backAdjustDays+1)).apply(lambda x: np.multiply(x,weights)).groupby(cumulative_df.index//(backAdjustDays+1)).transform('sum')\n",
    "cumulative_df['Cum_effect'] = cumulative_df['wt_avg']\n",
    "\n",
    "# flag == 1 represents (expiry + backAdjustDays)\n",
    "pivot_backAdjustDays_idx = [x for x in cumulative_df.index if (x % (backAdjustDays+1)) == backAdjustDays]\n",
    "cumulative_df['flag'] = [1 if x in pivot_backAdjustDays_idx else 0 for x in cumulative_df.index]\n",
    "\n",
    "cumulative_df.loc[cumulative_df['flag'] == 0, 'Cum_effect'] = 1 # Put 1 for all days before backAdjustDays so as to make cumprod work\n",
    "cumulative_df['Cum_effect'] = cumulative_df['Cum_effect'].cumprod()\n",
    "\n",
    "# Once we have forward filled the cumulative effect, we can take the cumulative effect for days before backAdjustDays\n",
    "cumulative_df.loc[cumulative_df['flag'] == 0, 'Total_effect'] = cumulative_df['Cum_effect'] * cumulative_df['wt_avg']\n",
    "cumulative_df.loc[cumulative_df['flag'] == 1, 'Total_effect'] = cumulative_df['Cum_effect']\n",
    "\n",
    "cumulative_df.index  = cumulative_df.dt\n",
    "cumulative_df.drop('dt', axis=1,inplace = True)\n",
    "\n",
    "final_df = pd.DataFrame(index = NearestContract_df.index, data = cumulative_df['Total_effect'] )\n",
    "final_df.fillna(method='ffill',inplace = True)\n",
    "final_df.fillna(1,inplace = True)\n",
    "final_df['close'] = NearestContract_df['close'].values\n",
    "final_df['Adjusted'] = final_df['close'] * final_df['Total_effect']\n",
    "\n",
    "final_df\n"
   ]
  },
  {
   "cell_type": "markdown",
   "metadata": {},
   "source": [
    "## Relative or product method"
   ]
  },
  {
   "cell_type": "code",
   "execution_count": null,
   "metadata": {},
   "outputs": [],
   "source": [
    "\n",
    "\n",
    "# Note that for all days from expiry to backAdjustDays, the multiplier remains the same. It also remains same from backadjustDays till next expiry\n",
    "\n",
    "column_name = 'Prod'\n",
    "cumulative_df = pd.DataFrame(index = ComparisonNearestContractdf.index, data = ComparisonNearestContractdf[column_name])\n",
    "cumulative_df.reset_index(inplace=True)\n",
    "\n",
    "# Put weighted average for all days from expiry till backAdjustDays\n",
    "cumulative_df['wt_avg'] = cumulative_df[column_name].groupby(cumulative_df.index//(backAdjustDays+1)).apply(lambda x: np.multiply(x,weights)).groupby(cumulative_df.index//(backAdjustDays+1)).transform('sum')\n",
    "cumulative_df['Cum_effect'] = cumulative_df['wt_avg']\n",
    "\n",
    "# flag == 1 represents (expiry + backAdjustDays)\n",
    "pivot_backAdjustDays_idx = [x for x in cumulative_df.index if (x % (backAdjustDays+1)) == backAdjustDays]\n",
    "cumulative_df['flag'] = [1 if x in pivot_backAdjustDays_idx else 0 for x in cumulative_df.index]\n",
    "\n",
    "cumulative_df.loc[cumulative_df['flag'] == 0, 'Cum_effect'] = 1 # Put 1 for all days before backAdjustDays so as to make cumprod work\n",
    "cumulative_df['Cum_effect'] = cumulative_df['Cum_effect'].cumprod()\n",
    "\n",
    "# Once we have forward filled the cumulative effect, we can take the cumulative effect for days before backAdjustDays\n",
    "cumulative_df.loc[cumulative_df['flag'] == 0, 'Total_effect'] = cumulative_df['Cum_effect'] * cumulative_df['wt_avg']\n",
    "cumulative_df.loc[cumulative_df['flag'] == 1, 'Total_effect'] = cumulative_df['Cum_effect']\n",
    "\n",
    "cumulative_df.index  = cumulative_df.dt\n",
    "cumulative_df.drop('dt', axis=1,inplace = True)\n",
    "\n",
    "final_df = pd.DataFrame(index = NearestContract_df.index, data = cumulative_df['Total_effect'] )\n",
    "final_df.fillna(method='ffill',inplace = True)\n",
    "final_df.fillna(1,inplace = True)\n",
    "final_df['close'] = NearestContract_df['close'].values\n",
    "final_df['Adjusted'] = final_df['close'] * final_df['Total_effect']\n",
    "\n",
    "final_df\n"
   ]
  },
  {
   "cell_type": "code",
   "execution_count": null,
   "metadata": {},
   "outputs": [],
   "source": []
  },
  {
   "cell_type": "code",
   "execution_count": null,
   "metadata": {},
   "outputs": [],
   "source": []
  },
  {
   "cell_type": "code",
   "execution_count": null,
   "metadata": {},
   "outputs": [],
   "source": []
  },
  {
   "cell_type": "code",
   "execution_count": null,
   "metadata": {},
   "outputs": [],
   "source": []
  },
  {
   "cell_type": "code",
   "execution_count": null,
   "metadata": {},
   "outputs": [],
   "source": [
    "# pd.MultiIndex.from_frame(ComparisonNearestContractdf)\n",
    "\n",
    "ComparisonNearestContractdf.columns.get_level_values(0), ComparisonNearestContractdf.columns.get_level_values(1)"
   ]
  },
  {
   "cell_type": "code",
   "execution_count": null,
   "metadata": {},
   "outputs": [],
   "source": [
    "ComparisonNearestContractdf.iloc[:, ComparisonNearestContractdf.columns.get_level_values(1)=='self']"
   ]
  },
  {
   "cell_type": "code",
   "execution_count": null,
   "metadata": {},
   "outputs": [],
   "source": [
    "# Check if any of the expiries are less than 2 std dev away from the mean of the date difference between 2 consecutive expiry months\n",
    "\n",
    "def zscore(s):\n",
    "    return (s - np.mean(s)) / np.std(s)\n",
    "\n",
    "# Check if difference in dates is more or less similar - left starting 2 dates - becasue one will be NaN and other is current day so wil be less\n",
    "expiry_month_diff = pd.to_datetime(new_combined_pivot.loc['Expiry']).diff().dt.days[2:].values\n",
    "pd.Series(expiry_month_diff)[zscore(pd.Series(expiry_month_diff)).abs().gt(2)]"
   ]
  },
  {
   "cell_type": "code",
   "execution_count": null,
   "metadata": {},
   "outputs": [],
   "source": []
  },
  {
   "cell_type": "code",
   "execution_count": null,
   "metadata": {},
   "outputs": [],
   "source": []
  },
  {
   "cell_type": "code",
   "execution_count": null,
   "metadata": {},
   "outputs": [],
   "source": []
  },
  {
   "cell_type": "code",
   "execution_count": null,
   "metadata": {},
   "outputs": [],
   "source": []
  },
  {
   "cell_type": "code",
   "execution_count": null,
   "metadata": {},
   "outputs": [],
   "source": []
  },
  {
   "cell_type": "code",
   "execution_count": null,
   "metadata": {},
   "outputs": [],
   "source": []
  },
  {
   "cell_type": "code",
   "execution_count": null,
   "metadata": {},
   "outputs": [],
   "source": [
    "columns = ['Cmdty','M1','M2','M3','M4','M5','M6','M7','M8','M9','M10','M11','M12']\n",
    "one_cmdty_df = pd.DataFrame(columns=columns, index=all_dates)\n",
    "cmdty_calender_mnths = pd.DataFrame(columns=columns)"
   ]
  },
  {
   "cell_type": "code",
   "execution_count": null,
   "metadata": {},
   "outputs": [],
   "source": [
    "cmdty_calender_mnths"
   ]
  },
  {
   "cell_type": "code",
   "execution_count": null,
   "metadata": {},
   "outputs": [],
   "source": [
    "# cmdty_ctrct_dict['AUD_USD Micro']\n",
    "cmdty_ctrct_expiry_dict['AUD_USD Micro']['MGM21']"
   ]
  },
  {
   "cell_type": "code",
   "execution_count": null,
   "metadata": {},
   "outputs": [],
   "source": [
    "cmdty_date_df = pd.DataFrame(columns=['Dates'])\n",
    "cmdty_date_df.loc['2','Dates'] = 1\n",
    "# cmdty_date_df"
   ]
  },
  {
   "cell_type": "code",
   "execution_count": null,
   "metadata": {},
   "outputs": [],
   "source": [
    "import datetime\n",
    "def date_less_than(date, ctrct_expiry):\n",
    "    return date <= ctrct_expiry \n",
    "\n",
    "# def date_greater_than(end, current):\n",
    "#     return current <= end"
   ]
  },
  {
   "cell_type": "markdown",
   "metadata": {},
   "source": [
    "stick together continue & nearest contracts"
   ]
  },
  {
   "cell_type": "code",
   "execution_count": null,
   "metadata": {},
   "outputs": [],
   "source": []
  },
  {
   "cell_type": "code",
   "execution_count": null,
   "metadata": {},
   "outputs": [],
   "source": []
  },
  {
   "cell_type": "code",
   "execution_count": null,
   "metadata": {},
   "outputs": [],
   "source": []
  },
  {
   "cell_type": "code",
   "execution_count": null,
   "metadata": {},
   "outputs": [],
   "source": []
  },
  {
   "cell_type": "code",
   "execution_count": null,
   "metadata": {},
   "outputs": [],
   "source": []
  },
  {
   "cell_type": "code",
   "execution_count": null,
   "metadata": {},
   "outputs": [],
   "source": []
  },
  {
   "cell_type": "code",
   "execution_count": null,
   "metadata": {},
   "outputs": [],
   "source": []
  }
 ],
 "metadata": {
  "kernelspec": {
   "display_name": "Python 3.10.2 ('venv': venv)",
   "language": "python",
   "name": "python3"
  },
  "language_info": {
   "codemirror_mode": {
    "name": "ipython",
    "version": 3
   },
   "file_extension": ".py",
   "mimetype": "text/x-python",
   "name": "python",
   "nbconvert_exporter": "python",
   "pygments_lexer": "ipython3",
   "version": "3.10.2"
  },
  "orig_nbformat": 4,
  "vscode": {
   "interpreter": {
    "hash": "9eb9c96fed710fe9dada78272350486042af0b6656758f44a31a73971bfdb127"
   }
  }
 },
 "nbformat": 4,
 "nbformat_minor": 2
}
