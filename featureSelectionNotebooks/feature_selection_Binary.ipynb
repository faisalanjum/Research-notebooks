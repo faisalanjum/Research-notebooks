{
 "cells": [
  {
   "cell_type": "markdown",
   "metadata": {},
   "source": [
    "### TODO\n",
    "\n"
   ]
  },
  {
   "cell_type": "markdown",
   "metadata": {},
   "source": [
    "### Imports"
   ]
  },
  {
   "cell_type": "code",
   "execution_count": 1,
   "metadata": {},
   "outputs": [
    {
     "name": "stderr",
     "output_type": "stream",
     "text": [
      "\\\\VSYS-P-GW01.cloud.vsys.ca\\RDFolderRedirect$\\fanjum_cwp\\Desktop\\Python\\2x4\\venv\\Lib\\site-packages\\xgboost\\compat.py:36: FutureWarning: pandas.Int64Index is deprecated and will be removed from pandas in a future version. Use pandas.Index with the appropriate dtype instead.\n",
      "  from pandas import MultiIndex, Int64Index\n"
     ]
    }
   ],
   "source": [
    "import pandas as pd\n",
    "import string\n",
    "import numpy as np\n",
    "import matplotlib.pyplot as plt\n",
    "\n",
    "\n",
    "from sklearn.model_selection import train_test_split, cross_validate, cross_val_score\n",
    "\n",
    "from sklearn.metrics import accuracy_score, roc_auc_score, roc_curve, confusion_matrix, \\\n",
    "plot_confusion_matrix, classification_report, precision_recall_fscore_support, accuracy_score, make_scorer, log_loss, cohen_kappa_score\n",
    "\n",
    "from sklearn.ensemble import RandomForestClassifier, GradientBoostingClassifier\n",
    "from sklearn.pipeline import Pipeline\n",
    "from sklearn.preprocessing import StandardScaler\n",
    "from sklearn.linear_model import LogisticRegression\n",
    "from sklearn.feature_selection import mutual_info_classif, chi2\n",
    "\n",
    "\n",
    "# to determine the p-values with anova\n",
    "from sklearn.feature_selection import f_classif\n",
    "\n",
    "# to select features\n",
    "from sklearn.feature_selection import SelectKBest, SelectFromModel, RFE # Recursive Feature Elimination\n",
    "\n",
    "from feature_engine.selection import DropDuplicateFeatures, DropConstantFeatures, SmartCorrelatedSelection, SelectByShuffling, RecursiveFeatureElimination\n",
    "from feature_engine.datetime import DatetimeFeatures\n",
    "from feature_engine.outliers import Winsorizer\n",
    "from mlxtend.feature_selection import ExhaustiveFeatureSelector as EFS\n",
    "\n",
    "from ta import add_all_ta_features\n",
    "from ta.utils import dropna\n",
    "\n",
    "from xgboost import XGBClassifier\n",
    "\n",
    "import seaborn as sns\n",
    "import pandas_market_calendars as mcal\n",
    "import warnings\n",
    "\n",
    "\n",
    "from support._model_build_func import *"
   ]
  },
  {
   "cell_type": "markdown",
   "metadata": {},
   "source": [
    "### Reading Data from Excel daily_dataframe_main"
   ]
  },
  {
   "cell_type": "code",
   "execution_count": 2,
   "metadata": {},
   "outputs": [],
   "source": [
    "# Takes 1 min 40 secs to run\n",
    "Variables = pd.read_excel('daily_dataframe_main.xlsx', header=[0,1], sheet_name='Variables',index_col=0)\n",
    "Response = pd.read_excel('daily_dataframe_main.xlsx',sheet_name= 'Response' ,index_col=0)\n",
    "\n",
    "# Just using Unadjusted data for now\n",
    "# Response = Response[['LB_Close','Close_ret','Close_Up_Down']]"
   ]
  },
  {
   "cell_type": "markdown",
   "metadata": {},
   "source": [
    "### Imputing Values\n",
    "<div style=\"color: DarkBlue; font-size:22px;\" class=\"alert alert-block alert-warning\"> \n",
    "<b>Check:</b> Backfilling and then frontfilling Variables DataFrame, and filling zeros with Median? - Check if it makes sense\n",
    "</div>\n"
   ]
  },
  {
   "cell_type": "code",
   "execution_count": 3,
   "metadata": {},
   "outputs": [],
   "source": [
    "Variables.fillna(method='bfill', inplace=True)\n",
    "# Variables.fillna(method='ffill', inplace=True)\n",
    "# Replacing 0 with Median Values\n",
    "# Variables.replace(to_replace=0, method='bfill', inplace=True) \n",
    "# Variables.replace(to_replace=0, method=Variables.median(), inplace=True) "
   ]
  },
  {
   "cell_type": "markdown",
   "metadata": {},
   "source": [
    "### Date Engineering"
   ]
  },
  {
   "cell_type": "code",
   "execution_count": 4,
   "metadata": {},
   "outputs": [],
   "source": [
    "warnings.filterwarnings(\"ignore\")\n",
    "Variables = add_date_features(Variables)\n"
   ]
  },
  {
   "cell_type": "markdown",
   "metadata": {},
   "source": [
    "### Adding Technical Indicators"
   ]
  },
  {
   "cell_type": "code",
   "execution_count": 5,
   "metadata": {},
   "outputs": [],
   "source": [
    "warnings.filterwarnings(\"ignore\")\n",
    "\n",
    "# TA_df = Variables[['LumberOHLCV LBHigh','LumberOHLCV LBLow','LumberOHLCV LBClose','LumberOHLCV LBVolume','LumberOHLCV LBopenInterest']]\n",
    "TA_df = Variables.loc[:,('Lumber_OHLCV',)][['LB_High','LB_Low','LB_Close','LB_Volume','LB_openInterest']]\n",
    "\n",
    "TA_df.columns = ['High','Low','Close','Volume','OpenInterest']\n",
    "TA_df['Open'] = TA_df['Close'].shift(-1)\n",
    "\n",
    "# TA_df['weekday'] = Variables.index.weekday\n",
    "# TA_df = TA_df[~TA_df.weekday.isin([5,6])]\n",
    "# TA_df = TA_df.drop(['weekday'],axis=1)\n",
    "\n",
    "TA_df = dropna(TA_df)\n",
    "TA_df.sort_index(ascending=True, inplace=True)\n",
    "TA_df = add_all_ta_features(TA_df, open=\"Open\", high=\"High\", low=\"Low\", close=\"Close\", volume=\"Volume\")\n",
    "TA_df.sort_index(ascending=False, inplace=True)\n",
    "TA_df.drop(['Open','High','Low','Close','Volume','OpenInterest'],axis=1,inplace=True)\n",
    "TA_df.columns = [str('TA_') + TA_df.columns]\n",
    "TA_df = TA_df.replace([np.inf, -np.inf], np.nan).fillna(TA_df.mean())\n",
    "Variables = pd.concat([Variables,TA_df], axis=1)"
   ]
  },
  {
   "cell_type": "markdown",
   "metadata": {},
   "source": [
    "### Replacing punctuation strings in column names"
   ]
  },
  {
   "cell_type": "code",
   "execution_count": 6,
   "metadata": {},
   "outputs": [],
   "source": [
    "cols = [str(w).translate(str.maketrans('', '', string.punctuation)).lstrip().rstrip() for w in Variables.columns]\n",
    "Variables.columns = cols"
   ]
  },
  {
   "cell_type": "markdown",
   "metadata": {},
   "source": [
    "### Find Last Available Date for each Variable in the DataFrame"
   ]
  },
  {
   "cell_type": "code",
   "execution_count": 7,
   "metadata": {},
   "outputs": [
    {
     "data": {
      "text/html": [
       "<div>\n",
       "<style scoped>\n",
       "    .dataframe tbody tr th:only-of-type {\n",
       "        vertical-align: middle;\n",
       "    }\n",
       "\n",
       "    .dataframe tbody tr th {\n",
       "        vertical-align: top;\n",
       "    }\n",
       "\n",
       "    .dataframe thead th {\n",
       "        text-align: right;\n",
       "    }\n",
       "</style>\n",
       "<table border=\"1\" class=\"dataframe\">\n",
       "  <thead>\n",
       "    <tr style=\"text-align: right;\">\n",
       "      <th></th>\n",
       "      <th>End_Dt</th>\n",
       "    </tr>\n",
       "  </thead>\n",
       "  <tbody>\n",
       "    <tr>\n",
       "      <th>LumberOHLCV LBHigh</th>\n",
       "      <td>2022-07-12</td>\n",
       "    </tr>\n",
       "    <tr>\n",
       "      <th>CFTClegacy ChangeinNoncommercialLongAll</th>\n",
       "      <td>2022-07-12</td>\n",
       "    </tr>\n",
       "    <tr>\n",
       "      <th>CFTClegacy NoncommercialPositionsShortOther</th>\n",
       "      <td>2022-07-12</td>\n",
       "    </tr>\n",
       "    <tr>\n",
       "      <th>CFTClegacy NoncommercialPositionsSpreadingOther</th>\n",
       "      <td>2022-07-12</td>\n",
       "    </tr>\n",
       "    <tr>\n",
       "      <th>CFTClegacy CommercialPositionsLongOther</th>\n",
       "      <td>2022-07-12</td>\n",
       "    </tr>\n",
       "    <tr>\n",
       "      <th>...</th>\n",
       "      <td>...</td>\n",
       "    </tr>\n",
       "    <tr>\n",
       "      <th>LumberTracknorthamericanproduction TotalNorthAmerica</th>\n",
       "      <td>NaT</td>\n",
       "    </tr>\n",
       "    <tr>\n",
       "      <th>LumberTracknorthamericanshipment PrairiesAndEasternCanada</th>\n",
       "      <td>NaT</td>\n",
       "    </tr>\n",
       "    <tr>\n",
       "      <th>LumberTracknorthamericanshipment TotalNorthAmerica</th>\n",
       "      <td>NaT</td>\n",
       "    </tr>\n",
       "    <tr>\n",
       "      <th>CFTClegacy TotalReportablePositionsLongAll</th>\n",
       "      <td>NaT</td>\n",
       "    </tr>\n",
       "    <tr>\n",
       "      <th>CFTClegacy ConcentrationGrossLT4TDRShortOl</th>\n",
       "      <td>NaT</td>\n",
       "    </tr>\n",
       "  </tbody>\n",
       "</table>\n",
       "<p>769 rows × 1 columns</p>\n",
       "</div>"
      ],
      "text/plain": [
       "                                                       End_Dt\n",
       "LumberOHLCV LBHigh                                 2022-07-12\n",
       "CFTClegacy ChangeinNoncommercialLongAll            2022-07-12\n",
       "CFTClegacy NoncommercialPositionsShortOther        2022-07-12\n",
       "CFTClegacy NoncommercialPositionsSpreadingOther    2022-07-12\n",
       "CFTClegacy CommercialPositionsLongOther            2022-07-12\n",
       "...                                                       ...\n",
       "LumberTracknorthamericanproduction TotalNorthAm...        NaT\n",
       "LumberTracknorthamericanshipment PrairiesAndEas...        NaT\n",
       "LumberTracknorthamericanshipment TotalNorthAmerica        NaT\n",
       "CFTClegacy TotalReportablePositionsLongAll                NaT\n",
       "CFTClegacy ConcentrationGrossLT4TDRShortOl                NaT\n",
       "\n",
       "[769 rows x 1 columns]"
      ]
     },
     "execution_count": 7,
     "metadata": {},
     "output_type": "execute_result"
    }
   ],
   "source": [
    "last_valid_loc = pd.DataFrame(data=Variables.apply(lambda col: col.last_valid_index()), columns = ['End_Dt'])\n",
    "last_valid_loc.sort_values(by='End_Dt', ascending=False ,inplace=True)\n",
    "# last_valid_loc = last_valid_loc[last_valid_loc.End_Dt.notna()]\n",
    "last_valid_loc"
   ]
  },
  {
   "cell_type": "code",
   "execution_count": 8,
   "metadata": {},
   "outputs": [
    {
     "data": {
      "text/html": [
       "<div>\n",
       "<style scoped>\n",
       "    .dataframe tbody tr th:only-of-type {\n",
       "        vertical-align: middle;\n",
       "    }\n",
       "\n",
       "    .dataframe tbody tr th {\n",
       "        vertical-align: top;\n",
       "    }\n",
       "\n",
       "    .dataframe thead th {\n",
       "        text-align: right;\n",
       "    }\n",
       "</style>\n",
       "<table border=\"1\" class=\"dataframe\">\n",
       "  <thead>\n",
       "    <tr style=\"text-align: right;\">\n",
       "      <th></th>\n",
       "      <th>End_Dt</th>\n",
       "    </tr>\n",
       "  </thead>\n",
       "  <tbody>\n",
       "    <tr>\n",
       "      <th>LumberTracklumberexportus TotalLumberExports</th>\n",
       "      <td>NaT</td>\n",
       "    </tr>\n",
       "    <tr>\n",
       "      <th>LumberTracknorthamericanproduction PrairiesAndEasternCanada</th>\n",
       "      <td>NaT</td>\n",
       "    </tr>\n",
       "    <tr>\n",
       "      <th>LumberTracknorthamericanproduction TotalNorthAmerica</th>\n",
       "      <td>NaT</td>\n",
       "    </tr>\n",
       "    <tr>\n",
       "      <th>LumberTracknorthamericanshipment PrairiesAndEasternCanada</th>\n",
       "      <td>NaT</td>\n",
       "    </tr>\n",
       "    <tr>\n",
       "      <th>LumberTracknorthamericanshipment TotalNorthAmerica</th>\n",
       "      <td>NaT</td>\n",
       "    </tr>\n",
       "    <tr>\n",
       "      <th>CFTClegacy TotalReportablePositionsLongAll</th>\n",
       "      <td>NaT</td>\n",
       "    </tr>\n",
       "    <tr>\n",
       "      <th>CFTClegacy ConcentrationGrossLT4TDRShortOl</th>\n",
       "      <td>NaT</td>\n",
       "    </tr>\n",
       "  </tbody>\n",
       "</table>\n",
       "</div>"
      ],
      "text/plain": [
       "                                                   End_Dt\n",
       "LumberTracklumberexportus TotalLumberExports          NaT\n",
       "LumberTracknorthamericanproduction PrairiesAndE...    NaT\n",
       "LumberTracknorthamericanproduction TotalNorthAm...    NaT\n",
       "LumberTracknorthamericanshipment PrairiesAndEas...    NaT\n",
       "LumberTracknorthamericanshipment TotalNorthAmerica    NaT\n",
       "CFTClegacy TotalReportablePositionsLongAll            NaT\n",
       "CFTClegacy ConcentrationGrossLT4TDRShortOl            NaT"
      ]
     },
     "execution_count": 8,
     "metadata": {},
     "output_type": "execute_result"
    }
   ],
   "source": [
    "last_valid_loc[last_valid_loc.isna().any(axis=1)]"
   ]
  },
  {
   "cell_type": "markdown",
   "metadata": {},
   "source": [
    "<div style=\"color: DarkBlue; font-size:22px;\" class=\"alert alert-block alert-warning\"> \n",
    "<b>To Do:</b> For now using custom based method - but change it eventually with KNN (or Multivariate) Imputation etc.\n",
    "</div>"
   ]
  },
  {
   "cell_type": "code",
   "execution_count": 9,
   "metadata": {},
   "outputs": [],
   "source": [
    "# Takes 35 secounds to run\n",
    "Variables = DataFrameImputer().fit_transform(Variables)\n"
   ]
  },
  {
   "cell_type": "markdown",
   "metadata": {},
   "source": [
    "### Trading Days and after 2011\n",
    "<div style=\"color: Red; font-size:22px;\" class=\"alert alert-block alert-warning\">  Restricting the dataset since 2011 only trading days for cme agriculture - ideally should be for CME Lumber!!\n",
    "<div style=\"color: Green; font-size:22px;\" class=\"alert alert-block alert-warning\"> \n",
    "<b>To Do:</b> Issues is we have some forward fills which doesn't represent data correctly\n",
    "</div>"
   ]
  },
  {
   "cell_type": "code",
   "execution_count": 10,
   "metadata": {},
   "outputs": [
    {
     "data": {
      "text/plain": [
       "(2903, 2903)"
      ]
     },
     "execution_count": 10,
     "metadata": {},
     "output_type": "execute_result"
    }
   ],
   "source": [
    "Variables.sort_index(ascending = False, inplace = True)\n",
    "Response.sort_index(ascending = False, inplace = True)\n",
    "\n",
    "cme = mcal.get_calendar(\"CME_Agriculture\")\n",
    "cme_trading_days = cme.schedule(start_date=Variables.index[-1].date(), end_date=Variables.index[0].date()).index\n",
    "cme_trading_days = cme_trading_days.sort_values(ascending=False)\n",
    "cme_trading_days = pd.DatetimeIndex(cme_trading_days)\n",
    "\n",
    "Variables = Variables[Variables.index > '2011-01-01']\n",
    "Variables = Variables[Variables.index.isin(cme_trading_days)]\n",
    "\n",
    "Response = Response[Response.index > '2011-01-01']\n",
    "Response = Response[Response.index.isin(cme_trading_days)]\n",
    "# Response = Response[(Response.Close_Up_Down == 1) | (Response.Close_Up_Down == -1)]\n",
    "\n",
    "Variables.index = pd.DatetimeIndex(Variables.index)\n",
    "Response.index = pd.DatetimeIndex(Response.index)\n",
    "Variables = Variables.reindex(Response.index)\n",
    "\n",
    "len(Variables), len(Response)\n"
   ]
  },
  {
   "cell_type": "markdown",
   "metadata": {},
   "source": [
    "### MultiClassification Targets - Choose between 3 or 5 classes"
   ]
  },
  {
   "cell_type": "code",
   "execution_count": 11,
   "metadata": {},
   "outputs": [
    {
     "name": "stdout",
     "output_type": "stream",
     "text": [
      "Labels\n",
      " 1        1055\n",
      "-1        1030\n",
      " 0         818\n",
      "dtype: int64\n"
     ]
    },
    {
     "data": {
      "image/png": "[encoded data removed]",
      "text/plain": [
       "<Figure size 432x288 with 1 Axes>"
      ]
     },
     "metadata": {
      "needs_background": "light"
     },
     "output_type": "display_data"
    }
   ],
   "source": [
    "pv_1 = 0.005 # higher and lower than 0.5% return\n",
    "pv_2 = 0.015 # higher and lower than 1.5% return\n",
    "col = 'Close_ret' # Can also be 'Adj_close_ret'\n",
    "\n",
    "num_classes = 3 # Choose 3 or 5\n",
    "\n",
    "if num_classes == 3:\n",
    "\n",
    "    mutli_class_buckets = Response[col].value_counts(bins = [Response[col].min(),-pv_2, pv_2,Response[col].max()])\n",
    "    mutli_class_buckets.sort_index(ascending=True, inplace=True)\n",
    "    mutli_class_buckets.index = ['Down','Neutral','Up']\n",
    "    mutli_class_buckets.plot(kind='bar');\n",
    "\n",
    "    Neutral = ((Response[col] > -pv_2) & (Response[col] < pv_2))\n",
    "    Down = (Response[col] < -pv_2) \n",
    "    Up = (Response[col] > pv_2)\n",
    "\n",
    "    conditions = [Down, Neutral, Up]\n",
    "    choices = [-1, 0, 1]\n",
    "    multi_class = np.select(conditions, choices, default=0)\n",
    "\n",
    "    Target = pd.DataFrame(index = Response.index, data = multi_class)\n",
    "    Target.columns = ['Labels']\n",
    "    Response['Labels'] = Target.Labels.values\n",
    "    print(Target.value_counts())\n",
    "\n",
    "elif num_classes == 5:\n",
    "    mutli_class_buckets = Response[col].value_counts(bins = [Response[col].min(),-pv_2, -pv_1,pv_1, pv_2,Response[col].max()])\n",
    "    mutli_class_buckets.sort_index(ascending=True, inplace=True)\n",
    "    mutli_class_buckets.index = ['Strong_Down','Down','Neutral','Up','Strong_Up']\n",
    "    mutli_class_buckets.plot(kind='bar');\n",
    "\n",
    "    Neutral = ((Response[col] > -pv_1) & (Response[col] < pv_1))\n",
    "    Down = ((Response[col] > -pv_2) & (Response[col] < -pv_1))\n",
    "    Up = ((Response[col] > pv_1) & (Response[col] < pv_2))\n",
    "    Strong_Down = (Response[col] < -pv_2) \n",
    "    Strong_Up = (Response[col] > pv_2)\n",
    "\n",
    "    conditions = [Strong_Down, Down, Neutral, Up, Strong_Up]\n",
    "    choices = [-2, -1, 0, 1, 2]\n",
    "    multi_class = np.select(conditions, choices, default=0)\n",
    "\n",
    "    Target = pd.DataFrame(index = Response.index, data = multi_class)\n",
    "    Target.columns = ['Labels']\n",
    "    Response['Labels'] = Target.Labels.values\n",
    "    print(Target.value_counts())\n"
   ]
  },
  {
   "cell_type": "markdown",
   "metadata": {},
   "source": [
    "    -- Choose Response Variable here - LB_Close, Close_ret, Close_Up_Down, OR Adjusted Data from above"
   ]
  },
  {
   "cell_type": "markdown",
   "metadata": {},
   "source": [
    "### Remove Variables with all NaNs\n",
    "<div style=\"color: Green; font-size:22px;\" class=\"alert alert-block alert-warning\"> \n",
    "<b>To Do:</b> Check why these variables have NaNs\n",
    "</div>\n"
   ]
  },
  {
   "cell_type": "code",
   "execution_count": 12,
   "metadata": {},
   "outputs": [
    {
     "data": {
      "text/plain": [
       "{'CFTClegacy ConcentrationGrossLT4TDRShortOl',\n",
       " 'CFTClegacy TotalReportablePositionsLongAll',\n",
       " 'LumberTracklumberexportus TotalLumberExports',\n",
       " 'LumberTracknorthamericanproduction PrairiesAndEasternCanada',\n",
       " 'LumberTracknorthamericanproduction TotalNorthAmerica',\n",
       " 'LumberTracknorthamericanshipment PrairiesAndEasternCanada',\n",
       " 'LumberTracknorthamericanshipment TotalNorthAmerica'}"
      ]
     },
     "execution_count": 12,
     "metadata": {},
     "output_type": "execute_result"
    }
   ],
   "source": [
    "Variables_with_nans = set(Variables.columns) - set(Variables.drop(Variables.columns[Variables.isna().all()].to_list(), axis=1).columns)\n",
    "Variables_with_nans"
   ]
  },
  {
   "cell_type": "code",
   "execution_count": 13,
   "metadata": {},
   "outputs": [
    {
     "name": "stdout",
     "output_type": "stream",
     "text": [
      "float64    744\n",
      "int64       11\n",
      "bool         7\n",
      "dtype: int64\n",
      "Total Variables Left: 762\n"
     ]
    }
   ],
   "source": [
    "Variables.drop(Variables.columns[Variables.isna().all()].to_list(), axis=1, inplace=True)\n",
    "Variables.drop(Variables.columns[Variables.isnull().all()].to_list(), axis=1, inplace=True)\n",
    "print(pd.Series(Variables.dtypes.values).value_counts())\n",
    "print(\"Total Variables Left:\",pd.Series(Variables.dtypes.values).value_counts().sum())\n"
   ]
  },
  {
   "cell_type": "code",
   "execution_count": 14,
   "metadata": {},
   "outputs": [
    {
     "data": {
      "text/plain": [
       "float64    6\n",
       "int32      1\n",
       "dtype: int64"
      ]
     },
     "execution_count": 14,
     "metadata": {},
     "output_type": "execute_result"
    }
   ],
   "source": [
    "Response.drop(Response.columns[Response.isna().all()].to_list(), axis=1, inplace=True)\n",
    "Response.drop(Response.columns[Response.isnull().all()].to_list(), axis=1, inplace=True)\n",
    "pd.Series(Response.dtypes.values).value_counts()"
   ]
  },
  {
   "cell_type": "markdown",
   "metadata": {},
   "source": [
    "### Change Bool cols (mostly date columns such as Is_year_end etc.) to int columns"
   ]
  },
  {
   "cell_type": "code",
   "execution_count": 15,
   "metadata": {},
   "outputs": [],
   "source": [
    "list_of_bool_cols = Variables.columns[Variables.dtypes.values == 'bool'].to_list()\n",
    "list_of_bool_cols_response = Response.columns[Response.dtypes.values == 'bool'].to_list()\n",
    "\n",
    "for col in list_of_bool_cols:\n",
    "    Variables[col] = Variables[col].astype(int)\n",
    "\n",
    "for col in list_of_bool_cols_response:\n",
    "    Response[col] = Response[col].astype(int)\n"
   ]
  },
  {
   "cell_type": "markdown",
   "metadata": {},
   "source": [
    "### Sample weights - Removed Outliers from Response by replacing with IQR*1.5 upper and lower limits\n",
    "\n",
    "**TODO** - \n",
    "1. If we put returns as Sample weights, he model will ignore all rows where returns equals 0 and that class will be under represented - Look at class_weight and sample_weight\n",
    "2. sample_weight for fit method is clear but what does it mean to pass sample_weight to sklearn score method"
   ]
  },
  {
   "cell_type": "code",
   "execution_count": 16,
   "metadata": {},
   "outputs": [
    {
     "name": "stdout",
     "output_type": "stream",
     "text": [
      "Max: 0.2677330876148725\n",
      "Min: -0.4076413875307594\n"
     ]
    },
    {
     "data": {
      "text/plain": [
       "(-0.409, -0.333]      0.03\n",
       "(-0.333, -0.258]      0.00\n",
       "(-0.258, -0.183]      0.07\n",
       "(-0.183, -0.107]      0.38\n",
       "(-0.107, -0.0324]     6.65\n",
       "(-0.0324, 0.0426]    89.05\n",
       "(0.0426, 0.118]       3.62\n",
       "(0.118, 0.193]        0.14\n",
       "(0.193, 0.268]        0.07\n",
       "Name: Adj_Close_ret, dtype: float64"
      ]
     },
     "execution_count": 16,
     "metadata": {},
     "output_type": "execute_result"
    }
   ],
   "source": [
    "col = 'Adj_Close_ret'\n",
    "create_bins_data(Response, col, 10)"
   ]
  },
  {
   "cell_type": "code",
   "execution_count": 17,
   "metadata": {},
   "outputs": [
    {
     "data": {
      "image/png": "[encoded data removed]",
      "text/plain": [
       "<Figure size 1152x288 with 3 Axes>"
      ]
     },
     "metadata": {
      "needs_background": "light"
     },
     "output_type": "display_data"
    }
   ],
   "source": [
    "diagnostic_plots(Response, col)"
   ]
  },
  {
   "cell_type": "code",
   "execution_count": 18,
   "metadata": {},
   "outputs": [
    {
     "name": "stdout",
     "output_type": "stream",
     "text": [
      "{'Adj_Close_ret': -0.053331250947187936, 'Close_ret': -0.12778431181013916}\n",
      "{'Adj_Close_ret': 0.054557283268807044, 'Close_ret': 0.12813728261815127}\n",
      "        sample_weights\n",
      "Labels                \n",
      "-1           29.987036\n",
      " 0           21.428891\n",
      " 1           30.112441\n",
      "        sample_weights\n",
      "Labels                \n",
      "-1            0.029114\n",
      " 0            0.026197\n",
      " 1            0.028543\n"
     ]
    }
   ],
   "source": [
    "cols_to_winsorize = ['Adj_Close_ret', 'Close_ret']\n",
    "\n",
    "# Feature engine WINSORIZER\n",
    "winsoriser = Winsorizer(capping_method='iqr', # choose iqr for IQR rule boundaries or gaussian for mean and std\n",
    "                          tail='both', # cap left, right or both tails \n",
    "                          fold=1.5, # This is the in\n",
    "                          variables=cols_to_winsorize)\n",
    "\n",
    "winsoriser.fit(Response)\n",
    "Response = winsoriser.transform(Response)\n",
    "print(winsoriser.left_tail_caps_)\n",
    "print(winsoriser.right_tail_caps_)\n",
    "\n",
    "sample_weights = np.abs(Response['Adj_Close_ret'].values)\n",
    "Response['sample_weights'] = sample_weights\n",
    "\n",
    "# Since we are weighing each sample by returns, samples with return zero will be ignored by the model so need to increase its weight to maximum\n",
    "Response.loc[Response['sample_weights'] < 0.005, 'sample_weights'] = sample_weights.max()\n",
    "\n",
    "\n",
    "print(Response[['Labels','sample_weights']].groupby('Labels').sum())\n",
    "print(Response[['Labels','sample_weights']].groupby('Labels').mean())"
   ]
  },
  {
   "cell_type": "code",
   "execution_count": 19,
   "metadata": {},
   "outputs": [
    {
     "name": "stdout",
     "output_type": "stream",
     "text": [
      "Max: 0.054557283268807044\n",
      "Min: 0.005034412378459585\n"
     ]
    },
    {
     "data": {
      "text/plain": [
       "(0.00403, 0.0105]    19.91\n",
       "(0.0105, 0.016]      16.05\n",
       "(0.016, 0.0215]      12.99\n",
       "(0.0215, 0.027]       8.27\n",
       "(0.027, 0.0325]       6.68\n",
       "(0.0325, 0.038]       5.06\n",
       "(0.038, 0.0436]       3.03\n",
       "(0.0436, 0.0491]      2.14\n",
       "(0.0491, 0.0546]     25.87\n",
       "Name: sample_weights, dtype: float64"
      ]
     },
     "execution_count": 19,
     "metadata": {},
     "output_type": "execute_result"
    }
   ],
   "source": [
    "create_bins_data(Response, 'sample_weights', 10)"
   ]
  },
  {
   "cell_type": "markdown",
   "metadata": {},
   "source": [
    "### EVALUATION METRICS & generate_sample_confusion_matrix\n",
    "    1. Recall/Sensitivity/TPR: tp / (tp + fn) - **%age of a TRUE/Positives class correctly identified/ ability to find all the positive samples**. This deciedes how many times we trade since its the propotion of actual positives we are able to detect.\n",
    "    2. Specificity (TNR) is tn / (tn + fp) - %age of a FALSE/Negatives class correctly identified\n",
    "    3. False Positive Rate (FPR) = 1 - Specificity or fp / (tn + fp). \n",
    "    4. Accuracy is TP/ entire matrix sum ???\n",
    "    5. Precision is tp / (tp + fp) - the ability not to label a negative sample as positive. This deciedes our PROFITABILITY since we don't want FALSE Positives\n",
    "    6. Support is the number of occurrences of each class  - sum of respective row\n",
    "    7. Macro - unweighted mean. This does not take label imbalance into account.\n",
    "    8. Wt_Avg - average weighted by support\n",
    "    9. Micro - same as accuracy - sum of diagnols/ sum of all matrix\n",
    "\n",
    "**True/False (Positives/Negatives) means if a sample belongs/doesn't belong to a class**\n"
   ]
  },
  {
   "cell_type": "code",
   "execution_count": 20,
   "metadata": {},
   "outputs": [
    {
     "data": {
      "text/html": [
       "<style type=\"text/css\">\n",
       "#T_69d05_row0_col0 {\n",
       "  color: green;\n",
       "}\n",
       "#T_69d05_row0_col1, #T_69d05_row0_col2 {\n",
       "  color: blue;\n",
       "}\n",
       "#T_69d05_row1_col0, #T_69d05_row2_col0 {\n",
       "  color: orange;\n",
       "}\n",
       "#T_69d05_row1_col1, #T_69d05_row1_col2, #T_69d05_row2_col1, #T_69d05_row2_col2 {\n",
       "  color: red;\n",
       "}\n",
       "</style>\n",
       "<table id=\"T_69d05\">\n",
       "  <thead>\n",
       "    <tr>\n",
       "      <th class=\"blank\" >&nbsp;</th>\n",
       "      <th class=\"blank level0\" >&nbsp;</th>\n",
       "      <th id=\"T_69d05_level0_col0\" class=\"col_heading level0 col0\" colspan=\"3\">Prediction</th>\n",
       "    </tr>\n",
       "    <tr>\n",
       "      <th class=\"blank\" >&nbsp;</th>\n",
       "      <th class=\"blank level1\" >&nbsp;</th>\n",
       "      <th id=\"T_69d05_level1_col0\" class=\"col_heading level1 col0\" >-1</th>\n",
       "      <th id=\"T_69d05_level1_col1\" class=\"col_heading level1 col1\" >0</th>\n",
       "      <th id=\"T_69d05_level1_col2\" class=\"col_heading level1 col2\" >1</th>\n",
       "    </tr>\n",
       "  </thead>\n",
       "  <tbody>\n",
       "    <tr>\n",
       "      <th id=\"T_69d05_level0_row0\" class=\"row_heading level0 row0\" rowspan=\"3\">Actual</th>\n",
       "      <th id=\"T_69d05_level1_row0\" class=\"row_heading level1 row0\" >-1</th>\n",
       "      <td id=\"T_69d05_row0_col0\" class=\"data row0 col0\" >True Positive</td>\n",
       "      <td id=\"T_69d05_row0_col1\" class=\"data row0 col1\" >False Negative</td>\n",
       "      <td id=\"T_69d05_row0_col2\" class=\"data row0 col2\" >False Negative</td>\n",
       "    </tr>\n",
       "    <tr>\n",
       "      <th id=\"T_69d05_level1_row1\" class=\"row_heading level1 row1\" >0</th>\n",
       "      <td id=\"T_69d05_row1_col0\" class=\"data row1 col0\" >False Positive</td>\n",
       "      <td id=\"T_69d05_row1_col1\" class=\"data row1 col1\" >True Negative</td>\n",
       "      <td id=\"T_69d05_row1_col2\" class=\"data row1 col2\" >True Negative</td>\n",
       "    </tr>\n",
       "    <tr>\n",
       "      <th id=\"T_69d05_level1_row2\" class=\"row_heading level1 row2\" >1</th>\n",
       "      <td id=\"T_69d05_row2_col0\" class=\"data row2 col0\" >False Positive</td>\n",
       "      <td id=\"T_69d05_row2_col1\" class=\"data row2 col1\" >True Negative</td>\n",
       "      <td id=\"T_69d05_row2_col2\" class=\"data row2 col2\" >True Negative</td>\n",
       "    </tr>\n",
       "  </tbody>\n",
       "</table>\n"
      ],
      "text/plain": [
       "<pandas.io.formats.style.Styler at 0x1c726a52920>"
      ]
     },
     "execution_count": 20,
     "metadata": {},
     "output_type": "execute_result"
    }
   ],
   "source": [
    "lab = Response.Labels.unique()\n",
    "lab.sort()\n",
    "\n",
    "generate_sample_confusion_matrix(-1,lab)"
   ]
  },
  {
   "cell_type": "markdown",
   "metadata": {},
   "source": [
    "### Blocked Time Series cross-validation\n",
    "https://goldinlocks.github.io/Time-Series-Cross-Validation/"
   ]
  },
  {
   "cell_type": "code",
   "execution_count": 21,
   "metadata": {},
   "outputs": [],
   "source": [
    "btscv = BlockingTimeSeriesSplit(n_splits=5)"
   ]
  },
  {
   "cell_type": "markdown",
   "metadata": {},
   "source": [
    "**These metrics (weighted & average) do NOT exactly match the output of features_df metrics** \n",
    "** Also note that the weighted average results are not based on sample_weights for now"
   ]
  },
  {
   "cell_type": "markdown",
   "metadata": {},
   "source": [
    "### Metrics from Confusion Matrix Custom Func"
   ]
  },
  {
   "cell_type": "code",
   "execution_count": 22,
   "metadata": {},
   "outputs": [],
   "source": [
    "def metrics_from_cm(cm, lab = sorted(Response['Labels'].unique())):\n",
    "\n",
    "    df = pd.DataFrame()\n",
    "    pre = {}\n",
    "    rec = {}\n",
    "    tp = {}\n",
    "    tn = {}\n",
    "    fp = {}\n",
    "    fn = {}\n",
    "    weighted_average = {}\n",
    "    for cat in lab:\n",
    "        pre[cat] = np.nan_to_num(cm.loc[cat,cat]/cm.sum(axis=0).loc[cat], nan=0.0, posinf=0.0, neginf=0.0)\n",
    "        rec[cat] = np.nan_to_num(cm.loc[cat,cat]/cm.sum(axis=1).loc[cat], nan=0.0, posinf=0.0, neginf=0.0)\n",
    "        tp[cat] = cm.loc[cat, cat]\n",
    "        tn[cat] = cm.drop(cat,axis=1).drop(cat,axis=0).sum().sum()\n",
    "        fp[cat] = cm[cat].drop(cat).sum()\n",
    "        fn[cat] = cm.loc[cat].drop(cat).sum()\n",
    "\n",
    "    df = pd.concat([pd.DataFrame.from_dict(pre,orient='index', columns=['precision']),pd.DataFrame.from_dict(rec,orient='index', columns=['recall'])], axis=1)\n",
    "    df['fscore'] = (2 * ((df.precision * df.recall) / (df.precision + df.recall))).fillna(0)\n",
    "    df['tp'] = pd.Series(tp)\n",
    "    df['tn'] = pd.Series(tn)\n",
    "    df['fp'] = pd.Series(fp)\n",
    "    df['fn'] = pd.Series(fn)\n",
    "\n",
    "    df['specificity'] =  pd.Series(df.tn / (df.tn + df.fp))\n",
    "    df['fpr'] = pd.Series(df.fp / (df.tn + df.fp))\n",
    "    df['accuracy'] = (df.tp + df.tn) / (df.tp + df.tn + df.fp + df.fn)\n",
    "    df['support'] = cm.sum(axis=1)\n",
    "\n",
    "    main_metrics_list = ['precision', 'recall', 'fscore', 'specificity','fpr', 'accuracy']\n",
    "    df_perc = df[main_metrics_list]\n",
    "    df = pd.concat([df_perc,df.tp,df.tn,df.fp,df.fn,df.support], axis=1)\n",
    "\n",
    "    # Weighted average\n",
    "    for cols in df.columns:\n",
    "        if cols in main_metrics_list:\n",
    "            weighted_average[cols] = df[cols].dot(df.support)/df.support.sum()\n",
    "        else:\n",
    "            weighted_average[cols] = None\n",
    "\n",
    "    df.loc['macro',main_metrics_list] = df[main_metrics_list].mean()\n",
    "\n",
    "    weight_df = pd.DataFrame.from_dict(weighted_average,orient='index', columns=['Wt_Avg']).T\n",
    "    df = pd.concat([df, weight_df], axis=0)\n",
    "\n",
    "    # % Formatting\n",
    "    for col in main_metrics_list:\n",
    "        try:\n",
    "            df[col] = df[col].mul(100).round(0).astype(int).astype(str).add('%')\n",
    "        except:\n",
    "            pass\n",
    "    other_list = ['tp', 'tn', 'fp', 'fn', 'support']\n",
    "\n",
    "    df.loc['macro', other_list] = df.loc[lab, other_list] .sum()\n",
    "    df.loc['Wt_Avg', other_list] = df.loc[lab, other_list] .sum()\n",
    "\n",
    "    return df\n"
   ]
  },
  {
   "cell_type": "code",
   "execution_count": 23,
   "metadata": {},
   "outputs": [],
   "source": [
    "# https://stackoverflow.com/questions/42562146/classification-report-with-nested-cross-validation-in-sklearn-average-individua\n",
    "def predictions_from_custom_cross_val(model,X, y, custom_cv = btscv, sampled_weights=False):    \n",
    "    # Variables to store original and predicted values\n",
    "    original = []\n",
    "    predicted = []\n",
    "\n",
    "    def score_func(y_true, y_pred):\n",
    "        original.extend(y_true)\n",
    "        predicted.extend(y_pred)\n",
    "\n",
    "    if sampled_weights:\n",
    "    # Cross Val Score with SAMPLE WeIGHTS        \n",
    "        scores = cross_val_score(model, X, y.Labels, cv=btscv, scoring=make_scorer(score_func),fit_params={'sample_weight':np.abs(y.sample_weights.values)} ) #,error_score=\"raise\"\n",
    "    else:\n",
    "        scores = cross_val_score(model, X, y.Labels, cv=btscv, scoring=make_scorer(score_func) ) #,error_score=\"raise\"\n",
    "    return original, predicted"
   ]
  },
  {
   "cell_type": "markdown",
   "metadata": {},
   "source": [
    "### Helper Functions"
   ]
  },
  {
   "cell_type": "code",
   "execution_count": 24,
   "metadata": {},
   "outputs": [],
   "source": [
    "def fill_with_dataset(new_dataset,original_dataset):\n",
    "    X_train_dict[new_dataset] = X_train_dict[original_dataset]\n",
    "    X_test_dict[new_dataset] = X_test_dict[original_dataset]\n",
    "    X_val_dict[new_dataset] = X_val_dict[original_dataset]"
   ]
  },
  {
   "cell_type": "code",
   "execution_count": 25,
   "metadata": {},
   "outputs": [],
   "source": [
    "def add_to_features_df(model,dataset):\n",
    "    model_name = type(model).__name__\n",
    "    features_df.loc[(model_name, dataset),'Num_Features'] = len(X_train_dict[dataset].columns) # so can store list of features\n",
    "    features_df.loc[(model_name, dataset),'Features_List'] = X_train_dict[dataset].columns.to_list()\n",
    "\n",
    "    original_list = set(features_df.loc[(model_name, 'Original'),'Features_List'])\n",
    "    dataset_list = set(features_df.loc[(model_name, dataset),'Features_List'])\n",
    "    removed_list = list(sorted(original_list - dataset_list))\n",
    "    \n",
    "    features_df.loc[(model_name, dataset),'Removed_Features'] = removed_list\n",
    "    features_df.loc[(model_name, dataset),'Model_Details'] = model\n",
    "    "
   ]
  },
  {
   "cell_type": "code",
   "execution_count": 26,
   "metadata": {},
   "outputs": [],
   "source": [
    "def get_shapes(dataset):\n",
    "    print(\"\\nShapes for dataset:\",dataset)\n",
    "    print(\"X_train Shape\",X_train_dict[dataset].shape)\n",
    "    print(\"X_test Shape\",X_test_dict[dataset].shape)\n",
    "    print(\"X_val Shape\",X_val_dict[dataset].shape)\n",
    "    # print(\"y_train Shape\",y_train.shape)\n",
    "    # print(\"y_test Shape\",y_test.shape)\n",
    "    # print(\"y_val Shape\",y_val.shape)"
   ]
  },
  {
   "cell_type": "code",
   "execution_count": 27,
   "metadata": {},
   "outputs": [],
   "source": [
    "def print_pipe_removed(pipe):\n",
    "    total_removed = 0\n",
    "    print(\"\\nRemoved Features for Pipeline:\",pipe)\n",
    "    for i in range(len(pipe.steps)):\n",
    "        step_name = pipe.steps[i][0]\n",
    "        total_removed += len(pipe.named_steps[step_name].features_to_drop_)\n",
    "        print(step_name, \":\",len(pipe.named_steps[step_name].features_to_drop_))\n",
    "    print(\"Total removed:\",total_removed)"
   ]
  },
  {
   "cell_type": "code",
   "execution_count": 28,
   "metadata": {},
   "outputs": [],
   "source": [
    "def remove_features(dataset,pipe):\n",
    "    print(\"\\nRemoving Features for dataset:\",dataset)\n",
    "    print(\"# Features before:\",len(X_train_dict[dataset].columns.to_list()))\n",
    "    X_train_dict[dataset] = pipe.transform(X_train_dict[dataset])\n",
    "    X_test_dict[dataset] = pipe.transform(X_test_dict[dataset])\n",
    "    X_val_dict[dataset] = pipe.transform(X_val_dict[dataset])"
   ]
  },
  {
   "cell_type": "code",
   "execution_count": 29,
   "metadata": {},
   "outputs": [],
   "source": [
    "def keep_features(dataset,feats_to_keep_list):\n",
    "    print(\"\\nRemoving Features for dataset:\",dataset)\n",
    "    print(\"# Features before:\",len(X_train_dict[dataset].columns.to_list()))\n",
    "    X_train_dict[dataset] = X_train_dict[dataset][feats_to_keep_list]\n",
    "    X_test_dict[dataset] = X_test_dict[dataset][feats_to_keep_list]\n",
    "    X_val_dict[dataset] = X_val_dict[dataset][feats_to_keep_list]"
   ]
  },
  {
   "cell_type": "markdown",
   "metadata": {},
   "source": [
    "\n",
    "*****Change between Labels & Close_Up_Down columns for y_combined to make it either a Multiclass (5) or (3)***"
   ]
  },
  {
   "cell_type": "code",
   "execution_count": 30,
   "metadata": {},
   "outputs": [],
   "source": [
    "# **cross_val_score - accuracy_score**                                                      \n",
    "# scoring https://scikit-learn.org/stable/modules/model_evaluation.html#the-scoring-parameter-defining-model-evaluation-rules\n",
    "\n",
    "def add_metrics(model,dataset,set='combined', sampled_weights=False):\n",
    "\n",
    "    model_name = type(model).__name__\n",
    "    metrics_list = ['balanced_accuracy', 'precision_weighted', 'recall_weighted', 'f1_weighted', 'roc_auc_ovr_weighted', 'roc_auc_ovo_weighted','neg_log_loss']\n",
    "\n",
    "    # Using BlockedTimeSeriesSplit cross val to calculate metrics\n",
    "    if set == 'train':\n",
    "        X = X_train_dict[dataset].sort_index()\n",
    "        y = y_train.sort_index() \n",
    "    elif set == 'test':\n",
    "        X = X_test_dict[dataset].sort_index()\n",
    "        y = y_test.sort_index() \n",
    "    elif set == 'combined':\n",
    "        X = pd.concat([X_train_dict[dataset],X_test_dict[dataset]]).sort_index()\n",
    "        y = pd.concat([y_train,y_test]).sort_index()    \n",
    "\n",
    "    for metric in metrics_list:\n",
    "\n",
    "        if sampled_weights:\n",
    "        # cross_val_score with SAMPLE_WEIGHTS\n",
    "            score = cross_val_score(model, X, y.Labels, cv=btscv, scoring = str(metric),fit_params={'sample_weight':np.abs(y.sample_weights.values)}) #,error_score=\"raise\"\n",
    "        else:\n",
    "            score = cross_val_score(model, X, y.Labels, cv=btscv, scoring = str(metric)) #,error_score=\"raise\"\n",
    "            \n",
    "        features_df.loc[(model_name, dataset),metric]= round(np.mean(score),2)\n",
    "\n",
    "    # Calculating Class Wise Metrics\n",
    "    original, predicted = predictions_from_custom_cross_val(model,X, y, custom_cv = btscv, sampled_weights=sampled_weights)\n",
    "    cm = pd.DataFrame(confusion_matrix(original, predicted), index=lab, columns=lab)\n",
    "    all_class_metric = metrics_from_cm(cm)\n",
    "\n",
    "    # Calculating Kappa Score \n",
    "\n",
    "    if sampled_weights:\n",
    "    # Kappa with SAMPLE_WEIGHTS\n",
    "        sample_weights = y.sample_weights.iloc[get_cv_indices(BlockingTimeSeriesSplit, X, y, n_splits= 5)['test']].values.tolist()\n",
    "        kappa_score = cohen_kappa_score(original, predicted, sample_weight=sample_weights)\n",
    "    else:\n",
    "        kappa_score = cohen_kappa_score(original, predicted)\n",
    "    \n",
    "    features_df.loc[(model_name, dataset),'Kappa']= kappa_score\n",
    "    \n",
    "    # Insert the dataframe in a cell in features_df\n",
    "    features_df.loc[(model_name, dataset),'ClassDf'] = np.array([])\n",
    "    features_df.loc[(model_name, dataset),'ClassDf'].astype(object)\n",
    "    features_df.loc[(model_name, dataset),'ClassDf'] =  [all_class_metric]\n",
    "\n",
    "        "
   ]
  },
  {
   "cell_type": "markdown",
   "metadata": {},
   "source": [
    "### For Model Metrics"
   ]
  },
  {
   "cell_type": "markdown",
   "metadata": {},
   "source": [
    "###### NOTE THE MODEL PIPELINES ARE BEING CHECKED/FITTED TO TRAINING DATA WHILE THE METRICS ARE calculated ON Set option in func argument"
   ]
  },
  {
   "cell_type": "code",
   "execution_count": 31,
   "metadata": {},
   "outputs": [],
   "source": [
    "# This function does the following steps:\n",
    "# 1. Fill the dataset with passed X Variables\n",
    "# 2. Fit Pipeline function\n",
    "# 3. Remove features/Transform train, test, val\n",
    "# 4. Add features to features_df\n",
    "# 5. Print_pipe_removed\n",
    "# 6. Get Shapes\n",
    "# 7. Add metrics to features_df using Blocked Time Series Cross Validation with TEST set\n",
    "\n",
    "#  = DropConstantFeatures(tol=1, variables=None, missing_values='raise')\n",
    "def apply_pipe_transform(dataset,original_dataset, pipe, model, set='combined'):\n",
    "    fill_with_dataset(dataset,original_dataset)\n",
    "    # named_step_sample_weight=np.abs(y_train.Adj_Close_ret.values)\n",
    "    pipe = pipe.fit(X_train_dict[dataset])\n",
    "    remove_features(dataset,pipe)\n",
    "    add_to_features_df(model,dataset)\n",
    "    print_pipe_removed(pipe)\n",
    "    get_shapes(dataset)\n",
    "    add_metrics(model, dataset, set='combined')\n",
    "\n",
    "\n",
    "def insert_model_stats(dataset,original_dataset, feats_to_keep_list, model, set='combined', sampled_weights=False):\n",
    "    fill_with_dataset(dataset,original_dataset)\n",
    "    keep_features(dataset,feats_to_keep_list)\n",
    "    model.fit(X_train_dict[dataset][feats_to_keep_list], y_train.Labels)\n",
    "    add_to_features_df(model,dataset)\n",
    "    get_shapes(dataset)\n",
    "    add_metrics(model, dataset, set='combined', sampled_weights=sampled_weights)\n",
    "    "
   ]
  },
  {
   "cell_type": "markdown",
   "metadata": {},
   "source": [
    "### Create List of Models for both Classifiers & Regressors"
   ]
  },
  {
   "cell_type": "code",
   "execution_count": 32,
   "metadata": {},
   "outputs": [],
   "source": [
    "# Not using xgb_clf for now because it is too slow\n",
    "\n",
    "rf_clf = RandomForestClassifier(n_estimators=200, max_depth=3, n_jobs=-1)\n",
    "xgb_clf = XGBClassifier(n_estimators=100, max_depth=3, n_jobs=-1,eval_metric='mlogloss')\n",
    "\n",
    "\n",
    "models = [rf_clf,xgb_clf]\n",
    "# models = [rf_clf]"
   ]
  },
  {
   "cell_type": "markdown",
   "metadata": {},
   "source": [
    "### Dataframe to Store Model Features & Metrics"
   ]
  },
  {
   "cell_type": "code",
   "execution_count": 33,
   "metadata": {},
   "outputs": [],
   "source": [
    "model_names = [type(m).__name__ for m in models]\n",
    "dataset = 'Original'\n",
    "multilevel_index = pd.MultiIndex.from_product([model_names,[dataset]],names=['Model', 'Dataset'])\n",
    "cols_names = ['Model_Details','Num_Features','Features_List','Removed_Features'] + ['balanced_accuracy', 'precision_weighted', 'recall_weighted', 'f1_weighted', 'roc_auc_ovr_weighted', 'roc_auc_ovo_weighted','neg_log_loss','Kappa','ClassDf']\n",
    "features_df = pd.DataFrame(columns=cols_names, index=multilevel_index)"
   ]
  },
  {
   "cell_type": "markdown",
   "metadata": {},
   "source": [
    "### Splitting the Dataset in 3 Dictionaries of Training, Testing & Validation & Initiating features_df"
   ]
  },
  {
   "cell_type": "markdown",
   "metadata": {},
   "source": [
    "###### Note: If metric calculations in add_metric function is calculated on Data which has even one class missing from y_predictions, it will throw an error (when error='raise' used), or it will be NaN for (roc_auc_ovr_weighted & roc_auc_ovo_weighted) if this option is not used in cross_val_score..\n"
   ]
  },
  {
   "cell_type": "code",
   "execution_count": 34,
   "metadata": {},
   "outputs": [
    {
     "name": "stdout",
     "output_type": "stream",
     "text": [
      "\n",
      "Shapes for dataset: Original\n",
      "X_train Shape (1385, 762)\n",
      "X_test Shape (1386, 762)\n",
      "X_val Shape (132, 762)\n"
     ]
    }
   ],
   "source": [
    "X_train_dict = {}\n",
    "X_test_dict = {}\n",
    "X_val_dict = {}\n",
    "\n",
    "# To make sure test is the most recent\n",
    "Variables.sort_index(ascending = True, inplace = True) \n",
    "Response.sort_index(ascending = True, inplace = True)\n",
    "\n",
    "Validation_date_start = '2022-01-01'\n",
    "X_val_dict['Original'] = Variables[Variables.index >= Validation_date_start]\n",
    "y_val = Response[Response.index >= Validation_date_start]\n",
    "\n",
    "X_train_dict['Original'], X_test_dict['Original'], y_train, y_test = train_test_split(Variables[Variables.index < Validation_date_start],\\\n",
    "     Response[Response.index < Validation_date_start], test_size=0.50, shuffle = False)\n",
    "\n",
    "for m in models:\n",
    "    add_to_features_df(m,dataset='Original')\n",
    "    add_metrics(m,dataset='Original',set='combined')  \n",
    "\n",
    "\n",
    "# Shapes\n",
    "get_shapes(dataset = 'Original')"
   ]
  },
  {
   "cell_type": "markdown",
   "metadata": {},
   "source": [
    "### ***Functions to plot Blocked TimeSeries Split****"
   ]
  },
  {
   "cell_type": "code",
   "execution_count": 35,
   "metadata": {},
   "outputs": [
    {
     "name": "stdout",
     "output_type": "stream",
     "text": [
      "The horizontal axis is the training set size while the vertical axis represents the cross-validation iterations. The folds used for training are depicted in blue and the folds used for validation are depicted in orange. The final horizontal bar are the FIVE [-2,-1,0,1,2] class labels for the response variable\n"
     ]
    },
    {
     "data": {
      "image/png": "[encoded data removed]",
      "text/plain": [
       "<Figure size 720x360 with 1 Axes>"
      ]
     },
     "metadata": {
      "needs_background": "light"
     },
     "output_type": "display_data"
    }
   ],
   "source": [
    "\n",
    "n_splits = 5\n",
    "cv = BlockingTimeSeriesSplit\n",
    "cmap_data = plt.cm.Paired\n",
    "cmap_cv = plt.cm.coolwarm\n",
    "\n",
    "print(\"The horizontal axis is the training set size while the vertical axis represents the cross-validation iterations. The folds used for training are depicted in blue and the folds used for validation are depicted in orange. The final horizontal bar are the FIVE [-2,-1,0,1,2] class labels for the response variable\")\n",
    "plot_timeseries_split(np.array(X_train_dict['Original']),np.array(y_train.Labels),n_splits,cmap_cv,cmap_data,cv)\n"
   ]
  },
  {
   "cell_type": "markdown",
   "metadata": {},
   "source": [
    "### Remove all constant Variables\n",
    "<div style=\"color: Green; font-size:22px;\" class=\"alert alert-block alert-warning\"> \n",
    "<b>To Do:</b> Check why the following features have only one value\n",
    "</div>"
   ]
  },
  {
   "cell_type": "code",
   "execution_count": 36,
   "metadata": {},
   "outputs": [
    {
     "name": "stdout",
     "output_type": "stream",
     "text": [
      "\n",
      "Removing Features for dataset: Constant\n",
      "# Features before: 762\n",
      "\n",
      "Removed Features for Pipeline: Pipeline(steps=[('Constant', DropConstantFeatures())])\n",
      "Constant : 102\n",
      "Total removed: 102\n",
      "\n",
      "Shapes for dataset: Constant\n",
      "X_train Shape (1385, 660)\n",
      "X_test Shape (1386, 660)\n",
      "X_val Shape (132, 660)\n",
      "\n",
      "Removing Features for dataset: Constant\n",
      "# Features before: 762\n",
      "\n",
      "Removed Features for Pipeline: Pipeline(steps=[('Constant', DropConstantFeatures())])\n",
      "Constant : 102\n",
      "Total removed: 102\n",
      "\n",
      "Shapes for dataset: Constant\n",
      "X_train Shape (1385, 660)\n",
      "X_test Shape (1386, 660)\n",
      "X_val Shape (132, 660)\n"
     ]
    }
   ],
   "source": [
    "# Issue with using XGBOOST - takes long time and gives warnigs Starting in XGBoost 1.3.0, the default evaluation metric used with the objective 'multi:softprob' was changed from 'merror' to 'mlogloss'. Explicitly set eval_metric if you'd like to restore the old behavior.\n",
    "\n",
    "warnings.filterwarnings(\"ignore\")\n",
    "\n",
    "dataset = 'Constant'\n",
    "pipe = Pipeline([(dataset, DropConstantFeatures(tol=1, variables=None, missing_values='raise'))])\n",
    "apply_pipe_transform(dataset,'Original', pipe, models[0], set='combined')\n",
    "apply_pipe_transform(dataset,'Original', pipe, models[1], set='combined')"
   ]
  },
  {
   "cell_type": "markdown",
   "metadata": {},
   "source": [
    "### Build 1 Model with 1 Feature only"
   ]
  },
  {
   "cell_type": "code",
   "execution_count": 37,
   "metadata": {},
   "outputs": [
    {
     "name": "stdout",
     "output_type": "stream",
     "text": [
      "\n",
      "Removing Features for dataset: Spread_1-2\n",
      "# Features before: 762\n",
      "\n",
      "Shapes for dataset: Spread_1-2\n",
      "X_train Shape (1385, 1)\n",
      "X_test Shape (1386, 1)\n",
      "X_val Shape (132, 1)\n"
     ]
    }
   ],
   "source": [
    "original_dataset = 'Original'\n",
    "dataset = 'Spread_1-2'\n",
    "model = models[0]\n",
    "feats_to_keep_list = ['LumberContractSpreads FirstSecond']\n",
    "insert_model_stats(dataset,original_dataset, feats_to_keep_list, model, set='combined')\n",
    "\n"
   ]
  },
  {
   "cell_type": "code",
   "execution_count": 38,
   "metadata": {},
   "outputs": [],
   "source": [
    "X = pd.concat([X_train_dict[dataset],X_test_dict[dataset]]).sort_index()\n",
    "y = pd.concat([y_train,y_test]).sort_index() \n",
    "\n",
    "\n",
    "original, predicted = predictions_from_custom_cross_val(model,X, y, custom_cv = btscv)\n",
    "cm = pd.DataFrame(confusion_matrix(original, predicted), index=lab, columns=lab)\n",
    "all_class_metric = metrics_from_cm(cm)"
   ]
  },
  {
   "cell_type": "code",
   "execution_count": 39,
   "metadata": {},
   "outputs": [
    {
     "data": {
      "text/html": [
       "<div>\n",
       "<style scoped>\n",
       "    .dataframe tbody tr th:only-of-type {\n",
       "        vertical-align: middle;\n",
       "    }\n",
       "\n",
       "    .dataframe tbody tr th {\n",
       "        vertical-align: top;\n",
       "    }\n",
       "\n",
       "    .dataframe thead th {\n",
       "        text-align: right;\n",
       "    }\n",
       "</style>\n",
       "<table border=\"1\" class=\"dataframe\">\n",
       "  <thead>\n",
       "    <tr style=\"text-align: right;\">\n",
       "      <th></th>\n",
       "      <th>-1</th>\n",
       "      <th>0</th>\n",
       "      <th>1</th>\n",
       "    </tr>\n",
       "  </thead>\n",
       "  <tbody>\n",
       "    <tr>\n",
       "      <th>-1</th>\n",
       "      <td>74</td>\n",
       "      <td>39</td>\n",
       "      <td>53</td>\n",
       "    </tr>\n",
       "    <tr>\n",
       "      <th>0</th>\n",
       "      <td>81</td>\n",
       "      <td>65</td>\n",
       "      <td>58</td>\n",
       "    </tr>\n",
       "    <tr>\n",
       "      <th>1</th>\n",
       "      <td>91</td>\n",
       "      <td>40</td>\n",
       "      <td>54</td>\n",
       "    </tr>\n",
       "  </tbody>\n",
       "</table>\n",
       "</div>"
      ],
      "text/plain": [
       "    -1   0   1\n",
       "-1  74  39  53\n",
       " 0  81  65  58\n",
       " 1  91  40  54"
      ]
     },
     "execution_count": 39,
     "metadata": {},
     "output_type": "execute_result"
    }
   ],
   "source": [
    "cm"
   ]
  },
  {
   "cell_type": "code",
   "execution_count": 40,
   "metadata": {},
   "outputs": [
    {
     "data": {
      "text/html": [
       "<div>\n",
       "<style scoped>\n",
       "    .dataframe tbody tr th:only-of-type {\n",
       "        vertical-align: middle;\n",
       "    }\n",
       "\n",
       "    .dataframe tbody tr th {\n",
       "        vertical-align: top;\n",
       "    }\n",
       "\n",
       "    .dataframe thead th {\n",
       "        text-align: right;\n",
       "    }\n",
       "</style>\n",
       "<table border=\"1\" class=\"dataframe\">\n",
       "  <thead>\n",
       "    <tr style=\"text-align: right;\">\n",
       "      <th></th>\n",
       "      <th>precision</th>\n",
       "      <th>recall</th>\n",
       "      <th>fscore</th>\n",
       "      <th>specificity</th>\n",
       "      <th>fpr</th>\n",
       "      <th>accuracy</th>\n",
       "      <th>tp</th>\n",
       "      <th>tn</th>\n",
       "      <th>fp</th>\n",
       "      <th>fn</th>\n",
       "      <th>support</th>\n",
       "    </tr>\n",
       "  </thead>\n",
       "  <tbody>\n",
       "    <tr>\n",
       "      <th>-1</th>\n",
       "      <td>30%</td>\n",
       "      <td>45%</td>\n",
       "      <td>36%</td>\n",
       "      <td>55%</td>\n",
       "      <td>45%</td>\n",
       "      <td>52%</td>\n",
       "      <td>74.0</td>\n",
       "      <td>215.0</td>\n",
       "      <td>174.0</td>\n",
       "      <td>92.0</td>\n",
       "      <td>166.0</td>\n",
       "    </tr>\n",
       "    <tr>\n",
       "      <th>0</th>\n",
       "      <td>45%</td>\n",
       "      <td>32%</td>\n",
       "      <td>37%</td>\n",
       "      <td>77%</td>\n",
       "      <td>23%</td>\n",
       "      <td>61%</td>\n",
       "      <td>65.0</td>\n",
       "      <td>272.0</td>\n",
       "      <td>79.0</td>\n",
       "      <td>139.0</td>\n",
       "      <td>204.0</td>\n",
       "    </tr>\n",
       "    <tr>\n",
       "      <th>1</th>\n",
       "      <td>32%</td>\n",
       "      <td>28%</td>\n",
       "      <td>30%</td>\n",
       "      <td>70%</td>\n",
       "      <td>30%</td>\n",
       "      <td>56%</td>\n",
       "      <td>52.0</td>\n",
       "      <td>259.0</td>\n",
       "      <td>111.0</td>\n",
       "      <td>133.0</td>\n",
       "      <td>185.0</td>\n",
       "    </tr>\n",
       "    <tr>\n",
       "      <th>macro</th>\n",
       "      <td>36%</td>\n",
       "      <td>35%</td>\n",
       "      <td>34%</td>\n",
       "      <td>68%</td>\n",
       "      <td>32%</td>\n",
       "      <td>56%</td>\n",
       "      <td>191.0</td>\n",
       "      <td>746.0</td>\n",
       "      <td>364.0</td>\n",
       "      <td>364.0</td>\n",
       "      <td>555.0</td>\n",
       "    </tr>\n",
       "    <tr>\n",
       "      <th>Wt_Avg</th>\n",
       "      <td>36%</td>\n",
       "      <td>34%</td>\n",
       "      <td>34%</td>\n",
       "      <td>68%</td>\n",
       "      <td>32%</td>\n",
       "      <td>57%</td>\n",
       "      <td>191.0</td>\n",
       "      <td>746.0</td>\n",
       "      <td>364.0</td>\n",
       "      <td>364.0</td>\n",
       "      <td>555.0</td>\n",
       "    </tr>\n",
       "  </tbody>\n",
       "</table>\n",
       "</div>"
      ],
      "text/plain": [
       "       precision recall fscore specificity  fpr accuracy     tp     tn     fp  \\\n",
       "-1           30%    45%    36%         55%  45%      52%   74.0  215.0  174.0   \n",
       "0            45%    32%    37%         77%  23%      61%   65.0  272.0   79.0   \n",
       "1            32%    28%    30%         70%  30%      56%   52.0  259.0  111.0   \n",
       "macro        36%    35%    34%         68%  32%      56%  191.0  746.0  364.0   \n",
       "Wt_Avg       36%    34%    34%         68%  32%      57%  191.0  746.0  364.0   \n",
       "\n",
       "           fn  support  \n",
       "-1       92.0    166.0  \n",
       "0       139.0    204.0  \n",
       "1       133.0    185.0  \n",
       "macro   364.0    555.0  \n",
       "Wt_Avg  364.0    555.0  "
      ]
     },
     "execution_count": 40,
     "metadata": {},
     "output_type": "execute_result"
    }
   ],
   "source": [
    "features_df.loc[('RandomForestClassifier','Spread_1-2')]['ClassDf'][0]"
   ]
  },
  {
   "cell_type": "code",
   "execution_count": 41,
   "metadata": {},
   "outputs": [
    {
     "data": {
      "text/plain": [
       "Model_Details           (DecisionTreeClassifier(max_depth=3, max_featu...\n",
       "Num_Features                                                            1\n",
       "Features_List                         [LumberContractSpreads FirstSecond]\n",
       "Removed_Features        [CFTCdisaggregated ChangeinMMoneyLongAll, CFTC...\n",
       "balanced_accuracy                                                    0.34\n",
       "precision_weighted                                                   0.36\n",
       "recall_weighted                                                      0.35\n",
       "f1_weighted                                                          0.28\n",
       "roc_auc_ovr_weighted                                                 0.51\n",
       "roc_auc_ovo_weighted                                                 0.52\n",
       "neg_log_loss                                                        -1.13\n",
       "Kappa                                                            0.025593\n",
       "ClassDf                   [[precision, recall, fscore, specificity, fpr]]\n",
       "Name: (RandomForestClassifier, Spread_1-2), dtype: object"
      ]
     },
     "execution_count": 41,
     "metadata": {},
     "output_type": "execute_result"
    }
   ],
   "source": [
    "features_df.loc[('RandomForestClassifier','Spread_1-2')]"
   ]
  },
  {
   "cell_type": "markdown",
   "metadata": {},
   "source": [
    "### Remove Quasi-constant features"
   ]
  },
  {
   "cell_type": "code",
   "execution_count": 42,
   "metadata": {},
   "outputs": [
    {
     "name": "stdout",
     "output_type": "stream",
     "text": [
      "\n",
      "Removing Features for dataset: QuasiConstant\n",
      "# Features before: 762\n",
      "\n",
      "Removed Features for Pipeline: Pipeline(steps=[('QuasiConstant', DropConstantFeatures(tol=0.95))])\n",
      "QuasiConstant : 110\n",
      "Total removed: 110\n",
      "\n",
      "Shapes for dataset: QuasiConstant\n",
      "X_train Shape (1385, 652)\n",
      "X_test Shape (1386, 652)\n",
      "X_val Shape (132, 652)\n"
     ]
    }
   ],
   "source": [
    "dataset = 'QuasiConstant'\n",
    "pipe = Pipeline([(dataset, DropConstantFeatures(tol=0.95, variables=None, missing_values='raise'))])\n",
    "apply_pipe_transform(dataset,'Original', pipe, models[0], set='combined')"
   ]
  },
  {
   "cell_type": "markdown",
   "metadata": {},
   "source": [
    "### Remove Duplicated Features"
   ]
  },
  {
   "cell_type": "code",
   "execution_count": 43,
   "metadata": {},
   "outputs": [
    {
     "name": "stdout",
     "output_type": "stream",
     "text": [
      "\n",
      "Removing Features for dataset: Duplicated\n",
      "# Features before: 762\n",
      "\n",
      "Removed Features for Pipeline: Pipeline(steps=[('Duplicated', DropDuplicateFeatures(missing_values='raise'))])\n",
      "Duplicated : 88\n",
      "Total removed: 88\n",
      "\n",
      "Shapes for dataset: Duplicated\n",
      "X_train Shape (1385, 674)\n",
      "X_test Shape (1386, 674)\n",
      "X_val Shape (132, 674)\n"
     ]
    }
   ],
   "source": [
    "dataset = 'Duplicated'\n",
    "pipe = Pipeline([(dataset, DropDuplicateFeatures(variables=None, missing_values='raise')),])\n",
    "apply_pipe_transform(dataset,'Original', pipe, models[0], set='combined')"
   ]
  },
  {
   "cell_type": "markdown",
   "metadata": {},
   "source": [
    "### Remove Duplicated & Quasi Constant Features"
   ]
  },
  {
   "cell_type": "code",
   "execution_count": 44,
   "metadata": {},
   "outputs": [
    {
     "name": "stdout",
     "output_type": "stream",
     "text": [
      "\n",
      "Removing Features for dataset: Dupl&QConstant\n",
      "# Features before: 652\n",
      "\n",
      "Removed Features for Pipeline: Pipeline(steps=[('Dupl&QConstant',\n",
      "                 DropDuplicateFeatures(missing_values='raise'))])\n",
      "Dupl&QConstant : 48\n",
      "Total removed: 48\n",
      "\n",
      "Shapes for dataset: Dupl&QConstant\n",
      "X_train Shape (1385, 604)\n",
      "X_test Shape (1386, 604)\n",
      "X_val Shape (132, 604)\n"
     ]
    }
   ],
   "source": [
    "dataset = 'Dupl&QConstant'\n",
    "pipe = Pipeline([(dataset, DropDuplicateFeatures(variables=None, missing_values='raise')),])\n",
    "apply_pipe_transform(dataset,'QuasiConstant', pipe, models[0], set='combined')"
   ]
  },
  {
   "cell_type": "markdown",
   "metadata": {},
   "source": [
    "### Remove Correlated Features"
   ]
  },
  {
   "cell_type": "code",
   "execution_count": 45,
   "metadata": {},
   "outputs": [
    {
     "name": "stdout",
     "output_type": "stream",
     "text": [
      "\n",
      "Removing Features for dataset: Correlated\n",
      "# Features before: 762\n",
      "\n",
      "Removed Features for Pipeline: Pipeline(steps=[('Correlated',\n",
      "                 SmartCorrelatedSelection(cv=<support._model_build_func.BlockingTimeSeriesSplit object at 0x000001C7368EA4A0>,\n",
      "                                          estimator=RandomForestClassifier(max_depth=3,\n",
      "                                                                           n_estimators=200,\n",
      "                                                                           n_jobs=-1),\n",
      "                                          method='spearman',\n",
      "                                          missing_values='raise',\n",
      "                                          selection_method='variance',\n",
      "                                          threshold=0.95))])\n",
      "Correlated : 248\n",
      "Total removed: 248\n",
      "\n",
      "Shapes for dataset: Correlated\n",
      "X_train Shape (1385, 514)\n",
      "X_test Shape (1386, 514)\n",
      "X_val Shape (132, 514)\n"
     ]
    }
   ],
   "source": [
    "warnings.filterwarnings(\"ignore\")\n",
    "\n",
    "smart_correlation_estimator = models[0]\n",
    "dataset = 'Correlated'\n",
    "pipe = Pipeline([(dataset, SmartCorrelatedSelection(variables=None, method=\"spearman\",threshold=0.95,missing_values=\"raise\",selection_method=\"variance\",estimator=smart_correlation_estimator,scoring=\"roc_auc\",cv=btscv,)),])\n",
    "apply_pipe_transform(dataset,'Original', pipe, models[0], set='combined')"
   ]
  },
  {
   "cell_type": "markdown",
   "metadata": {},
   "source": [
    "### Remove Duplicated, Quasi Constant & Correlated Features"
   ]
  },
  {
   "cell_type": "code",
   "execution_count": 46,
   "metadata": {},
   "outputs": [
    {
     "name": "stdout",
     "output_type": "stream",
     "text": [
      "\n",
      "Removing Features for dataset: Clean\n",
      "# Features before: 604\n",
      "\n",
      "Removed Features for Pipeline: Pipeline(steps=[('Clean',\n",
      "                 SmartCorrelatedSelection(cv=<support._model_build_func.BlockingTimeSeriesSplit object at 0x000001C7368EA4A0>,\n",
      "                                          estimator=RandomForestClassifier(max_depth=3,\n",
      "                                                                           n_estimators=200,\n",
      "                                                                           n_jobs=-1),\n",
      "                                          method='spearman',\n",
      "                                          missing_values='raise',\n",
      "                                          selection_method='variance',\n",
      "                                          threshold=0.95))])\n",
      "Clean : 200\n",
      "Total removed: 200\n",
      "\n",
      "Shapes for dataset: Clean\n",
      "X_train Shape (1385, 404)\n",
      "X_test Shape (1386, 404)\n",
      "X_val Shape (132, 404)\n"
     ]
    }
   ],
   "source": [
    "warnings.filterwarnings(\"ignore\")\n",
    "smart_correlation_estimator = models[0]\n",
    "dataset = 'Clean'\n",
    "pipe = Pipeline([(dataset, SmartCorrelatedSelection(variables=None, method=\"spearman\",threshold=0.95,missing_values=\"raise\",selection_method=\"variance\",estimator=smart_correlation_estimator,scoring=\"roc_auc\",cv=btscv,)),])\n",
    "apply_pipe_transform(dataset,'Dupl&QConstant', pipe, models[0], set='combined')\n"
   ]
  },
  {
   "cell_type": "markdown",
   "metadata": {},
   "source": [
    "### Clean1 - Drop constant, quasi Constant, duplicated and correlated features"
   ]
  },
  {
   "cell_type": "code",
   "execution_count": 47,
   "metadata": {},
   "outputs": [
    {
     "name": "stdout",
     "output_type": "stream",
     "text": [
      "\n",
      "Removing Features for dataset: Clean1\n",
      "# Features before: 762\n",
      "\n",
      "Removed Features for Pipeline: Pipeline(steps=[('constant', DropConstantFeatures()),\n",
      "                ('quasiConstant', DropConstantFeatures(tol=0.95)),\n",
      "                ('duplicated', DropDuplicateFeatures(missing_values='raise')),\n",
      "                ('correlation',\n",
      "                 SmartCorrelatedSelection(cv=<support._model_build_func.BlockingTimeSeriesSplit object at 0x000001C7368EA4A0>,\n",
      "                                          estimator=RandomForestClassifier(max_depth=3,\n",
      "                                                                           n_estimators=200,\n",
      "                                                                           n_jobs=-1),\n",
      "                                          method='spearman',\n",
      "                                          missing_values='raise',\n",
      "                                          selection_method='variance',\n",
      "                                          threshold=0.95))])\n",
      "constant : 102\n",
      "quasiConstant : 8\n",
      "duplicated : 48\n",
      "correlation : 200\n",
      "Total removed: 358\n",
      "\n",
      "Shapes for dataset: Clean1\n",
      "X_train Shape (1385, 404)\n",
      "X_test Shape (1386, 404)\n",
      "X_val Shape (132, 404)\n",
      "\n",
      "Removing Features for dataset: Clean1\n",
      "# Features before: 762\n",
      "\n",
      "Removed Features for Pipeline: Pipeline(steps=[('constant', DropConstantFeatures()),\n",
      "                ('quasiConstant', DropConstantFeatures(tol=0.95)),\n",
      "                ('duplicated', DropDuplicateFeatures(missing_values='raise')),\n",
      "                ('correlation',\n",
      "                 SmartCorrelatedSelection(cv=<support._model_build_func.BlockingTimeSeriesSplit object at 0x000001C7368EA4A0>,\n",
      "                                          estimator=RandomForestClassifier(max_depth=3,\n",
      "                                                                           n_estimators=200,\n",
      "                                                                           n_jobs=-1),\n",
      "                                          method='spearman',\n",
      "                                          missing_values='raise',\n",
      "                                          selection_method='variance',\n",
      "                                          threshold=0.95))])\n",
      "constant : 102\n",
      "quasiConstant : 8\n",
      "duplicated : 48\n",
      "correlation : 200\n",
      "Total removed: 358\n",
      "\n",
      "Shapes for dataset: Clean1\n",
      "X_train Shape (1385, 404)\n",
      "X_test Shape (1386, 404)\n",
      "X_val Shape (132, 404)\n"
     ]
    }
   ],
   "source": [
    "warnings.filterwarnings(\"ignore\")\n",
    "\n",
    "smart_correlation_estimator = models[0]\n",
    "dataset = 'Clean1'\n",
    "pipe = Pipeline([\n",
    "    ('constant', DropConstantFeatures(tol=1, variables=None, missing_values='raise')),\n",
    "    ('quasiConstant', DropConstantFeatures(tol=0.95, variables=None, missing_values='raise')),\n",
    "    ('duplicated', DropDuplicateFeatures(variables=None, missing_values='raise')),\n",
    "    ('correlation', SmartCorrelatedSelection(variables=None, method=\"spearman\",threshold=0.95,missing_values=\"raise\",selection_method=\"variance\",estimator=smart_correlation_estimator,scoring=\"roc_auc\",cv=btscv,)),])\n",
    "apply_pipe_transform(dataset,'Original', pipe, models[0], set='combined')\n",
    "apply_pipe_transform(dataset,'Original', pipe, models[1], set='combined')"
   ]
  },
  {
   "cell_type": "code",
   "execution_count": 48,
   "metadata": {},
   "outputs": [
    {
     "data": {
      "text/html": [
       "<div>\n",
       "<style scoped>\n",
       "    .dataframe tbody tr th:only-of-type {\n",
       "        vertical-align: middle;\n",
       "    }\n",
       "\n",
       "    .dataframe tbody tr th {\n",
       "        vertical-align: top;\n",
       "    }\n",
       "\n",
       "    .dataframe thead th {\n",
       "        text-align: right;\n",
       "    }\n",
       "</style>\n",
       "<table border=\"1\" class=\"dataframe\">\n",
       "  <thead>\n",
       "    <tr style=\"text-align: right;\">\n",
       "      <th></th>\n",
       "      <th></th>\n",
       "      <th>Num_Features</th>\n",
       "      <th>balanced_accuracy</th>\n",
       "      <th>precision_weighted</th>\n",
       "      <th>recall_weighted</th>\n",
       "      <th>f1_weighted</th>\n",
       "      <th>roc_auc_ovr_weighted</th>\n",
       "      <th>roc_auc_ovo_weighted</th>\n",
       "      <th>neg_log_loss</th>\n",
       "      <th>Kappa</th>\n",
       "    </tr>\n",
       "    <tr>\n",
       "      <th>Model</th>\n",
       "      <th>Dataset</th>\n",
       "      <th></th>\n",
       "      <th></th>\n",
       "      <th></th>\n",
       "      <th></th>\n",
       "      <th></th>\n",
       "      <th></th>\n",
       "      <th></th>\n",
       "      <th></th>\n",
       "      <th></th>\n",
       "    </tr>\n",
       "  </thead>\n",
       "  <tbody>\n",
       "    <tr>\n",
       "      <th>RandomForestClassifier</th>\n",
       "      <th>Original</th>\n",
       "      <td>762</td>\n",
       "      <td>0.41</td>\n",
       "      <td>0.35</td>\n",
       "      <td>0.42</td>\n",
       "      <td>0.35</td>\n",
       "      <td>0.62</td>\n",
       "      <td>0.63</td>\n",
       "      <td>-1.06</td>\n",
       "      <td>0.135664</td>\n",
       "    </tr>\n",
       "    <tr>\n",
       "      <th>XGBClassifier</th>\n",
       "      <th>Original</th>\n",
       "      <td>762</td>\n",
       "      <td>0.42</td>\n",
       "      <td>0.42</td>\n",
       "      <td>0.42</td>\n",
       "      <td>0.38</td>\n",
       "      <td>0.6</td>\n",
       "      <td>0.61</td>\n",
       "      <td>-1.64</td>\n",
       "      <td>0.140544</td>\n",
       "    </tr>\n",
       "    <tr>\n",
       "      <th>RandomForestClassifier</th>\n",
       "      <th>Constant</th>\n",
       "      <td>660</td>\n",
       "      <td>0.41</td>\n",
       "      <td>0.39</td>\n",
       "      <td>0.42</td>\n",
       "      <td>0.36</td>\n",
       "      <td>0.62</td>\n",
       "      <td>0.62</td>\n",
       "      <td>-1.07</td>\n",
       "      <td>0.135743</td>\n",
       "    </tr>\n",
       "    <tr>\n",
       "      <th>XGBClassifier</th>\n",
       "      <th>Constant</th>\n",
       "      <td>660</td>\n",
       "      <td>0.42</td>\n",
       "      <td>0.43</td>\n",
       "      <td>0.42</td>\n",
       "      <td>0.38</td>\n",
       "      <td>0.6</td>\n",
       "      <td>0.6</td>\n",
       "      <td>-1.66</td>\n",
       "      <td>0.137313</td>\n",
       "    </tr>\n",
       "    <tr>\n",
       "      <th rowspan=\"7\" valign=\"top\">RandomForestClassifier</th>\n",
       "      <th>Spread_1-2</th>\n",
       "      <td>1</td>\n",
       "      <td>0.34</td>\n",
       "      <td>0.36</td>\n",
       "      <td>0.35</td>\n",
       "      <td>0.28</td>\n",
       "      <td>0.51</td>\n",
       "      <td>0.52</td>\n",
       "      <td>-1.13</td>\n",
       "      <td>0.025593</td>\n",
       "    </tr>\n",
       "    <tr>\n",
       "      <th>QuasiConstant</th>\n",
       "      <td>652</td>\n",
       "      <td>0.42</td>\n",
       "      <td>0.37</td>\n",
       "      <td>0.42</td>\n",
       "      <td>0.36</td>\n",
       "      <td>0.62</td>\n",
       "      <td>0.62</td>\n",
       "      <td>-1.07</td>\n",
       "      <td>0.124399</td>\n",
       "    </tr>\n",
       "    <tr>\n",
       "      <th>Duplicated</th>\n",
       "      <td>674</td>\n",
       "      <td>0.43</td>\n",
       "      <td>0.36</td>\n",
       "      <td>0.41</td>\n",
       "      <td>0.36</td>\n",
       "      <td>0.62</td>\n",
       "      <td>0.63</td>\n",
       "      <td>-1.07</td>\n",
       "      <td>0.129195</td>\n",
       "    </tr>\n",
       "    <tr>\n",
       "      <th>Dupl&amp;QConstant</th>\n",
       "      <td>604</td>\n",
       "      <td>0.43</td>\n",
       "      <td>0.34</td>\n",
       "      <td>0.41</td>\n",
       "      <td>0.36</td>\n",
       "      <td>0.61</td>\n",
       "      <td>0.61</td>\n",
       "      <td>-1.07</td>\n",
       "      <td>0.132034</td>\n",
       "    </tr>\n",
       "    <tr>\n",
       "      <th>Correlated</th>\n",
       "      <td>514</td>\n",
       "      <td>0.42</td>\n",
       "      <td>0.35</td>\n",
       "      <td>0.43</td>\n",
       "      <td>0.36</td>\n",
       "      <td>0.62</td>\n",
       "      <td>0.62</td>\n",
       "      <td>-1.07</td>\n",
       "      <td>0.127114</td>\n",
       "    </tr>\n",
       "    <tr>\n",
       "      <th>Clean</th>\n",
       "      <td>404</td>\n",
       "      <td>0.41</td>\n",
       "      <td>0.36</td>\n",
       "      <td>0.43</td>\n",
       "      <td>0.36</td>\n",
       "      <td>0.63</td>\n",
       "      <td>0.63</td>\n",
       "      <td>-1.06</td>\n",
       "      <td>0.150475</td>\n",
       "    </tr>\n",
       "    <tr>\n",
       "      <th>Clean1</th>\n",
       "      <td>404</td>\n",
       "      <td>0.42</td>\n",
       "      <td>0.34</td>\n",
       "      <td>0.43</td>\n",
       "      <td>0.36</td>\n",
       "      <td>0.63</td>\n",
       "      <td>0.62</td>\n",
       "      <td>-1.06</td>\n",
       "      <td>0.125264</td>\n",
       "    </tr>\n",
       "    <tr>\n",
       "      <th>XGBClassifier</th>\n",
       "      <th>Clean1</th>\n",
       "      <td>404</td>\n",
       "      <td>0.43</td>\n",
       "      <td>0.44</td>\n",
       "      <td>0.42</td>\n",
       "      <td>0.38</td>\n",
       "      <td>0.6</td>\n",
       "      <td>0.61</td>\n",
       "      <td>-1.72</td>\n",
       "      <td>0.136534</td>\n",
       "    </tr>\n",
       "  </tbody>\n",
       "</table>\n",
       "</div>"
      ],
      "text/plain": [
       "                                      Num_Features balanced_accuracy  \\\n",
       "Model                  Dataset                                         \n",
       "RandomForestClassifier Original                762              0.41   \n",
       "XGBClassifier          Original                762              0.42   \n",
       "RandomForestClassifier Constant                660              0.41   \n",
       "XGBClassifier          Constant                660              0.42   \n",
       "RandomForestClassifier Spread_1-2                1              0.34   \n",
       "                       QuasiConstant           652              0.42   \n",
       "                       Duplicated              674              0.43   \n",
       "                       Dupl&QConstant          604              0.43   \n",
       "                       Correlated              514              0.42   \n",
       "                       Clean                   404              0.41   \n",
       "                       Clean1                  404              0.42   \n",
       "XGBClassifier          Clean1                  404              0.43   \n",
       "\n",
       "                                      precision_weighted recall_weighted  \\\n",
       "Model                  Dataset                                             \n",
       "RandomForestClassifier Original                     0.35            0.42   \n",
       "XGBClassifier          Original                     0.42            0.42   \n",
       "RandomForestClassifier Constant                     0.39            0.42   \n",
       "XGBClassifier          Constant                     0.43            0.42   \n",
       "RandomForestClassifier Spread_1-2                   0.36            0.35   \n",
       "                       QuasiConstant                0.37            0.42   \n",
       "                       Duplicated                   0.36            0.41   \n",
       "                       Dupl&QConstant               0.34            0.41   \n",
       "                       Correlated                   0.35            0.43   \n",
       "                       Clean                        0.36            0.43   \n",
       "                       Clean1                       0.34            0.43   \n",
       "XGBClassifier          Clean1                       0.44            0.42   \n",
       "\n",
       "                                      f1_weighted roc_auc_ovr_weighted  \\\n",
       "Model                  Dataset                                           \n",
       "RandomForestClassifier Original              0.35                 0.62   \n",
       "XGBClassifier          Original              0.38                  0.6   \n",
       "RandomForestClassifier Constant              0.36                 0.62   \n",
       "XGBClassifier          Constant              0.38                  0.6   \n",
       "RandomForestClassifier Spread_1-2            0.28                 0.51   \n",
       "                       QuasiConstant         0.36                 0.62   \n",
       "                       Duplicated            0.36                 0.62   \n",
       "                       Dupl&QConstant        0.36                 0.61   \n",
       "                       Correlated            0.36                 0.62   \n",
       "                       Clean                 0.36                 0.63   \n",
       "                       Clean1                0.36                 0.63   \n",
       "XGBClassifier          Clean1                0.38                  0.6   \n",
       "\n",
       "                                      roc_auc_ovo_weighted neg_log_loss  \\\n",
       "Model                  Dataset                                            \n",
       "RandomForestClassifier Original                       0.63        -1.06   \n",
       "XGBClassifier          Original                       0.61        -1.64   \n",
       "RandomForestClassifier Constant                       0.62        -1.07   \n",
       "XGBClassifier          Constant                        0.6        -1.66   \n",
       "RandomForestClassifier Spread_1-2                     0.52        -1.13   \n",
       "                       QuasiConstant                  0.62        -1.07   \n",
       "                       Duplicated                     0.63        -1.07   \n",
       "                       Dupl&QConstant                 0.61        -1.07   \n",
       "                       Correlated                     0.62        -1.07   \n",
       "                       Clean                          0.63        -1.06   \n",
       "                       Clean1                         0.62        -1.06   \n",
       "XGBClassifier          Clean1                         0.61        -1.72   \n",
       "\n",
       "                                          Kappa  \n",
       "Model                  Dataset                   \n",
       "RandomForestClassifier Original        0.135664  \n",
       "XGBClassifier          Original        0.140544  \n",
       "RandomForestClassifier Constant        0.135743  \n",
       "XGBClassifier          Constant        0.137313  \n",
       "RandomForestClassifier Spread_1-2      0.025593  \n",
       "                       QuasiConstant   0.124399  \n",
       "                       Duplicated      0.129195  \n",
       "                       Dupl&QConstant  0.132034  \n",
       "                       Correlated      0.127114  \n",
       "                       Clean           0.150475  \n",
       "                       Clean1          0.125264  \n",
       "XGBClassifier          Clean1          0.136534  "
      ]
     },
     "execution_count": 48,
     "metadata": {},
     "output_type": "execute_result"
    }
   ],
   "source": [
    "features_df.drop(['Model_Details','Features_List','Removed_Features','ClassDf'],axis=1)"
   ]
  },
  {
   "cell_type": "markdown",
   "metadata": {},
   "source": [
    "**"
   ]
  },
  {
   "cell_type": "code",
   "execution_count": 49,
   "metadata": {},
   "outputs": [
    {
     "data": {
      "text/html": [
       "<div>\n",
       "<style scoped>\n",
       "    .dataframe tbody tr th:only-of-type {\n",
       "        vertical-align: middle;\n",
       "    }\n",
       "\n",
       "    .dataframe tbody tr th {\n",
       "        vertical-align: top;\n",
       "    }\n",
       "\n",
       "    .dataframe thead th {\n",
       "        text-align: right;\n",
       "    }\n",
       "</style>\n",
       "<table border=\"1\" class=\"dataframe\">\n",
       "  <thead>\n",
       "    <tr style=\"text-align: right;\">\n",
       "      <th></th>\n",
       "      <th>precision</th>\n",
       "      <th>recall</th>\n",
       "      <th>fscore</th>\n",
       "      <th>specificity</th>\n",
       "      <th>fpr</th>\n",
       "      <th>accuracy</th>\n",
       "      <th>tp</th>\n",
       "      <th>tn</th>\n",
       "      <th>fp</th>\n",
       "      <th>fn</th>\n",
       "      <th>support</th>\n",
       "    </tr>\n",
       "  </thead>\n",
       "  <tbody>\n",
       "    <tr>\n",
       "      <th>-1</th>\n",
       "      <td>36%</td>\n",
       "      <td>43%</td>\n",
       "      <td>39%</td>\n",
       "      <td>67%</td>\n",
       "      <td>33%</td>\n",
       "      <td>60%</td>\n",
       "      <td>72.0</td>\n",
       "      <td>260.0</td>\n",
       "      <td>129.0</td>\n",
       "      <td>94.0</td>\n",
       "      <td>166.0</td>\n",
       "    </tr>\n",
       "    <tr>\n",
       "      <th>0</th>\n",
       "      <td>45%</td>\n",
       "      <td>34%</td>\n",
       "      <td>39%</td>\n",
       "      <td>75%</td>\n",
       "      <td>25%</td>\n",
       "      <td>60%</td>\n",
       "      <td>70.0</td>\n",
       "      <td>265.0</td>\n",
       "      <td>86.0</td>\n",
       "      <td>134.0</td>\n",
       "      <td>204.0</td>\n",
       "    </tr>\n",
       "    <tr>\n",
       "      <th>1</th>\n",
       "      <td>44%</td>\n",
       "      <td>48%</td>\n",
       "      <td>46%</td>\n",
       "      <td>70%</td>\n",
       "      <td>30%</td>\n",
       "      <td>63%</td>\n",
       "      <td>88.0</td>\n",
       "      <td>260.0</td>\n",
       "      <td>110.0</td>\n",
       "      <td>97.0</td>\n",
       "      <td>185.0</td>\n",
       "    </tr>\n",
       "    <tr>\n",
       "      <th>macro</th>\n",
       "      <td>42%</td>\n",
       "      <td>42%</td>\n",
       "      <td>41%</td>\n",
       "      <td>71%</td>\n",
       "      <td>29%</td>\n",
       "      <td>61%</td>\n",
       "      <td>230.0</td>\n",
       "      <td>785.0</td>\n",
       "      <td>325.0</td>\n",
       "      <td>325.0</td>\n",
       "      <td>555.0</td>\n",
       "    </tr>\n",
       "    <tr>\n",
       "      <th>Wt_Avg</th>\n",
       "      <td>42%</td>\n",
       "      <td>41%</td>\n",
       "      <td>41%</td>\n",
       "      <td>71%</td>\n",
       "      <td>29%</td>\n",
       "      <td>61%</td>\n",
       "      <td>230.0</td>\n",
       "      <td>785.0</td>\n",
       "      <td>325.0</td>\n",
       "      <td>325.0</td>\n",
       "      <td>555.0</td>\n",
       "    </tr>\n",
       "  </tbody>\n",
       "</table>\n",
       "</div>"
      ],
      "text/plain": [
       "       precision recall fscore specificity  fpr accuracy     tp     tn     fp  \\\n",
       "-1           36%    43%    39%         67%  33%      60%   72.0  260.0  129.0   \n",
       "0            45%    34%    39%         75%  25%      60%   70.0  265.0   86.0   \n",
       "1            44%    48%    46%         70%  30%      63%   88.0  260.0  110.0   \n",
       "macro        42%    42%    41%         71%  29%      61%  230.0  785.0  325.0   \n",
       "Wt_Avg       42%    41%    41%         71%  29%      61%  230.0  785.0  325.0   \n",
       "\n",
       "           fn  support  \n",
       "-1       94.0    166.0  \n",
       "0       134.0    204.0  \n",
       "1        97.0    185.0  \n",
       "macro   325.0    555.0  \n",
       "Wt_Avg  325.0    555.0  "
      ]
     },
     "execution_count": 49,
     "metadata": {},
     "output_type": "execute_result"
    }
   ],
   "source": [
    "features_df.drop(['Model_Details','Features_List','Removed_Features'],axis=1).loc[('RandomForestClassifier','Clean1')]['ClassDf'][0]"
   ]
  },
  {
   "cell_type": "code",
   "execution_count": 50,
   "metadata": {},
   "outputs": [
    {
     "data": {
      "text/plain": [
       "('f1_weighted',\n",
       " 'neg_log_loss',\n",
       " 'cohen_kappa_score',\n",
       " 'precision_weighted',\n",
       " 'roc_auc_ovr_weighted')"
      ]
     },
     "execution_count": 50,
     "metadata": {},
     "output_type": "execute_result"
    }
   ],
   "source": [
    "'f1_weighted', 'neg_log_loss', 'cohen_kappa_score', 'precision_weighted','roc_auc_ovr_weighted'"
   ]
  },
  {
   "cell_type": "markdown",
   "metadata": {},
   "source": [
    "## Manual Feature Selection"
   ]
  },
  {
   "cell_type": "markdown",
   "metadata": {},
   "source": [
    "To Do\n",
    "\n",
    "**Engineered**\n",
    "1. LB_High - LB_Low\n",
    "2. Get Other Basis\n",
    "3. Use some techincal Indicators\n",
    "\n",
    "**Raw**\n",
    "1. LB_Volume\t\n",
    "2. LB_openInterest\n",
    "\n"
   ]
  },
  {
   "cell_type": "markdown",
   "metadata": {},
   "source": [
    "### Read List"
   ]
  },
  {
   "cell_type": "code",
   "execution_count": 51,
   "metadata": {},
   "outputs": [],
   "source": [
    "# pd.Series(Variables.columns.tolist()).to_csv('Variable_columns_names.csv',index=False)\n",
    "\n",
    "manual_list = pd.read_excel('C:/source/2x4-data/app/feature_selection/ManualSelectList.xlsx', index_col=0)\n",
    "manual_list = manual_list[manual_list.index == 1]\n",
    "manual_list = manual_list.values.tolist()\n",
    "manual_list = [x for xs in manual_list for x in xs]"
   ]
  },
  {
   "cell_type": "markdown",
   "metadata": {},
   "source": [
    "### Apply all Transformations"
   ]
  },
  {
   "cell_type": "code",
   "execution_count": 52,
   "metadata": {},
   "outputs": [],
   "source": [
    "\n",
    "def fill_with_manual_list(new_dataset,manual_list):\n",
    "    X_train_dict[new_dataset] = X_train_dict['Original'][manual_list]\n",
    "    X_test_dict[new_dataset] = X_test_dict['Original'][manual_list]\n",
    "    X_val_dict[new_dataset] = X_val_dict['Original'][manual_list]\n",
    "\n",
    "\n",
    "def apply_pipe_transform_2(dataset,original_dataset, pipe, manual_list, model, sampled_weights, set='combined'):\n",
    "    fill_with_manual_list(dataset, manual_list)\n",
    "    pipe = pipe.fit(X_train_dict[dataset])\n",
    "    remove_features(dataset,pipe)\n",
    "    print_pipe_removed(pipe)\n",
    "    get_shapes(dataset)\n",
    "    add_metrics(model, dataset, set='combined')"
   ]
  },
  {
   "cell_type": "code",
   "execution_count": 53,
   "metadata": {},
   "outputs": [
    {
     "name": "stdout",
     "output_type": "stream",
     "text": [
      "\n",
      "Removing Features for dataset: ManualSelection\n",
      "# Features before: 148\n",
      "\n",
      "Removed Features for Pipeline: Pipeline(steps=[('constant', DropConstantFeatures()),\n",
      "                ('quasiConstant', DropConstantFeatures(tol=0.9)),\n",
      "                ('duplicated', DropDuplicateFeatures(missing_values='raise')),\n",
      "                ('correlation',\n",
      "                 SmartCorrelatedSelection(cv=<support._model_build_func.BlockingTimeSeriesSplit object at 0x000001C7368EA4A0>,\n",
      "                                          estimator=RandomForestClassifier(max_depth=3,\n",
      "                                                                           n_estimators=200,\n",
      "                                                                           n_jobs=-1),\n",
      "                                          method='spearman',\n",
      "                                          missing_values='raise',\n",
      "                                          scoring='precision_weighted',\n",
      "                                          selection_method='variance',\n",
      "                                          threshold=0.95))])\n",
      "constant : 18\n",
      "quasiConstant : 2\n",
      "duplicated : 1\n",
      "correlation : 21\n",
      "Total removed: 42\n",
      "\n",
      "Shapes for dataset: ManualSelection\n",
      "X_train Shape (1385, 106)\n",
      "X_test Shape (1386, 106)\n",
      "X_val Shape (132, 106)\n",
      "\n",
      "Removing Features for dataset: ManualSelection\n",
      "# Features before: 148\n",
      "\n",
      "Removed Features for Pipeline: Pipeline(steps=[('constant', DropConstantFeatures()),\n",
      "                ('quasiConstant', DropConstantFeatures(tol=0.9)),\n",
      "                ('duplicated', DropDuplicateFeatures(missing_values='raise')),\n",
      "                ('correlation',\n",
      "                 SmartCorrelatedSelection(cv=<support._model_build_func.BlockingTimeSeriesSplit object at 0x000001C7368EA4A0>,\n",
      "                                          estimator=RandomForestClassifier(max_depth=3,\n",
      "                                                                           n_estimators=200,\n",
      "                                                                           n_jobs=-1),\n",
      "                                          method='spearman',\n",
      "                                          missing_values='raise',\n",
      "                                          scoring='precision_weighted',\n",
      "                                          selection_method='variance',\n",
      "                                          threshold=0.95))])\n",
      "constant : 18\n",
      "quasiConstant : 2\n",
      "duplicated : 1\n",
      "correlation : 21\n",
      "Total removed: 42\n",
      "\n",
      "Shapes for dataset: ManualSelection\n",
      "X_train Shape (1385, 106)\n",
      "X_test Shape (1386, 106)\n",
      "X_val Shape (132, 106)\n"
     ]
    }
   ],
   "source": [
    "warnings.filterwarnings(\"ignore\")\n",
    "\n",
    "dataset='ManualSelection'\n",
    "original_dataset='Original'\n",
    "feats_to_keep_list=manual_list\n",
    "model=models[0]\n",
    "set='combined'\n",
    "sampled_weights=False\n",
    "\n",
    "pipe = Pipeline([\n",
    "    ('constant', DropConstantFeatures(tol=1, variables=None, missing_values='raise')),\n",
    "    ('quasiConstant', DropConstantFeatures(tol=0.90, variables=None, missing_values='raise')),\n",
    "    ('duplicated', DropDuplicateFeatures(variables=None, missing_values='raise')),\n",
    "    ('correlation', SmartCorrelatedSelection(variables=None, method=\"spearman\",threshold=0.95,missing_values=\"raise\",selection_method=\"variance\",estimator=model,scoring=\"precision_weighted\",cv=btscv,)),])\n",
    "apply_pipe_transform_2(dataset,'Original', pipe, manual_list, models[0], set='combined', sampled_weights=True)\n",
    "apply_pipe_transform_2(dataset,'Original', pipe, manual_list, models[1], set='combined', sampled_weights=True)"
   ]
  },
  {
   "cell_type": "markdown",
   "metadata": {},
   "source": [
    "### Save Below"
   ]
  },
  {
   "cell_type": "code",
   "execution_count": 54,
   "metadata": {},
   "outputs": [],
   "source": [
    "X = pd.concat([X_train_dict['Original'],X_test_dict['Original']],axis=0)\n",
    "y = pd.concat([y_train,y_test],axis=0)\n",
    "model = models[0]"
   ]
  },
  {
   "cell_type": "code",
   "execution_count": 55,
   "metadata": {},
   "outputs": [
    {
     "data": {
      "text/plain": [
       "(True, False)"
      ]
     },
     "execution_count": 55,
     "metadata": {},
     "output_type": "execute_result"
    }
   ],
   "source": [
    "com1_original, com1_predicted = predictions_from_custom_cross_val(model,X, y, custom_cv = btscv, sampled_weights=False)\n",
    "com2_original, com2_predicted = predictions_from_custom_cross_val(model,X, y, custom_cv = btscv, sampled_weights=True)\n",
    "com1_original == com2_original, com1_predicted == com2_predicted\n"
   ]
  },
  {
   "cell_type": "code",
   "execution_count": 56,
   "metadata": {},
   "outputs": [
    {
     "data": {
      "text/html": [
       "<div>\n",
       "<style scoped>\n",
       "    .dataframe tbody tr th:only-of-type {\n",
       "        vertical-align: middle;\n",
       "    }\n",
       "\n",
       "    .dataframe tbody tr th {\n",
       "        vertical-align: top;\n",
       "    }\n",
       "\n",
       "    .dataframe thead th {\n",
       "        text-align: right;\n",
       "    }\n",
       "</style>\n",
       "<table border=\"1\" class=\"dataframe\">\n",
       "  <thead>\n",
       "    <tr style=\"text-align: right;\">\n",
       "      <th></th>\n",
       "      <th>predicted</th>\n",
       "      <th>original</th>\n",
       "    </tr>\n",
       "  </thead>\n",
       "  <tbody>\n",
       "    <tr>\n",
       "      <th>-1</th>\n",
       "      <td>203</td>\n",
       "      <td>166</td>\n",
       "    </tr>\n",
       "    <tr>\n",
       "      <th>0</th>\n",
       "      <td>136</td>\n",
       "      <td>204</td>\n",
       "    </tr>\n",
       "    <tr>\n",
       "      <th>1</th>\n",
       "      <td>216</td>\n",
       "      <td>185</td>\n",
       "    </tr>\n",
       "  </tbody>\n",
       "</table>\n",
       "</div>"
      ],
      "text/plain": [
       "    predicted  original\n",
       "-1        203       166\n",
       " 0        136       204\n",
       " 1        216       185"
      ]
     },
     "execution_count": 56,
     "metadata": {},
     "output_type": "execute_result"
    }
   ],
   "source": [
    "\n",
    "pd.DataFrame(data = [pd.Series(com1_predicted).value_counts().sort_index(), pd.Series(com1_original).value_counts().sort_index()], index = ['predicted','original']).T\n",
    "\n"
   ]
  },
  {
   "cell_type": "code",
   "execution_count": 57,
   "metadata": {},
   "outputs": [
    {
     "data": {
      "text/html": [
       "<div>\n",
       "<style scoped>\n",
       "    .dataframe tbody tr th:only-of-type {\n",
       "        vertical-align: middle;\n",
       "    }\n",
       "\n",
       "    .dataframe tbody tr th {\n",
       "        vertical-align: top;\n",
       "    }\n",
       "\n",
       "    .dataframe thead th {\n",
       "        text-align: right;\n",
       "    }\n",
       "</style>\n",
       "<table border=\"1\" class=\"dataframe\">\n",
       "  <thead>\n",
       "    <tr style=\"text-align: right;\">\n",
       "      <th></th>\n",
       "      <th>predicted</th>\n",
       "      <th>original</th>\n",
       "    </tr>\n",
       "  </thead>\n",
       "  <tbody>\n",
       "    <tr>\n",
       "      <th>-1</th>\n",
       "      <td>215</td>\n",
       "      <td>166</td>\n",
       "    </tr>\n",
       "    <tr>\n",
       "      <th>0</th>\n",
       "      <td>127</td>\n",
       "      <td>204</td>\n",
       "    </tr>\n",
       "    <tr>\n",
       "      <th>1</th>\n",
       "      <td>213</td>\n",
       "      <td>185</td>\n",
       "    </tr>\n",
       "  </tbody>\n",
       "</table>\n",
       "</div>"
      ],
      "text/plain": [
       "    predicted  original\n",
       "-1        215       166\n",
       " 0        127       204\n",
       " 1        213       185"
      ]
     },
     "execution_count": 57,
     "metadata": {},
     "output_type": "execute_result"
    }
   ],
   "source": [
    "pd.DataFrame(data = [pd.Series(com2_predicted).value_counts().sort_index(), pd.Series(com2_original).value_counts().sort_index()], index = ['predicted','original']).T\n"
   ]
  },
  {
   "cell_type": "code",
   "execution_count": 58,
   "metadata": {},
   "outputs": [],
   "source": [
    "# class_weight='balanced'\n",
    "\n"
   ]
  },
  {
   "cell_type": "code",
   "execution_count": 59,
   "metadata": {},
   "outputs": [
    {
     "data": {
      "text/plain": [
       "array([0.94637978, 1.17068019, 0.91815772])"
      ]
     },
     "execution_count": 59,
     "metadata": {},
     "output_type": "execute_result"
    }
   ],
   "source": [
    "from sklearn.utils.class_weight import compute_class_weight, compute_sample_weight\n",
    "class_weights = compute_class_weight(class_weight = \"balanced\",classes= lab, y = y.Labels)\n",
    "computed_sample_weights = compute_sample_weight('balanced', y.Labels)\n",
    "class_weights"
   ]
  },
  {
   "cell_type": "code",
   "execution_count": 60,
   "metadata": {},
   "outputs": [
    {
     "data": {
      "text/plain": [
       "array([0.91815772, 0.94637978, 1.17068019, ..., 0.94637978, 0.94637978,\n",
       "       1.17068019])"
      ]
     },
     "execution_count": 60,
     "metadata": {},
     "output_type": "execute_result"
    }
   ],
   "source": [
    "computed_sample_weights"
   ]
  },
  {
   "cell_type": "code",
   "execution_count": 61,
   "metadata": {},
   "outputs": [
    {
     "data": {
      "text/html": [
       "<div>\n",
       "<style scoped>\n",
       "    .dataframe tbody tr th:only-of-type {\n",
       "        vertical-align: middle;\n",
       "    }\n",
       "\n",
       "    .dataframe tbody tr th {\n",
       "        vertical-align: top;\n",
       "    }\n",
       "\n",
       "    .dataframe thead th {\n",
       "        text-align: right;\n",
       "    }\n",
       "</style>\n",
       "<table border=\"1\" class=\"dataframe\">\n",
       "  <thead>\n",
       "    <tr style=\"text-align: right;\">\n",
       "      <th></th>\n",
       "      <th>computed_sample_weights</th>\n",
       "    </tr>\n",
       "    <tr>\n",
       "      <th>Labels</th>\n",
       "      <th></th>\n",
       "    </tr>\n",
       "  </thead>\n",
       "  <tbody>\n",
       "    <tr>\n",
       "      <th>-1.0</th>\n",
       "      <td>0.946380</td>\n",
       "    </tr>\n",
       "    <tr>\n",
       "      <th>0.0</th>\n",
       "      <td>1.170680</td>\n",
       "    </tr>\n",
       "    <tr>\n",
       "      <th>1.0</th>\n",
       "      <td>0.918158</td>\n",
       "    </tr>\n",
       "  </tbody>\n",
       "</table>\n",
       "</div>"
      ],
      "text/plain": [
       "        computed_sample_weights\n",
       "Labels                         \n",
       "-1.0                   0.946380\n",
       " 0.0                   1.170680\n",
       " 1.0                   0.918158"
      ]
     },
     "execution_count": 61,
     "metadata": {},
     "output_type": "execute_result"
    }
   ],
   "source": [
    "group_df = pd.DataFrame(data = [computed_sample_weights, y.Labels], index = ['computed_sample_weights','Labels']).T\n",
    "group_df\n",
    "group_df.groupby('Labels').mean()"
   ]
  },
  {
   "cell_type": "code",
   "execution_count": 62,
   "metadata": {},
   "outputs": [
    {
     "data": {
      "text/html": [
       "<div>\n",
       "<style scoped>\n",
       "    .dataframe tbody tr th:only-of-type {\n",
       "        vertical-align: middle;\n",
       "    }\n",
       "\n",
       "    .dataframe tbody tr th {\n",
       "        vertical-align: top;\n",
       "    }\n",
       "\n",
       "    .dataframe thead th {\n",
       "        text-align: right;\n",
       "    }\n",
       "</style>\n",
       "<table border=\"1\" class=\"dataframe\">\n",
       "  <thead>\n",
       "    <tr style=\"text-align: right;\">\n",
       "      <th></th>\n",
       "      <th>sample_weights</th>\n",
       "    </tr>\n",
       "    <tr>\n",
       "      <th>Labels</th>\n",
       "      <th></th>\n",
       "    </tr>\n",
       "  </thead>\n",
       "  <tbody>\n",
       "    <tr>\n",
       "      <th>-1</th>\n",
       "      <td>29.987036</td>\n",
       "    </tr>\n",
       "    <tr>\n",
       "      <th>0</th>\n",
       "      <td>21.428891</td>\n",
       "    </tr>\n",
       "    <tr>\n",
       "      <th>1</th>\n",
       "      <td>30.112441</td>\n",
       "    </tr>\n",
       "  </tbody>\n",
       "</table>\n",
       "</div>"
      ],
      "text/plain": [
       "        sample_weights\n",
       "Labels                \n",
       "-1           29.987036\n",
       " 0           21.428891\n",
       " 1           30.112441"
      ]
     },
     "execution_count": 62,
     "metadata": {},
     "output_type": "execute_result"
    }
   ],
   "source": [
    "Response[['Labels','sample_weights']].groupby('Labels').sum()\n",
    "# Response[['Labels','sample_weights']].groupby('Labels').mean()\n"
   ]
  },
  {
   "cell_type": "code",
   "execution_count": 63,
   "metadata": {},
   "outputs": [
    {
     "name": "stdout",
     "output_type": "stream",
     "text": [
      "Max: 0.054557283268807044\n",
      "Min: 0.005034412378459585\n"
     ]
    },
    {
     "data": {
      "text/plain": [
       "(0.00403, 0.0105]    19.91\n",
       "(0.0105, 0.016]      16.05\n",
       "(0.016, 0.0215]      12.99\n",
       "(0.0215, 0.027]       8.27\n",
       "(0.027, 0.0325]       6.68\n",
       "(0.0325, 0.038]       5.06\n",
       "(0.038, 0.0436]       3.03\n",
       "(0.0436, 0.0491]      2.14\n",
       "(0.0491, 0.0546]     25.87\n",
       "Name: sample_weights, dtype: float64"
      ]
     },
     "execution_count": 63,
     "metadata": {},
     "output_type": "execute_result"
    }
   ],
   "source": [
    "\n",
    "create_bins_data(Response,'sample_weights',10)"
   ]
  },
  {
   "cell_type": "code",
   "execution_count": 64,
   "metadata": {},
   "outputs": [
    {
     "data": {
      "text/html": [
       "<div>\n",
       "<style scoped>\n",
       "    .dataframe tbody tr th:only-of-type {\n",
       "        vertical-align: middle;\n",
       "    }\n",
       "\n",
       "    .dataframe tbody tr th {\n",
       "        vertical-align: top;\n",
       "    }\n",
       "\n",
       "    .dataframe thead th {\n",
       "        text-align: right;\n",
       "    }\n",
       "</style>\n",
       "<table border=\"1\" class=\"dataframe\">\n",
       "  <thead>\n",
       "    <tr style=\"text-align: right;\">\n",
       "      <th></th>\n",
       "      <th></th>\n",
       "      <th>Num_Features</th>\n",
       "      <th>balanced_accuracy</th>\n",
       "      <th>precision_weighted</th>\n",
       "      <th>recall_weighted</th>\n",
       "      <th>f1_weighted</th>\n",
       "      <th>roc_auc_ovr_weighted</th>\n",
       "      <th>roc_auc_ovo_weighted</th>\n",
       "      <th>neg_log_loss</th>\n",
       "      <th>Kappa</th>\n",
       "    </tr>\n",
       "    <tr>\n",
       "      <th>Model</th>\n",
       "      <th>Dataset</th>\n",
       "      <th></th>\n",
       "      <th></th>\n",
       "      <th></th>\n",
       "      <th></th>\n",
       "      <th></th>\n",
       "      <th></th>\n",
       "      <th></th>\n",
       "      <th></th>\n",
       "      <th></th>\n",
       "    </tr>\n",
       "  </thead>\n",
       "  <tbody>\n",
       "    <tr>\n",
       "      <th>RandomForestClassifier</th>\n",
       "      <th>Original</th>\n",
       "      <td>762</td>\n",
       "      <td>0.41</td>\n",
       "      <td>0.35</td>\n",
       "      <td>0.42</td>\n",
       "      <td>0.35</td>\n",
       "      <td>0.62</td>\n",
       "      <td>0.63</td>\n",
       "      <td>-1.06</td>\n",
       "      <td>0.135664</td>\n",
       "    </tr>\n",
       "    <tr>\n",
       "      <th>XGBClassifier</th>\n",
       "      <th>Original</th>\n",
       "      <td>762</td>\n",
       "      <td>0.42</td>\n",
       "      <td>0.42</td>\n",
       "      <td>0.42</td>\n",
       "      <td>0.38</td>\n",
       "      <td>0.6</td>\n",
       "      <td>0.61</td>\n",
       "      <td>-1.64</td>\n",
       "      <td>0.140544</td>\n",
       "    </tr>\n",
       "    <tr>\n",
       "      <th>RandomForestClassifier</th>\n",
       "      <th>Constant</th>\n",
       "      <td>660</td>\n",
       "      <td>0.41</td>\n",
       "      <td>0.39</td>\n",
       "      <td>0.42</td>\n",
       "      <td>0.36</td>\n",
       "      <td>0.62</td>\n",
       "      <td>0.62</td>\n",
       "      <td>-1.07</td>\n",
       "      <td>0.135743</td>\n",
       "    </tr>\n",
       "    <tr>\n",
       "      <th>XGBClassifier</th>\n",
       "      <th>Constant</th>\n",
       "      <td>660</td>\n",
       "      <td>0.42</td>\n",
       "      <td>0.43</td>\n",
       "      <td>0.42</td>\n",
       "      <td>0.38</td>\n",
       "      <td>0.6</td>\n",
       "      <td>0.6</td>\n",
       "      <td>-1.66</td>\n",
       "      <td>0.137313</td>\n",
       "    </tr>\n",
       "    <tr>\n",
       "      <th rowspan=\"7\" valign=\"top\">RandomForestClassifier</th>\n",
       "      <th>Spread_1-2</th>\n",
       "      <td>1</td>\n",
       "      <td>0.34</td>\n",
       "      <td>0.36</td>\n",
       "      <td>0.35</td>\n",
       "      <td>0.28</td>\n",
       "      <td>0.51</td>\n",
       "      <td>0.52</td>\n",
       "      <td>-1.13</td>\n",
       "      <td>0.025593</td>\n",
       "    </tr>\n",
       "    <tr>\n",
       "      <th>QuasiConstant</th>\n",
       "      <td>652</td>\n",
       "      <td>0.42</td>\n",
       "      <td>0.37</td>\n",
       "      <td>0.42</td>\n",
       "      <td>0.36</td>\n",
       "      <td>0.62</td>\n",
       "      <td>0.62</td>\n",
       "      <td>-1.07</td>\n",
       "      <td>0.124399</td>\n",
       "    </tr>\n",
       "    <tr>\n",
       "      <th>Duplicated</th>\n",
       "      <td>674</td>\n",
       "      <td>0.43</td>\n",
       "      <td>0.36</td>\n",
       "      <td>0.41</td>\n",
       "      <td>0.36</td>\n",
       "      <td>0.62</td>\n",
       "      <td>0.63</td>\n",
       "      <td>-1.07</td>\n",
       "      <td>0.129195</td>\n",
       "    </tr>\n",
       "    <tr>\n",
       "      <th>Dupl&amp;QConstant</th>\n",
       "      <td>604</td>\n",
       "      <td>0.43</td>\n",
       "      <td>0.34</td>\n",
       "      <td>0.41</td>\n",
       "      <td>0.36</td>\n",
       "      <td>0.61</td>\n",
       "      <td>0.61</td>\n",
       "      <td>-1.07</td>\n",
       "      <td>0.132034</td>\n",
       "    </tr>\n",
       "    <tr>\n",
       "      <th>Correlated</th>\n",
       "      <td>514</td>\n",
       "      <td>0.42</td>\n",
       "      <td>0.35</td>\n",
       "      <td>0.43</td>\n",
       "      <td>0.36</td>\n",
       "      <td>0.62</td>\n",
       "      <td>0.62</td>\n",
       "      <td>-1.07</td>\n",
       "      <td>0.127114</td>\n",
       "    </tr>\n",
       "    <tr>\n",
       "      <th>Clean</th>\n",
       "      <td>404</td>\n",
       "      <td>0.41</td>\n",
       "      <td>0.36</td>\n",
       "      <td>0.43</td>\n",
       "      <td>0.36</td>\n",
       "      <td>0.63</td>\n",
       "      <td>0.63</td>\n",
       "      <td>-1.06</td>\n",
       "      <td>0.150475</td>\n",
       "    </tr>\n",
       "    <tr>\n",
       "      <th>Clean1</th>\n",
       "      <td>404</td>\n",
       "      <td>0.42</td>\n",
       "      <td>0.34</td>\n",
       "      <td>0.43</td>\n",
       "      <td>0.36</td>\n",
       "      <td>0.63</td>\n",
       "      <td>0.62</td>\n",
       "      <td>-1.06</td>\n",
       "      <td>0.125264</td>\n",
       "    </tr>\n",
       "    <tr>\n",
       "      <th>XGBClassifier</th>\n",
       "      <th>Clean1</th>\n",
       "      <td>404</td>\n",
       "      <td>0.43</td>\n",
       "      <td>0.44</td>\n",
       "      <td>0.42</td>\n",
       "      <td>0.38</td>\n",
       "      <td>0.6</td>\n",
       "      <td>0.61</td>\n",
       "      <td>-1.72</td>\n",
       "      <td>0.136534</td>\n",
       "    </tr>\n",
       "    <tr>\n",
       "      <th>RandomForestClassifier</th>\n",
       "      <th>ManualSelection</th>\n",
       "      <td>NaN</td>\n",
       "      <td>0.41</td>\n",
       "      <td>0.39</td>\n",
       "      <td>0.41</td>\n",
       "      <td>0.31</td>\n",
       "      <td>0.63</td>\n",
       "      <td>0.61</td>\n",
       "      <td>-1.08</td>\n",
       "      <td>0.110564</td>\n",
       "    </tr>\n",
       "    <tr>\n",
       "      <th>XGBClassifier</th>\n",
       "      <th>ManualSelection</th>\n",
       "      <td>NaN</td>\n",
       "      <td>0.42</td>\n",
       "      <td>0.44</td>\n",
       "      <td>0.41</td>\n",
       "      <td>0.35</td>\n",
       "      <td>0.61</td>\n",
       "      <td>0.62</td>\n",
       "      <td>-1.63</td>\n",
       "      <td>0.128156</td>\n",
       "    </tr>\n",
       "  </tbody>\n",
       "</table>\n",
       "</div>"
      ],
      "text/plain": [
       "                                       Num_Features balanced_accuracy  \\\n",
       "Model                  Dataset                                          \n",
       "RandomForestClassifier Original                 762              0.41   \n",
       "XGBClassifier          Original                 762              0.42   \n",
       "RandomForestClassifier Constant                 660              0.41   \n",
       "XGBClassifier          Constant                 660              0.42   \n",
       "RandomForestClassifier Spread_1-2                 1              0.34   \n",
       "                       QuasiConstant            652              0.42   \n",
       "                       Duplicated               674              0.43   \n",
       "                       Dupl&QConstant           604              0.43   \n",
       "                       Correlated               514              0.42   \n",
       "                       Clean                    404              0.41   \n",
       "                       Clean1                   404              0.42   \n",
       "XGBClassifier          Clean1                   404              0.43   \n",
       "RandomForestClassifier ManualSelection          NaN              0.41   \n",
       "XGBClassifier          ManualSelection          NaN              0.42   \n",
       "\n",
       "                                       precision_weighted recall_weighted  \\\n",
       "Model                  Dataset                                              \n",
       "RandomForestClassifier Original                      0.35            0.42   \n",
       "XGBClassifier          Original                      0.42            0.42   \n",
       "RandomForestClassifier Constant                      0.39            0.42   \n",
       "XGBClassifier          Constant                      0.43            0.42   \n",
       "RandomForestClassifier Spread_1-2                    0.36            0.35   \n",
       "                       QuasiConstant                 0.37            0.42   \n",
       "                       Duplicated                    0.36            0.41   \n",
       "                       Dupl&QConstant                0.34            0.41   \n",
       "                       Correlated                    0.35            0.43   \n",
       "                       Clean                         0.36            0.43   \n",
       "                       Clean1                        0.34            0.43   \n",
       "XGBClassifier          Clean1                        0.44            0.42   \n",
       "RandomForestClassifier ManualSelection               0.39            0.41   \n",
       "XGBClassifier          ManualSelection               0.44            0.41   \n",
       "\n",
       "                                       f1_weighted roc_auc_ovr_weighted  \\\n",
       "Model                  Dataset                                            \n",
       "RandomForestClassifier Original               0.35                 0.62   \n",
       "XGBClassifier          Original               0.38                  0.6   \n",
       "RandomForestClassifier Constant               0.36                 0.62   \n",
       "XGBClassifier          Constant               0.38                  0.6   \n",
       "RandomForestClassifier Spread_1-2             0.28                 0.51   \n",
       "                       QuasiConstant          0.36                 0.62   \n",
       "                       Duplicated             0.36                 0.62   \n",
       "                       Dupl&QConstant         0.36                 0.61   \n",
       "                       Correlated             0.36                 0.62   \n",
       "                       Clean                  0.36                 0.63   \n",
       "                       Clean1                 0.36                 0.63   \n",
       "XGBClassifier          Clean1                 0.38                  0.6   \n",
       "RandomForestClassifier ManualSelection        0.31                 0.63   \n",
       "XGBClassifier          ManualSelection        0.35                 0.61   \n",
       "\n",
       "                                       roc_auc_ovo_weighted neg_log_loss  \\\n",
       "Model                  Dataset                                             \n",
       "RandomForestClassifier Original                        0.63        -1.06   \n",
       "XGBClassifier          Original                        0.61        -1.64   \n",
       "RandomForestClassifier Constant                        0.62        -1.07   \n",
       "XGBClassifier          Constant                         0.6        -1.66   \n",
       "RandomForestClassifier Spread_1-2                      0.52        -1.13   \n",
       "                       QuasiConstant                   0.62        -1.07   \n",
       "                       Duplicated                      0.63        -1.07   \n",
       "                       Dupl&QConstant                  0.61        -1.07   \n",
       "                       Correlated                      0.62        -1.07   \n",
       "                       Clean                           0.63        -1.06   \n",
       "                       Clean1                          0.62        -1.06   \n",
       "XGBClassifier          Clean1                          0.61        -1.72   \n",
       "RandomForestClassifier ManualSelection                 0.61        -1.08   \n",
       "XGBClassifier          ManualSelection                 0.62        -1.63   \n",
       "\n",
       "                                           Kappa  \n",
       "Model                  Dataset                    \n",
       "RandomForestClassifier Original         0.135664  \n",
       "XGBClassifier          Original         0.140544  \n",
       "RandomForestClassifier Constant         0.135743  \n",
       "XGBClassifier          Constant         0.137313  \n",
       "RandomForestClassifier Spread_1-2       0.025593  \n",
       "                       QuasiConstant    0.124399  \n",
       "                       Duplicated       0.129195  \n",
       "                       Dupl&QConstant   0.132034  \n",
       "                       Correlated       0.127114  \n",
       "                       Clean            0.150475  \n",
       "                       Clean1           0.125264  \n",
       "XGBClassifier          Clean1           0.136534  \n",
       "RandomForestClassifier ManualSelection  0.110564  \n",
       "XGBClassifier          ManualSelection  0.128156  "
      ]
     },
     "execution_count": 64,
     "metadata": {},
     "output_type": "execute_result"
    }
   ],
   "source": [
    "features_df.drop(['Model_Details','Features_List','Removed_Features','ClassDf'],axis=1)"
   ]
  },
  {
   "cell_type": "code",
   "execution_count": 65,
   "metadata": {},
   "outputs": [
    {
     "data": {
      "text/html": [
       "<div>\n",
       "<style scoped>\n",
       "    .dataframe tbody tr th:only-of-type {\n",
       "        vertical-align: middle;\n",
       "    }\n",
       "\n",
       "    .dataframe tbody tr th {\n",
       "        vertical-align: top;\n",
       "    }\n",
       "\n",
       "    .dataframe thead th {\n",
       "        text-align: right;\n",
       "    }\n",
       "</style>\n",
       "<table border=\"1\" class=\"dataframe\">\n",
       "  <thead>\n",
       "    <tr style=\"text-align: right;\">\n",
       "      <th></th>\n",
       "      <th>precision</th>\n",
       "      <th>recall</th>\n",
       "      <th>fscore</th>\n",
       "      <th>specificity</th>\n",
       "      <th>fpr</th>\n",
       "      <th>accuracy</th>\n",
       "      <th>tp</th>\n",
       "      <th>tn</th>\n",
       "      <th>fp</th>\n",
       "      <th>fn</th>\n",
       "      <th>support</th>\n",
       "    </tr>\n",
       "  </thead>\n",
       "  <tbody>\n",
       "    <tr>\n",
       "      <th>-1</th>\n",
       "      <td>36%</td>\n",
       "      <td>40%</td>\n",
       "      <td>38%</td>\n",
       "      <td>70%</td>\n",
       "      <td>30%</td>\n",
       "      <td>61%</td>\n",
       "      <td>66.0</td>\n",
       "      <td>273.0</td>\n",
       "      <td>116.0</td>\n",
       "      <td>100.0</td>\n",
       "      <td>166.0</td>\n",
       "    </tr>\n",
       "    <tr>\n",
       "      <th>0</th>\n",
       "      <td>44%</td>\n",
       "      <td>40%</td>\n",
       "      <td>42%</td>\n",
       "      <td>71%</td>\n",
       "      <td>29%</td>\n",
       "      <td>59%</td>\n",
       "      <td>82.0</td>\n",
       "      <td>248.0</td>\n",
       "      <td>103.0</td>\n",
       "      <td>122.0</td>\n",
       "      <td>204.0</td>\n",
       "    </tr>\n",
       "    <tr>\n",
       "      <th>1</th>\n",
       "      <td>41%</td>\n",
       "      <td>42%</td>\n",
       "      <td>42%</td>\n",
       "      <td>70%</td>\n",
       "      <td>30%</td>\n",
       "      <td>61%</td>\n",
       "      <td>78.0</td>\n",
       "      <td>260.0</td>\n",
       "      <td>110.0</td>\n",
       "      <td>107.0</td>\n",
       "      <td>185.0</td>\n",
       "    </tr>\n",
       "    <tr>\n",
       "      <th>macro</th>\n",
       "      <td>41%</td>\n",
       "      <td>41%</td>\n",
       "      <td>41%</td>\n",
       "      <td>70%</td>\n",
       "      <td>30%</td>\n",
       "      <td>60%</td>\n",
       "      <td>226.0</td>\n",
       "      <td>781.0</td>\n",
       "      <td>329.0</td>\n",
       "      <td>329.0</td>\n",
       "      <td>555.0</td>\n",
       "    </tr>\n",
       "    <tr>\n",
       "      <th>Wt_Avg</th>\n",
       "      <td>41%</td>\n",
       "      <td>41%</td>\n",
       "      <td>41%</td>\n",
       "      <td>70%</td>\n",
       "      <td>30%</td>\n",
       "      <td>60%</td>\n",
       "      <td>226.0</td>\n",
       "      <td>781.0</td>\n",
       "      <td>329.0</td>\n",
       "      <td>329.0</td>\n",
       "      <td>555.0</td>\n",
       "    </tr>\n",
       "  </tbody>\n",
       "</table>\n",
       "</div>"
      ],
      "text/plain": [
       "       precision recall fscore specificity  fpr accuracy     tp     tn     fp  \\\n",
       "-1           36%    40%    38%         70%  30%      61%   66.0  273.0  116.0   \n",
       "0            44%    40%    42%         71%  29%      59%   82.0  248.0  103.0   \n",
       "1            41%    42%    42%         70%  30%      61%   78.0  260.0  110.0   \n",
       "macro        41%    41%    41%         70%  30%      60%  226.0  781.0  329.0   \n",
       "Wt_Avg       41%    41%    41%         70%  30%      60%  226.0  781.0  329.0   \n",
       "\n",
       "           fn  support  \n",
       "-1      100.0    166.0  \n",
       "0       122.0    204.0  \n",
       "1       107.0    185.0  \n",
       "macro   329.0    555.0  \n",
       "Wt_Avg  329.0    555.0  "
      ]
     },
     "execution_count": 65,
     "metadata": {},
     "output_type": "execute_result"
    }
   ],
   "source": [
    "features_df.loc[('RandomForestClassifier','ManualSelection')]['ClassDf'][0]"
   ]
  },
  {
   "cell_type": "code",
   "execution_count": 66,
   "metadata": {},
   "outputs": [
    {
     "data": {
      "text/html": [
       "<div>\n",
       "<style scoped>\n",
       "    .dataframe tbody tr th:only-of-type {\n",
       "        vertical-align: middle;\n",
       "    }\n",
       "\n",
       "    .dataframe tbody tr th {\n",
       "        vertical-align: top;\n",
       "    }\n",
       "\n",
       "    .dataframe thead th {\n",
       "        text-align: right;\n",
       "    }\n",
       "</style>\n",
       "<table border=\"1\" class=\"dataframe\">\n",
       "  <thead>\n",
       "    <tr style=\"text-align: right;\">\n",
       "      <th></th>\n",
       "      <th>precision</th>\n",
       "      <th>recall</th>\n",
       "      <th>fscore</th>\n",
       "      <th>specificity</th>\n",
       "      <th>fpr</th>\n",
       "      <th>accuracy</th>\n",
       "      <th>tp</th>\n",
       "      <th>tn</th>\n",
       "      <th>fp</th>\n",
       "      <th>fn</th>\n",
       "      <th>support</th>\n",
       "    </tr>\n",
       "  </thead>\n",
       "  <tbody>\n",
       "    <tr>\n",
       "      <th>-1</th>\n",
       "      <td>36%</td>\n",
       "      <td>43%</td>\n",
       "      <td>39%</td>\n",
       "      <td>67%</td>\n",
       "      <td>33%</td>\n",
       "      <td>60%</td>\n",
       "      <td>72.0</td>\n",
       "      <td>260.0</td>\n",
       "      <td>129.0</td>\n",
       "      <td>94.0</td>\n",
       "      <td>166.0</td>\n",
       "    </tr>\n",
       "    <tr>\n",
       "      <th>0</th>\n",
       "      <td>45%</td>\n",
       "      <td>34%</td>\n",
       "      <td>39%</td>\n",
       "      <td>75%</td>\n",
       "      <td>25%</td>\n",
       "      <td>60%</td>\n",
       "      <td>70.0</td>\n",
       "      <td>265.0</td>\n",
       "      <td>86.0</td>\n",
       "      <td>134.0</td>\n",
       "      <td>204.0</td>\n",
       "    </tr>\n",
       "    <tr>\n",
       "      <th>1</th>\n",
       "      <td>44%</td>\n",
       "      <td>48%</td>\n",
       "      <td>46%</td>\n",
       "      <td>70%</td>\n",
       "      <td>30%</td>\n",
       "      <td>63%</td>\n",
       "      <td>88.0</td>\n",
       "      <td>260.0</td>\n",
       "      <td>110.0</td>\n",
       "      <td>97.0</td>\n",
       "      <td>185.0</td>\n",
       "    </tr>\n",
       "    <tr>\n",
       "      <th>macro</th>\n",
       "      <td>42%</td>\n",
       "      <td>42%</td>\n",
       "      <td>41%</td>\n",
       "      <td>71%</td>\n",
       "      <td>29%</td>\n",
       "      <td>61%</td>\n",
       "      <td>230.0</td>\n",
       "      <td>785.0</td>\n",
       "      <td>325.0</td>\n",
       "      <td>325.0</td>\n",
       "      <td>555.0</td>\n",
       "    </tr>\n",
       "    <tr>\n",
       "      <th>Wt_Avg</th>\n",
       "      <td>42%</td>\n",
       "      <td>41%</td>\n",
       "      <td>41%</td>\n",
       "      <td>71%</td>\n",
       "      <td>29%</td>\n",
       "      <td>61%</td>\n",
       "      <td>230.0</td>\n",
       "      <td>785.0</td>\n",
       "      <td>325.0</td>\n",
       "      <td>325.0</td>\n",
       "      <td>555.0</td>\n",
       "    </tr>\n",
       "  </tbody>\n",
       "</table>\n",
       "</div>"
      ],
      "text/plain": [
       "       precision recall fscore specificity  fpr accuracy     tp     tn     fp  \\\n",
       "-1           36%    43%    39%         67%  33%      60%   72.0  260.0  129.0   \n",
       "0            45%    34%    39%         75%  25%      60%   70.0  265.0   86.0   \n",
       "1            44%    48%    46%         70%  30%      63%   88.0  260.0  110.0   \n",
       "macro        42%    42%    41%         71%  29%      61%  230.0  785.0  325.0   \n",
       "Wt_Avg       42%    41%    41%         71%  29%      61%  230.0  785.0  325.0   \n",
       "\n",
       "           fn  support  \n",
       "-1       94.0    166.0  \n",
       "0       134.0    204.0  \n",
       "1        97.0    185.0  \n",
       "macro   325.0    555.0  \n",
       "Wt_Avg  325.0    555.0  "
      ]
     },
     "execution_count": 66,
     "metadata": {},
     "output_type": "execute_result"
    }
   ],
   "source": [
    "features_df.loc[('RandomForestClassifier','Clean1')]['ClassDf'][0]"
   ]
  },
  {
   "cell_type": "code",
   "execution_count": 67,
   "metadata": {},
   "outputs": [],
   "source": [
    "feats_to_keep_list = ['LumberContractSpreads FirstSecond','lumbermovingaverages MA200']"
   ]
  },
  {
   "cell_type": "code",
   "execution_count": 68,
   "metadata": {},
   "outputs": [
    {
     "name": "stdout",
     "output_type": "stream",
     "text": [
      "\n",
      "Removing Features for dataset: Spread_1-2_wts\n",
      "# Features before: 762\n"
     ]
    },
    {
     "ename": "TypeError",
     "evalue": "'str' object is not callable",
     "output_type": "error",
     "traceback": [
      "\u001b[1;31m---------------------------------------------------------------------------\u001b[0m",
      "\u001b[1;31mTypeError\u001b[0m                                 Traceback (most recent call last)",
      "\u001b[1;32mc:\\source\\2x4-data\\app\\feature_selection\\feature_selection_Binary.ipynb Cell 110\u001b[0m in \u001b[0;36m<module>\u001b[1;34m\u001b[0m\n\u001b[0;32m      <a href='vscode-notebook-cell:/c%3A/source/2x4-data/app/feature_selection/feature_selection_Binary.ipynb#ch0000250?line=2'>3</a>\u001b[0m model \u001b[39m=\u001b[39m models[\u001b[39m0\u001b[39m]\n\u001b[0;32m      <a href='vscode-notebook-cell:/c%3A/source/2x4-data/app/feature_selection/feature_selection_Binary.ipynb#ch0000250?line=3'>4</a>\u001b[0m feats_to_keep_list \u001b[39m=\u001b[39m [\u001b[39m'\u001b[39m\u001b[39mLumberContractSpreads FirstSecond\u001b[39m\u001b[39m'\u001b[39m,\u001b[39m'\u001b[39m\u001b[39mlumbermovingaverages MA200\u001b[39m\u001b[39m'\u001b[39m]\n\u001b[1;32m----> <a href='vscode-notebook-cell:/c%3A/source/2x4-data/app/feature_selection/feature_selection_Binary.ipynb#ch0000250?line=4'>5</a>\u001b[0m insert_model_stats(dataset,original_dataset, feats_to_keep_list, model, \u001b[39mset\u001b[39;49m\u001b[39m=\u001b[39;49m\u001b[39m'\u001b[39;49m\u001b[39mcombined\u001b[39;49m\u001b[39m'\u001b[39;49m, sampled_weights\u001b[39m=\u001b[39;49m \u001b[39mTrue\u001b[39;49;00m)\n",
      "\u001b[1;32mc:\\source\\2x4-data\\app\\feature_selection\\feature_selection_Binary.ipynb Cell 110\u001b[0m in \u001b[0;36minsert_model_stats\u001b[1;34m(dataset, original_dataset, feats_to_keep_list, model, set, sampled_weights)\u001b[0m\n\u001b[0;32m     <a href='vscode-notebook-cell:/c%3A/source/2x4-data/app/feature_selection/feature_selection_Binary.ipynb#ch0000250?line=23'>24</a>\u001b[0m keep_features(dataset,feats_to_keep_list)\n\u001b[0;32m     <a href='vscode-notebook-cell:/c%3A/source/2x4-data/app/feature_selection/feature_selection_Binary.ipynb#ch0000250?line=24'>25</a>\u001b[0m model\u001b[39m.\u001b[39mfit(X_train_dict[dataset][feats_to_keep_list], y_train\u001b[39m.\u001b[39mLabels)\n\u001b[1;32m---> <a href='vscode-notebook-cell:/c%3A/source/2x4-data/app/feature_selection/feature_selection_Binary.ipynb#ch0000250?line=25'>26</a>\u001b[0m add_to_features_df(model,dataset)\n\u001b[0;32m     <a href='vscode-notebook-cell:/c%3A/source/2x4-data/app/feature_selection/feature_selection_Binary.ipynb#ch0000250?line=26'>27</a>\u001b[0m get_shapes(dataset)\n\u001b[0;32m     <a href='vscode-notebook-cell:/c%3A/source/2x4-data/app/feature_selection/feature_selection_Binary.ipynb#ch0000250?line=27'>28</a>\u001b[0m add_metrics(model, dataset, \u001b[39mset\u001b[39m\u001b[39m=\u001b[39m\u001b[39m'\u001b[39m\u001b[39mcombined\u001b[39m\u001b[39m'\u001b[39m, sampled_weights\u001b[39m=\u001b[39msampled_weights)\n",
      "\u001b[1;32mc:\\source\\2x4-data\\app\\feature_selection\\feature_selection_Binary.ipynb Cell 110\u001b[0m in \u001b[0;36madd_to_features_df\u001b[1;34m(model, dataset)\u001b[0m\n\u001b[0;32m      <a href='vscode-notebook-cell:/c%3A/source/2x4-data/app/feature_selection/feature_selection_Binary.ipynb#ch0000250?line=2'>3</a>\u001b[0m features_df\u001b[39m.\u001b[39mloc[(model_name, dataset),\u001b[39m'\u001b[39m\u001b[39mNum_Features\u001b[39m\u001b[39m'\u001b[39m] \u001b[39m=\u001b[39m \u001b[39mlen\u001b[39m(X_train_dict[dataset]\u001b[39m.\u001b[39mcolumns) \u001b[39m# so can store list of features\u001b[39;00m\n\u001b[0;32m      <a href='vscode-notebook-cell:/c%3A/source/2x4-data/app/feature_selection/feature_selection_Binary.ipynb#ch0000250?line=3'>4</a>\u001b[0m features_df\u001b[39m.\u001b[39mloc[(model_name, dataset),\u001b[39m'\u001b[39m\u001b[39mFeatures_List\u001b[39m\u001b[39m'\u001b[39m] \u001b[39m=\u001b[39m X_train_dict[dataset]\u001b[39m.\u001b[39mcolumns\u001b[39m.\u001b[39mto_list()\n\u001b[1;32m----> <a href='vscode-notebook-cell:/c%3A/source/2x4-data/app/feature_selection/feature_selection_Binary.ipynb#ch0000250?line=5'>6</a>\u001b[0m original_list \u001b[39m=\u001b[39m \u001b[39mset\u001b[39;49m(features_df\u001b[39m.\u001b[39;49mloc[(model_name, \u001b[39m'\u001b[39;49m\u001b[39mOriginal\u001b[39;49m\u001b[39m'\u001b[39;49m),\u001b[39m'\u001b[39;49m\u001b[39mFeatures_List\u001b[39;49m\u001b[39m'\u001b[39;49m])\n\u001b[0;32m      <a href='vscode-notebook-cell:/c%3A/source/2x4-data/app/feature_selection/feature_selection_Binary.ipynb#ch0000250?line=6'>7</a>\u001b[0m dataset_list \u001b[39m=\u001b[39m \u001b[39mset\u001b[39m(features_df\u001b[39m.\u001b[39mloc[(model_name, dataset),\u001b[39m'\u001b[39m\u001b[39mFeatures_List\u001b[39m\u001b[39m'\u001b[39m])\n\u001b[0;32m      <a href='vscode-notebook-cell:/c%3A/source/2x4-data/app/feature_selection/feature_selection_Binary.ipynb#ch0000250?line=7'>8</a>\u001b[0m removed_list \u001b[39m=\u001b[39m \u001b[39mlist\u001b[39m(\u001b[39msorted\u001b[39m(original_list \u001b[39m-\u001b[39m dataset_list))\n",
      "\u001b[1;31mTypeError\u001b[0m: 'str' object is not callable"
     ]
    }
   ],
   "source": [
    "original_dataset = 'Original'\n",
    "dataset = 'Spread_1-2_wts'\n",
    "model = models[0]\n",
    "feats_to_keep_list = ['LumberContractSpreads FirstSecond','lumbermovingaverages MA200']\n",
    "insert_model_stats(dataset,original_dataset, feats_to_keep_list, model, set='combined', sampled_weights= True)\n"
   ]
  },
  {
   "cell_type": "code",
   "execution_count": null,
   "metadata": {},
   "outputs": [],
   "source": [
    "X = pd.concat([X_train_dict[dataset],X_test_dict[dataset]]).sort_index()\n",
    "y = pd.concat([y_train,y_test]).sort_index() \n",
    "\n",
    "\n",
    "original, predicted = predictions_from_custom_cross_val(model,X, y, custom_cv = btscv)\n",
    "cm = pd.DataFrame(confusion_matrix(original, predicted), index=lab, columns=lab)\n",
    "all_class_metric = metrics_from_cm(cm)"
   ]
  },
  {
   "cell_type": "code",
   "execution_count": null,
   "metadata": {},
   "outputs": [],
   "source": [
    "features_df.drop(['Model_Details','Features_List','Removed_Features','ClassDf'],axis=1)"
   ]
  },
  {
   "cell_type": "code",
   "execution_count": null,
   "metadata": {},
   "outputs": [],
   "source": [
    "cm"
   ]
  },
  {
   "cell_type": "code",
   "execution_count": null,
   "metadata": {},
   "outputs": [],
   "source": [
    "features_df.loc[('RandomForestClassifier','Spread_1-2_wts')]['ClassDf'][0]"
   ]
  },
  {
   "cell_type": "code",
   "execution_count": null,
   "metadata": {},
   "outputs": [],
   "source": [
    "features_df.loc[('RandomForestClassifier','Spread_1-2')]['ClassDf'][0]"
   ]
  },
  {
   "cell_type": "code",
   "execution_count": null,
   "metadata": {},
   "outputs": [],
   "source": [
    "features_df.loc[('RandomForestClassifier','Spread_1-2_MA200')]['ClassDf'][0]\n"
   ]
  },
  {
   "cell_type": "code",
   "execution_count": null,
   "metadata": {},
   "outputs": [],
   "source": [
    "features_df.loc[('RandomForestClassifier','Spread_1-2')]"
   ]
  },
  {
   "cell_type": "code",
   "execution_count": null,
   "metadata": {},
   "outputs": [],
   "source": [
    "features_df.loc[('RandomForestClassifier','Spread_1-2_MA200')]\n"
   ]
  },
  {
   "cell_type": "code",
   "execution_count": null,
   "metadata": {},
   "outputs": [],
   "source": [
    "X_train_dict[dataset].iloc[:, : 8]"
   ]
  },
  {
   "cell_type": "code",
   "execution_count": null,
   "metadata": {},
   "outputs": [],
   "source": []
  },
  {
   "cell_type": "code",
   "execution_count": null,
   "metadata": {},
   "outputs": [],
   "source": [
    "# 'log_loss'\n",
    "\n",
    "\n",
    "from mlxtend.feature_selection import SequentialFeatureSelector as SFS\n",
    "sfs = SFS(model, \n",
    "           k_features=6, # the more features we want, the longer it will take to run\n",
    "           forward=True, \n",
    "           floating=True, # see the docs for more details in this parameter\n",
    "           verbose=2, # this indicates how much to print out intermediate steps\n",
    "           scoring='f1_weighted', \n",
    "           cv=btscv,\n",
    "           n_jobs=-1,\n",
    "            \n",
    "         )\n",
    "\n",
    "weights = np.abs(y.Adj_Close_ret.values)\n",
    "\n",
    "sfs = sfs.fit(X, y.Labels,sample_weight=weights)"
   ]
  },
  {
   "cell_type": "code",
   "execution_count": null,
   "metadata": {},
   "outputs": [],
   "source": [
    "df = pd.DataFrame.from_dict(sfs.get_metric_dict()).T\n",
    "df.sort_values('avg_score', inplace=True, ascending=False)\n",
    "df"
   ]
  },
  {
   "cell_type": "code",
   "execution_count": null,
   "metadata": {},
   "outputs": [],
   "source": [
    "#### TEST \n",
    "dataset = 'Original'\n",
    "X = X_train_dict[dataset].sort_index()\n",
    "y = y_train.sort_index() \n",
    "\n",
    "model = RandomForestClassifier(n_estimators=1, max_depth=1, n_jobs=-1)\n",
    "  \n",
    "\n",
    "efs1 = EFS(model, \n",
    "           min_features=1,\n",
    "           max_features=1,\n",
    "           scoring='f1',\n",
    "           print_progress=True,\n",
    "           cv=btscv)\n",
    "\n",
    "efs1 = efs1.fit(X, y.Labels)\n",
    "\n"
   ]
  },
  {
   "cell_type": "code",
   "execution_count": null,
   "metadata": {},
   "outputs": [],
   "source": [
    "print('Best accuracy score: %.2f' % efs1.best_score_)\n",
    "print('Best subset (indices):', efs1.best_idx_)\n",
    "print('Best subset (corresponding names):', efs1.best_feature_names_)"
   ]
  },
  {
   "cell_type": "code",
   "execution_count": null,
   "metadata": {},
   "outputs": [],
   "source": [
    "dataset = 'Clean1'\n",
    "model = RandomForestClassifier(n_estimators=5, max_depth=2, n_jobs=-1)\n",
    "X = pd.concat([X_train_dict[dataset],X_test_dict[dataset]]).sort_index()\n",
    "y = pd.concat([y_train,y_test]).sort_index()    \n",
    "\n",
    "efs1 = EFS(model, \n",
    "           min_features=1,\n",
    "           max_features=2,\n",
    "           scoring='f1',\n",
    "           print_progress=True,\n",
    "           cv=btscv)\n",
    "\n",
    "efs1 = efs1.fit(X, y.Labels)\n",
    "\n",
    "print('Best accuracy score: %.2f' % efs1.best_score_)\n",
    "print('Best subset (indices):', efs1.best_idx_)\n",
    "print('Best subset (corresponding names):', efs1.best_feature_names_)\n",
    "\n"
   ]
  },
  {
   "cell_type": "code",
   "execution_count": null,
   "metadata": {},
   "outputs": [],
   "source": [
    "efs1.subsets_"
   ]
  },
  {
   "cell_type": "code",
   "execution_count": null,
   "metadata": {},
   "outputs": [],
   "source": [
    "df = pd.DataFrame.from_dict(efs1.get_metric_dict()).T\n",
    "df.sort_values('avg_score', inplace=True, ascending=False)\n",
    "df"
   ]
  },
  {
   "cell_type": "code",
   "execution_count": null,
   "metadata": {},
   "outputs": [],
   "source": []
  },
  {
   "cell_type": "code",
   "execution_count": null,
   "metadata": {},
   "outputs": [],
   "source": []
  },
  {
   "cell_type": "code",
   "execution_count": null,
   "metadata": {},
   "outputs": [],
   "source": []
  },
  {
   "cell_type": "code",
   "execution_count": null,
   "metadata": {},
   "outputs": [],
   "source": []
  },
  {
   "cell_type": "code",
   "execution_count": null,
   "metadata": {},
   "outputs": [],
   "source": [
    "STOP HERE "
   ]
  },
  {
   "cell_type": "code",
   "execution_count": null,
   "metadata": {},
   "outputs": [],
   "source": [
    "model = models[0]\n",
    "model.fit(X_train_dict['Clean1'], y_train.Labels)\n",
    "plot_confusion_matrix(model, X_test_dict['Clean1'], y_test.Labels)"
   ]
  },
  {
   "cell_type": "code",
   "execution_count": null,
   "metadata": {},
   "outputs": [],
   "source": [
    "# Fitting the model here since it takes > 1 min\n",
    "xgb = XGBClassifier(n_estimators=200, max_depth=3, n_jobs=-1,eval_metric='mlogloss')\n",
    "xgb.fit(X_train_dict['Clean1'], y_train.Labels)"
   ]
  },
  {
   "cell_type": "code",
   "execution_count": null,
   "metadata": {},
   "outputs": [],
   "source": [
    "\n",
    "y_pred = xgb.predict(X_test_dict['Clean1'])\n",
    "df1 = pd.DataFrame(np.transpose(precision_recall_fscore_support(y_test.Labels, y_pred, average=None)),columns=['precision', 'recall', 'fscore', 'support'], index=lab)\n",
    "df1\n",
    "\n",
    "\n"
   ]
  },
  {
   "cell_type": "code",
   "execution_count": null,
   "metadata": {},
   "outputs": [],
   "source": [
    "\n",
    "from sklearn.model_selection import cross_val_predict\n",
    "\n",
    "model = models[0]\n",
    "model.fit(X_train_dict['Clean1'], y_train.Labels)\n",
    "y_pred = model.predict(X_test_dict['Clean1'])\n",
    "\n",
    "# y_pred = cross_val_score(model, X_train_dict['Clean1'], y_train.Labels, cv=5)\n",
    "# y_pred\n"
   ]
  },
  {
   "cell_type": "code",
   "execution_count": null,
   "metadata": {},
   "outputs": [],
   "source": [
    "y_pred.shape"
   ]
  },
  {
   "cell_type": "code",
   "execution_count": null,
   "metadata": {},
   "outputs": [],
   "source": [
    "y_train.Labels.shape"
   ]
  },
  {
   "cell_type": "code",
   "execution_count": null,
   "metadata": {},
   "outputs": [],
   "source": [
    "# Fitting the model here since takes ~ 1.30 minute\n",
    "# model = models[1]\n",
    "# model.fit(X_train_dict['Clean1'], y_train.Labels)\n",
    "# y_pred = model.predict(X_test_dict['Clean1'])"
   ]
  },
  {
   "cell_type": "code",
   "execution_count": null,
   "metadata": {},
   "outputs": [],
   "source": [
    "\n",
    "\n",
    "model = models[0]\n",
    "\n",
    "X = X_test_dict['Clean1'].sort_index()\n",
    "y = y_test.sort_index()  \n",
    "\n",
    "original, predicted = predictions_from_custom_cross_val(model,X, y, custom_cv = btscv)\n",
    "\n",
    "cm = pd.DataFrame(confusion_matrix(original, predicted), index=lab, columns=lab)\n",
    "cm\n"
   ]
  },
  {
   "cell_type": "code",
   "execution_count": null,
   "metadata": {},
   "outputs": [],
   "source": [
    "280/1386"
   ]
  },
  {
   "cell_type": "code",
   "execution_count": null,
   "metadata": {},
   "outputs": [],
   "source": [
    "len(original), y_test.Labels.shape, len(predicted)"
   ]
  },
  {
   "cell_type": "code",
   "execution_count": null,
   "metadata": {},
   "outputs": [],
   "source": [
    "all_class_metric = metrics_from_cm(cm)\n",
    "all_class_metric\n"
   ]
  },
  {
   "cell_type": "code",
   "execution_count": null,
   "metadata": {},
   "outputs": [],
   "source": [
    "print(classification_report(original, predicted)) "
   ]
  },
  {
   "cell_type": "code",
   "execution_count": null,
   "metadata": {},
   "outputs": [],
   "source": [
    "# features_df.drop(['Model_Details','Features_List','Removed_Features'],axis=1)"
   ]
  },
  {
   "cell_type": "code",
   "execution_count": null,
   "metadata": {},
   "outputs": [],
   "source": [
    "precision_recall_fscore_support(original, predicted, average='weighted')"
   ]
  },
  {
   "cell_type": "code",
   "execution_count": null,
   "metadata": {},
   "outputs": [],
   "source": [
    "print(classification_report(y_test.Labels, y_pred))"
   ]
  },
  {
   "cell_type": "code",
   "execution_count": null,
   "metadata": {},
   "outputs": [],
   "source": [
    "# Insert the dataframe in a cell in features_df\n",
    "# features_df['to_delete'] = None\n",
    "# features_df['to_delete'].astype(object)\n",
    "# features_df.loc[('RandomForestClassifier','Original'),'to_delete'] =  [all_class_metric]"
   ]
  },
  {
   "cell_type": "code",
   "execution_count": null,
   "metadata": {},
   "outputs": [],
   "source": [
    "# features_df.loc[('RandomForestClassifier','Original'),'to_delete'][0]"
   ]
  },
  {
   "cell_type": "markdown",
   "metadata": {},
   "source": [
    "### Cross Entropy - Negative Log Liklehood or Log Loss - Custom Function Implementation"
   ]
  },
  {
   "cell_type": "code",
   "execution_count": null,
   "metadata": {},
   "outputs": [],
   "source": [
    "# Lower The Better\n",
    "\n",
    "model = models[0]\n",
    "model.fit(X_train_dict['Original'], y_train.Labels)\n",
    "y_prob = model.predict_proba(X_test_dict['Original'])\n",
    "\n",
    "# This line required to convert for custom implementation from normal labels to indexed labels\n",
    "y_actuals = y_test.Labels.replace(to_replace=sorted(y_test.Labels.unique()), value=list(range(len(y_test.Labels.unique())))).values\n",
    "\n",
    "# Custom function to compute negative log loss\n",
    "nll = np.mean([-np.log(y_prob[i,j]) for i,j in zip(range(y_prob.shape[0]),y_actuals)])\n",
    "print(nll) "
   ]
  },
  {
   "cell_type": "code",
   "execution_count": null,
   "metadata": {},
   "outputs": [],
   "source": [
    "features_df.drop(['Model_Details','Features_List','Removed_Features','ClassDf'],axis=1).loc[('RandomForestClassifier',)]"
   ]
  },
  {
   "cell_type": "code",
   "execution_count": null,
   "metadata": {},
   "outputs": [],
   "source": []
  },
  {
   "cell_type": "code",
   "execution_count": null,
   "metadata": {},
   "outputs": [],
   "source": [
    "print(log_loss(y_actuals, y_prob))\n",
    "print(log_loss(y_test.Labels, y_prob))"
   ]
  },
  {
   "cell_type": "code",
   "execution_count": null,
   "metadata": {},
   "outputs": [],
   "source": [
    "from sklearn.metrics import log_loss\n",
    "\n",
    "model = models[0]\n",
    "dataset = 'Clean'\n",
    "X = pd.concat([X_train_dict[dataset],X_test_dict[dataset]]).sort_index()\n",
    "y = pd.concat([y_train,y_test]).sort_index() \n",
    "\n",
    "LogLoss = make_scorer(log_loss, greater_is_better=False, needs_proba=True)\n",
    "scores = cross_val_score(model, X, y.Labels, cv=btscv, scoring=LogLoss)\n",
    "scores.mean()"
   ]
  },
  {
   "cell_type": "code",
   "execution_count": null,
   "metadata": {},
   "outputs": [],
   "source": [
    "LogLoss._select_proba_binary(predicted,y_test.Labels.values) "
   ]
  },
  {
   "cell_type": "code",
   "execution_count": null,
   "metadata": {},
   "outputs": [],
   "source": [
    "\n",
    "probabilities_from_custom_cross_val(model,X, y, custom_cv = btscv)"
   ]
  },
  {
   "cell_type": "code",
   "execution_count": null,
   "metadata": {},
   "outputs": [],
   "source": [
    "from sklearn.model_selection import cross_val_predict\n",
    "\n",
    "# proba = cross_val_predict(model, X, y, cv=btscv, method='predict_proba')"
   ]
  },
  {
   "cell_type": "code",
   "execution_count": null,
   "metadata": {},
   "outputs": [],
   "source": [
    "STOP HERE"
   ]
  },
  {
   "cell_type": "markdown",
   "metadata": {},
   "source": [
    "****TO USE***"
   ]
  },
  {
   "cell_type": "code",
   "execution_count": null,
   "metadata": {},
   "outputs": [],
   "source": [
    "fpr_, fnr_, thresholds_ = det_curve(y_test.Close_Up_Down, y_pred)\n",
    "model.fit(X_train_dict['Original'], y_train.Close_Up_Down)\n",
    "y_prob = model.predict_proba(X_test_dict['Original'])\n",
    "y_pred = model.predict(X_test_dict['Original'])\n",
    "\n",
    "y_pred = (clf.predict_proba(X_test_dict['Original'])[:,1] >= p).astype(bool) # set threshold as 0.3\n",
    "fpr, tpr, threshold = roc_curve(y_test.Close_Up_Down, y_pred,)\n",
    "\n",
    "\n",
    "model = RandomForestClassifier(n_estimators=100, max_depth=2, n_jobs=-1)\n",
    "model.fit(X_train_dict['Clean'], y_train.Close_Up_Down)\n",
    "y_pred = model.predict(X_test_dict['Clean'])\n",
    "confusion_matrix(y_test.Close_Up_Down, y_pred)\n",
    "plot_confusion_matrix(clf, X_test_dict['Clean'], y_test.Close_Up_Down,);\n",
    "clsf_report = classification_report(y_test.Close_Up_Down, y_pred, output_dict=True)\n",
    "pd.DataFrame(clsf_report)"
   ]
  },
  {
   "cell_type": "code",
   "execution_count": null,
   "metadata": {},
   "outputs": [],
   "source": []
  },
  {
   "cell_type": "code",
   "execution_count": null,
   "metadata": {},
   "outputs": [],
   "source": []
  },
  {
   "cell_type": "code",
   "execution_count": null,
   "metadata": {},
   "outputs": [],
   "source": []
  },
  {
   "cell_type": "markdown",
   "metadata": {},
   "source": [
    "### Univariate Selection Methods - Mostly just examine linear relationships"
   ]
  },
  {
   "cell_type": "markdown",
   "metadata": {},
   "source": [
    "#### Mutual Information"
   ]
  },
  {
   "cell_type": "code",
   "execution_count": null,
   "metadata": {},
   "outputs": [],
   "source": [
    "mi = mutual_info_classif(X_train, y_train)\n",
    "mi = pd.Series(mi)\n",
    "mi.index = X_train.columns\n",
    "mi.sort_values(ascending=False, inplace = True)\n",
    "\n",
    "# Plot\n",
    "# mi.plot.bar(figsize=(20, 6))\n",
    "# plt.ylabel('Mutual Information')\n",
    "\n",
    "# select features\n",
    "sel_ = SelectKBest(mutual_info_classif, k=15).fit(X_train, y_train)\n",
    "\n",
    "# display features\n",
    "X_train.columns[sel_.get_support()]"
   ]
  },
  {
   "cell_type": "markdown",
   "metadata": {},
   "source": [
    "#### Chi-square Statistic - only suited for classification!                                         \n",
    "https://www.udemy.com/course/feature-selection-for-machine-learning/learn/lecture/22495182#questions\n",
    "https://github.com/solegalli/feature-selection-for-machine-learning/blob/main/05-Filter-Statistical-Tests/05.2-Fisher-score.ipynb"
   ]
  },
  {
   "cell_type": "code",
   "execution_count": null,
   "metadata": {},
   "outputs": [],
   "source": [
    "# calculate the chi2 p_value between each of the variables and the target\n",
    "# chi2 returns 2 arrays, one contains the F-Scores which are then evaluated against the chi2 distribution to obtain the pvalue. The pvalues are in the second array\n",
    "\n",
    "# Input X must be non-negative\n",
    "X_train_non_negative = X_train[X_train.columns[((X_train < 0).sum(axis=0) == 0).values]]\n",
    "f_score = chi2(X_train_non_negative.fillna(0), y_train)\n",
    "pvalues = pd.Series(f_score[1])\n",
    "pvalues.index = X_train_non_negative.columns\n",
    "pvalues.sort_values(ascending=True, inplace = True)\n",
    "extremely_low_p_values = len(pvalues[pvalues < 1e-100])\n",
    "sel_ = SelectKBest(chi2, k= extremely_low_p_values).fit(X_train_non_negative, y_train)\n",
    "X_train_non_negative.columns[sel_.get_support()] # display features\n",
    "\n",
    "# X_train = sel_.transform(X_train)\n",
    "# X_test = sel_.transform(X_test)"
   ]
  },
  {
   "cell_type": "markdown",
   "metadata": {},
   "source": [
    "#### Anova - tests 2 samples have same mean\n",
    "\n",
    "Assumptions:\n",
    "Sample are independant & normally distributed, homegeneity of variance"
   ]
  },
  {
   "cell_type": "code",
   "execution_count": null,
   "metadata": {},
   "outputs": [],
   "source": [
    "# calculate the univariate statistical measure between each of the variables and the target\n",
    "# similarly to chi2, the output is one array with f-scores and one array with the pvalues\n",
    "\n",
    "univariate = f_classif(X_train, y_train)\n",
    "univariate = pd.Series(univariate[1])\n",
    "univariate.index = X_train.columns\n",
    "univariate.sort_values(ascending=True, inplace = True) # The smaller the p_value the more predictive the feature is\n",
    "\n",
    "pvalue_above_5_percent = len(univariate[univariate < 0.05])\n",
    "sel_ = SelectKBest(f_classif, k=pvalue_above_5_percent).fit(X_train, y_train)\n",
    "features_to_keep = sel_.get_feature_names_out()\n",
    "features_to_keep\n",
    "\n",
    "# select features\n",
    "# X_train_anova = sel_.transform(X_train)\n",
    "# X_test_anova = sel_.transform(X_test)\n",
    "\n",
    "# # numpy array to dataframe\n",
    "# X_train_anova = pd.DataFrame(X_train_anova)\n",
    "# X_train_anova.columns = features_to_keep\n",
    "\n",
    "# X_test_anova = pd.DataFrame(X_test_anova)\n",
    "# X_test_anova.columns = features_to_keep\n",
    "\n",
    "# X_train_anova.shape, X_test_anova.shape\n",
    "\n"
   ]
  },
  {
   "cell_type": "markdown",
   "metadata": {},
   "source": [
    "### Wrapper Methods"
   ]
  },
  {
   "cell_type": "code",
   "execution_count": null,
   "metadata": {},
   "outputs": [],
   "source": []
  },
  {
   "cell_type": "markdown",
   "metadata": {},
   "source": [
    "### Embedded Methods | Tree Importance"
   ]
  },
  {
   "cell_type": "code",
   "execution_count": null,
   "metadata": {},
   "outputs": [],
   "source": [
    "# Selects features whose importance is greater than the threshold. - Thershold is the mean importance of all features\n",
    "sel_ = SelectFromModel(RandomForestClassifier(n_estimators=300,  max_depth=3, n_jobs=-1)).fit(X_train, y_train)\n",
    "selected_features = X_train.columns[sel_.get_support()]\n",
    "print(len(selected_features))\n",
    "TopNFeatures = pd.DataFrame(index = sel_.estimator_.feature_names_in_.tolist(),data = sel_.estimator_.feature_importances_, columns = ['Imp']).sort_values(by='Imp',ascending=False).head(20).index.tolist()\n",
    "pd.Series(sel_.estimator_.feature_importances_.ravel()).hist(bins=20);"
   ]
  },
  {
   "cell_type": "code",
   "execution_count": null,
   "metadata": {},
   "outputs": [],
   "source": [
    "TopNFeatures"
   ]
  },
  {
   "cell_type": "markdown",
   "metadata": {},
   "source": [
    "### Embedded Methods | Tree Importance Recursively"
   ]
  },
  {
   "cell_type": "code",
   "execution_count": null,
   "metadata": {},
   "outputs": [],
   "source": [
    "# Takes 1:44 mins to run\n",
    "sel_ = RFE(RandomForestClassifier(n_estimators=100,  max_depth=3, n_jobs=-1), n_features_to_select=30).fit(X_train, y_train)\n",
    "selected_features = X_train.columns[sel_.get_support()]\n",
    "print(len(selected_features))\n",
    "selected_features\n"
   ]
  },
  {
   "cell_type": "code",
   "execution_count": null,
   "metadata": {},
   "outputs": [],
   "source": [
    "rf = RandomForestClassifier(n_estimators=200, max_depth=3, n_jobs=-1)\n",
    "rf.fit(X_train[selected_features].fillna(0), y_train)\n",
    "y_pred = rf.predict(X_test[selected_features].fillna(0))\n",
    "y_valid_pred = rf.predict(X_val[selected_features].fillna(0))\n",
    "print(\"Test Accuracy:\", accuracy_score(y_test.fillna(0), y_pred))\n",
    "print(\"Validation Accuracy:\", accuracy_score(y_val.fillna(0), y_valid_pred))\n"
   ]
  },
  {
   "cell_type": "code",
   "execution_count": null,
   "metadata": {},
   "outputs": [],
   "source": [
    "print('Train set')\n",
    "pred = rf.predict_proba(X_train[selected_features])\n",
    "print('Random Forests roc-auc: {}'.format(roc_auc_score(y_train, pred[:, 1])))\n",
    "\n",
    "print('Test set')\n",
    "pred = rf.predict_proba(X_test[selected_features])\n",
    "print('Random Forests roc-auc: {}'.format(roc_auc_score(y_test, pred[:, 1])))\n",
    "\n",
    "print('Validation set')\n",
    "pred = rf.predict_proba(X_val[selected_features])\n",
    "print('Random Forests roc-auc: {}'.format(roc_auc_score(y_val, pred[:, 1])))"
   ]
  },
  {
   "cell_type": "markdown",
   "metadata": {},
   "source": [
    "### Feature Selection by Random Shuffling"
   ]
  },
  {
   "cell_type": "code",
   "execution_count": null,
   "metadata": {},
   "outputs": [],
   "source": [
    "# Takes 1 min to run - You can use this procedure with any machine learning algorithm\n",
    "\n",
    "rf = RandomForestClassifier(n_estimators=50, max_depth=2, n_jobs=-1)\n",
    "\n",
    "sel = SelectByShuffling(\n",
    "    variables=None, # automatically examine all numerical variables\n",
    "    estimator=rf, # the ML model\n",
    "    scoring='roc_auc', # the metric to evaluate\n",
    "    threshold=0,# the maximum performance drop allowed to select the feature\n",
    "    cv=btscv, # cross validation\n",
    ")\n",
    "\n",
    "sel.fit(X_train, y_train)\n"
   ]
  },
  {
   "cell_type": "code",
   "execution_count": null,
   "metadata": {},
   "outputs": [],
   "source": [
    "sel.initial_model_performance_ # performance of model trained with all features"
   ]
  },
  {
   "cell_type": "code",
   "execution_count": null,
   "metadata": {},
   "outputs": [],
   "source": [
    "# pd.Series(sel.performance_drifts_).sort_values(ascending=False).plot.bar(figsize=(16,6));"
   ]
  },
  {
   "cell_type": "code",
   "execution_count": null,
   "metadata": {},
   "outputs": [],
   "source": [
    "# features that will be removed\n",
    "\n",
    "print(len(sel.features_to_drop_))\n",
    "# remove features\n",
    "\n",
    "X_train = sel.transform(X_train)\n",
    "X_test = sel.transform(X_test)\n",
    "X_val = sel.transform(X_val)\n",
    "\n",
    "X_train.shape, X_test.shape"
   ]
  },
  {
   "cell_type": "code",
   "execution_count": null,
   "metadata": {},
   "outputs": [],
   "source": [
    "rf.fit(X_train, y_train)\n",
    "print( 'train auc score: ',roc_auc_score(y_train, (rf.predict_proba(X_train))[:,1]))\n",
    "print('test auc score: ', roc_auc_score(y_test, (rf.predict_proba(X_test))[:, 1]))\n",
    "print('Validation auc score: ', roc_auc_score(y_val, (rf.predict_proba(X_val))[:, 1]))"
   ]
  },
  {
   "cell_type": "code",
   "execution_count": null,
   "metadata": {},
   "outputs": [],
   "source": [
    "X_train.columns"
   ]
  },
  {
   "cell_type": "markdown",
   "metadata": {},
   "source": [
    "### Recursive Feature Elimination"
   ]
  },
  {
   "cell_type": "code",
   "execution_count": null,
   "metadata": {},
   "outputs": [],
   "source": [
    "model = GradientBoostingClassifier(\n",
    "    n_estimators=10,\n",
    "    max_depth=2,\n",
    "    random_state=10,\n",
    ")"
   ]
  },
  {
   "cell_type": "code",
   "execution_count": null,
   "metadata": {},
   "outputs": [],
   "source": [
    "# NOT WORKING\n",
    "\n",
    "sel = RecursiveFeatureElimination(\n",
    "    variables=None, # automatically evaluate all numerical variables\n",
    "    estimator = model, # the ML model\n",
    "    scoring = 'roc_auc', # the metric we want to evalute\n",
    "    threshold = 0.0005, # the maximum performance drop allowed to remove a feature\n",
    "    cv=btscv, # cross-validation\n",
    ")\n",
    "\n",
    "# this may take quite a while, because\n",
    "# we are building a lot of models with cross-validation\n",
    "# sel.fit(X_train, y_train)"
   ]
  },
  {
   "cell_type": "code",
   "execution_count": null,
   "metadata": {},
   "outputs": [],
   "source": [
    "sel.initial_model_performance_"
   ]
  },
  {
   "cell_type": "code",
   "execution_count": null,
   "metadata": {},
   "outputs": [],
   "source": [
    "# performance of model trained using all features\n",
    "sel.initial_model_performance_"
   ]
  },
  {
   "cell_type": "code",
   "execution_count": null,
   "metadata": {},
   "outputs": [],
   "source": [
    "# importance of all features based of initial model\n",
    "sel.feature_importances_.plot.bar(figsize=(20,6))\n",
    "plt.xlabel('Features')\n",
    "plt.ylabel('Importance')\n",
    "plt.show()"
   ]
  },
  {
   "cell_type": "code",
   "execution_count": null,
   "metadata": {},
   "outputs": [],
   "source": [
    "pd.Series(sel.performance_drifts_).plot.bar(figsize=(20,6))\n",
    "plt.xlabel('Features')\n",
    "plt.ylabel('Performance change when feature was added')\n",
    "plt.show()"
   ]
  },
  {
   "cell_type": "code",
   "execution_count": null,
   "metadata": {},
   "outputs": [],
   "source": [
    "# Number of features that will be removed\n",
    "\n",
    "len(sel.features_to_drop_)"
   ]
  },
  {
   "cell_type": "code",
   "execution_count": null,
   "metadata": {},
   "outputs": [],
   "source": []
  },
  {
   "cell_type": "code",
   "execution_count": null,
   "metadata": {},
   "outputs": [],
   "source": []
  },
  {
   "cell_type": "markdown",
   "metadata": {},
   "source": [
    "### Random Forest"
   ]
  },
  {
   "cell_type": "code",
   "execution_count": null,
   "metadata": {},
   "outputs": [],
   "source": [
    "features = list(X_train.columns)\n",
    "rf = RandomForestClassifier(n_estimators=200, max_depth=3)\n",
    "rf.fit(X_train[features].fillna(0), y_train)\n",
    "\n",
    "importance = pd.concat([pd.Series(features),pd.Series(rf.feature_importances_)], axis=1)\n",
    "importance.columns = ['feature', 'importance']\n",
    "importance.sort_values(by=['importance'], ascending=False, inplace=True)\n",
    "y_pred = rf.predict(X_test[features].fillna(0))\n",
    "y_valid_pred = rf.predict(X_val[features].fillna(0))\n",
    "\n",
    "print(\"Test Accuracy:\", accuracy_score(y_test.fillna(0), y_pred))\n",
    "print(\"Validation Accuracy:\", accuracy_score(y_val .fillna(0), y_valid_pred))"
   ]
  },
  {
   "cell_type": "markdown",
   "metadata": {},
   "source": [
    "### Compare the performance in machine learning algorithms"
   ]
  },
  {
   "cell_type": "code",
   "execution_count": null,
   "metadata": {},
   "outputs": [],
   "source": [
    "X_train_basic_filter.shape, X_test_basic_filter.shape, X_train.shape, X_test.shape"
   ]
  },
  {
   "cell_type": "code",
   "execution_count": null,
   "metadata": {},
   "outputs": [],
   "source": [
    "\n",
    "def run_randomForests(X_train, X_test, y_train, y_test):\n",
    "\n",
    "    rf = RandomForestClassifier(n_estimators=300,  max_depth=3, n_jobs=-1)\n",
    "    rf.fit(X_train, y_train)\n",
    "\n",
    "    print('Train set')\n",
    "    pred = rf.predict_proba(X_train)\n",
    "    print('Random Forests roc-auc: {}'.format(roc_auc_score(y_train, pred[:, 1])))\n",
    "\n",
    "    print('Test set')\n",
    "    pred = rf.predict_proba(X_test)\n",
    "    print('Random Forests roc-auc: {}'.format(roc_auc_score(y_test, pred[:, 1])))"
   ]
  },
  {
   "cell_type": "code",
   "execution_count": null,
   "metadata": {},
   "outputs": [],
   "source": [
    "# filter methods - basic\n",
    "run_randomForests(X_train_basic_filter,X_test_basic_filter,y_train, y_test)"
   ]
  },
  {
   "cell_type": "code",
   "execution_count": null,
   "metadata": {},
   "outputs": [],
   "source": [
    "# Final model\n",
    "run_randomForests(X_train, X_test, y_train, y_test)"
   ]
  },
  {
   "cell_type": "markdown",
   "metadata": {},
   "source": [
    "### Logistic Regression"
   ]
  },
  {
   "cell_type": "code",
   "execution_count": null,
   "metadata": {},
   "outputs": [],
   "source": [
    "# create a function to build logistic regression and compare performance in train and test set\n",
    "\n",
    "from sklearn.metrics import confusion_matrix\n",
    "\n",
    "def run_logistic(X_train, X_test, y_train, y_test):\n",
    "    \n",
    "    # function to train and test the performance of logistic regression\n",
    "    logit = LogisticRegression(penalty='l1', random_state=44, max_iter=1000, solver='liblinear')\n",
    "    logit.fit(X_train, y_train)\n",
    "    print('Train set')\n",
    "    pred = logit.predict_proba(X_train)\n",
    "    print('Logistic Regression roc-auc: {}'.format(roc_auc_score(y_train, pred[:,1])))\n",
    "    print('Test set')\n",
    "    pred = logit.predict_proba(X_test)\n",
    "    print('Logistic Regression roc-auc: {}'.format(roc_auc_score(y_test, pred[:,1])))\n",
    "\n",
    "scaler = StandardScaler().fit(X_train)\n",
    "\n",
    "run_logistic(scaler.transform(X_train),\n",
    "             scaler.transform(X_test),\n",
    "                  y_train, y_test)"
   ]
  },
  {
   "cell_type": "code",
   "execution_count": null,
   "metadata": {},
   "outputs": [],
   "source": []
  },
  {
   "cell_type": "code",
   "execution_count": null,
   "metadata": {},
   "outputs": [],
   "source": []
  },
  {
   "cell_type": "code",
   "execution_count": null,
   "metadata": {},
   "outputs": [],
   "source": []
  },
  {
   "cell_type": "markdown",
   "metadata": {},
   "source": [
    "### \n",
    "<div style=\"color: DarkBlue; font-size:22px;\" class=\"alert alert-block alert-warning\"> \n",
    "<b>Pipelines:</b> Final Code will look like this but for now work through issues above \n",
    "</div>"
   ]
  },
  {
   "cell_type": "code",
   "execution_count": null,
   "metadata": {},
   "outputs": [],
   "source": [
    "pipe = Pipeline([\n",
    "    ('constant', DropConstantFeatures(tol=1, variables=None, missing_values='raise')),\n",
    "    ('quasiConstant', DropConstantFeatures(tol=0.9, variables=None, missing_values='raise')),\n",
    "    ('duplicated', DropDuplicateFeatures(variables=None, missing_values='raise')),\n",
    "    ('correlation', SmartCorrelatedSelection(variables=None, method=\"spearman\",threshold=0.9,missing_values=\"raise\",selection_method=\"variance\",estimator=rf,scoring=\"roc_auc\",cv=btscv,)),])\n",
    "\n",
    "\n",
    "pipe.fit(X_train)\n",
    "\n",
    "# remove features\n",
    "X_train = pipe.transform(X_train)\n",
    "X_test = pipe.transform(X_test)\n",
    "X_val = pipe.transform(X_val)\n",
    "\n",
    "X_train.shape, X_test.shape, X_val.shape\n"
   ]
  },
  {
   "cell_type": "code",
   "execution_count": null,
   "metadata": {},
   "outputs": [],
   "source": [
    "print(len(pipe.named_steps['constant'].features_to_drop_))\n",
    "pipe.named_steps['duplicated'].features_to_drop_"
   ]
  },
  {
   "cell_type": "code",
   "execution_count": null,
   "metadata": {},
   "outputs": [],
   "source": []
  },
  {
   "cell_type": "code",
   "execution_count": null,
   "metadata": {},
   "outputs": [],
   "source": []
  },
  {
   "cell_type": "markdown",
   "metadata": {},
   "source": [
    "# NOT USING - for reference"
   ]
  },
  {
   "cell_type": "markdown",
   "metadata": {},
   "source": [
    "### Correlated Features - Brute Force approach"
   ]
  },
  {
   "cell_type": "code",
   "execution_count": null,
   "metadata": {},
   "outputs": [],
   "source": [
    "def correlation(dataset, threshold):\n",
    "    \n",
    "    col_corr = set()\n",
    "    corr_matrix = dataset.corr()\n",
    "    \n",
    "    for i in range(len(corr_matrix.columns)):\n",
    "        \n",
    "        for j in range(i):\n",
    "            \n",
    "            if abs(corr_matrix.iloc[i, j]) > threshold: # we are interested in absolute coeff value\n",
    "             \n",
    "                print(abs(corr_matrix.iloc[i, j]),\":\", corr_matrix.columns[i], \"<< - >>\", corr_matrix.columns[j])\n",
    "                colname = corr_matrix.columns[j]\n",
    "                \n",
    "                # and add it to our correlated set\n",
    "                col_corr.add(colname)\n",
    "                \n",
    "    return col_corr\n",
    "\n",
    "# corr_features = correlation(X_train, 0.9)\n",
    "# len(set(corr_features))\n"
   ]
  },
  {
   "cell_type": "code",
   "execution_count": null,
   "metadata": {},
   "outputs": [],
   "source": [
    "# corr_features = correlation(X_train, 0.9)"
   ]
  },
  {
   "cell_type": "markdown",
   "metadata": {},
   "source": [
    "### Correlated Features - Second Approach"
   ]
  },
  {
   "cell_type": "code",
   "execution_count": null,
   "metadata": {},
   "outputs": [],
   "source": [
    "corrmat = X_train.corr()\n",
    "corrmat = corrmat.abs().unstack() # absolute value of corr coef\n",
    "corrmat = corrmat.sort_values(ascending=False)\n",
    "corrmat = corrmat[corrmat >= 0.9]\n",
    "corrmat = corrmat[corrmat < 1] # Not Interested in the correlation with 1 since will be with the same variable\n",
    "corrmat = pd.DataFrame(corrmat).reset_index()\n",
    "corrmat.columns = ['feature1', 'feature2', 'corr']\n",
    "corrmat.head()"
   ]
  },
  {
   "cell_type": "code",
   "execution_count": null,
   "metadata": {},
   "outputs": [],
   "source": [
    "grouped_feature_ls = []\n",
    "correlated_groups = []\n",
    "\n",
    "for feature in corrmat.feature1.unique():\n",
    "    \n",
    "    if feature not in grouped_feature_ls:\n",
    "\n",
    "        # find all features correlated to a single feature\n",
    "        correlated_block = corrmat[corrmat.feature1 == feature]\n",
    "        grouped_feature_ls = grouped_feature_ls + list(\n",
    "            correlated_block.feature2.unique()) + [feature]\n",
    "\n",
    "        # append the block of features to the list\n",
    "        correlated_groups.append(correlated_block)\n",
    "\n",
    "print('found {} correlated groups'.format(len(correlated_groups)))\n",
    "print('out of {} total features'.format(X_train.shape[1]))\n",
    "\n"
   ]
  },
  {
   "cell_type": "code",
   "execution_count": null,
   "metadata": {},
   "outputs": [],
   "source": [
    "# for group in correlated_groups:\n",
    "#     print(group)\n",
    "#     print()"
   ]
  },
  {
   "cell_type": "code",
   "execution_count": null,
   "metadata": {},
   "outputs": [],
   "source": [
    "#Choose Group Index\n",
    "group_index = 1\n",
    "\n",
    "group = correlated_groups[group_index]\n",
    "var = group.feature1.unique()[0]\n",
    "\n",
    "# add all features of the group to a list\n",
    "features = list(group['feature2'].unique())+[var]\n",
    "\n",
    "rf = RandomForestClassifier(n_estimators=200, random_state=39, max_depth=4)\n",
    "rf.fit(X_train[features].fillna(0), y_train)\n",
    "\n",
    "importance = pd.concat([pd.Series(features),pd.Series(rf.feature_importances_)], axis=1)\n",
    "importance.columns = ['feature', 'importance']\n",
    "\n",
    "print(var)\n",
    "importance.sort_values(by='importance', ascending=False)\n"
   ]
  },
  {
   "cell_type": "code",
   "execution_count": null,
   "metadata": {},
   "outputs": [],
   "source": [
    "# for feature in group['feature2']:\n",
    "#     plt.scatter(X_train[var], X_train[feature])\n",
    "#     plt.xlabel(feature)\n",
    "#     plt.ylabel(var)\n",
    "#     plt.show()"
   ]
  },
  {
   "cell_type": "markdown",
   "metadata": {},
   "source": [
    "### Just an example to show one group of how smart correlation works"
   ]
  },
  {
   "cell_type": "code",
   "execution_count": null,
   "metadata": {},
   "outputs": [],
   "source": [
    "# import warnings\n",
    "# warnings.filterwarnings(\"ignore\")\n",
    "\n",
    "group = sel.correlated_feature_sets_[0]\n",
    "\n",
    "# build random forest with cross validation for each feature\n",
    "for f in group:\n",
    "    \n",
    "    model = cross_validate(\n",
    "        rf,\n",
    "        X_train[f].to_frame(),\n",
    "        y_train,\n",
    "        cv=btscv,\n",
    "        return_estimator=False,\n",
    "        scoring='accuracy',\n",
    "    )\n",
    "\n",
    "#  scoring='roc_auc' does not support categorical data.\n",
    "\n",
    "    print(f, model[\"test_score\"].mean())"
   ]
  },
  {
   "cell_type": "markdown",
   "metadata": {},
   "source": [
    "****TO USE***"
   ]
  },
  {
   "cell_type": "code",
   "execution_count": null,
   "metadata": {},
   "outputs": [],
   "source": [
    "fpr_, fnr_, thresholds_ = det_curve(y_test.Close_Up_Down, y_pred)\n",
    "model.fit(X_train_dict['Original'], y_train.Close_Up_Down)\n",
    "y_prob = model.predict_proba(X_test_dict['Original'])\n",
    "y_pred = model.predict(X_test_dict['Original'])\n",
    "\n",
    "y_pred = (clf.predict_proba(X_test_dict['Original'])[:,1] >= p).astype(bool) # set threshold as 0.3\n",
    "fpr, tpr, threshold = roc_curve(y_test.Close_Up_Down, y_pred,)\n",
    "\n",
    "\n",
    "model = RandomForestClassifier(n_estimators=100, max_depth=2, n_jobs=-1)\n",
    "model.fit(X_train_dict['Clean'], y_train.Close_Up_Down)\n",
    "y_pred = model.predict(X_test_dict['Clean'])\n",
    "confusion_matrix(y_test.Close_Up_Down, y_pred)\n",
    "plot_confusion_matrix(clf, X_test_dict['Clean'], y_test.Close_Up_Down,);\n",
    "clsf_report = classification_report(y_test.Close_Up_Down, y_pred, output_dict=True)\n",
    "pd.DataFrame(clsf_report)"
   ]
  },
  {
   "cell_type": "markdown",
   "metadata": {},
   "source": [
    "### Classification Model Evaluation metrics\n",
    "1. cross_val_score\n",
    "2. Area under the ROC Curve\n",
    "3. Confusion Matrix\n",
    "4. Confusion Report\n",
    "\n",
    "https://scikit-learn.org/stable/modules/model_evaluation.html#classification-metrics\n"
   ]
  },
  {
   "cell_type": "code",
   "execution_count": null,
   "metadata": {},
   "outputs": [],
   "source": [
    "model = RandomForestClassifier(n_estimators=100, max_depth=2, n_jobs=-1)\n",
    "cross_val_score(model, Variables, Response.Close_Up_Down, cv = 2, scoring = 'accuracy')"
   ]
  },
  {
   "cell_type": "code",
   "execution_count": null,
   "metadata": {},
   "outputs": [],
   "source": [
    "model = RandomForestClassifier(n_estimators=300, max_depth=10, n_jobs=-1)\n",
    "cross_val_score(model, X_train_dict['Original'], y_train.Labels, cv = 5,scoring='roc_auc_ovo_weighted')"
   ]
  },
  {
   "cell_type": "code",
   "execution_count": null,
   "metadata": {},
   "outputs": [],
   "source": [
    "model = RandomForestClassifier(n_estimators=300, max_depth=10, n_jobs=-1)\n",
    "cross_val_score(model, X_train_dict['Clean1'], y_train.Labels, cv = 5,scoring='roc_auc_ovo')"
   ]
  },
  {
   "cell_type": "code",
   "execution_count": null,
   "metadata": {},
   "outputs": [],
   "source": [
    "model.fit(X_train_dict['Original'], y_train.Close_Up_Down)\n",
    "y_prob = model.predict_proba(X_test_dict['Original'])\n",
    "y_pred = model.predict(X_test_dict['Original'])\n"
   ]
  },
  {
   "cell_type": "code",
   "execution_count": null,
   "metadata": {},
   "outputs": [],
   "source": [
    "clf = RandomForestClassifier(n_estimators=100, max_depth=2, n_jobs=-1)\n",
    "clf.fit(X_train_dict['Original'], y_train.Close_Up_Down)\n",
    "\n",
    "for p in [0.475,0.5,0.525]:\n",
    "    \n",
    "    y_pred = (clf.predict_proba(X_test_dict['Original'])[:,1] >= p).astype(bool) # set threshold as 0.3\n",
    "    fpr, tpr, threshold = roc_curve(y_test.Close_Up_Down, y_pred,)\n",
    "    print(\"tpr:\",tpr)\n",
    "    print(\"fpr:\",fpr)\n",
    "    print(\"threshold:\",threshold)\n",
    "    print(p,\": \",roc_auc_score(y_test.Close_Up_Down, y_pred))\n",
    "    print(\"\\n\")"
   ]
  },
  {
   "cell_type": "markdown",
   "metadata": {},
   "source": [
    "https://stackoverflow.com/questions/45715018/scikit-learn-how-to-plot-probabilities"
   ]
  },
  {
   "cell_type": "code",
   "execution_count": null,
   "metadata": {},
   "outputs": [],
   "source": [
    "clf = RandomForestClassifier(n_estimators=100, max_depth=2, n_jobs=-1)\n",
    "clf.fit(X_train_dict['Clean'], y_train.Close_Up_Down)\n",
    "plt.figure(figsize=(12,5))\n",
    "prediction = clf.predict_proba(X_test_dict['Clean'])[:,1]\n",
    "plt.hist(prediction[y_test.Close_Up_Down==-1], bins=100, label='Negatives')\n",
    "plt.hist(prediction[y_test.Close_Up_Down==1], bins=100, label='Positives', alpha=0.7, color='r')\n",
    "plt.xlabel('Probability of being Positive Class', fontsize=10)\n",
    "plt.ylabel('Number of records in each bucket', fontsize=10)\n",
    "# plt.xlim(0,1)\n",
    "plt.legend(fontsize=10)\n",
    "plt.tick_params(axis='both', labelsize=25, pad=5)\n",
    "plt.show()"
   ]
  },
  {
   "cell_type": "code",
   "execution_count": null,
   "metadata": {},
   "outputs": [],
   "source": [
    "def plot_roc_auc_curve(y_test, model_set, model):\n",
    "    model.fit(X_train_dict[model_set], y_train.Close_Up_Down)\n",
    "    y_prob_positive = model.predict_proba(X_test_dict[model_set])[:,1]\n",
    "    print(f\"ROC_AUC_SCORE: {roc_auc_score(y_test.Close_Up_Down, y_prob_positive):.2f}%\")\n",
    "    fpr, tpr, threshold = roc_curve(y_test.Close_Up_Down, y_prob_positive,)\n",
    "    plt.plot(fpr, tpr, color='orange', label='ROC')\n",
    "    plt.plot([0, 1], [0, 1], color='darkblue', linestyle='--', label='Random Guess')\n",
    "    plt.xlabel('False Positive Rate')\n",
    "    plt.ylabel('True Positive Rate')\n",
    "    plt.title('Receiver Operating Characteristic (ROC) Curve')\n",
    "    plt.legend()\n",
    "    plt.show()\n",
    "\n",
    "model = RandomForestClassifier(n_estimators=100, max_depth=2, n_jobs=-1)\n",
    "\n",
    "plot_roc_auc_curve(y_test, 'Original', model)\n",
    "# plot_roc_auc_curve(y_test, 'Original', y_test)"
   ]
  },
  {
   "cell_type": "code",
   "execution_count": null,
   "metadata": {},
   "outputs": [],
   "source": [
    "(y_pred == [-1 if x[0] > 0.5 else 1 for x in y_prob]).all()"
   ]
  },
  {
   "cell_type": "code",
   "execution_count": null,
   "metadata": {},
   "outputs": [],
   "source": [
    "# Took 5:20 mins\n",
    "# from sklearn.ensemble import GradientBoostingClassifier\n",
    "# model = GradientBoostingClassifier(n_estimators=100, max_depth=3)\n",
    "# cross_val_score(model, Variables, Response.Close_Up_Down, cv = 5).min()"
   ]
  },
  {
   "cell_type": "markdown",
   "metadata": {},
   "source": [
    "**Confusion Matrix**"
   ]
  },
  {
   "cell_type": "code",
   "execution_count": null,
   "metadata": {},
   "outputs": [],
   "source": [
    "model = RandomForestClassifier(n_estimators=100, max_depth=2, n_jobs=-1)\n",
    "model.fit(X_train_dict['Clean'], y_train.Close_Up_Down)\n",
    "y_pred = model.predict(X_test_dict['Clean'])\n",
    "confusion_matrix(y_test.Close_Up_Down, y_pred)"
   ]
  },
  {
   "cell_type": "code",
   "execution_count": null,
   "metadata": {},
   "outputs": [],
   "source": [
    "pd.crosstab(y_test.Close_Up_Down, y_pred, rownames=['Actual'], colnames=['Predicted'])"
   ]
  },
  {
   "cell_type": "code",
   "execution_count": null,
   "metadata": {},
   "outputs": [],
   "source": [
    "import seaborn as sns\n",
    "\n",
    "conf_mat = confusion_matrix(y_test.Close_Up_Down, y_pred)\n",
    "sns.heatmap(pd.crosstab(y_test.Close_Up_Down, y_pred, rownames=['Actual'], colnames=['Predicted']), annot=True)"
   ]
  },
  {
   "cell_type": "code",
   "execution_count": null,
   "metadata": {},
   "outputs": [],
   "source": [
    "sns.set(font_scale=1.5)\n",
    "fig, ax = plt.subplots(figsize=(8,5))\n",
    "\n",
    "ax = sns.heatmap(conf_mat, annot=True, fmt='d', cmap='Blues');\n",
    "plt.xlabel('Actual');\n",
    "plt.ylabel('Predicted');\n",
    "\n",
    "\n"
   ]
  },
  {
   "cell_type": "code",
   "execution_count": null,
   "metadata": {},
   "outputs": [],
   "source": [
    "plot_confusion_matrix(clf, X_test_dict['Clean'], y_test.Close_Up_Down,);"
   ]
  },
  {
   "cell_type": "code",
   "execution_count": null,
   "metadata": {},
   "outputs": [],
   "source": [
    "plot_confusion_matrix(clf, X_val_dict['Clean'], y_val.Close_Up_Down,);"
   ]
  },
  {
   "cell_type": "markdown",
   "metadata": {},
   "source": [
    "**Clasification Report**"
   ]
  },
  {
   "cell_type": "code",
   "execution_count": null,
   "metadata": {},
   "outputs": [],
   "source": [
    "clsf_report = classification_report(y_test.Close_Up_Down, y_pred, output_dict=True)\n",
    "pd.DataFrame(clsf_report)"
   ]
  },
  {
   "cell_type": "code",
   "execution_count": null,
   "metadata": {},
   "outputs": [],
   "source": [
    "fpr"
   ]
  },
  {
   "cell_type": "code",
   "execution_count": null,
   "metadata": {},
   "outputs": [],
   "source": [
    "print(classification_report(y_test.Close_Up_Down, y_pred))"
   ]
  },
  {
   "cell_type": "code",
   "execution_count": null,
   "metadata": {},
   "outputs": [],
   "source": [
    "clsf_report['-1.0']['f1-score']"
   ]
  },
  {
   "cell_type": "code",
   "execution_count": null,
   "metadata": {},
   "outputs": [],
   "source": [
    "from sklearn.metrics import precision_score, recall_score, f1_score, det_curve\n",
    "precision_score(y_test.Close_Up_Down, y_pred)"
   ]
  },
  {
   "cell_type": "code",
   "execution_count": null,
   "metadata": {},
   "outputs": [],
   "source": [
    "fpr_, fnr_, thresholds_ = det_curve(y_test.Close_Up_Down, y_pred)"
   ]
  },
  {
   "cell_type": "code",
   "execution_count": null,
   "metadata": {},
   "outputs": [],
   "source": [
    "fpr_"
   ]
  },
  {
   "cell_type": "code",
   "execution_count": null,
   "metadata": {},
   "outputs": [],
   "source": [
    "fnr_"
   ]
  },
  {
   "cell_type": "code",
   "execution_count": null,
   "metadata": {},
   "outputs": [],
   "source": [
    "thresholds_"
   ]
  },
  {
   "cell_type": "code",
   "execution_count": null,
   "metadata": {},
   "outputs": [],
   "source": []
  },
  {
   "cell_type": "code",
   "execution_count": null,
   "metadata": {},
   "outputs": [],
   "source": [
    "\n"
   ]
  },
  {
   "cell_type": "code",
   "execution_count": null,
   "metadata": {},
   "outputs": [],
   "source": []
  },
  {
   "cell_type": "code",
   "execution_count": null,
   "metadata": {},
   "outputs": [],
   "source": []
  },
  {
   "cell_type": "code",
   "execution_count": null,
   "metadata": {},
   "outputs": [],
   "source": []
  },
  {
   "cell_type": "code",
   "execution_count": null,
   "metadata": {},
   "outputs": [],
   "source": []
  },
  {
   "cell_type": "code",
   "execution_count": null,
   "metadata": {},
   "outputs": [],
   "source": []
  },
  {
   "cell_type": "code",
   "execution_count": null,
   "metadata": {},
   "outputs": [],
   "source": []
  }
 ],
 "metadata": {
  "kernelspec": {
   "display_name": "Python 3.10.2 64-bit",
   "language": "python",
   "name": "python3"
  },
  "language_info": {
   "codemirror_mode": {
    "name": "ipython",
    "version": 3
   },
   "file_extension": ".py",
   "mimetype": "text/x-python",
   "name": "python",
   "nbconvert_exporter": "python",
   "pygments_lexer": "ipython3",
   "version": "3.10.2"
  },
  "orig_nbformat": 4,
  "vscode": {
   "interpreter": {
    "hash": "44a86d6b397dbc6b70abfa92d378adf5d728e5b92754036aace887a2a3f0f490"
   }
  }
 },
 "nbformat": 4,
 "nbformat_minor": 2
}
